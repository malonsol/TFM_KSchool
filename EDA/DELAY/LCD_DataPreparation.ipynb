{
 "cells": [
  {
   "cell_type": "code",
   "execution_count": 1,
   "metadata": {
    "ExecuteTime": {
     "end_time": "2021-02-22T19:06:14.226630Z",
     "start_time": "2021-02-22T19:06:12.314676Z"
    }
   },
   "outputs": [],
   "source": [
    "# Import libraries to be used\n",
    "\n",
    "# Warning messages display\n",
    "## import warnings\n",
    "## warnings.filterwarnings(action='ignore') # https://docs.python.org/3/library/warnings.html#the-warnings-filter\n",
    "\n",
    "# Directories/Files management\n",
    "import os.path\n",
    "## from zipfile import ZipFile # De momento no ha hecho falta \n",
    "\n",
    "# Timing\n",
    "import time\n",
    "\n",
    "# Memory monitoring\n",
    "%load_ext memory_profiler\n",
    "### Use '%memit' to check at each point\n",
    "\n",
    "# Data analysis and wrangling\n",
    "import pandas as pd\n",
    "import numpy as np\n",
    "pd.set_option('display.max_columns', None) # Show all columns in DataFrames\n",
    "## pd.set_option('display.max_rows', None) # It greatly slows down the output display and freezes the kernel\n",
    "\n",
    "# Visualization\n",
    "import matplotlib.pyplot as plt\n",
    "import seaborn as sns\n",
    "%matplotlib inline\n",
    "plt.style.use('ggplot') # choose a style: 'plt.style.available'\n",
    "sns.set_theme(context='notebook',\n",
    "              style=\"darkgrid\") # {darkgrid, whitegrid, dark, white, ticks}\n",
    "palette = sns.color_palette(\"flare\", as_cmap=True);\n",
    "import altair as alt\n",
    "\n",
    "# Machine Learning\n",
    "## from sklearn.[...] import ..."
   ]
  },
  {
   "cell_type": "code",
   "execution_count": 2,
   "metadata": {
    "ExecuteTime": {
     "end_time": "2021-02-22T19:06:14.242621Z",
     "start_time": "2021-02-22T19:06:14.229624Z"
    }
   },
   "outputs": [],
   "source": [
    "t0 = time.perf_counter() "
   ]
  },
  {
   "cell_type": "code",
   "execution_count": 3,
   "metadata": {
    "ExecuteTime": {
     "end_time": "2021-02-22T19:06:14.258607Z",
     "start_time": "2021-02-22T19:06:14.246614Z"
    },
    "scrolled": true
   },
   "outputs": [
    {
     "name": "stdout",
     "output_type": "stream",
     "text": [
      "Running on Windows.\n",
      "root path\t C:\\Users\\turge\\CompartidoVM\\0.TFM\n"
     ]
    }
   ],
   "source": [
    "# Detect Operating System running and manage paths accordingly\n",
    "\n",
    "if os.name == 'nt': # Windows\n",
    "    root = r\"C:\\Users\\turge\\CompartidoVM\\0.TFM\"\n",
    "    print(\"Running on Windows.\")\n",
    "elif os.name == 'posix': # Ubuntu\n",
    "    root = \"/home/dsc/shared/0.TFM\"\n",
    "    print(\"Running on Ubuntu.\")\n",
    "print(\"root path\\t\", root)"
   ]
  },
  {
   "cell_type": "markdown",
   "metadata": {},
   "source": [
    "Additional information on each column meaning can be found [here](https://www.ncei.noaa.gov/data/local-climatological-data/doc/LCD_documentation.pLCD)."
   ]
  },
  {
   "cell_type": "markdown",
   "metadata": {},
   "source": [
    "___"
   ]
  },
  {
   "cell_type": "markdown",
   "metadata": {},
   "source": [
    "# Get the data"
   ]
  },
  {
   "cell_type": "markdown",
   "metadata": {},
   "source": [
    "## LCD individual file (2019)"
   ]
  },
  {
   "cell_type": "markdown",
   "metadata": {},
   "source": [
    "### Import file"
   ]
  },
  {
   "cell_type": "markdown",
   "metadata": {},
   "source": [
    "#### Define file path"
   ]
  },
  {
   "cell_type": "code",
   "execution_count": 4,
   "metadata": {
    "ExecuteTime": {
     "end_time": "2021-02-22T19:06:14.290588Z",
     "start_time": "2021-02-22T19:06:14.265603Z"
    },
    "scrolled": true
   },
   "outputs": [
    {
     "data": {
      "text/plain": [
       "'C:\\\\Users\\\\turge\\\\CompartidoVM\\\\0.TFM\\\\Output_Data\\\\NOAA\\\\LCD_files'"
      ]
     },
     "execution_count": 4,
     "metadata": {},
     "output_type": "execute_result"
    }
   ],
   "source": [
    "csv_files_path = os.path.join(root,\n",
    "                              \"Output_Data\",\n",
    "                              \"NOAA\",\n",
    "                              \"LCD_files\")\n",
    "csv_files_path"
   ]
  },
  {
   "cell_type": "code",
   "execution_count": 5,
   "metadata": {
    "ExecuteTime": {
     "end_time": "2021-02-22T19:06:14.306579Z",
     "start_time": "2021-02-22T19:06:14.293584Z"
    }
   },
   "outputs": [
    {
     "data": {
      "text/plain": [
       "'C:\\\\Users\\\\turge\\\\CompartidoVM\\\\0.TFM\\\\Output_Data\\\\NOAA\\\\LCD_files\\\\ABE_14737.csv'"
      ]
     },
     "execution_count": 5,
     "metadata": {},
     "output_type": "execute_result"
    }
   ],
   "source": [
    "individualLCLCDileName = \"ABE_14737.csv\"\n",
    "individualLCLCDileNamePath = os.path.join(csv_files_path, individualLCLCDileName)\n",
    "individualLCLCDileNamePath"
   ]
  },
  {
   "cell_type": "markdown",
   "metadata": {},
   "source": [
    "#### Select the interesting columns"
   ]
  },
  {
   "cell_type": "code",
   "execution_count": 6,
   "metadata": {
    "ExecuteTime": {
     "end_time": "2021-02-22T19:06:14.338557Z",
     "start_time": "2021-02-22T19:06:14.312573Z"
    }
   },
   "outputs": [],
   "source": [
    "cols = [\n",
    " 'STATION', # Station ID (VMO+WBAN)\n",
    " 'DATE', # Date: YYYY-MM-DD format / Time: 24-hour clock in local standard time (LST)\n",
    "#  'LATITUDE',\n",
    "#  'LONGITUDE',\n",
    "#  'ELEVATION',\n",
    "#  'NAME',\n",
    "#  'REPORT_TYPE',\n",
    "#  'SOURCE',\n",
    " 'HourlyAltimeterSetting', # Atmospheric pressure reduced to sea level using temperature profile of the “standard” atmosphere\n",
    "#  'HourlyDewPointTemperature',\n",
    " 'HourlyDryBulbTemperature', # Commonly used as the standard air temperature reported (given in whole degrees Fahrenheit)\n",
    " 'HourlyPrecipitation', # Amount of precipitation in inches to hundredths over the past hour (“T” indicates a trace amount)\n",
    "#  'HourlyPresentWeatherType',\n",
    "#  'HourlyPressureChange',\n",
    "#  'HourlyPressureTendency',\n",
    " 'HourlyRelativeHumidity', # Relative humidity given to the nearest whole percentage\n",
    " 'HourlySkyConditions', # A report of each cloud layer (up to 3).Each layer given in the following format: ccc:ll-xxx where:\n",
    "                         ## ccc = Coverage: CLR (clear sky), FEW (few clouds), SCT (scattered clouds), BKN (broken clouds),\n",
    "                         ##                 OVC (overcast), VV (obscured sky), 10 (partially obscured sky) → Last layer used (*)\n",
    "                         ##  ll = Layer amount given in eighths (aka “oktas”) → Not used\n",
    "                         ## xxx = Cloud base height at lowest point of layer → Not used   \n",
    "                             ## (*) NOTE: Since up to 3 cloud layers can be reported, the full state of the sky \n",
    "                             ##           can best be determined by the contraction given for the last layer\n",
    "#  'HourlySeaLevelPressure',\n",
    "#  'HourlyStationPressure',\n",
    " 'HourlyVisibility', # Horizontal distance an object can be seen and identified given in whole miles\n",
    "#  'HourlyWetBulbTemperature',\n",
    "#  'HourlyWindDirection', # wind direction/speed/gust variables would be useful in case RWY Magnetic Heading was also available\n",
    "#  'HourlyWindGustSpeed',   # without it, there is no use for it. Strong crosswinds can greatly penalize A/C performance;\n",
    "#  'HourlyWindSpeed',       # however, RWYs are normally designed so that headwind prevails to improve A/C performance\n",
    "#  'Sunrise',\n",
    "#  'Sunset',\n",
    "#  'DailyAverageDewPointTemperature',\n",
    "#  'DailyAverageDryBulbTemperature',\n",
    "#  'DailyAverageRelativeHumidity',\n",
    "#  'DailyAverageSeaLevelPressure',\n",
    "#  'DailyAverageStationPressure',\n",
    "#  'DailyAverageWetBulbTemperature',\n",
    "#  'DailyAverageWindSpeed',\n",
    "#  'DailyCoolingDegreeDays',\n",
    "#  'DailyDepartureFromNormalAverageTemperature',\n",
    "#  'DailyHeatingDegreeDays',\n",
    "#  'DailyMaximumDryBulbTemperature',\n",
    "#  'DailyMinimumDryBulbTemperature',\n",
    "#  'DailyPeakWindDirection',\n",
    "#  'DailyPeakWindSpeed',\n",
    "#  'DailyPrecipitation',\n",
    "#  'DailySnowDepth',\n",
    "#  'DailySnowfall',\n",
    "#  'DailySustainedWindDirection',\n",
    "#  'DailySustainedWindSpeed',\n",
    "#  'DailyWeather',\n",
    "#  'MonthlyAverageRH',\n",
    "#  'MonthlyDaysWithGT001Precip',\n",
    "#  'MonthlyDaysWithGT010Precip',\n",
    "#  'MonthlyDaysWithGT32Temp',\n",
    "#  'MonthlyDaysWithGT90Temp',\n",
    "#  'MonthlyDaysWithLT0Temp',\n",
    "#  'MonthlyDaysWithLT32Temp',\n",
    "#  'MonthlyDepartureFromNormalAverageTemperature',\n",
    "#  'MonthlyDepartureFromNormalCoolingDegreeDays',\n",
    "#  'MonthlyDepartureFromNormalHeatingDegreeDays',\n",
    "#  'MonthlyDepartureFromNormalMaximumTemperature',\n",
    "#  'MonthlyDepartureFromNormalMinimumTemperature',\n",
    "#  'MonthlyDepartureFromNormalPrecipitation',\n",
    "#  'MonthlyDewpointTemperature',\n",
    "#  'MonthlyGreatestPrecip',\n",
    "#  'MonthlyGreatestPrecipDate',\n",
    "#  'MonthlyGreatestSnowDepth',\n",
    "#  'MonthlyGreatestSnowDepthDate',\n",
    "#  'MonthlyGreatestSnowfall',\n",
    "#  'MonthlyGreatestSnowfallDate',\n",
    "#  'MonthlyMaxSeaLevelPressureValue',\n",
    "#  'MonthlyMaxSeaLevelPressureValueDate',\n",
    "#  'MonthlyMaxSeaLevelPressureValueTime',\n",
    "#  'MonthlyMaximumTemperature',\n",
    "#  'MonthlyMeanTemperature',\n",
    "#  'MonthlyMinSeaLevelPressureValue',\n",
    "#  'MonthlyMinSeaLevelPressureValueDate',\n",
    "#  'MonthlyMinSeaLevelPressureValueTime',\n",
    "#  'MonthlyMinimumTemperature',\n",
    "#  'MonthlySeaLevelPressure',\n",
    "#  'MonthlyStationPressure',\n",
    "#  'MonthlyTotalLiquidPrecipitation',\n",
    "#  'MonthlyTotalSnowfall',\n",
    "#  'MonthlyWetBulb',\n",
    "#  'AWND',\n",
    "#  'CDSD',\n",
    "#  'CLDD',\n",
    "#  'DSNW',\n",
    "#  'HDSD',\n",
    "#  'HTDD',\n",
    "#  'NormalsCoolingDegreeDay',\n",
    "#  'NormalsHeatingDegreeDay',\n",
    "#  'ShortDurationEndDate005',\n",
    "#  'ShortDurationEndDate010',\n",
    "#  'ShortDurationEndDate015',\n",
    "#  'ShortDurationEndDate020',\n",
    "#  'ShortDurationEndDate030',\n",
    "#  'ShortDurationEndDate045',\n",
    "#  'ShortDurationEndDate060',\n",
    "#  'ShortDurationEndDate080',\n",
    "#  'ShortDurationEndDate100',\n",
    "#  'ShortDurationEndDate120',\n",
    "#  'ShortDurationEndDate150',\n",
    "#  'ShortDurationEndDate180',\n",
    "#  'ShortDurationPrecipitationValue005',\n",
    "#  'ShortDurationPrecipitationValue010',\n",
    "#  'ShortDurationPrecipitationValue015',\n",
    "#  'ShortDurationPrecipitationValue020',\n",
    "#  'ShortDurationPrecipitationValue030',\n",
    "#  'ShortDurationPrecipitationValue045',\n",
    "#  'ShortDurationPrecipitationValue060',\n",
    "#  'ShortDurationPrecipitationValue080',\n",
    "#  'ShortDurationPrecipitationValue100',\n",
    "#  'ShortDurationPrecipitationValue120',\n",
    "#  'ShortDurationPrecipitationValue150',\n",
    "#  'ShortDurationPrecipitationValue180',\n",
    " 'REM', # Surface Weather Observations & Reports (METAR)\n",
    "#  'BackupDirection',\n",
    "#  'BackupDistance',\n",
    "#  'BackupDistanceUnit',\n",
    "#  'BackupElements',\n",
    "#  'BackupElevation',\n",
    "#  'BackupEquipment',\n",
    "#  'BackupLatitude',\n",
    "#  'BackupLongitude',\n",
    "#  'BackupName',\n",
    "#  'WindEquipmentChangeDate'\n",
    "]"
   ]
  },
  {
   "cell_type": "markdown",
   "metadata": {},
   "source": [
    "Selected columns:\n",
    "\n",
    "- `STATION` → Station ID (VMO+WBAN)  \n",
    "- `DATE` → Date: YYYY-MM-DD format / Time: 24-hour clock in local standard time (LST)  \n",
    "- `HourlyAltimeterSetting` → Atmospheric pressure reduced to sea level using temperature profile of the “standard” atmosphere  \n",
    "- `HourlyDryBulbTemperature` → Commonly used as the standard air temperature reported (given in whole degrees Fahrenheit)  \n",
    "- `HourlyPrecipitation` → Amount of precipitation in inches to hundredths over the past hour (“T” indicates a trace amount)   \n",
    "- `HourlyRelativeHumidity` → Relative humidity given to the nearest whole percentage  \n",
    "- `HourlySkyConditions` → A report of each cloud layer (up to 3).  \n",
    "Each layer given in the following format: `ccc:ll-xxx` where:\n",
    "    - ccc = Coverage:\n",
    "        - CLR (clear sky)\n",
    "        - FEW (few clouds)\n",
    "        - SCT (scattered clouds)\n",
    "        - BKN (broken clouds)\n",
    "        - OVC (overcast)\n",
    "        - VV (obscured sky)\n",
    "        - 10 (partially obscured sky) → **Only last layer used (*)**\n",
    "    - ll = Layer amount given in eighths (aka “oktas”) → *Not used*\n",
    "    - xxx = Cloud base height at lowest point of layer → *Not used*  \n",
    "    (*) NOTE: Since up to 3 cloud layers can be reported, the full state of the sky can best be determined by the contraction given for the last layer.\n",
    "- `HourlyVisibility` → Horizontal distance an object can be seen and identified given in whole miles\n",
    "- `REM` → Surface Weather Observations & Reports (METAR)\n",
    "    \n",
    "Additional note for **wind**:  \n",
    "- `HourlyWindDirection`\n",
    "- `HourlyWindGustSpeed`\n",
    "- `HourlyWindSpeed`  \n",
    "Wind direction/speed/gust variables would be useful in case RWY Magnetic Heading was also available; without it, there is no use for the wind in the model. Strong crosswinds can greatly penalize A/C performance; however, RWYs are normally designed so that headwind prevails to improve A/C performance. Therefore, such type of winds should be unusual in average."
   ]
  },
  {
   "cell_type": "markdown",
   "metadata": {},
   "source": [
    "#### Import file (retrieving only the selected columns)"
   ]
  },
  {
   "cell_type": "code",
   "execution_count": 7,
   "metadata": {
    "ExecuteTime": {
     "end_time": "2021-02-22T19:06:14.574413Z",
     "start_time": "2021-02-22T19:06:14.341556Z"
    },
    "scrolled": true
   },
   "outputs": [
    {
     "data": {
      "text/html": [
       "<div>\n",
       "<style scoped>\n",
       "    .dataframe tbody tr th:only-of-type {\n",
       "        vertical-align: middle;\n",
       "    }\n",
       "\n",
       "    .dataframe tbody tr th {\n",
       "        vertical-align: top;\n",
       "    }\n",
       "\n",
       "    .dataframe thead th {\n",
       "        text-align: right;\n",
       "    }\n",
       "</style>\n",
       "<table border=\"1\" class=\"dataframe\">\n",
       "  <thead>\n",
       "    <tr style=\"text-align: right;\">\n",
       "      <th></th>\n",
       "      <th>STATION</th>\n",
       "      <th>DATE</th>\n",
       "      <th>HourlyAltimeterSetting</th>\n",
       "      <th>HourlyDryBulbTemperature</th>\n",
       "      <th>HourlyPrecipitation</th>\n",
       "      <th>HourlyRelativeHumidity</th>\n",
       "      <th>HourlySkyConditions</th>\n",
       "      <th>HourlyVisibility</th>\n",
       "      <th>REM</th>\n",
       "    </tr>\n",
       "  </thead>\n",
       "  <tbody>\n",
       "    <tr>\n",
       "      <th>13171</th>\n",
       "      <td>72517014737</td>\n",
       "      <td>2019-12-29T13:00:00</td>\n",
       "      <td>NaN</td>\n",
       "      <td>41.0</td>\n",
       "      <td>NaN</td>\n",
       "      <td>76.0</td>\n",
       "      <td>41</td>\n",
       "      <td>6.84</td>\n",
       "      <td>SYN08672517 12661 80605 10050 20011 30069 4021...</td>\n",
       "    </tr>\n",
       "    <tr>\n",
       "      <th>4547</th>\n",
       "      <td>72517014737</td>\n",
       "      <td>2019-05-06T13:51:00</td>\n",
       "      <td>29.98</td>\n",
       "      <td>72.0</td>\n",
       "      <td>0.00</td>\n",
       "      <td>57.0</td>\n",
       "      <td>SCT:04 45 SCT:04 55</td>\n",
       "      <td>10.00</td>\n",
       "      <td>MET10605/06/19 13:51:02 METAR KABE 061851Z 000...</td>\n",
       "    </tr>\n",
       "    <tr>\n",
       "      <th>12597</th>\n",
       "      <td>72517014737</td>\n",
       "      <td>2019-12-14T06:51:00</td>\n",
       "      <td>29.53</td>\n",
       "      <td>47.0</td>\n",
       "      <td>0.00</td>\n",
       "      <td>86.0</td>\n",
       "      <td>OVC:08 4</td>\n",
       "      <td>1.00</td>\n",
       "      <td>MET14012/14/19 06:51:02 METAR KABE 141151Z 070...</td>\n",
       "    </tr>\n",
       "    <tr>\n",
       "      <th>10423</th>\n",
       "      <td>72517014737</td>\n",
       "      <td>2019-10-15T03:51:00</td>\n",
       "      <td>30.14</td>\n",
       "      <td>44.0</td>\n",
       "      <td>0.00</td>\n",
       "      <td>79.0</td>\n",
       "      <td>CLR:00</td>\n",
       "      <td>10.00</td>\n",
       "      <td>MET10410/15/19 03:51:02 METAR KABE 150851Z 000...</td>\n",
       "    </tr>\n",
       "    <tr>\n",
       "      <th>644</th>\n",
       "      <td>72517014737</td>\n",
       "      <td>2019-01-19T18:32:00</td>\n",
       "      <td>30.00</td>\n",
       "      <td>34.0</td>\n",
       "      <td>0.01</td>\n",
       "      <td>75.0</td>\n",
       "      <td>BKN:07 28 OVC:08 38</td>\n",
       "      <td>2.00</td>\n",
       "      <td>MET13101/19/19 18:32:02 SPECI KABE 192332Z 080...</td>\n",
       "    </tr>\n",
       "  </tbody>\n",
       "</table>\n",
       "</div>"
      ],
      "text/plain": [
       "           STATION                 DATE HourlyAltimeterSetting  \\\n",
       "13171  72517014737  2019-12-29T13:00:00                    NaN   \n",
       "4547   72517014737  2019-05-06T13:51:00                  29.98   \n",
       "12597  72517014737  2019-12-14T06:51:00                  29.53   \n",
       "10423  72517014737  2019-10-15T03:51:00                  30.14   \n",
       "644    72517014737  2019-01-19T18:32:00                  30.00   \n",
       "\n",
       "       HourlyDryBulbTemperature HourlyPrecipitation  HourlyRelativeHumidity  \\\n",
       "13171                      41.0                 NaN                    76.0   \n",
       "4547                       72.0                0.00                    57.0   \n",
       "12597                      47.0                0.00                    86.0   \n",
       "10423                      44.0                0.00                    79.0   \n",
       "644                        34.0                0.01                    75.0   \n",
       "\n",
       "       HourlySkyConditions HourlyVisibility  \\\n",
       "13171                   41             6.84   \n",
       "4547   SCT:04 45 SCT:04 55            10.00   \n",
       "12597             OVC:08 4             1.00   \n",
       "10423               CLR:00            10.00   \n",
       "644    BKN:07 28 OVC:08 38             2.00   \n",
       "\n",
       "                                                     REM  \n",
       "13171  SYN08672517 12661 80605 10050 20011 30069 4021...  \n",
       "4547   MET10605/06/19 13:51:02 METAR KABE 061851Z 000...  \n",
       "12597  MET14012/14/19 06:51:02 METAR KABE 141151Z 070...  \n",
       "10423  MET10410/15/19 03:51:02 METAR KABE 150851Z 000...  \n",
       "644    MET13101/19/19 18:32:02 SPECI KABE 192332Z 080...  "
      ]
     },
     "execution_count": 7,
     "metadata": {},
     "output_type": "execute_result"
    }
   ],
   "source": [
    "lcd = pd.read_csv(individualLCLCDileNamePath,\n",
    "                  encoding='latin1',\n",
    "                  usecols=cols,\n",
    "                  low_memory = False)\n",
    "lcd.sample(5)"
   ]
  },
  {
   "cell_type": "markdown",
   "metadata": {},
   "source": [
    "## LCD multiple file concatenation (2019)"
   ]
  },
  {
   "cell_type": "markdown",
   "metadata": {},
   "source": [
    "### Retrieve file list"
   ]
  },
  {
   "cell_type": "markdown",
   "metadata": {},
   "source": [
    "Let's proceed with multiple-file importing, through concatenation into a single DataFrame."
   ]
  },
  {
   "cell_type": "code",
   "execution_count": 8,
   "metadata": {
    "ExecuteTime": {
     "end_time": "2021-02-22T19:06:14.589402Z",
     "start_time": "2021-02-22T19:06:14.579409Z"
    },
    "scrolled": true
   },
   "outputs": [
    {
     "data": {
      "text/plain": [
       "'C:\\\\Users\\\\turge\\\\CompartidoVM\\\\0.TFM\\\\Output_Data\\\\NOAA\\\\LCD_files'"
      ]
     },
     "execution_count": 8,
     "metadata": {},
     "output_type": "execute_result"
    }
   ],
   "source": [
    "directory_in_str = os.path.join(root,\n",
    "                                \"Output_Data\",\n",
    "                                \"NOAA\",\n",
    "                                \"LCD_files\")\n",
    "directory_in_str"
   ]
  },
  {
   "cell_type": "code",
   "execution_count": 9,
   "metadata": {
    "ExecuteTime": {
     "end_time": "2021-02-22T19:06:14.636377Z",
     "start_time": "2021-02-22T19:06:14.594401Z"
    },
    "scrolled": true
   },
   "outputs": [
    {
     "data": {
      "text/plain": [
       "['C:\\\\Users\\\\turge\\\\CompartidoVM\\\\0.TFM\\\\Output_Data\\\\NOAA\\\\LCD_files\\\\ABE_14737.csv',\n",
       " 'C:\\\\Users\\\\turge\\\\CompartidoVM\\\\0.TFM\\\\Output_Data\\\\NOAA\\\\LCD_files\\\\ABI_13962.csv',\n",
       " 'C:\\\\Users\\\\turge\\\\CompartidoVM\\\\0.TFM\\\\Output_Data\\\\NOAA\\\\LCD_files\\\\ABQ_23050.csv',\n",
       " 'C:\\\\Users\\\\turge\\\\CompartidoVM\\\\0.TFM\\\\Output_Data\\\\NOAA\\\\LCD_files\\\\ABR_14929.csv',\n",
       " 'C:\\\\Users\\\\turge\\\\CompartidoVM\\\\0.TFM\\\\Output_Data\\\\NOAA\\\\LCD_files\\\\ABY_13869.csv',\n",
       " 'C:\\\\Users\\\\turge\\\\CompartidoVM\\\\0.TFM\\\\Output_Data\\\\NOAA\\\\LCD_files\\\\ACK_14756.csv',\n",
       " 'C:\\\\Users\\\\turge\\\\CompartidoVM\\\\0.TFM\\\\Output_Data\\\\NOAA\\\\LCD_files\\\\ACT_13959.csv',\n",
       " 'C:\\\\Users\\\\turge\\\\CompartidoVM\\\\0.TFM\\\\Output_Data\\\\NOAA\\\\LCD_files\\\\ACV_24283.csv',\n",
       " 'C:\\\\Users\\\\turge\\\\CompartidoVM\\\\0.TFM\\\\Output_Data\\\\NOAA\\\\LCD_files\\\\ACY_93730.csv',\n",
       " 'C:\\\\Users\\\\turge\\\\CompartidoVM\\\\0.TFM\\\\Output_Data\\\\NOAA\\\\LCD_files\\\\ADK_25704.csv',\n",
       " 'C:\\\\Users\\\\turge\\\\CompartidoVM\\\\0.TFM\\\\Output_Data\\\\NOAA\\\\LCD_files\\\\ADQ_25501.csv',\n",
       " 'C:\\\\Users\\\\turge\\\\CompartidoVM\\\\0.TFM\\\\Output_Data\\\\NOAA\\\\LCD_files\\\\AEX_93915.csv',\n",
       " 'C:\\\\Users\\\\turge\\\\CompartidoVM\\\\0.TFM\\\\Output_Data\\\\NOAA\\\\LCD_files\\\\AGS_3820.csv',\n",
       " 'C:\\\\Users\\\\turge\\\\CompartidoVM\\\\0.TFM\\\\Output_Data\\\\NOAA\\\\LCD_files\\\\AKN_25503.csv',\n",
       " 'C:\\\\Users\\\\turge\\\\CompartidoVM\\\\0.TFM\\\\Output_Data\\\\NOAA\\\\LCD_files\\\\ALB_14735.csv',\n",
       " 'C:\\\\Users\\\\turge\\\\CompartidoVM\\\\0.TFM\\\\Output_Data\\\\NOAA\\\\LCD_files\\\\ALO_94910.csv',\n",
       " 'C:\\\\Users\\\\turge\\\\CompartidoVM\\\\0.TFM\\\\Output_Data\\\\NOAA\\\\LCD_files\\\\AMA_23047.csv',\n",
       " 'C:\\\\Users\\\\turge\\\\CompartidoVM\\\\0.TFM\\\\Output_Data\\\\NOAA\\\\LCD_files\\\\ANC_26451.csv',\n",
       " 'C:\\\\Users\\\\turge\\\\CompartidoVM\\\\0.TFM\\\\Output_Data\\\\NOAA\\\\LCD_files\\\\APN_94849.csv',\n",
       " 'C:\\\\Users\\\\turge\\\\CompartidoVM\\\\0.TFM\\\\Output_Data\\\\NOAA\\\\LCD_files\\\\ART_94790.csv',\n",
       " 'C:\\\\Users\\\\turge\\\\CompartidoVM\\\\0.TFM\\\\Output_Data\\\\NOAA\\\\LCD_files\\\\ASE_93073.csv',\n",
       " 'C:\\\\Users\\\\turge\\\\CompartidoVM\\\\0.TFM\\\\Output_Data\\\\NOAA\\\\LCD_files\\\\ATL_13874.csv',\n",
       " 'C:\\\\Users\\\\turge\\\\CompartidoVM\\\\0.TFM\\\\Output_Data\\\\NOAA\\\\LCD_files\\\\ATW_4825.csv',\n",
       " 'C:\\\\Users\\\\turge\\\\CompartidoVM\\\\0.TFM\\\\Output_Data\\\\NOAA\\\\LCD_files\\\\ATY_14946.csv',\n",
       " 'C:\\\\Users\\\\turge\\\\CompartidoVM\\\\0.TFM\\\\Output_Data\\\\NOAA\\\\LCD_files\\\\AUS_13958.csv',\n",
       " 'C:\\\\Users\\\\turge\\\\CompartidoVM\\\\0.TFM\\\\Output_Data\\\\NOAA\\\\LCD_files\\\\AVL_3812.csv',\n",
       " 'C:\\\\Users\\\\turge\\\\CompartidoVM\\\\0.TFM\\\\Output_Data\\\\NOAA\\\\LCD_files\\\\AVP_14777.csv',\n",
       " 'C:\\\\Users\\\\turge\\\\CompartidoVM\\\\0.TFM\\\\Output_Data\\\\NOAA\\\\LCD_files\\\\AZO_94815.csv',\n",
       " 'C:\\\\Users\\\\turge\\\\CompartidoVM\\\\0.TFM\\\\Output_Data\\\\NOAA\\\\LCD_files\\\\BDL_14740.csv',\n",
       " 'C:\\\\Users\\\\turge\\\\CompartidoVM\\\\0.TFM\\\\Output_Data\\\\NOAA\\\\LCD_files\\\\BET_26615.csv',\n",
       " 'C:\\\\Users\\\\turge\\\\CompartidoVM\\\\0.TFM\\\\Output_Data\\\\NOAA\\\\LCD_files\\\\BFF_24028.csv',\n",
       " 'C:\\\\Users\\\\turge\\\\CompartidoVM\\\\0.TFM\\\\Output_Data\\\\NOAA\\\\LCD_files\\\\BFL_23155.csv',\n",
       " 'C:\\\\Users\\\\turge\\\\CompartidoVM\\\\0.TFM\\\\Output_Data\\\\NOAA\\\\LCD_files\\\\BFM_13838.csv',\n",
       " 'C:\\\\Users\\\\turge\\\\CompartidoVM\\\\0.TFM\\\\Output_Data\\\\NOAA\\\\LCD_files\\\\BGM_4725.csv',\n",
       " 'C:\\\\Users\\\\turge\\\\CompartidoVM\\\\0.TFM\\\\Output_Data\\\\NOAA\\\\LCD_files\\\\BGR_14606.csv',\n",
       " 'C:\\\\Users\\\\turge\\\\CompartidoVM\\\\0.TFM\\\\Output_Data\\\\NOAA\\\\LCD_files\\\\BHM_13876.csv',\n",
       " 'C:\\\\Users\\\\turge\\\\CompartidoVM\\\\0.TFM\\\\Output_Data\\\\NOAA\\\\LCD_files\\\\BIL_24033.csv',\n",
       " 'C:\\\\Users\\\\turge\\\\CompartidoVM\\\\0.TFM\\\\Output_Data\\\\NOAA\\\\LCD_files\\\\BIS_24011.csv',\n",
       " 'C:\\\\Users\\\\turge\\\\CompartidoVM\\\\0.TFM\\\\Output_Data\\\\NOAA\\\\LCD_files\\\\BJI_14958.csv',\n",
       " 'C:\\\\Users\\\\turge\\\\CompartidoVM\\\\0.TFM\\\\Output_Data\\\\NOAA\\\\LCD_files\\\\BLI_24217.csv',\n",
       " 'C:\\\\Users\\\\turge\\\\CompartidoVM\\\\0.TFM\\\\Output_Data\\\\NOAA\\\\LCD_files\\\\BLV_13802.csv',\n",
       " 'C:\\\\Users\\\\turge\\\\CompartidoVM\\\\0.TFM\\\\Output_Data\\\\NOAA\\\\LCD_files\\\\BMI_54831.csv',\n",
       " 'C:\\\\Users\\\\turge\\\\CompartidoVM\\\\0.TFM\\\\Output_Data\\\\NOAA\\\\LCD_files\\\\BNA_13897.csv',\n",
       " 'C:\\\\Users\\\\turge\\\\CompartidoVM\\\\0.TFM\\\\Output_Data\\\\NOAA\\\\LCD_files\\\\BOI_24131.csv',\n",
       " 'C:\\\\Users\\\\turge\\\\CompartidoVM\\\\0.TFM\\\\Output_Data\\\\NOAA\\\\LCD_files\\\\BOS_14739.csv',\n",
       " 'C:\\\\Users\\\\turge\\\\CompartidoVM\\\\0.TFM\\\\Output_Data\\\\NOAA\\\\LCD_files\\\\BPT_12917.csv',\n",
       " 'C:\\\\Users\\\\turge\\\\CompartidoVM\\\\0.TFM\\\\Output_Data\\\\NOAA\\\\LCD_files\\\\BQK_53883.csv',\n",
       " 'C:\\\\Users\\\\turge\\\\CompartidoVM\\\\0.TFM\\\\Output_Data\\\\NOAA\\\\LCD_files\\\\BQN_11603.csv',\n",
       " 'C:\\\\Users\\\\turge\\\\CompartidoVM\\\\0.TFM\\\\Output_Data\\\\NOAA\\\\LCD_files\\\\BRD_94938.csv',\n",
       " 'C:\\\\Users\\\\turge\\\\CompartidoVM\\\\0.TFM\\\\Output_Data\\\\NOAA\\\\LCD_files\\\\BRO_12919.csv',\n",
       " 'C:\\\\Users\\\\turge\\\\CompartidoVM\\\\0.TFM\\\\Output_Data\\\\NOAA\\\\LCD_files\\\\BRW_27502.csv',\n",
       " 'C:\\\\Users\\\\turge\\\\CompartidoVM\\\\0.TFM\\\\Output_Data\\\\NOAA\\\\LCD_files\\\\BTM_24135.csv',\n",
       " 'C:\\\\Users\\\\turge\\\\CompartidoVM\\\\0.TFM\\\\Output_Data\\\\NOAA\\\\LCD_files\\\\BTR_13970.csv',\n",
       " 'C:\\\\Users\\\\turge\\\\CompartidoVM\\\\0.TFM\\\\Output_Data\\\\NOAA\\\\LCD_files\\\\BTV_14742.csv',\n",
       " 'C:\\\\Users\\\\turge\\\\CompartidoVM\\\\0.TFM\\\\Output_Data\\\\NOAA\\\\LCD_files\\\\BUF_14733.csv',\n",
       " 'C:\\\\Users\\\\turge\\\\CompartidoVM\\\\0.TFM\\\\Output_Data\\\\NOAA\\\\LCD_files\\\\BUR_23152.csv',\n",
       " 'C:\\\\Users\\\\turge\\\\CompartidoVM\\\\0.TFM\\\\Output_Data\\\\NOAA\\\\LCD_files\\\\BWI_93721.csv',\n",
       " 'C:\\\\Users\\\\turge\\\\CompartidoVM\\\\0.TFM\\\\Output_Data\\\\NOAA\\\\LCD_files\\\\BZN_24132.csv',\n",
       " 'C:\\\\Users\\\\turge\\\\CompartidoVM\\\\0.TFM\\\\Output_Data\\\\NOAA\\\\LCD_files\\\\CAE_13883.csv',\n",
       " 'C:\\\\Users\\\\turge\\\\CompartidoVM\\\\0.TFM\\\\Output_Data\\\\NOAA\\\\LCD_files\\\\CAK_14895.csv',\n",
       " 'C:\\\\Users\\\\turge\\\\CompartidoVM\\\\0.TFM\\\\Output_Data\\\\NOAA\\\\LCD_files\\\\CDC_93129.csv',\n",
       " 'C:\\\\Users\\\\turge\\\\CompartidoVM\\\\0.TFM\\\\Output_Data\\\\NOAA\\\\LCD_files\\\\CDV_26410.csv',\n",
       " 'C:\\\\Users\\\\turge\\\\CompartidoVM\\\\0.TFM\\\\Output_Data\\\\NOAA\\\\LCD_files\\\\CGI_3935.csv',\n",
       " 'C:\\\\Users\\\\turge\\\\CompartidoVM\\\\0.TFM\\\\Output_Data\\\\NOAA\\\\LCD_files\\\\CHA_13882.csv',\n",
       " 'C:\\\\Users\\\\turge\\\\CompartidoVM\\\\0.TFM\\\\Output_Data\\\\NOAA\\\\LCD_files\\\\CHO_93736.csv',\n",
       " 'C:\\\\Users\\\\turge\\\\CompartidoVM\\\\0.TFM\\\\Output_Data\\\\NOAA\\\\LCD_files\\\\CHS_13880.csv',\n",
       " 'C:\\\\Users\\\\turge\\\\CompartidoVM\\\\0.TFM\\\\Output_Data\\\\NOAA\\\\LCD_files\\\\CID_14990.csv',\n",
       " 'C:\\\\Users\\\\turge\\\\CompartidoVM\\\\0.TFM\\\\Output_Data\\\\NOAA\\\\LCD_files\\\\CIU_4869.csv',\n",
       " 'C:\\\\Users\\\\turge\\\\CompartidoVM\\\\0.TFM\\\\Output_Data\\\\NOAA\\\\LCD_files\\\\CKB_3802.csv',\n",
       " 'C:\\\\Users\\\\turge\\\\CompartidoVM\\\\0.TFM\\\\Output_Data\\\\NOAA\\\\LCD_files\\\\CLE_14820.csv',\n",
       " 'C:\\\\Users\\\\turge\\\\CompartidoVM\\\\0.TFM\\\\Output_Data\\\\NOAA\\\\LCD_files\\\\CLL_3904.csv',\n",
       " 'C:\\\\Users\\\\turge\\\\CompartidoVM\\\\0.TFM\\\\Output_Data\\\\NOAA\\\\LCD_files\\\\CLT_13881.csv',\n",
       " 'C:\\\\Users\\\\turge\\\\CompartidoVM\\\\0.TFM\\\\Output_Data\\\\NOAA\\\\LCD_files\\\\CMH_14821.csv',\n",
       " 'C:\\\\Users\\\\turge\\\\CompartidoVM\\\\0.TFM\\\\Output_Data\\\\NOAA\\\\LCD_files\\\\CMI_94870.csv',\n",
       " 'C:\\\\Users\\\\turge\\\\CompartidoVM\\\\0.TFM\\\\Output_Data\\\\NOAA\\\\LCD_files\\\\CMX_14858.csv',\n",
       " 'C:\\\\Users\\\\turge\\\\CompartidoVM\\\\0.TFM\\\\Output_Data\\\\NOAA\\\\LCD_files\\\\CNY_93075.csv',\n",
       " 'C:\\\\Users\\\\turge\\\\CompartidoVM\\\\0.TFM\\\\Output_Data\\\\NOAA\\\\LCD_files\\\\COD_24045.csv',\n",
       " 'C:\\\\Users\\\\turge\\\\CompartidoVM\\\\0.TFM\\\\Output_Data\\\\NOAA\\\\LCD_files\\\\COS_93037.csv',\n",
       " 'C:\\\\Users\\\\turge\\\\CompartidoVM\\\\0.TFM\\\\Output_Data\\\\NOAA\\\\LCD_files\\\\COU_3945.csv',\n",
       " 'C:\\\\Users\\\\turge\\\\CompartidoVM\\\\0.TFM\\\\Output_Data\\\\NOAA\\\\LCD_files\\\\CPR_24089.csv',\n",
       " 'C:\\\\Users\\\\turge\\\\CompartidoVM\\\\0.TFM\\\\Output_Data\\\\NOAA\\\\LCD_files\\\\CRP_12924.csv',\n",
       " 'C:\\\\Users\\\\turge\\\\CompartidoVM\\\\0.TFM\\\\Output_Data\\\\NOAA\\\\LCD_files\\\\CRW_13866.csv',\n",
       " 'C:\\\\Users\\\\turge\\\\CompartidoVM\\\\0.TFM\\\\Output_Data\\\\NOAA\\\\LCD_files\\\\CSG_93842.csv',\n",
       " 'C:\\\\Users\\\\turge\\\\CompartidoVM\\\\0.TFM\\\\Output_Data\\\\NOAA\\\\LCD_files\\\\CVG_93814.csv',\n",
       " 'C:\\\\Users\\\\turge\\\\CompartidoVM\\\\0.TFM\\\\Output_Data\\\\NOAA\\\\LCD_files\\\\CWA_94890.csv',\n",
       " 'C:\\\\Users\\\\turge\\\\CompartidoVM\\\\0.TFM\\\\Output_Data\\\\NOAA\\\\LCD_files\\\\CYS_24018.csv',\n",
       " 'C:\\\\Users\\\\turge\\\\CompartidoVM\\\\0.TFM\\\\Output_Data\\\\NOAA\\\\LCD_files\\\\DAB_12834.csv',\n",
       " 'C:\\\\Users\\\\turge\\\\CompartidoVM\\\\0.TFM\\\\Output_Data\\\\NOAA\\\\LCD_files\\\\DAL_13960.csv',\n",
       " 'C:\\\\Users\\\\turge\\\\CompartidoVM\\\\0.TFM\\\\Output_Data\\\\NOAA\\\\LCD_files\\\\DAY_93815.csv',\n",
       " 'C:\\\\Users\\\\turge\\\\CompartidoVM\\\\0.TFM\\\\Output_Data\\\\NOAA\\\\LCD_files\\\\DBQ_94908.csv',\n",
       " 'C:\\\\Users\\\\turge\\\\CompartidoVM\\\\0.TFM\\\\Output_Data\\\\NOAA\\\\LCD_files\\\\DCA_13743.csv',\n",
       " 'C:\\\\Users\\\\turge\\\\CompartidoVM\\\\0.TFM\\\\Output_Data\\\\NOAA\\\\LCD_files\\\\DEN_3017.csv',\n",
       " 'C:\\\\Users\\\\turge\\\\CompartidoVM\\\\0.TFM\\\\Output_Data\\\\NOAA\\\\LCD_files\\\\DFW_3927.csv',\n",
       " 'C:\\\\Users\\\\turge\\\\CompartidoVM\\\\0.TFM\\\\Output_Data\\\\NOAA\\\\LCD_files\\\\DLG_25513.csv',\n",
       " 'C:\\\\Users\\\\turge\\\\CompartidoVM\\\\0.TFM\\\\Output_Data\\\\NOAA\\\\LCD_files\\\\DLH_14913.csv',\n",
       " 'C:\\\\Users\\\\turge\\\\CompartidoVM\\\\0.TFM\\\\Output_Data\\\\NOAA\\\\LCD_files\\\\DRO_93005.csv',\n",
       " 'C:\\\\Users\\\\turge\\\\CompartidoVM\\\\0.TFM\\\\Output_Data\\\\NOAA\\\\LCD_files\\\\DRT_22010.csv',\n",
       " 'C:\\\\Users\\\\turge\\\\CompartidoVM\\\\0.TFM\\\\Output_Data\\\\NOAA\\\\LCD_files\\\\DSM_14933.csv',\n",
       " 'C:\\\\Users\\\\turge\\\\CompartidoVM\\\\0.TFM\\\\Output_Data\\\\NOAA\\\\LCD_files\\\\DTW_94847.csv',\n",
       " 'C:\\\\Users\\\\turge\\\\CompartidoVM\\\\0.TFM\\\\Output_Data\\\\NOAA\\\\LCD_files\\\\DVL_94928.csv',\n",
       " 'C:\\\\Users\\\\turge\\\\CompartidoVM\\\\0.TFM\\\\Output_Data\\\\NOAA\\\\LCD_files\\\\EAR_14905.csv',\n",
       " 'C:\\\\Users\\\\turge\\\\CompartidoVM\\\\0.TFM\\\\Output_Data\\\\NOAA\\\\LCD_files\\\\EAU_14991.csv',\n",
       " 'C:\\\\Users\\\\turge\\\\CompartidoVM\\\\0.TFM\\\\Output_Data\\\\NOAA\\\\LCD_files\\\\ECP_73805.csv',\n",
       " 'C:\\\\Users\\\\turge\\\\CompartidoVM\\\\0.TFM\\\\Output_Data\\\\NOAA\\\\LCD_files\\\\EGE_23063.csv',\n",
       " 'C:\\\\Users\\\\turge\\\\CompartidoVM\\\\0.TFM\\\\Output_Data\\\\NOAA\\\\LCD_files\\\\EKO_24121.csv',\n",
       " 'C:\\\\Users\\\\turge\\\\CompartidoVM\\\\0.TFM\\\\Output_Data\\\\NOAA\\\\LCD_files\\\\ELM_14748.csv',\n",
       " 'C:\\\\Users\\\\turge\\\\CompartidoVM\\\\0.TFM\\\\Output_Data\\\\NOAA\\\\LCD_files\\\\ELP_23044.csv',\n",
       " 'C:\\\\Users\\\\turge\\\\CompartidoVM\\\\0.TFM\\\\Output_Data\\\\NOAA\\\\LCD_files\\\\ERI_14860.csv',\n",
       " 'C:\\\\Users\\\\turge\\\\CompartidoVM\\\\0.TFM\\\\Output_Data\\\\NOAA\\\\LCD_files\\\\EUG_24221.csv',\n",
       " 'C:\\\\Users\\\\turge\\\\CompartidoVM\\\\0.TFM\\\\Output_Data\\\\NOAA\\\\LCD_files\\\\EVV_93817.csv',\n",
       " 'C:\\\\Users\\\\turge\\\\CompartidoVM\\\\0.TFM\\\\Output_Data\\\\NOAA\\\\LCD_files\\\\EWN_93719.csv',\n",
       " 'C:\\\\Users\\\\turge\\\\CompartidoVM\\\\0.TFM\\\\Output_Data\\\\NOAA\\\\LCD_files\\\\EWR_14734.csv',\n",
       " 'C:\\\\Users\\\\turge\\\\CompartidoVM\\\\0.TFM\\\\Output_Data\\\\NOAA\\\\LCD_files\\\\EYW_12836.csv',\n",
       " 'C:\\\\Users\\\\turge\\\\CompartidoVM\\\\0.TFM\\\\Output_Data\\\\NOAA\\\\LCD_files\\\\FAI_26411.csv',\n",
       " 'C:\\\\Users\\\\turge\\\\CompartidoVM\\\\0.TFM\\\\Output_Data\\\\NOAA\\\\LCD_files\\\\FAR_14914.csv',\n",
       " 'C:\\\\Users\\\\turge\\\\CompartidoVM\\\\0.TFM\\\\Output_Data\\\\NOAA\\\\LCD_files\\\\FAT_93193.csv',\n",
       " 'C:\\\\Users\\\\turge\\\\CompartidoVM\\\\0.TFM\\\\Output_Data\\\\NOAA\\\\LCD_files\\\\FAY_93740.csv',\n",
       " 'C:\\\\Users\\\\turge\\\\CompartidoVM\\\\0.TFM\\\\Output_Data\\\\NOAA\\\\LCD_files\\\\FLG_3103.csv',\n",
       " 'C:\\\\Users\\\\turge\\\\CompartidoVM\\\\0.TFM\\\\Output_Data\\\\NOAA\\\\LCD_files\\\\FLL_12849.csv',\n",
       " 'C:\\\\Users\\\\turge\\\\CompartidoVM\\\\0.TFM\\\\Output_Data\\\\NOAA\\\\LCD_files\\\\FNT_14826.csv',\n",
       " 'C:\\\\Users\\\\turge\\\\CompartidoVM\\\\0.TFM\\\\Output_Data\\\\NOAA\\\\LCD_files\\\\FSD_14944.csv',\n",
       " 'C:\\\\Users\\\\turge\\\\CompartidoVM\\\\0.TFM\\\\Output_Data\\\\NOAA\\\\LCD_files\\\\FSM_13964.csv',\n",
       " 'C:\\\\Users\\\\turge\\\\CompartidoVM\\\\0.TFM\\\\Output_Data\\\\NOAA\\\\LCD_files\\\\FWA_14827.csv',\n",
       " 'C:\\\\Users\\\\turge\\\\CompartidoVM\\\\0.TFM\\\\Output_Data\\\\NOAA\\\\LCD_files\\\\GCC_94023.csv',\n",
       " 'C:\\\\Users\\\\turge\\\\CompartidoVM\\\\0.TFM\\\\Output_Data\\\\NOAA\\\\LCD_files\\\\GCK_23064.csv',\n",
       " 'C:\\\\Users\\\\turge\\\\CompartidoVM\\\\0.TFM\\\\Output_Data\\\\NOAA\\\\LCD_files\\\\GEG_24157.csv',\n",
       " 'C:\\\\Users\\\\turge\\\\CompartidoVM\\\\0.TFM\\\\Output_Data\\\\NOAA\\\\LCD_files\\\\GFK_14916.csv',\n",
       " 'C:\\\\Users\\\\turge\\\\CompartidoVM\\\\0.TFM\\\\Output_Data\\\\NOAA\\\\LCD_files\\\\GGG_3901.csv',\n",
       " 'C:\\\\Users\\\\turge\\\\CompartidoVM\\\\0.TFM\\\\Output_Data\\\\NOAA\\\\LCD_files\\\\GJT_23066.csv',\n",
       " 'C:\\\\Users\\\\turge\\\\CompartidoVM\\\\0.TFM\\\\Output_Data\\\\NOAA\\\\LCD_files\\\\GNV_12816.csv',\n",
       " 'C:\\\\Users\\\\turge\\\\CompartidoVM\\\\0.TFM\\\\Output_Data\\\\NOAA\\\\LCD_files\\\\GPT_93874.csv',\n",
       " 'C:\\\\Users\\\\turge\\\\CompartidoVM\\\\0.TFM\\\\Output_Data\\\\NOAA\\\\LCD_files\\\\GRB_14898.csv',\n",
       " 'C:\\\\Users\\\\turge\\\\CompartidoVM\\\\0.TFM\\\\Output_Data\\\\NOAA\\\\LCD_files\\\\GRI_14935.csv',\n",
       " 'C:\\\\Users\\\\turge\\\\CompartidoVM\\\\0.TFM\\\\Output_Data\\\\NOAA\\\\LCD_files\\\\GRK_3902.csv',\n",
       " 'C:\\\\Users\\\\turge\\\\CompartidoVM\\\\0.TFM\\\\Output_Data\\\\NOAA\\\\LCD_files\\\\GRR_94860.csv',\n",
       " 'C:\\\\Users\\\\turge\\\\CompartidoVM\\\\0.TFM\\\\Output_Data\\\\NOAA\\\\LCD_files\\\\GSO_13723.csv',\n",
       " 'C:\\\\Users\\\\turge\\\\CompartidoVM\\\\0.TFM\\\\Output_Data\\\\NOAA\\\\LCD_files\\\\GSP_3870.csv',\n",
       " 'C:\\\\Users\\\\turge\\\\CompartidoVM\\\\0.TFM\\\\Output_Data\\\\NOAA\\\\LCD_files\\\\GST_25322.csv',\n",
       " 'C:\\\\Users\\\\turge\\\\CompartidoVM\\\\0.TFM\\\\Output_Data\\\\NOAA\\\\LCD_files\\\\GTF_24143.csv',\n",
       " 'C:\\\\Users\\\\turge\\\\CompartidoVM\\\\0.TFM\\\\Output_Data\\\\NOAA\\\\LCD_files\\\\GTR_53893.csv',\n",
       " 'C:\\\\Users\\\\turge\\\\CompartidoVM\\\\0.TFM\\\\Output_Data\\\\NOAA\\\\LCD_files\\\\GUC_93007.csv',\n",
       " 'C:\\\\Users\\\\turge\\\\CompartidoVM\\\\0.TFM\\\\Output_Data\\\\NOAA\\\\LCD_files\\\\GUM_41415.csv',\n",
       " 'C:\\\\Users\\\\turge\\\\CompartidoVM\\\\0.TFM\\\\Output_Data\\\\NOAA\\\\LCD_files\\\\HDN_94025.csv',\n",
       " 'C:\\\\Users\\\\turge\\\\CompartidoVM\\\\0.TFM\\\\Output_Data\\\\NOAA\\\\LCD_files\\\\HGR_93706.csv',\n",
       " 'C:\\\\Users\\\\turge\\\\CompartidoVM\\\\0.TFM\\\\Output_Data\\\\NOAA\\\\LCD_files\\\\HIB_94931.csv',\n",
       " 'C:\\\\Users\\\\turge\\\\CompartidoVM\\\\0.TFM\\\\Output_Data\\\\NOAA\\\\LCD_files\\\\HLN_24144.csv',\n",
       " 'C:\\\\Users\\\\turge\\\\CompartidoVM\\\\0.TFM\\\\Output_Data\\\\NOAA\\\\LCD_files\\\\HNL_22521.csv',\n",
       " 'C:\\\\Users\\\\turge\\\\CompartidoVM\\\\0.TFM\\\\Output_Data\\\\NOAA\\\\LCD_files\\\\HOB_93034.csv',\n",
       " 'C:\\\\Users\\\\turge\\\\CompartidoVM\\\\0.TFM\\\\Output_Data\\\\NOAA\\\\LCD_files\\\\HOU_12918.csv',\n",
       " 'C:\\\\Users\\\\turge\\\\CompartidoVM\\\\0.TFM\\\\Output_Data\\\\NOAA\\\\LCD_files\\\\HPN_94745.csv',\n",
       " 'C:\\\\Users\\\\turge\\\\CompartidoVM\\\\0.TFM\\\\Output_Data\\\\NOAA\\\\LCD_files\\\\HSV_3856.csv',\n",
       " 'C:\\\\Users\\\\turge\\\\CompartidoVM\\\\0.TFM\\\\Output_Data\\\\NOAA\\\\LCD_files\\\\HTS_3860.csv',\n",
       " 'C:\\\\Users\\\\turge\\\\CompartidoVM\\\\0.TFM\\\\Output_Data\\\\NOAA\\\\LCD_files\\\\HVN_14758.csv',\n",
       " 'C:\\\\Users\\\\turge\\\\CompartidoVM\\\\0.TFM\\\\Output_Data\\\\NOAA\\\\LCD_files\\\\HYA_94720.csv',\n",
       " 'C:\\\\Users\\\\turge\\\\CompartidoVM\\\\0.TFM\\\\Output_Data\\\\NOAA\\\\LCD_files\\\\HYS_3968.csv',\n",
       " 'C:\\\\Users\\\\turge\\\\CompartidoVM\\\\0.TFM\\\\Output_Data\\\\NOAA\\\\LCD_files\\\\IAD_93738.csv',\n",
       " 'C:\\\\Users\\\\turge\\\\CompartidoVM\\\\0.TFM\\\\Output_Data\\\\NOAA\\\\LCD_files\\\\IAH_12960.csv',\n",
       " 'C:\\\\Users\\\\turge\\\\CompartidoVM\\\\0.TFM\\\\Output_Data\\\\NOAA\\\\LCD_files\\\\ICT_3928.csv',\n",
       " 'C:\\\\Users\\\\turge\\\\CompartidoVM\\\\0.TFM\\\\Output_Data\\\\NOAA\\\\LCD_files\\\\IDA_24145.csv',\n",
       " 'C:\\\\Users\\\\turge\\\\CompartidoVM\\\\0.TFM\\\\Output_Data\\\\NOAA\\\\LCD_files\\\\ILM_13748.csv',\n",
       " 'C:\\\\Users\\\\turge\\\\CompartidoVM\\\\0.TFM\\\\Output_Data\\\\NOAA\\\\LCD_files\\\\IMT_94893.csv',\n",
       " 'C:\\\\Users\\\\turge\\\\CompartidoVM\\\\0.TFM\\\\Output_Data\\\\NOAA\\\\LCD_files\\\\IND_93819.csv',\n",
       " 'C:\\\\Users\\\\turge\\\\CompartidoVM\\\\0.TFM\\\\Output_Data\\\\NOAA\\\\LCD_files\\\\INL_14918.csv',\n",
       " 'C:\\\\Users\\\\turge\\\\CompartidoVM\\\\0.TFM\\\\Output_Data\\\\NOAA\\\\LCD_files\\\\ISN_94014.csv',\n",
       " 'C:\\\\Users\\\\turge\\\\CompartidoVM\\\\0.TFM\\\\Output_Data\\\\NOAA\\\\LCD_files\\\\ISP_4781.csv',\n",
       " 'C:\\\\Users\\\\turge\\\\CompartidoVM\\\\0.TFM\\\\Output_Data\\\\NOAA\\\\LCD_files\\\\ITH_94761.csv',\n",
       " 'C:\\\\Users\\\\turge\\\\CompartidoVM\\\\0.TFM\\\\Output_Data\\\\NOAA\\\\LCD_files\\\\ITO_21504.csv',\n",
       " 'C:\\\\Users\\\\turge\\\\CompartidoVM\\\\0.TFM\\\\Output_Data\\\\NOAA\\\\LCD_files\\\\JAC_24166.csv',\n",
       " 'C:\\\\Users\\\\turge\\\\CompartidoVM\\\\0.TFM\\\\Output_Data\\\\NOAA\\\\LCD_files\\\\JAN_3940.csv',\n",
       " 'C:\\\\Users\\\\turge\\\\CompartidoVM\\\\0.TFM\\\\Output_Data\\\\NOAA\\\\LCD_files\\\\JAX_13889.csv',\n",
       " 'C:\\\\Users\\\\turge\\\\CompartidoVM\\\\0.TFM\\\\Output_Data\\\\NOAA\\\\LCD_files\\\\JFK_94789.csv',\n",
       " 'C:\\\\Users\\\\turge\\\\CompartidoVM\\\\0.TFM\\\\Output_Data\\\\NOAA\\\\LCD_files\\\\JLN_13987.csv',\n",
       " 'C:\\\\Users\\\\turge\\\\CompartidoVM\\\\0.TFM\\\\Output_Data\\\\NOAA\\\\LCD_files\\\\JMS_14919.csv',\n",
       " 'C:\\\\Users\\\\turge\\\\CompartidoVM\\\\0.TFM\\\\Output_Data\\\\NOAA\\\\LCD_files\\\\JNU_25309.csv',\n",
       " 'C:\\\\Users\\\\turge\\\\CompartidoVM\\\\0.TFM\\\\Output_Data\\\\NOAA\\\\LCD_files\\\\KOA_21510.csv',\n",
       " 'C:\\\\Users\\\\turge\\\\CompartidoVM\\\\0.TFM\\\\Output_Data\\\\NOAA\\\\LCD_files\\\\KTN_25325.csv',\n",
       " 'C:\\\\Users\\\\turge\\\\CompartidoVM\\\\0.TFM\\\\Output_Data\\\\NOAA\\\\LCD_files\\\\LAN_14836.csv',\n",
       " 'C:\\\\Users\\\\turge\\\\CompartidoVM\\\\0.TFM\\\\Output_Data\\\\NOAA\\\\LCD_files\\\\LAR_24022.csv',\n",
       " 'C:\\\\Users\\\\turge\\\\CompartidoVM\\\\0.TFM\\\\Output_Data\\\\NOAA\\\\LCD_files\\\\LAS_23169.csv',\n",
       " 'C:\\\\Users\\\\turge\\\\CompartidoVM\\\\0.TFM\\\\Output_Data\\\\NOAA\\\\LCD_files\\\\LAW_3950.csv',\n",
       " 'C:\\\\Users\\\\turge\\\\CompartidoVM\\\\0.TFM\\\\Output_Data\\\\NOAA\\\\LCD_files\\\\LAX_23174.csv',\n",
       " 'C:\\\\Users\\\\turge\\\\CompartidoVM\\\\0.TFM\\\\Output_Data\\\\NOAA\\\\LCD_files\\\\LBB_23042.csv',\n",
       " 'C:\\\\Users\\\\turge\\\\CompartidoVM\\\\0.TFM\\\\Output_Data\\\\NOAA\\\\LCD_files\\\\LBE_54735.csv',\n",
       " 'C:\\\\Users\\\\turge\\\\CompartidoVM\\\\0.TFM\\\\Output_Data\\\\NOAA\\\\LCD_files\\\\LBF_24023.csv',\n",
       " 'C:\\\\Users\\\\turge\\\\CompartidoVM\\\\0.TFM\\\\Output_Data\\\\NOAA\\\\LCD_files\\\\LBL_23020.csv',\n",
       " 'C:\\\\Users\\\\turge\\\\CompartidoVM\\\\0.TFM\\\\Output_Data\\\\NOAA\\\\LCD_files\\\\LCH_3937.csv',\n",
       " 'C:\\\\Users\\\\turge\\\\CompartidoVM\\\\0.TFM\\\\Output_Data\\\\NOAA\\\\LCD_files\\\\LCK_13812.csv',\n",
       " 'C:\\\\Users\\\\turge\\\\CompartidoVM\\\\0.TFM\\\\Output_Data\\\\NOAA\\\\LCD_files\\\\LEX_93820.csv',\n",
       " 'C:\\\\Users\\\\turge\\\\CompartidoVM\\\\0.TFM\\\\Output_Data\\\\NOAA\\\\LCD_files\\\\LFT_13976.csv',\n",
       " 'C:\\\\Users\\\\turge\\\\CompartidoVM\\\\0.TFM\\\\Output_Data\\\\NOAA\\\\LCD_files\\\\LGA_14732.csv',\n",
       " 'C:\\\\Users\\\\turge\\\\CompartidoVM\\\\0.TFM\\\\Output_Data\\\\NOAA\\\\LCD_files\\\\LGB_23129.csv',\n",
       " 'C:\\\\Users\\\\turge\\\\CompartidoVM\\\\0.TFM\\\\Output_Data\\\\NOAA\\\\LCD_files\\\\LIH_22536.csv',\n",
       " 'C:\\\\Users\\\\turge\\\\CompartidoVM\\\\0.TFM\\\\Output_Data\\\\NOAA\\\\LCD_files\\\\LIT_13963.csv',\n",
       " 'C:\\\\Users\\\\turge\\\\CompartidoVM\\\\0.TFM\\\\Output_Data\\\\NOAA\\\\LCD_files\\\\LNK_14939.csv',\n",
       " 'C:\\\\Users\\\\turge\\\\CompartidoVM\\\\0.TFM\\\\Output_Data\\\\NOAA\\\\LCD_files\\\\LRD_12907.csv',\n",
       " 'C:\\\\Users\\\\turge\\\\CompartidoVM\\\\0.TFM\\\\Output_Data\\\\NOAA\\\\LCD_files\\\\LSE_14920.csv',\n",
       " 'C:\\\\Users\\\\turge\\\\CompartidoVM\\\\0.TFM\\\\Output_Data\\\\NOAA\\\\LCD_files\\\\LWB_53801.csv',\n",
       " 'C:\\\\Users\\\\turge\\\\CompartidoVM\\\\0.TFM\\\\Output_Data\\\\NOAA\\\\LCD_files\\\\LWS_24149.csv',\n",
       " 'C:\\\\Users\\\\turge\\\\CompartidoVM\\\\0.TFM\\\\Output_Data\\\\NOAA\\\\LCD_files\\\\LYH_13733.csv',\n",
       " 'C:\\\\Users\\\\turge\\\\CompartidoVM\\\\0.TFM\\\\Output_Data\\\\NOAA\\\\LCD_files\\\\MAF_23023.csv',\n",
       " 'C:\\\\Users\\\\turge\\\\CompartidoVM\\\\0.TFM\\\\Output_Data\\\\NOAA\\\\LCD_files\\\\MBS_14845.csv',\n",
       " 'C:\\\\Users\\\\turge\\\\CompartidoVM\\\\0.TFM\\\\Output_Data\\\\NOAA\\\\LCD_files\\\\MCI_3947.csv',\n",
       " 'C:\\\\Users\\\\turge\\\\CompartidoVM\\\\0.TFM\\\\Output_Data\\\\NOAA\\\\LCD_files\\\\MCO_12815.csv',\n",
       " 'C:\\\\Users\\\\turge\\\\CompartidoVM\\\\0.TFM\\\\Output_Data\\\\NOAA\\\\LCD_files\\\\MDT_14711.csv',\n",
       " 'C:\\\\Users\\\\turge\\\\CompartidoVM\\\\0.TFM\\\\Output_Data\\\\NOAA\\\\LCD_files\\\\MDW_14819.csv',\n",
       " 'C:\\\\Users\\\\turge\\\\CompartidoVM\\\\0.TFM\\\\Output_Data\\\\NOAA\\\\LCD_files\\\\MEI_13865.csv',\n",
       " 'C:\\\\Users\\\\turge\\\\CompartidoVM\\\\0.TFM\\\\Output_Data\\\\NOAA\\\\LCD_files\\\\MEM_13893.csv',\n",
       " 'C:\\\\Users\\\\turge\\\\CompartidoVM\\\\0.TFM\\\\Output_Data\\\\NOAA\\\\LCD_files\\\\MFE_12959.csv',\n",
       " 'C:\\\\Users\\\\turge\\\\CompartidoVM\\\\0.TFM\\\\Output_Data\\\\NOAA\\\\LCD_files\\\\MFR_24225.csv',\n",
       " 'C:\\\\Users\\\\turge\\\\CompartidoVM\\\\0.TFM\\\\Output_Data\\\\NOAA\\\\LCD_files\\\\MGM_13895.csv',\n",
       " 'C:\\\\Users\\\\turge\\\\CompartidoVM\\\\0.TFM\\\\Output_Data\\\\NOAA\\\\LCD_files\\\\MHK_3936.csv',\n",
       " 'C:\\\\Users\\\\turge\\\\CompartidoVM\\\\0.TFM\\\\Output_Data\\\\NOAA\\\\LCD_files\\\\MHT_14710.csv',\n",
       " 'C:\\\\Users\\\\turge\\\\CompartidoVM\\\\0.TFM\\\\Output_Data\\\\NOAA\\\\LCD_files\\\\MIA_12839.csv',\n",
       " 'C:\\\\Users\\\\turge\\\\CompartidoVM\\\\0.TFM\\\\Output_Data\\\\NOAA\\\\LCD_files\\\\MKE_14839.csv',\n",
       " 'C:\\\\Users\\\\turge\\\\CompartidoVM\\\\0.TFM\\\\Output_Data\\\\NOAA\\\\LCD_files\\\\MKG_14840.csv',\n",
       " 'C:\\\\Users\\\\turge\\\\CompartidoVM\\\\0.TFM\\\\Output_Data\\\\NOAA\\\\LCD_files\\\\MLB_12838.csv',\n",
       " 'C:\\\\Users\\\\turge\\\\CompartidoVM\\\\0.TFM\\\\Output_Data\\\\NOAA\\\\LCD_files\\\\MLI_14923.csv',\n",
       " 'C:\\\\Users\\\\turge\\\\CompartidoVM\\\\0.TFM\\\\Output_Data\\\\NOAA\\\\LCD_files\\\\MLU_13942.csv',\n",
       " 'C:\\\\Users\\\\turge\\\\CompartidoVM\\\\0.TFM\\\\Output_Data\\\\NOAA\\\\LCD_files\\\\MMH_3181.csv',\n",
       " 'C:\\\\Users\\\\turge\\\\CompartidoVM\\\\0.TFM\\\\Output_Data\\\\NOAA\\\\LCD_files\\\\MOB_13894.csv',\n",
       " 'C:\\\\Users\\\\turge\\\\CompartidoVM\\\\0.TFM\\\\Output_Data\\\\NOAA\\\\LCD_files\\\\MOT_24013.csv',\n",
       " 'C:\\\\Users\\\\turge\\\\CompartidoVM\\\\0.TFM\\\\Output_Data\\\\NOAA\\\\LCD_files\\\\MQT_94850.csv',\n",
       " 'C:\\\\Users\\\\turge\\\\CompartidoVM\\\\0.TFM\\\\Output_Data\\\\NOAA\\\\LCD_files\\\\MRY_23259.csv',\n",
       " 'C:\\\\Users\\\\turge\\\\CompartidoVM\\\\0.TFM\\\\Output_Data\\\\NOAA\\\\LCD_files\\\\MSN_14837.csv',\n",
       " 'C:\\\\Users\\\\turge\\\\CompartidoVM\\\\0.TFM\\\\Output_Data\\\\NOAA\\\\LCD_files\\\\MSO_24153.csv',\n",
       " 'C:\\\\Users\\\\turge\\\\CompartidoVM\\\\0.TFM\\\\Output_Data\\\\NOAA\\\\LCD_files\\\\MSP_14922.csv',\n",
       " 'C:\\\\Users\\\\turge\\\\CompartidoVM\\\\0.TFM\\\\Output_Data\\\\NOAA\\\\LCD_files\\\\MSY_12916.csv',\n",
       " 'C:\\\\Users\\\\turge\\\\CompartidoVM\\\\0.TFM\\\\Output_Data\\\\NOAA\\\\LCD_files\\\\MTJ_93013.csv',\n",
       " 'C:\\\\Users\\\\turge\\\\CompartidoVM\\\\0.TFM\\\\Output_Data\\\\NOAA\\\\LCD_files\\\\MVY_94724.csv',\n",
       " 'C:\\\\Users\\\\turge\\\\CompartidoVM\\\\0.TFM\\\\Output_Data\\\\NOAA\\\\LCD_files\\\\MYR_13717.csv',\n",
       " 'C:\\\\Users\\\\turge\\\\CompartidoVM\\\\0.TFM\\\\Output_Data\\\\NOAA\\\\LCD_files\\\\OAJ_93753.csv',\n",
       " 'C:\\\\Users\\\\turge\\\\CompartidoVM\\\\0.TFM\\\\Output_Data\\\\NOAA\\\\LCD_files\\\\OAK_23230.csv',\n",
       " 'C:\\\\Users\\\\turge\\\\CompartidoVM\\\\0.TFM\\\\Output_Data\\\\NOAA\\\\LCD_files\\\\OGD_24126.csv',\n",
       " 'C:\\\\Users\\\\turge\\\\CompartidoVM\\\\0.TFM\\\\Output_Data\\\\NOAA\\\\LCD_files\\\\OGG_22516.csv',\n",
       " 'C:\\\\Users\\\\turge\\\\CompartidoVM\\\\0.TFM\\\\Output_Data\\\\NOAA\\\\LCD_files\\\\OKC_13967.csv',\n",
       " 'C:\\\\Users\\\\turge\\\\CompartidoVM\\\\0.TFM\\\\Output_Data\\\\NOAA\\\\LCD_files\\\\OMA_14942.csv',\n",
       " 'C:\\\\Users\\\\turge\\\\CompartidoVM\\\\0.TFM\\\\Output_Data\\\\NOAA\\\\LCD_files\\\\OME_26617.csv',\n",
       " 'C:\\\\Users\\\\turge\\\\CompartidoVM\\\\0.TFM\\\\Output_Data\\\\NOAA\\\\LCD_files\\\\ONT_3102.csv',\n",
       " 'C:\\\\Users\\\\turge\\\\CompartidoVM\\\\0.TFM\\\\Output_Data\\\\NOAA\\\\LCD_files\\\\ORD_94846.csv',\n",
       " 'C:\\\\Users\\\\turge\\\\CompartidoVM\\\\0.TFM\\\\Output_Data\\\\NOAA\\\\LCD_files\\\\ORF_13737.csv',\n",
       " 'C:\\\\Users\\\\turge\\\\CompartidoVM\\\\0.TFM\\\\Output_Data\\\\NOAA\\\\LCD_files\\\\ORH_94746.csv',\n",
       " 'C:\\\\Users\\\\turge\\\\CompartidoVM\\\\0.TFM\\\\Output_Data\\\\NOAA\\\\LCD_files\\\\OTH_24284.csv',\n",
       " 'C:\\\\Users\\\\turge\\\\CompartidoVM\\\\0.TFM\\\\Output_Data\\\\NOAA\\\\LCD_files\\\\OTZ_26616.csv',\n",
       " 'C:\\\\Users\\\\turge\\\\CompartidoVM\\\\0.TFM\\\\Output_Data\\\\NOAA\\\\LCD_files\\\\OWB_53803.csv',\n",
       " 'C:\\\\Users\\\\turge\\\\CompartidoVM\\\\0.TFM\\\\Output_Data\\\\NOAA\\\\LCD_files\\\\PAE_24222.csv',\n",
       " 'C:\\\\Users\\\\turge\\\\CompartidoVM\\\\0.TFM\\\\Output_Data\\\\NOAA\\\\LCD_files\\\\PBG_64776.csv',\n",
       " 'C:\\\\Users\\\\turge\\\\CompartidoVM\\\\0.TFM\\\\Output_Data\\\\NOAA\\\\LCD_files\\\\PBI_12844.csv',\n",
       " 'C:\\\\Users\\\\turge\\\\CompartidoVM\\\\0.TFM\\\\Output_Data\\\\NOAA\\\\LCD_files\\\\PDX_24229.csv',\n",
       " 'C:\\\\Users\\\\turge\\\\CompartidoVM\\\\0.TFM\\\\Output_Data\\\\NOAA\\\\LCD_files\\\\PGD_12812.csv',\n",
       " 'C:\\\\Users\\\\turge\\\\CompartidoVM\\\\0.TFM\\\\Output_Data\\\\NOAA\\\\LCD_files\\\\PGV_13783.csv',\n",
       " 'C:\\\\Users\\\\turge\\\\CompartidoVM\\\\0.TFM\\\\Output_Data\\\\NOAA\\\\LCD_files\\\\PHF_93741.csv',\n",
       " 'C:\\\\Users\\\\turge\\\\CompartidoVM\\\\0.TFM\\\\Output_Data\\\\NOAA\\\\LCD_files\\\\PHL_13739.csv',\n",
       " 'C:\\\\Users\\\\turge\\\\CompartidoVM\\\\0.TFM\\\\Output_Data\\\\NOAA\\\\LCD_files\\\\PHX_23183.csv',\n",
       " 'C:\\\\Users\\\\turge\\\\CompartidoVM\\\\0.TFM\\\\Output_Data\\\\NOAA\\\\LCD_files\\\\PIA_14842.csv',\n",
       " 'C:\\\\Users\\\\turge\\\\CompartidoVM\\\\0.TFM\\\\Output_Data\\\\NOAA\\\\LCD_files\\\\PIB_53808.csv',\n",
       " 'C:\\\\Users\\\\turge\\\\CompartidoVM\\\\0.TFM\\\\Output_Data\\\\NOAA\\\\LCD_files\\\\PIE_12873.csv',\n",
       " 'C:\\\\Users\\\\turge\\\\CompartidoVM\\\\0.TFM\\\\Output_Data\\\\NOAA\\\\LCD_files\\\\PIH_24156.csv',\n",
       " 'C:\\\\Users\\\\turge\\\\CompartidoVM\\\\0.TFM\\\\Output_Data\\\\NOAA\\\\LCD_files\\\\PIR_24025.csv',\n",
       " 'C:\\\\Users\\\\turge\\\\CompartidoVM\\\\0.TFM\\\\Output_Data\\\\NOAA\\\\LCD_files\\\\PIT_94823.csv',\n",
       " 'C:\\\\Users\\\\turge\\\\CompartidoVM\\\\0.TFM\\\\Output_Data\\\\NOAA\\\\LCD_files\\\\PLN_14841.csv',\n",
       " 'C:\\\\Users\\\\turge\\\\CompartidoVM\\\\0.TFM\\\\Output_Data\\\\NOAA\\\\LCD_files\\\\PNS_13899.csv',\n",
       " 'C:\\\\Users\\\\turge\\\\CompartidoVM\\\\0.TFM\\\\Output_Data\\\\NOAA\\\\LCD_files\\\\PPG_61705.csv',\n",
       " 'C:\\\\Users\\\\turge\\\\CompartidoVM\\\\0.TFM\\\\Output_Data\\\\NOAA\\\\LCD_files\\\\PRC_23184.csv',\n",
       " 'C:\\\\Users\\\\turge\\\\CompartidoVM\\\\0.TFM\\\\Output_Data\\\\NOAA\\\\LCD_files\\\\PSC_24163.csv',\n",
       " 'C:\\\\Users\\\\turge\\\\CompartidoVM\\\\0.TFM\\\\Output_Data\\\\NOAA\\\\LCD_files\\\\PSG_25329.csv',\n",
       " 'C:\\\\Users\\\\turge\\\\CompartidoVM\\\\0.TFM\\\\Output_Data\\\\NOAA\\\\LCD_files\\\\PSM_4743.csv',\n",
       " 'C:\\\\Users\\\\turge\\\\CompartidoVM\\\\0.TFM\\\\Output_Data\\\\NOAA\\\\LCD_files\\\\PSP_93138.csv',\n",
       " 'C:\\\\Users\\\\turge\\\\CompartidoVM\\\\0.TFM\\\\Output_Data\\\\NOAA\\\\LCD_files\\\\PUB_93058.csv',\n",
       " 'C:\\\\Users\\\\turge\\\\CompartidoVM\\\\0.TFM\\\\Output_Data\\\\NOAA\\\\LCD_files\\\\PVD_14765.csv',\n",
       " 'C:\\\\Users\\\\turge\\\\CompartidoVM\\\\0.TFM\\\\Output_Data\\\\NOAA\\\\LCD_files\\\\PVU_24174.csv',\n",
       " 'C:\\\\Users\\\\turge\\\\CompartidoVM\\\\0.TFM\\\\Output_Data\\\\NOAA\\\\LCD_files\\\\PWM_14764.csv',\n",
       " 'C:\\\\Users\\\\turge\\\\CompartidoVM\\\\0.TFM\\\\Output_Data\\\\NOAA\\\\LCD_files\\\\RAP_24090.csv',\n",
       " 'C:\\\\Users\\\\turge\\\\CompartidoVM\\\\0.TFM\\\\Output_Data\\\\NOAA\\\\LCD_files\\\\RDD_24257.csv',\n",
       " 'C:\\\\Users\\\\turge\\\\CompartidoVM\\\\0.TFM\\\\Output_Data\\\\NOAA\\\\LCD_files\\\\RDM_24230.csv',\n",
       " 'C:\\\\Users\\\\turge\\\\CompartidoVM\\\\0.TFM\\\\Output_Data\\\\NOAA\\\\LCD_files\\\\RDU_13722.csv',\n",
       " 'C:\\\\Users\\\\turge\\\\CompartidoVM\\\\0.TFM\\\\Output_Data\\\\NOAA\\\\LCD_files\\\\RFD_94822.csv',\n",
       " 'C:\\\\Users\\\\turge\\\\CompartidoVM\\\\0.TFM\\\\Output_Data\\\\NOAA\\\\LCD_files\\\\RHI_4803.csv',\n",
       " 'C:\\\\Users\\\\turge\\\\CompartidoVM\\\\0.TFM\\\\Output_Data\\\\NOAA\\\\LCD_files\\\\RIC_13740.csv',\n",
       " 'C:\\\\Users\\\\turge\\\\CompartidoVM\\\\0.TFM\\\\Output_Data\\\\NOAA\\\\LCD_files\\\\RKS_24027.csv',\n",
       " 'C:\\\\Users\\\\turge\\\\CompartidoVM\\\\0.TFM\\\\Output_Data\\\\NOAA\\\\LCD_files\\\\RNO_23185.csv',\n",
       " 'C:\\\\Users\\\\turge\\\\CompartidoVM\\\\0.TFM\\\\Output_Data\\\\NOAA\\\\LCD_files\\\\ROA_13741.csv',\n",
       " 'C:\\\\Users\\\\turge\\\\CompartidoVM\\\\0.TFM\\\\Output_Data\\\\NOAA\\\\LCD_files\\\\ROC_14768.csv',\n",
       " 'C:\\\\Users\\\\turge\\\\CompartidoVM\\\\0.TFM\\\\Output_Data\\\\NOAA\\\\LCD_files\\\\ROW_23009.csv',\n",
       " 'C:\\\\Users\\\\turge\\\\CompartidoVM\\\\0.TFM\\\\Output_Data\\\\NOAA\\\\LCD_files\\\\RST_14925.csv',\n",
       " 'C:\\\\Users\\\\turge\\\\CompartidoVM\\\\0.TFM\\\\Output_Data\\\\NOAA\\\\LCD_files\\\\RSW_12894.csv',\n",
       " 'C:\\\\Users\\\\turge\\\\CompartidoVM\\\\0.TFM\\\\Output_Data\\\\NOAA\\\\LCD_files\\\\SAF_23049.csv',\n",
       " 'C:\\\\Users\\\\turge\\\\CompartidoVM\\\\0.TFM\\\\Output_Data\\\\NOAA\\\\LCD_files\\\\SAN_23188.csv',\n",
       " 'C:\\\\Users\\\\turge\\\\CompartidoVM\\\\0.TFM\\\\Output_Data\\\\NOAA\\\\LCD_files\\\\SAT_12921.csv',\n",
       " 'C:\\\\Users\\\\turge\\\\CompartidoVM\\\\0.TFM\\\\Output_Data\\\\NOAA\\\\LCD_files\\\\SAV_3822.csv',\n",
       " 'C:\\\\Users\\\\turge\\\\CompartidoVM\\\\0.TFM\\\\Output_Data\\\\NOAA\\\\LCD_files\\\\SBA_23190.csv',\n",
       " 'C:\\\\Users\\\\turge\\\\CompartidoVM\\\\0.TFM\\\\Output_Data\\\\NOAA\\\\LCD_files\\\\SBN_14848.csv',\n",
       " 'C:\\\\Users\\\\turge\\\\CompartidoVM\\\\0.TFM\\\\Output_Data\\\\NOAA\\\\LCD_files\\\\SBP_93206.csv',\n",
       " 'C:\\\\Users\\\\turge\\\\CompartidoVM\\\\0.TFM\\\\Output_Data\\\\NOAA\\\\LCD_files\\\\SCC_27406.csv',\n",
       " 'C:\\\\Users\\\\turge\\\\CompartidoVM\\\\0.TFM\\\\Output_Data\\\\NOAA\\\\LCD_files\\\\SCK_23237.csv',\n",
       " 'C:\\\\Users\\\\turge\\\\CompartidoVM\\\\0.TFM\\\\Output_Data\\\\NOAA\\\\LCD_files\\\\SDF_93821.csv',\n",
       " 'C:\\\\Users\\\\turge\\\\CompartidoVM\\\\0.TFM\\\\Output_Data\\\\NOAA\\\\LCD_files\\\\SEA_24233.csv',\n",
       " 'C:\\\\Users\\\\turge\\\\CompartidoVM\\\\0.TFM\\\\Output_Data\\\\NOAA\\\\LCD_files\\\\SFB_12854.csv',\n",
       " 'C:\\\\Users\\\\turge\\\\CompartidoVM\\\\0.TFM\\\\Output_Data\\\\NOAA\\\\LCD_files\\\\SFO_23234.csv',\n",
       " 'C:\\\\Users\\\\turge\\\\CompartidoVM\\\\0.TFM\\\\Output_Data\\\\NOAA\\\\LCD_files\\\\SGF_13995.csv',\n",
       " 'C:\\\\Users\\\\turge\\\\CompartidoVM\\\\0.TFM\\\\Output_Data\\\\NOAA\\\\LCD_files\\\\SGU_23186.csv',\n",
       " 'C:\\\\Users\\\\turge\\\\CompartidoVM\\\\0.TFM\\\\Output_Data\\\\NOAA\\\\LCD_files\\\\SHD_93760.csv',\n",
       " 'C:\\\\Users\\\\turge\\\\CompartidoVM\\\\0.TFM\\\\Output_Data\\\\NOAA\\\\LCD_files\\\\SHV_13957.csv',\n",
       " 'C:\\\\Users\\\\turge\\\\CompartidoVM\\\\0.TFM\\\\Output_Data\\\\NOAA\\\\LCD_files\\\\SIT_25333.csv',\n",
       " 'C:\\\\Users\\\\turge\\\\CompartidoVM\\\\0.TFM\\\\Output_Data\\\\NOAA\\\\LCD_files\\\\SJC_23293.csv',\n",
       " 'C:\\\\Users\\\\turge\\\\CompartidoVM\\\\0.TFM\\\\Output_Data\\\\NOAA\\\\LCD_files\\\\SJT_23034.csv',\n",
       " 'C:\\\\Users\\\\turge\\\\CompartidoVM\\\\0.TFM\\\\Output_Data\\\\NOAA\\\\LCD_files\\\\SJU_11641.csv',\n",
       " 'C:\\\\Users\\\\turge\\\\CompartidoVM\\\\0.TFM\\\\Output_Data\\\\NOAA\\\\LCD_files\\\\SLC_24127.csv',\n",
       " 'C:\\\\Users\\\\turge\\\\CompartidoVM\\\\0.TFM\\\\Output_Data\\\\NOAA\\\\LCD_files\\\\SMF_93225.csv',\n",
       " 'C:\\\\Users\\\\turge\\\\CompartidoVM\\\\0.TFM\\\\Output_Data\\\\NOAA\\\\LCD_files\\\\SMX_23273.csv',\n",
       " 'C:\\\\Users\\\\turge\\\\CompartidoVM\\\\0.TFM\\\\Output_Data\\\\NOAA\\\\LCD_files\\\\SNA_93184.csv',\n",
       " 'C:\\\\Users\\\\turge\\\\CompartidoVM\\\\0.TFM\\\\Output_Data\\\\NOAA\\\\LCD_files\\\\SPI_93822.csv',\n",
       " 'C:\\\\Users\\\\turge\\\\CompartidoVM\\\\0.TFM\\\\Output_Data\\\\NOAA\\\\LCD_files\\\\SPS_13966.csv',\n",
       " 'C:\\\\Users\\\\turge\\\\CompartidoVM\\\\0.TFM\\\\Output_Data\\\\NOAA\\\\LCD_files\\\\SRQ_12871.csv',\n",
       " 'C:\\\\Users\\\\turge\\\\CompartidoVM\\\\0.TFM\\\\Output_Data\\\\NOAA\\\\LCD_files\\\\STC_14926.csv',\n",
       " 'C:\\\\Users\\\\turge\\\\CompartidoVM\\\\0.TFM\\\\Output_Data\\\\NOAA\\\\LCD_files\\\\STL_13994.csv',\n",
       " 'C:\\\\Users\\\\turge\\\\CompartidoVM\\\\0.TFM\\\\Output_Data\\\\NOAA\\\\LCD_files\\\\STT_11640.csv',\n",
       " 'C:\\\\Users\\\\turge\\\\CompartidoVM\\\\0.TFM\\\\Output_Data\\\\NOAA\\\\LCD_files\\\\STX_11624.csv',\n",
       " 'C:\\\\Users\\\\turge\\\\CompartidoVM\\\\0.TFM\\\\Output_Data\\\\NOAA\\\\LCD_files\\\\SUN_94161.csv',\n",
       " 'C:\\\\Users\\\\turge\\\\CompartidoVM\\\\0.TFM\\\\Output_Data\\\\NOAA\\\\LCD_files\\\\SUX_14943.csv',\n",
       " 'C:\\\\Users\\\\turge\\\\CompartidoVM\\\\0.TFM\\\\Output_Data\\\\NOAA\\\\LCD_files\\\\SWF_14714.csv',\n",
       " 'C:\\\\Users\\\\turge\\\\CompartidoVM\\\\0.TFM\\\\Output_Data\\\\NOAA\\\\LCD_files\\\\SWO_3965.csv',\n",
       " 'C:\\\\Users\\\\turge\\\\CompartidoVM\\\\0.TFM\\\\Output_Data\\\\NOAA\\\\LCD_files\\\\SYR_14771.csv',\n",
       " 'C:\\\\Users\\\\turge\\\\CompartidoVM\\\\0.TFM\\\\Output_Data\\\\NOAA\\\\LCD_files\\\\TLH_93805.csv',\n",
       " 'C:\\\\Users\\\\turge\\\\CompartidoVM\\\\0.TFM\\\\Output_Data\\\\NOAA\\\\LCD_files\\\\TOL_94830.csv',\n",
       " 'C:\\\\Users\\\\turge\\\\CompartidoVM\\\\0.TFM\\\\Output_Data\\\\NOAA\\\\LCD_files\\\\TPA_12842.csv',\n",
       " 'C:\\\\Users\\\\turge\\\\CompartidoVM\\\\0.TFM\\\\Output_Data\\\\NOAA\\\\LCD_files\\\\TRI_13877.csv',\n",
       " 'C:\\\\Users\\\\turge\\\\CompartidoVM\\\\0.TFM\\\\Output_Data\\\\NOAA\\\\LCD_files\\\\TTN_14792.csv',\n",
       " 'C:\\\\Users\\\\turge\\\\CompartidoVM\\\\0.TFM\\\\Output_Data\\\\NOAA\\\\LCD_files\\\\TUL_13968.csv',\n",
       " 'C:\\\\Users\\\\turge\\\\CompartidoVM\\\\0.TFM\\\\Output_Data\\\\NOAA\\\\LCD_files\\\\TUS_23160.csv',\n",
       " 'C:\\\\Users\\\\turge\\\\CompartidoVM\\\\0.TFM\\\\Output_Data\\\\NOAA\\\\LCD_files\\\\TVC_14850.csv',\n",
       " 'C:\\\\Users\\\\turge\\\\CompartidoVM\\\\0.TFM\\\\Output_Data\\\\NOAA\\\\LCD_files\\\\TWF_94178.csv',\n",
       " 'C:\\\\Users\\\\turge\\\\CompartidoVM\\\\0.TFM\\\\Output_Data\\\\NOAA\\\\LCD_files\\\\TXK_13977.csv',\n",
       " 'C:\\\\Users\\\\turge\\\\CompartidoVM\\\\0.TFM\\\\Output_Data\\\\NOAA\\\\LCD_files\\\\TYR_13972.csv',\n",
       " 'C:\\\\Users\\\\turge\\\\CompartidoVM\\\\0.TFM\\\\Output_Data\\\\NOAA\\\\LCD_files\\\\TYS_13891.csv',\n",
       " 'C:\\\\Users\\\\turge\\\\CompartidoVM\\\\0.TFM\\\\Output_Data\\\\NOAA\\\\LCD_files\\\\UIN_93989.csv',\n",
       " 'C:\\\\Users\\\\turge\\\\CompartidoVM\\\\0.TFM\\\\Output_Data\\\\NOAA\\\\LCD_files\\\\VEL_94030.csv',\n",
       " 'C:\\\\Users\\\\turge\\\\CompartidoVM\\\\0.TFM\\\\Output_Data\\\\NOAA\\\\LCD_files\\\\VLD_93845.csv',\n",
       " 'C:\\\\Users\\\\turge\\\\CompartidoVM\\\\0.TFM\\\\Output_Data\\\\NOAA\\\\LCD_files\\\\VPS_13858.csv',\n",
       " 'C:\\\\Users\\\\turge\\\\CompartidoVM\\\\0.TFM\\\\Output_Data\\\\NOAA\\\\LCD_files\\\\WRG_25338.csv',\n",
       " 'C:\\\\Users\\\\turge\\\\CompartidoVM\\\\0.TFM\\\\Output_Data\\\\NOAA\\\\LCD_files\\\\WYS_94163.csv',\n",
       " 'C:\\\\Users\\\\turge\\\\CompartidoVM\\\\0.TFM\\\\Output_Data\\\\NOAA\\\\LCD_files\\\\XNA_53922.csv',\n",
       " 'C:\\\\Users\\\\turge\\\\CompartidoVM\\\\0.TFM\\\\Output_Data\\\\NOAA\\\\LCD_files\\\\YAK_25339.csv']"
      ]
     },
     "execution_count": 9,
     "metadata": {},
     "output_type": "execute_result"
    }
   ],
   "source": [
    "# List the file paths corresponding to each month of year 2019:\n",
    "\n",
    "file_list = []\n",
    "try:\n",
    "    os.listdir(directory_in_str)\n",
    "except FileNotFoundError:\n",
    "    print(\"The system cannot find the specified path:\\n\" + directory_in_str + \"\\nPlease check the path has been properly set.\")\n",
    "else:\n",
    "    for file in os.listdir(directory_in_str):\n",
    "        if file.endswith(\".csv\"):\n",
    "            file_list.append(os.path.join(directory_in_str, file))\n",
    "            continue\n",
    "        else:\n",
    "            continue\n",
    "file_list    "
   ]
  },
  {
   "cell_type": "markdown",
   "metadata": {},
   "source": [
    "### Generate a DataFrame from concatenation and save the result into a CSV file"
   ]
  },
  {
   "cell_type": "code",
   "execution_count": 10,
   "metadata": {
    "ExecuteTime": {
     "end_time": "2021-02-22T19:06:14.652363Z",
     "start_time": "2021-02-22T19:06:14.639373Z"
    },
    "scrolled": true
   },
   "outputs": [
    {
     "name": "stdout",
     "output_type": "stream",
     "text": [
      "File 'LCD_all_preprocessed.csv' already exists.\n",
      "No file has been generated (previous one remains).\n"
     ]
    }
   ],
   "source": [
    "output_csv_dir = os.path.join(root,\n",
    "                              \"Output_Data\",\n",
    "                              \"NOAA\",\n",
    "                              \"LCD_AllStations\")\n",
    "file_name = \"LCD_all_preprocessed.csv\"\n",
    "\n",
    "if file_name not in os.listdir(output_csv_dir):\n",
    "    \n",
    "    # 1) Create a DataFrame from the 300+ LCD-files corresponding to the year 2019:\n",
    "    LCD = pd.DataFrame()\n",
    "    for i, csv_path in enumerate(file_list):\n",
    "        if i == 500: # Fail-safe: in case the list captured more than 500 files (i.e. weather stations)\n",
    "            break\n",
    "        LCD_month = pd.read_csv(csv_path,\n",
    "                                encoding='latin1',\n",
    "                                nrows=1e8, # Fail-safe: in case the file is inadvertently too big\n",
    "                                usecols=cols,\n",
    "                                low_memory = False) # This will prevent from auto-dtypes\n",
    "        LCD = LCD.append(LCD_month)\n",
    "    print(\"Number of LCD files concatenated:\", LCD['STATION'].nunique())    \n",
    "    \n",
    "    # 2) Save such DataFrame into a CSV file (only once):\n",
    "    LCD.to_csv(path_or_buf=os.path.join(output_csv_dir, file_name),\n",
    "           index=False,\n",
    "           encoding='latin1')\n",
    "else:    \n",
    "    print(\"File '\" + file_name + \"' already exists.\\nNo file has been generated (previous one remains).\")"
   ]
  },
  {
   "cell_type": "markdown",
   "metadata": {},
   "source": [
    "### Load the CSV file"
   ]
  },
  {
   "cell_type": "code",
   "execution_count": 11,
   "metadata": {
    "ExecuteTime": {
     "end_time": "2021-02-22T19:06:36.324173Z",
     "start_time": "2021-02-22T19:06:14.656361Z"
    }
   },
   "outputs": [],
   "source": [
    "csv_path = os.path.join(root,\n",
    "                        \"Output_Data\",\n",
    "                        \"NOAA\",\n",
    "                        \"LCD_AllStations\",\n",
    "                        \"LCD_all_preprocessed.csv\")\n",
    "\n",
    "LCD = pd.read_csv(csv_path,\n",
    "                  encoding='latin1',\n",
    "                  low_memory = False) # This will prevent from auto-dtypes"
   ]
  },
  {
   "cell_type": "markdown",
   "metadata": {},
   "source": [
    "### Explore the data"
   ]
  },
  {
   "cell_type": "markdown",
   "metadata": {},
   "source": [
    "#### Duplicated data"
   ]
  },
  {
   "cell_type": "code",
   "execution_count": 12,
   "metadata": {
    "ExecuteTime": {
     "end_time": "2021-02-22T19:06:46.266978Z",
     "start_time": "2021-02-22T19:06:36.327172Z"
    },
    "scrolled": true
   },
   "outputs": [
    {
     "data": {
      "text/html": [
       "<div>\n",
       "<style scoped>\n",
       "    .dataframe tbody tr th:only-of-type {\n",
       "        vertical-align: middle;\n",
       "    }\n",
       "\n",
       "    .dataframe tbody tr th {\n",
       "        vertical-align: top;\n",
       "    }\n",
       "\n",
       "    .dataframe thead th {\n",
       "        text-align: right;\n",
       "    }\n",
       "</style>\n",
       "<table border=\"1\" class=\"dataframe\">\n",
       "  <thead>\n",
       "    <tr style=\"text-align: right;\">\n",
       "      <th></th>\n",
       "      <th>STATION</th>\n",
       "      <th>DATE</th>\n",
       "      <th>HourlyAltimeterSetting</th>\n",
       "      <th>HourlyDryBulbTemperature</th>\n",
       "      <th>HourlyPrecipitation</th>\n",
       "      <th>HourlyRelativeHumidity</th>\n",
       "      <th>HourlySkyConditions</th>\n",
       "      <th>HourlyVisibility</th>\n",
       "      <th>REM</th>\n",
       "    </tr>\n",
       "  </thead>\n",
       "  <tbody>\n",
       "    <tr>\n",
       "      <th>1855053</th>\n",
       "      <td>72775024143</td>\n",
       "      <td>2019-07-31T23:59:00</td>\n",
       "      <td>NaN</td>\n",
       "      <td>NaN</td>\n",
       "      <td>NaN</td>\n",
       "      <td>NaN</td>\n",
       "      <td>NaN</td>\n",
       "      <td>NaN</td>\n",
       "      <td>NaN</td>\n",
       "    </tr>\n",
       "    <tr>\n",
       "      <th>4486403</th>\n",
       "      <td>70361025339</td>\n",
       "      <td>2019-05-31T23:59:00</td>\n",
       "      <td>NaN</td>\n",
       "      <td>NaN</td>\n",
       "      <td>NaN</td>\n",
       "      <td>NaN</td>\n",
       "      <td>NaN</td>\n",
       "      <td>NaN</td>\n",
       "      <td>NaN</td>\n",
       "    </tr>\n",
       "  </tbody>\n",
       "</table>\n",
       "</div>"
      ],
      "text/plain": [
       "             STATION                 DATE HourlyAltimeterSetting  \\\n",
       "1855053  72775024143  2019-07-31T23:59:00                    NaN   \n",
       "4486403  70361025339  2019-05-31T23:59:00                    NaN   \n",
       "\n",
       "        HourlyDryBulbTemperature HourlyPrecipitation HourlyRelativeHumidity  \\\n",
       "1855053                      NaN                 NaN                    NaN   \n",
       "4486403                      NaN                 NaN                    NaN   \n",
       "\n",
       "        HourlySkyConditions HourlyVisibility  REM  \n",
       "1855053                 NaN              NaN  NaN  \n",
       "4486403                 NaN              NaN  NaN  "
      ]
     },
     "execution_count": 12,
     "metadata": {},
     "output_type": "execute_result"
    }
   ],
   "source": [
    "# Check complete duplicates:\n",
    "duplicateRowsLCD = LCD[LCD.duplicated()]\n",
    "duplicateRowsLCD"
   ]
  },
  {
   "cell_type": "markdown",
   "metadata": {},
   "source": [
    "Fortunately, only two records out of around 4.5M are complete duplicates. Let's simply drop them."
   ]
  },
  {
   "cell_type": "code",
   "execution_count": 13,
   "metadata": {
    "ExecuteTime": {
     "end_time": "2021-02-22T19:06:47.176862Z",
     "start_time": "2021-02-22T19:06:46.269976Z"
    }
   },
   "outputs": [
    {
     "data": {
      "text/plain": [
       "(4497375, 9)"
      ]
     },
     "execution_count": 13,
     "metadata": {},
     "output_type": "execute_result"
    }
   ],
   "source": [
    "LCD.drop(duplicateRowsLCD.index, axis=0, inplace=True)\n",
    "LCD.shape"
   ]
  },
  {
   "cell_type": "markdown",
   "metadata": {},
   "source": [
    "#### Missing data"
   ]
  },
  {
   "cell_type": "code",
   "execution_count": 14,
   "metadata": {
    "ExecuteTime": {
     "end_time": "2021-02-22T19:06:50.831841Z",
     "start_time": "2021-02-22T19:06:47.179861Z"
    },
    "scrolled": true
   },
   "outputs": [
    {
     "data": {
      "text/html": [
       "<div>\n",
       "<style scoped>\n",
       "    .dataframe tbody tr th:only-of-type {\n",
       "        vertical-align: middle;\n",
       "    }\n",
       "\n",
       "    .dataframe tbody tr th {\n",
       "        vertical-align: top;\n",
       "    }\n",
       "\n",
       "    .dataframe thead th {\n",
       "        text-align: right;\n",
       "    }\n",
       "</style>\n",
       "<table border=\"1\" class=\"dataframe\">\n",
       "  <thead>\n",
       "    <tr style=\"text-align: right;\">\n",
       "      <th></th>\n",
       "      <th>Absolute</th>\n",
       "      <th>Relative</th>\n",
       "    </tr>\n",
       "  </thead>\n",
       "  <tbody>\n",
       "    <tr>\n",
       "      <th>HourlyPrecipitation</th>\n",
       "      <td>1473762.0</td>\n",
       "      <td>32.769382</td>\n",
       "    </tr>\n",
       "    <tr>\n",
       "      <th>HourlyAltimeterSetting</th>\n",
       "      <td>462307.0</td>\n",
       "      <td>10.279485</td>\n",
       "    </tr>\n",
       "    <tr>\n",
       "      <th>HourlySkyConditions</th>\n",
       "      <td>417209.0</td>\n",
       "      <td>9.276723</td>\n",
       "    </tr>\n",
       "    <tr>\n",
       "      <th>HourlyRelativeHumidity</th>\n",
       "      <td>150501.0</td>\n",
       "      <td>3.346419</td>\n",
       "    </tr>\n",
       "    <tr>\n",
       "      <th>HourlyDryBulbTemperature</th>\n",
       "      <td>143156.0</td>\n",
       "      <td>3.183101</td>\n",
       "    </tr>\n",
       "    <tr>\n",
       "      <th>HourlyVisibility</th>\n",
       "      <td>141710.0</td>\n",
       "      <td>3.150949</td>\n",
       "    </tr>\n",
       "    <tr>\n",
       "      <th>REM</th>\n",
       "      <td>16299.0</td>\n",
       "      <td>0.362411</td>\n",
       "    </tr>\n",
       "    <tr>\n",
       "      <th>STATION</th>\n",
       "      <td>0.0</td>\n",
       "      <td>0.000000</td>\n",
       "    </tr>\n",
       "    <tr>\n",
       "      <th>DATE</th>\n",
       "      <td>0.0</td>\n",
       "      <td>0.000000</td>\n",
       "    </tr>\n",
       "  </tbody>\n",
       "</table>\n",
       "</div>"
      ],
      "text/plain": [
       "                           Absolute   Relative\n",
       "HourlyPrecipitation       1473762.0  32.769382\n",
       "HourlyAltimeterSetting     462307.0  10.279485\n",
       "HourlySkyConditions        417209.0   9.276723\n",
       "HourlyRelativeHumidity     150501.0   3.346419\n",
       "HourlyDryBulbTemperature   143156.0   3.183101\n",
       "HourlyVisibility           141710.0   3.150949\n",
       "REM                         16299.0   0.362411\n",
       "STATION                         0.0   0.000000\n",
       "DATE                            0.0   0.000000"
      ]
     },
     "execution_count": 14,
     "metadata": {},
     "output_type": "execute_result"
    }
   ],
   "source": [
    "# Absolute & Relative frequency of missing values by column:\n",
    "missing = pd.DataFrame([LCD.isna().sum(), LCD.isna().sum() / len(LCD) * 100], index=['Absolute', 'Relative']) \\\n",
    "                      .T.sort_values(by='Relative', ascending=False)\n",
    "missing"
   ]
  },
  {
   "cell_type": "markdown",
   "metadata": {},
   "source": [
    "Let's have a deeper look at the missing data. To do so, we will draw upon a useful libray called `missingno`.\n",
    "The `missingno` matrix represents data with horizontal sticks; the absence of a stick in place thus indicates a null value."
   ]
  },
  {
   "cell_type": "code",
   "execution_count": 15,
   "metadata": {
    "ExecuteTime": {
     "end_time": "2021-02-22T19:07:04.011957Z",
     "start_time": "2021-02-22T19:06:50.834841Z"
    },
    "scrolled": false
   },
   "outputs": [
    {
     "data": {
      "image/png": "[encoded data removed]",
      "text/plain": [
       "<Figure size 720x360 with 2 Axes>"
      ]
     },
     "metadata": {},
     "output_type": "display_data"
    }
   ],
   "source": [
    "import missingno as msno\n",
    "\n",
    "msno.matrix(LCD, figsize=(10, 5), color=(0.24, 0.77, 0.77), fontsize=13);"
   ]
  },
  {
   "cell_type": "markdown",
   "metadata": {},
   "source": [
    "Missing values (`NaN`'s):\n",
    "- By rows:\n",
    "    - Some rows display a fair amount of missing values. Considering that we will simply drop them, since these records carry no useful information\n",
    "- By column:\n",
    "    - `HourlyPrecipitation`: best assumption is to fill with 0's, based on two factors:  \n",
    "        - It is more conservative for our model\n",
    "        - Considering the rest of the database records, it is fair to assume that null values correspond to no trace of precipitation\n",
    "    - `HourlyAltimeterSetting`: explore imputation/interpolation\n",
    "    - `HourlySkyConditions` and `REM`: fill with pseudo-empty strings (i.e. a single space ' ')"
   ]
  },
  {
   "cell_type": "markdown",
   "metadata": {},
   "source": [
    "##### Quasi-empty rows"
   ]
  },
  {
   "cell_type": "code",
   "execution_count": 16,
   "metadata": {
    "ExecuteTime": {
     "end_time": "2021-02-22T19:07:06.557226Z",
     "start_time": "2021-02-22T19:07:04.014956Z"
    }
   },
   "outputs": [
    {
     "name": "stdout",
     "output_type": "stream",
     "text": [
      "Rows which are mainly empty: 135131 ( 3.00%)\n"
     ]
    }
   ],
   "source": [
    "# Drop rows which mainly consist of NaN elements:\n",
    "missingcols = [col for col in LCD.columns if col not in ['STATION', 'DATE', 'REM']]\n",
    "missingRows = len(LCD.dropna(axis=0, how='all', subset=missingcols))\n",
    "print(\"Rows which are mainly empty: {:d} ({:5.2f}%)\".format(len(LCD) - missingRows,\n",
    "                                                          100 * (len(LCD) - missingRows) / len(LCD)))"
   ]
  },
  {
   "cell_type": "code",
   "execution_count": 17,
   "metadata": {
    "ExecuteTime": {
     "end_time": "2021-02-22T19:07:09.042380Z",
     "start_time": "2021-02-22T19:07:06.561225Z"
    },
    "scrolled": true
   },
   "outputs": [
    {
     "data": {
      "text/plain": [
       "(4362244, 9)"
      ]
     },
     "execution_count": 17,
     "metadata": {},
     "output_type": "execute_result"
    }
   ],
   "source": [
    "# Since they account for 3% of the dataset, we will just drop them:\n",
    "LCD.dropna(axis=0, how='all', subset=missingcols, inplace=True)\n",
    "LCD.shape"
   ]
  },
  {
   "cell_type": "markdown",
   "metadata": {},
   "source": [
    "Check again the current status of the missing elements after cleaning:"
   ]
  },
  {
   "cell_type": "code",
   "execution_count": 18,
   "metadata": {
    "ExecuteTime": {
     "end_time": "2021-02-22T19:07:12.756480Z",
     "start_time": "2021-02-22T19:07:09.046378Z"
    },
    "scrolled": true
   },
   "outputs": [
    {
     "data": {
      "text/html": [
       "<div>\n",
       "<style scoped>\n",
       "    .dataframe tbody tr th:only-of-type {\n",
       "        vertical-align: middle;\n",
       "    }\n",
       "\n",
       "    .dataframe tbody tr th {\n",
       "        vertical-align: top;\n",
       "    }\n",
       "\n",
       "    .dataframe thead th {\n",
       "        text-align: right;\n",
       "    }\n",
       "</style>\n",
       "<table border=\"1\" class=\"dataframe\">\n",
       "  <thead>\n",
       "    <tr style=\"text-align: right;\">\n",
       "      <th></th>\n",
       "      <th>Absolute</th>\n",
       "      <th>Relative</th>\n",
       "    </tr>\n",
       "  </thead>\n",
       "  <tbody>\n",
       "    <tr>\n",
       "      <th>HourlyPrecipitation</th>\n",
       "      <td>1338631.0</td>\n",
       "      <td>30.686752</td>\n",
       "    </tr>\n",
       "    <tr>\n",
       "      <th>HourlyAltimeterSetting</th>\n",
       "      <td>327176.0</td>\n",
       "      <td>7.500177</td>\n",
       "    </tr>\n",
       "    <tr>\n",
       "      <th>HourlySkyConditions</th>\n",
       "      <td>282078.0</td>\n",
       "      <td>6.466351</td>\n",
       "    </tr>\n",
       "    <tr>\n",
       "      <th>HourlyRelativeHumidity</th>\n",
       "      <td>15370.0</td>\n",
       "      <td>0.352342</td>\n",
       "    </tr>\n",
       "    <tr>\n",
       "      <th>HourlyDryBulbTemperature</th>\n",
       "      <td>8025.0</td>\n",
       "      <td>0.183965</td>\n",
       "    </tr>\n",
       "    <tr>\n",
       "      <th>HourlyVisibility</th>\n",
       "      <td>6579.0</td>\n",
       "      <td>0.150817</td>\n",
       "    </tr>\n",
       "    <tr>\n",
       "      <th>REM</th>\n",
       "      <td>1286.0</td>\n",
       "      <td>0.029480</td>\n",
       "    </tr>\n",
       "    <tr>\n",
       "      <th>STATION</th>\n",
       "      <td>0.0</td>\n",
       "      <td>0.000000</td>\n",
       "    </tr>\n",
       "    <tr>\n",
       "      <th>DATE</th>\n",
       "      <td>0.0</td>\n",
       "      <td>0.000000</td>\n",
       "    </tr>\n",
       "  </tbody>\n",
       "</table>\n",
       "</div>"
      ],
      "text/plain": [
       "                           Absolute   Relative\n",
       "HourlyPrecipitation       1338631.0  30.686752\n",
       "HourlyAltimeterSetting     327176.0   7.500177\n",
       "HourlySkyConditions        282078.0   6.466351\n",
       "HourlyRelativeHumidity      15370.0   0.352342\n",
       "HourlyDryBulbTemperature     8025.0   0.183965\n",
       "HourlyVisibility             6579.0   0.150817\n",
       "REM                          1286.0   0.029480\n",
       "STATION                         0.0   0.000000\n",
       "DATE                            0.0   0.000000"
      ]
     },
     "execution_count": 18,
     "metadata": {},
     "output_type": "execute_result"
    }
   ],
   "source": [
    "# Absolute & Relative frequency of missing values by column:\n",
    "pd.set_option('display.max_rows', LCD.shape[1])\n",
    "missing = pd.DataFrame([LCD.isna().sum(), LCD.isna().sum() / len(LCD) * 100], index=['Absolute', 'Relative']).T.sort_values(by='Relative', ascending=False)\n",
    "missing"
   ]
  },
  {
   "cell_type": "code",
   "execution_count": 19,
   "metadata": {
    "ExecuteTime": {
     "end_time": "2021-02-22T19:07:27.263025Z",
     "start_time": "2021-02-22T19:07:12.760479Z"
    },
    "scrolled": true
   },
   "outputs": [
    {
     "data": {
      "image/png": "[encoded data removed]",
      "text/plain": [
       "<Figure size 720x360 with 2 Axes>"
      ]
     },
     "metadata": {},
     "output_type": "display_data"
    }
   ],
   "source": [
    "msno.matrix(LCD, figsize=(10, 5), color=(0.24, 0.77, 0.77), fontsize=13);"
   ]
  },
  {
   "cell_type": "code",
   "execution_count": 20,
   "metadata": {
    "ExecuteTime": {
     "end_time": "2021-02-22T19:07:27.294811Z",
     "start_time": "2021-02-22T19:07:27.271827Z"
    }
   },
   "outputs": [
    {
     "name": "stdout",
     "output_type": "stream",
     "text": [
      "<class 'pandas.core.frame.DataFrame'>\n",
      "Int64Index: 4362244 entries, 0 to 4497374\n",
      "Data columns (total 9 columns):\n",
      " #   Column                    Dtype \n",
      "---  ------                    ----- \n",
      " 0   STATION                   int64 \n",
      " 1   DATE                      object\n",
      " 2   HourlyAltimeterSetting    object\n",
      " 3   HourlyDryBulbTemperature  object\n",
      " 4   HourlyPrecipitation       object\n",
      " 5   HourlyRelativeHumidity    object\n",
      " 6   HourlySkyConditions       object\n",
      " 7   HourlyVisibility          object\n",
      " 8   REM                       object\n",
      "dtypes: int64(1), object(8)\n",
      "memory usage: 332.8+ MB\n"
     ]
    }
   ],
   "source": [
    "LCD.info()"
   ]
  },
  {
   "cell_type": "markdown",
   "metadata": {},
   "source": [
    "There are some columns which one would have expected to be numeric:\n",
    "- `HourlyAltimeterSetting`\n",
    "- `HourlyDryBulbTemperature`\n",
    "- `HourlyPrecipitation`\n",
    "- `HourlyRelativeHumidity`\n",
    "- `HourlyVisibility`\n",
    "\n",
    "Therefore, let's have a deeper look at their values in order to check data coherency."
   ]
  },
  {
   "cell_type": "code",
   "execution_count": 21,
   "metadata": {
    "ExecuteTime": {
     "end_time": "2021-02-22T19:07:27.310802Z",
     "start_time": "2021-02-22T19:07:27.299809Z"
    }
   },
   "outputs": [],
   "source": [
    "num_cols = [\n",
    "'HourlyAltimeterSetting', 'HourlyDryBulbTemperature', 'HourlyPrecipitation', 'HourlyRelativeHumidity', 'HourlyVisibility'\n",
    "]"
   ]
  },
  {
   "cell_type": "code",
   "execution_count": 22,
   "metadata": {
    "ExecuteTime": {
     "end_time": "2021-02-22T19:07:28.401006Z",
     "start_time": "2021-02-22T19:07:27.315798Z"
    }
   },
   "outputs": [
    {
     "name": "stdout",
     "output_type": "stream",
     "text": [
      "HourlyAltimeterSetting \n",
      " ['29.78' '29.73' nan '29.70' '29.69' '29.65' '29.64' '29.67' '29.68'\n",
      " '29.63' '29.66' '29.76' '29.82' '29.88' '29.87' '29.93' '29.99' '30.02'\n",
      " '30.05' '30.08' '30.11' '30.14' '30.15' '30.16' '30.17' '30.18' '30.20'\n",
      " '30.23' '30.24' '30.26' '30.29' '30.30' '30.32' '30.33' '30.27' '30.21'\n",
      " '30.19' '30.12' '30.09' '30.07' '30.04' '30.01' '29.97' '29.95' '29.91'\n",
      " '29.89' '29.90' '29.92' '29.96' '30.03' '30.00' '29.86' '29.84' '29.80'\n",
      " '29.79' '29.75' '29.74' '29.72' '29.71' '29.62' '29.59' '29.58' '29.56'\n",
      " '29.52' '29.51' '29.50' '29.49' '29.48' '29.46' '29.47' '29.54' '29.77'\n",
      " '29.81' '29.94' '30.06' '30.10' '30.28' '30.31' '30.35' '30.38' '30.40'\n",
      " '30.41' '30.42' '30.44' '30.47' '30.50' '30.52' '30.49' '30.45' '30.39'\n",
      " '30.37' '30.22' '30.13' '29.83' '29.57' '29.61' '29.85' '29.98' '30.34'\n",
      " '30.43' '30.48' '30.54' '30.56' '30.55' '30.46' '30.25' '30.36' '29.42'\n",
      " '29.39' '29.38' '29.36' '29.33' '29.30' '29.28s' '29.29' '29.32' '29.31'\n",
      " '29.34' '29.43' '29.53' '30.59' '30.60' '30.62' '30.65' '30.68' '30.67'\n",
      " '30.69' '30.61' '30.58' '30.53' '29.60' '29.55' '29.45' '29.44' '29.37'\n",
      " '29.35' '30.51' '30.64' '30.66' '30.70' '30.71' '30.73' '30.57' '29.41'\n",
      " '29.40' '30.63' '29.27' '29.23' '29.21' '29.20' '29.19' '29.22' '29.24'\n",
      " '29.25' '29.59s' '29.81s' '29.99s' '29.85s' '30.72' '30.1' '30.2' '30.0'\n",
      " '29.8' '29.9' '30.3' '30.4' '30.5' '29.7' '29.6' '29.55s' '29.56s'\n",
      " '29.28' '29.17' '29.15s' '29.16' '29.18' '29.29s' '29.46s' '29.47s'\n",
      " '29.48s' '29.49s' '29.74s' '29.75s' '29.77s' '29.78s' '29.79s' '29.30s'\n",
      " '29.39s' '29.42s' '29.15' '29.14' '29.13' '29.12' '29.09s' '29.09'\n",
      " '29.10' '29.11' '29.26' '29.62s' '29.65s' '29.67s' '29.26s' '29.08'\n",
      " '29.02' '29.04' '29.03' '29.01s' '29.02s' '29.03s' '29.04s' '29.07s'\n",
      " '29.08s' '29.11s' '29.06' '30.13s' '29.84s' '29.07' '29.06s' '30.74'\n",
      " '29.82s' '29.31s' '30.75' '29.05' '29.01' '29.00' '28.99' '28.97' '28.96'\n",
      " '28.95' '28.94' '28.93' '28.92' '28.90' '28.88' '28.87' '28.83' '28.77'\n",
      " '28.72' '28.70' '28.68' '28.67' '28.66' '28.65' '28.64' '28.63' '28.62'\n",
      " '28.61' '28.60' '28.59' '28.58' '28.57' '28.69' '28.71' '28.73' '28.76'\n",
      " '28.79' '28.80' '28.81' '28.82' '28.75' '28.74' '28.55' '28.54' '28.53'\n",
      " '28.52' '28.56' '28.78' '28.84' '28.85' '28.98' '28.91' '28.89' '28.86'\n",
      " '29.73s' '29.22s' '29.23s' '29.52s' '29.25s' '28.50' '28.48' '28.44'\n",
      " '28.43' '28.42' '28.38' '28.32' '28.28' '28.27' '28.25' '28.24' '28.22'\n",
      " '28.19' '28.18' '28.16' '28.15s' '28.17' '28.20' '28.21' '28.23' '28.26'\n",
      " '28.29' '28.33' '28.41' '28.47' '28.49' '28.51' '28.67s' '28.69s'\n",
      " '29.10s' '29.12s' '29.13s' '29.14s' '28.78s' '28.70s' '28.56s' '28.57s'\n",
      " '28.59s' '28.76s' '28.77s' '28.86s' '28.87s' '28.90s' '28.92s' '28.73s'\n",
      " '29.5' '30.6' '28.40' '28.34' '28.30' '28.25s' '28.26s' '28.27s' '28.28s'\n",
      " '28.36' '28.37' '28.45' '29.17s' '28.52s' '30.77' '30.80' '30.82' '30.83'\n",
      " '30.84' '30.79' '29.32s' '29.33s' '29.61s' '30.08s' '29.88s' '30.00s'\n",
      " '30.14s' '28.7' '28.9' '29.4' '29.2' '29.1' '29.3' '29.0' '28.8' '29.44s'\n",
      " '29.45s' '30.78' '30.76' '28.89s' '29.19s' '29.20s' '29.41s' '30.81'\n",
      " '29.89s' '29.92s' '29.98s' '29.93s' '29.27s' '30.85' '29.34s' '29.83s'\n",
      " '29.35s' '29.53s' '28.95s' '28.99s' '28.55s' '29.86s' '30.07s' '30.30s'\n",
      " '30.11s' '30.09s' '30.28s' '30.27s' '30.17s' '29.40s' '28.98s' '29.05s'\n",
      " '29.72s' '28.93s' '29.16s' '28.97s' '29.00s' '30.01s' '29.91s' '30.05s'\n",
      " '30.03s' '29.90s' '30.87' '29.80s' '30.12s' '29.38s' '29.50s' '28.80s'\n",
      " '28.81s' '28.83s' '28.85s' '28.88s' '28.94s' '29.97s' '30.04s' '30.02s'\n",
      " '30.7' '29.18s' '28.96s' '28.62s' '28.64s' '29.87s' '30.16s' '28.82s'\n",
      " '29.76s' '30.86' '29.70s' '30.88' '29.66s' '29.68s' '30.10s' '30.8'\n",
      " '29.58s' '28.46' '28.35' '28.32s' '28.33s' '28.91s' '30.31s' '29.96s'\n",
      " '29.43s' '28.6' '29.37s' '29.54s' '30.18s' '29.95s' '29.94s' '30.06s'\n",
      " '29.64s' '29.24s' '29.57s' '29.51s' '29.21s' '30.15s' '30.21s' '30.33s'\n",
      " '30.20s' '30.89' '29.69s' '30.34s' '28.74s' '28.75s' '30.25s' '29.60s'\n",
      " '30.29s' '28.84s' '30.90' '29.36s' '30.23s' '29.71s' '30.26s']\n",
      "HourlyDryBulbTemperature \n",
      " ['43.0' '44.0' '45.0' '46.0' '47.0' '49.0' '51.0' '50.0' '54.0' '56.0'\n",
      " '55.0' '53.0' '48.0' '41.0' '40.0' '39.0' '37.0' '36.0' '38.0' '42.0'\n",
      " '35.0' '34.0' '31.0' '32.0' '30.0' '29.0' '28.0' '27.0' '26.0' '25.0'\n",
      " '33.0' '24.0' '22.0' '21.0' '23.0' '20.0' '19.0' '17.0' '18.0' '16.0'\n",
      " '14.0' '13.0' '11.0' '10.0' '9.0' '8.0' '7.0' '6.0' '15.0' '12.0' '52.0'\n",
      " '57.0' '58.0' '59.0' '60.0' '5.0' '4.0' '2.0' '0.0' '-3.0' '-1.0' '-2.0'\n",
      " '1.0' '3.0' '61.0' '63.0' '65.0' nan '64.0' '66.0' '62.0' '67.0' '68.0'\n",
      " '69.0' '70.0' '73.0' '71.0' '72.0' '77.0' '75.0' '76.0' '74.0' '79.0'\n",
      " '78.0' '81.0' '82.0' '85.0' '86.0' '87.0' '84.0' '83.0' '80.0' '88.0'\n",
      " '89.0' '90.0' '91.0' '92.0' '93.0' '94.0' '95.0' '96.0' '35' '34' '33'\n",
      " '32' '31' '30' '29' '28' '27' '36' '38' '39' '40' '41' '42' '43' '37'\n",
      " '45' '50' '54' '57' '62' '63' '58' '53' '46' '44' '60' '66' '68' '70'\n",
      " '69' '67' '52' '55' '49' '59' '61' '64' '65' '56' '51' '48' '47' '73'\n",
      " '76' '75' '26' '25' '24' '71' '74' '72' '78' '77' '23' '22' '81' '83'\n",
      " '82' '80' '68s' '20' '19' '21' '17' '18' '79' '84' '85' '86' '88' '89'\n",
      " '90' '91' '94' '95' '96' '93' '87' '92' '97' '98' '100' '101' '102' '70s'\n",
      " '99' '103' '104' '105' '106' '108' '107' '97.0' '98.0' '99.0' '100.0'\n",
      " '-6' '-7' '-9' '-5' '-3' '-1' '0' '1' '-2' '3' '5' '7' '9' '10' '12' '11'\n",
      " '14' '15' '16' '13' '8' '6' '4' '2' '-4' '-8' '-10' '-11' '-13' '-15'\n",
      " '-19' '-18' '-12' '-16' '-17' '-14' '-21' '-24' '-25' '-26' '-28' '-32'\n",
      " '-34' '-30' '-29' '-20' '-22' '-23' '69s' '46s' '30s' '72s' '89s' '*'\n",
      " '73s' '75s' '78s' '67s' '71s' '54s' '80s' '82s' '59s' '49s' '63s' '48s'\n",
      " '66s' '65s' '77s' '76s' '-9.0' '-11.0' '-12.0' '-10.0' '-15.0' '-14.0'\n",
      " '-4.0' '-6.0' '-5.0' '-8.0' '-7.0' '-21.0' '-24.0' '-16.0' '-20.0'\n",
      " '-19.0' '-17.0' '-13.0' '-18.0' '-22.0' '-26.0' '-27' '74s' '29s' '31s'\n",
      " '85s' '57s' '58s' '62s' '86s' '10s' '42s' '44s' '84s' '81s' '60s' '-23.0'\n",
      " '-25.0' '-27.0' '-29.0' '-30.0' '-33.0' '-31.0' '-32.0' '64s' '33s' '90s'\n",
      " '38s' '61s' '56s' '95s' '51s' '101.0' '103.0' '102.0' '104.0' '106.0'\n",
      " '107.0' '105.0' '108.0' '109.0' '97s' '100s' '-31' '41s' '-33' '-35'\n",
      " '-36' '-37' '-38' '-4s' '112' '119' '121' '123' '120' '122' '117' '115'\n",
      " '126' '79s' '125s' '125' '128' '-36s' '-38s' '-40' '-43s' '-42s' '-41s'\n",
      " '-40s' '-41' '-42' '-34s' '-30s' '17s' '50s' '83s' '16s' '15s' '12s'\n",
      " '45s' '32s' '35s' '47s' '91s' '-6s' '88s' '93s' '87s' '40s' '92s' '-28.0'\n",
      " '27s' '13s' '28s' '34s' '37s' '20s' '14s' '36s' '21s' '55s' '94s' '0s'\n",
      " '1s' '2s' '52s' '11s' '39s' '23s' '24s' '22s' '26s' '-39' '-44' '-43'\n",
      " '5s' '19s' '-5s' '96s' '18s' '25s' '43s' '-3s' '-45' '6s' '-8s' '-2s'\n",
      " '-1s' '110.0' '111.0' '9s' '53s' '99s' '111' '110' '109' '113' '101s'\n",
      " '114' '-22s' '116' '118' '102s' '98s' '3s' '4s' '-33s' '-35s']\n",
      "HourlyPrecipitation \n",
      " ['T' '0.01' nan '0.00' '0.03' '0.04' '0.05' '0.08' '0.09' '0.02' '0.11'\n",
      " '0.12' '0.07' '0.06' '0.19' '0.21' '0.09s' '0.03s' '0.10' '0.14' '0.16'\n",
      " '0.22' '0.18' '0.15' '0.17' '0.25' '0.24' '0.13' '0.74' '1.06' '1.00'\n",
      " '1.80' '3.54' '0.52' '1.07' '1.67' '1.91' '0.35' '0.89' '0.90' '0.02s'\n",
      " '0.28' '0.31' '0.38' '0.33' '0.36' '0.39' '0.37' '0.58s' '0.30' '0.32'\n",
      " '0.40' '0.20' '0.41' '0.42' '0.05s' '0.43' '0.55' '0.79' '0.26' '0.57'\n",
      " '0.58' '0.61' '0.62' '0.65' '0.23' '0.45' '0.01s' '0.34' '0.76s' '0.54'\n",
      " '0.25s' '0.47' '0.67' '1.10' '1.12' '1.13' '0.64' '0.66' '0.70' '1.20'\n",
      " '1.41' '1.43' '0.27' '0.46' '0.63s' '1.15' '1.16' '0.50' '0.51' '1.22'\n",
      " '0.29' '0.59' '0.83s' '0.44' '0.75' '0.81' '0.84' '0.48' '0.19s' '0.53'\n",
      " '0.64s' '0.13s' '0.82' '0.98' '1.08' '1.00s' '0.73' '0.87' '0.92' '0.60'\n",
      " '0.83' '0.21s' '0.71' '0.96' '0.63' '0.69s' '0.14s' '0.08s' '0.04s'\n",
      " '0.06s' '0.07s' '0.10s' '0.49' '0.12s' '0.27s' '2.22s' '1.88' '2.16'\n",
      " '2.13' '0.16s' '1.19' '1.66' '1.93' '1.99' '2.02' '2.01' '0.96s' '1.05'\n",
      " '1.08s' '0.49s' '0.77' '0.46s' '0.78' '0.68' '0.35s' '0.56' '0.18s'\n",
      " '0.76' '0.57s' '0.85' '0.72' '0.91' '1.18' '1.27' '0.70s' '0.71s' '1.25'\n",
      " '1.29' '0.32s' '0.11s' '0.80' '0.86' '0.88' '1.69' '1.65' '0.20s' '0.56s'\n",
      " '1.30' '0.15s' '0.69' '0.97' '0.95' '0.91s' '1.52' '1.84' '1.73' '0.36s'\n",
      " '0.99' '2.19' '0.28s' '1.24' '0.39s' '2.47' '2.22' '2.34' '2.87' '3.04'\n",
      " '2.60' '1.94' '1.96' '1.97' '1.04' '1.06s' '0.48s' '1.32' '1.47' '1.70'\n",
      " '1.55' '1.37' '1.68' '1.81' '1.86' '1.50' '2.04' '2.11' '0.22s' '0.17s'\n",
      " '0.75s' '0.24s' '0.43s' '1.45' '1.44' '0.23s' '1.02' '1.01' '0.30s'\n",
      " '0.54s' '0.94' '0.45s' '0.88s' '0.89s' '0.1' '0.2' '0.67s' '1.75' '1.10s'\n",
      " '1.03' '0.42s' '1.26' '0.93' '0.34s' '0.29s' '0.040.13s' '0.050.14s'\n",
      " '1.17' '1.23' '0.37s' '1.54' '1.53' '1.60' '2.00' '1.11' '0.51s' '1.85'\n",
      " '0.79s' '0.62s' '2.18' '0.4' '1.28' '0.05sTs' '0.05s0.01s' '0.52s'\n",
      " '1.50s' '1.38' '1.49' '1.51' '2.24' '2.07' '0.86s' '1.35' '1.36' '1.40'\n",
      " '2.25' '1.31' '1.95' '1.42' '1.59' '1.58' '2.09' '1.92' '0.3' '1.62'\n",
      " '1.63' '0.6' '2.31' '0.5' '1.51s' '1.09' '1.89' '1.56' '0.40s' '1.02s'\n",
      " '1.45s' '2.80' '2.58' '3.15s' '0.97s' '1.46' '0.53s' '1.03s' '0.60s'\n",
      " '1.21' '1.57' '0.26s' '1.19s' '0.66s' '0.77s' '0.59s' '0.31s' '1.72'\n",
      " '1.64' '1.14' '0.47s' '1.33' '0.41s' '0.50s' '0.94s' '1.74s' '1.39'\n",
      " '1.44s' '1.12s' '0.44s' '1.32s' '1.22s' '1.34' '1.79' '1.18s' '1.48'\n",
      " '2.06' '3.26' '3.14' '0.68s' '0.010.01s' '1.01s' '1.93s' '2.42' '1.14s'\n",
      " '1.82' '1.83' '0.72s' '1.47s' '1.77' '0.99s' '1.24s' '1.76' '1.61s'\n",
      " '0.87s' '1.31s' '3.16' '4.44' '0.38s' '2.12' '2.43' '0.84s' '2.08'\n",
      " '1.38s' '0.080.05s' '0.33s' '2.23' '2.03' '0.90s' '0.04s0.29s' '1.74'\n",
      " '1.87' '2.05' '3.86s' '2.33' '2.84' '2.69' '2.29' '1.30s' '2.20' '2.49'\n",
      " '0.55s' '0.040.06s' '1.98' '1.54s' '2.32s' '0.93s' '0.030.04s' '0.81s'\n",
      " '1.70s' '1.90' '2.48' '2.56' '2.46' '2.40' '2.41' '2.82' '2.94' '0.61s'\n",
      " '2.38' '3.21' '1.98s' '1.26s' '1.17s' '1.15s' '2.23s' '2.92' '3.33'\n",
      " '1.65s' '1.61' '0.160.16s' '0.180.14s' '1.71' '1.78' '1.55s' '0.65s'\n",
      " '1.63s' '1.09s' '0.85s' '1.75s' '0.73s' '0.040.01s' '2.74s' '1.27s'\n",
      " '1.37s' '1.56s' '2.76' '1.99s' '0.82s' '0.98s' '1.71s' '2.30' '2.32'\n",
      " '0.78s' '2.53' '2.67s' '0.080.06s' '0.070.03s' '1.69s' '2.17s' '1.33s'\n",
      " '1.05s' '1.20s' '0.92s' '0.95s' '1.16s' '2.14' '1.53s' '1.07s'\n",
      " '0.010.03s' '1.58s' '0.100.17s' '1.11s' '0.80s']\n"
     ]
    },
    {
     "name": "stdout",
     "output_type": "stream",
     "text": [
      "HourlyRelativeHumidity \n",
      " ['89.0' '86.0' '85.0' '93.0' '87.0' '90.0' '77.0' '60.0' '53.0' '49.0'\n",
      " '51.0' '50.0' '52.0' '54.0' '56.0' '58.0' '65.0' '62.0' '70.0' '73.0'\n",
      " '68.0' '76.0' '57.0' '63.0' '67.0' '79.0' '55.0' '64.0' '72.0' '75.0'\n",
      " '78.0' '81.0' '83.0' '80.0' '71.0' '74.0' '66.0' '44.0' '43.0' '41.0'\n",
      " '34.0' '38.0' '40.0' '45.0' '48.0' '46.0' '31.0' '29.0' '26.0' '28.0'\n",
      " '33.0' '61.0' '82.0' '42.0' '47.0' '59.0' '39.0' '36.0' '25.0' '30.0'\n",
      " '32.0' '37.0' '35.0' '69.0' '88.0' '84.0' '24.0' nan '92.0' '27.0' '22.0'\n",
      " '23.0' '21.0' '19.0' '18.0' '17.0' '20.0' '16.0' '15.0' '91.0' '94.0'\n",
      " '96.0' '100.0' '97.0' '14.0' '13.0' '12.0' '11.0' '10.0' '9.0' '8.0'\n",
      " '7.0' '6.0' '5.0' '95.0' '84' '90' '93' '88' '87' '74' '79' '71' '65'\n",
      " '62' '67' '91' '94' '96' '97' '83' '82' '76' '69' '66' '100' '78' '68'\n",
      " '61' '51' '47' '50' '53' '60' '64' '73' '77' '43' '40' '41' '48' '86'\n",
      " '89' '45' '36' '35' '33' '31' '58' '70' '72' '75' '85' '54' '42' '39'\n",
      " '80' '59' '81' '57' '46' '34' '32' '25' '22' '21' '24' '28' '37' '49'\n",
      " '55' '29' '30' '38' '56' '44' '63' '52' '27' '26' '92' '20' '23' '19'\n",
      " '18' '17' '*' '99.0' '98.0' '4.0' '3.0' '2.0' '16' '13' '12' '10' '11'\n",
      " '15' '14' '95' '8' '9' '1.0' '99' '6' '5' '7']\n",
      "HourlyVisibility \n",
      " ['3.00' '2.98' '2.00' '1.50' '1.75' '2.50' '4.00' '8.00' '7.00' '6.00'\n",
      " '6.84' '10.00' '9.94' '3.73' '9.00' '5.59' '5.00' '1.25' '4.97' '0.75'\n",
      " '2.49' '1.00' '8.70' '7.46' '1.24' '0.25' '1.74' '0.50' '1.25V' '1.99'\n",
      " '2.50V' '2.00V' '1.75V' '1.49' '0.99' nan '0.75V' '1.50V' '1.00V' '0.00'\n",
      " '0.50V' '10.00V' '3.00V' '0.12' '5.00V' '4.00V' '6.00V' '0.25V' '0.00V'\n",
      " '8.00V' '99.42' '0.12s' '*' '0.50s' '0.25s' '0.75s' '1.50s' '1.00s'\n",
      " '2.50s' '3.00s' '2.00s' '7.00V' '6.21' '0.50Vs' '0.19' '9.00V' '8.00s'\n",
      " '86.00' '2.25' '2.75' '1.88' '1.13' '1.62' '1.38' '0.87' '0.63' '0.38'\n",
      " '5.00s' '2.50Vs' '7.00s' '9.00s' '0.00s' '1.25Vs' '0.25Vs' '3.50' '10.0'\n",
      " '7.0' '5.0' '2.0' '6.0' '1.0' '3.0' '4.0' '2.5' '1.5' '0.12V' '0.06'\n",
      " '1.25s' '6.00s' '1.75s' '10.00s' '4.00s' '1.50Vs' '2.00Vs' '20.00'\n",
      " '15.00' '11.00' '0.20' '42.00' '32.00' '18.00' '1.75Vs' '0.12Vs' '12.00'\n",
      " '11.81' '10.56' '1.00Vs' '8.0' '0.5' '9.0' '8.7' '0.0' '0.75Vs']\n"
     ]
    }
   ],
   "source": [
    "for col in num_cols:\n",
    "    print(col, \"\\n\", LCD[col].unique())"
   ]
  },
  {
   "cell_type": "markdown",
   "metadata": {},
   "source": [
    "Observations:\n",
    "- `HourlyAltimeterSetting`:\n",
    "    - `nan`'s\n",
    "    - \"s\" characters at the end of some values\n",
    "- `HourlyDryBulbTemperature`\n",
    "    - `nan`'s\n",
    "    - \"s\" characters at the end of some values\n",
    "    - \" * \" characters\n",
    "- `HourlyPrecipitation`\n",
    "    - `nan`'s\n",
    "    - \"s\" characters at the end of some values\n",
    "    - \"T\" character, which according to the documentation, it denotes \"a trace amount of precipitation\"\n",
    "    - Mixed values such as '0.040.13s' or '0.05s0.01s' → treat these as `nan`s, since it is not easy to find which is correct\n",
    "- `HourlyRelativeHumidity`\n",
    "    - `nan`'s\n",
    "    - \" * \" characters\n",
    "- `HourlyVisibility`\n",
    "    - `nan`'s\n",
    "    - \"s\" and/or \"V\" characters at the end of some values"
   ]
  },
  {
   "cell_type": "markdown",
   "metadata": {},
   "source": [
    "##### 1. `HourlyAltimeterSetting` column"
   ]
  },
  {
   "cell_type": "markdown",
   "metadata": {},
   "source": [
    "- `HourlyAltimeterSetting`:\n",
    "    - `nan`'s\n",
    "    - \"s\" characters at the end of some values"
   ]
  },
  {
   "cell_type": "code",
   "execution_count": 23,
   "metadata": {
    "ExecuteTime": {
     "end_time": "2021-02-22T19:07:31.287137Z",
     "start_time": "2021-02-22T19:07:28.410002Z"
    }
   },
   "outputs": [],
   "source": [
    "# First we need to cast it to numeric type. However, we find some \"s\" at the end of some values; just get rid of them:\n",
    "LCD['HourlyAltimeterSetting'] = LCD['HourlyAltimeterSetting'].str.replace('s', '')\n",
    "LCD['HourlyAltimeterSetting'] = LCD['HourlyAltimeterSetting'].astype('float64')"
   ]
  },
  {
   "cell_type": "code",
   "execution_count": 24,
   "metadata": {
    "ExecuteTime": {
     "end_time": "2021-02-22T19:07:31.397059Z",
     "start_time": "2021-02-22T19:07:31.293124Z"
    },
    "scrolled": true
   },
   "outputs": [
    {
     "data": {
      "text/html": [
       "<div>\n",
       "<style scoped>\n",
       "    .dataframe tbody tr th:only-of-type {\n",
       "        vertical-align: middle;\n",
       "    }\n",
       "\n",
       "    .dataframe tbody tr th {\n",
       "        vertical-align: top;\n",
       "    }\n",
       "\n",
       "    .dataframe thead th {\n",
       "        text-align: right;\n",
       "    }\n",
       "</style>\n",
       "<table border=\"1\" class=\"dataframe\">\n",
       "  <thead>\n",
       "    <tr style=\"text-align: right;\">\n",
       "      <th></th>\n",
       "      <th>STATION</th>\n",
       "      <th>DATE</th>\n",
       "      <th>HourlyAltimeterSetting</th>\n",
       "      <th>HourlyDryBulbTemperature</th>\n",
       "      <th>HourlyPrecipitation</th>\n",
       "      <th>HourlyRelativeHumidity</th>\n",
       "      <th>HourlySkyConditions</th>\n",
       "      <th>HourlyVisibility</th>\n",
       "      <th>REM</th>\n",
       "    </tr>\n",
       "  </thead>\n",
       "  <tbody>\n",
       "    <tr>\n",
       "      <th>2</th>\n",
       "      <td>72517014737</td>\n",
       "      <td>2019-01-01T01:00:00</td>\n",
       "      <td>NaN</td>\n",
       "      <td>43.0</td>\n",
       "      <td>NaN</td>\n",
       "      <td>89.0</td>\n",
       "      <td>5</td>\n",
       "      <td>2.98</td>\n",
       "      <td>SYN09272517 17248 80000 10061 20044 39932 4007...</td>\n",
       "    </tr>\n",
       "    <tr>\n",
       "      <th>20</th>\n",
       "      <td>72517014737</td>\n",
       "      <td>2019-01-01T07:00:00</td>\n",
       "      <td>NaN</td>\n",
       "      <td>50.0</td>\n",
       "      <td>NaN</td>\n",
       "      <td>89.0</td>\n",
       "      <td>5</td>\n",
       "      <td>6.84</td>\n",
       "      <td>SYN09272517 32261 82316 10100 20083 39908 4004...</td>\n",
       "    </tr>\n",
       "    <tr>\n",
       "      <th>29</th>\n",
       "      <td>72517014737</td>\n",
       "      <td>2019-01-01T13:00:00</td>\n",
       "      <td>NaN</td>\n",
       "      <td>54.0</td>\n",
       "      <td>NaN</td>\n",
       "      <td>49.0</td>\n",
       "      <td>41</td>\n",
       "      <td>9.94</td>\n",
       "      <td>SYN08672517 32666 23017 10122 20017 39982 4011...</td>\n",
       "    </tr>\n",
       "    <tr>\n",
       "      <th>36</th>\n",
       "      <td>72517014737</td>\n",
       "      <td>2019-01-01T19:00:00</td>\n",
       "      <td>NaN</td>\n",
       "      <td>46.0</td>\n",
       "      <td>NaN</td>\n",
       "      <td>56.0</td>\n",
       "      <td>57</td>\n",
       "      <td>9.94</td>\n",
       "      <td>SYN08072517 32766 62806 10078 21006 30059 4019...</td>\n",
       "    </tr>\n",
       "    <tr>\n",
       "      <th>44</th>\n",
       "      <td>72517014737</td>\n",
       "      <td>2019-01-02T01:00:00</td>\n",
       "      <td>NaN</td>\n",
       "      <td>40.0</td>\n",
       "      <td>NaN</td>\n",
       "      <td>60.0</td>\n",
       "      <td>41</td>\n",
       "      <td>9.94</td>\n",
       "      <td>SYN08072517 32666 63404 10044 21028 30082 4022...</td>\n",
       "    </tr>\n",
       "  </tbody>\n",
       "</table>\n",
       "</div>"
      ],
      "text/plain": [
       "        STATION                 DATE  HourlyAltimeterSetting  \\\n",
       "2   72517014737  2019-01-01T01:00:00                     NaN   \n",
       "20  72517014737  2019-01-01T07:00:00                     NaN   \n",
       "29  72517014737  2019-01-01T13:00:00                     NaN   \n",
       "36  72517014737  2019-01-01T19:00:00                     NaN   \n",
       "44  72517014737  2019-01-02T01:00:00                     NaN   \n",
       "\n",
       "   HourlyDryBulbTemperature HourlyPrecipitation HourlyRelativeHumidity  \\\n",
       "2                      43.0                 NaN                   89.0   \n",
       "20                     50.0                 NaN                   89.0   \n",
       "29                     54.0                 NaN                   49.0   \n",
       "36                     46.0                 NaN                   56.0   \n",
       "44                     40.0                 NaN                   60.0   \n",
       "\n",
       "   HourlySkyConditions HourlyVisibility  \\\n",
       "2                    5             2.98   \n",
       "20                   5             6.84   \n",
       "29                  41             9.94   \n",
       "36                  57             9.94   \n",
       "44                  41             9.94   \n",
       "\n",
       "                                                  REM  \n",
       "2   SYN09272517 17248 80000 10061 20044 39932 4007...  \n",
       "20  SYN09272517 32261 82316 10100 20083 39908 4004...  \n",
       "29  SYN08672517 32666 23017 10122 20017 39982 4011...  \n",
       "36  SYN08072517 32766 62806 10078 21006 30059 4019...  \n",
       "44  SYN08072517 32666 63404 10044 21028 30082 4022...  "
      ]
     },
     "execution_count": 24,
     "metadata": {},
     "output_type": "execute_result"
    }
   ],
   "source": [
    "LCD[LCD['HourlyAltimeterSetting'].isna()].head()"
   ]
  },
  {
   "cell_type": "markdown",
   "metadata": {},
   "source": [
    "Since data is arranged according to date and time, let's examine a couple of examples; the rows immediately preceding and following the NaN ones."
   ]
  },
  {
   "cell_type": "code",
   "execution_count": 25,
   "metadata": {
    "ExecuteTime": {
     "end_time": "2021-02-22T19:07:31.664892Z",
     "start_time": "2021-02-22T19:07:31.401057Z"
    },
    "scrolled": true
   },
   "outputs": [
    {
     "data": {
      "text/html": [
       "<div>\n",
       "<style scoped>\n",
       "    .dataframe tbody tr th:only-of-type {\n",
       "        vertical-align: middle;\n",
       "    }\n",
       "\n",
       "    .dataframe tbody tr th {\n",
       "        vertical-align: top;\n",
       "    }\n",
       "\n",
       "    .dataframe thead th {\n",
       "        text-align: right;\n",
       "    }\n",
       "</style>\n",
       "<table border=\"1\" class=\"dataframe\">\n",
       "  <thead>\n",
       "    <tr style=\"text-align: right;\">\n",
       "      <th></th>\n",
       "      <th>STATION</th>\n",
       "      <th>DATE</th>\n",
       "      <th>HourlyAltimeterSetting</th>\n",
       "      <th>HourlyDryBulbTemperature</th>\n",
       "      <th>HourlyPrecipitation</th>\n",
       "      <th>HourlyRelativeHumidity</th>\n",
       "      <th>HourlySkyConditions</th>\n",
       "      <th>HourlyVisibility</th>\n",
       "      <th>REM</th>\n",
       "    </tr>\n",
       "  </thead>\n",
       "  <tbody>\n",
       "    <tr>\n",
       "      <th>1</th>\n",
       "      <td>72517014737</td>\n",
       "      <td>2019-01-01T00:51:00</td>\n",
       "      <td>29.73</td>\n",
       "      <td>43.0</td>\n",
       "      <td>0.01</td>\n",
       "      <td>89.0</td>\n",
       "      <td>OVC:08 5</td>\n",
       "      <td>3.00</td>\n",
       "      <td>MET14401/01/19 00:51:02 METAR KABE 010551Z 000...</td>\n",
       "    </tr>\n",
       "    <tr>\n",
       "      <th>2</th>\n",
       "      <td>72517014737</td>\n",
       "      <td>2019-01-01T01:00:00</td>\n",
       "      <td>NaN</td>\n",
       "      <td>43.0</td>\n",
       "      <td>NaN</td>\n",
       "      <td>89.0</td>\n",
       "      <td>5</td>\n",
       "      <td>2.98</td>\n",
       "      <td>SYN09272517 17248 80000 10061 20044 39932 4007...</td>\n",
       "    </tr>\n",
       "    <tr>\n",
       "      <th>3</th>\n",
       "      <td>72517014737</td>\n",
       "      <td>2019-01-01T01:10:00</td>\n",
       "      <td>29.70</td>\n",
       "      <td>43.0</td>\n",
       "      <td>NaN</td>\n",
       "      <td>89.0</td>\n",
       "      <td>OVC:08 5</td>\n",
       "      <td>2.00</td>\n",
       "      <td>MET10501/01/19 01:10:02 SPECI KABE 010610Z 120...</td>\n",
       "    </tr>\n",
       "  </tbody>\n",
       "</table>\n",
       "</div>"
      ],
      "text/plain": [
       "       STATION                 DATE  HourlyAltimeterSetting  \\\n",
       "1  72517014737  2019-01-01T00:51:00                   29.73   \n",
       "2  72517014737  2019-01-01T01:00:00                     NaN   \n",
       "3  72517014737  2019-01-01T01:10:00                   29.70   \n",
       "\n",
       "  HourlyDryBulbTemperature HourlyPrecipitation HourlyRelativeHumidity  \\\n",
       "1                     43.0                0.01                   89.0   \n",
       "2                     43.0                 NaN                   89.0   \n",
       "3                     43.0                 NaN                   89.0   \n",
       "\n",
       "  HourlySkyConditions HourlyVisibility  \\\n",
       "1            OVC:08 5             3.00   \n",
       "2                   5             2.98   \n",
       "3            OVC:08 5             2.00   \n",
       "\n",
       "                                                 REM  \n",
       "1  MET14401/01/19 00:51:02 METAR KABE 010551Z 000...  \n",
       "2  SYN09272517 17248 80000 10061 20044 39932 4007...  \n",
       "3  MET10501/01/19 01:10:02 SPECI KABE 010610Z 120...  "
      ]
     },
     "execution_count": 25,
     "metadata": {},
     "output_type": "execute_result"
    }
   ],
   "source": [
    "LCD.loc[[1,2,3],:]"
   ]
  },
  {
   "cell_type": "code",
   "execution_count": 26,
   "metadata": {
    "ExecuteTime": {
     "end_time": "2021-02-22T19:07:31.694874Z",
     "start_time": "2021-02-22T19:07:31.667893Z"
    },
    "scrolled": true
   },
   "outputs": [
    {
     "data": {
      "text/html": [
       "<div>\n",
       "<style scoped>\n",
       "    .dataframe tbody tr th:only-of-type {\n",
       "        vertical-align: middle;\n",
       "    }\n",
       "\n",
       "    .dataframe tbody tr th {\n",
       "        vertical-align: top;\n",
       "    }\n",
       "\n",
       "    .dataframe thead th {\n",
       "        text-align: right;\n",
       "    }\n",
       "</style>\n",
       "<table border=\"1\" class=\"dataframe\">\n",
       "  <thead>\n",
       "    <tr style=\"text-align: right;\">\n",
       "      <th></th>\n",
       "      <th>STATION</th>\n",
       "      <th>DATE</th>\n",
       "      <th>HourlyAltimeterSetting</th>\n",
       "      <th>HourlyDryBulbTemperature</th>\n",
       "      <th>HourlyPrecipitation</th>\n",
       "      <th>HourlyRelativeHumidity</th>\n",
       "      <th>HourlySkyConditions</th>\n",
       "      <th>HourlyVisibility</th>\n",
       "      <th>REM</th>\n",
       "    </tr>\n",
       "  </thead>\n",
       "  <tbody>\n",
       "    <tr>\n",
       "      <th>19</th>\n",
       "      <td>72517014737</td>\n",
       "      <td>2019-01-01T06:51:00</td>\n",
       "      <td>29.66</td>\n",
       "      <td>50.0</td>\n",
       "      <td>0.00</td>\n",
       "      <td>89.0</td>\n",
       "      <td>OVC:08 4</td>\n",
       "      <td>7.00</td>\n",
       "      <td>MET11901/01/19 06:51:02 METAR KABE 011151Z 230...</td>\n",
       "    </tr>\n",
       "    <tr>\n",
       "      <th>20</th>\n",
       "      <td>72517014737</td>\n",
       "      <td>2019-01-01T07:00:00</td>\n",
       "      <td>NaN</td>\n",
       "      <td>50.0</td>\n",
       "      <td>NaN</td>\n",
       "      <td>89.0</td>\n",
       "      <td>5</td>\n",
       "      <td>6.84</td>\n",
       "      <td>SYN09272517 32261 82316 10100 20083 39908 4004...</td>\n",
       "    </tr>\n",
       "    <tr>\n",
       "      <th>21</th>\n",
       "      <td>72517014737</td>\n",
       "      <td>2019-01-01T07:05:00</td>\n",
       "      <td>29.67</td>\n",
       "      <td>50.0</td>\n",
       "      <td>NaN</td>\n",
       "      <td>89.0</td>\n",
       "      <td>BKN:07 5 OVC:08 60</td>\n",
       "      <td>7.00</td>\n",
       "      <td>MET09201/01/19 07:05:02 SPECI KABE 011205Z 240...</td>\n",
       "    </tr>\n",
       "  </tbody>\n",
       "</table>\n",
       "</div>"
      ],
      "text/plain": [
       "        STATION                 DATE  HourlyAltimeterSetting  \\\n",
       "19  72517014737  2019-01-01T06:51:00                   29.66   \n",
       "20  72517014737  2019-01-01T07:00:00                     NaN   \n",
       "21  72517014737  2019-01-01T07:05:00                   29.67   \n",
       "\n",
       "   HourlyDryBulbTemperature HourlyPrecipitation HourlyRelativeHumidity  \\\n",
       "19                     50.0                0.00                   89.0   \n",
       "20                     50.0                 NaN                   89.0   \n",
       "21                     50.0                 NaN                   89.0   \n",
       "\n",
       "   HourlySkyConditions HourlyVisibility  \\\n",
       "19            OVC:08 4             7.00   \n",
       "20                   5             6.84   \n",
       "21  BKN:07 5 OVC:08 60             7.00   \n",
       "\n",
       "                                                  REM  \n",
       "19  MET11901/01/19 06:51:02 METAR KABE 011151Z 230...  \n",
       "20  SYN09272517 32261 82316 10100 20083 39908 4004...  \n",
       "21  MET09201/01/19 07:05:02 SPECI KABE 011205Z 240...  "
      ]
     },
     "execution_count": 26,
     "metadata": {},
     "output_type": "execute_result"
    }
   ],
   "source": [
    "LCD.loc[[19,20,21],:]"
   ]
  },
  {
   "cell_type": "markdown",
   "metadata": {},
   "source": [
    "Based on these results, it seems like **linear interpolation** may be reasonable in this case."
   ]
  },
  {
   "cell_type": "code",
   "execution_count": 27,
   "metadata": {
    "ExecuteTime": {
     "end_time": "2021-02-22T19:07:32.218549Z",
     "start_time": "2021-02-22T19:07:31.698871Z"
    }
   },
   "outputs": [],
   "source": [
    "# Interpolation has been reviewed as a reasonable approach. Let's apply it:\n",
    "LCD['HourlyAltimeterSetting'].interpolate(method='linear', axis=0, inplace=True)"
   ]
  },
  {
   "cell_type": "markdown",
   "metadata": {},
   "source": [
    "##### 2. `HourlyDryBulbTemperature` column"
   ]
  },
  {
   "cell_type": "markdown",
   "metadata": {},
   "source": [
    "- `HourlyDryBulbTemperature`\n",
    "    - `nan`'s\n",
    "    - \"s\" characters at the end of some values\n",
    "    - \" * \" characters"
   ]
  },
  {
   "cell_type": "code",
   "execution_count": 28,
   "metadata": {
    "ExecuteTime": {
     "end_time": "2021-02-22T19:07:37.585111Z",
     "start_time": "2021-02-22T19:07:32.223547Z"
    }
   },
   "outputs": [],
   "source": [
    "# First we need to cast it to numeric type. However, we find some \"s\" at the end of some values; just get rid of them:\n",
    "LCD['HourlyDryBulbTemperature'] = LCD['HourlyDryBulbTemperature'].str.replace('s', '')\n",
    "# Similarly, we'll replace '*' by 'NaN's, since they both represent missing values:\n",
    "LCD['HourlyDryBulbTemperature'] = LCD['HourlyDryBulbTemperature'].str.replace('*', 'NaN')\n",
    "LCD['HourlyDryBulbTemperature'] = LCD['HourlyDryBulbTemperature'].astype('float64')\n",
    "# Likewise, interpolation has been reviewed as a reasonable approach. Let's apply it:\n",
    "LCD['HourlyDryBulbTemperature'].interpolate(method='linear', axis=0, inplace=True)"
   ]
  },
  {
   "cell_type": "markdown",
   "metadata": {},
   "source": [
    "##### 3. `HourlyPrecipitation` column"
   ]
  },
  {
   "cell_type": "markdown",
   "metadata": {},
   "source": [
    "- `HourlyPrecipitation`\n",
    "    - `nan`'s\n",
    "    - \"s\" characters at the end of some values\n",
    "    - \"T\" character, which according to the documentation, it denotes \"a trace amount of precipitation\"\n",
    "    - Mixed values such as '0.040.13s' or '0.05s0.01s' → treat these as `nan`s, since it is not easy to find which is correct"
   ]
  },
  {
   "cell_type": "code",
   "execution_count": 29,
   "metadata": {
    "ExecuteTime": {
     "end_time": "2021-02-22T19:07:46.829937Z",
     "start_time": "2021-02-22T19:07:37.585111Z"
    },
    "scrolled": true
   },
   "outputs": [],
   "source": [
    "# First we need to cast it to numeric type. However, we find some \"s\" at the end of some values; just get rid of them:\n",
    "LCD['HourlyPrecipitation'] = LCD['HourlyPrecipitation'].str.replace('s', '')\n",
    "# Similarly, we'll replace 'T' by '0':\n",
    "LCD['HourlyPrecipitation'] = LCD['HourlyPrecipitation'].str.replace('T', '0')\n",
    "# Deal with \"strange\" values in the format of \"0.010.03s\":\n",
    "LCD.loc[LCD[LCD['HourlyPrecipitation'].str.len() > 4].index, 'HourlyPrecipitation'] = '0'\n",
    "LCD['HourlyPrecipitation'] = LCD['HourlyPrecipitation'].astype('float64')\n",
    "# Following previous comments, NaN's will be replaced by 0 for this column:\n",
    "LCD['HourlyPrecipitation'].fillna(0, inplace=True)"
   ]
  },
  {
   "cell_type": "markdown",
   "metadata": {},
   "source": [
    "##### 4. `HourlyRelativeHumidity` column"
   ]
  },
  {
   "cell_type": "markdown",
   "metadata": {},
   "source": [
    "- `HourlyRelativeHumidity`\n",
    "    - `nan`'s\n",
    "    - \" * \" characters"
   ]
  },
  {
   "cell_type": "code",
   "execution_count": 30,
   "metadata": {
    "ExecuteTime": {
     "end_time": "2021-02-22T19:07:50.774196Z",
     "start_time": "2021-02-22T19:07:46.829937Z"
    }
   },
   "outputs": [],
   "source": [
    "# First we need to cast it to numeric type. However, we'll replace '*' by 'NaN's, since they both represent missing values:\n",
    "LCD['HourlyRelativeHumidity'] = LCD['HourlyRelativeHumidity'].str.replace('*', 'NaN')\n",
    "LCD['HourlyRelativeHumidity'] = LCD['HourlyRelativeHumidity'].astype('float64')\n",
    "# Likewise, interpolation has been reviewed as a reasonable approach. Let's apply it:\n",
    "LCD['HourlyRelativeHumidity'].interpolate(method='linear', axis=0, inplace=True)"
   ]
  },
  {
   "cell_type": "markdown",
   "metadata": {},
   "source": [
    "##### 5. `HourlyVisibility` column"
   ]
  },
  {
   "cell_type": "markdown",
   "metadata": {},
   "source": [
    "- `HourlyVisibility`\n",
    "    - `nan`'s\n",
    "    - \"s\" and/or \"V\" characters at the end of some values"
   ]
  },
  {
   "cell_type": "code",
   "execution_count": 31,
   "metadata": {
    "ExecuteTime": {
     "end_time": "2021-02-22T19:07:57.768913Z",
     "start_time": "2021-02-22T19:07:50.778194Z"
    }
   },
   "outputs": [],
   "source": [
    "# First we need to cast it to numeric type. However, we find some \"s\" at the end of some values; just get rid of them:\n",
    "LCD['HourlyVisibility'] = LCD['HourlyVisibility'].str.replace('s', '')\n",
    "# Similarly, we'll replace also 'V':\n",
    "LCD['HourlyVisibility'] = LCD['HourlyVisibility'].str.replace('V', '')\n",
    "# Plus, we'll replace '*' by 'NaN's, since they both represent missing values:\n",
    "LCD['HourlyVisibility'] = LCD['HourlyVisibility'].str.replace('*', 'NaN')\n",
    "LCD['HourlyVisibility'] = LCD['HourlyVisibility'].astype('float64')\n",
    "# Likewise, interpolation has been reviewed as a reasonable approach. Let's apply it:\n",
    "LCD['HourlyVisibility'].interpolate(method='linear', axis=0, inplace=True)"
   ]
  },
  {
   "cell_type": "markdown",
   "metadata": {},
   "source": [
    "##### Aftermath check"
   ]
  },
  {
   "cell_type": "markdown",
   "metadata": {},
   "source": [
    "Check again the current status of the missing elements after cleaning:"
   ]
  },
  {
   "cell_type": "code",
   "execution_count": 32,
   "metadata": {
    "ExecuteTime": {
     "end_time": "2021-02-22T19:07:59.789987Z",
     "start_time": "2021-02-22T19:07:57.771909Z"
    },
    "scrolled": true
   },
   "outputs": [
    {
     "data": {
      "text/html": [
       "<div>\n",
       "<style scoped>\n",
       "    .dataframe tbody tr th:only-of-type {\n",
       "        vertical-align: middle;\n",
       "    }\n",
       "\n",
       "    .dataframe tbody tr th {\n",
       "        vertical-align: top;\n",
       "    }\n",
       "\n",
       "    .dataframe thead th {\n",
       "        text-align: right;\n",
       "    }\n",
       "</style>\n",
       "<table border=\"1\" class=\"dataframe\">\n",
       "  <thead>\n",
       "    <tr style=\"text-align: right;\">\n",
       "      <th></th>\n",
       "      <th>Absolute</th>\n",
       "      <th>Relative</th>\n",
       "    </tr>\n",
       "  </thead>\n",
       "  <tbody>\n",
       "    <tr>\n",
       "      <th>HourlySkyConditions</th>\n",
       "      <td>282078.0</td>\n",
       "      <td>6.466351</td>\n",
       "    </tr>\n",
       "    <tr>\n",
       "      <th>REM</th>\n",
       "      <td>1286.0</td>\n",
       "      <td>0.029480</td>\n",
       "    </tr>\n",
       "    <tr>\n",
       "      <th>STATION</th>\n",
       "      <td>0.0</td>\n",
       "      <td>0.000000</td>\n",
       "    </tr>\n",
       "    <tr>\n",
       "      <th>DATE</th>\n",
       "      <td>0.0</td>\n",
       "      <td>0.000000</td>\n",
       "    </tr>\n",
       "    <tr>\n",
       "      <th>HourlyAltimeterSetting</th>\n",
       "      <td>0.0</td>\n",
       "      <td>0.000000</td>\n",
       "    </tr>\n",
       "    <tr>\n",
       "      <th>HourlyDryBulbTemperature</th>\n",
       "      <td>0.0</td>\n",
       "      <td>0.000000</td>\n",
       "    </tr>\n",
       "    <tr>\n",
       "      <th>HourlyPrecipitation</th>\n",
       "      <td>0.0</td>\n",
       "      <td>0.000000</td>\n",
       "    </tr>\n",
       "    <tr>\n",
       "      <th>HourlyRelativeHumidity</th>\n",
       "      <td>0.0</td>\n",
       "      <td>0.000000</td>\n",
       "    </tr>\n",
       "    <tr>\n",
       "      <th>HourlyVisibility</th>\n",
       "      <td>0.0</td>\n",
       "      <td>0.000000</td>\n",
       "    </tr>\n",
       "  </tbody>\n",
       "</table>\n",
       "</div>"
      ],
      "text/plain": [
       "                          Absolute  Relative\n",
       "HourlySkyConditions       282078.0  6.466351\n",
       "REM                         1286.0  0.029480\n",
       "STATION                        0.0  0.000000\n",
       "DATE                           0.0  0.000000\n",
       "HourlyAltimeterSetting         0.0  0.000000\n",
       "HourlyDryBulbTemperature       0.0  0.000000\n",
       "HourlyPrecipitation            0.0  0.000000\n",
       "HourlyRelativeHumidity         0.0  0.000000\n",
       "HourlyVisibility               0.0  0.000000"
      ]
     },
     "execution_count": 32,
     "metadata": {},
     "output_type": "execute_result"
    }
   ],
   "source": [
    "# Absolute & Relative frequency of missing values by column:\n",
    "missing = pd.DataFrame([LCD.isna().sum(), LCD.isna().sum() / len(LCD) * 100], index=['Absolute', 'Relative']).T.sort_values(by='Relative', ascending=False)\n",
    "missing"
   ]
  },
  {
   "cell_type": "code",
   "execution_count": 33,
   "metadata": {
    "ExecuteTime": {
     "end_time": "2021-02-22T19:08:12.446814Z",
     "start_time": "2021-02-22T19:07:59.793983Z"
    },
    "scrolled": false
   },
   "outputs": [
    {
     "data": {
      "image/png": "[encoded data removed]",
      "text/plain": [
       "<Figure size 720x360 with 2 Axes>"
      ]
     },
     "metadata": {},
     "output_type": "display_data"
    }
   ],
   "source": [
    "msno.matrix(LCD, figsize=(10, 5), color=(0.24, 0.77, 0.77), fontsize=13);"
   ]
  },
  {
   "cell_type": "code",
   "execution_count": 34,
   "metadata": {
    "ExecuteTime": {
     "end_time": "2021-02-22T19:08:12.510775Z",
     "start_time": "2021-02-22T19:08:12.454811Z"
    }
   },
   "outputs": [
    {
     "name": "stdout",
     "output_type": "stream",
     "text": [
      "<class 'pandas.core.frame.DataFrame'>\n",
      "Int64Index: 4362244 entries, 0 to 4497374\n",
      "Data columns (total 9 columns):\n",
      " #   Column                    Dtype  \n",
      "---  ------                    -----  \n",
      " 0   STATION                   int64  \n",
      " 1   DATE                      object \n",
      " 2   HourlyAltimeterSetting    float64\n",
      " 3   HourlyDryBulbTemperature  float64\n",
      " 4   HourlyPrecipitation       float64\n",
      " 5   HourlyRelativeHumidity    float64\n",
      " 6   HourlySkyConditions       object \n",
      " 7   HourlyVisibility          float64\n",
      " 8   REM                       object \n",
      "dtypes: float64(5), int64(1), object(3)\n",
      "memory usage: 492.8+ MB\n"
     ]
    }
   ],
   "source": [
    "LCD.info()"
   ]
  },
  {
   "cell_type": "markdown",
   "metadata": {},
   "source": [
    "There are some other columns which should stay as string (`object`), but still with some cleaning required:\n",
    "- `HourlySkyConditions`:  \n",
    "    - A report of each cloud layer (up to 3). Each layer given in the following format: **ccc:ll-xxx** where:\n",
    "        - **ccc** = Coverage:\n",
    "            - CLR (clear sky)\n",
    "            - FEW (few clouds)\n",
    "            - SCT (scattered clouds)\n",
    "            - BKN (broken clouds)\n",
    "            - OVC (overcast)\n",
    "            - VV (obscured sky), 10 (partially obscured sky)\n",
    "        Last layer used (*)\n",
    "        -  **ll** = Layer amount given in eighths (aka “oktas”) → *Not used*\n",
    "        - **xxx** = Cloud base height at lowest point of layer → *Not used*   \n",
    "\n",
    "**NOTE**: Since up to 3 cloud layers can be reported, the **full state of the sky can best be determined by the** contraction given for the **last layer**\n",
    "- `REM` → `NaN`'s should be treated as an empty string"
   ]
  },
  {
   "cell_type": "markdown",
   "metadata": {},
   "source": [
    "##### 1. `HourlySkyConditions` column"
   ]
  },
  {
   "cell_type": "markdown",
   "metadata": {},
   "source": [
    "`NaN` values cannot be easily treated, since they are unevenly distributed. For the time being, this will be left as an *'(missing)'*."
   ]
  },
  {
   "cell_type": "code",
   "execution_count": 79,
   "metadata": {
    "ExecuteTime": {
     "end_time": "2021-02-22T19:51:37.257593Z",
     "start_time": "2021-02-22T19:51:16.542175Z"
    }
   },
   "outputs": [
    {
     "data": {
      "text/plain": [
       "OVC          1420639\n",
       "CLR          1181996\n",
       "BKN           571622\n",
       "(missing)     481204\n",
       "SCT           334350\n",
       "FEW           307380\n",
       "VV             65053\n",
       "Name: HourlySkyConditions, dtype: int64"
      ]
     },
     "execution_count": 79,
     "metadata": {},
     "output_type": "execute_result"
    }
   ],
   "source": [
    "# By use of RegEx, replace each element by its last coverage code (i.e. 'ccc'):\n",
    "LCD['HourlySkyConditions'] = LCD['HourlySkyConditions'].str.extract(r'.*(CLR|FEW|SCT|BKN|OVC|VV).*')\n",
    "# By applying the above instruction, every element which did not contain any of those tags has turned now into 'NaN':\n",
    "LCD['HourlySkyConditions'].fillna('(missing)', inplace=True)\n",
    "LCD['HourlySkyConditions'].value_counts()"
   ]
  },
  {
   "cell_type": "markdown",
   "metadata": {},
   "source": [
    "##### 2. `REM` column"
   ]
  },
  {
   "cell_type": "code",
   "execution_count": 80,
   "metadata": {
    "ExecuteTime": {
     "end_time": "2021-02-22T19:55:13.036976Z",
     "start_time": "2021-02-22T19:55:12.298265Z"
    }
   },
   "outputs": [],
   "source": [
    "# Following previous comments, NaN's will be replaced by 0 for this column:\n",
    "LCD['REM'].fillna('(missing)', inplace=True)"
   ]
  },
  {
   "cell_type": "markdown",
   "metadata": {},
   "source": [
    "### Manipulate the data"
   ]
  },
  {
   "cell_type": "code",
   "execution_count": 82,
   "metadata": {
    "ExecuteTime": {
     "end_time": "2021-02-22T19:57:33.703166Z",
     "start_time": "2021-02-22T19:57:33.393826Z"
    },
    "scrolled": true
   },
   "outputs": [
    {
     "data": {
      "text/html": [
       "<div>\n",
       "<style scoped>\n",
       "    .dataframe tbody tr th:only-of-type {\n",
       "        vertical-align: middle;\n",
       "    }\n",
       "\n",
       "    .dataframe tbody tr th {\n",
       "        vertical-align: top;\n",
       "    }\n",
       "\n",
       "    .dataframe thead th {\n",
       "        text-align: right;\n",
       "    }\n",
       "</style>\n",
       "<table border=\"1\" class=\"dataframe\">\n",
       "  <thead>\n",
       "    <tr style=\"text-align: right;\">\n",
       "      <th></th>\n",
       "      <th>STATION</th>\n",
       "      <th>DATE</th>\n",
       "      <th>HourlyAltimeterSetting</th>\n",
       "      <th>HourlyDryBulbTemperature</th>\n",
       "      <th>HourlyPrecipitation</th>\n",
       "      <th>HourlyRelativeHumidity</th>\n",
       "      <th>HourlySkyConditions</th>\n",
       "      <th>HourlyVisibility</th>\n",
       "      <th>REM</th>\n",
       "    </tr>\n",
       "  </thead>\n",
       "  <tbody>\n",
       "    <tr>\n",
       "      <th>1589216</th>\n",
       "      <td>74783012849</td>\n",
       "      <td>2019-11-19T12:53:00</td>\n",
       "      <td>29.90</td>\n",
       "      <td>79.0</td>\n",
       "      <td>0.0</td>\n",
       "      <td>50.0</td>\n",
       "      <td>SCT</td>\n",
       "      <td>10.0</td>\n",
       "      <td>MET11711/19/19 12:53:02 METAR KFLL 191753Z 270...</td>\n",
       "    </tr>\n",
       "    <tr>\n",
       "      <th>2491429</th>\n",
       "      <td>72428513812</td>\n",
       "      <td>2019-10-14T01:15:00</td>\n",
       "      <td>29.96</td>\n",
       "      <td>46.0</td>\n",
       "      <td>0.0</td>\n",
       "      <td>70.0</td>\n",
       "      <td>CLR</td>\n",
       "      <td>10.0</td>\n",
       "      <td>MET08310/14/19 01:15:02 METAR KLCK 140615Z 220...</td>\n",
       "    </tr>\n",
       "    <tr>\n",
       "      <th>127155</th>\n",
       "      <td>70454025704</td>\n",
       "      <td>2019-05-13T21:56:00</td>\n",
       "      <td>30.08</td>\n",
       "      <td>40.0</td>\n",
       "      <td>0.0</td>\n",
       "      <td>70.0</td>\n",
       "      <td>FEW</td>\n",
       "      <td>10.0</td>\n",
       "      <td>MET09405/13/19 21:56:01 METAR PADK 140756Z 210...</td>\n",
       "    </tr>\n",
       "  </tbody>\n",
       "</table>\n",
       "</div>"
      ],
      "text/plain": [
       "             STATION                 DATE  HourlyAltimeterSetting  \\\n",
       "1589216  74783012849  2019-11-19T12:53:00                   29.90   \n",
       "2491429  72428513812  2019-10-14T01:15:00                   29.96   \n",
       "127155   70454025704  2019-05-13T21:56:00                   30.08   \n",
       "\n",
       "         HourlyDryBulbTemperature  HourlyPrecipitation  \\\n",
       "1589216                      79.0                  0.0   \n",
       "2491429                      46.0                  0.0   \n",
       "127155                       40.0                  0.0   \n",
       "\n",
       "         HourlyRelativeHumidity HourlySkyConditions  HourlyVisibility  \\\n",
       "1589216                    50.0                 SCT              10.0   \n",
       "2491429                    70.0                 CLR              10.0   \n",
       "127155                     70.0                 FEW              10.0   \n",
       "\n",
       "                                                       REM  \n",
       "1589216  MET11711/19/19 12:53:02 METAR KFLL 191753Z 270...  \n",
       "2491429  MET08310/14/19 01:15:02 METAR KLCK 140615Z 220...  \n",
       "127155   MET09405/13/19 21:56:01 METAR PADK 140756Z 210...  "
      ]
     },
     "execution_count": 82,
     "metadata": {},
     "output_type": "execute_result"
    }
   ],
   "source": [
    "LCD.sample(3)"
   ]
  },
  {
   "cell_type": "markdown",
   "metadata": {},
   "source": [
    "#### Date/Time"
   ]
  },
  {
   "cell_type": "raw",
   "metadata": {
    "ExecuteTime": {
     "end_time": "2021-02-20T16:12:14.512465Z",
     "start_time": "2021-02-20T16:11:25.447666Z"
    },
    "scrolled": true
   },
   "source": [
    "# THIS WAS GOING TO BE USED UNTIL 'to_datetime()' OPTION WAS EXPLORED\n",
    "\n",
    "LCD.insert(loc=1, column='Date', value=LCD['DATE'].str.split(pat='T', n=1, expand=True).iloc[:, 0])\n",
    "LCD.insert(loc=2, column='Time', value=LCD['DATE'].str.split(pat='T', n=1, expand=True).iloc[:, 1])\n",
    "LCD.insert(loc=3, column='Time_h', value=LCD['Time'].str.split(pat=':', expand=True).iloc[:, 0])\n",
    "LCD.drop(['DATE'], axis=1, inplace=True)\n",
    "LCD.sample(3)"
   ]
  },
  {
   "cell_type": "code",
   "execution_count": 94,
   "metadata": {
    "ExecuteTime": {
     "end_time": "2021-02-22T20:19:09.525778Z",
     "start_time": "2021-02-22T20:19:07.473803Z"
    }
   },
   "outputs": [],
   "source": [
    "# Cast the column to 'datetime64[ns]' dtype:\n",
    "LCD['DATE'] = pd.to_datetime(arg=LCD['DATE'], format='%Y-%m-%dT%H:%M:%S')\n",
    "# Create new columns for Date and Hour drawing upon the recently created column:\n",
    "LCD.insert(loc=2, column='Date', value=LCD['DATE'].dt.date)\n",
    "LCD.insert(loc=3, column='Hour', value=LCD['DATE'].dt.hour)\n",
    "# For the sake of the merging process that awaits, it is best to simplify a bit;\n",
    "# only the first record for each station, day and hour will be kept:\n",
    "LCD.drop_duplicates(subset=['STATION', 'Date', 'Hour'], keep='first', inplace=True)"
   ]
  },
  {
   "cell_type": "markdown",
   "metadata": {},
   "source": [
    "**Assumption:** The above solution entails throwing away potentially valuable data. This approach forces the model to lose accuracy in terms of time. By performing this, we give up weather readings that might be closer to our flights. However, this assumption of reducing the weather readings to the first one for each station-day-hour trinomial is essential. Otherwise, crossing references by future dataset-merging actions would become unworkable."
   ]
  },
  {
   "cell_type": "code",
   "execution_count": 99,
   "metadata": {
    "ExecuteTime": {
     "end_time": "2021-02-22T20:22:50.774256Z",
     "start_time": "2021-02-22T20:22:49.826813Z"
    }
   },
   "outputs": [
    {
     "data": {
      "text/html": [
       "<div>\n",
       "<style scoped>\n",
       "    .dataframe tbody tr th:only-of-type {\n",
       "        vertical-align: middle;\n",
       "    }\n",
       "\n",
       "    .dataframe tbody tr th {\n",
       "        vertical-align: top;\n",
       "    }\n",
       "\n",
       "    .dataframe thead th {\n",
       "        text-align: right;\n",
       "    }\n",
       "</style>\n",
       "<table border=\"1\" class=\"dataframe\">\n",
       "  <thead>\n",
       "    <tr style=\"text-align: right;\">\n",
       "      <th></th>\n",
       "      <th>STATION</th>\n",
       "      <th>DATE</th>\n",
       "      <th>Date</th>\n",
       "      <th>Hour</th>\n",
       "      <th>HourlyAltimeterSetting</th>\n",
       "      <th>HourlyDryBulbTemperature</th>\n",
       "      <th>HourlyPrecipitation</th>\n",
       "      <th>HourlyRelativeHumidity</th>\n",
       "      <th>HourlySkyConditions</th>\n",
       "      <th>HourlyVisibility</th>\n",
       "      <th>REM</th>\n",
       "    </tr>\n",
       "  </thead>\n",
       "  <tbody>\n",
       "    <tr>\n",
       "      <th>503124</th>\n",
       "      <td>72764024011</td>\n",
       "      <td>2019-01-01 22:52:00</td>\n",
       "      <td>2019-01-01</td>\n",
       "      <td>22</td>\n",
       "      <td>29.83</td>\n",
       "      <td>11.0</td>\n",
       "      <td>0.01</td>\n",
       "      <td>81.0</td>\n",
       "      <td>OVC</td>\n",
       "      <td>2.00</td>\n",
       "      <td>MET11001/01/19 22:52:02 METAR KBIS 020452Z 210...</td>\n",
       "    </tr>\n",
       "    <tr>\n",
       "      <th>4317683</th>\n",
       "      <td>72638714850</td>\n",
       "      <td>2019-02-08 04:53:00</td>\n",
       "      <td>2019-02-08</td>\n",
       "      <td>4</td>\n",
       "      <td>29.79</td>\n",
       "      <td>20.0</td>\n",
       "      <td>0.00</td>\n",
       "      <td>85.0</td>\n",
       "      <td>VV</td>\n",
       "      <td>0.75</td>\n",
       "      <td>MET13702/08/19 04:53:02 METAR KTVC 080953Z 300...</td>\n",
       "    </tr>\n",
       "    <tr>\n",
       "      <th>2545952</th>\n",
       "      <td>72297023129</td>\n",
       "      <td>2019-10-20 00:51:00</td>\n",
       "      <td>2019-10-20</td>\n",
       "      <td>0</td>\n",
       "      <td>29.87</td>\n",
       "      <td>61.0</td>\n",
       "      <td>0.00</td>\n",
       "      <td>88.0</td>\n",
       "      <td>SCT</td>\n",
       "      <td>6.00</td>\n",
       "      <td>MET08310/20/19 00:51:02 SPECI KLGB 200851Z 000...</td>\n",
       "    </tr>\n",
       "  </tbody>\n",
       "</table>\n",
       "</div>"
      ],
      "text/plain": [
       "             STATION                DATE        Date  Hour  \\\n",
       "503124   72764024011 2019-01-01 22:52:00  2019-01-01    22   \n",
       "4317683  72638714850 2019-02-08 04:53:00  2019-02-08     4   \n",
       "2545952  72297023129 2019-10-20 00:51:00  2019-10-20     0   \n",
       "\n",
       "         HourlyAltimeterSetting  HourlyDryBulbTemperature  \\\n",
       "503124                    29.83                      11.0   \n",
       "4317683                   29.79                      20.0   \n",
       "2545952                   29.87                      61.0   \n",
       "\n",
       "         HourlyPrecipitation  HourlyRelativeHumidity HourlySkyConditions  \\\n",
       "503124                  0.01                    81.0                 OVC   \n",
       "4317683                 0.00                    85.0                  VV   \n",
       "2545952                 0.00                    88.0                 SCT   \n",
       "\n",
       "         HourlyVisibility                                                REM  \n",
       "503124               2.00  MET11001/01/19 22:52:02 METAR KBIS 020452Z 210...  \n",
       "4317683              0.75  MET13702/08/19 04:53:02 METAR KTVC 080953Z 300...  \n",
       "2545952              6.00  MET08310/20/19 00:51:02 SPECI KLGB 200851Z 000...  "
      ]
     },
     "execution_count": 99,
     "metadata": {},
     "output_type": "execute_result"
    }
   ],
   "source": [
    "LCD.sample(3)"
   ]
  },
  {
   "cell_type": "markdown",
   "metadata": {},
   "source": [
    "#### Station: WMO-WBAN"
   ]
  },
  {
   "cell_type": "code",
   "execution_count": 110,
   "metadata": {
    "ExecuteTime": {
     "end_time": "2021-02-22T20:41:54.027758Z",
     "start_time": "2021-02-22T20:41:48.037430Z"
    }
   },
   "outputs": [],
   "source": [
    "# Since we will perform some pd.Series.str operations, we first need to cast the column to 'str' type:\n",
    "LCD['STATION'] = LCD['STATION'].astype(str)\n",
    "# We will keep the original code just in case; but in addition to it, we will split it into WMO and WBAN codes:\n",
    "LCD.insert(loc=1, column='WMO', value=LCD['STATION'].str[:-5])\n",
    "LCD.insert(loc=2, column='WBAN', value=LCD['STATION'].str[-5:])"
   ]
  },
  {
   "cell_type": "code",
   "execution_count": 111,
   "metadata": {
    "ExecuteTime": {
     "end_time": "2021-02-22T20:41:56.524689Z",
     "start_time": "2021-02-22T20:41:55.318440Z"
    },
    "scrolled": false
   },
   "outputs": [
    {
     "data": {
      "text/html": [
       "<div>\n",
       "<style scoped>\n",
       "    .dataframe tbody tr th:only-of-type {\n",
       "        vertical-align: middle;\n",
       "    }\n",
       "\n",
       "    .dataframe tbody tr th {\n",
       "        vertical-align: top;\n",
       "    }\n",
       "\n",
       "    .dataframe thead th {\n",
       "        text-align: right;\n",
       "    }\n",
       "</style>\n",
       "<table border=\"1\" class=\"dataframe\">\n",
       "  <thead>\n",
       "    <tr style=\"text-align: right;\">\n",
       "      <th></th>\n",
       "      <th>STATION</th>\n",
       "      <th>WMO</th>\n",
       "      <th>WBAN</th>\n",
       "      <th>DATE</th>\n",
       "      <th>Date</th>\n",
       "      <th>Hour</th>\n",
       "      <th>HourlyAltimeterSetting</th>\n",
       "      <th>HourlyDryBulbTemperature</th>\n",
       "      <th>HourlyPrecipitation</th>\n",
       "      <th>HourlyRelativeHumidity</th>\n",
       "      <th>HourlySkyConditions</th>\n",
       "      <th>HourlyVisibility</th>\n",
       "      <th>REM</th>\n",
       "    </tr>\n",
       "  </thead>\n",
       "  <tbody>\n",
       "    <tr>\n",
       "      <th>3420397</th>\n",
       "      <td>72656024025</td>\n",
       "      <td>726560</td>\n",
       "      <td>24025</td>\n",
       "      <td>2019-06-24 12:53:00</td>\n",
       "      <td>2019-06-24</td>\n",
       "      <td>12</td>\n",
       "      <td>29.70</td>\n",
       "      <td>77.0</td>\n",
       "      <td>0.0</td>\n",
       "      <td>45.0</td>\n",
       "      <td>CLR</td>\n",
       "      <td>10.00</td>\n",
       "      <td>MET09006/24/19 12:53:02 METAR KPIR 241853Z 280...</td>\n",
       "    </tr>\n",
       "    <tr>\n",
       "      <th>3623986</th>\n",
       "      <td>72306013722</td>\n",
       "      <td>723060</td>\n",
       "      <td>13722</td>\n",
       "      <td>2019-02-16 13:00:00</td>\n",
       "      <td>2019-02-16</td>\n",
       "      <td>13</td>\n",
       "      <td>29.84</td>\n",
       "      <td>39.0</td>\n",
       "      <td>0.0</td>\n",
       "      <td>93.0</td>\n",
       "      <td>(missing)</td>\n",
       "      <td>1.99</td>\n",
       "      <td>SYN10472306 11432 80311 10039 20028 39950 4010...</td>\n",
       "    </tr>\n",
       "    <tr>\n",
       "      <th>590173</th>\n",
       "      <td>72439754831</td>\n",
       "      <td>724397</td>\n",
       "      <td>54831</td>\n",
       "      <td>2019-12-28 10:56:00</td>\n",
       "      <td>2019-12-28</td>\n",
       "      <td>10</td>\n",
       "      <td>30.08</td>\n",
       "      <td>44.0</td>\n",
       "      <td>0.0</td>\n",
       "      <td>100.0</td>\n",
       "      <td>OVC</td>\n",
       "      <td>0.50</td>\n",
       "      <td>MET13212/28/19 10:56:02 METAR KBMI 281656Z 130...</td>\n",
       "    </tr>\n",
       "  </tbody>\n",
       "</table>\n",
       "</div>"
      ],
      "text/plain": [
       "             STATION     WMO   WBAN                DATE        Date  Hour  \\\n",
       "3420397  72656024025  726560  24025 2019-06-24 12:53:00  2019-06-24    12   \n",
       "3623986  72306013722  723060  13722 2019-02-16 13:00:00  2019-02-16    13   \n",
       "590173   72439754831  724397  54831 2019-12-28 10:56:00  2019-12-28    10   \n",
       "\n",
       "         HourlyAltimeterSetting  HourlyDryBulbTemperature  \\\n",
       "3420397                   29.70                      77.0   \n",
       "3623986                   29.84                      39.0   \n",
       "590173                    30.08                      44.0   \n",
       "\n",
       "         HourlyPrecipitation  HourlyRelativeHumidity HourlySkyConditions  \\\n",
       "3420397                  0.0                    45.0                 CLR   \n",
       "3623986                  0.0                    93.0           (missing)   \n",
       "590173                   0.0                   100.0                 OVC   \n",
       "\n",
       "         HourlyVisibility                                                REM  \n",
       "3420397             10.00  MET09006/24/19 12:53:02 METAR KPIR 241853Z 280...  \n",
       "3623986              1.99  SYN10472306 11432 80311 10039 20028 39950 4010...  \n",
       "590173               0.50  MET13212/28/19 10:56:02 METAR KBMI 281656Z 130...  "
      ]
     },
     "execution_count": 111,
     "metadata": {},
     "output_type": "execute_result"
    }
   ],
   "source": [
    "LCD.sample(3)"
   ]
  },
  {
   "cell_type": "markdown",
   "metadata": {},
   "source": [
    "Check one last time the current status of the missing elements after cleaning:"
   ]
  },
  {
   "cell_type": "code",
   "execution_count": 118,
   "metadata": {
    "ExecuteTime": {
     "end_time": "2021-02-22T20:48:47.997676Z",
     "start_time": "2021-02-22T20:48:45.771053Z"
    },
    "scrolled": false
   },
   "outputs": [
    {
     "data": {
      "text/html": [
       "<div>\n",
       "<style scoped>\n",
       "    .dataframe tbody tr th:only-of-type {\n",
       "        vertical-align: middle;\n",
       "    }\n",
       "\n",
       "    .dataframe tbody tr th {\n",
       "        vertical-align: top;\n",
       "    }\n",
       "\n",
       "    .dataframe thead th {\n",
       "        text-align: right;\n",
       "    }\n",
       "</style>\n",
       "<table border=\"1\" class=\"dataframe\">\n",
       "  <thead>\n",
       "    <tr style=\"text-align: right;\">\n",
       "      <th></th>\n",
       "      <th>Absolute</th>\n",
       "      <th>Relative</th>\n",
       "    </tr>\n",
       "  </thead>\n",
       "  <tbody>\n",
       "    <tr>\n",
       "      <th>STATION</th>\n",
       "      <td>0.0</td>\n",
       "      <td>0.0</td>\n",
       "    </tr>\n",
       "    <tr>\n",
       "      <th>WMO</th>\n",
       "      <td>0.0</td>\n",
       "      <td>0.0</td>\n",
       "    </tr>\n",
       "    <tr>\n",
       "      <th>WBAN</th>\n",
       "      <td>0.0</td>\n",
       "      <td>0.0</td>\n",
       "    </tr>\n",
       "    <tr>\n",
       "      <th>DATE</th>\n",
       "      <td>0.0</td>\n",
       "      <td>0.0</td>\n",
       "    </tr>\n",
       "    <tr>\n",
       "      <th>Date</th>\n",
       "      <td>0.0</td>\n",
       "      <td>0.0</td>\n",
       "    </tr>\n",
       "    <tr>\n",
       "      <th>Hour</th>\n",
       "      <td>0.0</td>\n",
       "      <td>0.0</td>\n",
       "    </tr>\n",
       "    <tr>\n",
       "      <th>HourlyAltimeterSetting</th>\n",
       "      <td>0.0</td>\n",
       "      <td>0.0</td>\n",
       "    </tr>\n",
       "    <tr>\n",
       "      <th>HourlyDryBulbTemperature</th>\n",
       "      <td>0.0</td>\n",
       "      <td>0.0</td>\n",
       "    </tr>\n",
       "    <tr>\n",
       "      <th>HourlyPrecipitation</th>\n",
       "      <td>0.0</td>\n",
       "      <td>0.0</td>\n",
       "    </tr>\n",
       "    <tr>\n",
       "      <th>HourlyRelativeHumidity</th>\n",
       "      <td>0.0</td>\n",
       "      <td>0.0</td>\n",
       "    </tr>\n",
       "    <tr>\n",
       "      <th>HourlySkyConditions</th>\n",
       "      <td>0.0</td>\n",
       "      <td>0.0</td>\n",
       "    </tr>\n",
       "    <tr>\n",
       "      <th>HourlyVisibility</th>\n",
       "      <td>0.0</td>\n",
       "      <td>0.0</td>\n",
       "    </tr>\n",
       "    <tr>\n",
       "      <th>REM</th>\n",
       "      <td>0.0</td>\n",
       "      <td>0.0</td>\n",
       "    </tr>\n",
       "  </tbody>\n",
       "</table>\n",
       "</div>"
      ],
      "text/plain": [
       "                          Absolute  Relative\n",
       "STATION                        0.0       0.0\n",
       "WMO                            0.0       0.0\n",
       "WBAN                           0.0       0.0\n",
       "DATE                           0.0       0.0\n",
       "Date                           0.0       0.0\n",
       "Hour                           0.0       0.0\n",
       "HourlyAltimeterSetting         0.0       0.0\n",
       "HourlyDryBulbTemperature       0.0       0.0\n",
       "HourlyPrecipitation            0.0       0.0\n",
       "HourlyRelativeHumidity         0.0       0.0\n",
       "HourlySkyConditions            0.0       0.0\n",
       "HourlyVisibility               0.0       0.0\n",
       "REM                            0.0       0.0"
      ]
     },
     "execution_count": 118,
     "metadata": {},
     "output_type": "execute_result"
    }
   ],
   "source": [
    "# Absolute & Relative frequency of missing values by column:\n",
    "pd.set_option('display.max_rows', LCD.shape[1])\n",
    "missing = pd.DataFrame([LCD.isna().sum(), LCD.isna().sum() / len(LCD) * 100], index=['Absolute', 'Relative']).T.sort_values(by='Relative', ascending=False)\n",
    "missing"
   ]
  },
  {
   "cell_type": "markdown",
   "metadata": {},
   "source": [
    "Great!! No missing values encountered."
   ]
  },
  {
   "cell_type": "markdown",
   "metadata": {},
   "source": [
    "### Save the cleaned DF into a new CSV file"
   ]
  },
  {
   "cell_type": "code",
   "execution_count": 121,
   "metadata": {
    "ExecuteTime": {
     "end_time": "2021-02-22T20:53:36.508719Z",
     "start_time": "2021-02-22T20:53:36.484737Z"
    },
    "scrolled": true
   },
   "outputs": [
    {
     "name": "stdout",
     "output_type": "stream",
     "text": [
      "File 'LCD_all_clean.csv' already exists.\n",
      "No file has been generated (previous one remains).\n"
     ]
    }
   ],
   "source": [
    "output_csv_dir = os.path.join(root,\n",
    "                              \"Output_Data\",\n",
    "                              \"NOAA\",\n",
    "                              \"LCD_AllStations\")\n",
    "file_name = \"LCD_all_clean.csv\"\n",
    "\n",
    "if file_name not in os.listdir(output_csv_dir):\n",
    "    # Save such DataFrame into a CSV file (only once):\n",
    "    LCD.to_csv(path_or_buf=os.path.join(output_csv_dir, file_name),\n",
    "               index=False,\n",
    "               encoding='latin1')\n",
    "else:    \n",
    "    print(\"File '\" + file_name + \"' already exists.\\nNo file has been generated (previous one remains).\")"
   ]
  },
  {
   "cell_type": "markdown",
   "metadata": {},
   "source": [
    "___"
   ]
  },
  {
   "cell_type": "code",
   "execution_count": 122,
   "metadata": {
    "ExecuteTime": {
     "end_time": "2021-02-22T20:54:41.015179Z",
     "start_time": "2021-02-22T20:54:40.998192Z"
    }
   },
   "outputs": [
    {
     "name": "stdout",
     "output_type": "stream",
     "text": [
      "Time elapsed:  6506.7690127000005\n"
     ]
    }
   ],
   "source": [
    "t1 = time.perf_counter() - t0\n",
    "print(\"Time elapsed: \", t1) # CPU seconds elapsed (floating point)"
   ]
  },
  {
   "cell_type": "raw",
   "metadata": {},
   "source": [
    "Time elapsed:  337.227193"
   ]
  },
  {
   "cell_type": "markdown",
   "metadata": {},
   "source": [
    "___"
   ]
  }
 ],
 "metadata": {
  "hide_input": false,
  "kernelspec": {
   "display_name": "Python 3",
   "language": "python",
   "name": "python3"
  },
  "language_info": {
   "codemirror_mode": {
    "name": "ipython",
    "version": 3
   },
   "file_extension": ".py",
   "mimetype": "text/x-python",
   "name": "python",
   "nbconvert_exporter": "python",
   "pygments_lexer": "ipython3",
   "version": "3.8.5"
  },
  "toc": {
   "base_numbering": 1,
   "nav_menu": {},
   "number_sections": true,
   "sideBar": true,
   "skip_h1_title": false,
   "title_cell": "Table of Contents",
   "title_sidebar": "Contents",
   "toc_cell": false,
   "toc_position": {
    "height": "calc(100% - 180px)",
    "left": "10px",
    "top": "150px",
    "width": "384px"
   },
   "toc_section_display": true,
   "toc_window_display": true
  },
  "varInspector": {
   "cols": {
    "lenName": 16,
    "lenType": 16,
    "lenVar": 40
   },
   "kernels_config": {
    "python": {
     "delete_cmd_postfix": "",
     "delete_cmd_prefix": "del ",
     "library": "var_list.py",
     "varRefreshCmd": "print(var_dic_list())"
    },
    "r": {
     "delete_cmd_postfix": ") ",
     "delete_cmd_prefix": "rm(",
     "library": "var_list.r",
     "varRefreshCmd": "cat(var_dic_list()) "
    }
   },
   "position": {
    "height": "817px",
    "left": "1550px",
    "right": "20px",
    "top": "114px",
    "width": "350px"
   },
   "types_to_exclude": [
    "module",
    "function",
    "builtin_function_or_method",
    "instance",
    "_Feature"
   ],
   "window_display": true
  }
 },
 "nbformat": 4,
 "nbformat_minor": 4
}
