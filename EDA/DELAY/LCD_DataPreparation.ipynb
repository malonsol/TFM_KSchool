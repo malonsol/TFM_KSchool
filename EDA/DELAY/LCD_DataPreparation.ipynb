{
 "cells": [
  {
   "cell_type": "code",
   "execution_count": 1,
   "metadata": {
    "ExecuteTime": {
     "end_time": "2021-02-17T18:18:25.763704Z",
     "start_time": "2021-02-17T18:18:23.059294Z"
    }
   },
   "outputs": [],
   "source": [
    "# Import libraries to be used\n",
    "\n",
    "# Warning messages display\n",
    "## import warnings\n",
    "## warnings.filterwarnings(action='ignore') # https://docs.python.org/3/library/warnings.html#the-warnings-filter\n",
    "\n",
    "# Directories/Files management\n",
    "import os.path\n",
    "## from zipfile import ZipFile # De momento no ha hecho falta \n",
    "\n",
    "# Timing\n",
    "import time\n",
    "\n",
    "# Memory monitoring\n",
    "%load_ext memory_profiler\n",
    "### Use '%memit' to check at each point\n",
    "\n",
    "# Data analysis and wrangling\n",
    "import pandas as pd\n",
    "import numpy as np\n",
    "pd.set_option('display.max_columns', None) # Show all columns in DataFrames\n",
    "## pd.set_option('display.max_rows', None) # It greatly slows down the output display and freezes the kernel\n",
    "\n",
    "# Visualization\n",
    "import matplotlib.pyplot as plt\n",
    "import seaborn as sns\n",
    "%matplotlib inline\n",
    "plt.style.use('ggplot') # choose a style: 'plt.style.available'\n",
    "sns.set_theme(context='notebook',\n",
    "              style=\"darkgrid\") # {darkgrid, whitegrid, dark, white, ticks}\n",
    "palette = sns.color_palette(\"flare\", as_cmap=True);\n",
    "import altair as alt\n",
    "\n",
    "# Machine Learning\n",
    "## from sklearn.[...] import ..."
   ]
  },
  {
   "cell_type": "code",
   "execution_count": 2,
   "metadata": {
    "ExecuteTime": {
     "end_time": "2021-02-17T18:18:25.778700Z",
     "start_time": "2021-02-17T18:18:25.766706Z"
    }
   },
   "outputs": [],
   "source": [
    "t0 = time.perf_counter() "
   ]
  },
  {
   "cell_type": "code",
   "execution_count": 3,
   "metadata": {
    "ExecuteTime": {
     "end_time": "2021-02-17T18:18:25.793693Z",
     "start_time": "2021-02-17T18:18:25.785695Z"
    },
    "scrolled": true
   },
   "outputs": [
    {
     "name": "stdout",
     "output_type": "stream",
     "text": [
      "Running on Windows.\n",
      "root path\t C:\\Users\\turge\\CompartidoVM\\0.TFM\n"
     ]
    }
   ],
   "source": [
    "# Detect Operating System running and manage paths accordingly\n",
    "\n",
    "if os.name == 'nt': # Windows\n",
    "    root = r\"C:\\Users\\turge\\CompartidoVM\\0.TFM\"\n",
    "    print(\"Running on Windows.\")\n",
    "elif os.name == 'posix': # Ubuntu\n",
    "    root = \"/home/dsc/shared/0.TFM\"\n",
    "    print(\"Running on Ubuntu.\")\n",
    "print(\"root path\\t\", root)"
   ]
  },
  {
   "cell_type": "markdown",
   "metadata": {},
   "source": [
    "Additional information on each column meaning can be found [here](https://www.ncei.noaa.gov/data/local-climatological-data/doc/LCD_documentation.pLCD)."
   ]
  },
  {
   "cell_type": "markdown",
   "metadata": {},
   "source": [
    "___"
   ]
  },
  {
   "cell_type": "markdown",
   "metadata": {},
   "source": [
    "# Get the data"
   ]
  },
  {
   "cell_type": "markdown",
   "metadata": {},
   "source": [
    "## LCD individual file (2019)"
   ]
  },
  {
   "cell_type": "markdown",
   "metadata": {},
   "source": [
    "### Import file"
   ]
  },
  {
   "cell_type": "markdown",
   "metadata": {},
   "source": [
    "#### Define file path"
   ]
  },
  {
   "cell_type": "code",
   "execution_count": 4,
   "metadata": {
    "ExecuteTime": {
     "end_time": "2021-02-17T18:18:25.824670Z",
     "start_time": "2021-02-17T18:18:25.799687Z"
    },
    "scrolled": true
   },
   "outputs": [
    {
     "data": {
      "text/plain": [
       "'C:\\\\Users\\\\turge\\\\CompartidoVM\\\\0.TFM\\\\Output_Data\\\\NOAA\\\\LCD_files'"
      ]
     },
     "execution_count": 4,
     "metadata": {},
     "output_type": "execute_result"
    }
   ],
   "source": [
    "csv_files_path = os.path.join(root,\n",
    "                              \"Output_Data\",\n",
    "                              \"NOAA\",\n",
    "                              \"LCD_files\")\n",
    "csv_files_path"
   ]
  },
  {
   "cell_type": "code",
   "execution_count": 5,
   "metadata": {
    "ExecuteTime": {
     "end_time": "2021-02-17T18:18:25.855653Z",
     "start_time": "2021-02-17T18:18:25.828669Z"
    }
   },
   "outputs": [
    {
     "data": {
      "text/plain": [
       "'C:\\\\Users\\\\turge\\\\CompartidoVM\\\\0.TFM\\\\Output_Data\\\\NOAA\\\\LCD_files\\\\ABE_14737.csv'"
      ]
     },
     "execution_count": 5,
     "metadata": {},
     "output_type": "execute_result"
    }
   ],
   "source": [
    "individualLCLCDileName = \"ABE_14737.csv\"\n",
    "individualLCLCDileNamePath = os.path.join(csv_files_path, individualLCLCDileName)\n",
    "individualLCLCDileNamePath"
   ]
  },
  {
   "cell_type": "markdown",
   "metadata": {},
   "source": [
    "#### Select the interesting columns"
   ]
  },
  {
   "cell_type": "code",
   "execution_count": 6,
   "metadata": {
    "ExecuteTime": {
     "end_time": "2021-02-17T18:18:25.886633Z",
     "start_time": "2021-02-17T18:18:25.861651Z"
    }
   },
   "outputs": [],
   "source": [
    "cols = [\n",
    " 'STATION', # Station ID (VMO+WBAN)\n",
    " 'DATE', # Date: YYYY-MM-DD format / Time: 24-hour clock in local standard time (LST)\n",
    "#  'LATITUDE',\n",
    "#  'LONGITUDE',\n",
    "#  'ELEVATION',\n",
    "#  'NAME',\n",
    "#  'REPORT_TYPE',\n",
    "#  'SOURCE',\n",
    " 'HourlyAltimeterSetting', # Atmospheric pressure reduced to sea level using temperature profile of the “standard” atmosphere\n",
    "#  'HourlyDewPointTemperature',\n",
    " 'HourlyDryBulbTemperature', # Commonly used as the standard air temperature reported (given in whole degrees Fahrenheit)\n",
    " 'HourlyPrecipitation', # Amount of precipitation in inches to hundredths over the past hour (“T” indicates a trace amount)\n",
    "#  'HourlyPresentWeatherType',\n",
    "#  'HourlyPressureChange',\n",
    "#  'HourlyPressureTendency',\n",
    " 'HourlyRelativeHumidity', # Relative humidity given to the nearest whole percentage\n",
    " 'HourlySkyConditions', # A report of each cloud layer (up to 3).Each layer given in the following format: ccc:ll-xxx where:\n",
    "                         ## ccc = Coverage: CLR (clear sky), FEW (few clouds), SCT (scattered clouds), BKN (broken clouds),\n",
    "                         ##                 OVC (overcast), VV (obscured sky), 10 (partially obscured sky) → Last layer used (*)\n",
    "                         ##  ll = Layer amount given in eighths (aka “oktas”) → Not used\n",
    "                         ## xxx = Cloud base height at lowest point of layer → Not used   \n",
    "                             ## (*) NOTE: Since up to 3 cloud layers can be reported, the full state of the sky \n",
    "                             ##           can best be determined by the contraction given for the last layer\n",
    "#  'HourlySeaLevelPressure',\n",
    "#  'HourlyStationPressure',\n",
    " 'HourlyVisibility', # Horizontal distance an object can be seen and identified given in whole miles\n",
    "#  'HourlyWetBulbTemperature',\n",
    "#  'HourlyWindDirection', # wind direction/speed/gust variables would be useful in case RWY Magnetic Heading was also available\n",
    "#  'HourlyWindGustSpeed',   # without it, there is no use for it. Strong crosswinds can greatly penalize A/C performance;\n",
    "#  'HourlyWindSpeed',       # however, RWYs are normally designed so that headwind prevails to improve A/C performance\n",
    "#  'Sunrise',\n",
    "#  'Sunset',\n",
    "#  'DailyAverageDewPointTemperature',\n",
    "#  'DailyAverageDryBulbTemperature',\n",
    "#  'DailyAverageRelativeHumidity',\n",
    "#  'DailyAverageSeaLevelPressure',\n",
    "#  'DailyAverageStationPressure',\n",
    "#  'DailyAverageWetBulbTemperature',\n",
    "#  'DailyAverageWindSpeed',\n",
    "#  'DailyCoolingDegreeDays',\n",
    "#  'DailyDepartureFromNormalAverageTemperature',\n",
    "#  'DailyHeatingDegreeDays',\n",
    "#  'DailyMaximumDryBulbTemperature',\n",
    "#  'DailyMinimumDryBulbTemperature',\n",
    "#  'DailyPeakWindDirection',\n",
    "#  'DailyPeakWindSpeed',\n",
    "#  'DailyPrecipitation',\n",
    "#  'DailySnowDepth',\n",
    "#  'DailySnowfall',\n",
    "#  'DailySustainedWindDirection',\n",
    "#  'DailySustainedWindSpeed',\n",
    "#  'DailyWeather',\n",
    "#  'MonthlyAverageRH',\n",
    "#  'MonthlyDaysWithGT001Precip',\n",
    "#  'MonthlyDaysWithGT010Precip',\n",
    "#  'MonthlyDaysWithGT32Temp',\n",
    "#  'MonthlyDaysWithGT90Temp',\n",
    "#  'MonthlyDaysWithLT0Temp',\n",
    "#  'MonthlyDaysWithLT32Temp',\n",
    "#  'MonthlyDepartureFromNormalAverageTemperature',\n",
    "#  'MonthlyDepartureFromNormalCoolingDegreeDays',\n",
    "#  'MonthlyDepartureFromNormalHeatingDegreeDays',\n",
    "#  'MonthlyDepartureFromNormalMaximumTemperature',\n",
    "#  'MonthlyDepartureFromNormalMinimumTemperature',\n",
    "#  'MonthlyDepartureFromNormalPrecipitation',\n",
    "#  'MonthlyDewpointTemperature',\n",
    "#  'MonthlyGreatestPrecip',\n",
    "#  'MonthlyGreatestPrecipDate',\n",
    "#  'MonthlyGreatestSnowDepth',\n",
    "#  'MonthlyGreatestSnowDepthDate',\n",
    "#  'MonthlyGreatestSnowfall',\n",
    "#  'MonthlyGreatestSnowfallDate',\n",
    "#  'MonthlyMaxSeaLevelPressureValue',\n",
    "#  'MonthlyMaxSeaLevelPressureValueDate',\n",
    "#  'MonthlyMaxSeaLevelPressureValueTime',\n",
    "#  'MonthlyMaximumTemperature',\n",
    "#  'MonthlyMeanTemperature',\n",
    "#  'MonthlyMinSeaLevelPressureValue',\n",
    "#  'MonthlyMinSeaLevelPressureValueDate',\n",
    "#  'MonthlyMinSeaLevelPressureValueTime',\n",
    "#  'MonthlyMinimumTemperature',\n",
    "#  'MonthlySeaLevelPressure',\n",
    "#  'MonthlyStationPressure',\n",
    "#  'MonthlyTotalLiquidPrecipitation',\n",
    "#  'MonthlyTotalSnowfall',\n",
    "#  'MonthlyWetBulb',\n",
    "#  'AWND',\n",
    "#  'CDSD',\n",
    "#  'CLDD',\n",
    "#  'DSNW',\n",
    "#  'HDSD',\n",
    "#  'HTDD',\n",
    "#  'NormalsCoolingDegreeDay',\n",
    "#  'NormalsHeatingDegreeDay',\n",
    "#  'ShortDurationEndDate005',\n",
    "#  'ShortDurationEndDate010',\n",
    "#  'ShortDurationEndDate015',\n",
    "#  'ShortDurationEndDate020',\n",
    "#  'ShortDurationEndDate030',\n",
    "#  'ShortDurationEndDate045',\n",
    "#  'ShortDurationEndDate060',\n",
    "#  'ShortDurationEndDate080',\n",
    "#  'ShortDurationEndDate100',\n",
    "#  'ShortDurationEndDate120',\n",
    "#  'ShortDurationEndDate150',\n",
    "#  'ShortDurationEndDate180',\n",
    "#  'ShortDurationPrecipitationValue005',\n",
    "#  'ShortDurationPrecipitationValue010',\n",
    "#  'ShortDurationPrecipitationValue015',\n",
    "#  'ShortDurationPrecipitationValue020',\n",
    "#  'ShortDurationPrecipitationValue030',\n",
    "#  'ShortDurationPrecipitationValue045',\n",
    "#  'ShortDurationPrecipitationValue060',\n",
    "#  'ShortDurationPrecipitationValue080',\n",
    "#  'ShortDurationPrecipitationValue100',\n",
    "#  'ShortDurationPrecipitationValue120',\n",
    "#  'ShortDurationPrecipitationValue150',\n",
    "#  'ShortDurationPrecipitationValue180',\n",
    " 'REM', # Surface Weather Observations & Reports (METAR)\n",
    "#  'BackupDirection',\n",
    "#  'BackupDistance',\n",
    "#  'BackupDistanceUnit',\n",
    "#  'BackupElements',\n",
    "#  'BackupElevation',\n",
    "#  'BackupEquipment',\n",
    "#  'BackupLatitude',\n",
    "#  'BackupLongitude',\n",
    "#  'BackupName',\n",
    "#  'WindEquipmentChangeDate'\n",
    "]"
   ]
  },
  {
   "cell_type": "markdown",
   "metadata": {},
   "source": [
    "Selected columns:\n",
    "\n",
    "- `STATION` → Station ID (VMO+WBAN)  \n",
    "- `DATE` → Date: YYYY-MM-DD format / Time: 24-hour clock in local standard time (LST)  \n",
    "- `HourlyAltimeterSetting` → Atmospheric pressure reduced to sea level using temperature profile of the “standard” atmosphere  \n",
    "- `HourlyDryBulbTemperature` → Commonly used as the standard air temperature reported (given in whole degrees Fahrenheit)  \n",
    "- `HourlyPrecipitation` → Amount of precipitation in inches to hundredths over the past hour (“T” indicates a trace amount)   \n",
    "- `HourlyRelativeHumidity` → Relative humidity given to the nearest whole percentage  \n",
    "- `HourlySkyConditions` → A report of each cloud layer (up to 3).  \n",
    "Each layer given in the following format: `ccc:ll-xxx` where:\n",
    "    - ccc = Coverage:\n",
    "        - CLR (clear sky)\n",
    "        - FEW (few clouds)\n",
    "        - SCT (scattered clouds)\n",
    "        - BKN (broken clouds)\n",
    "        - OVC (overcast)\n",
    "        - VV (obscured sky)\n",
    "        - 10 (partially obscured sky) → **Only last layer used (*)**\n",
    "    - ll = Layer amount given in eighths (aka “oktas”) → *Not used*\n",
    "    - xxx = Cloud base height at lowest point of layer → *Not used*  \n",
    "    (*) NOTE: Since up to 3 cloud layers can be reported, the full state of the sky can best be determined by the contraction given for the last layer.\n",
    "- `HourlyVisibility` → Horizontal distance an object can be seen and identified given in whole miles\n",
    "- `REM` → Surface Weather Observations & Reports (METAR)\n",
    "    \n",
    "Additional note for **wind**:  \n",
    "- `HourlyWindDirection`\n",
    "- `HourlyWindGustSpeed`\n",
    "- `HourlyWindSpeed`  \n",
    "Wind direction/speed/gust variables would be useful in case RWY Magnetic Heading was also available; without it, there is no use for the wind in the model. Strong crosswinds can greatly penalize A/C performance; however, RWYs are normally designed so that headwind prevails to improve A/C performance. Therefore, such type of winds should be unusual in average."
   ]
  },
  {
   "cell_type": "markdown",
   "metadata": {},
   "source": [
    "#### Import file (retrieving only the selected columns)"
   ]
  },
  {
   "cell_type": "code",
   "execution_count": 7,
   "metadata": {
    "ExecuteTime": {
     "end_time": "2021-02-17T18:18:26.107723Z",
     "start_time": "2021-02-17T18:18:25.893628Z"
    },
    "scrolled": true
   },
   "outputs": [
    {
     "data": {
      "text/html": [
       "<div>\n",
       "<style scoped>\n",
       "    .dataframe tbody tr th:only-of-type {\n",
       "        vertical-align: middle;\n",
       "    }\n",
       "\n",
       "    .dataframe tbody tr th {\n",
       "        vertical-align: top;\n",
       "    }\n",
       "\n",
       "    .dataframe thead th {\n",
       "        text-align: right;\n",
       "    }\n",
       "</style>\n",
       "<table border=\"1\" class=\"dataframe\">\n",
       "  <thead>\n",
       "    <tr style=\"text-align: right;\">\n",
       "      <th></th>\n",
       "      <th>STATION</th>\n",
       "      <th>DATE</th>\n",
       "      <th>HourlyAltimeterSetting</th>\n",
       "      <th>HourlyDryBulbTemperature</th>\n",
       "      <th>HourlyPrecipitation</th>\n",
       "      <th>HourlyRelativeHumidity</th>\n",
       "      <th>HourlySkyConditions</th>\n",
       "      <th>HourlyVisibility</th>\n",
       "      <th>REM</th>\n",
       "    </tr>\n",
       "  </thead>\n",
       "  <tbody>\n",
       "    <tr>\n",
       "      <th>3667</th>\n",
       "      <td>72517014737</td>\n",
       "      <td>2019-04-13T10:51:00</td>\n",
       "      <td>30.07</td>\n",
       "      <td>71.0</td>\n",
       "      <td>0.00</td>\n",
       "      <td>61.0</td>\n",
       "      <td>FEW:02 28</td>\n",
       "      <td>10.00</td>\n",
       "      <td>MET09904/13/19 10:51:02 METAR KABE 131551Z 240...</td>\n",
       "    </tr>\n",
       "    <tr>\n",
       "      <th>6725</th>\n",
       "      <td>72517014737</td>\n",
       "      <td>2019-07-05T07:00:00</td>\n",
       "      <td>NaN</td>\n",
       "      <td>75.0</td>\n",
       "      <td>NaN</td>\n",
       "      <td>79.0</td>\n",
       "      <td>15</td>\n",
       "      <td>8.70</td>\n",
       "      <td>SYN08072517 32464 81704 10239 20200 30076 4021...</td>\n",
       "    </tr>\n",
       "    <tr>\n",
       "      <th>8095</th>\n",
       "      <td>72517014737</td>\n",
       "      <td>2019-08-10T08:51:00</td>\n",
       "      <td>29.89</td>\n",
       "      <td>74.0</td>\n",
       "      <td>0.00</td>\n",
       "      <td>57.0</td>\n",
       "      <td>CLR:00</td>\n",
       "      <td>10.00</td>\n",
       "      <td>MET09608/10/19 08:51:02 METAR KABE 101351Z 250...</td>\n",
       "    </tr>\n",
       "    <tr>\n",
       "      <th>7027</th>\n",
       "      <td>72517014737</td>\n",
       "      <td>2019-07-12T07:49:00</td>\n",
       "      <td>29.78</td>\n",
       "      <td>77.0</td>\n",
       "      <td>NaN</td>\n",
       "      <td>79.0</td>\n",
       "      <td>BKN:07 17</td>\n",
       "      <td>10.00</td>\n",
       "      <td>MET08207/12/19 07:49:02 SPECI KABE 121249Z 260...</td>\n",
       "    </tr>\n",
       "    <tr>\n",
       "      <th>5253</th>\n",
       "      <td>72517014737</td>\n",
       "      <td>2019-05-25T01:00:00</td>\n",
       "      <td>NaN</td>\n",
       "      <td>58.0</td>\n",
       "      <td>NaN</td>\n",
       "      <td>67.0</td>\n",
       "      <td>NaN</td>\n",
       "      <td>9.94</td>\n",
       "      <td>SYN08072517 32966 03503 10144 20083 30076 4021...</td>\n",
       "    </tr>\n",
       "  </tbody>\n",
       "</table>\n",
       "</div>"
      ],
      "text/plain": [
       "          STATION                 DATE HourlyAltimeterSetting  \\\n",
       "3667  72517014737  2019-04-13T10:51:00                  30.07   \n",
       "6725  72517014737  2019-07-05T07:00:00                    NaN   \n",
       "8095  72517014737  2019-08-10T08:51:00                  29.89   \n",
       "7027  72517014737  2019-07-12T07:49:00                  29.78   \n",
       "5253  72517014737  2019-05-25T01:00:00                    NaN   \n",
       "\n",
       "      HourlyDryBulbTemperature HourlyPrecipitation  HourlyRelativeHumidity  \\\n",
       "3667                      71.0                0.00                    61.0   \n",
       "6725                      75.0                 NaN                    79.0   \n",
       "8095                      74.0                0.00                    57.0   \n",
       "7027                      77.0                 NaN                    79.0   \n",
       "5253                      58.0                 NaN                    67.0   \n",
       "\n",
       "     HourlySkyConditions HourlyVisibility  \\\n",
       "3667           FEW:02 28            10.00   \n",
       "6725                  15             8.70   \n",
       "8095              CLR:00            10.00   \n",
       "7027           BKN:07 17            10.00   \n",
       "5253                 NaN             9.94   \n",
       "\n",
       "                                                    REM  \n",
       "3667  MET09904/13/19 10:51:02 METAR KABE 131551Z 240...  \n",
       "6725  SYN08072517 32464 81704 10239 20200 30076 4021...  \n",
       "8095  MET09608/10/19 08:51:02 METAR KABE 101351Z 250...  \n",
       "7027  MET08207/12/19 07:49:02 SPECI KABE 121249Z 260...  \n",
       "5253  SYN08072517 32966 03503 10144 20083 30076 4021...  "
      ]
     },
     "execution_count": 7,
     "metadata": {},
     "output_type": "execute_result"
    }
   ],
   "source": [
    "lcd = pd.read_csv(individualLCLCDileNamePath,\n",
    "                  encoding='latin1',\n",
    "                  usecols=cols,\n",
    "                  low_memory = False)\n",
    "lcd.sample(5)"
   ]
  },
  {
   "cell_type": "markdown",
   "metadata": {},
   "source": [
    "## LCD multiple file concatenation (2019)"
   ]
  },
  {
   "cell_type": "markdown",
   "metadata": {},
   "source": [
    "### Retrieve file list"
   ]
  },
  {
   "cell_type": "markdown",
   "metadata": {},
   "source": [
    "Let's proceed with multiple-file importing, through concatenation into a single DataFrame."
   ]
  },
  {
   "cell_type": "code",
   "execution_count": 15,
   "metadata": {
    "ExecuteTime": {
     "end_time": "2021-02-17T18:39:04.036901Z",
     "start_time": "2021-02-17T18:39:04.021910Z"
    },
    "scrolled": true
   },
   "outputs": [
    {
     "data": {
      "text/plain": [
       "'C:\\\\Users\\\\turge\\\\CompartidoVM\\\\0.TFM\\\\Output_Data\\\\NOAA\\\\LCD_files'"
      ]
     },
     "execution_count": 15,
     "metadata": {},
     "output_type": "execute_result"
    }
   ],
   "source": [
    "directory_in_str = os.path.join(root,\n",
    "                                \"Output_Data\",\n",
    "                                \"NOAA\",\n",
    "                                \"LCD_files\")\n",
    "directory_in_str"
   ]
  },
  {
   "cell_type": "code",
   "execution_count": 17,
   "metadata": {
    "ExecuteTime": {
     "end_time": "2021-02-17T18:39:13.741787Z",
     "start_time": "2021-02-17T18:39:13.708806Z"
    },
    "scrolled": true
   },
   "outputs": [
    {
     "data": {
      "text/plain": [
       "['C:\\\\Users\\\\turge\\\\CompartidoVM\\\\0.TFM\\\\Output_Data\\\\NOAA\\\\LCD_files\\\\ABE_14737.csv',\n",
       " 'C:\\\\Users\\\\turge\\\\CompartidoVM\\\\0.TFM\\\\Output_Data\\\\NOAA\\\\LCD_files\\\\ABI_13962.csv',\n",
       " 'C:\\\\Users\\\\turge\\\\CompartidoVM\\\\0.TFM\\\\Output_Data\\\\NOAA\\\\LCD_files\\\\ABQ_23050.csv',\n",
       " 'C:\\\\Users\\\\turge\\\\CompartidoVM\\\\0.TFM\\\\Output_Data\\\\NOAA\\\\LCD_files\\\\ABR_14929.csv',\n",
       " 'C:\\\\Users\\\\turge\\\\CompartidoVM\\\\0.TFM\\\\Output_Data\\\\NOAA\\\\LCD_files\\\\ABY_13869.csv',\n",
       " 'C:\\\\Users\\\\turge\\\\CompartidoVM\\\\0.TFM\\\\Output_Data\\\\NOAA\\\\LCD_files\\\\ACK_14756.csv',\n",
       " 'C:\\\\Users\\\\turge\\\\CompartidoVM\\\\0.TFM\\\\Output_Data\\\\NOAA\\\\LCD_files\\\\ACT_13959.csv',\n",
       " 'C:\\\\Users\\\\turge\\\\CompartidoVM\\\\0.TFM\\\\Output_Data\\\\NOAA\\\\LCD_files\\\\ACV_24283.csv',\n",
       " 'C:\\\\Users\\\\turge\\\\CompartidoVM\\\\0.TFM\\\\Output_Data\\\\NOAA\\\\LCD_files\\\\ACY_93730.csv',\n",
       " 'C:\\\\Users\\\\turge\\\\CompartidoVM\\\\0.TFM\\\\Output_Data\\\\NOAA\\\\LCD_files\\\\ADK_25704.csv',\n",
       " 'C:\\\\Users\\\\turge\\\\CompartidoVM\\\\0.TFM\\\\Output_Data\\\\NOAA\\\\LCD_files\\\\ADQ_25501.csv',\n",
       " 'C:\\\\Users\\\\turge\\\\CompartidoVM\\\\0.TFM\\\\Output_Data\\\\NOAA\\\\LCD_files\\\\AEX_93915.csv',\n",
       " 'C:\\\\Users\\\\turge\\\\CompartidoVM\\\\0.TFM\\\\Output_Data\\\\NOAA\\\\LCD_files\\\\AGS_3820.csv',\n",
       " 'C:\\\\Users\\\\turge\\\\CompartidoVM\\\\0.TFM\\\\Output_Data\\\\NOAA\\\\LCD_files\\\\AKN_25503.csv',\n",
       " 'C:\\\\Users\\\\turge\\\\CompartidoVM\\\\0.TFM\\\\Output_Data\\\\NOAA\\\\LCD_files\\\\ALB_14735.csv',\n",
       " 'C:\\\\Users\\\\turge\\\\CompartidoVM\\\\0.TFM\\\\Output_Data\\\\NOAA\\\\LCD_files\\\\ALO_94910.csv',\n",
       " 'C:\\\\Users\\\\turge\\\\CompartidoVM\\\\0.TFM\\\\Output_Data\\\\NOAA\\\\LCD_files\\\\AMA_23047.csv',\n",
       " 'C:\\\\Users\\\\turge\\\\CompartidoVM\\\\0.TFM\\\\Output_Data\\\\NOAA\\\\LCD_files\\\\ANC_26451.csv',\n",
       " 'C:\\\\Users\\\\turge\\\\CompartidoVM\\\\0.TFM\\\\Output_Data\\\\NOAA\\\\LCD_files\\\\APN_94849.csv',\n",
       " 'C:\\\\Users\\\\turge\\\\CompartidoVM\\\\0.TFM\\\\Output_Data\\\\NOAA\\\\LCD_files\\\\ART_94790.csv',\n",
       " 'C:\\\\Users\\\\turge\\\\CompartidoVM\\\\0.TFM\\\\Output_Data\\\\NOAA\\\\LCD_files\\\\ASE_93073.csv',\n",
       " 'C:\\\\Users\\\\turge\\\\CompartidoVM\\\\0.TFM\\\\Output_Data\\\\NOAA\\\\LCD_files\\\\ATL_13874.csv',\n",
       " 'C:\\\\Users\\\\turge\\\\CompartidoVM\\\\0.TFM\\\\Output_Data\\\\NOAA\\\\LCD_files\\\\ATW_4825.csv',\n",
       " 'C:\\\\Users\\\\turge\\\\CompartidoVM\\\\0.TFM\\\\Output_Data\\\\NOAA\\\\LCD_files\\\\ATY_14946.csv',\n",
       " 'C:\\\\Users\\\\turge\\\\CompartidoVM\\\\0.TFM\\\\Output_Data\\\\NOAA\\\\LCD_files\\\\AUS_13958.csv',\n",
       " 'C:\\\\Users\\\\turge\\\\CompartidoVM\\\\0.TFM\\\\Output_Data\\\\NOAA\\\\LCD_files\\\\AVL_3812.csv',\n",
       " 'C:\\\\Users\\\\turge\\\\CompartidoVM\\\\0.TFM\\\\Output_Data\\\\NOAA\\\\LCD_files\\\\AVP_14777.csv',\n",
       " 'C:\\\\Users\\\\turge\\\\CompartidoVM\\\\0.TFM\\\\Output_Data\\\\NOAA\\\\LCD_files\\\\AZO_94815.csv',\n",
       " 'C:\\\\Users\\\\turge\\\\CompartidoVM\\\\0.TFM\\\\Output_Data\\\\NOAA\\\\LCD_files\\\\BDL_14740.csv',\n",
       " 'C:\\\\Users\\\\turge\\\\CompartidoVM\\\\0.TFM\\\\Output_Data\\\\NOAA\\\\LCD_files\\\\BET_26615.csv',\n",
       " 'C:\\\\Users\\\\turge\\\\CompartidoVM\\\\0.TFM\\\\Output_Data\\\\NOAA\\\\LCD_files\\\\BFF_24028.csv',\n",
       " 'C:\\\\Users\\\\turge\\\\CompartidoVM\\\\0.TFM\\\\Output_Data\\\\NOAA\\\\LCD_files\\\\BFL_23155.csv',\n",
       " 'C:\\\\Users\\\\turge\\\\CompartidoVM\\\\0.TFM\\\\Output_Data\\\\NOAA\\\\LCD_files\\\\BFM_13838.csv',\n",
       " 'C:\\\\Users\\\\turge\\\\CompartidoVM\\\\0.TFM\\\\Output_Data\\\\NOAA\\\\LCD_files\\\\BGM_4725.csv',\n",
       " 'C:\\\\Users\\\\turge\\\\CompartidoVM\\\\0.TFM\\\\Output_Data\\\\NOAA\\\\LCD_files\\\\BGR_14606.csv',\n",
       " 'C:\\\\Users\\\\turge\\\\CompartidoVM\\\\0.TFM\\\\Output_Data\\\\NOAA\\\\LCD_files\\\\BHM_13876.csv',\n",
       " 'C:\\\\Users\\\\turge\\\\CompartidoVM\\\\0.TFM\\\\Output_Data\\\\NOAA\\\\LCD_files\\\\BIL_24033.csv',\n",
       " 'C:\\\\Users\\\\turge\\\\CompartidoVM\\\\0.TFM\\\\Output_Data\\\\NOAA\\\\LCD_files\\\\BIS_24011.csv',\n",
       " 'C:\\\\Users\\\\turge\\\\CompartidoVM\\\\0.TFM\\\\Output_Data\\\\NOAA\\\\LCD_files\\\\BJI_14958.csv',\n",
       " 'C:\\\\Users\\\\turge\\\\CompartidoVM\\\\0.TFM\\\\Output_Data\\\\NOAA\\\\LCD_files\\\\BLI_24217.csv',\n",
       " 'C:\\\\Users\\\\turge\\\\CompartidoVM\\\\0.TFM\\\\Output_Data\\\\NOAA\\\\LCD_files\\\\BLV_13802.csv',\n",
       " 'C:\\\\Users\\\\turge\\\\CompartidoVM\\\\0.TFM\\\\Output_Data\\\\NOAA\\\\LCD_files\\\\BMI_54831.csv',\n",
       " 'C:\\\\Users\\\\turge\\\\CompartidoVM\\\\0.TFM\\\\Output_Data\\\\NOAA\\\\LCD_files\\\\BNA_13897.csv',\n",
       " 'C:\\\\Users\\\\turge\\\\CompartidoVM\\\\0.TFM\\\\Output_Data\\\\NOAA\\\\LCD_files\\\\BOI_24131.csv',\n",
       " 'C:\\\\Users\\\\turge\\\\CompartidoVM\\\\0.TFM\\\\Output_Data\\\\NOAA\\\\LCD_files\\\\BOS_14739.csv',\n",
       " 'C:\\\\Users\\\\turge\\\\CompartidoVM\\\\0.TFM\\\\Output_Data\\\\NOAA\\\\LCD_files\\\\BPT_12917.csv',\n",
       " 'C:\\\\Users\\\\turge\\\\CompartidoVM\\\\0.TFM\\\\Output_Data\\\\NOAA\\\\LCD_files\\\\BQK_53883.csv',\n",
       " 'C:\\\\Users\\\\turge\\\\CompartidoVM\\\\0.TFM\\\\Output_Data\\\\NOAA\\\\LCD_files\\\\BQN_11603.csv',\n",
       " 'C:\\\\Users\\\\turge\\\\CompartidoVM\\\\0.TFM\\\\Output_Data\\\\NOAA\\\\LCD_files\\\\BRD_94938.csv',\n",
       " 'C:\\\\Users\\\\turge\\\\CompartidoVM\\\\0.TFM\\\\Output_Data\\\\NOAA\\\\LCD_files\\\\BRO_12919.csv',\n",
       " 'C:\\\\Users\\\\turge\\\\CompartidoVM\\\\0.TFM\\\\Output_Data\\\\NOAA\\\\LCD_files\\\\BRW_27502.csv',\n",
       " 'C:\\\\Users\\\\turge\\\\CompartidoVM\\\\0.TFM\\\\Output_Data\\\\NOAA\\\\LCD_files\\\\BTM_24135.csv',\n",
       " 'C:\\\\Users\\\\turge\\\\CompartidoVM\\\\0.TFM\\\\Output_Data\\\\NOAA\\\\LCD_files\\\\BTR_13970.csv',\n",
       " 'C:\\\\Users\\\\turge\\\\CompartidoVM\\\\0.TFM\\\\Output_Data\\\\NOAA\\\\LCD_files\\\\BTV_14742.csv',\n",
       " 'C:\\\\Users\\\\turge\\\\CompartidoVM\\\\0.TFM\\\\Output_Data\\\\NOAA\\\\LCD_files\\\\BUF_14733.csv',\n",
       " 'C:\\\\Users\\\\turge\\\\CompartidoVM\\\\0.TFM\\\\Output_Data\\\\NOAA\\\\LCD_files\\\\BUR_23152.csv',\n",
       " 'C:\\\\Users\\\\turge\\\\CompartidoVM\\\\0.TFM\\\\Output_Data\\\\NOAA\\\\LCD_files\\\\BWI_93721.csv',\n",
       " 'C:\\\\Users\\\\turge\\\\CompartidoVM\\\\0.TFM\\\\Output_Data\\\\NOAA\\\\LCD_files\\\\BZN_24132.csv',\n",
       " 'C:\\\\Users\\\\turge\\\\CompartidoVM\\\\0.TFM\\\\Output_Data\\\\NOAA\\\\LCD_files\\\\CAE_13883.csv',\n",
       " 'C:\\\\Users\\\\turge\\\\CompartidoVM\\\\0.TFM\\\\Output_Data\\\\NOAA\\\\LCD_files\\\\CAK_14895.csv',\n",
       " 'C:\\\\Users\\\\turge\\\\CompartidoVM\\\\0.TFM\\\\Output_Data\\\\NOAA\\\\LCD_files\\\\CDC_93129.csv',\n",
       " 'C:\\\\Users\\\\turge\\\\CompartidoVM\\\\0.TFM\\\\Output_Data\\\\NOAA\\\\LCD_files\\\\CDV_26410.csv',\n",
       " 'C:\\\\Users\\\\turge\\\\CompartidoVM\\\\0.TFM\\\\Output_Data\\\\NOAA\\\\LCD_files\\\\CGI_3935.csv',\n",
       " 'C:\\\\Users\\\\turge\\\\CompartidoVM\\\\0.TFM\\\\Output_Data\\\\NOAA\\\\LCD_files\\\\CHA_13882.csv',\n",
       " 'C:\\\\Users\\\\turge\\\\CompartidoVM\\\\0.TFM\\\\Output_Data\\\\NOAA\\\\LCD_files\\\\CHO_93736.csv',\n",
       " 'C:\\\\Users\\\\turge\\\\CompartidoVM\\\\0.TFM\\\\Output_Data\\\\NOAA\\\\LCD_files\\\\CHS_13880.csv',\n",
       " 'C:\\\\Users\\\\turge\\\\CompartidoVM\\\\0.TFM\\\\Output_Data\\\\NOAA\\\\LCD_files\\\\CID_14990.csv',\n",
       " 'C:\\\\Users\\\\turge\\\\CompartidoVM\\\\0.TFM\\\\Output_Data\\\\NOAA\\\\LCD_files\\\\CIU_4869.csv',\n",
       " 'C:\\\\Users\\\\turge\\\\CompartidoVM\\\\0.TFM\\\\Output_Data\\\\NOAA\\\\LCD_files\\\\CKB_3802.csv',\n",
       " 'C:\\\\Users\\\\turge\\\\CompartidoVM\\\\0.TFM\\\\Output_Data\\\\NOAA\\\\LCD_files\\\\CLE_14820.csv',\n",
       " 'C:\\\\Users\\\\turge\\\\CompartidoVM\\\\0.TFM\\\\Output_Data\\\\NOAA\\\\LCD_files\\\\CLL_3904.csv',\n",
       " 'C:\\\\Users\\\\turge\\\\CompartidoVM\\\\0.TFM\\\\Output_Data\\\\NOAA\\\\LCD_files\\\\CLT_13881.csv',\n",
       " 'C:\\\\Users\\\\turge\\\\CompartidoVM\\\\0.TFM\\\\Output_Data\\\\NOAA\\\\LCD_files\\\\CMH_14821.csv',\n",
       " 'C:\\\\Users\\\\turge\\\\CompartidoVM\\\\0.TFM\\\\Output_Data\\\\NOAA\\\\LCD_files\\\\CMI_94870.csv',\n",
       " 'C:\\\\Users\\\\turge\\\\CompartidoVM\\\\0.TFM\\\\Output_Data\\\\NOAA\\\\LCD_files\\\\CMX_14858.csv',\n",
       " 'C:\\\\Users\\\\turge\\\\CompartidoVM\\\\0.TFM\\\\Output_Data\\\\NOAA\\\\LCD_files\\\\CNY_93075.csv',\n",
       " 'C:\\\\Users\\\\turge\\\\CompartidoVM\\\\0.TFM\\\\Output_Data\\\\NOAA\\\\LCD_files\\\\COD_24045.csv',\n",
       " 'C:\\\\Users\\\\turge\\\\CompartidoVM\\\\0.TFM\\\\Output_Data\\\\NOAA\\\\LCD_files\\\\COS_93037.csv',\n",
       " 'C:\\\\Users\\\\turge\\\\CompartidoVM\\\\0.TFM\\\\Output_Data\\\\NOAA\\\\LCD_files\\\\COU_3945.csv',\n",
       " 'C:\\\\Users\\\\turge\\\\CompartidoVM\\\\0.TFM\\\\Output_Data\\\\NOAA\\\\LCD_files\\\\CPR_24089.csv',\n",
       " 'C:\\\\Users\\\\turge\\\\CompartidoVM\\\\0.TFM\\\\Output_Data\\\\NOAA\\\\LCD_files\\\\CRP_12924.csv',\n",
       " 'C:\\\\Users\\\\turge\\\\CompartidoVM\\\\0.TFM\\\\Output_Data\\\\NOAA\\\\LCD_files\\\\CRW_13866.csv',\n",
       " 'C:\\\\Users\\\\turge\\\\CompartidoVM\\\\0.TFM\\\\Output_Data\\\\NOAA\\\\LCD_files\\\\CSG_93842.csv',\n",
       " 'C:\\\\Users\\\\turge\\\\CompartidoVM\\\\0.TFM\\\\Output_Data\\\\NOAA\\\\LCD_files\\\\CVG_93814.csv',\n",
       " 'C:\\\\Users\\\\turge\\\\CompartidoVM\\\\0.TFM\\\\Output_Data\\\\NOAA\\\\LCD_files\\\\CWA_94890.csv',\n",
       " 'C:\\\\Users\\\\turge\\\\CompartidoVM\\\\0.TFM\\\\Output_Data\\\\NOAA\\\\LCD_files\\\\CYS_24018.csv',\n",
       " 'C:\\\\Users\\\\turge\\\\CompartidoVM\\\\0.TFM\\\\Output_Data\\\\NOAA\\\\LCD_files\\\\DAB_12834.csv',\n",
       " 'C:\\\\Users\\\\turge\\\\CompartidoVM\\\\0.TFM\\\\Output_Data\\\\NOAA\\\\LCD_files\\\\DAL_13960.csv',\n",
       " 'C:\\\\Users\\\\turge\\\\CompartidoVM\\\\0.TFM\\\\Output_Data\\\\NOAA\\\\LCD_files\\\\DAY_93815.csv',\n",
       " 'C:\\\\Users\\\\turge\\\\CompartidoVM\\\\0.TFM\\\\Output_Data\\\\NOAA\\\\LCD_files\\\\DBQ_94908.csv',\n",
       " 'C:\\\\Users\\\\turge\\\\CompartidoVM\\\\0.TFM\\\\Output_Data\\\\NOAA\\\\LCD_files\\\\DCA_13743.csv',\n",
       " 'C:\\\\Users\\\\turge\\\\CompartidoVM\\\\0.TFM\\\\Output_Data\\\\NOAA\\\\LCD_files\\\\DEN_3017.csv',\n",
       " 'C:\\\\Users\\\\turge\\\\CompartidoVM\\\\0.TFM\\\\Output_Data\\\\NOAA\\\\LCD_files\\\\DFW_3927.csv',\n",
       " 'C:\\\\Users\\\\turge\\\\CompartidoVM\\\\0.TFM\\\\Output_Data\\\\NOAA\\\\LCD_files\\\\DLG_25513.csv',\n",
       " 'C:\\\\Users\\\\turge\\\\CompartidoVM\\\\0.TFM\\\\Output_Data\\\\NOAA\\\\LCD_files\\\\DLH_14913.csv',\n",
       " 'C:\\\\Users\\\\turge\\\\CompartidoVM\\\\0.TFM\\\\Output_Data\\\\NOAA\\\\LCD_files\\\\DRO_93005.csv',\n",
       " 'C:\\\\Users\\\\turge\\\\CompartidoVM\\\\0.TFM\\\\Output_Data\\\\NOAA\\\\LCD_files\\\\DRT_22010.csv',\n",
       " 'C:\\\\Users\\\\turge\\\\CompartidoVM\\\\0.TFM\\\\Output_Data\\\\NOAA\\\\LCD_files\\\\DSM_14933.csv',\n",
       " 'C:\\\\Users\\\\turge\\\\CompartidoVM\\\\0.TFM\\\\Output_Data\\\\NOAA\\\\LCD_files\\\\DTW_94847.csv',\n",
       " 'C:\\\\Users\\\\turge\\\\CompartidoVM\\\\0.TFM\\\\Output_Data\\\\NOAA\\\\LCD_files\\\\DVL_94928.csv',\n",
       " 'C:\\\\Users\\\\turge\\\\CompartidoVM\\\\0.TFM\\\\Output_Data\\\\NOAA\\\\LCD_files\\\\EAR_14905.csv',\n",
       " 'C:\\\\Users\\\\turge\\\\CompartidoVM\\\\0.TFM\\\\Output_Data\\\\NOAA\\\\LCD_files\\\\EAU_14991.csv',\n",
       " 'C:\\\\Users\\\\turge\\\\CompartidoVM\\\\0.TFM\\\\Output_Data\\\\NOAA\\\\LCD_files\\\\ECP_73805.csv',\n",
       " 'C:\\\\Users\\\\turge\\\\CompartidoVM\\\\0.TFM\\\\Output_Data\\\\NOAA\\\\LCD_files\\\\EGE_23063.csv',\n",
       " 'C:\\\\Users\\\\turge\\\\CompartidoVM\\\\0.TFM\\\\Output_Data\\\\NOAA\\\\LCD_files\\\\EKO_24121.csv',\n",
       " 'C:\\\\Users\\\\turge\\\\CompartidoVM\\\\0.TFM\\\\Output_Data\\\\NOAA\\\\LCD_files\\\\ELM_14748.csv',\n",
       " 'C:\\\\Users\\\\turge\\\\CompartidoVM\\\\0.TFM\\\\Output_Data\\\\NOAA\\\\LCD_files\\\\ELP_23044.csv',\n",
       " 'C:\\\\Users\\\\turge\\\\CompartidoVM\\\\0.TFM\\\\Output_Data\\\\NOAA\\\\LCD_files\\\\ERI_14860.csv',\n",
       " 'C:\\\\Users\\\\turge\\\\CompartidoVM\\\\0.TFM\\\\Output_Data\\\\NOAA\\\\LCD_files\\\\EUG_24221.csv',\n",
       " 'C:\\\\Users\\\\turge\\\\CompartidoVM\\\\0.TFM\\\\Output_Data\\\\NOAA\\\\LCD_files\\\\EVV_93817.csv',\n",
       " 'C:\\\\Users\\\\turge\\\\CompartidoVM\\\\0.TFM\\\\Output_Data\\\\NOAA\\\\LCD_files\\\\EWN_93719.csv',\n",
       " 'C:\\\\Users\\\\turge\\\\CompartidoVM\\\\0.TFM\\\\Output_Data\\\\NOAA\\\\LCD_files\\\\EWR_14734.csv',\n",
       " 'C:\\\\Users\\\\turge\\\\CompartidoVM\\\\0.TFM\\\\Output_Data\\\\NOAA\\\\LCD_files\\\\EYW_12836.csv',\n",
       " 'C:\\\\Users\\\\turge\\\\CompartidoVM\\\\0.TFM\\\\Output_Data\\\\NOAA\\\\LCD_files\\\\FAI_26411.csv',\n",
       " 'C:\\\\Users\\\\turge\\\\CompartidoVM\\\\0.TFM\\\\Output_Data\\\\NOAA\\\\LCD_files\\\\FAR_14914.csv',\n",
       " 'C:\\\\Users\\\\turge\\\\CompartidoVM\\\\0.TFM\\\\Output_Data\\\\NOAA\\\\LCD_files\\\\FAT_93193.csv',\n",
       " 'C:\\\\Users\\\\turge\\\\CompartidoVM\\\\0.TFM\\\\Output_Data\\\\NOAA\\\\LCD_files\\\\FAY_93740.csv',\n",
       " 'C:\\\\Users\\\\turge\\\\CompartidoVM\\\\0.TFM\\\\Output_Data\\\\NOAA\\\\LCD_files\\\\FLG_3103.csv',\n",
       " 'C:\\\\Users\\\\turge\\\\CompartidoVM\\\\0.TFM\\\\Output_Data\\\\NOAA\\\\LCD_files\\\\FLL_12849.csv',\n",
       " 'C:\\\\Users\\\\turge\\\\CompartidoVM\\\\0.TFM\\\\Output_Data\\\\NOAA\\\\LCD_files\\\\FNT_14826.csv',\n",
       " 'C:\\\\Users\\\\turge\\\\CompartidoVM\\\\0.TFM\\\\Output_Data\\\\NOAA\\\\LCD_files\\\\FSD_14944.csv',\n",
       " 'C:\\\\Users\\\\turge\\\\CompartidoVM\\\\0.TFM\\\\Output_Data\\\\NOAA\\\\LCD_files\\\\FSM_13964.csv',\n",
       " 'C:\\\\Users\\\\turge\\\\CompartidoVM\\\\0.TFM\\\\Output_Data\\\\NOAA\\\\LCD_files\\\\FWA_14827.csv',\n",
       " 'C:\\\\Users\\\\turge\\\\CompartidoVM\\\\0.TFM\\\\Output_Data\\\\NOAA\\\\LCD_files\\\\GCC_94023.csv',\n",
       " 'C:\\\\Users\\\\turge\\\\CompartidoVM\\\\0.TFM\\\\Output_Data\\\\NOAA\\\\LCD_files\\\\GCK_23064.csv',\n",
       " 'C:\\\\Users\\\\turge\\\\CompartidoVM\\\\0.TFM\\\\Output_Data\\\\NOAA\\\\LCD_files\\\\GEG_24157.csv',\n",
       " 'C:\\\\Users\\\\turge\\\\CompartidoVM\\\\0.TFM\\\\Output_Data\\\\NOAA\\\\LCD_files\\\\GFK_14916.csv',\n",
       " 'C:\\\\Users\\\\turge\\\\CompartidoVM\\\\0.TFM\\\\Output_Data\\\\NOAA\\\\LCD_files\\\\GGG_3901.csv',\n",
       " 'C:\\\\Users\\\\turge\\\\CompartidoVM\\\\0.TFM\\\\Output_Data\\\\NOAA\\\\LCD_files\\\\GJT_23066.csv',\n",
       " 'C:\\\\Users\\\\turge\\\\CompartidoVM\\\\0.TFM\\\\Output_Data\\\\NOAA\\\\LCD_files\\\\GNV_12816.csv',\n",
       " 'C:\\\\Users\\\\turge\\\\CompartidoVM\\\\0.TFM\\\\Output_Data\\\\NOAA\\\\LCD_files\\\\GPT_93874.csv',\n",
       " 'C:\\\\Users\\\\turge\\\\CompartidoVM\\\\0.TFM\\\\Output_Data\\\\NOAA\\\\LCD_files\\\\GRB_14898.csv',\n",
       " 'C:\\\\Users\\\\turge\\\\CompartidoVM\\\\0.TFM\\\\Output_Data\\\\NOAA\\\\LCD_files\\\\GRI_14935.csv',\n",
       " 'C:\\\\Users\\\\turge\\\\CompartidoVM\\\\0.TFM\\\\Output_Data\\\\NOAA\\\\LCD_files\\\\GRK_3902.csv',\n",
       " 'C:\\\\Users\\\\turge\\\\CompartidoVM\\\\0.TFM\\\\Output_Data\\\\NOAA\\\\LCD_files\\\\GRR_94860.csv',\n",
       " 'C:\\\\Users\\\\turge\\\\CompartidoVM\\\\0.TFM\\\\Output_Data\\\\NOAA\\\\LCD_files\\\\GSO_13723.csv',\n",
       " 'C:\\\\Users\\\\turge\\\\CompartidoVM\\\\0.TFM\\\\Output_Data\\\\NOAA\\\\LCD_files\\\\GSP_3870.csv',\n",
       " 'C:\\\\Users\\\\turge\\\\CompartidoVM\\\\0.TFM\\\\Output_Data\\\\NOAA\\\\LCD_files\\\\GST_25322.csv',\n",
       " 'C:\\\\Users\\\\turge\\\\CompartidoVM\\\\0.TFM\\\\Output_Data\\\\NOAA\\\\LCD_files\\\\GTF_24143.csv',\n",
       " 'C:\\\\Users\\\\turge\\\\CompartidoVM\\\\0.TFM\\\\Output_Data\\\\NOAA\\\\LCD_files\\\\GTR_53893.csv',\n",
       " 'C:\\\\Users\\\\turge\\\\CompartidoVM\\\\0.TFM\\\\Output_Data\\\\NOAA\\\\LCD_files\\\\GUC_93007.csv',\n",
       " 'C:\\\\Users\\\\turge\\\\CompartidoVM\\\\0.TFM\\\\Output_Data\\\\NOAA\\\\LCD_files\\\\GUM_41415.csv',\n",
       " 'C:\\\\Users\\\\turge\\\\CompartidoVM\\\\0.TFM\\\\Output_Data\\\\NOAA\\\\LCD_files\\\\HDN_94025.csv',\n",
       " 'C:\\\\Users\\\\turge\\\\CompartidoVM\\\\0.TFM\\\\Output_Data\\\\NOAA\\\\LCD_files\\\\HGR_93706.csv',\n",
       " 'C:\\\\Users\\\\turge\\\\CompartidoVM\\\\0.TFM\\\\Output_Data\\\\NOAA\\\\LCD_files\\\\HIB_94931.csv',\n",
       " 'C:\\\\Users\\\\turge\\\\CompartidoVM\\\\0.TFM\\\\Output_Data\\\\NOAA\\\\LCD_files\\\\HLN_24144.csv',\n",
       " 'C:\\\\Users\\\\turge\\\\CompartidoVM\\\\0.TFM\\\\Output_Data\\\\NOAA\\\\LCD_files\\\\HNL_22521.csv',\n",
       " 'C:\\\\Users\\\\turge\\\\CompartidoVM\\\\0.TFM\\\\Output_Data\\\\NOAA\\\\LCD_files\\\\HOB_93034.csv',\n",
       " 'C:\\\\Users\\\\turge\\\\CompartidoVM\\\\0.TFM\\\\Output_Data\\\\NOAA\\\\LCD_files\\\\HOU_12918.csv',\n",
       " 'C:\\\\Users\\\\turge\\\\CompartidoVM\\\\0.TFM\\\\Output_Data\\\\NOAA\\\\LCD_files\\\\HPN_94745.csv',\n",
       " 'C:\\\\Users\\\\turge\\\\CompartidoVM\\\\0.TFM\\\\Output_Data\\\\NOAA\\\\LCD_files\\\\HSV_3856.csv',\n",
       " 'C:\\\\Users\\\\turge\\\\CompartidoVM\\\\0.TFM\\\\Output_Data\\\\NOAA\\\\LCD_files\\\\HTS_3860.csv',\n",
       " 'C:\\\\Users\\\\turge\\\\CompartidoVM\\\\0.TFM\\\\Output_Data\\\\NOAA\\\\LCD_files\\\\HVN_14758.csv',\n",
       " 'C:\\\\Users\\\\turge\\\\CompartidoVM\\\\0.TFM\\\\Output_Data\\\\NOAA\\\\LCD_files\\\\HYA_94720.csv',\n",
       " 'C:\\\\Users\\\\turge\\\\CompartidoVM\\\\0.TFM\\\\Output_Data\\\\NOAA\\\\LCD_files\\\\HYS_3968.csv',\n",
       " 'C:\\\\Users\\\\turge\\\\CompartidoVM\\\\0.TFM\\\\Output_Data\\\\NOAA\\\\LCD_files\\\\IAD_93738.csv',\n",
       " 'C:\\\\Users\\\\turge\\\\CompartidoVM\\\\0.TFM\\\\Output_Data\\\\NOAA\\\\LCD_files\\\\IAH_12960.csv',\n",
       " 'C:\\\\Users\\\\turge\\\\CompartidoVM\\\\0.TFM\\\\Output_Data\\\\NOAA\\\\LCD_files\\\\ICT_3928.csv',\n",
       " 'C:\\\\Users\\\\turge\\\\CompartidoVM\\\\0.TFM\\\\Output_Data\\\\NOAA\\\\LCD_files\\\\IDA_24145.csv',\n",
       " 'C:\\\\Users\\\\turge\\\\CompartidoVM\\\\0.TFM\\\\Output_Data\\\\NOAA\\\\LCD_files\\\\ILM_13748.csv',\n",
       " 'C:\\\\Users\\\\turge\\\\CompartidoVM\\\\0.TFM\\\\Output_Data\\\\NOAA\\\\LCD_files\\\\IMT_94893.csv',\n",
       " 'C:\\\\Users\\\\turge\\\\CompartidoVM\\\\0.TFM\\\\Output_Data\\\\NOAA\\\\LCD_files\\\\IND_93819.csv',\n",
       " 'C:\\\\Users\\\\turge\\\\CompartidoVM\\\\0.TFM\\\\Output_Data\\\\NOAA\\\\LCD_files\\\\INL_14918.csv',\n",
       " 'C:\\\\Users\\\\turge\\\\CompartidoVM\\\\0.TFM\\\\Output_Data\\\\NOAA\\\\LCD_files\\\\ISN_94014.csv',\n",
       " 'C:\\\\Users\\\\turge\\\\CompartidoVM\\\\0.TFM\\\\Output_Data\\\\NOAA\\\\LCD_files\\\\ISP_4781.csv',\n",
       " 'C:\\\\Users\\\\turge\\\\CompartidoVM\\\\0.TFM\\\\Output_Data\\\\NOAA\\\\LCD_files\\\\ITH_94761.csv',\n",
       " 'C:\\\\Users\\\\turge\\\\CompartidoVM\\\\0.TFM\\\\Output_Data\\\\NOAA\\\\LCD_files\\\\ITO_21504.csv',\n",
       " 'C:\\\\Users\\\\turge\\\\CompartidoVM\\\\0.TFM\\\\Output_Data\\\\NOAA\\\\LCD_files\\\\JAC_24166.csv',\n",
       " 'C:\\\\Users\\\\turge\\\\CompartidoVM\\\\0.TFM\\\\Output_Data\\\\NOAA\\\\LCD_files\\\\JAN_3940.csv',\n",
       " 'C:\\\\Users\\\\turge\\\\CompartidoVM\\\\0.TFM\\\\Output_Data\\\\NOAA\\\\LCD_files\\\\JAX_13889.csv',\n",
       " 'C:\\\\Users\\\\turge\\\\CompartidoVM\\\\0.TFM\\\\Output_Data\\\\NOAA\\\\LCD_files\\\\JFK_94789.csv',\n",
       " 'C:\\\\Users\\\\turge\\\\CompartidoVM\\\\0.TFM\\\\Output_Data\\\\NOAA\\\\LCD_files\\\\JLN_13987.csv',\n",
       " 'C:\\\\Users\\\\turge\\\\CompartidoVM\\\\0.TFM\\\\Output_Data\\\\NOAA\\\\LCD_files\\\\JMS_14919.csv',\n",
       " 'C:\\\\Users\\\\turge\\\\CompartidoVM\\\\0.TFM\\\\Output_Data\\\\NOAA\\\\LCD_files\\\\JNU_25309.csv',\n",
       " 'C:\\\\Users\\\\turge\\\\CompartidoVM\\\\0.TFM\\\\Output_Data\\\\NOAA\\\\LCD_files\\\\KOA_21510.csv',\n",
       " 'C:\\\\Users\\\\turge\\\\CompartidoVM\\\\0.TFM\\\\Output_Data\\\\NOAA\\\\LCD_files\\\\KTN_25325.csv',\n",
       " 'C:\\\\Users\\\\turge\\\\CompartidoVM\\\\0.TFM\\\\Output_Data\\\\NOAA\\\\LCD_files\\\\LAN_14836.csv',\n",
       " 'C:\\\\Users\\\\turge\\\\CompartidoVM\\\\0.TFM\\\\Output_Data\\\\NOAA\\\\LCD_files\\\\LAR_24022.csv',\n",
       " 'C:\\\\Users\\\\turge\\\\CompartidoVM\\\\0.TFM\\\\Output_Data\\\\NOAA\\\\LCD_files\\\\LAS_23169.csv',\n",
       " 'C:\\\\Users\\\\turge\\\\CompartidoVM\\\\0.TFM\\\\Output_Data\\\\NOAA\\\\LCD_files\\\\LAW_3950.csv',\n",
       " 'C:\\\\Users\\\\turge\\\\CompartidoVM\\\\0.TFM\\\\Output_Data\\\\NOAA\\\\LCD_files\\\\LAX_23174.csv',\n",
       " 'C:\\\\Users\\\\turge\\\\CompartidoVM\\\\0.TFM\\\\Output_Data\\\\NOAA\\\\LCD_files\\\\LBB_23042.csv',\n",
       " 'C:\\\\Users\\\\turge\\\\CompartidoVM\\\\0.TFM\\\\Output_Data\\\\NOAA\\\\LCD_files\\\\LBE_54735.csv',\n",
       " 'C:\\\\Users\\\\turge\\\\CompartidoVM\\\\0.TFM\\\\Output_Data\\\\NOAA\\\\LCD_files\\\\LBF_24023.csv',\n",
       " 'C:\\\\Users\\\\turge\\\\CompartidoVM\\\\0.TFM\\\\Output_Data\\\\NOAA\\\\LCD_files\\\\LBL_23020.csv',\n",
       " 'C:\\\\Users\\\\turge\\\\CompartidoVM\\\\0.TFM\\\\Output_Data\\\\NOAA\\\\LCD_files\\\\LCH_3937.csv',\n",
       " 'C:\\\\Users\\\\turge\\\\CompartidoVM\\\\0.TFM\\\\Output_Data\\\\NOAA\\\\LCD_files\\\\LCK_13812.csv',\n",
       " 'C:\\\\Users\\\\turge\\\\CompartidoVM\\\\0.TFM\\\\Output_Data\\\\NOAA\\\\LCD_files\\\\LEX_93820.csv',\n",
       " 'C:\\\\Users\\\\turge\\\\CompartidoVM\\\\0.TFM\\\\Output_Data\\\\NOAA\\\\LCD_files\\\\LFT_13976.csv',\n",
       " 'C:\\\\Users\\\\turge\\\\CompartidoVM\\\\0.TFM\\\\Output_Data\\\\NOAA\\\\LCD_files\\\\LGA_14732.csv',\n",
       " 'C:\\\\Users\\\\turge\\\\CompartidoVM\\\\0.TFM\\\\Output_Data\\\\NOAA\\\\LCD_files\\\\LGB_23129.csv',\n",
       " 'C:\\\\Users\\\\turge\\\\CompartidoVM\\\\0.TFM\\\\Output_Data\\\\NOAA\\\\LCD_files\\\\LIH_22536.csv',\n",
       " 'C:\\\\Users\\\\turge\\\\CompartidoVM\\\\0.TFM\\\\Output_Data\\\\NOAA\\\\LCD_files\\\\LIT_13963.csv',\n",
       " 'C:\\\\Users\\\\turge\\\\CompartidoVM\\\\0.TFM\\\\Output_Data\\\\NOAA\\\\LCD_files\\\\LNK_14939.csv',\n",
       " 'C:\\\\Users\\\\turge\\\\CompartidoVM\\\\0.TFM\\\\Output_Data\\\\NOAA\\\\LCD_files\\\\LRD_12907.csv',\n",
       " 'C:\\\\Users\\\\turge\\\\CompartidoVM\\\\0.TFM\\\\Output_Data\\\\NOAA\\\\LCD_files\\\\LSE_14920.csv',\n",
       " 'C:\\\\Users\\\\turge\\\\CompartidoVM\\\\0.TFM\\\\Output_Data\\\\NOAA\\\\LCD_files\\\\LWB_53801.csv',\n",
       " 'C:\\\\Users\\\\turge\\\\CompartidoVM\\\\0.TFM\\\\Output_Data\\\\NOAA\\\\LCD_files\\\\LWS_24149.csv',\n",
       " 'C:\\\\Users\\\\turge\\\\CompartidoVM\\\\0.TFM\\\\Output_Data\\\\NOAA\\\\LCD_files\\\\LYH_13733.csv',\n",
       " 'C:\\\\Users\\\\turge\\\\CompartidoVM\\\\0.TFM\\\\Output_Data\\\\NOAA\\\\LCD_files\\\\MAF_23023.csv',\n",
       " 'C:\\\\Users\\\\turge\\\\CompartidoVM\\\\0.TFM\\\\Output_Data\\\\NOAA\\\\LCD_files\\\\MBS_14845.csv',\n",
       " 'C:\\\\Users\\\\turge\\\\CompartidoVM\\\\0.TFM\\\\Output_Data\\\\NOAA\\\\LCD_files\\\\MCI_3947.csv',\n",
       " 'C:\\\\Users\\\\turge\\\\CompartidoVM\\\\0.TFM\\\\Output_Data\\\\NOAA\\\\LCD_files\\\\MCO_12815.csv',\n",
       " 'C:\\\\Users\\\\turge\\\\CompartidoVM\\\\0.TFM\\\\Output_Data\\\\NOAA\\\\LCD_files\\\\MDT_14711.csv',\n",
       " 'C:\\\\Users\\\\turge\\\\CompartidoVM\\\\0.TFM\\\\Output_Data\\\\NOAA\\\\LCD_files\\\\MDW_14819.csv',\n",
       " 'C:\\\\Users\\\\turge\\\\CompartidoVM\\\\0.TFM\\\\Output_Data\\\\NOAA\\\\LCD_files\\\\MEI_13865.csv',\n",
       " 'C:\\\\Users\\\\turge\\\\CompartidoVM\\\\0.TFM\\\\Output_Data\\\\NOAA\\\\LCD_files\\\\MEM_13893.csv',\n",
       " 'C:\\\\Users\\\\turge\\\\CompartidoVM\\\\0.TFM\\\\Output_Data\\\\NOAA\\\\LCD_files\\\\MFE_12959.csv',\n",
       " 'C:\\\\Users\\\\turge\\\\CompartidoVM\\\\0.TFM\\\\Output_Data\\\\NOAA\\\\LCD_files\\\\MFR_24225.csv',\n",
       " 'C:\\\\Users\\\\turge\\\\CompartidoVM\\\\0.TFM\\\\Output_Data\\\\NOAA\\\\LCD_files\\\\MGM_13895.csv',\n",
       " 'C:\\\\Users\\\\turge\\\\CompartidoVM\\\\0.TFM\\\\Output_Data\\\\NOAA\\\\LCD_files\\\\MHK_3936.csv',\n",
       " 'C:\\\\Users\\\\turge\\\\CompartidoVM\\\\0.TFM\\\\Output_Data\\\\NOAA\\\\LCD_files\\\\MHT_14710.csv',\n",
       " 'C:\\\\Users\\\\turge\\\\CompartidoVM\\\\0.TFM\\\\Output_Data\\\\NOAA\\\\LCD_files\\\\MIA_12839.csv',\n",
       " 'C:\\\\Users\\\\turge\\\\CompartidoVM\\\\0.TFM\\\\Output_Data\\\\NOAA\\\\LCD_files\\\\MKE_14839.csv',\n",
       " 'C:\\\\Users\\\\turge\\\\CompartidoVM\\\\0.TFM\\\\Output_Data\\\\NOAA\\\\LCD_files\\\\MKG_14840.csv',\n",
       " 'C:\\\\Users\\\\turge\\\\CompartidoVM\\\\0.TFM\\\\Output_Data\\\\NOAA\\\\LCD_files\\\\MLB_12838.csv',\n",
       " 'C:\\\\Users\\\\turge\\\\CompartidoVM\\\\0.TFM\\\\Output_Data\\\\NOAA\\\\LCD_files\\\\MLI_14923.csv',\n",
       " 'C:\\\\Users\\\\turge\\\\CompartidoVM\\\\0.TFM\\\\Output_Data\\\\NOAA\\\\LCD_files\\\\MLU_13942.csv',\n",
       " 'C:\\\\Users\\\\turge\\\\CompartidoVM\\\\0.TFM\\\\Output_Data\\\\NOAA\\\\LCD_files\\\\MMH_3181.csv',\n",
       " 'C:\\\\Users\\\\turge\\\\CompartidoVM\\\\0.TFM\\\\Output_Data\\\\NOAA\\\\LCD_files\\\\MOB_13894.csv',\n",
       " 'C:\\\\Users\\\\turge\\\\CompartidoVM\\\\0.TFM\\\\Output_Data\\\\NOAA\\\\LCD_files\\\\MOT_24013.csv',\n",
       " 'C:\\\\Users\\\\turge\\\\CompartidoVM\\\\0.TFM\\\\Output_Data\\\\NOAA\\\\LCD_files\\\\MQT_94850.csv',\n",
       " 'C:\\\\Users\\\\turge\\\\CompartidoVM\\\\0.TFM\\\\Output_Data\\\\NOAA\\\\LCD_files\\\\MRY_23259.csv',\n",
       " 'C:\\\\Users\\\\turge\\\\CompartidoVM\\\\0.TFM\\\\Output_Data\\\\NOAA\\\\LCD_files\\\\MSN_14837.csv',\n",
       " 'C:\\\\Users\\\\turge\\\\CompartidoVM\\\\0.TFM\\\\Output_Data\\\\NOAA\\\\LCD_files\\\\MSO_24153.csv',\n",
       " 'C:\\\\Users\\\\turge\\\\CompartidoVM\\\\0.TFM\\\\Output_Data\\\\NOAA\\\\LCD_files\\\\MSP_14922.csv',\n",
       " 'C:\\\\Users\\\\turge\\\\CompartidoVM\\\\0.TFM\\\\Output_Data\\\\NOAA\\\\LCD_files\\\\MSY_12916.csv',\n",
       " 'C:\\\\Users\\\\turge\\\\CompartidoVM\\\\0.TFM\\\\Output_Data\\\\NOAA\\\\LCD_files\\\\MTJ_93013.csv',\n",
       " 'C:\\\\Users\\\\turge\\\\CompartidoVM\\\\0.TFM\\\\Output_Data\\\\NOAA\\\\LCD_files\\\\MVY_94724.csv',\n",
       " 'C:\\\\Users\\\\turge\\\\CompartidoVM\\\\0.TFM\\\\Output_Data\\\\NOAA\\\\LCD_files\\\\MYR_13717.csv',\n",
       " 'C:\\\\Users\\\\turge\\\\CompartidoVM\\\\0.TFM\\\\Output_Data\\\\NOAA\\\\LCD_files\\\\OAJ_93753.csv',\n",
       " 'C:\\\\Users\\\\turge\\\\CompartidoVM\\\\0.TFM\\\\Output_Data\\\\NOAA\\\\LCD_files\\\\OAK_23230.csv',\n",
       " 'C:\\\\Users\\\\turge\\\\CompartidoVM\\\\0.TFM\\\\Output_Data\\\\NOAA\\\\LCD_files\\\\OGD_24126.csv',\n",
       " 'C:\\\\Users\\\\turge\\\\CompartidoVM\\\\0.TFM\\\\Output_Data\\\\NOAA\\\\LCD_files\\\\OGG_22516.csv',\n",
       " 'C:\\\\Users\\\\turge\\\\CompartidoVM\\\\0.TFM\\\\Output_Data\\\\NOAA\\\\LCD_files\\\\OKC_13967.csv',\n",
       " 'C:\\\\Users\\\\turge\\\\CompartidoVM\\\\0.TFM\\\\Output_Data\\\\NOAA\\\\LCD_files\\\\OMA_14942.csv',\n",
       " 'C:\\\\Users\\\\turge\\\\CompartidoVM\\\\0.TFM\\\\Output_Data\\\\NOAA\\\\LCD_files\\\\OME_26617.csv',\n",
       " 'C:\\\\Users\\\\turge\\\\CompartidoVM\\\\0.TFM\\\\Output_Data\\\\NOAA\\\\LCD_files\\\\ONT_3102.csv',\n",
       " 'C:\\\\Users\\\\turge\\\\CompartidoVM\\\\0.TFM\\\\Output_Data\\\\NOAA\\\\LCD_files\\\\ORD_94846.csv',\n",
       " 'C:\\\\Users\\\\turge\\\\CompartidoVM\\\\0.TFM\\\\Output_Data\\\\NOAA\\\\LCD_files\\\\ORF_13737.csv',\n",
       " 'C:\\\\Users\\\\turge\\\\CompartidoVM\\\\0.TFM\\\\Output_Data\\\\NOAA\\\\LCD_files\\\\ORH_94746.csv',\n",
       " 'C:\\\\Users\\\\turge\\\\CompartidoVM\\\\0.TFM\\\\Output_Data\\\\NOAA\\\\LCD_files\\\\OTH_24284.csv',\n",
       " 'C:\\\\Users\\\\turge\\\\CompartidoVM\\\\0.TFM\\\\Output_Data\\\\NOAA\\\\LCD_files\\\\OTZ_26616.csv',\n",
       " 'C:\\\\Users\\\\turge\\\\CompartidoVM\\\\0.TFM\\\\Output_Data\\\\NOAA\\\\LCD_files\\\\OWB_53803.csv',\n",
       " 'C:\\\\Users\\\\turge\\\\CompartidoVM\\\\0.TFM\\\\Output_Data\\\\NOAA\\\\LCD_files\\\\PAE_24222.csv',\n",
       " 'C:\\\\Users\\\\turge\\\\CompartidoVM\\\\0.TFM\\\\Output_Data\\\\NOAA\\\\LCD_files\\\\PBG_64776.csv',\n",
       " 'C:\\\\Users\\\\turge\\\\CompartidoVM\\\\0.TFM\\\\Output_Data\\\\NOAA\\\\LCD_files\\\\PBI_12844.csv',\n",
       " 'C:\\\\Users\\\\turge\\\\CompartidoVM\\\\0.TFM\\\\Output_Data\\\\NOAA\\\\LCD_files\\\\PDX_24229.csv',\n",
       " 'C:\\\\Users\\\\turge\\\\CompartidoVM\\\\0.TFM\\\\Output_Data\\\\NOAA\\\\LCD_files\\\\PGD_12812.csv',\n",
       " 'C:\\\\Users\\\\turge\\\\CompartidoVM\\\\0.TFM\\\\Output_Data\\\\NOAA\\\\LCD_files\\\\PGV_13783.csv',\n",
       " 'C:\\\\Users\\\\turge\\\\CompartidoVM\\\\0.TFM\\\\Output_Data\\\\NOAA\\\\LCD_files\\\\PHF_93741.csv',\n",
       " 'C:\\\\Users\\\\turge\\\\CompartidoVM\\\\0.TFM\\\\Output_Data\\\\NOAA\\\\LCD_files\\\\PHL_13739.csv',\n",
       " 'C:\\\\Users\\\\turge\\\\CompartidoVM\\\\0.TFM\\\\Output_Data\\\\NOAA\\\\LCD_files\\\\PHX_23183.csv',\n",
       " 'C:\\\\Users\\\\turge\\\\CompartidoVM\\\\0.TFM\\\\Output_Data\\\\NOAA\\\\LCD_files\\\\PIA_14842.csv',\n",
       " 'C:\\\\Users\\\\turge\\\\CompartidoVM\\\\0.TFM\\\\Output_Data\\\\NOAA\\\\LCD_files\\\\PIB_53808.csv',\n",
       " 'C:\\\\Users\\\\turge\\\\CompartidoVM\\\\0.TFM\\\\Output_Data\\\\NOAA\\\\LCD_files\\\\PIE_12873.csv',\n",
       " 'C:\\\\Users\\\\turge\\\\CompartidoVM\\\\0.TFM\\\\Output_Data\\\\NOAA\\\\LCD_files\\\\PIH_24156.csv',\n",
       " 'C:\\\\Users\\\\turge\\\\CompartidoVM\\\\0.TFM\\\\Output_Data\\\\NOAA\\\\LCD_files\\\\PIR_24025.csv',\n",
       " 'C:\\\\Users\\\\turge\\\\CompartidoVM\\\\0.TFM\\\\Output_Data\\\\NOAA\\\\LCD_files\\\\PIT_94823.csv',\n",
       " 'C:\\\\Users\\\\turge\\\\CompartidoVM\\\\0.TFM\\\\Output_Data\\\\NOAA\\\\LCD_files\\\\PLN_14841.csv',\n",
       " 'C:\\\\Users\\\\turge\\\\CompartidoVM\\\\0.TFM\\\\Output_Data\\\\NOAA\\\\LCD_files\\\\PNS_13899.csv',\n",
       " 'C:\\\\Users\\\\turge\\\\CompartidoVM\\\\0.TFM\\\\Output_Data\\\\NOAA\\\\LCD_files\\\\PPG_61705.csv',\n",
       " 'C:\\\\Users\\\\turge\\\\CompartidoVM\\\\0.TFM\\\\Output_Data\\\\NOAA\\\\LCD_files\\\\PRC_23184.csv',\n",
       " 'C:\\\\Users\\\\turge\\\\CompartidoVM\\\\0.TFM\\\\Output_Data\\\\NOAA\\\\LCD_files\\\\PSC_24163.csv',\n",
       " 'C:\\\\Users\\\\turge\\\\CompartidoVM\\\\0.TFM\\\\Output_Data\\\\NOAA\\\\LCD_files\\\\PSG_25329.csv',\n",
       " 'C:\\\\Users\\\\turge\\\\CompartidoVM\\\\0.TFM\\\\Output_Data\\\\NOAA\\\\LCD_files\\\\PSM_4743.csv',\n",
       " 'C:\\\\Users\\\\turge\\\\CompartidoVM\\\\0.TFM\\\\Output_Data\\\\NOAA\\\\LCD_files\\\\PSP_93138.csv',\n",
       " 'C:\\\\Users\\\\turge\\\\CompartidoVM\\\\0.TFM\\\\Output_Data\\\\NOAA\\\\LCD_files\\\\PUB_93058.csv',\n",
       " 'C:\\\\Users\\\\turge\\\\CompartidoVM\\\\0.TFM\\\\Output_Data\\\\NOAA\\\\LCD_files\\\\PVD_14765.csv',\n",
       " 'C:\\\\Users\\\\turge\\\\CompartidoVM\\\\0.TFM\\\\Output_Data\\\\NOAA\\\\LCD_files\\\\PVU_24174.csv',\n",
       " 'C:\\\\Users\\\\turge\\\\CompartidoVM\\\\0.TFM\\\\Output_Data\\\\NOAA\\\\LCD_files\\\\PWM_14764.csv',\n",
       " 'C:\\\\Users\\\\turge\\\\CompartidoVM\\\\0.TFM\\\\Output_Data\\\\NOAA\\\\LCD_files\\\\RAP_24090.csv',\n",
       " 'C:\\\\Users\\\\turge\\\\CompartidoVM\\\\0.TFM\\\\Output_Data\\\\NOAA\\\\LCD_files\\\\RDD_24257.csv',\n",
       " 'C:\\\\Users\\\\turge\\\\CompartidoVM\\\\0.TFM\\\\Output_Data\\\\NOAA\\\\LCD_files\\\\RDM_24230.csv',\n",
       " 'C:\\\\Users\\\\turge\\\\CompartidoVM\\\\0.TFM\\\\Output_Data\\\\NOAA\\\\LCD_files\\\\RDU_13722.csv',\n",
       " 'C:\\\\Users\\\\turge\\\\CompartidoVM\\\\0.TFM\\\\Output_Data\\\\NOAA\\\\LCD_files\\\\RFD_94822.csv',\n",
       " 'C:\\\\Users\\\\turge\\\\CompartidoVM\\\\0.TFM\\\\Output_Data\\\\NOAA\\\\LCD_files\\\\RHI_4803.csv',\n",
       " 'C:\\\\Users\\\\turge\\\\CompartidoVM\\\\0.TFM\\\\Output_Data\\\\NOAA\\\\LCD_files\\\\RIC_13740.csv',\n",
       " 'C:\\\\Users\\\\turge\\\\CompartidoVM\\\\0.TFM\\\\Output_Data\\\\NOAA\\\\LCD_files\\\\RKS_24027.csv',\n",
       " 'C:\\\\Users\\\\turge\\\\CompartidoVM\\\\0.TFM\\\\Output_Data\\\\NOAA\\\\LCD_files\\\\RNO_23185.csv',\n",
       " 'C:\\\\Users\\\\turge\\\\CompartidoVM\\\\0.TFM\\\\Output_Data\\\\NOAA\\\\LCD_files\\\\ROA_13741.csv',\n",
       " 'C:\\\\Users\\\\turge\\\\CompartidoVM\\\\0.TFM\\\\Output_Data\\\\NOAA\\\\LCD_files\\\\ROC_14768.csv',\n",
       " 'C:\\\\Users\\\\turge\\\\CompartidoVM\\\\0.TFM\\\\Output_Data\\\\NOAA\\\\LCD_files\\\\ROW_23009.csv',\n",
       " 'C:\\\\Users\\\\turge\\\\CompartidoVM\\\\0.TFM\\\\Output_Data\\\\NOAA\\\\LCD_files\\\\RST_14925.csv',\n",
       " 'C:\\\\Users\\\\turge\\\\CompartidoVM\\\\0.TFM\\\\Output_Data\\\\NOAA\\\\LCD_files\\\\RSW_12894.csv',\n",
       " 'C:\\\\Users\\\\turge\\\\CompartidoVM\\\\0.TFM\\\\Output_Data\\\\NOAA\\\\LCD_files\\\\SAF_23049.csv',\n",
       " 'C:\\\\Users\\\\turge\\\\CompartidoVM\\\\0.TFM\\\\Output_Data\\\\NOAA\\\\LCD_files\\\\SAN_23188.csv',\n",
       " 'C:\\\\Users\\\\turge\\\\CompartidoVM\\\\0.TFM\\\\Output_Data\\\\NOAA\\\\LCD_files\\\\SAT_12921.csv',\n",
       " 'C:\\\\Users\\\\turge\\\\CompartidoVM\\\\0.TFM\\\\Output_Data\\\\NOAA\\\\LCD_files\\\\SAV_3822.csv',\n",
       " 'C:\\\\Users\\\\turge\\\\CompartidoVM\\\\0.TFM\\\\Output_Data\\\\NOAA\\\\LCD_files\\\\SBA_23190.csv',\n",
       " 'C:\\\\Users\\\\turge\\\\CompartidoVM\\\\0.TFM\\\\Output_Data\\\\NOAA\\\\LCD_files\\\\SBN_14848.csv',\n",
       " 'C:\\\\Users\\\\turge\\\\CompartidoVM\\\\0.TFM\\\\Output_Data\\\\NOAA\\\\LCD_files\\\\SBP_93206.csv',\n",
       " 'C:\\\\Users\\\\turge\\\\CompartidoVM\\\\0.TFM\\\\Output_Data\\\\NOAA\\\\LCD_files\\\\SCC_27406.csv',\n",
       " 'C:\\\\Users\\\\turge\\\\CompartidoVM\\\\0.TFM\\\\Output_Data\\\\NOAA\\\\LCD_files\\\\SCK_23237.csv',\n",
       " 'C:\\\\Users\\\\turge\\\\CompartidoVM\\\\0.TFM\\\\Output_Data\\\\NOAA\\\\LCD_files\\\\SDF_93821.csv',\n",
       " 'C:\\\\Users\\\\turge\\\\CompartidoVM\\\\0.TFM\\\\Output_Data\\\\NOAA\\\\LCD_files\\\\SEA_24233.csv',\n",
       " 'C:\\\\Users\\\\turge\\\\CompartidoVM\\\\0.TFM\\\\Output_Data\\\\NOAA\\\\LCD_files\\\\SFB_12854.csv',\n",
       " 'C:\\\\Users\\\\turge\\\\CompartidoVM\\\\0.TFM\\\\Output_Data\\\\NOAA\\\\LCD_files\\\\SFO_23234.csv',\n",
       " 'C:\\\\Users\\\\turge\\\\CompartidoVM\\\\0.TFM\\\\Output_Data\\\\NOAA\\\\LCD_files\\\\SGF_13995.csv',\n",
       " 'C:\\\\Users\\\\turge\\\\CompartidoVM\\\\0.TFM\\\\Output_Data\\\\NOAA\\\\LCD_files\\\\SGU_23186.csv',\n",
       " 'C:\\\\Users\\\\turge\\\\CompartidoVM\\\\0.TFM\\\\Output_Data\\\\NOAA\\\\LCD_files\\\\SHD_93760.csv',\n",
       " 'C:\\\\Users\\\\turge\\\\CompartidoVM\\\\0.TFM\\\\Output_Data\\\\NOAA\\\\LCD_files\\\\SHV_13957.csv',\n",
       " 'C:\\\\Users\\\\turge\\\\CompartidoVM\\\\0.TFM\\\\Output_Data\\\\NOAA\\\\LCD_files\\\\SIT_25333.csv',\n",
       " 'C:\\\\Users\\\\turge\\\\CompartidoVM\\\\0.TFM\\\\Output_Data\\\\NOAA\\\\LCD_files\\\\SJC_23293.csv',\n",
       " 'C:\\\\Users\\\\turge\\\\CompartidoVM\\\\0.TFM\\\\Output_Data\\\\NOAA\\\\LCD_files\\\\SJT_23034.csv',\n",
       " 'C:\\\\Users\\\\turge\\\\CompartidoVM\\\\0.TFM\\\\Output_Data\\\\NOAA\\\\LCD_files\\\\SJU_11641.csv',\n",
       " 'C:\\\\Users\\\\turge\\\\CompartidoVM\\\\0.TFM\\\\Output_Data\\\\NOAA\\\\LCD_files\\\\SLC_24127.csv',\n",
       " 'C:\\\\Users\\\\turge\\\\CompartidoVM\\\\0.TFM\\\\Output_Data\\\\NOAA\\\\LCD_files\\\\SMF_93225.csv',\n",
       " 'C:\\\\Users\\\\turge\\\\CompartidoVM\\\\0.TFM\\\\Output_Data\\\\NOAA\\\\LCD_files\\\\SMX_23273.csv',\n",
       " 'C:\\\\Users\\\\turge\\\\CompartidoVM\\\\0.TFM\\\\Output_Data\\\\NOAA\\\\LCD_files\\\\SNA_93184.csv',\n",
       " 'C:\\\\Users\\\\turge\\\\CompartidoVM\\\\0.TFM\\\\Output_Data\\\\NOAA\\\\LCD_files\\\\SPI_93822.csv',\n",
       " 'C:\\\\Users\\\\turge\\\\CompartidoVM\\\\0.TFM\\\\Output_Data\\\\NOAA\\\\LCD_files\\\\SPS_13966.csv',\n",
       " 'C:\\\\Users\\\\turge\\\\CompartidoVM\\\\0.TFM\\\\Output_Data\\\\NOAA\\\\LCD_files\\\\SRQ_12871.csv',\n",
       " 'C:\\\\Users\\\\turge\\\\CompartidoVM\\\\0.TFM\\\\Output_Data\\\\NOAA\\\\LCD_files\\\\STC_14926.csv',\n",
       " 'C:\\\\Users\\\\turge\\\\CompartidoVM\\\\0.TFM\\\\Output_Data\\\\NOAA\\\\LCD_files\\\\STL_13994.csv',\n",
       " 'C:\\\\Users\\\\turge\\\\CompartidoVM\\\\0.TFM\\\\Output_Data\\\\NOAA\\\\LCD_files\\\\STT_11640.csv',\n",
       " 'C:\\\\Users\\\\turge\\\\CompartidoVM\\\\0.TFM\\\\Output_Data\\\\NOAA\\\\LCD_files\\\\STX_11624.csv',\n",
       " 'C:\\\\Users\\\\turge\\\\CompartidoVM\\\\0.TFM\\\\Output_Data\\\\NOAA\\\\LCD_files\\\\SUN_94161.csv',\n",
       " 'C:\\\\Users\\\\turge\\\\CompartidoVM\\\\0.TFM\\\\Output_Data\\\\NOAA\\\\LCD_files\\\\SUX_14943.csv',\n",
       " 'C:\\\\Users\\\\turge\\\\CompartidoVM\\\\0.TFM\\\\Output_Data\\\\NOAA\\\\LCD_files\\\\SWF_14714.csv',\n",
       " 'C:\\\\Users\\\\turge\\\\CompartidoVM\\\\0.TFM\\\\Output_Data\\\\NOAA\\\\LCD_files\\\\SWO_3965.csv',\n",
       " 'C:\\\\Users\\\\turge\\\\CompartidoVM\\\\0.TFM\\\\Output_Data\\\\NOAA\\\\LCD_files\\\\SYR_14771.csv',\n",
       " 'C:\\\\Users\\\\turge\\\\CompartidoVM\\\\0.TFM\\\\Output_Data\\\\NOAA\\\\LCD_files\\\\TLH_93805.csv',\n",
       " 'C:\\\\Users\\\\turge\\\\CompartidoVM\\\\0.TFM\\\\Output_Data\\\\NOAA\\\\LCD_files\\\\TOL_94830.csv',\n",
       " 'C:\\\\Users\\\\turge\\\\CompartidoVM\\\\0.TFM\\\\Output_Data\\\\NOAA\\\\LCD_files\\\\TPA_12842.csv',\n",
       " 'C:\\\\Users\\\\turge\\\\CompartidoVM\\\\0.TFM\\\\Output_Data\\\\NOAA\\\\LCD_files\\\\TRI_13877.csv',\n",
       " 'C:\\\\Users\\\\turge\\\\CompartidoVM\\\\0.TFM\\\\Output_Data\\\\NOAA\\\\LCD_files\\\\TTN_14792.csv',\n",
       " 'C:\\\\Users\\\\turge\\\\CompartidoVM\\\\0.TFM\\\\Output_Data\\\\NOAA\\\\LCD_files\\\\TUL_13968.csv',\n",
       " 'C:\\\\Users\\\\turge\\\\CompartidoVM\\\\0.TFM\\\\Output_Data\\\\NOAA\\\\LCD_files\\\\TUS_23160.csv',\n",
       " 'C:\\\\Users\\\\turge\\\\CompartidoVM\\\\0.TFM\\\\Output_Data\\\\NOAA\\\\LCD_files\\\\TVC_14850.csv',\n",
       " 'C:\\\\Users\\\\turge\\\\CompartidoVM\\\\0.TFM\\\\Output_Data\\\\NOAA\\\\LCD_files\\\\TWF_94178.csv',\n",
       " 'C:\\\\Users\\\\turge\\\\CompartidoVM\\\\0.TFM\\\\Output_Data\\\\NOAA\\\\LCD_files\\\\TXK_13977.csv',\n",
       " 'C:\\\\Users\\\\turge\\\\CompartidoVM\\\\0.TFM\\\\Output_Data\\\\NOAA\\\\LCD_files\\\\TYR_13972.csv',\n",
       " 'C:\\\\Users\\\\turge\\\\CompartidoVM\\\\0.TFM\\\\Output_Data\\\\NOAA\\\\LCD_files\\\\TYS_13891.csv',\n",
       " 'C:\\\\Users\\\\turge\\\\CompartidoVM\\\\0.TFM\\\\Output_Data\\\\NOAA\\\\LCD_files\\\\UIN_93989.csv',\n",
       " 'C:\\\\Users\\\\turge\\\\CompartidoVM\\\\0.TFM\\\\Output_Data\\\\NOAA\\\\LCD_files\\\\VEL_94030.csv',\n",
       " 'C:\\\\Users\\\\turge\\\\CompartidoVM\\\\0.TFM\\\\Output_Data\\\\NOAA\\\\LCD_files\\\\VLD_93845.csv',\n",
       " 'C:\\\\Users\\\\turge\\\\CompartidoVM\\\\0.TFM\\\\Output_Data\\\\NOAA\\\\LCD_files\\\\VPS_13858.csv',\n",
       " 'C:\\\\Users\\\\turge\\\\CompartidoVM\\\\0.TFM\\\\Output_Data\\\\NOAA\\\\LCD_files\\\\WRG_25338.csv',\n",
       " 'C:\\\\Users\\\\turge\\\\CompartidoVM\\\\0.TFM\\\\Output_Data\\\\NOAA\\\\LCD_files\\\\WYS_94163.csv',\n",
       " 'C:\\\\Users\\\\turge\\\\CompartidoVM\\\\0.TFM\\\\Output_Data\\\\NOAA\\\\LCD_files\\\\XNA_53922.csv',\n",
       " 'C:\\\\Users\\\\turge\\\\CompartidoVM\\\\0.TFM\\\\Output_Data\\\\NOAA\\\\LCD_files\\\\YAK_25339.csv']"
      ]
     },
     "execution_count": 17,
     "metadata": {},
     "output_type": "execute_result"
    }
   ],
   "source": [
    "# List the file paths corresponding to each month of year 2019:\n",
    "\n",
    "file_list = []\n",
    "try:\n",
    "    os.listdir(directory_in_str)\n",
    "except FileNotFoundError:\n",
    "    print(\"The system cannot find the specified path:\\n\" + directory_in_str + \"\\nPlease check the path has been properly set.\")\n",
    "else:\n",
    "    for file in os.listdir(directory_in_str):\n",
    "        if file.endswith(\".csv\"):\n",
    "            file_list.append(os.path.join(directory_in_str, file))\n",
    "            continue\n",
    "        else:\n",
    "            continue\n",
    "file_list    "
   ]
  },
  {
   "cell_type": "markdown",
   "metadata": {},
   "source": [
    "### Generate a DataFrame from concatenation"
   ]
  },
  {
   "cell_type": "code",
   "execution_count": 21,
   "metadata": {
    "ExecuteTime": {
     "end_time": "2021-02-17T18:51:57.864178Z",
     "start_time": "2021-02-17T18:45:59.834154Z"
    },
    "scrolled": true
   },
   "outputs": [
    {
     "name": "stdout",
     "output_type": "stream",
     "text": [
      "Number of LCD files concatenated: 342\n",
      "Wall time: 5min 57s\n"
     ]
    },
    {
     "data": {
      "text/html": [
       "<div>\n",
       "<style scoped>\n",
       "    .dataframe tbody tr th:only-of-type {\n",
       "        vertical-align: middle;\n",
       "    }\n",
       "\n",
       "    .dataframe tbody tr th {\n",
       "        vertical-align: top;\n",
       "    }\n",
       "\n",
       "    .dataframe thead th {\n",
       "        text-align: right;\n",
       "    }\n",
       "</style>\n",
       "<table border=\"1\" class=\"dataframe\">\n",
       "  <thead>\n",
       "    <tr style=\"text-align: right;\">\n",
       "      <th></th>\n",
       "      <th>STATION</th>\n",
       "      <th>DATE</th>\n",
       "      <th>HourlyAltimeterSetting</th>\n",
       "      <th>HourlyDryBulbTemperature</th>\n",
       "      <th>HourlyPrecipitation</th>\n",
       "      <th>HourlyRelativeHumidity</th>\n",
       "      <th>HourlySkyConditions</th>\n",
       "      <th>HourlyVisibility</th>\n",
       "      <th>REM</th>\n",
       "    </tr>\n",
       "  </thead>\n",
       "  <tbody>\n",
       "    <tr>\n",
       "      <th>0</th>\n",
       "      <td>72517014737</td>\n",
       "      <td>2019-01-01T00:01:00</td>\n",
       "      <td>29.78</td>\n",
       "      <td>43</td>\n",
       "      <td>T</td>\n",
       "      <td>89</td>\n",
       "      <td>OVC:08 5</td>\n",
       "      <td>3.00</td>\n",
       "      <td>MET11101/01/19 00:01:02 SPECI KABE 010501Z 000...</td>\n",
       "    </tr>\n",
       "    <tr>\n",
       "      <th>1</th>\n",
       "      <td>72517014737</td>\n",
       "      <td>2019-01-01T00:51:00</td>\n",
       "      <td>29.73</td>\n",
       "      <td>43</td>\n",
       "      <td>0.01</td>\n",
       "      <td>89</td>\n",
       "      <td>OVC:08 5</td>\n",
       "      <td>3.00</td>\n",
       "      <td>MET14401/01/19 00:51:02 METAR KABE 010551Z 000...</td>\n",
       "    </tr>\n",
       "    <tr>\n",
       "      <th>2</th>\n",
       "      <td>72517014737</td>\n",
       "      <td>2019-01-01T01:00:00</td>\n",
       "      <td>NaN</td>\n",
       "      <td>43</td>\n",
       "      <td>NaN</td>\n",
       "      <td>89</td>\n",
       "      <td>5</td>\n",
       "      <td>2.98</td>\n",
       "      <td>SYN09272517 17248 80000 10061 20044 39932 4007...</td>\n",
       "    </tr>\n",
       "    <tr>\n",
       "      <th>3</th>\n",
       "      <td>72517014737</td>\n",
       "      <td>2019-01-01T01:10:00</td>\n",
       "      <td>29.70</td>\n",
       "      <td>43</td>\n",
       "      <td>NaN</td>\n",
       "      <td>89</td>\n",
       "      <td>OVC:08 5</td>\n",
       "      <td>2.00</td>\n",
       "      <td>MET10501/01/19 01:10:02 SPECI KABE 010610Z 120...</td>\n",
       "    </tr>\n",
       "    <tr>\n",
       "      <th>...</th>\n",
       "      <td>...</td>\n",
       "      <td>...</td>\n",
       "      <td>...</td>\n",
       "      <td>...</td>\n",
       "      <td>...</td>\n",
       "      <td>...</td>\n",
       "      <td>...</td>\n",
       "      <td>...</td>\n",
       "      <td>...</td>\n",
       "    </tr>\n",
       "    <tr>\n",
       "      <th>18130</th>\n",
       "      <td>70361025339</td>\n",
       "      <td>2019-12-31T22:53:00</td>\n",
       "      <td>29.01</td>\n",
       "      <td>41</td>\n",
       "      <td>0.03</td>\n",
       "      <td>93</td>\n",
       "      <td>OVC:08 13</td>\n",
       "      <td>6.00</td>\n",
       "      <td>MET11012/31/19 22:53:03 METAR PAYA 010753Z 070...</td>\n",
       "    </tr>\n",
       "    <tr>\n",
       "      <th>18131</th>\n",
       "      <td>70361025339</td>\n",
       "      <td>2019-12-31T23:53:00</td>\n",
       "      <td>28.97</td>\n",
       "      <td>41</td>\n",
       "      <td>0.03</td>\n",
       "      <td>96</td>\n",
       "      <td>OVC:08 12</td>\n",
       "      <td>3.00</td>\n",
       "      <td>MET13212/31/19 23:53:03 METAR PAYA 010853Z 080...</td>\n",
       "    </tr>\n",
       "    <tr>\n",
       "      <th>18132</th>\n",
       "      <td>70361025339</td>\n",
       "      <td>2019-12-31T23:59:00</td>\n",
       "      <td>NaN</td>\n",
       "      <td>NaN</td>\n",
       "      <td>NaN</td>\n",
       "      <td>NaN</td>\n",
       "      <td>NaN</td>\n",
       "      <td>NaN</td>\n",
       "      <td>SOD73024 HR PRECIPITATION (IN):0.55  24 HR MAX...</td>\n",
       "    </tr>\n",
       "    <tr>\n",
       "      <th>18133</th>\n",
       "      <td>70361025339</td>\n",
       "      <td>2019-12-31T23:59:00</td>\n",
       "      <td>NaN</td>\n",
       "      <td>NaN</td>\n",
       "      <td>NaN</td>\n",
       "      <td>NaN</td>\n",
       "      <td>NaN</td>\n",
       "      <td>NaN</td>\n",
       "      <td>SOM728PCP MTOT:16.90 PCP GT 24HRS:2.22 DATE(S)...</td>\n",
       "    </tr>\n",
       "  </tbody>\n",
       "</table>\n",
       "<p>4497377 rows × 9 columns</p>\n",
       "</div>"
      ],
      "text/plain": [
       "           STATION                 DATE HourlyAltimeterSetting  \\\n",
       "0      72517014737  2019-01-01T00:01:00                  29.78   \n",
       "1      72517014737  2019-01-01T00:51:00                  29.73   \n",
       "2      72517014737  2019-01-01T01:00:00                    NaN   \n",
       "3      72517014737  2019-01-01T01:10:00                  29.70   \n",
       "...            ...                  ...                    ...   \n",
       "18130  70361025339  2019-12-31T22:53:00                  29.01   \n",
       "18131  70361025339  2019-12-31T23:53:00                  28.97   \n",
       "18132  70361025339  2019-12-31T23:59:00                    NaN   \n",
       "18133  70361025339  2019-12-31T23:59:00                    NaN   \n",
       "\n",
       "      HourlyDryBulbTemperature HourlyPrecipitation HourlyRelativeHumidity  \\\n",
       "0                           43                   T                     89   \n",
       "1                           43                0.01                     89   \n",
       "2                           43                 NaN                     89   \n",
       "3                           43                 NaN                     89   \n",
       "...                        ...                 ...                    ...   \n",
       "18130                       41                0.03                     93   \n",
       "18131                       41                0.03                     96   \n",
       "18132                      NaN                 NaN                    NaN   \n",
       "18133                      NaN                 NaN                    NaN   \n",
       "\n",
       "      HourlySkyConditions HourlyVisibility  \\\n",
       "0                OVC:08 5             3.00   \n",
       "1                OVC:08 5             3.00   \n",
       "2                       5             2.98   \n",
       "3                OVC:08 5             2.00   \n",
       "...                   ...              ...   \n",
       "18130           OVC:08 13             6.00   \n",
       "18131           OVC:08 12             3.00   \n",
       "18132                 NaN              NaN   \n",
       "18133                 NaN              NaN   \n",
       "\n",
       "                                                     REM  \n",
       "0      MET11101/01/19 00:01:02 SPECI KABE 010501Z 000...  \n",
       "1      MET14401/01/19 00:51:02 METAR KABE 010551Z 000...  \n",
       "2      SYN09272517 17248 80000 10061 20044 39932 4007...  \n",
       "3      MET10501/01/19 01:10:02 SPECI KABE 010610Z 120...  \n",
       "...                                                  ...  \n",
       "18130  MET11012/31/19 22:53:03 METAR PAYA 010753Z 070...  \n",
       "18131  MET13212/31/19 23:53:03 METAR PAYA 010853Z 080...  \n",
       "18132  SOD73024 HR PRECIPITATION (IN):0.55  24 HR MAX...  \n",
       "18133  SOM728PCP MTOT:16.90 PCP GT 24HRS:2.22 DATE(S)...  \n",
       "\n",
       "[4497377 rows x 9 columns]"
      ]
     },
     "execution_count": 21,
     "metadata": {},
     "output_type": "execute_result"
    }
   ],
   "source": [
    "%%time\n",
    "\n",
    "# Create a DataFrame from the 12 month-files corresponding to the year 2019\n",
    "\n",
    "LCD = pd.DataFrame()\n",
    "for i, csv_path in enumerate(file_list):\n",
    "    if i == 500: # Fail-safe: in case the list captured more than 500 files (i.e. airports)\n",
    "        break\n",
    "    LCD_month = pd.read_csv(csv_path,\n",
    "                            encoding='latin1',\n",
    "                            nrows=1e8, # Fail-safe: in case the file is inadvertently too big\n",
    "                            usecols=cols,\n",
    "                            low_memory = False) # This will prevent from auto-dtypes\n",
    "    LCD = LCD.append(LCD_month)\n",
    "print(\"Number of LCD files concatenated:\", LCD['STATION'].nunique())\n",
    "LCD"
   ]
  },
  {
   "cell_type": "markdown",
   "metadata": {},
   "source": [
    "### Save such DataFrame into a CSV file *(only once)*:"
   ]
  },
  {
   "cell_type": "code",
   "execution_count": 35,
   "metadata": {
    "ExecuteTime": {
     "end_time": "2021-02-17T19:28:47.096086Z",
     "start_time": "2021-02-17T19:28:47.077098Z"
    }
   },
   "outputs": [
    {
     "name": "stdout",
     "output_type": "stream",
     "text": [
      "File 'LCD_all_preprocessed.csv' already exists.\n",
      "No file has been generated (previous one remains).\n"
     ]
    }
   ],
   "source": [
    "output_csv_dir = os.path.join(root,\n",
    "                              \"Output_Data\",\n",
    "                              \"NOAA\",\n",
    "                              \"LCD_AllStations\")\n",
    "file_name = \"LCD_all_preprocessed.csv\"\n",
    "\n",
    "if file_name not in os.listdir(output_csv_dir):\n",
    "    LCD.to_csv(path_or_buf=output_csv_path,\n",
    "           index=False,\n",
    "           encoding='latin1')\n",
    "else:    \n",
    "    print(\"File '\" + file_name + \"' already exists.\\nNo file has been generated (previous one remains).\")"
   ]
  },
  {
   "cell_type": "markdown",
   "metadata": {},
   "source": [
    "### Explore the data"
   ]
  },
  {
   "cell_type": "code",
   "execution_count": 38,
   "metadata": {
    "ExecuteTime": {
     "end_time": "2021-02-17T19:35:40.535661Z",
     "start_time": "2021-02-17T19:35:40.521671Z"
    }
   },
   "outputs": [],
   "source": [
    "def val_freq(col='', df=LCD):\n",
    "    i = 0\n",
    "    for v in LCD[col].value_counts().sort_index():\n",
    "        print(\"{} : {} records ({:.2f}%)\" \\\n",
    "              .format(LCD[col].value_counts().sort_index().index[i], v,  v / len(LCD) * 100))\n",
    "        i += 1"
   ]
  },
  {
   "cell_type": "code",
   "execution_count": 39,
   "metadata": {
    "ExecuteTime": {
     "end_time": "2021-02-17T19:35:53.748797Z",
     "start_time": "2021-02-17T19:35:41.232680Z"
    },
    "scrolled": true
   },
   "outputs": [
    {
     "name": "stdout",
     "output_type": "stream",
     "text": [
      "STATION : 342 unique values\n",
      "\n",
      "DATE : 432530 unique values\n",
      "\n",
      "HourlyAltimeterSetting : 675 unique values\n",
      "\n",
      "HourlyDryBulbTemperature : 438 unique values\n",
      "\n",
      "HourlyPrecipitation : 515 unique values\n",
      "\n",
      "HourlyRelativeHumidity : 196 unique values\n",
      "\n",
      "HourlySkyConditions : 235226 unique values\n",
      "\n",
      "HourlyVisibility : 140 unique values\n",
      "\n",
      "REM : 4481060 unique values\n",
      "\n"
     ]
    }
   ],
   "source": [
    "for col in LCD.columns:\n",
    "    print(col, ':', LCD[col].nunique(), 'unique values')\n",
    "    if LCD[col].nunique() < 50:\n",
    "        val_freq(col)\n",
    "    print(\"\")"
   ]
  },
  {
   "cell_type": "code",
   "execution_count": 40,
   "metadata": {
    "ExecuteTime": {
     "end_time": "2021-02-17T19:36:30.934781Z",
     "start_time": "2021-02-17T19:36:27.577184Z"
    }
   },
   "outputs": [
    {
     "data": {
      "text/html": [
       "<div>\n",
       "<style scoped>\n",
       "    .dataframe tbody tr th:only-of-type {\n",
       "        vertical-align: middle;\n",
       "    }\n",
       "\n",
       "    .dataframe tbody tr th {\n",
       "        vertical-align: top;\n",
       "    }\n",
       "\n",
       "    .dataframe thead th {\n",
       "        text-align: right;\n",
       "    }\n",
       "</style>\n",
       "<table border=\"1\" class=\"dataframe\">\n",
       "  <thead>\n",
       "    <tr style=\"text-align: right;\">\n",
       "      <th></th>\n",
       "      <th>Absolute</th>\n",
       "      <th>Relative</th>\n",
       "    </tr>\n",
       "  </thead>\n",
       "  <tbody>\n",
       "    <tr>\n",
       "      <th>HourlyPrecipitation</th>\n",
       "      <td>1473764.0</td>\n",
       "      <td>32.769412</td>\n",
       "    </tr>\n",
       "    <tr>\n",
       "      <th>HourlyAltimeterSetting</th>\n",
       "      <td>462309.0</td>\n",
       "      <td>10.279525</td>\n",
       "    </tr>\n",
       "    <tr>\n",
       "      <th>HourlySkyConditions</th>\n",
       "      <td>417211.0</td>\n",
       "      <td>9.276763</td>\n",
       "    </tr>\n",
       "    <tr>\n",
       "      <th>HourlyRelativeHumidity</th>\n",
       "      <td>150503.0</td>\n",
       "      <td>3.346462</td>\n",
       "    </tr>\n",
       "    <tr>\n",
       "      <th>HourlyDryBulbTemperature</th>\n",
       "      <td>143158.0</td>\n",
       "      <td>3.183144</td>\n",
       "    </tr>\n",
       "    <tr>\n",
       "      <th>HourlyVisibility</th>\n",
       "      <td>141712.0</td>\n",
       "      <td>3.150992</td>\n",
       "    </tr>\n",
       "    <tr>\n",
       "      <th>REM</th>\n",
       "      <td>16301.0</td>\n",
       "      <td>0.362456</td>\n",
       "    </tr>\n",
       "    <tr>\n",
       "      <th>STATION</th>\n",
       "      <td>0.0</td>\n",
       "      <td>0.000000</td>\n",
       "    </tr>\n",
       "    <tr>\n",
       "      <th>DATE</th>\n",
       "      <td>0.0</td>\n",
       "      <td>0.000000</td>\n",
       "    </tr>\n",
       "  </tbody>\n",
       "</table>\n",
       "</div>"
      ],
      "text/plain": [
       "                           Absolute   Relative\n",
       "HourlyPrecipitation       1473764.0  32.769412\n",
       "HourlyAltimeterSetting     462309.0  10.279525\n",
       "HourlySkyConditions        417211.0   9.276763\n",
       "HourlyRelativeHumidity     150503.0   3.346462\n",
       "HourlyDryBulbTemperature   143158.0   3.183144\n",
       "HourlyVisibility           141712.0   3.150992\n",
       "REM                         16301.0   0.362456\n",
       "STATION                         0.0   0.000000\n",
       "DATE                            0.0   0.000000"
      ]
     },
     "execution_count": 40,
     "metadata": {},
     "output_type": "execute_result"
    }
   ],
   "source": [
    "# Absolute & Relative frequency of missing values by column:\n",
    "pd.set_option('display.max_rows', LCD.shape[1])\n",
    "missing = pd.DataFrame([LCD.isna().sum(), LCD.isna().sum() / len(LCD) * 100], index=['Absolute', 'Relative']).T.sort_values(by='Relative', ascending=False)\n",
    "missing"
   ]
  },
  {
   "cell_type": "code",
   "execution_count": 41,
   "metadata": {
    "ExecuteTime": {
     "end_time": "2021-02-17T19:40:34.124027Z",
     "start_time": "2021-02-17T19:40:31.270413Z"
    }
   },
   "outputs": [
    {
     "data": {
      "text/html": [
       "<div>\n",
       "<style scoped>\n",
       "    .dataframe tbody tr th:only-of-type {\n",
       "        vertical-align: middle;\n",
       "    }\n",
       "\n",
       "    .dataframe tbody tr th {\n",
       "        vertical-align: top;\n",
       "    }\n",
       "\n",
       "    .dataframe thead th {\n",
       "        text-align: right;\n",
       "    }\n",
       "</style>\n",
       "<table border=\"1\" class=\"dataframe\">\n",
       "  <thead>\n",
       "    <tr style=\"text-align: right;\">\n",
       "      <th></th>\n",
       "      <th>STATION</th>\n",
       "      <th>DATE</th>\n",
       "      <th>HourlyAltimeterSetting</th>\n",
       "      <th>HourlyDryBulbTemperature</th>\n",
       "      <th>HourlyPrecipitation</th>\n",
       "      <th>HourlyRelativeHumidity</th>\n",
       "      <th>HourlySkyConditions</th>\n",
       "      <th>HourlyVisibility</th>\n",
       "      <th>REM</th>\n",
       "    </tr>\n",
       "  </thead>\n",
       "  <tbody>\n",
       "    <tr>\n",
       "      <th>2</th>\n",
       "      <td>72517014737</td>\n",
       "      <td>2019-01-01T01:00:00</td>\n",
       "      <td>NaN</td>\n",
       "      <td>43</td>\n",
       "      <td>NaN</td>\n",
       "      <td>89</td>\n",
       "      <td>5</td>\n",
       "      <td>2.98</td>\n",
       "      <td>SYN09272517 17248 80000 10061 20044 39932 4007...</td>\n",
       "    </tr>\n",
       "    <tr>\n",
       "      <th>3</th>\n",
       "      <td>72517014737</td>\n",
       "      <td>2019-01-01T01:10:00</td>\n",
       "      <td>29.70</td>\n",
       "      <td>43</td>\n",
       "      <td>NaN</td>\n",
       "      <td>89</td>\n",
       "      <td>OVC:08 5</td>\n",
       "      <td>2.00</td>\n",
       "      <td>MET10501/01/19 01:10:02 SPECI KABE 010610Z 120...</td>\n",
       "    </tr>\n",
       "    <tr>\n",
       "      <th>4</th>\n",
       "      <td>72517014737</td>\n",
       "      <td>2019-01-01T01:17:00</td>\n",
       "      <td>29.69</td>\n",
       "      <td>43</td>\n",
       "      <td>NaN</td>\n",
       "      <td>89</td>\n",
       "      <td>OVC:08 4</td>\n",
       "      <td>2.00</td>\n",
       "      <td>MET10501/01/19 01:17:02 SPECI KABE 010617Z 110...</td>\n",
       "    </tr>\n",
       "    <tr>\n",
       "      <th>5</th>\n",
       "      <td>72517014737</td>\n",
       "      <td>2019-01-01T01:44:00</td>\n",
       "      <td>29.65</td>\n",
       "      <td>44</td>\n",
       "      <td>NaN</td>\n",
       "      <td>89</td>\n",
       "      <td>OVC:08 3</td>\n",
       "      <td>1.50</td>\n",
       "      <td>MET10901/01/19 01:44:02 SPECI KABE 010644Z 000...</td>\n",
       "    </tr>\n",
       "    <tr>\n",
       "      <th>...</th>\n",
       "      <td>...</td>\n",
       "      <td>...</td>\n",
       "      <td>...</td>\n",
       "      <td>...</td>\n",
       "      <td>...</td>\n",
       "      <td>...</td>\n",
       "      <td>...</td>\n",
       "      <td>...</td>\n",
       "      <td>...</td>\n",
       "    </tr>\n",
       "    <tr>\n",
       "      <th>18111</th>\n",
       "      <td>70361025339</td>\n",
       "      <td>2019-12-31T15:00:00</td>\n",
       "      <td>NaN</td>\n",
       "      <td>44</td>\n",
       "      <td>NaN</td>\n",
       "      <td>96</td>\n",
       "      <td>5</td>\n",
       "      <td>6.84</td>\n",
       "      <td>SYN08670361 15261 81105 10067 20061 39884 4989...</td>\n",
       "    </tr>\n",
       "    <tr>\n",
       "      <th>18126</th>\n",
       "      <td>70361025339</td>\n",
       "      <td>2019-12-31T21:00:00</td>\n",
       "      <td>NaN</td>\n",
       "      <td>42</td>\n",
       "      <td>NaN</td>\n",
       "      <td>92</td>\n",
       "      <td>8</td>\n",
       "      <td>9.94</td>\n",
       "      <td>SYN08670361 15366 80908 10056 20044 39837 4984...</td>\n",
       "    </tr>\n",
       "    <tr>\n",
       "      <th>18132</th>\n",
       "      <td>70361025339</td>\n",
       "      <td>2019-12-31T23:59:00</td>\n",
       "      <td>NaN</td>\n",
       "      <td>NaN</td>\n",
       "      <td>NaN</td>\n",
       "      <td>NaN</td>\n",
       "      <td>NaN</td>\n",
       "      <td>NaN</td>\n",
       "      <td>SOD73024 HR PRECIPITATION (IN):0.55  24 HR MAX...</td>\n",
       "    </tr>\n",
       "    <tr>\n",
       "      <th>18133</th>\n",
       "      <td>70361025339</td>\n",
       "      <td>2019-12-31T23:59:00</td>\n",
       "      <td>NaN</td>\n",
       "      <td>NaN</td>\n",
       "      <td>NaN</td>\n",
       "      <td>NaN</td>\n",
       "      <td>NaN</td>\n",
       "      <td>NaN</td>\n",
       "      <td>SOM728PCP MTOT:16.90 PCP GT 24HRS:2.22 DATE(S)...</td>\n",
       "    </tr>\n",
       "  </tbody>\n",
       "</table>\n",
       "<p>1506996 rows × 9 columns</p>\n",
       "</div>"
      ],
      "text/plain": [
       "           STATION                 DATE HourlyAltimeterSetting  \\\n",
       "2      72517014737  2019-01-01T01:00:00                    NaN   \n",
       "3      72517014737  2019-01-01T01:10:00                  29.70   \n",
       "4      72517014737  2019-01-01T01:17:00                  29.69   \n",
       "5      72517014737  2019-01-01T01:44:00                  29.65   \n",
       "...            ...                  ...                    ...   \n",
       "18111  70361025339  2019-12-31T15:00:00                    NaN   \n",
       "18126  70361025339  2019-12-31T21:00:00                    NaN   \n",
       "18132  70361025339  2019-12-31T23:59:00                    NaN   \n",
       "18133  70361025339  2019-12-31T23:59:00                    NaN   \n",
       "\n",
       "      HourlyDryBulbTemperature HourlyPrecipitation HourlyRelativeHumidity  \\\n",
       "2                           43                 NaN                     89   \n",
       "3                           43                 NaN                     89   \n",
       "4                           43                 NaN                     89   \n",
       "5                           44                 NaN                     89   \n",
       "...                        ...                 ...                    ...   \n",
       "18111                       44                 NaN                     96   \n",
       "18126                       42                 NaN                     92   \n",
       "18132                      NaN                 NaN                    NaN   \n",
       "18133                      NaN                 NaN                    NaN   \n",
       "\n",
       "      HourlySkyConditions HourlyVisibility  \\\n",
       "2                       5             2.98   \n",
       "3                OVC:08 5             2.00   \n",
       "4                OVC:08 4             2.00   \n",
       "5                OVC:08 3             1.50   \n",
       "...                   ...              ...   \n",
       "18111                   5             6.84   \n",
       "18126                   8             9.94   \n",
       "18132                 NaN              NaN   \n",
       "18133                 NaN              NaN   \n",
       "\n",
       "                                                     REM  \n",
       "2      SYN09272517 17248 80000 10061 20044 39932 4007...  \n",
       "3      MET10501/01/19 01:10:02 SPECI KABE 010610Z 120...  \n",
       "4      MET10501/01/19 01:17:02 SPECI KABE 010617Z 110...  \n",
       "5      MET10901/01/19 01:44:02 SPECI KABE 010644Z 000...  \n",
       "...                                                  ...  \n",
       "18111  SYN08670361 15261 81105 10067 20061 39884 4989...  \n",
       "18126  SYN08670361 15366 80908 10056 20044 39837 4984...  \n",
       "18132  SOD73024 HR PRECIPITATION (IN):0.55  24 HR MAX...  \n",
       "18133  SOM728PCP MTOT:16.90 PCP GT 24HRS:2.22 DATE(S)...  \n",
       "\n",
       "[1506996 rows x 9 columns]"
      ]
     },
     "execution_count": 41,
     "metadata": {},
     "output_type": "execute_result"
    }
   ],
   "source": [
    "# Quick approach → check how many rows contain empty values to see if directly dropping them would be feasible:\n",
    "\n",
    "# Check which rows have at least 1 NaN:\n",
    "LCD[LCD.isna().any(axis=1)]"
   ]
  },
  {
   "cell_type": "code",
   "execution_count": 36,
   "metadata": {
    "ExecuteTime": {
     "end_time": "2021-02-17T19:34:03.585654Z",
     "start_time": "2021-02-17T19:31:19.580468Z"
    },
    "scrolled": false
   },
   "outputs": [
    {
     "data": {
      "application/vnd.jupyter.widget-view+json": {
       "model_id": "148e00c2edb840cfb4b1241f499a989e",
       "version_major": 2,
       "version_minor": 0
      },
      "text/plain": [
       "HBox(children=(HTML(value='Summarize dataset'), FloatProgress(value=0.0, max=18.0), HTML(value='')))"
      ]
     },
     "metadata": {},
     "output_type": "display_data"
    },
    {
     "name": "stdout",
     "output_type": "stream",
     "text": [
      "\n"
     ]
    },
    {
     "data": {
      "application/vnd.jupyter.widget-view+json": {
       "model_id": "479f6e2015a74dc19c73ec0d24f95c3a",
       "version_major": 2,
       "version_minor": 0
      },
      "text/plain": [
       "HBox(children=(HTML(value='Generate report structure'), FloatProgress(value=0.0, max=1.0), HTML(value='')))"
      ]
     },
     "metadata": {},
     "output_type": "display_data"
    },
    {
     "name": "stdout",
     "output_type": "stream",
     "text": [
      "\n"
     ]
    },
    {
     "data": {
      "application/vnd.jupyter.widget-view+json": {
       "model_id": "c14b3f6acf5d4147baa4228daf08a208",
       "version_major": 2,
       "version_minor": 0
      },
      "text/plain": [
       "HBox(children=(HTML(value='Render HTML'), FloatProgress(value=0.0, max=1.0), HTML(value='')))"
      ]
     },
     "metadata": {},
     "output_type": "display_data"
    },
    {
     "name": "stdout",
     "output_type": "stream",
     "text": [
      "\n"
     ]
    },
    {
     "data": {
      "application/vnd.jupyter.widget-view+json": {
       "model_id": "745f52cc202a4b519bf97ba3a858ec4f",
       "version_major": 2,
       "version_minor": 0
      },
      "text/plain": [
       "HBox(children=(HTML(value='Export report to file'), FloatProgress(value=0.0, max=1.0), HTML(value='')))"
      ]
     },
     "metadata": {},
     "output_type": "display_data"
    },
    {
     "name": "stdout",
     "output_type": "stream",
     "text": [
      "\n"
     ]
    }
   ],
   "source": [
    "from pandas_profiling import ProfileReport\n",
    "\n",
    "report_name = file_name[:-4] + '.html'\n",
    "\n",
    "# Complete report:\n",
    "prof = ProfileReport(LCD, minimal=True)\n",
    "prof.to_file(report_name)\n",
    "\n",
    "# # # Sample report (more computationally efficient)\n",
    "# prof = ProfileReport(lcd.sample(1000)) \n",
    "# prof.to_file(report_name)"
   ]
  },
  {
   "cell_type": "markdown",
   "metadata": {},
   "source": [
    "### Manipulate the data"
   ]
  },
  {
   "cell_type": "code",
   "execution_count": 42,
   "metadata": {
    "ExecuteTime": {
     "end_time": "2021-02-17T19:48:08.577594Z",
     "start_time": "2021-02-17T19:48:08.305762Z"
    }
   },
   "outputs": [
    {
     "data": {
      "text/html": [
       "<div>\n",
       "<style scoped>\n",
       "    .dataframe tbody tr th:only-of-type {\n",
       "        vertical-align: middle;\n",
       "    }\n",
       "\n",
       "    .dataframe tbody tr th {\n",
       "        vertical-align: top;\n",
       "    }\n",
       "\n",
       "    .dataframe thead th {\n",
       "        text-align: right;\n",
       "    }\n",
       "</style>\n",
       "<table border=\"1\" class=\"dataframe\">\n",
       "  <thead>\n",
       "    <tr style=\"text-align: right;\">\n",
       "      <th></th>\n",
       "      <th>STATION</th>\n",
       "      <th>DATE</th>\n",
       "      <th>HourlyAltimeterSetting</th>\n",
       "      <th>HourlyDryBulbTemperature</th>\n",
       "      <th>HourlyPrecipitation</th>\n",
       "      <th>HourlyRelativeHumidity</th>\n",
       "      <th>HourlySkyConditions</th>\n",
       "      <th>HourlyVisibility</th>\n",
       "      <th>REM</th>\n",
       "    </tr>\n",
       "  </thead>\n",
       "  <tbody>\n",
       "    <tr>\n",
       "      <th>7358</th>\n",
       "      <td>72520094823</td>\n",
       "      <td>2019-07-13T07:51:00</td>\n",
       "      <td>30.04</td>\n",
       "      <td>71</td>\n",
       "      <td>0.00</td>\n",
       "      <td>79</td>\n",
       "      <td>CLR:00</td>\n",
       "      <td>10.00</td>\n",
       "      <td>MET09607/13/19 07:51:02 METAR KPIT 131251Z 180...</td>\n",
       "    </tr>\n",
       "    <tr>\n",
       "      <th>1868</th>\n",
       "      <td>72745594931</td>\n",
       "      <td>2019-02-11T13:28:00</td>\n",
       "      <td>30.17</td>\n",
       "      <td>19</td>\n",
       "      <td>T</td>\n",
       "      <td>74</td>\n",
       "      <td>BKN:07 21 OVC:08 42</td>\n",
       "      <td>10.00</td>\n",
       "      <td>MET10702/11/19 13:28:02 SPECI KHIB 111928Z 120...</td>\n",
       "    </tr>\n",
       "    <tr>\n",
       "      <th>3062</th>\n",
       "      <td>72521014895</td>\n",
       "      <td>2019-03-25T14:51:00</td>\n",
       "      <td>30.08</td>\n",
       "      <td>49</td>\n",
       "      <td>0.00</td>\n",
       "      <td>27</td>\n",
       "      <td>FEW:02 85 FEW:02 160 SCT:04 250</td>\n",
       "      <td>10.00</td>\n",
       "      <td>MET11703/25/19 14:51:02 METAR KCAK 251951Z 020...</td>\n",
       "    </tr>\n",
       "  </tbody>\n",
       "</table>\n",
       "</div>"
      ],
      "text/plain": [
       "          STATION                 DATE HourlyAltimeterSetting  \\\n",
       "7358  72520094823  2019-07-13T07:51:00                  30.04   \n",
       "1868  72745594931  2019-02-11T13:28:00                  30.17   \n",
       "3062  72521014895  2019-03-25T14:51:00                  30.08   \n",
       "\n",
       "     HourlyDryBulbTemperature HourlyPrecipitation HourlyRelativeHumidity  \\\n",
       "7358                       71                0.00                     79   \n",
       "1868                       19                   T                     74   \n",
       "3062                       49                0.00                     27   \n",
       "\n",
       "                  HourlySkyConditions HourlyVisibility  \\\n",
       "7358                           CLR:00            10.00   \n",
       "1868              BKN:07 21 OVC:08 42            10.00   \n",
       "3062  FEW:02 85 FEW:02 160 SCT:04 250            10.00   \n",
       "\n",
       "                                                    REM  \n",
       "7358  MET09607/13/19 07:51:02 METAR KPIT 131251Z 180...  \n",
       "1868  MET10702/11/19 13:28:02 SPECI KHIB 111928Z 120...  \n",
       "3062  MET11703/25/19 14:51:02 METAR KCAK 251951Z 020...  "
      ]
     },
     "execution_count": 42,
     "metadata": {},
     "output_type": "execute_result"
    }
   ],
   "source": [
    "LCD.sample(3)"
   ]
  },
  {
   "cell_type": "markdown",
   "metadata": {},
   "source": [
    "#### Date/Time"
   ]
  },
  {
   "cell_type": "code",
   "execution_count": 54,
   "metadata": {
    "ExecuteTime": {
     "end_time": "2021-02-17T20:02:59.463896Z",
     "start_time": "2021-02-17T20:02:59.184211Z"
    }
   },
   "outputs": [
    {
     "data": {
      "text/html": [
       "<div>\n",
       "<style scoped>\n",
       "    .dataframe tbody tr th:only-of-type {\n",
       "        vertical-align: middle;\n",
       "    }\n",
       "\n",
       "    .dataframe tbody tr th {\n",
       "        vertical-align: top;\n",
       "    }\n",
       "\n",
       "    .dataframe thead th {\n",
       "        text-align: right;\n",
       "    }\n",
       "</style>\n",
       "<table border=\"1\" class=\"dataframe\">\n",
       "  <thead>\n",
       "    <tr style=\"text-align: right;\">\n",
       "      <th></th>\n",
       "      <th>STATION</th>\n",
       "      <th>Date</th>\n",
       "      <th>Time</th>\n",
       "      <th>HourlyAltimeterSetting</th>\n",
       "      <th>HourlyDryBulbTemperature</th>\n",
       "      <th>HourlyPrecipitation</th>\n",
       "      <th>HourlyRelativeHumidity</th>\n",
       "      <th>HourlySkyConditions</th>\n",
       "      <th>HourlyVisibility</th>\n",
       "      <th>REM</th>\n",
       "    </tr>\n",
       "  </thead>\n",
       "  <tbody>\n",
       "    <tr>\n",
       "      <th>11352</th>\n",
       "      <td>72503014732</td>\n",
       "      <td>2019-10-24</td>\n",
       "      <td>13:00:00</td>\n",
       "      <td>NaN</td>\n",
       "      <td>66</td>\n",
       "      <td>NaN</td>\n",
       "      <td>25</td>\n",
       "      <td>NaN</td>\n",
       "      <td>9.94</td>\n",
       "      <td>SYN08072503 32966 02207 10189 21017 30237 4024...</td>\n",
       "    </tr>\n",
       "    <tr>\n",
       "      <th>17940</th>\n",
       "      <td>91212041415</td>\n",
       "      <td>2019-12-27</td>\n",
       "      <td>01:54:00</td>\n",
       "      <td>29.9</td>\n",
       "      <td>76</td>\n",
       "      <td>0.00</td>\n",
       "      <td>79</td>\n",
       "      <td>FEW:02 60</td>\n",
       "      <td>10.00</td>\n",
       "      <td>MET10012/27/19 01:54:02 METAR PGUM 261554Z 050...</td>\n",
       "    </tr>\n",
       "    <tr>\n",
       "      <th>2898</th>\n",
       "      <td>72440013995</td>\n",
       "      <td>2019-03-11</td>\n",
       "      <td>13:50:00</td>\n",
       "      <td>30.30</td>\n",
       "      <td>57</td>\n",
       "      <td>NaN</td>\n",
       "      <td>51</td>\n",
       "      <td>BKN:07 25 OVC:08 65</td>\n",
       "      <td>10.00</td>\n",
       "      <td>MET08803/11/19 13:50:02 SPECI KSGF 111950Z 000...</td>\n",
       "    </tr>\n",
       "  </tbody>\n",
       "</table>\n",
       "</div>"
      ],
      "text/plain": [
       "           STATION        Date      Time HourlyAltimeterSetting  \\\n",
       "11352  72503014732  2019-10-24  13:00:00                    NaN   \n",
       "17940  91212041415  2019-12-27  01:54:00                   29.9   \n",
       "2898   72440013995  2019-03-11  13:50:00                  30.30   \n",
       "\n",
       "      HourlyDryBulbTemperature HourlyPrecipitation HourlyRelativeHumidity  \\\n",
       "11352                       66                 NaN                     25   \n",
       "17940                       76                0.00                     79   \n",
       "2898                        57                 NaN                     51   \n",
       "\n",
       "       HourlySkyConditions HourlyVisibility  \\\n",
       "11352                  NaN             9.94   \n",
       "17940            FEW:02 60            10.00   \n",
       "2898   BKN:07 25 OVC:08 65            10.00   \n",
       "\n",
       "                                                     REM  \n",
       "11352  SYN08072503 32966 02207 10189 21017 30237 4024...  \n",
       "17940  MET10012/27/19 01:54:02 METAR PGUM 261554Z 050...  \n",
       "2898   MET08803/11/19 13:50:02 SPECI KSGF 111950Z 000...  "
      ]
     },
     "execution_count": 54,
     "metadata": {},
     "output_type": "execute_result"
    }
   ],
   "source": [
    "LCD.insert(loc=1, column='Date', value=LCD['DATE'].str.split(pat='T', n=1, expand=True).iloc[:, 0])\n",
    "LCD.insert(loc=2, column='Time', value=LCD['DATE'].str.split(pat='T', n=1, expand=True).iloc[:, 1])\n",
    "LCD.insert(loc=3, column='Time_h', value=LCD['Time'].str.split(pat=':', expand=True).iloc[:, 0])\n",
    "LCD.drop(['DATE'], axis=1, inplace=True)\n",
    "LCD.sample(3)"
   ]
  },
  {
   "cell_type": "code",
   "execution_count": 58,
   "metadata": {
    "ExecuteTime": {
     "end_time": "2021-02-17T20:07:47.227264Z",
     "start_time": "2021-02-17T20:07:23.950388Z"
    }
   },
   "outputs": [],
   "source": [
    "LCD.insert(loc=3, column='Time_h', value=LCD['Time'].str.split(pat=':', expand=True).iloc[:, 0])"
   ]
  },
  {
   "cell_type": "code",
   "execution_count": 59,
   "metadata": {
    "ExecuteTime": {
     "end_time": "2021-02-17T20:07:53.218138Z",
     "start_time": "2021-02-17T20:07:49.285116Z"
    }
   },
   "outputs": [
    {
     "data": {
      "text/html": [
       "<div>\n",
       "<style scoped>\n",
       "    .dataframe tbody tr th:only-of-type {\n",
       "        vertical-align: middle;\n",
       "    }\n",
       "\n",
       "    .dataframe tbody tr th {\n",
       "        vertical-align: top;\n",
       "    }\n",
       "\n",
       "    .dataframe thead th {\n",
       "        text-align: right;\n",
       "    }\n",
       "</style>\n",
       "<table border=\"1\" class=\"dataframe\">\n",
       "  <thead>\n",
       "    <tr style=\"text-align: right;\">\n",
       "      <th></th>\n",
       "      <th>STATION</th>\n",
       "      <th>Date</th>\n",
       "      <th>Time</th>\n",
       "      <th>Time_h</th>\n",
       "      <th>HourlyAltimeterSetting</th>\n",
       "      <th>HourlyDryBulbTemperature</th>\n",
       "      <th>HourlyPrecipitation</th>\n",
       "      <th>HourlyRelativeHumidity</th>\n",
       "      <th>HourlySkyConditions</th>\n",
       "      <th>HourlyVisibility</th>\n",
       "      <th>REM</th>\n",
       "    </tr>\n",
       "  </thead>\n",
       "  <tbody>\n",
       "    <tr>\n",
       "      <th>3468</th>\n",
       "      <td>72226013895</td>\n",
       "      <td>2019-03-23</td>\n",
       "      <td>09:53:00</td>\n",
       "      <td>09</td>\n",
       "      <td>30.30</td>\n",
       "      <td>64</td>\n",
       "      <td>0.00</td>\n",
       "      <td>34</td>\n",
       "      <td>CLR:00</td>\n",
       "      <td>10.00</td>\n",
       "      <td>MET09603/23/19 09:53:02 METAR KMGM 231553Z    ...</td>\n",
       "    </tr>\n",
       "    <tr>\n",
       "      <th>2673</th>\n",
       "      <td>72483993225</td>\n",
       "      <td>2019-04-01</td>\n",
       "      <td>23:53:00</td>\n",
       "      <td>23</td>\n",
       "      <td>29.87</td>\n",
       "      <td>55</td>\n",
       "      <td>0.01</td>\n",
       "      <td>90</td>\n",
       "      <td>BKN:07 50 BKN:07 70 OVC:08 85</td>\n",
       "      <td>10.00</td>\n",
       "      <td>MET13304/01/19 23:53:02 METAR KSMF 020753Z 110...</td>\n",
       "    </tr>\n",
       "    <tr>\n",
       "      <th>11991</th>\n",
       "      <td>91212041415</td>\n",
       "      <td>2019-09-09</td>\n",
       "      <td>20:54:00</td>\n",
       "      <td>20</td>\n",
       "      <td>29.71</td>\n",
       "      <td>77</td>\n",
       "      <td>T</td>\n",
       "      <td>94</td>\n",
       "      <td>OVC:08 80</td>\n",
       "      <td>10.00</td>\n",
       "      <td>MET11109/09/19 20:54:01 METAR PGUM 091054Z 020...</td>\n",
       "    </tr>\n",
       "  </tbody>\n",
       "</table>\n",
       "</div>"
      ],
      "text/plain": [
       "           STATION        Date      Time Time_h HourlyAltimeterSetting  \\\n",
       "3468   72226013895  2019-03-23  09:53:00     09                  30.30   \n",
       "2673   72483993225  2019-04-01  23:53:00     23                  29.87   \n",
       "11991  91212041415  2019-09-09  20:54:00     20                  29.71   \n",
       "\n",
       "      HourlyDryBulbTemperature HourlyPrecipitation HourlyRelativeHumidity  \\\n",
       "3468                        64                0.00                     34   \n",
       "2673                        55                0.01                     90   \n",
       "11991                       77                   T                     94   \n",
       "\n",
       "                 HourlySkyConditions HourlyVisibility  \\\n",
       "3468                          CLR:00            10.00   \n",
       "2673   BKN:07 50 BKN:07 70 OVC:08 85            10.00   \n",
       "11991                      OVC:08 80            10.00   \n",
       "\n",
       "                                                     REM  \n",
       "3468   MET09603/23/19 09:53:02 METAR KMGM 231553Z    ...  \n",
       "2673   MET13304/01/19 23:53:02 METAR KSMF 020753Z 110...  \n",
       "11991  MET11109/09/19 20:54:01 METAR PGUM 091054Z 020...  "
      ]
     },
     "execution_count": 59,
     "metadata": {},
     "output_type": "execute_result"
    }
   ],
   "source": [
    "LCD.sample(3)"
   ]
  },
  {
   "cell_type": "markdown",
   "metadata": {},
   "source": [
    "# Antes de continuar, hacer un merge con OTP-WBAN para ver si se cubren suficientes vuelos considerando estación, hora de la medición, etc."
   ]
  },
  {
   "cell_type": "code",
   "execution_count": null,
   "metadata": {},
   "outputs": [],
   "source": []
  },
  {
   "cell_type": "code",
   "execution_count": null,
   "metadata": {},
   "outputs": [],
   "source": []
  },
  {
   "cell_type": "code",
   "execution_count": null,
   "metadata": {},
   "outputs": [],
   "source": []
  },
  {
   "cell_type": "code",
   "execution_count": null,
   "metadata": {},
   "outputs": [],
   "source": []
  },
  {
   "cell_type": "code",
   "execution_count": null,
   "metadata": {
    "ExecuteTime": {
     "end_time": "2021-02-15T19:06:41.978880Z",
     "start_time": "2021-02-15T19:06:41.965890Z"
    }
   },
   "outputs": [],
   "source": [
    "t1 = time.perf_counter() - t0\n",
    "print(\"Time elapsed: \", t1) # CPU seconds elapsed (floating point)"
   ]
  },
  {
   "cell_type": "raw",
   "metadata": {},
   "source": [
    "Time elapsed:  337.227193"
   ]
  },
  {
   "cell_type": "markdown",
   "metadata": {},
   "source": [
    "___"
   ]
  },
  {
   "cell_type": "markdown",
   "metadata": {},
   "source": [
    "___"
   ]
  }
 ],
 "metadata": {
  "hide_input": false,
  "kernelspec": {
   "display_name": "Python 3",
   "language": "python",
   "name": "python3"
  },
  "language_info": {
   "codemirror_mode": {
    "name": "ipython",
    "version": 3
   },
   "file_extension": ".py",
   "mimetype": "text/x-python",
   "name": "python",
   "nbconvert_exporter": "python",
   "pygments_lexer": "ipython3",
   "version": "3.8.5"
  },
  "toc": {
   "base_numbering": 1,
   "nav_menu": {},
   "number_sections": true,
   "sideBar": true,
   "skip_h1_title": false,
   "title_cell": "Table of Contents",
   "title_sidebar": "Contents",
   "toc_cell": false,
   "toc_position": {
    "height": "calc(100% - 180px)",
    "left": "10px",
    "top": "150px",
    "width": "384px"
   },
   "toc_section_display": true,
   "toc_window_display": true
  },
  "varInspector": {
   "cols": {
    "lenName": 16,
    "lenType": 16,
    "lenVar": 40
   },
   "kernels_config": {
    "python": {
     "delete_cmd_postfix": "",
     "delete_cmd_prefix": "del ",
     "library": "var_list.py",
     "varRefreshCmd": "print(var_dic_list())"
    },
    "r": {
     "delete_cmd_postfix": ") ",
     "delete_cmd_prefix": "rm(",
     "library": "var_list.r",
     "varRefreshCmd": "cat(var_dic_list()) "
    }
   },
   "position": {
    "height": "817px",
    "left": "1550px",
    "right": "20px",
    "top": "114px",
    "width": "350px"
   },
   "types_to_exclude": [
    "module",
    "function",
    "builtin_function_or_method",
    "instance",
    "_Feature"
   ],
   "window_display": true
  }
 },
 "nbformat": 4,
 "nbformat_minor": 4
}
