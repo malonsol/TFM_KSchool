{
 "cells": [
  {
   "cell_type": "markdown",
   "metadata": {},
   "source": [
    "#  MODIFICAR UNA VEZ SE INCORPORE EL VIENTO Y LA LOCALIZACIÓN EN EL NB 'LCD_DataPreparation_v2'"
   ]
  },
  {
   "cell_type": "code",
   "execution_count": 1,
   "metadata": {
    "ExecuteTime": {
     "end_time": "2021-03-02T16:45:35.865669Z",
     "start_time": "2021-03-02T16:45:32.939314Z"
    }
   },
   "outputs": [],
   "source": [
    "# Import libraries to be used\n",
    "\n",
    "# Warning messages display\n",
    "## import warnings\n",
    "## warnings.filterwarnings(action='ignore') # https://docs.python.org/3/library/warnings.html#the-warnings-filter\n",
    "\n",
    "# Directories/Files management\n",
    "import os.path\n",
    "## from zipfile import ZipFile # De momento no ha hecho falta \n",
    "\n",
    "# Timing\n",
    "import time\n",
    "\n",
    "# Memory monitoring\n",
    "%load_ext memory_profiler\n",
    "### Use '%memit' to check at each point\n",
    "\n",
    "# Data analysis and wrangling\n",
    "import pandas as pd\n",
    "import numpy as np\n",
    "pd.set_option('display.max_columns', None) # Show all columns in DataFrames\n",
    "## pd.set_option('display.max_rows', None) # It greatly slows down the output display and freezes the kernel\n",
    "\n",
    "# Visualization\n",
    "import matplotlib.pyplot as plt\n",
    "import seaborn as sns\n",
    "%matplotlib inline\n",
    "plt.style.use('ggplot') # choose a style: 'plt.style.available'\n",
    "sns.set_theme(context='notebook',\n",
    "              style=\"darkgrid\") # {darkgrid, whitegrid, dark, white, ticks}\n",
    "palette = sns.color_palette(\"flare\", as_cmap=True);\n",
    "import altair as alt\n",
    "\n",
    "# Machine Learning\n",
    "## from sklearn.[...] import ..."
   ]
  },
  {
   "cell_type": "code",
   "execution_count": 2,
   "metadata": {
    "ExecuteTime": {
     "end_time": "2021-03-02T16:45:35.881661Z",
     "start_time": "2021-03-02T16:45:35.869668Z"
    }
   },
   "outputs": [],
   "source": [
    "t0 = time.perf_counter() "
   ]
  },
  {
   "cell_type": "code",
   "execution_count": 3,
   "metadata": {
    "ExecuteTime": {
     "end_time": "2021-03-02T16:45:35.897652Z",
     "start_time": "2021-03-02T16:45:35.887660Z"
    },
    "scrolled": true
   },
   "outputs": [
    {
     "name": "stdout",
     "output_type": "stream",
     "text": [
      "Running on Windows.\n",
      "root path\t C:\\Users\\turge\\CompartidoVM\\0.TFM\n"
     ]
    }
   ],
   "source": [
    "# Detect Operating System running and manage paths accordingly\n",
    "\n",
    "if os.name == 'nt': # Windows\n",
    "    root = r\"C:\\Users\\turge\\CompartidoVM\\0.TFM\"\n",
    "    print(\"Running on Windows.\")\n",
    "elif os.name == 'posix': # Ubuntu\n",
    "    root = \"/home/dsc/shared/0.TFM\"\n",
    "    print(\"Running on Ubuntu.\")\n",
    "print(\"root path\\t\", root)"
   ]
  },
  {
   "cell_type": "markdown",
   "metadata": {},
   "source": [
    "Additional information on each column meaning can be found [here](https://www.ncei.noaa.gov/data/local-climatological-data/doc/LCD_documentation.pLCD)."
   ]
  },
  {
   "cell_type": "markdown",
   "metadata": {},
   "source": [
    "___"
   ]
  },
  {
   "cell_type": "markdown",
   "metadata": {},
   "source": [
    "# Get the data"
   ]
  },
  {
   "cell_type": "markdown",
   "metadata": {},
   "source": [
    "## LCD clean file (2019)"
   ]
  },
  {
   "cell_type": "markdown",
   "metadata": {},
   "source": [
    "### Import file"
   ]
  },
  {
   "cell_type": "markdown",
   "metadata": {},
   "source": [
    "#### Define file path"
   ]
  },
  {
   "cell_type": "code",
   "execution_count": 4,
   "metadata": {
    "ExecuteTime": {
     "end_time": "2021-03-02T16:45:52.719251Z",
     "start_time": "2021-03-02T16:45:35.903648Z"
    }
   },
   "outputs": [],
   "source": [
    "output_csv_dir = os.path.join(root,\n",
    "                              \"Output_Data\",\n",
    "                              \"NOAA\",\n",
    "                              \"LCD_AllStations\")\n",
    "\n",
    "file_name = \"LCD_all_clean_v2.csv\"\n",
    "\n",
    "LCD = pd.read_csv(os.path.join(output_csv_dir, file_name),\n",
    "                  encoding='latin1',\n",
    "                  dtype = {\n",
    "                           'STATION' : 'string',\n",
    "                           'LATITUDE' : 'float64',\n",
    "                           'LONGITUDE' : 'float64',\n",
    "                           'WMO' : 'string',\n",
    "                           'WBAN' : 'string',\n",
    "                           'DATE' : 'string',\n",
    "                           'Date' : 'string',\n",
    "                           'Hour' : 'string',\n",
    "                           'HourlyAltimeterSetting' : 'float32',\n",
    "                           'HourlyDryBulbTemperature' : 'int32',\n",
    "                           'HourlyPrecipitation' : 'float32',\n",
    "                           'HourlyRelativeHumidity' : 'int32', \n",
    "                           'HourlySkyConditions' : 'string',\n",
    "                           'HourlyVisibility' : 'float32',\n",
    "                           'HourlyWindDirection' : 'string',\n",
    "                           'HourlyWindGustSpeed' : 'int32',\n",
    "                           'HourlyWindSpeed' : 'int32',\n",
    "                           'REM' : 'string'\n",
    "                           }\n",
    "                 )"
   ]
  },
  {
   "cell_type": "code",
   "execution_count": 5,
   "metadata": {
    "ExecuteTime": {
     "end_time": "2021-03-02T16:45:52.956107Z",
     "start_time": "2021-03-02T16:45:52.723250Z"
    },
    "scrolled": false
   },
   "outputs": [
    {
     "data": {
      "text/html": [
       "<div>\n",
       "<style scoped>\n",
       "    .dataframe tbody tr th:only-of-type {\n",
       "        vertical-align: middle;\n",
       "    }\n",
       "\n",
       "    .dataframe tbody tr th {\n",
       "        vertical-align: top;\n",
       "    }\n",
       "\n",
       "    .dataframe thead th {\n",
       "        text-align: right;\n",
       "    }\n",
       "</style>\n",
       "<table border=\"1\" class=\"dataframe\">\n",
       "  <thead>\n",
       "    <tr style=\"text-align: right;\">\n",
       "      <th></th>\n",
       "      <th>STATION</th>\n",
       "      <th>WMO</th>\n",
       "      <th>WBAN</th>\n",
       "      <th>DATE</th>\n",
       "      <th>Date</th>\n",
       "      <th>Hour</th>\n",
       "      <th>HourlyAltimeterSetting</th>\n",
       "      <th>HourlyDryBulbTemperature</th>\n",
       "      <th>HourlyPrecipitation</th>\n",
       "      <th>HourlyRelativeHumidity</th>\n",
       "      <th>HourlySkyConditions</th>\n",
       "      <th>HourlyVisibility</th>\n",
       "      <th>REM</th>\n",
       "    </tr>\n",
       "  </thead>\n",
       "  <tbody>\n",
       "    <tr>\n",
       "      <th>1706414</th>\n",
       "      <td>72643014920</td>\n",
       "      <td>726430</td>\n",
       "      <td>14920</td>\n",
       "      <td>2019-10-15 03:53:00</td>\n",
       "      <td>2019-10-15</td>\n",
       "      <td>3</td>\n",
       "      <td>29.79</td>\n",
       "      <td>44.0</td>\n",
       "      <td>0.0</td>\n",
       "      <td>71.0</td>\n",
       "      <td>CLR</td>\n",
       "      <td>10.0</td>\n",
       "      <td>MET09010/15/19 03:53:02 METAR KLSE 150953Z 140...</td>\n",
       "    </tr>\n",
       "    <tr>\n",
       "      <th>2928837</th>\n",
       "      <td>72216693845</td>\n",
       "      <td>722166</td>\n",
       "      <td>93845</td>\n",
       "      <td>2019-08-10 23:53:00</td>\n",
       "      <td>2019-08-10</td>\n",
       "      <td>23</td>\n",
       "      <td>29.97</td>\n",
       "      <td>78.0</td>\n",
       "      <td>0.0</td>\n",
       "      <td>87.0</td>\n",
       "      <td>CLR</td>\n",
       "      <td>10.0</td>\n",
       "      <td>MET10008/10/19 23:53:02 METAR KVLD 110453Z 130...</td>\n",
       "    </tr>\n",
       "    <tr>\n",
       "      <th>2514557</th>\n",
       "      <td>72392523190</td>\n",
       "      <td>723925</td>\n",
       "      <td>23190</td>\n",
       "      <td>2019-03-20 16:53:00</td>\n",
       "      <td>2019-03-20</td>\n",
       "      <td>16</td>\n",
       "      <td>30.02</td>\n",
       "      <td>61.0</td>\n",
       "      <td>0.0</td>\n",
       "      <td>67.0</td>\n",
       "      <td>SCT</td>\n",
       "      <td>10.0</td>\n",
       "      <td>MET10003/20/19 16:53:01 METAR KSBA 210053Z 260...</td>\n",
       "    </tr>\n",
       "    <tr>\n",
       "      <th>2025622</th>\n",
       "      <td>91190022516</td>\n",
       "      <td>911900</td>\n",
       "      <td>22516</td>\n",
       "      <td>2019-03-21 23:54:00</td>\n",
       "      <td>2019-03-21</td>\n",
       "      <td>23</td>\n",
       "      <td>30.13</td>\n",
       "      <td>71.0</td>\n",
       "      <td>0.0</td>\n",
       "      <td>81.0</td>\n",
       "      <td>SCT</td>\n",
       "      <td>10.0</td>\n",
       "      <td>MET13703/21/19 23:54:02 METAR PHOG 220954Z 050...</td>\n",
       "    </tr>\n",
       "    <tr>\n",
       "      <th>637707</th>\n",
       "      <td>72531594870</td>\n",
       "      <td>725315</td>\n",
       "      <td>94870</td>\n",
       "      <td>2019-03-24 07:53:00</td>\n",
       "      <td>2019-03-24</td>\n",
       "      <td>7</td>\n",
       "      <td>30.12</td>\n",
       "      <td>44.0</td>\n",
       "      <td>0.0</td>\n",
       "      <td>73.0</td>\n",
       "      <td>OVC</td>\n",
       "      <td>10.0</td>\n",
       "      <td>MET09903/24/19 07:53:02 METAR KCMI 241353Z 120...</td>\n",
       "    </tr>\n",
       "  </tbody>\n",
       "</table>\n",
       "</div>"
      ],
      "text/plain": [
       "             STATION     WMO   WBAN                 DATE        Date Hour  \\\n",
       "1706414  72643014920  726430  14920  2019-10-15 03:53:00  2019-10-15    3   \n",
       "2928837  72216693845  722166  93845  2019-08-10 23:53:00  2019-08-10   23   \n",
       "2514557  72392523190  723925  23190  2019-03-20 16:53:00  2019-03-20   16   \n",
       "2025622  91190022516  911900  22516  2019-03-21 23:54:00  2019-03-21   23   \n",
       "637707   72531594870  725315  94870  2019-03-24 07:53:00  2019-03-24    7   \n",
       "\n",
       "         HourlyAltimeterSetting  HourlyDryBulbTemperature  \\\n",
       "1706414                   29.79                      44.0   \n",
       "2928837                   29.97                      78.0   \n",
       "2514557                   30.02                      61.0   \n",
       "2025622                   30.13                      71.0   \n",
       "637707                    30.12                      44.0   \n",
       "\n",
       "         HourlyPrecipitation  HourlyRelativeHumidity HourlySkyConditions  \\\n",
       "1706414                  0.0                    71.0                 CLR   \n",
       "2928837                  0.0                    87.0                 CLR   \n",
       "2514557                  0.0                    67.0                 SCT   \n",
       "2025622                  0.0                    81.0                 SCT   \n",
       "637707                   0.0                    73.0                 OVC   \n",
       "\n",
       "         HourlyVisibility                                                REM  \n",
       "1706414              10.0  MET09010/15/19 03:53:02 METAR KLSE 150953Z 140...  \n",
       "2928837              10.0  MET10008/10/19 23:53:02 METAR KVLD 110453Z 130...  \n",
       "2514557              10.0  MET10003/20/19 16:53:01 METAR KSBA 210053Z 260...  \n",
       "2025622              10.0  MET13703/21/19 23:54:02 METAR PHOG 220954Z 050...  \n",
       "637707               10.0  MET09903/24/19 07:53:02 METAR KCMI 241353Z 120...  "
      ]
     },
     "execution_count": 5,
     "metadata": {},
     "output_type": "execute_result"
    }
   ],
   "source": [
    "LCD.sample(5)"
   ]
  },
  {
   "cell_type": "code",
   "execution_count": 6,
   "metadata": {
    "ExecuteTime": {
     "end_time": "2021-03-02T16:46:03.055409Z",
     "start_time": "2021-03-02T16:45:52.960105Z"
    }
   },
   "outputs": [
    {
     "data": {
      "text/html": [
       "<div>\n",
       "<style scoped>\n",
       "    .dataframe tbody tr th:only-of-type {\n",
       "        vertical-align: middle;\n",
       "    }\n",
       "\n",
       "    .dataframe tbody tr th {\n",
       "        vertical-align: top;\n",
       "    }\n",
       "\n",
       "    .dataframe thead th {\n",
       "        text-align: right;\n",
       "    }\n",
       "</style>\n",
       "<table border=\"1\" class=\"dataframe\">\n",
       "  <thead>\n",
       "    <tr style=\"text-align: right;\">\n",
       "      <th></th>\n",
       "      <th>STATION</th>\n",
       "      <th>WMO</th>\n",
       "      <th>WBAN</th>\n",
       "      <th>DATE</th>\n",
       "      <th>Date</th>\n",
       "      <th>Hour</th>\n",
       "      <th>HourlyAltimeterSetting</th>\n",
       "      <th>HourlyDryBulbTemperature</th>\n",
       "      <th>HourlyPrecipitation</th>\n",
       "      <th>HourlyRelativeHumidity</th>\n",
       "      <th>HourlySkyConditions</th>\n",
       "      <th>HourlyVisibility</th>\n",
       "      <th>REM</th>\n",
       "      <th>LCD_id</th>\n",
       "    </tr>\n",
       "  </thead>\n",
       "  <tbody>\n",
       "    <tr>\n",
       "      <th>2734066</th>\n",
       "      <td>72434013994</td>\n",
       "      <td>724340</td>\n",
       "      <td>13994</td>\n",
       "      <td>2019-04-19 19:51:00</td>\n",
       "      <td>2019-04-19</td>\n",
       "      <td>19</td>\n",
       "      <td>29.81</td>\n",
       "      <td>53.0</td>\n",
       "      <td>0.0</td>\n",
       "      <td>40.0</td>\n",
       "      <td>FEW</td>\n",
       "      <td>10.0</td>\n",
       "      <td>MET09404/19/19 19:51:01 METAR KSTL 200151Z 340...</td>\n",
       "      <td>13994_2019-04-19_19</td>\n",
       "    </tr>\n",
       "    <tr>\n",
       "      <th>484430</th>\n",
       "      <td>72288023152</td>\n",
       "      <td>722880</td>\n",
       "      <td>23152</td>\n",
       "      <td>2019-09-17 21:53:00</td>\n",
       "      <td>2019-09-17</td>\n",
       "      <td>21</td>\n",
       "      <td>29.91</td>\n",
       "      <td>70.0</td>\n",
       "      <td>0.0</td>\n",
       "      <td>66.0</td>\n",
       "      <td>CLR</td>\n",
       "      <td>10.0</td>\n",
       "      <td>MET10709/17/19 21:53:02 METAR KBUR 180553Z 160...</td>\n",
       "      <td>23152_2019-09-17_21</td>\n",
       "    </tr>\n",
       "    <tr>\n",
       "      <th>1666370</th>\n",
       "      <td>91165022536</td>\n",
       "      <td>911650</td>\n",
       "      <td>22536</td>\n",
       "      <td>2019-03-19 03:53:00</td>\n",
       "      <td>2019-03-19</td>\n",
       "      <td>3</td>\n",
       "      <td>30.06</td>\n",
       "      <td>70.0</td>\n",
       "      <td>0.0</td>\n",
       "      <td>61.0</td>\n",
       "      <td>CLR</td>\n",
       "      <td>10.0</td>\n",
       "      <td>MET09503/19/19 03:53:02 METAR PHLI 191353Z 060...</td>\n",
       "      <td>22536_2019-03-19_3</td>\n",
       "    </tr>\n",
       "    <tr>\n",
       "      <th>2579607</th>\n",
       "      <td>72205712854</td>\n",
       "      <td>722057</td>\n",
       "      <td>12854</td>\n",
       "      <td>2019-08-23 20:53:00</td>\n",
       "      <td>2019-08-23</td>\n",
       "      <td>20</td>\n",
       "      <td>29.98</td>\n",
       "      <td>79.0</td>\n",
       "      <td>0.0</td>\n",
       "      <td>88.0</td>\n",
       "      <td>CLR</td>\n",
       "      <td>10.0</td>\n",
       "      <td>MET09008/23/19 20:53:01 METAR KSFB 240153Z 060...</td>\n",
       "      <td>12854_2019-08-23_20</td>\n",
       "    </tr>\n",
       "    <tr>\n",
       "      <th>2806526</th>\n",
       "      <td>72214093805</td>\n",
       "      <td>722140</td>\n",
       "      <td>93805</td>\n",
       "      <td>2019-08-23 06:53:00</td>\n",
       "      <td>2019-08-23</td>\n",
       "      <td>6</td>\n",
       "      <td>30.04</td>\n",
       "      <td>77.0</td>\n",
       "      <td>0.0</td>\n",
       "      <td>96.0</td>\n",
       "      <td>SCT</td>\n",
       "      <td>10.0</td>\n",
       "      <td>MET13108/23/19 06:53:02 METAR KTLH 231153Z 000...</td>\n",
       "      <td>93805_2019-08-23_6</td>\n",
       "    </tr>\n",
       "  </tbody>\n",
       "</table>\n",
       "</div>"
      ],
      "text/plain": [
       "             STATION     WMO   WBAN                 DATE        Date Hour  \\\n",
       "2734066  72434013994  724340  13994  2019-04-19 19:51:00  2019-04-19   19   \n",
       "484430   72288023152  722880  23152  2019-09-17 21:53:00  2019-09-17   21   \n",
       "1666370  91165022536  911650  22536  2019-03-19 03:53:00  2019-03-19    3   \n",
       "2579607  72205712854  722057  12854  2019-08-23 20:53:00  2019-08-23   20   \n",
       "2806526  72214093805  722140  93805  2019-08-23 06:53:00  2019-08-23    6   \n",
       "\n",
       "         HourlyAltimeterSetting  HourlyDryBulbTemperature  \\\n",
       "2734066                   29.81                      53.0   \n",
       "484430                    29.91                      70.0   \n",
       "1666370                   30.06                      70.0   \n",
       "2579607                   29.98                      79.0   \n",
       "2806526                   30.04                      77.0   \n",
       "\n",
       "         HourlyPrecipitation  HourlyRelativeHumidity HourlySkyConditions  \\\n",
       "2734066                  0.0                    40.0                 FEW   \n",
       "484430                   0.0                    66.0                 CLR   \n",
       "1666370                  0.0                    61.0                 CLR   \n",
       "2579607                  0.0                    88.0                 CLR   \n",
       "2806526                  0.0                    96.0                 SCT   \n",
       "\n",
       "         HourlyVisibility                                                REM  \\\n",
       "2734066              10.0  MET09404/19/19 19:51:01 METAR KSTL 200151Z 340...   \n",
       "484430               10.0  MET10709/17/19 21:53:02 METAR KBUR 180553Z 160...   \n",
       "1666370              10.0  MET09503/19/19 03:53:02 METAR PHLI 191353Z 060...   \n",
       "2579607              10.0  MET09008/23/19 20:53:01 METAR KSFB 240153Z 060...   \n",
       "2806526              10.0  MET13108/23/19 06:53:02 METAR KTLH 231153Z 000...   \n",
       "\n",
       "                      LCD_id  \n",
       "2734066  13994_2019-04-19_19  \n",
       "484430   23152_2019-09-17_21  \n",
       "1666370   22536_2019-03-19_3  \n",
       "2579607  12854_2019-08-23_20  \n",
       "2806526   93805_2019-08-23_6  "
      ]
     },
     "execution_count": 6,
     "metadata": {},
     "output_type": "execute_result"
    }
   ],
   "source": [
    "LCD_year = LCD['Date'].str[:4]\n",
    "LCD_month = LCD['Date'].str[5:7]\n",
    "LCD_day = LCD['Date'].str[8:10]\n",
    "LCD_id = LCD['WBAN'] + '_' + LCD_year + '-' + LCD_month + '-' + LCD_day + '_' + LCD['Hour']\n",
    "LCD['LCD_id'] = LCD_id\n",
    "LCD.sample(5)"
   ]
  },
  {
   "cell_type": "markdown",
   "metadata": {},
   "source": [
    "## OTP dataset"
   ]
  },
  {
   "cell_type": "markdown",
   "metadata": {},
   "source": [
    "### Import OTP dataset"
   ]
  },
  {
   "cell_type": "code",
   "execution_count": null,
   "metadata": {},
   "outputs": [],
   "source": []
  },
  {
   "cell_type": "code",
   "execution_count": null,
   "metadata": {},
   "outputs": [],
   "source": []
  },
  {
   "cell_type": "code",
   "execution_count": null,
   "metadata": {},
   "outputs": [],
   "source": []
  },
  {
   "cell_type": "markdown",
   "metadata": {},
   "source": [
    "# PRIMERO PASAR POR EL NB DE \"WBAN_IATA\" !!!"
   ]
  },
  {
   "cell_type": "markdown",
   "metadata": {},
   "source": [
    "## MODIFICAR LAS FEATURES DE IMPORTACIÓN PARA INCLUIR LAS RECIENTEMENTE INCORPORADAS"
   ]
  },
  {
   "cell_type": "code",
   "execution_count": null,
   "metadata": {},
   "outputs": [],
   "source": []
  },
  {
   "cell_type": "code",
   "execution_count": null,
   "metadata": {},
   "outputs": [],
   "source": []
  },
  {
   "cell_type": "code",
   "execution_count": null,
   "metadata": {},
   "outputs": [],
   "source": []
  },
  {
   "cell_type": "code",
   "execution_count": null,
   "metadata": {},
   "outputs": [],
   "source": []
  },
  {
   "cell_type": "code",
   "execution_count": 7,
   "metadata": {
    "ExecuteTime": {
     "end_time": "2021-03-02T16:46:03.071402Z",
     "start_time": "2021-03-02T16:46:03.058408Z"
    }
   },
   "outputs": [],
   "source": [
    "cols = [\n",
    "     'MONTH',\n",
    "     'DAY_OF_MONTH',\n",
    "     'DAY_OF_WEEK',\n",
    "     'OP_UNIQUE_CARRIER',\n",
    "     'TAIL_NUM',\n",
    "     'ORIGIN',\n",
    "     'ORIGIN_CITY_NAME',\n",
    "     'ORIGIN_STATE_ABR',\n",
    "     'ORIGIN_STATE_NM',\n",
    "     'WBAN_Origin',\n",
    "     'DEST',\n",
    "    \n",
    "    seguir!!!\n",
    "    \n",
    "    \n",
    "     'DEST_CITY_NAME',\n",
    "     'DEST_STATE_ABR',\n",
    "     'DEST_STATE_NM',\n",
    "     'WBAN_Dest',\n",
    "     'DEP_TIME_hour',\n",
    "     'ARR_TIME_hour',\n",
    "     'TAXI_OUT_median',\n",
    "     'TAXI_IN_median',\n",
    "     'ARR_DEL15',\n",
    "     'CRS_ELAPSED_TIME',\n",
    "     'DISTANCE',\n",
    "     'DISTANCE_GROUP'\n",
    "]"
   ]
  },
  {
   "cell_type": "raw",
   "metadata": {
    "ExecuteTime": {
     "end_time": "2021-02-25T18:26:20.069820Z",
     "start_time": "2021-02-25T18:26:20.061825Z"
    }
   },
   "source": [
    "cols_dtypes = {\n",
    "               'MONTH' : 'category',\n",
    "               'DAY_OF_MONTH' : 'category',\n",
    "               'DAY_OF_WEEK' : 'category',\n",
    "               'OP_UNIQUE_CARRIER' : 'category',\n",
    "               'ORIGIN' : 'category',\n",
    "               'DEST' : 'category',\n",
    "               'DEP_TIME_hour' : 'category',\n",
    "               'TAXI_OUT_median' : 'int64',\n",
    "               'TAXI_IN_median' : 'int64',\n",
    "               'ARR_TIME_hour' : 'category', \n",
    "               'ARR_DEL15' : 'int32', # → Target !!\n",
    "               'CRS_ELAPSED_TIME' : 'int64',\n",
    "               'DISTANCE' : 'int64',\n",
    "               'DISTANCE_GROUP' : 'category',\n",
    "               'WBAN_Origin' : 'category',\n",
    "               'WBAN_Dest' : 'category'\n",
    "               }"
   ]
  },
  {
   "cell_type": "code",
   "execution_count": 8,
   "metadata": {
    "ExecuteTime": {
     "end_time": "2021-03-02T16:46:03.087391Z",
     "start_time": "2021-03-02T16:46:03.076400Z"
    }
   },
   "outputs": [],
   "source": [
    "cols_dtypes = {\n",
    "               'MONTH' : 'string',\n",
    "               'DAY_OF_MONTH' : 'string',\n",
    "               'DAY_OF_WEEK' : 'category',\n",
    "               'OP_UNIQUE_CARRIER' : 'category',\n",
    "               'ORIGIN' : 'category',\n",
    "               'DEST' : 'category',\n",
    "               'DEP_TIME_hour' : 'string',\n",
    "               'TAXI_OUT_median' : 'int64',\n",
    "               'TAXI_IN_median' : 'int64',\n",
    "               'ARR_TIME_hour' : 'string', \n",
    "               'ARR_DEL15' : 'int32', # → Target !!\n",
    "               'CRS_ELAPSED_TIME' : 'int64',\n",
    "               'DISTANCE' : 'int64',\n",
    "               'DISTANCE_GROUP' : 'category',\n",
    "               'WBAN_Origin' : 'string',\n",
    "               'WBAN_Dest' : 'string'\n",
    "               }"
   ]
  },
  {
   "cell_type": "code",
   "execution_count": 9,
   "metadata": {
    "ExecuteTime": {
     "end_time": "2021-03-02T16:46:39.882785Z",
     "start_time": "2021-03-02T16:46:03.092388Z"
    },
    "scrolled": true
   },
   "outputs": [],
   "source": [
    "csv_path = os.path.join(root,\n",
    "                        \"Output_Data\",\n",
    "                        \"US_DoT\",\n",
    "                        \"AL_OTP_WBAN_19.csv\")\n",
    "\n",
    "OTP = pd.read_csv(csv_path,\n",
    "                  encoding='latin1',\n",
    "                  usecols=cols,\n",
    "                  dtype=cols_dtypes)"
   ]
  },
  {
   "cell_type": "markdown",
   "metadata": {},
   "source": [
    "### Adapt OTP dataset format"
   ]
  },
  {
   "cell_type": "code",
   "execution_count": 10,
   "metadata": {
    "ExecuteTime": {
     "end_time": "2021-03-02T16:46:48.901993Z",
     "start_time": "2021-03-02T16:46:39.886783Z"
    }
   },
   "outputs": [],
   "source": [
    "# It is observed that WBAN format is not always in 5-digit format due to conversion from 'int' dtype, so:\n",
    "for c in ['WBAN_Origin', 'WBAN_Dest']:\n",
    "    OTP[c] = OTP[c].apply(lambda x: ('0'+x) if len(x)==4 else x)\n",
    "# Likewise, convert months and days into 2-digit format:\n",
    "for d in ['MONTH', 'DAY_OF_MONTH']:\n",
    "    OTP[d] = OTP[d].apply(lambda x: ('0'+x) if len(x)==1 else x)"
   ]
  },
  {
   "cell_type": "markdown",
   "metadata": {},
   "source": [
    "## OTP-LCD merge"
   ]
  },
  {
   "cell_type": "markdown",
   "metadata": {},
   "source": [
    "### 1st merge: `Origin`"
   ]
  },
  {
   "cell_type": "code",
   "execution_count": 12,
   "metadata": {
    "ExecuteTime": {
     "end_time": "2021-03-02T16:47:11.452022Z",
     "start_time": "2021-03-02T16:46:49.111869Z"
    }
   },
   "outputs": [],
   "source": [
    "LCD_original_cols = LCD.columns\n",
    "# Origin merge:\n",
    "LCD.columns = LCD_original_cols.map(lambda x: str(x) + '_Origin')\n",
    "OTP_id_Origin = OTP['WBAN_Origin'] + '_' + '2019-' + OTP['MONTH'] + '-' + OTP['DAY_OF_MONTH'] + '_' + OTP['DEP_TIME_hour']\n",
    "OTP['LCD_id_Origin'] = OTP_id_Origin\n",
    "OTP_LCD_Origin = OTP.merge(LCD, how='inner', on='LCD_id_Origin', suffixes=['_OTP', '_LCD'])"
   ]
  },
  {
   "cell_type": "code",
   "execution_count": 13,
   "metadata": {
    "ExecuteTime": {
     "end_time": "2021-03-02T16:47:13.461780Z",
     "start_time": "2021-03-02T16:47:11.454027Z"
    },
    "scrolled": true
   },
   "outputs": [
    {
     "data": {
      "text/html": [
       "<div>\n",
       "<style scoped>\n",
       "    .dataframe tbody tr th:only-of-type {\n",
       "        vertical-align: middle;\n",
       "    }\n",
       "\n",
       "    .dataframe tbody tr th {\n",
       "        vertical-align: top;\n",
       "    }\n",
       "\n",
       "    .dataframe thead th {\n",
       "        text-align: right;\n",
       "    }\n",
       "</style>\n",
       "<table border=\"1\" class=\"dataframe\">\n",
       "  <thead>\n",
       "    <tr style=\"text-align: right;\">\n",
       "      <th></th>\n",
       "      <th>MONTH</th>\n",
       "      <th>DAY_OF_MONTH</th>\n",
       "      <th>DAY_OF_WEEK</th>\n",
       "      <th>OP_UNIQUE_CARRIER</th>\n",
       "      <th>ORIGIN</th>\n",
       "      <th>WBAN_Origin_OTP</th>\n",
       "      <th>DEST</th>\n",
       "      <th>WBAN_Dest</th>\n",
       "      <th>DEP_TIME_hour</th>\n",
       "      <th>TAXI_OUT_median</th>\n",
       "      <th>TAXI_IN_median</th>\n",
       "      <th>ARR_DEL15</th>\n",
       "      <th>ARR_TIME_hour</th>\n",
       "      <th>CRS_ELAPSED_TIME</th>\n",
       "      <th>DISTANCE</th>\n",
       "      <th>DISTANCE_GROUP</th>\n",
       "      <th>LCD_id_Origin</th>\n",
       "      <th>STATION_Origin</th>\n",
       "      <th>WMO_Origin</th>\n",
       "      <th>WBAN_Origin_LCD</th>\n",
       "      <th>DATE_Origin</th>\n",
       "      <th>Date_Origin</th>\n",
       "      <th>Hour_Origin</th>\n",
       "      <th>HourlyAltimeterSetting_Origin</th>\n",
       "      <th>HourlyDryBulbTemperature_Origin</th>\n",
       "      <th>HourlyPrecipitation_Origin</th>\n",
       "      <th>HourlyRelativeHumidity_Origin</th>\n",
       "      <th>HourlySkyConditions_Origin</th>\n",
       "      <th>HourlyVisibility_Origin</th>\n",
       "      <th>REM_Origin</th>\n",
       "    </tr>\n",
       "  </thead>\n",
       "  <tbody>\n",
       "    <tr>\n",
       "      <th>6409486</th>\n",
       "      <td>09</td>\n",
       "      <td>19</td>\n",
       "      <td>4</td>\n",
       "      <td>MQ</td>\n",
       "      <td>SPI</td>\n",
       "      <td>93822</td>\n",
       "      <td>DFW</td>\n",
       "      <td>03927</td>\n",
       "      <td>14</td>\n",
       "      <td>12</td>\n",
       "      <td>11</td>\n",
       "      <td>0</td>\n",
       "      <td>16</td>\n",
       "      <td>124</td>\n",
       "      <td>630</td>\n",
       "      <td>3</td>\n",
       "      <td>93822_2019-09-19_14</td>\n",
       "      <td>72439093822</td>\n",
       "      <td>724390</td>\n",
       "      <td>93822</td>\n",
       "      <td>2019-09-19 14:52:00</td>\n",
       "      <td>2019-09-19</td>\n",
       "      <td>14</td>\n",
       "      <td>30.02</td>\n",
       "      <td>87.0</td>\n",
       "      <td>0.0</td>\n",
       "      <td>50.0</td>\n",
       "      <td>CLR</td>\n",
       "      <td>10.0</td>\n",
       "      <td>MET10209/19/19 14:52:02 METAR KSPI 192052Z VRB...</td>\n",
       "    </tr>\n",
       "  </tbody>\n",
       "</table>\n",
       "</div>"
      ],
      "text/plain": [
       "        MONTH DAY_OF_MONTH DAY_OF_WEEK OP_UNIQUE_CARRIER ORIGIN  \\\n",
       "6409486    09           19           4                MQ    SPI   \n",
       "\n",
       "        WBAN_Origin_OTP DEST WBAN_Dest DEP_TIME_hour  TAXI_OUT_median  \\\n",
       "6409486           93822  DFW     03927            14               12   \n",
       "\n",
       "         TAXI_IN_median  ARR_DEL15 ARR_TIME_hour  CRS_ELAPSED_TIME  DISTANCE  \\\n",
       "6409486              11          0            16               124       630   \n",
       "\n",
       "        DISTANCE_GROUP        LCD_id_Origin STATION_Origin WMO_Origin  \\\n",
       "6409486              3  93822_2019-09-19_14    72439093822     724390   \n",
       "\n",
       "        WBAN_Origin_LCD          DATE_Origin Date_Origin Hour_Origin  \\\n",
       "6409486           93822  2019-09-19 14:52:00  2019-09-19          14   \n",
       "\n",
       "         HourlyAltimeterSetting_Origin  HourlyDryBulbTemperature_Origin  \\\n",
       "6409486                          30.02                             87.0   \n",
       "\n",
       "         HourlyPrecipitation_Origin  HourlyRelativeHumidity_Origin  \\\n",
       "6409486                         0.0                           50.0   \n",
       "\n",
       "        HourlySkyConditions_Origin  HourlyVisibility_Origin  \\\n",
       "6409486                        CLR                     10.0   \n",
       "\n",
       "                                                REM_Origin  \n",
       "6409486  MET10209/19/19 14:52:02 METAR KSPI 192052Z VRB...  "
      ]
     },
     "execution_count": 13,
     "metadata": {},
     "output_type": "execute_result"
    }
   ],
   "source": [
    "OTP_LCD_Origin.sample(1)"
   ]
  },
  {
   "cell_type": "markdown",
   "metadata": {},
   "source": [
    "### 2nd merge: `Dest`"
   ]
  },
  {
   "cell_type": "code",
   "execution_count": 14,
   "metadata": {
    "ExecuteTime": {
     "end_time": "2021-03-02T16:47:54.674550Z",
     "start_time": "2021-03-02T16:47:13.464781Z"
    },
    "scrolled": true
   },
   "outputs": [],
   "source": [
    "# Dest merge:\n",
    "LCD.columns = LCD_original_cols.map(lambda x: str(x) + '_Dest')\n",
    "OTP_id_Dest = OTP_LCD_Origin['WBAN_Dest'] + '_' + '2019-' + OTP_LCD_Origin['MONTH'] + '-' \\\n",
    "              + OTP_LCD_Origin['DAY_OF_MONTH'] + '_' + OTP_LCD_Origin['ARR_TIME_hour']\n",
    "OTP_LCD_Origin['LCD_id_Dest'] = OTP_id_Dest\n",
    "OTP_LCD = OTP_LCD_Origin.merge(LCD, how='inner', on='LCD_id_Dest', suffixes=['_OTP', '_LCD'])"
   ]
  },
  {
   "cell_type": "code",
   "execution_count": 15,
   "metadata": {
    "ExecuteTime": {
     "end_time": "2021-03-02T16:47:57.314914Z",
     "start_time": "2021-03-02T16:47:54.679547Z"
    },
    "scrolled": true
   },
   "outputs": [
    {
     "data": {
      "text/html": [
       "<div>\n",
       "<style scoped>\n",
       "    .dataframe tbody tr th:only-of-type {\n",
       "        vertical-align: middle;\n",
       "    }\n",
       "\n",
       "    .dataframe tbody tr th {\n",
       "        vertical-align: top;\n",
       "    }\n",
       "\n",
       "    .dataframe thead th {\n",
       "        text-align: right;\n",
       "    }\n",
       "</style>\n",
       "<table border=\"1\" class=\"dataframe\">\n",
       "  <thead>\n",
       "    <tr style=\"text-align: right;\">\n",
       "      <th></th>\n",
       "      <th>MONTH</th>\n",
       "      <th>DAY_OF_MONTH</th>\n",
       "      <th>DAY_OF_WEEK</th>\n",
       "      <th>OP_UNIQUE_CARRIER</th>\n",
       "      <th>ORIGIN</th>\n",
       "      <th>WBAN_Origin_OTP</th>\n",
       "      <th>DEST</th>\n",
       "      <th>WBAN_Dest_OTP</th>\n",
       "      <th>DEP_TIME_hour</th>\n",
       "      <th>TAXI_OUT_median</th>\n",
       "      <th>TAXI_IN_median</th>\n",
       "      <th>ARR_DEL15</th>\n",
       "      <th>ARR_TIME_hour</th>\n",
       "      <th>CRS_ELAPSED_TIME</th>\n",
       "      <th>DISTANCE</th>\n",
       "      <th>DISTANCE_GROUP</th>\n",
       "      <th>LCD_id_Origin</th>\n",
       "      <th>STATION_Origin</th>\n",
       "      <th>WMO_Origin</th>\n",
       "      <th>WBAN_Origin_LCD</th>\n",
       "      <th>DATE_Origin</th>\n",
       "      <th>Date_Origin</th>\n",
       "      <th>Hour_Origin</th>\n",
       "      <th>HourlyAltimeterSetting_Origin</th>\n",
       "      <th>HourlyDryBulbTemperature_Origin</th>\n",
       "      <th>HourlyPrecipitation_Origin</th>\n",
       "      <th>HourlyRelativeHumidity_Origin</th>\n",
       "      <th>HourlySkyConditions_Origin</th>\n",
       "      <th>HourlyVisibility_Origin</th>\n",
       "      <th>REM_Origin</th>\n",
       "      <th>LCD_id_Dest</th>\n",
       "      <th>STATION_Dest</th>\n",
       "      <th>WMO_Dest</th>\n",
       "      <th>WBAN_Dest_LCD</th>\n",
       "      <th>DATE_Dest</th>\n",
       "      <th>Date_Dest</th>\n",
       "      <th>Hour_Dest</th>\n",
       "      <th>HourlyAltimeterSetting_Dest</th>\n",
       "      <th>HourlyDryBulbTemperature_Dest</th>\n",
       "      <th>HourlyPrecipitation_Dest</th>\n",
       "      <th>HourlyRelativeHumidity_Dest</th>\n",
       "      <th>HourlySkyConditions_Dest</th>\n",
       "      <th>HourlyVisibility_Dest</th>\n",
       "      <th>REM_Dest</th>\n",
       "    </tr>\n",
       "  </thead>\n",
       "  <tbody>\n",
       "    <tr>\n",
       "      <th>2806507</th>\n",
       "      <td>08</td>\n",
       "      <td>05</td>\n",
       "      <td>1</td>\n",
       "      <td>B6</td>\n",
       "      <td>JFK</td>\n",
       "      <td>94789</td>\n",
       "      <td>LGB</td>\n",
       "      <td>23129</td>\n",
       "      <td>17</td>\n",
       "      <td>20</td>\n",
       "      <td>4</td>\n",
       "      <td>1</td>\n",
       "      <td>20</td>\n",
       "      <td>384</td>\n",
       "      <td>2465</td>\n",
       "      <td>10</td>\n",
       "      <td>94789_2019-08-05_17</td>\n",
       "      <td>74486094789</td>\n",
       "      <td>744860</td>\n",
       "      <td>94789</td>\n",
       "      <td>2019-08-05 17:51:00</td>\n",
       "      <td>2019-08-05</td>\n",
       "      <td>17</td>\n",
       "      <td>29.96</td>\n",
       "      <td>75.0</td>\n",
       "      <td>0.0</td>\n",
       "      <td>84.0</td>\n",
       "      <td>BKN</td>\n",
       "      <td>10.0</td>\n",
       "      <td>MET10508/05/19 17:51:02 METAR KJFK 052251Z 120...</td>\n",
       "      <td>23129_2019-08-05_20</td>\n",
       "      <td>72297023129</td>\n",
       "      <td>722970</td>\n",
       "      <td>23129</td>\n",
       "      <td>2019-08-05 20:53:00</td>\n",
       "      <td>2019-08-05</td>\n",
       "      <td>20</td>\n",
       "      <td>29.9</td>\n",
       "      <td>72.0</td>\n",
       "      <td>0.0</td>\n",
       "      <td>66.0</td>\n",
       "      <td>CLR</td>\n",
       "      <td>10.0</td>\n",
       "      <td>MET09208/05/19 20:53:02 METAR KLGB 060453Z 320...</td>\n",
       "    </tr>\n",
       "  </tbody>\n",
       "</table>\n",
       "</div>"
      ],
      "text/plain": [
       "        MONTH DAY_OF_MONTH DAY_OF_WEEK OP_UNIQUE_CARRIER ORIGIN  \\\n",
       "2806507    08           05           1                B6    JFK   \n",
       "\n",
       "        WBAN_Origin_OTP DEST WBAN_Dest_OTP DEP_TIME_hour  TAXI_OUT_median  \\\n",
       "2806507           94789  LGB         23129            17               20   \n",
       "\n",
       "         TAXI_IN_median  ARR_DEL15 ARR_TIME_hour  CRS_ELAPSED_TIME  DISTANCE  \\\n",
       "2806507               4          1            20               384      2465   \n",
       "\n",
       "        DISTANCE_GROUP        LCD_id_Origin STATION_Origin WMO_Origin  \\\n",
       "2806507             10  94789_2019-08-05_17    74486094789     744860   \n",
       "\n",
       "        WBAN_Origin_LCD          DATE_Origin Date_Origin Hour_Origin  \\\n",
       "2806507           94789  2019-08-05 17:51:00  2019-08-05          17   \n",
       "\n",
       "         HourlyAltimeterSetting_Origin  HourlyDryBulbTemperature_Origin  \\\n",
       "2806507                          29.96                             75.0   \n",
       "\n",
       "         HourlyPrecipitation_Origin  HourlyRelativeHumidity_Origin  \\\n",
       "2806507                         0.0                           84.0   \n",
       "\n",
       "        HourlySkyConditions_Origin  HourlyVisibility_Origin  \\\n",
       "2806507                        BKN                     10.0   \n",
       "\n",
       "                                                REM_Origin  \\\n",
       "2806507  MET10508/05/19 17:51:02 METAR KJFK 052251Z 120...   \n",
       "\n",
       "                 LCD_id_Dest STATION_Dest WMO_Dest WBAN_Dest_LCD  \\\n",
       "2806507  23129_2019-08-05_20  72297023129   722970         23129   \n",
       "\n",
       "                   DATE_Dest   Date_Dest Hour_Dest  \\\n",
       "2806507  2019-08-05 20:53:00  2019-08-05        20   \n",
       "\n",
       "         HourlyAltimeterSetting_Dest  HourlyDryBulbTemperature_Dest  \\\n",
       "2806507                         29.9                           72.0   \n",
       "\n",
       "         HourlyPrecipitation_Dest  HourlyRelativeHumidity_Dest  \\\n",
       "2806507                       0.0                         66.0   \n",
       "\n",
       "        HourlySkyConditions_Dest  HourlyVisibility_Dest  \\\n",
       "2806507                      CLR                   10.0   \n",
       "\n",
       "                                                  REM_Dest  \n",
       "2806507  MET09208/05/19 20:53:02 METAR KLGB 060453Z 320...  "
      ]
     },
     "execution_count": 15,
     "metadata": {},
     "output_type": "execute_result"
    }
   ],
   "source": [
    "OTP_LCD.sample(1)"
   ]
  },
  {
   "cell_type": "markdown",
   "metadata": {},
   "source": [
    "### Final points before exporting"
   ]
  },
  {
   "cell_type": "code",
   "execution_count": 16,
   "metadata": {
    "ExecuteTime": {
     "end_time": "2021-03-02T16:47:57.329903Z",
     "start_time": "2021-03-02T16:47:57.318909Z"
    }
   },
   "outputs": [
    {
     "name": "stdout",
     "output_type": "stream",
     "text": [
      "OTP dataset number of flights : 7208372\n",
      "OTP-LCD dataset number of flights : 7200051 (0.12% dropped)\n"
     ]
    }
   ],
   "source": [
    "# Check how many flights have been lost throughout the merging process:\n",
    "print(\"OTP dataset number of flights : {}\".format(len(OTP)))\n",
    "print(\"OTP-LCD dataset number of flights : {} ({:4.2f}% dropped)\".format(len(OTP_LCD),\n",
    "                                                                         (len(OTP) - len(OTP_LCD)) * 100 / len(OTP)))"
   ]
  },
  {
   "cell_type": "code",
   "execution_count": 17,
   "metadata": {
    "ExecuteTime": {
     "end_time": "2021-03-02T16:47:59.742276Z",
     "start_time": "2021-03-02T16:47:57.334901Z"
    },
    "scrolled": true
   },
   "outputs": [
    {
     "data": {
      "text/html": [
       "<div>\n",
       "<style scoped>\n",
       "    .dataframe tbody tr th:only-of-type {\n",
       "        vertical-align: middle;\n",
       "    }\n",
       "\n",
       "    .dataframe tbody tr th {\n",
       "        vertical-align: top;\n",
       "    }\n",
       "\n",
       "    .dataframe thead th {\n",
       "        text-align: right;\n",
       "    }\n",
       "</style>\n",
       "<table border=\"1\" class=\"dataframe\">\n",
       "  <thead>\n",
       "    <tr style=\"text-align: right;\">\n",
       "      <th></th>\n",
       "      <th>MONTH</th>\n",
       "      <th>DAY_OF_MONTH</th>\n",
       "      <th>DAY_OF_WEEK</th>\n",
       "      <th>OP_UNIQUE_CARRIER</th>\n",
       "      <th>ORIGIN</th>\n",
       "      <th>WBAN_Origin_OTP</th>\n",
       "      <th>DEST</th>\n",
       "      <th>WBAN_Dest_OTP</th>\n",
       "      <th>DEP_TIME_hour</th>\n",
       "      <th>TAXI_OUT_median</th>\n",
       "      <th>TAXI_IN_median</th>\n",
       "      <th>ARR_DEL15</th>\n",
       "      <th>ARR_TIME_hour</th>\n",
       "      <th>CRS_ELAPSED_TIME</th>\n",
       "      <th>DISTANCE</th>\n",
       "      <th>DISTANCE_GROUP</th>\n",
       "      <th>STATION_Origin</th>\n",
       "      <th>WMO_Origin</th>\n",
       "      <th>WBAN_Origin_LCD</th>\n",
       "      <th>HourlyAltimeterSetting_Origin</th>\n",
       "      <th>HourlyDryBulbTemperature_Origin</th>\n",
       "      <th>HourlyPrecipitation_Origin</th>\n",
       "      <th>HourlyRelativeHumidity_Origin</th>\n",
       "      <th>HourlySkyConditions_Origin</th>\n",
       "      <th>HourlyVisibility_Origin</th>\n",
       "      <th>REM_Origin</th>\n",
       "      <th>STATION_Dest</th>\n",
       "      <th>WMO_Dest</th>\n",
       "      <th>WBAN_Dest_LCD</th>\n",
       "      <th>HourlyAltimeterSetting_Dest</th>\n",
       "      <th>HourlyDryBulbTemperature_Dest</th>\n",
       "      <th>HourlyPrecipitation_Dest</th>\n",
       "      <th>HourlyRelativeHumidity_Dest</th>\n",
       "      <th>HourlySkyConditions_Dest</th>\n",
       "      <th>HourlyVisibility_Dest</th>\n",
       "      <th>REM_Dest</th>\n",
       "    </tr>\n",
       "  </thead>\n",
       "  <tbody>\n",
       "    <tr>\n",
       "      <th>5758194</th>\n",
       "      <td>06</td>\n",
       "      <td>12</td>\n",
       "      <td>3</td>\n",
       "      <td>MQ</td>\n",
       "      <td>DFW</td>\n",
       "      <td>03927</td>\n",
       "      <td>CMI</td>\n",
       "      <td>94870</td>\n",
       "      <td>18</td>\n",
       "      <td>19</td>\n",
       "      <td>4</td>\n",
       "      <td>0</td>\n",
       "      <td>20</td>\n",
       "      <td>124</td>\n",
       "      <td>692</td>\n",
       "      <td>3</td>\n",
       "      <td>72259003927</td>\n",
       "      <td>722590</td>\n",
       "      <td>03927</td>\n",
       "      <td>29.98</td>\n",
       "      <td>84.0</td>\n",
       "      <td>0.0</td>\n",
       "      <td>38.0</td>\n",
       "      <td>(missing)</td>\n",
       "      <td>9.94</td>\n",
       "      <td>SYN08672259 32766 20112 10289 20133 39941 4014...</td>\n",
       "      <td>72531594870</td>\n",
       "      <td>725315</td>\n",
       "      <td>94870</td>\n",
       "      <td>29.82</td>\n",
       "      <td>58.0</td>\n",
       "      <td>0.0</td>\n",
       "      <td>93.0</td>\n",
       "      <td>OVC</td>\n",
       "      <td>10.0</td>\n",
       "      <td>MET13506/12/19 20:53:01 METAR KCMI 130253Z 210...</td>\n",
       "    </tr>\n",
       "  </tbody>\n",
       "</table>\n",
       "</div>"
      ],
      "text/plain": [
       "        MONTH DAY_OF_MONTH DAY_OF_WEEK OP_UNIQUE_CARRIER ORIGIN  \\\n",
       "5758194    06           12           3                MQ    DFW   \n",
       "\n",
       "        WBAN_Origin_OTP DEST WBAN_Dest_OTP DEP_TIME_hour  TAXI_OUT_median  \\\n",
       "5758194           03927  CMI         94870            18               19   \n",
       "\n",
       "         TAXI_IN_median  ARR_DEL15 ARR_TIME_hour  CRS_ELAPSED_TIME  DISTANCE  \\\n",
       "5758194               4          0            20               124       692   \n",
       "\n",
       "        DISTANCE_GROUP STATION_Origin WMO_Origin WBAN_Origin_LCD  \\\n",
       "5758194              3    72259003927     722590           03927   \n",
       "\n",
       "         HourlyAltimeterSetting_Origin  HourlyDryBulbTemperature_Origin  \\\n",
       "5758194                          29.98                             84.0   \n",
       "\n",
       "         HourlyPrecipitation_Origin  HourlyRelativeHumidity_Origin  \\\n",
       "5758194                         0.0                           38.0   \n",
       "\n",
       "        HourlySkyConditions_Origin  HourlyVisibility_Origin  \\\n",
       "5758194                  (missing)                     9.94   \n",
       "\n",
       "                                                REM_Origin STATION_Dest  \\\n",
       "5758194  SYN08672259 32766 20112 10289 20133 39941 4014...  72531594870   \n",
       "\n",
       "        WMO_Dest WBAN_Dest_LCD  HourlyAltimeterSetting_Dest  \\\n",
       "5758194   725315         94870                        29.82   \n",
       "\n",
       "         HourlyDryBulbTemperature_Dest  HourlyPrecipitation_Dest  \\\n",
       "5758194                           58.0                       0.0   \n",
       "\n",
       "         HourlyRelativeHumidity_Dest HourlySkyConditions_Dest  \\\n",
       "5758194                         93.0                      OVC   \n",
       "\n",
       "         HourlyVisibility_Dest  \\\n",
       "5758194                   10.0   \n",
       "\n",
       "                                                  REM_Dest  \n",
       "5758194  MET13506/12/19 20:53:01 METAR KCMI 130253Z 210...  "
      ]
     },
     "execution_count": 17,
     "metadata": {},
     "output_type": "execute_result"
    }
   ],
   "source": [
    "# Drop redundant columns:\n",
    "drop_cols = ['LCD_id_Origin', 'DATE_Origin', 'Date_Origin', 'Hour_Origin', 'LCD_id_Dest', 'DATE_Dest', 'Date_Dest', 'Hour_Dest']\n",
    "OTP_LCD.drop(drop_cols, axis=1, inplace=True)\n",
    "OTP_LCD.sample(1)"
   ]
  },
  {
   "cell_type": "markdown",
   "metadata": {},
   "source": [
    "___"
   ]
  },
  {
   "cell_type": "markdown",
   "metadata": {},
   "source": [
    "## Export resulting DF into CSV file"
   ]
  },
  {
   "cell_type": "code",
   "execution_count": 18,
   "metadata": {
    "ExecuteTime": {
     "end_time": "2021-03-02T16:47:59.758264Z",
     "start_time": "2021-03-02T16:47:59.746272Z"
    }
   },
   "outputs": [
    {
     "name": "stdout",
     "output_type": "stream",
     "text": [
      "File 'OTP_LCD_allColumns.csv' already exists.\n",
      "No file has been generated (previous one remains).\n"
     ]
    }
   ],
   "source": [
    "output_csv_dir = os.path.join(root,\n",
    "                              \"Output_Data\",\n",
    "                              \"US_DoT-NOAA\")\n",
    "file_name = \"OTP_LCD_allColumns.csv\"\n",
    "\n",
    "if file_name not in os.listdir(output_csv_dir):\n",
    "    # Save such DataFrame into a CSV file (only once):\n",
    "    OTP_LCD.to_csv(path_or_buf=os.path.join(output_csv_dir, file_name),\n",
    "                   index=False,\n",
    "                   encoding='latin1')\n",
    "    print(\"File '\" + file_name + \"' has been generated.\")\n",
    "else:    \n",
    "    print(\"File '\" + file_name + \"' already exists.\\nNo file has been generated (previous one remains).\")"
   ]
  },
  {
   "cell_type": "markdown",
   "metadata": {},
   "source": [
    "___"
   ]
  },
  {
   "cell_type": "code",
   "execution_count": 19,
   "metadata": {
    "ExecuteTime": {
     "end_time": "2021-03-02T16:47:59.774255Z",
     "start_time": "2021-03-02T16:47:59.762262Z"
    }
   },
   "outputs": [
    {
     "name": "stdout",
     "output_type": "stream",
     "text": [
      "Time elapsed:  143.8933288\n"
     ]
    }
   ],
   "source": [
    "t1 = time.perf_counter() - t0\n",
    "print(\"Time elapsed: \", t1) # CPU seconds elapsed (floating point)"
   ]
  },
  {
   "cell_type": "raw",
   "metadata": {},
   "source": [
    "Time elapsed:  143.8933288"
   ]
  },
  {
   "cell_type": "markdown",
   "metadata": {},
   "source": [
    "___"
   ]
  }
 ],
 "metadata": {
  "hide_input": false,
  "kernelspec": {
   "display_name": "Python 3",
   "language": "python",
   "name": "python3"
  },
  "language_info": {
   "codemirror_mode": {
    "name": "ipython",
    "version": 3
   },
   "file_extension": ".py",
   "mimetype": "text/x-python",
   "name": "python",
   "nbconvert_exporter": "python",
   "pygments_lexer": "ipython3",
   "version": "3.8.5"
  },
  "toc": {
   "base_numbering": 1,
   "nav_menu": {},
   "number_sections": true,
   "sideBar": true,
   "skip_h1_title": false,
   "title_cell": "Table of Contents",
   "title_sidebar": "Contents",
   "toc_cell": false,
   "toc_position": {
    "height": "calc(100% - 180px)",
    "left": "10px",
    "top": "150px",
    "width": "384px"
   },
   "toc_section_display": true,
   "toc_window_display": true
  },
  "varInspector": {
   "cols": {
    "lenName": 16,
    "lenType": 16,
    "lenVar": 40
   },
   "kernels_config": {
    "python": {
     "delete_cmd_postfix": "",
     "delete_cmd_prefix": "del ",
     "library": "var_list.py",
     "varRefreshCmd": "print(var_dic_list())"
    },
    "r": {
     "delete_cmd_postfix": ") ",
     "delete_cmd_prefix": "rm(",
     "library": "var_list.r",
     "varRefreshCmd": "cat(var_dic_list()) "
    }
   },
   "position": {
    "height": "817px",
    "left": "1550px",
    "right": "20px",
    "top": "114px",
    "width": "350px"
   },
   "types_to_exclude": [
    "module",
    "function",
    "builtin_function_or_method",
    "instance",
    "_Feature"
   ],
   "window_display": true
  }
 },
 "nbformat": 4,
 "nbformat_minor": 4
}
