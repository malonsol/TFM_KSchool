{
 "cells": [
  {
   "cell_type": "code",
   "execution_count": 1,
   "metadata": {
    "ExecuteTime": {
     "end_time": "2021-03-01T18:45:20.226930Z",
     "start_time": "2021-03-01T18:45:18.103942Z"
    }
   },
   "outputs": [],
   "source": [
    "# Import libraries to be used\n",
    "\n",
    "# Warning messages display\n",
    "## import warnings\n",
    "## warnings.filterwarnings(action='ignore') # https://docs.python.org/3/library/warnings.html#the-warnings-filter\n",
    "\n",
    "# Directories/Files management\n",
    "import os.path\n",
    "## from zipfile import ZipFile # De momento no ha hecho falta \n",
    "\n",
    "# Timing\n",
    "import time\n",
    "\n",
    "# Memory monitoring\n",
    "%load_ext memory_profiler\n",
    "### Use '%memit' to check at each point\n",
    "\n",
    "# Data analysis and wrangling\n",
    "import pandas as pd\n",
    "import numpy as np\n",
    "pd.set_option('display.max_columns', None) # Show all columns in DataFrames\n",
    "## pd.set_option('display.max_rows', None) # It greatly slows down the output display and freezes the kernel\n",
    "\n",
    "# Visualization\n",
    "import matplotlib.pyplot as plt\n",
    "import seaborn as sns\n",
    "%matplotlib inline\n",
    "plt.style.use('ggplot') # choose a style: 'plt.style.available'\n",
    "sns.set_theme(context='notebook',\n",
    "              style=\"darkgrid\") # {darkgrid, whitegrid, dark, white, ticks}\n",
    "palette = sns.color_palette(\"flare\", as_cmap=True);\n",
    "import altair as alt\n",
    "\n",
    "# Machine Learning\n",
    "## from sklearn.[...] import ..."
   ]
  },
  {
   "cell_type": "code",
   "execution_count": 2,
   "metadata": {
    "ExecuteTime": {
     "end_time": "2021-03-01T18:45:20.242866Z",
     "start_time": "2021-03-01T18:45:20.226930Z"
    }
   },
   "outputs": [],
   "source": [
    "t0 = time.perf_counter() "
   ]
  },
  {
   "cell_type": "code",
   "execution_count": 3,
   "metadata": {
    "ExecuteTime": {
     "end_time": "2021-03-01T18:45:20.258857Z",
     "start_time": "2021-03-01T18:45:20.247865Z"
    },
    "scrolled": true
   },
   "outputs": [
    {
     "name": "stdout",
     "output_type": "stream",
     "text": [
      "Running on Windows.\n",
      "root path\t C:\\Users\\turge\\CompartidoVM\\0.TFM\n"
     ]
    }
   ],
   "source": [
    "# Detect Operating System running and manage paths accordingly\n",
    "\n",
    "if os.name == 'nt': # Windows\n",
    "    root = r\"C:\\Users\\turge\\CompartidoVM\\0.TFM\"\n",
    "    print(\"Running on Windows.\")\n",
    "elif os.name == 'posix': # Ubuntu\n",
    "    root = \"/home/dsc/shared/0.TFM\"\n",
    "    print(\"Running on Ubuntu.\")\n",
    "print(\"root path\\t\", root)"
   ]
  },
  {
   "cell_type": "markdown",
   "metadata": {},
   "source": [
    "Additional information on each column meaning can be found [here](https://www.ncei.noaa.gov/data/local-climatological-data/doc/LCD_documentation.pLCD)."
   ]
  },
  {
   "cell_type": "markdown",
   "metadata": {},
   "source": [
    "___"
   ]
  },
  {
   "cell_type": "markdown",
   "metadata": {},
   "source": [
    "# Get the data"
   ]
  },
  {
   "cell_type": "markdown",
   "metadata": {},
   "source": [
    "## LCD clean file (2019)"
   ]
  },
  {
   "cell_type": "markdown",
   "metadata": {},
   "source": [
    "### Import file"
   ]
  },
  {
   "cell_type": "markdown",
   "metadata": {},
   "source": [
    "#### Define file path"
   ]
  },
  {
   "cell_type": "code",
   "execution_count": 55,
   "metadata": {
    "ExecuteTime": {
     "end_time": "2021-03-01T19:20:00.776774Z",
     "start_time": "2021-03-01T19:19:44.324626Z"
    }
   },
   "outputs": [],
   "source": [
    "output_csv_dir = os.path.join(root,\n",
    "                              \"Output_Data\",\n",
    "                              \"NOAA\",\n",
    "                              \"LCD_AllStations\")\n",
    "\n",
    "file_name = \"LCD_all_clean.csv\"\n",
    "\n",
    "LCD = pd.read_csv(os.path.join(output_csv_dir, file_name),\n",
    "                  encoding='latin1',\n",
    "                  dtype = {\n",
    "                           'STATION' : 'string',\n",
    "                           'WMO' : 'string',\n",
    "                           'WBAN' : 'string',\n",
    "                           'DATE' : 'string',\n",
    "                           'Date' : 'string',\n",
    "                           'Hour' : 'string',\n",
    "                           'HourlyAltimeterSetting' : 'float64',\n",
    "                           'HourlyDryBulbTemperature' : 'float64',\n",
    "                           'HourlyPrecipitation' : 'float64',\n",
    "                           'HourlyRelativeHumidity' : 'float64', \n",
    "                           'HourlySkyConditions' : 'string',\n",
    "                           'HourlyVisibility' : 'float64',\n",
    "                           'REM' : 'string'\n",
    "                           }\n",
    "                 )"
   ]
  },
  {
   "cell_type": "code",
   "execution_count": 5,
   "metadata": {
    "ExecuteTime": {
     "end_time": "2021-03-01T18:45:35.540575Z",
     "start_time": "2021-03-01T18:45:35.254159Z"
    },
    "scrolled": false
   },
   "outputs": [
    {
     "data": {
      "text/html": [
       "<div>\n",
       "<style scoped>\n",
       "    .dataframe tbody tr th:only-of-type {\n",
       "        vertical-align: middle;\n",
       "    }\n",
       "\n",
       "    .dataframe tbody tr th {\n",
       "        vertical-align: top;\n",
       "    }\n",
       "\n",
       "    .dataframe thead th {\n",
       "        text-align: right;\n",
       "    }\n",
       "</style>\n",
       "<table border=\"1\" class=\"dataframe\">\n",
       "  <thead>\n",
       "    <tr style=\"text-align: right;\">\n",
       "      <th></th>\n",
       "      <th>STATION</th>\n",
       "      <th>WMO</th>\n",
       "      <th>WBAN</th>\n",
       "      <th>DATE</th>\n",
       "      <th>Date</th>\n",
       "      <th>Hour</th>\n",
       "      <th>HourlyAltimeterSetting</th>\n",
       "      <th>HourlyDryBulbTemperature</th>\n",
       "      <th>HourlyPrecipitation</th>\n",
       "      <th>HourlyRelativeHumidity</th>\n",
       "      <th>HourlySkyConditions</th>\n",
       "      <th>HourlyVisibility</th>\n",
       "      <th>REM</th>\n",
       "    </tr>\n",
       "  </thead>\n",
       "  <tbody>\n",
       "    <tr>\n",
       "      <th>1130166</th>\n",
       "      <td>74756012816</td>\n",
       "      <td>747560</td>\n",
       "      <td>12816</td>\n",
       "      <td>2019-07-30 11:53:00</td>\n",
       "      <td>2019-07-30</td>\n",
       "      <td>11</td>\n",
       "      <td>30.08</td>\n",
       "      <td>88.0</td>\n",
       "      <td>0.0</td>\n",
       "      <td>52.0</td>\n",
       "      <td>CLR</td>\n",
       "      <td>10.0</td>\n",
       "      <td>MET09507/30/19 11:53:02 METAR KGNV 301653Z VRB...</td>\n",
       "    </tr>\n",
       "    <tr>\n",
       "      <th>1746302</th>\n",
       "      <td>72637914845</td>\n",
       "      <td>726379</td>\n",
       "      <td>14845</td>\n",
       "      <td>2019-05-09 12:01:00</td>\n",
       "      <td>2019-05-09</td>\n",
       "      <td>12</td>\n",
       "      <td>29.68</td>\n",
       "      <td>62.0</td>\n",
       "      <td>0.0</td>\n",
       "      <td>96.0</td>\n",
       "      <td>OVC</td>\n",
       "      <td>8.0</td>\n",
       "      <td>MET10905/09/19 12:01:02 SPECI KMBS 091701Z 210...</td>\n",
       "    </tr>\n",
       "    <tr>\n",
       "      <th>880040</th>\n",
       "      <td>72643514991</td>\n",
       "      <td>726435</td>\n",
       "      <td>14991</td>\n",
       "      <td>2019-01-03 03:10:00</td>\n",
       "      <td>2019-01-03</td>\n",
       "      <td>3</td>\n",
       "      <td>29.88</td>\n",
       "      <td>25.0</td>\n",
       "      <td>0.0</td>\n",
       "      <td>78.0</td>\n",
       "      <td>OVC</td>\n",
       "      <td>10.0</td>\n",
       "      <td>MET08801/03/19 03:10:02 SPECI KEAU 030910Z 210...</td>\n",
       "    </tr>\n",
       "    <tr>\n",
       "      <th>1390821</th>\n",
       "      <td>72302013748</td>\n",
       "      <td>723020</td>\n",
       "      <td>13748</td>\n",
       "      <td>2019-06-13 06:08:00</td>\n",
       "      <td>2019-06-13</td>\n",
       "      <td>6</td>\n",
       "      <td>29.87</td>\n",
       "      <td>73.0</td>\n",
       "      <td>0.0</td>\n",
       "      <td>84.0</td>\n",
       "      <td>OVC</td>\n",
       "      <td>10.0</td>\n",
       "      <td>MET09306/13/19 06:08:02 SPECI KILM 131108Z 250...</td>\n",
       "    </tr>\n",
       "    <tr>\n",
       "      <th>524452</th>\n",
       "      <td>72475593129</td>\n",
       "      <td>724755</td>\n",
       "      <td>93129</td>\n",
       "      <td>2019-04-13 16:53:00</td>\n",
       "      <td>2019-04-13</td>\n",
       "      <td>16</td>\n",
       "      <td>30.03</td>\n",
       "      <td>55.0</td>\n",
       "      <td>0.0</td>\n",
       "      <td>35.0</td>\n",
       "      <td>CLR</td>\n",
       "      <td>10.0</td>\n",
       "      <td>MET10904/13/19 16:53:02 METAR KCDC 132353Z 310...</td>\n",
       "    </tr>\n",
       "  </tbody>\n",
       "</table>\n",
       "</div>"
      ],
      "text/plain": [
       "             STATION     WMO   WBAN                 DATE        Date  Hour  \\\n",
       "1130166  74756012816  747560  12816  2019-07-30 11:53:00  2019-07-30    11   \n",
       "1746302  72637914845  726379  14845  2019-05-09 12:01:00  2019-05-09    12   \n",
       "880040   72643514991  726435  14991  2019-01-03 03:10:00  2019-01-03     3   \n",
       "1390821  72302013748  723020  13748  2019-06-13 06:08:00  2019-06-13     6   \n",
       "524452   72475593129  724755  93129  2019-04-13 16:53:00  2019-04-13    16   \n",
       "\n",
       "         HourlyAltimeterSetting  HourlyDryBulbTemperature  \\\n",
       "1130166                   30.08                      88.0   \n",
       "1746302                   29.68                      62.0   \n",
       "880040                    29.88                      25.0   \n",
       "1390821                   29.87                      73.0   \n",
       "524452                    30.03                      55.0   \n",
       "\n",
       "         HourlyPrecipitation  HourlyRelativeHumidity HourlySkyConditions  \\\n",
       "1130166                  0.0                    52.0                 CLR   \n",
       "1746302                  0.0                    96.0                 OVC   \n",
       "880040                   0.0                    78.0                 OVC   \n",
       "1390821                  0.0                    84.0                 OVC   \n",
       "524452                   0.0                    35.0                 CLR   \n",
       "\n",
       "         HourlyVisibility                                                REM  \n",
       "1130166              10.0  MET09507/30/19 11:53:02 METAR KGNV 301653Z VRB...  \n",
       "1746302               8.0  MET10905/09/19 12:01:02 SPECI KMBS 091701Z 210...  \n",
       "880040               10.0  MET08801/03/19 03:10:02 SPECI KEAU 030910Z 210...  \n",
       "1390821              10.0  MET09306/13/19 06:08:02 SPECI KILM 131108Z 250...  \n",
       "524452               10.0  MET10904/13/19 16:53:02 METAR KCDC 132353Z 310...  "
      ]
     },
     "execution_count": 5,
     "metadata": {},
     "output_type": "execute_result"
    }
   ],
   "source": [
    "LCD.sample(5)"
   ]
  },
  {
   "cell_type": "code",
   "execution_count": 138,
   "metadata": {
    "ExecuteTime": {
     "end_time": "2021-03-01T20:06:09.379364Z",
     "start_time": "2021-03-01T20:06:00.630419Z"
    }
   },
   "outputs": [],
   "source": [
    "LCD_year = LCD['Date'].str[:4]\n",
    "LCD_month = LCD['Date'].str[5:7]\n",
    "LCD_day = LCD['Date'].str[8:10]\n",
    "LCD_id = LCD['WBAN'] + '_' + LCD_year + '-' + LCD_month + '-' + LCD_day + '_' + LCD['Hour']\n",
    "LCD['LCD_id'] = LCD_id\n",
    "LCD.sample(5)"
   ]
  },
  {
   "cell_type": "markdown",
   "metadata": {},
   "source": [
    "## OTP-LCD merge"
   ]
  },
  {
   "cell_type": "markdown",
   "metadata": {},
   "source": [
    "### Import OTP dataset"
   ]
  },
  {
   "cell_type": "code",
   "execution_count": 56,
   "metadata": {
    "ExecuteTime": {
     "end_time": "2021-03-01T19:21:58.239195Z",
     "start_time": "2021-03-01T19:21:58.235197Z"
    }
   },
   "outputs": [],
   "source": [
    "cols = [\n",
    "     'MONTH',\n",
    "     'DAY_OF_MONTH',\n",
    "     'DAY_OF_WEEK',\n",
    "     'OP_UNIQUE_CARRIER',\n",
    "     'ORIGIN',\n",
    "     'WBAN_Origin',\n",
    "     'DEST',\n",
    "     'WBAN_Dest',\n",
    "     'DEP_TIME_hour',\n",
    "     'ARR_TIME_hour',\n",
    "     'TAXI_OUT_median',\n",
    "     'TAXI_IN_median',\n",
    "     'ARR_DEL15',\n",
    "     'CRS_ELAPSED_TIME',\n",
    "     'DISTANCE',\n",
    "     'DISTANCE_GROUP'\n",
    "]"
   ]
  },
  {
   "cell_type": "raw",
   "metadata": {
    "ExecuteTime": {
     "end_time": "2021-02-25T18:26:20.069820Z",
     "start_time": "2021-02-25T18:26:20.061825Z"
    }
   },
   "source": [
    "cols_dtypes = {\n",
    "               'MONTH' : 'category',\n",
    "               'DAY_OF_MONTH' : 'category',\n",
    "               'DAY_OF_WEEK' : 'category',\n",
    "               'OP_UNIQUE_CARRIER' : 'category',\n",
    "               'ORIGIN' : 'category',\n",
    "               'DEST' : 'category',\n",
    "               'DEP_TIME_hour' : 'category',\n",
    "               'TAXI_OUT_median' : 'int64',\n",
    "               'TAXI_IN_median' : 'int64',\n",
    "               'ARR_TIME_hour' : 'category', \n",
    "               'ARR_DEL15' : 'int32', # → Target !!\n",
    "               'CRS_ELAPSED_TIME' : 'int64',\n",
    "               'DISTANCE' : 'int64',\n",
    "               'DISTANCE_GROUP' : 'category',\n",
    "               'WBAN_Origin' : 'category',\n",
    "               'WBAN_Dest' : 'category'\n",
    "               }"
   ]
  },
  {
   "cell_type": "code",
   "execution_count": 57,
   "metadata": {
    "ExecuteTime": {
     "end_time": "2021-03-01T19:21:59.593132Z",
     "start_time": "2021-03-01T19:21:59.586136Z"
    }
   },
   "outputs": [],
   "source": [
    "cols_dtypes = {\n",
    "               'MONTH' : 'string',\n",
    "               'DAY_OF_MONTH' : 'string',\n",
    "               'DAY_OF_WEEK' : 'category',\n",
    "               'OP_UNIQUE_CARRIER' : 'category',\n",
    "               'ORIGIN' : 'category',\n",
    "               'DEST' : 'category',\n",
    "               'DEP_TIME_hour' : 'string',\n",
    "               'TAXI_OUT_median' : 'int64',\n",
    "               'TAXI_IN_median' : 'int64',\n",
    "               'ARR_TIME_hour' : 'string', \n",
    "               'ARR_DEL15' : 'int32', # → Target !!\n",
    "               'CRS_ELAPSED_TIME' : 'int64',\n",
    "               'DISTANCE' : 'int64',\n",
    "               'DISTANCE_GROUP' : 'category',\n",
    "               'WBAN_Origin' : 'string',\n",
    "               'WBAN_Dest' : 'string'\n",
    "               }"
   ]
  },
  {
   "cell_type": "code",
   "execution_count": 58,
   "metadata": {
    "ExecuteTime": {
     "end_time": "2021-03-01T19:22:30.496787Z",
     "start_time": "2021-03-01T19:22:03.860129Z"
    },
    "scrolled": true
   },
   "outputs": [],
   "source": [
    "csv_path = os.path.join(root,\n",
    "                        \"Output_Data\",\n",
    "                        \"US_DoT\",\n",
    "                        \"AL_OTP_WBAN_19.csv\")\n",
    "\n",
    "OTP = pd.read_csv(csv_path,\n",
    "                  encoding='latin1',\n",
    "                  usecols=cols,\n",
    "                  dtype=cols_dtypes)"
   ]
  },
  {
   "cell_type": "code",
   "execution_count": 112,
   "metadata": {
    "ExecuteTime": {
     "end_time": "2021-03-01T19:59:38.468878Z",
     "start_time": "2021-03-01T19:59:31.203334Z"
    }
   },
   "outputs": [],
   "source": [
    "# It is observed that WBAN format is not always in 5-digit format due to conversion from 'int' dtype, so:\n",
    "for c in ['WBAN_Origin', 'WBAN_Dest']:\n",
    "    OTP[c] = OTP[c].apply(lambda x: ('0'+x) if len(x)==4 else x)\n",
    "# Likewise, convert months and days into 2-digit format:\n",
    "for d in ['MONTH', 'DAY_OF_MONTH']:\n",
    "    OTP[d] = OTP[d].apply(lambda x: ('0'+x) if len(x)==1 else x)"
   ]
  },
  {
   "cell_type": "markdown",
   "metadata": {},
   "source": [
    "# SEGUIR AQUÍ: Parece que funciona! Ahora habría que incluir también las de WBAN_Dest, nombrar cada variable acordemente, y probar con el dataset entero"
   ]
  },
  {
   "cell_type": "code",
   "execution_count": 147,
   "metadata": {
    "ExecuteTime": {
     "end_time": "2021-03-01T20:08:40.854274Z",
     "start_time": "2021-03-01T20:08:40.812298Z"
    },
    "scrolled": true
   },
   "outputs": [
    {
     "data": {
      "text/html": [
       "<div>\n",
       "<style scoped>\n",
       "    .dataframe tbody tr th:only-of-type {\n",
       "        vertical-align: middle;\n",
       "    }\n",
       "\n",
       "    .dataframe tbody tr th {\n",
       "        vertical-align: top;\n",
       "    }\n",
       "\n",
       "    .dataframe thead th {\n",
       "        text-align: right;\n",
       "    }\n",
       "</style>\n",
       "<table border=\"1\" class=\"dataframe\">\n",
       "  <thead>\n",
       "    <tr style=\"text-align: right;\">\n",
       "      <th></th>\n",
       "      <th>MONTH</th>\n",
       "      <th>DAY_OF_MONTH</th>\n",
       "      <th>DAY_OF_WEEK</th>\n",
       "      <th>OP_UNIQUE_CARRIER</th>\n",
       "      <th>ORIGIN</th>\n",
       "      <th>WBAN_Origin</th>\n",
       "      <th>DEST</th>\n",
       "      <th>WBAN_Dest</th>\n",
       "      <th>DEP_TIME_hour</th>\n",
       "      <th>TAXI_OUT_median</th>\n",
       "      <th>TAXI_IN_median</th>\n",
       "      <th>ARR_DEL15</th>\n",
       "      <th>ARR_TIME_hour</th>\n",
       "      <th>CRS_ELAPSED_TIME</th>\n",
       "      <th>DISTANCE</th>\n",
       "      <th>DISTANCE_GROUP</th>\n",
       "      <th>LCD_id</th>\n",
       "    </tr>\n",
       "  </thead>\n",
       "  <tbody>\n",
       "    <tr>\n",
       "      <th>5616806</th>\n",
       "      <td>07</td>\n",
       "      <td>29</td>\n",
       "      <td>1</td>\n",
       "      <td>AS</td>\n",
       "      <td>SJC</td>\n",
       "      <td>23293</td>\n",
       "      <td>SEA</td>\n",
       "      <td>24233</td>\n",
       "      <td>17</td>\n",
       "      <td>15</td>\n",
       "      <td>9</td>\n",
       "      <td>0</td>\n",
       "      <td>19</td>\n",
       "      <td>124</td>\n",
       "      <td>696</td>\n",
       "      <td>3</td>\n",
       "      <td>23293_2019-07-29_17</td>\n",
       "    </tr>\n",
       "    <tr>\n",
       "      <th>4225125</th>\n",
       "      <td>08</td>\n",
       "      <td>23</td>\n",
       "      <td>5</td>\n",
       "      <td>DL</td>\n",
       "      <td>SEA</td>\n",
       "      <td>24233</td>\n",
       "      <td>LAX</td>\n",
       "      <td>23174</td>\n",
       "      <td>7</td>\n",
       "      <td>18</td>\n",
       "      <td>9</td>\n",
       "      <td>0</td>\n",
       "      <td>10</td>\n",
       "      <td>176</td>\n",
       "      <td>954</td>\n",
       "      <td>4</td>\n",
       "      <td>24233_2019-08-23_7</td>\n",
       "    </tr>\n",
       "    <tr>\n",
       "      <th>6480571</th>\n",
       "      <td>05</td>\n",
       "      <td>25</td>\n",
       "      <td>6</td>\n",
       "      <td>WN</td>\n",
       "      <td>MDW</td>\n",
       "      <td>14819</td>\n",
       "      <td>MEM</td>\n",
       "      <td>13893</td>\n",
       "      <td>18</td>\n",
       "      <td>10</td>\n",
       "      <td>4</td>\n",
       "      <td>0</td>\n",
       "      <td>19</td>\n",
       "      <td>95</td>\n",
       "      <td>480</td>\n",
       "      <td>2</td>\n",
       "      <td>14819_2019-05-25_18</td>\n",
       "    </tr>\n",
       "    <tr>\n",
       "      <th>830178</th>\n",
       "      <td>12</td>\n",
       "      <td>18</td>\n",
       "      <td>3</td>\n",
       "      <td>DL</td>\n",
       "      <td>DTW</td>\n",
       "      <td>94847</td>\n",
       "      <td>LAS</td>\n",
       "      <td>23169</td>\n",
       "      <td>12</td>\n",
       "      <td>16</td>\n",
       "      <td>6</td>\n",
       "      <td>0</td>\n",
       "      <td>13</td>\n",
       "      <td>280</td>\n",
       "      <td>1749</td>\n",
       "      <td>7</td>\n",
       "      <td>94847_2019-12-18_12</td>\n",
       "    </tr>\n",
       "    <tr>\n",
       "      <th>1129452</th>\n",
       "      <td>05</td>\n",
       "      <td>17</td>\n",
       "      <td>5</td>\n",
       "      <td>AA</td>\n",
       "      <td>SAV</td>\n",
       "      <td>03822</td>\n",
       "      <td>CLT</td>\n",
       "      <td>13881</td>\n",
       "      <td>14</td>\n",
       "      <td>14</td>\n",
       "      <td>9</td>\n",
       "      <td>1</td>\n",
       "      <td>15</td>\n",
       "      <td>74</td>\n",
       "      <td>213</td>\n",
       "      <td>1</td>\n",
       "      <td>03822_2019-05-17_14</td>\n",
       "    </tr>\n",
       "  </tbody>\n",
       "</table>\n",
       "</div>"
      ],
      "text/plain": [
       "        MONTH DAY_OF_MONTH DAY_OF_WEEK OP_UNIQUE_CARRIER ORIGIN WBAN_Origin  \\\n",
       "5616806    07           29           1                AS    SJC       23293   \n",
       "4225125    08           23           5                DL    SEA       24233   \n",
       "6480571    05           25           6                WN    MDW       14819   \n",
       "830178     12           18           3                DL    DTW       94847   \n",
       "1129452    05           17           5                AA    SAV       03822   \n",
       "\n",
       "        DEST WBAN_Dest DEP_TIME_hour  TAXI_OUT_median  TAXI_IN_median  \\\n",
       "5616806  SEA     24233            17               15               9   \n",
       "4225125  LAX     23174             7               18               9   \n",
       "6480571  MEM     13893            18               10               4   \n",
       "830178   LAS     23169            12               16               6   \n",
       "1129452  CLT     13881            14               14               9   \n",
       "\n",
       "         ARR_DEL15 ARR_TIME_hour  CRS_ELAPSED_TIME  DISTANCE DISTANCE_GROUP  \\\n",
       "5616806          0            19               124       696              3   \n",
       "4225125          0            10               176       954              4   \n",
       "6480571          0            19                95       480              2   \n",
       "830178           0            13               280      1749              7   \n",
       "1129452          1            15                74       213              1   \n",
       "\n",
       "                      LCD_id  \n",
       "5616806  23293_2019-07-29_17  \n",
       "4225125   24233_2019-08-23_7  \n",
       "6480571  14819_2019-05-25_18  \n",
       "830178   94847_2019-12-18_12  \n",
       "1129452  03822_2019-05-17_14  "
      ]
     },
     "execution_count": 147,
     "metadata": {},
     "output_type": "execute_result"
    }
   ],
   "source": [
    "LCD_original_cols = LCD.columns\n",
    "# Origin merge:\n",
    "LCD.columns[:-1] = LCD_original_cols[:-1].map(lambda x: str(x) + '_Origin')\n",
    "OTP_id_Origin = OTP['WBAN_Origin'] + '_' + '2019-' + OTP['MONTH'] + '-' + OTP['DAY_OF_MONTH'] + '_' + OTP['DEP_TIME_hour']\n",
    "OTP['LCD_id'] = OTP_id_Origin\n",
    "OTP_LCD_Origin = OTP.merge(LCD, how='inner', on='LCD_id')\n",
    "\n",
    "# Dest merge:\n",
    "LCD.columns[:-1] = LCD_original_cols[:-1].map(lambda x: str(x) + '_Dest')\n",
    "OTP_id_Dest = OTP['WBAN_Dest'] + '_' + '2019-' + OTP['MONTH'] + '-' + OTP['DAY_OF_MONTH'] + '_' + OTP['ARR_TIME_hour']\n",
    "OTP['LCD_id'] = OTP_id_Dest\n",
    "OTP_LCD = OTP_LCD_Origin.merge(LCD, how='inner', on='LCD_id')"
   ]
  },
  {
   "cell_type": "code",
   "execution_count": null,
   "metadata": {},
   "outputs": [],
   "source": []
  },
  {
   "cell_type": "code",
   "execution_count": null,
   "metadata": {},
   "outputs": [],
   "source": []
  },
  {
   "cell_type": "markdown",
   "metadata": {},
   "source": [
    "### 1st attempt: brute force (all at once)"
   ]
  },
  {
   "cell_type": "raw",
   "metadata": {
    "ExecuteTime": {
     "end_time": "2021-02-18T18:56:48.053828Z",
     "start_time": "2021-02-18T18:56:45.660992Z"
    }
   },
   "source": [
    "OTPLCD = OTP.merge(LCD, how='left', left_on='WBAN_Origin', right_on='WBAN')\n",
    "OTPLCD"
   ]
  },
  {
   "cell_type": "markdown",
   "metadata": {},
   "source": [
    "As expected, the \"brute-force\" approach is unfeasible. The following error is displayed:\n",
    "```\n",
    "MemoryError: Unable to allocate 617. GiB for an array with shape (82863097036,) and data type int64\n",
    "```"
   ]
  },
  {
   "cell_type": "markdown",
   "metadata": {},
   "source": [
    "### 2nd attempt: individual merges concatenated (file-by-file composition)"
   ]
  },
  {
   "cell_type": "code",
   "execution_count": null,
   "metadata": {
    "ExecuteTime": {
     "end_time": "2021-02-20T16:13:59.715977Z",
     "start_time": "2021-02-20T16:13:58.470165Z"
    }
   },
   "outputs": [],
   "source": [
    "LCD_ind = LCD[(LCD['WBAN'] == '13891') \\\n",
    "#             & (LCD['Date'] == '2019-01-01') \\\n",
    "#             & (LCD['Time_h'].isin(['00', '01']))\n",
    "              ]\n",
    "LCD_ind"
   ]
  },
  {
   "cell_type": "code",
   "execution_count": null,
   "metadata": {
    "ExecuteTime": {
     "end_time": "2021-02-20T16:14:01.032026Z",
     "start_time": "2021-02-20T16:14:01.020031Z"
    }
   },
   "outputs": [],
   "source": [
    "t1 = time.perf_counter() - t0\n",
    "print(\"Time elapsed: \", t1) # CPU seconds elapsed (floating point)"
   ]
  },
  {
   "cell_type": "markdown",
   "metadata": {},
   "source": [
    "The `missingno` represent data with horizontal sticks, the absence of a stick in place shows a null value"
   ]
  },
  {
   "cell_type": "code",
   "execution_count": null,
   "metadata": {
    "ExecuteTime": {
     "end_time": "2021-02-20T16:15:34.890849Z",
     "start_time": "2021-02-20T16:15:34.416141Z"
    }
   },
   "outputs": [],
   "source": [
    "import missingno as msno\n",
    "\n",
    "msno.matrix(LCD_ind, figsize=(14, 5), color=(0.24, 0.77, 0.77))"
   ]
  },
  {
   "cell_type": "code",
   "execution_count": null,
   "metadata": {},
   "outputs": [],
   "source": []
  },
  {
   "cell_type": "markdown",
   "metadata": {},
   "source": [
    "Observed problems:\n",
    "- Missing values (NaN's):\n",
    "    - By column:\n",
    "        - `HourlyPrecipitation`: fill with 0's\n",
    "        - `HourlySkyConditions` and `REM`: fill with empty strings i.e. ''\n",
    "        - \n",
    "    \n",
    "        \n",
    "    - There are rows which have many NaN elements → If there are more than \n",
    "- There might be different weather measurements for each hour:\n",
    "    - Let's keep the first one which presents no `NaN`"
   ]
  },
  {
   "cell_type": "code",
   "execution_count": null,
   "metadata": {},
   "outputs": [],
   "source": []
  },
  {
   "cell_type": "code",
   "execution_count": null,
   "metadata": {},
   "outputs": [],
   "source": []
  },
  {
   "cell_type": "code",
   "execution_count": null,
   "metadata": {},
   "outputs": [],
   "source": []
  },
  {
   "cell_type": "code",
   "execution_count": null,
   "metadata": {},
   "outputs": [],
   "source": [
    "OTPLCD = OTP.merge(LCD, how='left', left_on='WBAN_Origin', right_on='WBAN')\n",
    "OTPLCD"
   ]
  },
  {
   "cell_type": "code",
   "execution_count": null,
   "metadata": {},
   "outputs": [],
   "source": []
  },
  {
   "cell_type": "code",
   "execution_count": null,
   "metadata": {},
   "outputs": [],
   "source": []
  },
  {
   "cell_type": "code",
   "execution_count": null,
   "metadata": {},
   "outputs": [],
   "source": []
  },
  {
   "cell_type": "code",
   "execution_count": null,
   "metadata": {},
   "outputs": [],
   "source": []
  },
  {
   "cell_type": "code",
   "execution_count": null,
   "metadata": {
    "ExecuteTime": {
     "end_time": "2021-02-15T19:06:41.978880Z",
     "start_time": "2021-02-15T19:06:41.965890Z"
    }
   },
   "outputs": [],
   "source": [
    "t1 = time.perf_counter() - t0\n",
    "print(\"Time elapsed: \", t1) # CPU seconds elapsed (floating point)"
   ]
  },
  {
   "cell_type": "raw",
   "metadata": {},
   "source": [
    "Time elapsed:  337.227193"
   ]
  },
  {
   "cell_type": "markdown",
   "metadata": {},
   "source": [
    "___"
   ]
  },
  {
   "cell_type": "markdown",
   "metadata": {},
   "source": [
    "___"
   ]
  }
 ],
 "metadata": {
  "hide_input": false,
  "kernelspec": {
   "display_name": "Python 3",
   "language": "python",
   "name": "python3"
  },
  "language_info": {
   "codemirror_mode": {
    "name": "ipython",
    "version": 3
   },
   "file_extension": ".py",
   "mimetype": "text/x-python",
   "name": "python",
   "nbconvert_exporter": "python",
   "pygments_lexer": "ipython3",
   "version": "3.8.5"
  },
  "toc": {
   "base_numbering": 1,
   "nav_menu": {},
   "number_sections": true,
   "sideBar": true,
   "skip_h1_title": false,
   "title_cell": "Table of Contents",
   "title_sidebar": "Contents",
   "toc_cell": false,
   "toc_position": {
    "height": "calc(100% - 180px)",
    "left": "10px",
    "top": "150px",
    "width": "384px"
   },
   "toc_section_display": true,
   "toc_window_display": true
  },
  "varInspector": {
   "cols": {
    "lenName": 16,
    "lenType": 16,
    "lenVar": 40
   },
   "kernels_config": {
    "python": {
     "delete_cmd_postfix": "",
     "delete_cmd_prefix": "del ",
     "library": "var_list.py",
     "varRefreshCmd": "print(var_dic_list())"
    },
    "r": {
     "delete_cmd_postfix": ") ",
     "delete_cmd_prefix": "rm(",
     "library": "var_list.r",
     "varRefreshCmd": "cat(var_dic_list()) "
    }
   },
   "position": {
    "height": "817px",
    "left": "1550px",
    "right": "20px",
    "top": "114px",
    "width": "350px"
   },
   "types_to_exclude": [
    "module",
    "function",
    "builtin_function_or_method",
    "instance",
    "_Feature"
   ],
   "window_display": true
  }
 },
 "nbformat": 4,
 "nbformat_minor": 4
}
