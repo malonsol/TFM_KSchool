{
 "cells": [
  {
   "cell_type": "code",
   "execution_count": 1,
   "metadata": {
    "ExecuteTime": {
     "end_time": "2021-03-01T18:45:20.226930Z",
     "start_time": "2021-03-01T18:45:18.103942Z"
    }
   },
   "outputs": [],
   "source": [
    "# Import libraries to be used\n",
    "\n",
    "# Warning messages display\n",
    "## import warnings\n",
    "## warnings.filterwarnings(action='ignore') # https://docs.python.org/3/library/warnings.html#the-warnings-filter\n",
    "\n",
    "# Directories/Files management\n",
    "import os.path\n",
    "## from zipfile import ZipFile # De momento no ha hecho falta \n",
    "\n",
    "# Timing\n",
    "import time\n",
    "\n",
    "# Memory monitoring\n",
    "%load_ext memory_profiler\n",
    "### Use '%memit' to check at each point\n",
    "\n",
    "# Data analysis and wrangling\n",
    "import pandas as pd\n",
    "import numpy as np\n",
    "pd.set_option('display.max_columns', None) # Show all columns in DataFrames\n",
    "## pd.set_option('display.max_rows', None) # It greatly slows down the output display and freezes the kernel\n",
    "\n",
    "# Visualization\n",
    "import matplotlib.pyplot as plt\n",
    "import seaborn as sns\n",
    "%matplotlib inline\n",
    "plt.style.use('ggplot') # choose a style: 'plt.style.available'\n",
    "sns.set_theme(context='notebook',\n",
    "              style=\"darkgrid\") # {darkgrid, whitegrid, dark, white, ticks}\n",
    "palette = sns.color_palette(\"flare\", as_cmap=True);\n",
    "import altair as alt\n",
    "\n",
    "# Machine Learning\n",
    "## from sklearn.[...] import ..."
   ]
  },
  {
   "cell_type": "code",
   "execution_count": 2,
   "metadata": {
    "ExecuteTime": {
     "end_time": "2021-03-01T18:45:20.242866Z",
     "start_time": "2021-03-01T18:45:20.226930Z"
    }
   },
   "outputs": [],
   "source": [
    "t0 = time.perf_counter() "
   ]
  },
  {
   "cell_type": "code",
   "execution_count": 3,
   "metadata": {
    "ExecuteTime": {
     "end_time": "2021-03-01T18:45:20.258857Z",
     "start_time": "2021-03-01T18:45:20.247865Z"
    },
    "scrolled": true
   },
   "outputs": [
    {
     "name": "stdout",
     "output_type": "stream",
     "text": [
      "Running on Windows.\n",
      "root path\t C:\\Users\\turge\\CompartidoVM\\0.TFM\n"
     ]
    }
   ],
   "source": [
    "# Detect Operating System running and manage paths accordingly\n",
    "\n",
    "if os.name == 'nt': # Windows\n",
    "    root = r\"C:\\Users\\turge\\CompartidoVM\\0.TFM\"\n",
    "    print(\"Running on Windows.\")\n",
    "elif os.name == 'posix': # Ubuntu\n",
    "    root = \"/home/dsc/shared/0.TFM\"\n",
    "    print(\"Running on Ubuntu.\")\n",
    "print(\"root path\\t\", root)"
   ]
  },
  {
   "cell_type": "markdown",
   "metadata": {},
   "source": [
    "Additional information on each column meaning can be found [here](https://www.ncei.noaa.gov/data/local-climatological-data/doc/LCD_documentation.pLCD)."
   ]
  },
  {
   "cell_type": "markdown",
   "metadata": {},
   "source": [
    "___"
   ]
  },
  {
   "cell_type": "markdown",
   "metadata": {},
   "source": [
    "# Get the data"
   ]
  },
  {
   "cell_type": "markdown",
   "metadata": {},
   "source": [
    "## LCD clean file (2019)"
   ]
  },
  {
   "cell_type": "markdown",
   "metadata": {},
   "source": [
    "### Import file"
   ]
  },
  {
   "cell_type": "markdown",
   "metadata": {},
   "source": [
    "#### Define file path"
   ]
  },
  {
   "cell_type": "code",
   "execution_count": 164,
   "metadata": {
    "ExecuteTime": {
     "end_time": "2021-03-01T22:27:28.258414Z",
     "start_time": "2021-03-01T22:27:11.190187Z"
    }
   },
   "outputs": [],
   "source": [
    "output_csv_dir = os.path.join(root,\n",
    "                              \"Output_Data\",\n",
    "                              \"NOAA\",\n",
    "                              \"LCD_AllStations\")\n",
    "\n",
    "file_name = \"LCD_all_clean.csv\"\n",
    "\n",
    "LCD = pd.read_csv(os.path.join(output_csv_dir, file_name),\n",
    "                  encoding='latin1',\n",
    "                  dtype = {\n",
    "                           'STATION' : 'string',\n",
    "                           'WMO' : 'string',\n",
    "                           'WBAN' : 'string',\n",
    "                           'DATE' : 'string',\n",
    "                           'Date' : 'string',\n",
    "                           'Hour' : 'string',\n",
    "                           'HourlyAltimeterSetting' : 'float64',\n",
    "                           'HourlyDryBulbTemperature' : 'float64',\n",
    "                           'HourlyPrecipitation' : 'float64',\n",
    "                           'HourlyRelativeHumidity' : 'float64', \n",
    "                           'HourlySkyConditions' : 'string',\n",
    "                           'HourlyVisibility' : 'float64',\n",
    "                           'REM' : 'string'\n",
    "                           }\n",
    "                 )"
   ]
  },
  {
   "cell_type": "code",
   "execution_count": 165,
   "metadata": {
    "ExecuteTime": {
     "end_time": "2021-03-01T22:27:30.903642Z",
     "start_time": "2021-03-01T22:27:30.717317Z"
    },
    "scrolled": false
   },
   "outputs": [
    {
     "data": {
      "text/html": [
       "<div>\n",
       "<style scoped>\n",
       "    .dataframe tbody tr th:only-of-type {\n",
       "        vertical-align: middle;\n",
       "    }\n",
       "\n",
       "    .dataframe tbody tr th {\n",
       "        vertical-align: top;\n",
       "    }\n",
       "\n",
       "    .dataframe thead th {\n",
       "        text-align: right;\n",
       "    }\n",
       "</style>\n",
       "<table border=\"1\" class=\"dataframe\">\n",
       "  <thead>\n",
       "    <tr style=\"text-align: right;\">\n",
       "      <th></th>\n",
       "      <th>STATION</th>\n",
       "      <th>WMO</th>\n",
       "      <th>WBAN</th>\n",
       "      <th>DATE</th>\n",
       "      <th>Date</th>\n",
       "      <th>Hour</th>\n",
       "      <th>HourlyAltimeterSetting</th>\n",
       "      <th>HourlyDryBulbTemperature</th>\n",
       "      <th>HourlyPrecipitation</th>\n",
       "      <th>HourlyRelativeHumidity</th>\n",
       "      <th>HourlySkyConditions</th>\n",
       "      <th>HourlyVisibility</th>\n",
       "      <th>REM</th>\n",
       "    </tr>\n",
       "  </thead>\n",
       "  <tbody>\n",
       "    <tr>\n",
       "      <th>882461</th>\n",
       "      <td>72643514991</td>\n",
       "      <td>726435</td>\n",
       "      <td>14991</td>\n",
       "      <td>2019-04-14 00:56:00</td>\n",
       "      <td>2019-04-14</td>\n",
       "      <td>0</td>\n",
       "      <td>30.050</td>\n",
       "      <td>29.0</td>\n",
       "      <td>0.00</td>\n",
       "      <td>75.0</td>\n",
       "      <td>OVC</td>\n",
       "      <td>10.00</td>\n",
       "      <td>MET09504/14/19 00:56:02 METAR KEAU 140656Z 050...</td>\n",
       "    </tr>\n",
       "    <tr>\n",
       "      <th>1797796</th>\n",
       "      <td>72334013893</td>\n",
       "      <td>723340</td>\n",
       "      <td>13893</td>\n",
       "      <td>2019-03-26 12:00:00</td>\n",
       "      <td>2019-03-26</td>\n",
       "      <td>12</td>\n",
       "      <td>30.305</td>\n",
       "      <td>54.0</td>\n",
       "      <td>0.00</td>\n",
       "      <td>59.0</td>\n",
       "      <td>(missing)</td>\n",
       "      <td>9.94</td>\n",
       "      <td>SYN08672334 32666 63213 10122 20044 30160 4026...</td>\n",
       "    </tr>\n",
       "    <tr>\n",
       "      <th>1636405</th>\n",
       "      <td>72422093820</td>\n",
       "      <td>724220</td>\n",
       "      <td>93820</td>\n",
       "      <td>2019-10-16 02:04:00</td>\n",
       "      <td>2019-10-16</td>\n",
       "      <td>2</td>\n",
       "      <td>29.800</td>\n",
       "      <td>62.0</td>\n",
       "      <td>0.02</td>\n",
       "      <td>86.0</td>\n",
       "      <td>OVC</td>\n",
       "      <td>5.00</td>\n",
       "      <td>MET14310/16/19 02:04:02 SPECI KLEX 160704Z 180...</td>\n",
       "    </tr>\n",
       "    <tr>\n",
       "      <th>1837467</th>\n",
       "      <td>72455503936</td>\n",
       "      <td>724555</td>\n",
       "      <td>03936</td>\n",
       "      <td>2019-10-05 22:52:00</td>\n",
       "      <td>2019-10-05</td>\n",
       "      <td>22</td>\n",
       "      <td>30.060</td>\n",
       "      <td>48.0</td>\n",
       "      <td>0.00</td>\n",
       "      <td>93.0</td>\n",
       "      <td>CLR</td>\n",
       "      <td>10.00</td>\n",
       "      <td>MET09010/05/19 22:52:01 METAR KMHK 060452Z 000...</td>\n",
       "    </tr>\n",
       "    <tr>\n",
       "      <th>690572</th>\n",
       "      <td>72569024089</td>\n",
       "      <td>725690</td>\n",
       "      <td>24089</td>\n",
       "      <td>2019-04-08 22:53:00</td>\n",
       "      <td>2019-04-08</td>\n",
       "      <td>22</td>\n",
       "      <td>30.020</td>\n",
       "      <td>34.0</td>\n",
       "      <td>0.00</td>\n",
       "      <td>92.0</td>\n",
       "      <td>CLR</td>\n",
       "      <td>10.00</td>\n",
       "      <td>MET10804/08/19 22:53:02 METAR KCPR 090553Z 330...</td>\n",
       "    </tr>\n",
       "  </tbody>\n",
       "</table>\n",
       "</div>"
      ],
      "text/plain": [
       "             STATION     WMO   WBAN                 DATE        Date Hour  \\\n",
       "882461   72643514991  726435  14991  2019-04-14 00:56:00  2019-04-14    0   \n",
       "1797796  72334013893  723340  13893  2019-03-26 12:00:00  2019-03-26   12   \n",
       "1636405  72422093820  724220  93820  2019-10-16 02:04:00  2019-10-16    2   \n",
       "1837467  72455503936  724555  03936  2019-10-05 22:52:00  2019-10-05   22   \n",
       "690572   72569024089  725690  24089  2019-04-08 22:53:00  2019-04-08   22   \n",
       "\n",
       "         HourlyAltimeterSetting  HourlyDryBulbTemperature  \\\n",
       "882461                   30.050                      29.0   \n",
       "1797796                  30.305                      54.0   \n",
       "1636405                  29.800                      62.0   \n",
       "1837467                  30.060                      48.0   \n",
       "690572                   30.020                      34.0   \n",
       "\n",
       "         HourlyPrecipitation  HourlyRelativeHumidity HourlySkyConditions  \\\n",
       "882461                  0.00                    75.0                 OVC   \n",
       "1797796                 0.00                    59.0           (missing)   \n",
       "1636405                 0.02                    86.0                 OVC   \n",
       "1837467                 0.00                    93.0                 CLR   \n",
       "690572                  0.00                    92.0                 CLR   \n",
       "\n",
       "         HourlyVisibility                                                REM  \n",
       "882461              10.00  MET09504/14/19 00:56:02 METAR KEAU 140656Z 050...  \n",
       "1797796              9.94  SYN08672334 32666 63213 10122 20044 30160 4026...  \n",
       "1636405              5.00  MET14310/16/19 02:04:02 SPECI KLEX 160704Z 180...  \n",
       "1837467             10.00  MET09010/05/19 22:52:01 METAR KMHK 060452Z 000...  \n",
       "690572              10.00  MET10804/08/19 22:53:02 METAR KCPR 090553Z 330...  "
      ]
     },
     "execution_count": 165,
     "metadata": {},
     "output_type": "execute_result"
    }
   ],
   "source": [
    "LCD.sample(5)"
   ]
  },
  {
   "cell_type": "code",
   "execution_count": 166,
   "metadata": {
    "ExecuteTime": {
     "end_time": "2021-03-01T22:27:42.960183Z",
     "start_time": "2021-03-01T22:27:33.640181Z"
    }
   },
   "outputs": [
    {
     "data": {
      "text/html": [
       "<div>\n",
       "<style scoped>\n",
       "    .dataframe tbody tr th:only-of-type {\n",
       "        vertical-align: middle;\n",
       "    }\n",
       "\n",
       "    .dataframe tbody tr th {\n",
       "        vertical-align: top;\n",
       "    }\n",
       "\n",
       "    .dataframe thead th {\n",
       "        text-align: right;\n",
       "    }\n",
       "</style>\n",
       "<table border=\"1\" class=\"dataframe\">\n",
       "  <thead>\n",
       "    <tr style=\"text-align: right;\">\n",
       "      <th></th>\n",
       "      <th>STATION</th>\n",
       "      <th>WMO</th>\n",
       "      <th>WBAN</th>\n",
       "      <th>DATE</th>\n",
       "      <th>Date</th>\n",
       "      <th>Hour</th>\n",
       "      <th>HourlyAltimeterSetting</th>\n",
       "      <th>HourlyDryBulbTemperature</th>\n",
       "      <th>HourlyPrecipitation</th>\n",
       "      <th>HourlyRelativeHumidity</th>\n",
       "      <th>HourlySkyConditions</th>\n",
       "      <th>HourlyVisibility</th>\n",
       "      <th>REM</th>\n",
       "      <th>LCD_id</th>\n",
       "    </tr>\n",
       "  </thead>\n",
       "  <tbody>\n",
       "    <tr>\n",
       "      <th>1086642</th>\n",
       "      <td>72451523064</td>\n",
       "      <td>724515</td>\n",
       "      <td>23064</td>\n",
       "      <td>2019-08-10 10:54:00</td>\n",
       "      <td>2019-08-10</td>\n",
       "      <td>10</td>\n",
       "      <td>29.98</td>\n",
       "      <td>83.0</td>\n",
       "      <td>0.00</td>\n",
       "      <td>59.0</td>\n",
       "      <td>CLR</td>\n",
       "      <td>10.00</td>\n",
       "      <td>MET09508/10/19 10:54:02 METAR KGCK 101654Z 150...</td>\n",
       "      <td>23064_2019-08-10_10</td>\n",
       "    </tr>\n",
       "    <tr>\n",
       "      <th>913486</th>\n",
       "      <td>72582524121</td>\n",
       "      <td>725825</td>\n",
       "      <td>24121</td>\n",
       "      <td>2019-11-01 18:56:00</td>\n",
       "      <td>2019-11-01</td>\n",
       "      <td>18</td>\n",
       "      <td>30.38</td>\n",
       "      <td>36.0</td>\n",
       "      <td>0.00</td>\n",
       "      <td>31.0</td>\n",
       "      <td>CLR</td>\n",
       "      <td>10.00</td>\n",
       "      <td>MET09711/01/19 18:56:01 METAR KEKO 020256Z 020...</td>\n",
       "      <td>24121_2019-11-01_18</td>\n",
       "    </tr>\n",
       "    <tr>\n",
       "      <th>1829062</th>\n",
       "      <td>72226013895</td>\n",
       "      <td>722260</td>\n",
       "      <td>13895</td>\n",
       "      <td>2019-10-20 14:53:00</td>\n",
       "      <td>2019-10-20</td>\n",
       "      <td>14</td>\n",
       "      <td>29.93</td>\n",
       "      <td>79.0</td>\n",
       "      <td>0.00</td>\n",
       "      <td>52.0</td>\n",
       "      <td>CLR</td>\n",
       "      <td>10.00</td>\n",
       "      <td>MET10210/20/19 14:53:02 METAR KMGM 202053Z 000...</td>\n",
       "      <td>13895_2019-10-20_14</td>\n",
       "    </tr>\n",
       "    <tr>\n",
       "      <th>875345</th>\n",
       "      <td>72552614905</td>\n",
       "      <td>725526</td>\n",
       "      <td>14905</td>\n",
       "      <td>2019-06-19 14:33:00</td>\n",
       "      <td>2019-06-19</td>\n",
       "      <td>14</td>\n",
       "      <td>29.79</td>\n",
       "      <td>72.0</td>\n",
       "      <td>0.00</td>\n",
       "      <td>69.0</td>\n",
       "      <td>BKN</td>\n",
       "      <td>10.00</td>\n",
       "      <td>MET09006/19/19 14:33:02 METAR KEAR 192033Z VRB...</td>\n",
       "      <td>14905_2019-06-19_14</td>\n",
       "    </tr>\n",
       "    <tr>\n",
       "      <th>915383</th>\n",
       "      <td>72515614748</td>\n",
       "      <td>725156</td>\n",
       "      <td>14748</td>\n",
       "      <td>2019-01-19 19:33:00</td>\n",
       "      <td>2019-01-19</td>\n",
       "      <td>19</td>\n",
       "      <td>29.91</td>\n",
       "      <td>20.0</td>\n",
       "      <td>0.02</td>\n",
       "      <td>85.0</td>\n",
       "      <td>VV</td>\n",
       "      <td>0.75</td>\n",
       "      <td>MET11301/19/19 19:33:01 SPECI KELM 200033Z 080...</td>\n",
       "      <td>14748_2019-01-19_19</td>\n",
       "    </tr>\n",
       "  </tbody>\n",
       "</table>\n",
       "</div>"
      ],
      "text/plain": [
       "             STATION     WMO   WBAN                 DATE        Date Hour  \\\n",
       "1086642  72451523064  724515  23064  2019-08-10 10:54:00  2019-08-10   10   \n",
       "913486   72582524121  725825  24121  2019-11-01 18:56:00  2019-11-01   18   \n",
       "1829062  72226013895  722260  13895  2019-10-20 14:53:00  2019-10-20   14   \n",
       "875345   72552614905  725526  14905  2019-06-19 14:33:00  2019-06-19   14   \n",
       "915383   72515614748  725156  14748  2019-01-19 19:33:00  2019-01-19   19   \n",
       "\n",
       "         HourlyAltimeterSetting  HourlyDryBulbTemperature  \\\n",
       "1086642                   29.98                      83.0   \n",
       "913486                    30.38                      36.0   \n",
       "1829062                   29.93                      79.0   \n",
       "875345                    29.79                      72.0   \n",
       "915383                    29.91                      20.0   \n",
       "\n",
       "         HourlyPrecipitation  HourlyRelativeHumidity HourlySkyConditions  \\\n",
       "1086642                 0.00                    59.0                 CLR   \n",
       "913486                  0.00                    31.0                 CLR   \n",
       "1829062                 0.00                    52.0                 CLR   \n",
       "875345                  0.00                    69.0                 BKN   \n",
       "915383                  0.02                    85.0                  VV   \n",
       "\n",
       "         HourlyVisibility                                                REM  \\\n",
       "1086642             10.00  MET09508/10/19 10:54:02 METAR KGCK 101654Z 150...   \n",
       "913486              10.00  MET09711/01/19 18:56:01 METAR KEKO 020256Z 020...   \n",
       "1829062             10.00  MET10210/20/19 14:53:02 METAR KMGM 202053Z 000...   \n",
       "875345              10.00  MET09006/19/19 14:33:02 METAR KEAR 192033Z VRB...   \n",
       "915383               0.75  MET11301/19/19 19:33:01 SPECI KELM 200033Z 080...   \n",
       "\n",
       "                      LCD_id  \n",
       "1086642  23064_2019-08-10_10  \n",
       "913486   24121_2019-11-01_18  \n",
       "1829062  13895_2019-10-20_14  \n",
       "875345   14905_2019-06-19_14  \n",
       "915383   14748_2019-01-19_19  "
      ]
     },
     "execution_count": 166,
     "metadata": {},
     "output_type": "execute_result"
    }
   ],
   "source": [
    "LCD_year = LCD['Date'].str[:4]\n",
    "LCD_month = LCD['Date'].str[5:7]\n",
    "LCD_day = LCD['Date'].str[8:10]\n",
    "LCD_id = LCD['WBAN'] + '_' + LCD_year + '-' + LCD_month + '-' + LCD_day + '_' + LCD['Hour']\n",
    "LCD['LCD_id'] = LCD_id\n",
    "LCD.sample(5)"
   ]
  },
  {
   "cell_type": "markdown",
   "metadata": {},
   "source": [
    "## OTP-LCD merge"
   ]
  },
  {
   "cell_type": "markdown",
   "metadata": {},
   "source": [
    "### Import OTP dataset"
   ]
  },
  {
   "cell_type": "code",
   "execution_count": 56,
   "metadata": {
    "ExecuteTime": {
     "end_time": "2021-03-01T19:21:58.239195Z",
     "start_time": "2021-03-01T19:21:58.235197Z"
    }
   },
   "outputs": [],
   "source": [
    "cols = [\n",
    "     'MONTH',\n",
    "     'DAY_OF_MONTH',\n",
    "     'DAY_OF_WEEK',\n",
    "     'OP_UNIQUE_CARRIER',\n",
    "     'ORIGIN',\n",
    "     'WBAN_Origin',\n",
    "     'DEST',\n",
    "     'WBAN_Dest',\n",
    "     'DEP_TIME_hour',\n",
    "     'ARR_TIME_hour',\n",
    "     'TAXI_OUT_median',\n",
    "     'TAXI_IN_median',\n",
    "     'ARR_DEL15',\n",
    "     'CRS_ELAPSED_TIME',\n",
    "     'DISTANCE',\n",
    "     'DISTANCE_GROUP'\n",
    "]"
   ]
  },
  {
   "cell_type": "raw",
   "metadata": {
    "ExecuteTime": {
     "end_time": "2021-02-25T18:26:20.069820Z",
     "start_time": "2021-02-25T18:26:20.061825Z"
    }
   },
   "source": [
    "cols_dtypes = {\n",
    "               'MONTH' : 'category',\n",
    "               'DAY_OF_MONTH' : 'category',\n",
    "               'DAY_OF_WEEK' : 'category',\n",
    "               'OP_UNIQUE_CARRIER' : 'category',\n",
    "               'ORIGIN' : 'category',\n",
    "               'DEST' : 'category',\n",
    "               'DEP_TIME_hour' : 'category',\n",
    "               'TAXI_OUT_median' : 'int64',\n",
    "               'TAXI_IN_median' : 'int64',\n",
    "               'ARR_TIME_hour' : 'category', \n",
    "               'ARR_DEL15' : 'int32', # → Target !!\n",
    "               'CRS_ELAPSED_TIME' : 'int64',\n",
    "               'DISTANCE' : 'int64',\n",
    "               'DISTANCE_GROUP' : 'category',\n",
    "               'WBAN_Origin' : 'category',\n",
    "               'WBAN_Dest' : 'category'\n",
    "               }"
   ]
  },
  {
   "cell_type": "code",
   "execution_count": 57,
   "metadata": {
    "ExecuteTime": {
     "end_time": "2021-03-01T19:21:59.593132Z",
     "start_time": "2021-03-01T19:21:59.586136Z"
    }
   },
   "outputs": [],
   "source": [
    "cols_dtypes = {\n",
    "               'MONTH' : 'string',\n",
    "               'DAY_OF_MONTH' : 'string',\n",
    "               'DAY_OF_WEEK' : 'category',\n",
    "               'OP_UNIQUE_CARRIER' : 'category',\n",
    "               'ORIGIN' : 'category',\n",
    "               'DEST' : 'category',\n",
    "               'DEP_TIME_hour' : 'string',\n",
    "               'TAXI_OUT_median' : 'int64',\n",
    "               'TAXI_IN_median' : 'int64',\n",
    "               'ARR_TIME_hour' : 'string', \n",
    "               'ARR_DEL15' : 'int32', # → Target !!\n",
    "               'CRS_ELAPSED_TIME' : 'int64',\n",
    "               'DISTANCE' : 'int64',\n",
    "               'DISTANCE_GROUP' : 'category',\n",
    "               'WBAN_Origin' : 'string',\n",
    "               'WBAN_Dest' : 'string'\n",
    "               }"
   ]
  },
  {
   "cell_type": "code",
   "execution_count": 58,
   "metadata": {
    "ExecuteTime": {
     "end_time": "2021-03-01T19:22:30.496787Z",
     "start_time": "2021-03-01T19:22:03.860129Z"
    },
    "scrolled": true
   },
   "outputs": [],
   "source": [
    "csv_path = os.path.join(root,\n",
    "                        \"Output_Data\",\n",
    "                        \"US_DoT\",\n",
    "                        \"AL_OTP_WBAN_19.csv\")\n",
    "\n",
    "OTP = pd.read_csv(csv_path,\n",
    "                  encoding='latin1',\n",
    "                  usecols=cols,\n",
    "                  dtype=cols_dtypes)"
   ]
  },
  {
   "cell_type": "code",
   "execution_count": 112,
   "metadata": {
    "ExecuteTime": {
     "end_time": "2021-03-01T19:59:38.468878Z",
     "start_time": "2021-03-01T19:59:31.203334Z"
    }
   },
   "outputs": [],
   "source": [
    "# It is observed that WBAN format is not always in 5-digit format due to conversion from 'int' dtype, so:\n",
    "for c in ['WBAN_Origin', 'WBAN_Dest']:\n",
    "    OTP[c] = OTP[c].apply(lambda x: ('0'+x) if len(x)==4 else x)\n",
    "# Likewise, convert months and days into 2-digit format:\n",
    "for d in ['MONTH', 'DAY_OF_MONTH']:\n",
    "    OTP[d] = OTP[d].apply(lambda x: ('0'+x) if len(x)==1 else x)"
   ]
  },
  {
   "cell_type": "markdown",
   "metadata": {},
   "source": [
    "# SEGUIR AQUÍ: Parece que funciona! Ahora habría que incluir también las de WBAN_Dest, nombrar cada variable acordemente, y probar con el dataset entero"
   ]
  },
  {
   "cell_type": "code",
   "execution_count": 167,
   "metadata": {
    "ExecuteTime": {
     "end_time": "2021-03-01T22:27:55.310673Z",
     "start_time": "2021-03-01T22:27:55.115372Z"
    }
   },
   "outputs": [
    {
     "data": {
      "text/html": [
       "<div>\n",
       "<style scoped>\n",
       "    .dataframe tbody tr th:only-of-type {\n",
       "        vertical-align: middle;\n",
       "    }\n",
       "\n",
       "    .dataframe tbody tr th {\n",
       "        vertical-align: top;\n",
       "    }\n",
       "\n",
       "    .dataframe thead th {\n",
       "        text-align: right;\n",
       "    }\n",
       "</style>\n",
       "<table border=\"1\" class=\"dataframe\">\n",
       "  <thead>\n",
       "    <tr style=\"text-align: right;\">\n",
       "      <th></th>\n",
       "      <th>STATION</th>\n",
       "      <th>WMO</th>\n",
       "      <th>WBAN</th>\n",
       "      <th>DATE</th>\n",
       "      <th>Date</th>\n",
       "      <th>Hour</th>\n",
       "      <th>HourlyAltimeterSetting</th>\n",
       "      <th>HourlyDryBulbTemperature</th>\n",
       "      <th>HourlyPrecipitation</th>\n",
       "      <th>HourlyRelativeHumidity</th>\n",
       "      <th>HourlySkyConditions</th>\n",
       "      <th>HourlyVisibility</th>\n",
       "      <th>REM</th>\n",
       "      <th>LCD_id</th>\n",
       "    </tr>\n",
       "  </thead>\n",
       "  <tbody>\n",
       "    <tr>\n",
       "      <th>425119</th>\n",
       "      <td>72655594938</td>\n",
       "      <td>726555</td>\n",
       "      <td>94938</td>\n",
       "      <td>2019-12-09 23:53:00</td>\n",
       "      <td>2019-12-09</td>\n",
       "      <td>23</td>\n",
       "      <td>29.96</td>\n",
       "      <td>-8.0</td>\n",
       "      <td>0.0</td>\n",
       "      <td>71.0</td>\n",
       "      <td>CLR</td>\n",
       "      <td>9.0</td>\n",
       "      <td>MET11912/09/19 23:53:02 METAR KBRD 100553Z 230...</td>\n",
       "      <td>94938_2019-12-09_23</td>\n",
       "    </tr>\n",
       "  </tbody>\n",
       "</table>\n",
       "</div>"
      ],
      "text/plain": [
       "            STATION     WMO   WBAN                 DATE        Date Hour  \\\n",
       "425119  72655594938  726555  94938  2019-12-09 23:53:00  2019-12-09   23   \n",
       "\n",
       "        HourlyAltimeterSetting  HourlyDryBulbTemperature  HourlyPrecipitation  \\\n",
       "425119                   29.96                      -8.0                  0.0   \n",
       "\n",
       "        HourlyRelativeHumidity HourlySkyConditions  HourlyVisibility  \\\n",
       "425119                    71.0                 CLR               9.0   \n",
       "\n",
       "                                                      REM               LCD_id  \n",
       "425119  MET11912/09/19 23:53:02 METAR KBRD 100553Z 230...  94938_2019-12-09_23  "
      ]
     },
     "execution_count": 167,
     "metadata": {},
     "output_type": "execute_result"
    }
   ],
   "source": [
    "LCD.sample(1)"
   ]
  },
  {
   "cell_type": "code",
   "execution_count": 168,
   "metadata": {
    "ExecuteTime": {
     "end_time": "2021-03-01T22:28:06.534138Z",
     "start_time": "2021-03-01T22:28:03.533095Z"
    },
    "scrolled": true
   },
   "outputs": [
    {
     "ename": "MemoryError",
     "evalue": "",
     "output_type": "error",
     "traceback": [
      "\u001b[1;31m---------------------------------------------------------------------------\u001b[0m",
      "\u001b[1;31mMemoryError\u001b[0m                               Traceback (most recent call last)",
      "\u001b[1;32m<ipython-input-168-9e1887bc6099>\u001b[0m in \u001b[0;36m<module>\u001b[1;34m\u001b[0m\n\u001b[0;32m      2\u001b[0m \u001b[1;31m# Origin merge:\u001b[0m\u001b[1;33m\u001b[0m\u001b[1;33m\u001b[0m\u001b[1;33m\u001b[0m\u001b[0m\n\u001b[0;32m      3\u001b[0m \u001b[0mLCD\u001b[0m\u001b[1;33m.\u001b[0m\u001b[0mcolumns\u001b[0m \u001b[1;33m=\u001b[0m \u001b[0mLCD_original_cols\u001b[0m\u001b[1;33m.\u001b[0m\u001b[0mmap\u001b[0m\u001b[1;33m(\u001b[0m\u001b[1;32mlambda\u001b[0m \u001b[0mx\u001b[0m\u001b[1;33m:\u001b[0m \u001b[0mstr\u001b[0m\u001b[1;33m(\u001b[0m\u001b[0mx\u001b[0m\u001b[1;33m)\u001b[0m \u001b[1;33m+\u001b[0m \u001b[1;34m'_Origin'\u001b[0m\u001b[1;33m)\u001b[0m\u001b[1;33m\u001b[0m\u001b[1;33m\u001b[0m\u001b[0m\n\u001b[1;32m----> 4\u001b[1;33m \u001b[0mOTP_id_Origin\u001b[0m \u001b[1;33m=\u001b[0m \u001b[0mOTP\u001b[0m\u001b[1;33m[\u001b[0m\u001b[1;34m'WBAN_Origin'\u001b[0m\u001b[1;33m]\u001b[0m \u001b[1;33m+\u001b[0m \u001b[1;34m'_'\u001b[0m \u001b[1;33m+\u001b[0m \u001b[1;34m'2019-'\u001b[0m \u001b[1;33m+\u001b[0m \u001b[0mOTP\u001b[0m\u001b[1;33m[\u001b[0m\u001b[1;34m'MONTH'\u001b[0m\u001b[1;33m]\u001b[0m \u001b[1;33m+\u001b[0m \u001b[1;34m'-'\u001b[0m \u001b[1;33m+\u001b[0m \u001b[0mOTP\u001b[0m\u001b[1;33m[\u001b[0m\u001b[1;34m'DAY_OF_MONTH'\u001b[0m\u001b[1;33m]\u001b[0m \u001b[1;33m+\u001b[0m \u001b[1;34m'_'\u001b[0m \u001b[1;33m+\u001b[0m \u001b[0mOTP\u001b[0m\u001b[1;33m[\u001b[0m\u001b[1;34m'DEP_TIME_hour'\u001b[0m\u001b[1;33m]\u001b[0m\u001b[1;33m\u001b[0m\u001b[1;33m\u001b[0m\u001b[0m\n\u001b[0m\u001b[0;32m      5\u001b[0m \u001b[0mOTP\u001b[0m\u001b[1;33m[\u001b[0m\u001b[1;34m'LCD_id_Origin'\u001b[0m\u001b[1;33m]\u001b[0m \u001b[1;33m=\u001b[0m \u001b[0mOTP_id_Origin\u001b[0m\u001b[1;33m\u001b[0m\u001b[1;33m\u001b[0m\u001b[0m\n\u001b[0;32m      6\u001b[0m \u001b[0mOTP_LCD_Origin\u001b[0m \u001b[1;33m=\u001b[0m \u001b[0mOTP\u001b[0m\u001b[1;33m.\u001b[0m\u001b[0mmerge\u001b[0m\u001b[1;33m(\u001b[0m\u001b[0mLCD\u001b[0m\u001b[1;33m,\u001b[0m \u001b[0mhow\u001b[0m\u001b[1;33m=\u001b[0m\u001b[1;34m'inner'\u001b[0m\u001b[1;33m,\u001b[0m \u001b[0mleft_on\u001b[0m\u001b[1;33m=\u001b[0m\u001b[1;34m'LCD_id_Origin'\u001b[0m\u001b[1;33m,\u001b[0m \u001b[0mright_on\u001b[0m\u001b[1;33m=\u001b[0m\u001b[1;34m'LCD_id'\u001b[0m\u001b[1;33m)\u001b[0m\u001b[1;33m\u001b[0m\u001b[1;33m\u001b[0m\u001b[0m\n",
      "\u001b[1;32mC:\\ProgramData\\Anaconda3\\lib\\site-packages\\pandas\\core\\ops\\common.py\u001b[0m in \u001b[0;36mnew_method\u001b[1;34m(self, other)\u001b[0m\n\u001b[0;32m     63\u001b[0m         \u001b[0mother\u001b[0m \u001b[1;33m=\u001b[0m \u001b[0mitem_from_zerodim\u001b[0m\u001b[1;33m(\u001b[0m\u001b[0mother\u001b[0m\u001b[1;33m)\u001b[0m\u001b[1;33m\u001b[0m\u001b[1;33m\u001b[0m\u001b[0m\n\u001b[0;32m     64\u001b[0m \u001b[1;33m\u001b[0m\u001b[0m\n\u001b[1;32m---> 65\u001b[1;33m         \u001b[1;32mreturn\u001b[0m \u001b[0mmethod\u001b[0m\u001b[1;33m(\u001b[0m\u001b[0mself\u001b[0m\u001b[1;33m,\u001b[0m \u001b[0mother\u001b[0m\u001b[1;33m)\u001b[0m\u001b[1;33m\u001b[0m\u001b[1;33m\u001b[0m\u001b[0m\n\u001b[0m\u001b[0;32m     66\u001b[0m \u001b[1;33m\u001b[0m\u001b[0m\n\u001b[0;32m     67\u001b[0m     \u001b[1;32mreturn\u001b[0m \u001b[0mnew_method\u001b[0m\u001b[1;33m\u001b[0m\u001b[1;33m\u001b[0m\u001b[0m\n",
      "\u001b[1;32mC:\\ProgramData\\Anaconda3\\lib\\site-packages\\pandas\\core\\ops\\__init__.py\u001b[0m in \u001b[0;36mwrapper\u001b[1;34m(left, right)\u001b[0m\n\u001b[0;32m    341\u001b[0m         \u001b[0mlvalues\u001b[0m \u001b[1;33m=\u001b[0m \u001b[0mextract_array\u001b[0m\u001b[1;33m(\u001b[0m\u001b[0mleft\u001b[0m\u001b[1;33m,\u001b[0m \u001b[0mextract_numpy\u001b[0m\u001b[1;33m=\u001b[0m\u001b[1;32mTrue\u001b[0m\u001b[1;33m)\u001b[0m\u001b[1;33m\u001b[0m\u001b[1;33m\u001b[0m\u001b[0m\n\u001b[0;32m    342\u001b[0m         \u001b[0mrvalues\u001b[0m \u001b[1;33m=\u001b[0m \u001b[0mextract_array\u001b[0m\u001b[1;33m(\u001b[0m\u001b[0mright\u001b[0m\u001b[1;33m,\u001b[0m \u001b[0mextract_numpy\u001b[0m\u001b[1;33m=\u001b[0m\u001b[1;32mTrue\u001b[0m\u001b[1;33m)\u001b[0m\u001b[1;33m\u001b[0m\u001b[1;33m\u001b[0m\u001b[0m\n\u001b[1;32m--> 343\u001b[1;33m         \u001b[0mresult\u001b[0m \u001b[1;33m=\u001b[0m \u001b[0marithmetic_op\u001b[0m\u001b[1;33m(\u001b[0m\u001b[0mlvalues\u001b[0m\u001b[1;33m,\u001b[0m \u001b[0mrvalues\u001b[0m\u001b[1;33m,\u001b[0m \u001b[0mop\u001b[0m\u001b[1;33m)\u001b[0m\u001b[1;33m\u001b[0m\u001b[1;33m\u001b[0m\u001b[0m\n\u001b[0m\u001b[0;32m    344\u001b[0m \u001b[1;33m\u001b[0m\u001b[0m\n\u001b[0;32m    345\u001b[0m         \u001b[1;32mreturn\u001b[0m \u001b[0mleft\u001b[0m\u001b[1;33m.\u001b[0m\u001b[0m_construct_result\u001b[0m\u001b[1;33m(\u001b[0m\u001b[0mresult\u001b[0m\u001b[1;33m,\u001b[0m \u001b[0mname\u001b[0m\u001b[1;33m=\u001b[0m\u001b[0mres_name\u001b[0m\u001b[1;33m)\u001b[0m\u001b[1;33m\u001b[0m\u001b[1;33m\u001b[0m\u001b[0m\n",
      "\u001b[1;32mC:\\ProgramData\\Anaconda3\\lib\\site-packages\\pandas\\core\\ops\\array_ops.py\u001b[0m in \u001b[0;36marithmetic_op\u001b[1;34m(left, right, op)\u001b[0m\n\u001b[0;32m    188\u001b[0m     \u001b[1;32melse\u001b[0m\u001b[1;33m:\u001b[0m\u001b[1;33m\u001b[0m\u001b[1;33m\u001b[0m\u001b[0m\n\u001b[0;32m    189\u001b[0m         \u001b[1;32mwith\u001b[0m \u001b[0mnp\u001b[0m\u001b[1;33m.\u001b[0m\u001b[0merrstate\u001b[0m\u001b[1;33m(\u001b[0m\u001b[0mall\u001b[0m\u001b[1;33m=\u001b[0m\u001b[1;34m\"ignore\"\u001b[0m\u001b[1;33m)\u001b[0m\u001b[1;33m:\u001b[0m\u001b[1;33m\u001b[0m\u001b[1;33m\u001b[0m\u001b[0m\n\u001b[1;32m--> 190\u001b[1;33m             \u001b[0mres_values\u001b[0m \u001b[1;33m=\u001b[0m \u001b[0mna_arithmetic_op\u001b[0m\u001b[1;33m(\u001b[0m\u001b[0mlvalues\u001b[0m\u001b[1;33m,\u001b[0m \u001b[0mrvalues\u001b[0m\u001b[1;33m,\u001b[0m \u001b[0mop\u001b[0m\u001b[1;33m)\u001b[0m\u001b[1;33m\u001b[0m\u001b[1;33m\u001b[0m\u001b[0m\n\u001b[0m\u001b[0;32m    191\u001b[0m \u001b[1;33m\u001b[0m\u001b[0m\n\u001b[0;32m    192\u001b[0m     \u001b[1;32mreturn\u001b[0m \u001b[0mres_values\u001b[0m\u001b[1;33m\u001b[0m\u001b[1;33m\u001b[0m\u001b[0m\n",
      "\u001b[1;32mC:\\ProgramData\\Anaconda3\\lib\\site-packages\\pandas\\core\\ops\\array_ops.py\u001b[0m in \u001b[0;36mna_arithmetic_op\u001b[1;34m(left, right, op, is_cmp)\u001b[0m\n\u001b[0;32m    141\u001b[0m \u001b[1;33m\u001b[0m\u001b[0m\n\u001b[0;32m    142\u001b[0m     \u001b[1;32mtry\u001b[0m\u001b[1;33m:\u001b[0m\u001b[1;33m\u001b[0m\u001b[1;33m\u001b[0m\u001b[0m\n\u001b[1;32m--> 143\u001b[1;33m         \u001b[0mresult\u001b[0m \u001b[1;33m=\u001b[0m \u001b[0mexpressions\u001b[0m\u001b[1;33m.\u001b[0m\u001b[0mevaluate\u001b[0m\u001b[1;33m(\u001b[0m\u001b[0mop\u001b[0m\u001b[1;33m,\u001b[0m \u001b[0mleft\u001b[0m\u001b[1;33m,\u001b[0m \u001b[0mright\u001b[0m\u001b[1;33m)\u001b[0m\u001b[1;33m\u001b[0m\u001b[1;33m\u001b[0m\u001b[0m\n\u001b[0m\u001b[0;32m    144\u001b[0m     \u001b[1;32mexcept\u001b[0m \u001b[0mTypeError\u001b[0m\u001b[1;33m:\u001b[0m\u001b[1;33m\u001b[0m\u001b[1;33m\u001b[0m\u001b[0m\n\u001b[0;32m    145\u001b[0m         \u001b[1;32mif\u001b[0m \u001b[0mis_cmp\u001b[0m\u001b[1;33m:\u001b[0m\u001b[1;33m\u001b[0m\u001b[1;33m\u001b[0m\u001b[0m\n",
      "\u001b[1;32mC:\\ProgramData\\Anaconda3\\lib\\site-packages\\pandas\\core\\computation\\expressions.py\u001b[0m in \u001b[0;36mevaluate\u001b[1;34m(op, a, b, use_numexpr)\u001b[0m\n\u001b[0;32m    231\u001b[0m         \u001b[0muse_numexpr\u001b[0m \u001b[1;33m=\u001b[0m \u001b[0muse_numexpr\u001b[0m \u001b[1;32mand\u001b[0m \u001b[0m_bool_arith_check\u001b[0m\u001b[1;33m(\u001b[0m\u001b[0mop_str\u001b[0m\u001b[1;33m,\u001b[0m \u001b[0ma\u001b[0m\u001b[1;33m,\u001b[0m \u001b[0mb\u001b[0m\u001b[1;33m)\u001b[0m\u001b[1;33m\u001b[0m\u001b[1;33m\u001b[0m\u001b[0m\n\u001b[0;32m    232\u001b[0m         \u001b[1;32mif\u001b[0m \u001b[0muse_numexpr\u001b[0m\u001b[1;33m:\u001b[0m\u001b[1;33m\u001b[0m\u001b[1;33m\u001b[0m\u001b[0m\n\u001b[1;32m--> 233\u001b[1;33m             \u001b[1;32mreturn\u001b[0m \u001b[0m_evaluate\u001b[0m\u001b[1;33m(\u001b[0m\u001b[0mop\u001b[0m\u001b[1;33m,\u001b[0m \u001b[0mop_str\u001b[0m\u001b[1;33m,\u001b[0m \u001b[0ma\u001b[0m\u001b[1;33m,\u001b[0m \u001b[0mb\u001b[0m\u001b[1;33m)\u001b[0m  \u001b[1;31m# type: ignore\u001b[0m\u001b[1;33m\u001b[0m\u001b[1;33m\u001b[0m\u001b[0m\n\u001b[0m\u001b[0;32m    234\u001b[0m     \u001b[1;32mreturn\u001b[0m \u001b[0m_evaluate_standard\u001b[0m\u001b[1;33m(\u001b[0m\u001b[0mop\u001b[0m\u001b[1;33m,\u001b[0m \u001b[0mop_str\u001b[0m\u001b[1;33m,\u001b[0m \u001b[0ma\u001b[0m\u001b[1;33m,\u001b[0m \u001b[0mb\u001b[0m\u001b[1;33m)\u001b[0m\u001b[1;33m\u001b[0m\u001b[1;33m\u001b[0m\u001b[0m\n\u001b[0;32m    235\u001b[0m \u001b[1;33m\u001b[0m\u001b[0m\n",
      "\u001b[1;32mC:\\ProgramData\\Anaconda3\\lib\\site-packages\\pandas\\core\\computation\\expressions.py\u001b[0m in \u001b[0;36m_evaluate_numexpr\u001b[1;34m(op, op_str, a, b)\u001b[0m\n\u001b[0;32m    117\u001b[0m \u001b[1;33m\u001b[0m\u001b[0m\n\u001b[0;32m    118\u001b[0m     \u001b[1;32mif\u001b[0m \u001b[0mresult\u001b[0m \u001b[1;32mis\u001b[0m \u001b[1;32mNone\u001b[0m\u001b[1;33m:\u001b[0m\u001b[1;33m\u001b[0m\u001b[1;33m\u001b[0m\u001b[0m\n\u001b[1;32m--> 119\u001b[1;33m         \u001b[0mresult\u001b[0m \u001b[1;33m=\u001b[0m \u001b[0m_evaluate_standard\u001b[0m\u001b[1;33m(\u001b[0m\u001b[0mop\u001b[0m\u001b[1;33m,\u001b[0m \u001b[0mop_str\u001b[0m\u001b[1;33m,\u001b[0m \u001b[0ma\u001b[0m\u001b[1;33m,\u001b[0m \u001b[0mb\u001b[0m\u001b[1;33m)\u001b[0m\u001b[1;33m\u001b[0m\u001b[1;33m\u001b[0m\u001b[0m\n\u001b[0m\u001b[0;32m    120\u001b[0m \u001b[1;33m\u001b[0m\u001b[0m\n\u001b[0;32m    121\u001b[0m     \u001b[1;32mreturn\u001b[0m \u001b[0mresult\u001b[0m\u001b[1;33m\u001b[0m\u001b[1;33m\u001b[0m\u001b[0m\n",
      "\u001b[1;32mC:\\ProgramData\\Anaconda3\\lib\\site-packages\\pandas\\core\\computation\\expressions.py\u001b[0m in \u001b[0;36m_evaluate_standard\u001b[1;34m(op, op_str, a, b)\u001b[0m\n\u001b[0;32m     66\u001b[0m         \u001b[0m_store_test_result\u001b[0m\u001b[1;33m(\u001b[0m\u001b[1;32mFalse\u001b[0m\u001b[1;33m)\u001b[0m\u001b[1;33m\u001b[0m\u001b[1;33m\u001b[0m\u001b[0m\n\u001b[0;32m     67\u001b[0m     \u001b[1;32mwith\u001b[0m \u001b[0mnp\u001b[0m\u001b[1;33m.\u001b[0m\u001b[0merrstate\u001b[0m\u001b[1;33m(\u001b[0m\u001b[0mall\u001b[0m\u001b[1;33m=\u001b[0m\u001b[1;34m\"ignore\"\u001b[0m\u001b[1;33m)\u001b[0m\u001b[1;33m:\u001b[0m\u001b[1;33m\u001b[0m\u001b[1;33m\u001b[0m\u001b[0m\n\u001b[1;32m---> 68\u001b[1;33m         \u001b[1;32mreturn\u001b[0m \u001b[0mop\u001b[0m\u001b[1;33m(\u001b[0m\u001b[0ma\u001b[0m\u001b[1;33m,\u001b[0m \u001b[0mb\u001b[0m\u001b[1;33m)\u001b[0m\u001b[1;33m\u001b[0m\u001b[1;33m\u001b[0m\u001b[0m\n\u001b[0m\u001b[0;32m     69\u001b[0m \u001b[1;33m\u001b[0m\u001b[0m\n\u001b[0;32m     70\u001b[0m \u001b[1;33m\u001b[0m\u001b[0m\n",
      "\u001b[1;31mMemoryError\u001b[0m: "
     ]
    }
   ],
   "source": [
    "LCD_original_cols = LCD.columns\n",
    "# Origin merge:\n",
    "LCD.columns = LCD_original_cols.map(lambda x: str(x) + '_Origin')\n",
    "OTP_id_Origin = OTP['WBAN_Origin'] + '_' + '2019-' + OTP['MONTH'] + '-' + OTP['DAY_OF_MONTH'] + '_' + OTP['DEP_TIME_hour']\n",
    "OTP['LCD_id_Origin'] = OTP_id_Origin\n",
    "OTP_LCD_Origin = OTP.merge(LCD, how='inner', left_on='LCD_id_Origin', right_on='LCD_id')\n",
    "\n",
    "# Dest merge:\n",
    "LCD.columns = LCD_original_cols.map(lambda x: str(x) + '_Dest')\n",
    "OTP_id_Dest = OTP['WBAN_Dest'] + '_' + '2019-' + OTP['MONTH'] + '-' + OTP['DAY_OF_MONTH'] + '_' + OTP['ARR_TIME_hour']\n",
    "OTP_LCD_Origin['LCD_id_Dest'] = OTP_id_Dest\n",
    "OTP_LCD = OTP_LCD_Origin.merge(LCD, how='inner', left_on='LCD_id_Dest', right_on='LCD_id')"
   ]
  },
  {
   "cell_type": "code",
   "execution_count": null,
   "metadata": {},
   "outputs": [],
   "source": [
    "OTP_LCD.sample(5)"
   ]
  },
  {
   "cell_type": "code",
   "execution_count": null,
   "metadata": {},
   "outputs": [],
   "source": []
  },
  {
   "cell_type": "markdown",
   "metadata": {},
   "source": [
    "### 1st attempt: brute force (all at once)"
   ]
  },
  {
   "cell_type": "raw",
   "metadata": {
    "ExecuteTime": {
     "end_time": "2021-02-18T18:56:48.053828Z",
     "start_time": "2021-02-18T18:56:45.660992Z"
    }
   },
   "source": [
    "OTPLCD = OTP.merge(LCD, how='left', left_on='WBAN_Origin', right_on='WBAN')\n",
    "OTPLCD"
   ]
  },
  {
   "cell_type": "markdown",
   "metadata": {},
   "source": [
    "As expected, the \"brute-force\" approach is unfeasible. The following error is displayed:\n",
    "```\n",
    "MemoryError: Unable to allocate 617. GiB for an array with shape (82863097036,) and data type int64\n",
    "```"
   ]
  },
  {
   "cell_type": "markdown",
   "metadata": {},
   "source": [
    "### 2nd attempt: individual merges concatenated (file-by-file composition)"
   ]
  },
  {
   "cell_type": "code",
   "execution_count": null,
   "metadata": {
    "ExecuteTime": {
     "end_time": "2021-02-20T16:13:59.715977Z",
     "start_time": "2021-02-20T16:13:58.470165Z"
    }
   },
   "outputs": [],
   "source": [
    "LCD_ind = LCD[(LCD['WBAN'] == '13891') \\\n",
    "#             & (LCD['Date'] == '2019-01-01') \\\n",
    "#             & (LCD['Time_h'].isin(['00', '01']))\n",
    "              ]\n",
    "LCD_ind"
   ]
  },
  {
   "cell_type": "code",
   "execution_count": null,
   "metadata": {
    "ExecuteTime": {
     "end_time": "2021-02-20T16:14:01.032026Z",
     "start_time": "2021-02-20T16:14:01.020031Z"
    }
   },
   "outputs": [],
   "source": [
    "t1 = time.perf_counter() - t0\n",
    "print(\"Time elapsed: \", t1) # CPU seconds elapsed (floating point)"
   ]
  },
  {
   "cell_type": "markdown",
   "metadata": {},
   "source": [
    "The `missingno` represent data with horizontal sticks, the absence of a stick in place shows a null value"
   ]
  },
  {
   "cell_type": "code",
   "execution_count": null,
   "metadata": {
    "ExecuteTime": {
     "end_time": "2021-02-20T16:15:34.890849Z",
     "start_time": "2021-02-20T16:15:34.416141Z"
    }
   },
   "outputs": [],
   "source": [
    "import missingno as msno\n",
    "\n",
    "msno.matrix(LCD_ind, figsize=(14, 5), color=(0.24, 0.77, 0.77))"
   ]
  },
  {
   "cell_type": "code",
   "execution_count": null,
   "metadata": {},
   "outputs": [],
   "source": []
  },
  {
   "cell_type": "markdown",
   "metadata": {},
   "source": [
    "Observed problems:\n",
    "- Missing values (NaN's):\n",
    "    - By column:\n",
    "        - `HourlyPrecipitation`: fill with 0's\n",
    "        - `HourlySkyConditions` and `REM`: fill with empty strings i.e. ''\n",
    "        - \n",
    "    \n",
    "        \n",
    "    - There are rows which have many NaN elements → If there are more than \n",
    "- There might be different weather measurements for each hour:\n",
    "    - Let's keep the first one which presents no `NaN`"
   ]
  },
  {
   "cell_type": "code",
   "execution_count": null,
   "metadata": {},
   "outputs": [],
   "source": []
  },
  {
   "cell_type": "code",
   "execution_count": null,
   "metadata": {},
   "outputs": [],
   "source": []
  },
  {
   "cell_type": "code",
   "execution_count": null,
   "metadata": {},
   "outputs": [],
   "source": []
  },
  {
   "cell_type": "code",
   "execution_count": null,
   "metadata": {},
   "outputs": [],
   "source": [
    "OTPLCD = OTP.merge(LCD, how='left', left_on='WBAN_Origin', right_on='WBAN')\n",
    "OTPLCD"
   ]
  },
  {
   "cell_type": "code",
   "execution_count": null,
   "metadata": {},
   "outputs": [],
   "source": []
  },
  {
   "cell_type": "code",
   "execution_count": null,
   "metadata": {},
   "outputs": [],
   "source": []
  },
  {
   "cell_type": "code",
   "execution_count": null,
   "metadata": {},
   "outputs": [],
   "source": []
  },
  {
   "cell_type": "code",
   "execution_count": null,
   "metadata": {},
   "outputs": [],
   "source": []
  },
  {
   "cell_type": "code",
   "execution_count": null,
   "metadata": {
    "ExecuteTime": {
     "end_time": "2021-02-15T19:06:41.978880Z",
     "start_time": "2021-02-15T19:06:41.965890Z"
    }
   },
   "outputs": [],
   "source": [
    "t1 = time.perf_counter() - t0\n",
    "print(\"Time elapsed: \", t1) # CPU seconds elapsed (floating point)"
   ]
  },
  {
   "cell_type": "raw",
   "metadata": {},
   "source": [
    "Time elapsed:  337.227193"
   ]
  },
  {
   "cell_type": "markdown",
   "metadata": {},
   "source": [
    "___"
   ]
  },
  {
   "cell_type": "markdown",
   "metadata": {},
   "source": [
    "___"
   ]
  }
 ],
 "metadata": {
  "hide_input": false,
  "kernelspec": {
   "display_name": "Python 3",
   "language": "python",
   "name": "python3"
  },
  "language_info": {
   "codemirror_mode": {
    "name": "ipython",
    "version": 3
   },
   "file_extension": ".py",
   "mimetype": "text/x-python",
   "name": "python",
   "nbconvert_exporter": "python",
   "pygments_lexer": "ipython3",
   "version": "3.8.5"
  },
  "toc": {
   "base_numbering": 1,
   "nav_menu": {},
   "number_sections": true,
   "sideBar": true,
   "skip_h1_title": false,
   "title_cell": "Table of Contents",
   "title_sidebar": "Contents",
   "toc_cell": false,
   "toc_position": {
    "height": "calc(100% - 180px)",
    "left": "10px",
    "top": "150px",
    "width": "384px"
   },
   "toc_section_display": true,
   "toc_window_display": true
  },
  "varInspector": {
   "cols": {
    "lenName": 16,
    "lenType": 16,
    "lenVar": 40
   },
   "kernels_config": {
    "python": {
     "delete_cmd_postfix": "",
     "delete_cmd_prefix": "del ",
     "library": "var_list.py",
     "varRefreshCmd": "print(var_dic_list())"
    },
    "r": {
     "delete_cmd_postfix": ") ",
     "delete_cmd_prefix": "rm(",
     "library": "var_list.r",
     "varRefreshCmd": "cat(var_dic_list()) "
    }
   },
   "position": {
    "height": "817px",
    "left": "1550px",
    "right": "20px",
    "top": "114px",
    "width": "350px"
   },
   "types_to_exclude": [
    "module",
    "function",
    "builtin_function_or_method",
    "instance",
    "_Feature"
   ],
   "window_display": true
  }
 },
 "nbformat": 4,
 "nbformat_minor": 4
}
