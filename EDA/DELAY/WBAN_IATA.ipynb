{
 "cells": [
  {
   "cell_type": "code",
   "execution_count": 1,
   "metadata": {
    "ExecuteTime": {
     "end_time": "2021-02-11T18:32:21.257507Z",
     "start_time": "2021-02-11T18:30:48.662275Z"
    }
   },
   "outputs": [],
   "source": [
    "# Import libraries to be used\n",
    "\n",
    "# Warning messages display\n",
    "## import warnings\n",
    "## warnings.filterwarnings(action='ignore') # https://docs.python.org/3/library/warnings.html#the-warnings-filter\n",
    "\n",
    "# Directories/Files management\n",
    "import os.path\n",
    "## from zipfile import ZipFile # De momento no ha hecho falta \n",
    "\n",
    "# Timing\n",
    "import time\n",
    "\n",
    "# Memory monitoring\n",
    "%load_ext memory_profiler\n",
    "### Use '%memit' to check at each point\n",
    "\n",
    "# Data analysis and wrangling\n",
    "import pandas as pd\n",
    "import numpy as np\n",
    "pd.set_option('display.max_columns', None) # Show all columns in DataFrames\n",
    "## pd.set_option('display.max_rows', None) # It greatly slows down the output display and freezes the kernel\n",
    "\n",
    "# Visualization\n",
    "import matplotlib.pyplot as plt\n",
    "import seaborn as sns\n",
    "%matplotlib inline\n",
    "plt.style.use('ggplot') # choose a style: 'plt.style.available'\n",
    "sns.set_theme(context='notebook',\n",
    "              style=\"darkgrid\") # {darkgrid, whitegrid, dark, white, ticks}\n",
    "palette = sns.color_palette(\"flare\", as_cmap=True);\n",
    "import altair as alt\n",
    "\n",
    "# Machine Learning\n",
    "## from sklearn.[...] import ..."
   ]
  },
  {
   "cell_type": "code",
   "execution_count": 2,
   "metadata": {
    "ExecuteTime": {
     "end_time": "2021-02-11T18:32:21.288490Z",
     "start_time": "2021-02-11T18:32:21.268503Z"
    }
   },
   "outputs": [],
   "source": [
    "t0 = time.perf_counter() "
   ]
  },
  {
   "cell_type": "code",
   "execution_count": 3,
   "metadata": {
    "ExecuteTime": {
     "end_time": "2021-02-11T18:32:21.675914Z",
     "start_time": "2021-02-11T18:32:21.292485Z"
    },
    "scrolled": true
   },
   "outputs": [
    {
     "name": "stdout",
     "output_type": "stream",
     "text": [
      "Running on Windows.\n",
      "root path\t C:\\Users\\turge\\CompartidoVM\\0.TFM\n"
     ]
    }
   ],
   "source": [
    "# Detect Operating System running and manage paths accordingly\n",
    "\n",
    "if os.name == 'nt': # Windows\n",
    "    root = r\"C:\\Users\\turge\\CompartidoVM\\0.TFM\"\n",
    "    print(\"Running on Windows.\")\n",
    "elif os.name == 'posix': # Ubuntu\n",
    "    root = \"/home/dsc/shared/0.TFM\"\n",
    "    print(\"Running on Ubuntu.\")\n",
    "print(\"root path\\t\", root)"
   ]
  },
  {
   "cell_type": "markdown",
   "metadata": {},
   "source": [
    "Additional information on each column meaning can be found [here](https://www.transtats.bts.gov/Fields.asp?Table_ID=236&SYS_Table_Name=T_ONTIME_REPORTING&User_Table_Name=Reporting%20Carrier%20On-Time%20Performance%20(1987-present)&Year_Info=1&First_Year=1987&Last_Year=2020&Rate_Info=0&Frequency=Monthly&Data_Frequency=Annual,Quarterly,Monthly)."
   ]
  },
  {
   "cell_type": "markdown",
   "metadata": {},
   "source": [
    "___"
   ]
  },
  {
   "cell_type": "markdown",
   "metadata": {},
   "source": [
    "# 2. Get the data"
   ]
  },
  {
   "cell_type": "markdown",
   "metadata": {},
   "source": [
    "### OTP (2019)"
   ]
  },
  {
   "cell_type": "markdown",
   "metadata": {},
   "source": [
    "Let's first check which airports are present in the OTP dataset, and later compare them to those appearing in the WBAN database. Ideally, all the airports contained in the OTP dataset should appear in the WBAN database. This would mean that there presumably might be a weather station at each of those airports."
   ]
  },
  {
   "cell_type": "code",
   "execution_count": 4,
   "metadata": {
    "ExecuteTime": {
     "end_time": "2021-02-11T18:32:22.017324Z",
     "start_time": "2021-02-11T18:32:21.679911Z"
    }
   },
   "outputs": [],
   "source": [
    "cols = ['ORIGIN', 'DEST']"
   ]
  },
  {
   "cell_type": "code",
   "execution_count": 5,
   "metadata": {
    "ExecuteTime": {
     "end_time": "2021-02-11T18:32:22.311224Z",
     "start_time": "2021-02-11T18:32:22.025320Z"
    },
    "scrolled": false
   },
   "outputs": [
    {
     "data": {
      "text/plain": [
       "'C:\\\\Users\\\\turge\\\\CompartidoVM\\\\0.TFM\\\\Output_Data\\\\US_DoT\\\\AL_OTP_MVP_Preprocessed_19_v2_clean.csv'"
      ]
     },
     "execution_count": 5,
     "metadata": {},
     "output_type": "execute_result"
    }
   ],
   "source": [
    "preprocessed_input_csv_path = os.path.join(root,\n",
    "                                           \"Output_Data\",\n",
    "                                           \"US_DoT\",\n",
    "                                           \"AL_OTP_MVP_Preprocessed_19_v2_clean.csv\")\n",
    "preprocessed_input_csv_path"
   ]
  },
  {
   "cell_type": "code",
   "execution_count": 6,
   "metadata": {
    "ExecuteTime": {
     "end_time": "2021-02-11T18:32:22.718362Z",
     "start_time": "2021-02-11T18:32:22.314222Z"
    }
   },
   "outputs": [],
   "source": [
    "cols_dtypes = {'ORIGIN' : 'category', 'DEST' : 'category'}"
   ]
  },
  {
   "cell_type": "code",
   "execution_count": 7,
   "metadata": {
    "ExecuteTime": {
     "end_time": "2021-02-11T18:33:12.312963Z",
     "start_time": "2021-02-11T18:32:22.731347Z"
    },
    "scrolled": true
   },
   "outputs": [
    {
     "name": "stdout",
     "output_type": "stream",
     "text": [
      "Wall time: 49.2 s\n"
     ]
    }
   ],
   "source": [
    "%%time\n",
    "\n",
    "OTP = pd.read_csv(preprocessed_input_csv_path,\n",
    "                  encoding='latin1',\n",
    "                  usecols=cols,\n",
    "                  low_memory = False)"
   ]
  },
  {
   "cell_type": "code",
   "execution_count": 8,
   "metadata": {
    "ExecuteTime": {
     "end_time": "2021-02-11T18:33:14.071577Z",
     "start_time": "2021-02-11T18:33:12.331947Z"
    }
   },
   "outputs": [
    {
     "data": {
      "text/html": [
       "<div>\n",
       "<style scoped>\n",
       "    .dataframe tbody tr th:only-of-type {\n",
       "        vertical-align: middle;\n",
       "    }\n",
       "\n",
       "    .dataframe tbody tr th {\n",
       "        vertical-align: top;\n",
       "    }\n",
       "\n",
       "    .dataframe thead th {\n",
       "        text-align: right;\n",
       "    }\n",
       "</style>\n",
       "<table border=\"1\" class=\"dataframe\">\n",
       "  <thead>\n",
       "    <tr style=\"text-align: right;\">\n",
       "      <th></th>\n",
       "      <th>ORIGIN</th>\n",
       "      <th>DEST</th>\n",
       "    </tr>\n",
       "  </thead>\n",
       "  <tbody>\n",
       "    <tr>\n",
       "      <th>0</th>\n",
       "      <td>TYS</td>\n",
       "      <td>ATL</td>\n",
       "    </tr>\n",
       "    <tr>\n",
       "      <th>1</th>\n",
       "      <td>TYS</td>\n",
       "      <td>ATL</td>\n",
       "    </tr>\n",
       "    <tr>\n",
       "      <th>2</th>\n",
       "      <td>ATL</td>\n",
       "      <td>SGF</td>\n",
       "    </tr>\n",
       "    <tr>\n",
       "      <th>3</th>\n",
       "      <td>ATL</td>\n",
       "      <td>SGF</td>\n",
       "    </tr>\n",
       "    <tr>\n",
       "      <th>4</th>\n",
       "      <td>ATL</td>\n",
       "      <td>SGF</td>\n",
       "    </tr>\n",
       "    <tr>\n",
       "      <th>...</th>\n",
       "      <td>...</td>\n",
       "      <td>...</td>\n",
       "    </tr>\n",
       "    <tr>\n",
       "      <th>7268227</th>\n",
       "      <td>MCO</td>\n",
       "      <td>SWF</td>\n",
       "    </tr>\n",
       "    <tr>\n",
       "      <th>7268228</th>\n",
       "      <td>DCA</td>\n",
       "      <td>BOS</td>\n",
       "    </tr>\n",
       "    <tr>\n",
       "      <th>7268229</th>\n",
       "      <td>PHL</td>\n",
       "      <td>BOS</td>\n",
       "    </tr>\n",
       "    <tr>\n",
       "      <th>7268230</th>\n",
       "      <td>BOS</td>\n",
       "      <td>SJU</td>\n",
       "    </tr>\n",
       "    <tr>\n",
       "      <th>7268231</th>\n",
       "      <td>SJU</td>\n",
       "      <td>BOS</td>\n",
       "    </tr>\n",
       "  </tbody>\n",
       "</table>\n",
       "<p>7268232 rows × 2 columns</p>\n",
       "</div>"
      ],
      "text/plain": [
       "        ORIGIN DEST\n",
       "0          TYS  ATL\n",
       "1          TYS  ATL\n",
       "2          ATL  SGF\n",
       "3          ATL  SGF\n",
       "4          ATL  SGF\n",
       "...        ...  ...\n",
       "7268227    MCO  SWF\n",
       "7268228    DCA  BOS\n",
       "7268229    PHL  BOS\n",
       "7268230    BOS  SJU\n",
       "7268231    SJU  BOS\n",
       "\n",
       "[7268232 rows x 2 columns]"
      ]
     },
     "execution_count": 8,
     "metadata": {},
     "output_type": "execute_result"
    }
   ],
   "source": [
    "# Cast types in accordance to previously defined dictionary:\n",
    "OTP = OTP.astype(cols_dtypes)\n",
    "# Display DF columns according to 'cols' order:\n",
    "OTP = OTP[cols]\n",
    "OTP"
   ]
  },
  {
   "cell_type": "code",
   "execution_count": 9,
   "metadata": {
    "ExecuteTime": {
     "end_time": "2021-02-11T18:33:14.291478Z",
     "start_time": "2021-02-11T18:33:14.076575Z"
    }
   },
   "outputs": [
    {
     "data": {
      "text/plain": [
       "['TYS', 'ATL', 'SGF', 'SRQ', 'DTW', ..., 'AKN', 'DLG', 'HYA', 'PGV', 'XWA']\n",
       "Length: 360\n",
       "Categories (360, object): ['TYS', 'ATL', 'SGF', 'SRQ', ..., 'DLG', 'HYA', 'PGV', 'XWA']"
      ]
     },
     "execution_count": 9,
     "metadata": {},
     "output_type": "execute_result"
    }
   ],
   "source": [
    "OTP_IATAs = OTP['ORIGIN'].unique()\n",
    "OTP_IATAs"
   ]
  },
  {
   "cell_type": "markdown",
   "metadata": {},
   "source": [
    "### WBAN list (\"MASTER-STN-HIST.txt\")"
   ]
  },
  {
   "cell_type": "markdown",
   "metadata": {},
   "source": [
    "#### Import the source TXT file and clean it"
   ]
  },
  {
   "cell_type": "code",
   "execution_count": 10,
   "metadata": {
    "ExecuteTime": {
     "end_time": "2021-02-11T18:33:14.306470Z",
     "start_time": "2021-02-11T18:33:14.294477Z"
    }
   },
   "outputs": [
    {
     "data": {
      "text/plain": [
       "'C:\\\\Users\\\\turge\\\\CompartidoVM\\\\0.TFM\\\\Raw_Data\\\\NOAA\\\\WBAN\\\\MASTER-STN-HIST.txt'"
      ]
     },
     "execution_count": 10,
     "metadata": {},
     "output_type": "execute_result"
    }
   ],
   "source": [
    "txt_path = os.path.join(root,\n",
    "                        \"Raw_Data\",\n",
    "                        \"NOAA\",\n",
    "                        \"WBAN\",\n",
    "                        \"MASTER-STN-HIST.txt\")\n",
    "\n",
    "txt_path"
   ]
  },
  {
   "cell_type": "code",
   "execution_count": 11,
   "metadata": {
    "ExecuteTime": {
     "end_time": "2021-02-11T18:33:16.331741Z",
     "start_time": "2021-02-11T18:33:14.311466Z"
    },
    "scrolled": false
   },
   "outputs": [
    {
     "data": {
      "text/plain": [
       "['10000001^24285^^^^^UNITED STATES^+8^NEWPORT MUNI AP',\n",
       " '10000001^24285^^^^^UNITED STATES^+8^NEWPORT MUNI AP',\n",
       " '10000001^24285^^^^^UNITED STATES^+8^NEWPORT MUNI AP',\n",
       " '10000001^24285^^^^^UNITED STATES^+8^NEWPORT MUNI AP',\n",
       " '10000001^24285^^^^^UNITED STATES^+8^NEWPORT MUNI AP',\n",
       " '10000001^24285^^ONP^ONP^KONP^UNITED STATES^+8^NEWPORT MUNI AP',\n",
       " '10000001^24285^^ONP^ONP^KONP^UNITED STATES^+8^NEWPORT MUNI AP',\n",
       " '10000001^24285^^ONP^ONP^KONP^UNITED STATES^+8^NEWPORT MUNI AP',\n",
       " '10000001^24285^^ONP^ONP^KONP^UNITED STATES^+8^NEWPORT MUNI AP',\n",
       " '10000158^^^^^^UNITED STATES^+9^GUSTAVUS']"
      ]
     },
     "execution_count": 11,
     "metadata": {},
     "output_type": "execute_result"
    }
   ],
   "source": [
    "new_file = []\n",
    "with open (txt_path, 'r') as f:\n",
    "    next(f) # Skip the first row, since it's a header\n",
    "    i = 0\n",
    "    for line in f.readlines():\n",
    "        HOMR_ID = line[0:8]\n",
    "        WBAN = line[22:27]\n",
    "        WMO = line[28:33]\n",
    "        FAA_LOC_ID = line[34:38]\n",
    "        NWS_LOC_ID = line[39:44]\n",
    "        ICAO_ID = line[45:49]\n",
    "        COUNTRY = line[50:70]\n",
    "        TIME_ZONE = line[105:110]\n",
    "        HIST_WBAN_NAME = line[142:172]\n",
    "        new_line = [HOMR_ID, WBAN, WMO, FAA_LOC_ID, NWS_LOC_ID, ICAO_ID, COUNTRY, TIME_ZONE, HIST_WBAN_NAME]\n",
    "#         print(HOMR_ID, WBAN, WMO, FAA_LOC_ID, NWS_LOC_ID, ICAO_ID, COUNTRY, TIME_ZONE, HIST_WBAN_NAME)\n",
    "        new_line_2 = []\n",
    "        for field in new_line:\n",
    "            field = field.strip()\n",
    "            new_line_2.append(field)\n",
    "        new_line_2 = '^'.join(new_line_2)\n",
    "#         print(new_line_2)\n",
    "        new_file.append(new_line_2)\n",
    "\n",
    "#         i += 1\n",
    "#         if i == 15:\n",
    "#             break\n",
    "            \n",
    "new_file[:10]"
   ]
  },
  {
   "cell_type": "code",
   "execution_count": 12,
   "metadata": {
    "ExecuteTime": {
     "end_time": "2021-02-11T18:33:16.347730Z",
     "start_time": "2021-02-11T18:33:16.336737Z"
    }
   },
   "outputs": [
    {
     "data": {
      "text/plain": [
       "'C:\\\\Users\\\\turge\\\\CompartidoVM\\\\0.TFM\\\\Output_Data\\\\NOAA\\\\MASTER-STN-HIST_preprocessed.csv'"
      ]
     },
     "execution_count": 12,
     "metadata": {},
     "output_type": "execute_result"
    }
   ],
   "source": [
    "csv_output_path = os.path.join(root,\n",
    "                               \"Output_Data\",\n",
    "                               \"NOAA\",\n",
    "                               \"MASTER-STN-HIST_preprocessed.csv\")\n",
    "\n",
    "csv_output_path"
   ]
  },
  {
   "cell_type": "code",
   "execution_count": 13,
   "metadata": {
    "ExecuteTime": {
     "end_time": "2021-02-11T18:33:16.569773Z",
     "start_time": "2021-02-11T18:33:16.351728Z"
    }
   },
   "outputs": [],
   "source": [
    "with open(csv_output_path, 'w') as f:\n",
    "    headers = ['HOMR_ID', 'WBAN', 'WMO', 'FAA_LOC_ID', 'NWS_LOC_ID', 'ICAO_ID', 'COUNTRY', 'TIME_ZONE', 'HIST_WBAN_NAME']\n",
    "    f.write('^'.join(headers))\n",
    "    f.write('\\n')\n",
    "    f.write('\\n'.join(new_file))    "
   ]
  },
  {
   "cell_type": "markdown",
   "metadata": {},
   "source": [
    "___"
   ]
  },
  {
   "cell_type": "markdown",
   "metadata": {},
   "source": [
    "#### Import the recently generated CSV file and start exploring it"
   ]
  },
  {
   "cell_type": "code",
   "execution_count": 14,
   "metadata": {
    "ExecuteTime": {
     "end_time": "2021-02-11T18:33:16.585764Z",
     "start_time": "2021-02-11T18:33:16.575770Z"
    }
   },
   "outputs": [
    {
     "data": {
      "text/plain": [
       "'C:\\\\Users\\\\turge\\\\CompartidoVM\\\\0.TFM\\\\Output_Data\\\\NOAA\\\\MASTER-STN-HIST_preprocessed.csv'"
      ]
     },
     "execution_count": 14,
     "metadata": {},
     "output_type": "execute_result"
    }
   ],
   "source": [
    "csv_path = os.path.join(root,\n",
    "                        \"Output_Data\",\n",
    "                        \"NOAA\",\n",
    "                        \"MASTER-STN-HIST_preprocessed.csv\")\n",
    "\n",
    "csv_path"
   ]
  },
  {
   "cell_type": "code",
   "execution_count": 15,
   "metadata": {
    "ExecuteTime": {
     "end_time": "2021-02-11T18:33:16.949701Z",
     "start_time": "2021-02-11T18:33:16.590760Z"
    },
    "scrolled": false
   },
   "outputs": [
    {
     "data": {
      "text/html": [
       "<div>\n",
       "<style scoped>\n",
       "    .dataframe tbody tr th:only-of-type {\n",
       "        vertical-align: middle;\n",
       "    }\n",
       "\n",
       "    .dataframe tbody tr th {\n",
       "        vertical-align: top;\n",
       "    }\n",
       "\n",
       "    .dataframe thead th {\n",
       "        text-align: right;\n",
       "    }\n",
       "</style>\n",
       "<table border=\"1\" class=\"dataframe\">\n",
       "  <thead>\n",
       "    <tr style=\"text-align: right;\">\n",
       "      <th></th>\n",
       "      <th>HOMR_ID</th>\n",
       "      <th>WBAN</th>\n",
       "      <th>WMO</th>\n",
       "      <th>FAA_LOC_ID</th>\n",
       "      <th>NWS_LOC_ID</th>\n",
       "      <th>ICAO_ID</th>\n",
       "      <th>COUNTRY</th>\n",
       "      <th>TIME_ZONE</th>\n",
       "      <th>HIST_WBAN_NAME</th>\n",
       "    </tr>\n",
       "  </thead>\n",
       "  <tbody>\n",
       "    <tr>\n",
       "      <th>0</th>\n",
       "      <td>10000001</td>\n",
       "      <td>24285.0</td>\n",
       "      <td>NaN</td>\n",
       "      <td>NaN</td>\n",
       "      <td>NaN</td>\n",
       "      <td>NaN</td>\n",
       "      <td>UNITED STATES</td>\n",
       "      <td>8.0</td>\n",
       "      <td>NEWPORT MUNI AP</td>\n",
       "    </tr>\n",
       "    <tr>\n",
       "      <th>1</th>\n",
       "      <td>10000001</td>\n",
       "      <td>24285.0</td>\n",
       "      <td>NaN</td>\n",
       "      <td>NaN</td>\n",
       "      <td>NaN</td>\n",
       "      <td>NaN</td>\n",
       "      <td>UNITED STATES</td>\n",
       "      <td>8.0</td>\n",
       "      <td>NEWPORT MUNI AP</td>\n",
       "    </tr>\n",
       "    <tr>\n",
       "      <th>2</th>\n",
       "      <td>10000001</td>\n",
       "      <td>24285.0</td>\n",
       "      <td>NaN</td>\n",
       "      <td>NaN</td>\n",
       "      <td>NaN</td>\n",
       "      <td>NaN</td>\n",
       "      <td>UNITED STATES</td>\n",
       "      <td>8.0</td>\n",
       "      <td>NEWPORT MUNI AP</td>\n",
       "    </tr>\n",
       "    <tr>\n",
       "      <th>3</th>\n",
       "      <td>10000001</td>\n",
       "      <td>24285.0</td>\n",
       "      <td>NaN</td>\n",
       "      <td>NaN</td>\n",
       "      <td>NaN</td>\n",
       "      <td>NaN</td>\n",
       "      <td>UNITED STATES</td>\n",
       "      <td>8.0</td>\n",
       "      <td>NEWPORT MUNI AP</td>\n",
       "    </tr>\n",
       "    <tr>\n",
       "      <th>4</th>\n",
       "      <td>10000001</td>\n",
       "      <td>24285.0</td>\n",
       "      <td>NaN</td>\n",
       "      <td>NaN</td>\n",
       "      <td>NaN</td>\n",
       "      <td>NaN</td>\n",
       "      <td>UNITED STATES</td>\n",
       "      <td>8.0</td>\n",
       "      <td>NEWPORT MUNI AP</td>\n",
       "    </tr>\n",
       "    <tr>\n",
       "      <th>...</th>\n",
       "      <td>...</td>\n",
       "      <td>...</td>\n",
       "      <td>...</td>\n",
       "      <td>...</td>\n",
       "      <td>...</td>\n",
       "      <td>...</td>\n",
       "      <td>...</td>\n",
       "      <td>...</td>\n",
       "      <td>...</td>\n",
       "    </tr>\n",
       "    <tr>\n",
       "      <th>178011</th>\n",
       "      <td>30125303</td>\n",
       "      <td>NaN</td>\n",
       "      <td>NaN</td>\n",
       "      <td>NaN</td>\n",
       "      <td>NaN</td>\n",
       "      <td>NaN</td>\n",
       "      <td>UNITED STATES</td>\n",
       "      <td>5.0</td>\n",
       "      <td>CAMDEN</td>\n",
       "    </tr>\n",
       "    <tr>\n",
       "      <th>178012</th>\n",
       "      <td>30125303</td>\n",
       "      <td>NaN</td>\n",
       "      <td>NaN</td>\n",
       "      <td>NaN</td>\n",
       "      <td>NaN</td>\n",
       "      <td>NaN</td>\n",
       "      <td>UNITED STATES</td>\n",
       "      <td>5.0</td>\n",
       "      <td>CAMDEN</td>\n",
       "    </tr>\n",
       "    <tr>\n",
       "      <th>178013</th>\n",
       "      <td>30125303</td>\n",
       "      <td>NaN</td>\n",
       "      <td>NaN</td>\n",
       "      <td>NaN</td>\n",
       "      <td>NaN</td>\n",
       "      <td>NaN</td>\n",
       "      <td>UNITED STATES</td>\n",
       "      <td>5.0</td>\n",
       "      <td>CAMDEN</td>\n",
       "    </tr>\n",
       "    <tr>\n",
       "      <th>178014</th>\n",
       "      <td>30125303</td>\n",
       "      <td>NaN</td>\n",
       "      <td>NaN</td>\n",
       "      <td>NaN</td>\n",
       "      <td>NaN</td>\n",
       "      <td>NaN</td>\n",
       "      <td>UNITED STATES</td>\n",
       "      <td>5.0</td>\n",
       "      <td>CAMDEN</td>\n",
       "    </tr>\n",
       "    <tr>\n",
       "      <th>178015</th>\n",
       "      <td>30125303</td>\n",
       "      <td>NaN</td>\n",
       "      <td>NaN</td>\n",
       "      <td>NaN</td>\n",
       "      <td>NaN</td>\n",
       "      <td>NaN</td>\n",
       "      <td>UNITED STATES</td>\n",
       "      <td>5.0</td>\n",
       "      <td>CAMDEN</td>\n",
       "    </tr>\n",
       "  </tbody>\n",
       "</table>\n",
       "<p>178016 rows × 9 columns</p>\n",
       "</div>"
      ],
      "text/plain": [
       "         HOMR_ID     WBAN  WMO FAA_LOC_ID NWS_LOC_ID ICAO_ID        COUNTRY  \\\n",
       "0       10000001  24285.0  NaN        NaN        NaN     NaN  UNITED STATES   \n",
       "1       10000001  24285.0  NaN        NaN        NaN     NaN  UNITED STATES   \n",
       "2       10000001  24285.0  NaN        NaN        NaN     NaN  UNITED STATES   \n",
       "3       10000001  24285.0  NaN        NaN        NaN     NaN  UNITED STATES   \n",
       "4       10000001  24285.0  NaN        NaN        NaN     NaN  UNITED STATES   \n",
       "...          ...      ...  ...        ...        ...     ...            ...   \n",
       "178011  30125303      NaN  NaN        NaN        NaN     NaN  UNITED STATES   \n",
       "178012  30125303      NaN  NaN        NaN        NaN     NaN  UNITED STATES   \n",
       "178013  30125303      NaN  NaN        NaN        NaN     NaN  UNITED STATES   \n",
       "178014  30125303      NaN  NaN        NaN        NaN     NaN  UNITED STATES   \n",
       "178015  30125303      NaN  NaN        NaN        NaN     NaN  UNITED STATES   \n",
       "\n",
       "        TIME_ZONE   HIST_WBAN_NAME  \n",
       "0             8.0  NEWPORT MUNI AP  \n",
       "1             8.0  NEWPORT MUNI AP  \n",
       "2             8.0  NEWPORT MUNI AP  \n",
       "3             8.0  NEWPORT MUNI AP  \n",
       "4             8.0  NEWPORT MUNI AP  \n",
       "...           ...              ...  \n",
       "178011        5.0           CAMDEN  \n",
       "178012        5.0           CAMDEN  \n",
       "178013        5.0           CAMDEN  \n",
       "178014        5.0           CAMDEN  \n",
       "178015        5.0           CAMDEN  \n",
       "\n",
       "[178016 rows x 9 columns]"
      ]
     },
     "execution_count": 15,
     "metadata": {},
     "output_type": "execute_result"
    }
   ],
   "source": [
    "WBAN = pd.read_csv(csv_path,\n",
    "                   sep='^',\n",
    "                   encoding='latin1',\n",
    "                   low_memory = False)\n",
    "WBAN"
   ]
  },
  {
   "cell_type": "code",
   "execution_count": 16,
   "metadata": {
    "ExecuteTime": {
     "end_time": "2021-02-11T18:33:17.121727Z",
     "start_time": "2021-02-11T18:33:16.952699Z"
    }
   },
   "outputs": [
    {
     "data": {
      "text/html": [
       "<div>\n",
       "<style scoped>\n",
       "    .dataframe tbody tr th:only-of-type {\n",
       "        vertical-align: middle;\n",
       "    }\n",
       "\n",
       "    .dataframe tbody tr th {\n",
       "        vertical-align: top;\n",
       "    }\n",
       "\n",
       "    .dataframe thead th {\n",
       "        text-align: right;\n",
       "    }\n",
       "</style>\n",
       "<table border=\"1\" class=\"dataframe\">\n",
       "  <thead>\n",
       "    <tr style=\"text-align: right;\">\n",
       "      <th></th>\n",
       "      <th>HOMR_ID</th>\n",
       "      <th>WBAN</th>\n",
       "      <th>WMO</th>\n",
       "      <th>FAA_LOC_ID</th>\n",
       "      <th>NWS_LOC_ID</th>\n",
       "      <th>ICAO_ID</th>\n",
       "      <th>COUNTRY</th>\n",
       "      <th>TIME_ZONE</th>\n",
       "      <th>HIST_WBAN_NAME</th>\n",
       "    </tr>\n",
       "  </thead>\n",
       "  <tbody>\n",
       "    <tr>\n",
       "      <th>0</th>\n",
       "      <td>10000001</td>\n",
       "      <td>24285.0</td>\n",
       "      <td>NaN</td>\n",
       "      <td>NaN</td>\n",
       "      <td>NaN</td>\n",
       "      <td>NaN</td>\n",
       "      <td>UNITED STATES</td>\n",
       "      <td>8.0</td>\n",
       "      <td>NEWPORT MUNI AP</td>\n",
       "    </tr>\n",
       "    <tr>\n",
       "      <th>5</th>\n",
       "      <td>10000001</td>\n",
       "      <td>24285.0</td>\n",
       "      <td>NaN</td>\n",
       "      <td>ONP</td>\n",
       "      <td>ONP</td>\n",
       "      <td>KONP</td>\n",
       "      <td>UNITED STATES</td>\n",
       "      <td>8.0</td>\n",
       "      <td>NEWPORT MUNI AP</td>\n",
       "    </tr>\n",
       "    <tr>\n",
       "      <th>9</th>\n",
       "      <td>10000158</td>\n",
       "      <td>NaN</td>\n",
       "      <td>NaN</td>\n",
       "      <td>NaN</td>\n",
       "      <td>NaN</td>\n",
       "      <td>NaN</td>\n",
       "      <td>UNITED STATES</td>\n",
       "      <td>9.0</td>\n",
       "      <td>GUSTAVUS</td>\n",
       "    </tr>\n",
       "    <tr>\n",
       "      <th>11</th>\n",
       "      <td>10000158</td>\n",
       "      <td>25322.0</td>\n",
       "      <td>NaN</td>\n",
       "      <td>NaN</td>\n",
       "      <td>NaN</td>\n",
       "      <td>NaN</td>\n",
       "      <td>UNITED STATES</td>\n",
       "      <td>9.0</td>\n",
       "      <td>GUSTAVUS AP</td>\n",
       "    </tr>\n",
       "    <tr>\n",
       "      <th>13</th>\n",
       "      <td>10000158</td>\n",
       "      <td>25322.0</td>\n",
       "      <td>70367.0</td>\n",
       "      <td>GST</td>\n",
       "      <td>GST</td>\n",
       "      <td>PAGS</td>\n",
       "      <td>UNITED STATES</td>\n",
       "      <td>9.0</td>\n",
       "      <td>GUSTAVUS AP</td>\n",
       "    </tr>\n",
       "    <tr>\n",
       "      <th>...</th>\n",
       "      <td>...</td>\n",
       "      <td>...</td>\n",
       "      <td>...</td>\n",
       "      <td>...</td>\n",
       "      <td>...</td>\n",
       "      <td>...</td>\n",
       "      <td>...</td>\n",
       "      <td>...</td>\n",
       "      <td>...</td>\n",
       "    </tr>\n",
       "    <tr>\n",
       "      <th>178007</th>\n",
       "      <td>30122585</td>\n",
       "      <td>48717.0</td>\n",
       "      <td>NaN</td>\n",
       "      <td>NaN</td>\n",
       "      <td>NaN</td>\n",
       "      <td>NaN</td>\n",
       "      <td>SAUDI ARABIA</td>\n",
       "      <td>-3.0</td>\n",
       "      <td>DHAHRAN</td>\n",
       "    </tr>\n",
       "    <tr>\n",
       "      <th>178008</th>\n",
       "      <td>30122586</td>\n",
       "      <td>48718.0</td>\n",
       "      <td>NaN</td>\n",
       "      <td>NaN</td>\n",
       "      <td>NaN</td>\n",
       "      <td>NaN</td>\n",
       "      <td>SAUDI ARABIA</td>\n",
       "      <td>-3.0</td>\n",
       "      <td>HAFR ELBATIN</td>\n",
       "    </tr>\n",
       "    <tr>\n",
       "      <th>178009</th>\n",
       "      <td>30125300</td>\n",
       "      <td>NaN</td>\n",
       "      <td>NaN</td>\n",
       "      <td>NaN</td>\n",
       "      <td>JEFS2</td>\n",
       "      <td>NaN</td>\n",
       "      <td>UNITED STATES</td>\n",
       "      <td>5.0</td>\n",
       "      <td>JEFFERSON 0.1NW</td>\n",
       "    </tr>\n",
       "    <tr>\n",
       "      <th>178010</th>\n",
       "      <td>30125302</td>\n",
       "      <td>NaN</td>\n",
       "      <td>NaN</td>\n",
       "      <td>NaN</td>\n",
       "      <td>FGNA3</td>\n",
       "      <td>NaN</td>\n",
       "      <td>UNITED STATES</td>\n",
       "      <td>7.0</td>\n",
       "      <td>FLAGSTAFF 14N</td>\n",
       "    </tr>\n",
       "    <tr>\n",
       "      <th>178011</th>\n",
       "      <td>30125303</td>\n",
       "      <td>NaN</td>\n",
       "      <td>NaN</td>\n",
       "      <td>NaN</td>\n",
       "      <td>NaN</td>\n",
       "      <td>NaN</td>\n",
       "      <td>UNITED STATES</td>\n",
       "      <td>5.0</td>\n",
       "      <td>CAMDEN</td>\n",
       "    </tr>\n",
       "  </tbody>\n",
       "</table>\n",
       "<p>45604 rows × 9 columns</p>\n",
       "</div>"
      ],
      "text/plain": [
       "         HOMR_ID     WBAN      WMO FAA_LOC_ID NWS_LOC_ID ICAO_ID  \\\n",
       "0       10000001  24285.0      NaN        NaN        NaN     NaN   \n",
       "5       10000001  24285.0      NaN        ONP        ONP    KONP   \n",
       "9       10000158      NaN      NaN        NaN        NaN     NaN   \n",
       "11      10000158  25322.0      NaN        NaN        NaN     NaN   \n",
       "13      10000158  25322.0  70367.0        GST        GST    PAGS   \n",
       "...          ...      ...      ...        ...        ...     ...   \n",
       "178007  30122585  48717.0      NaN        NaN        NaN     NaN   \n",
       "178008  30122586  48718.0      NaN        NaN        NaN     NaN   \n",
       "178009  30125300      NaN      NaN        NaN      JEFS2     NaN   \n",
       "178010  30125302      NaN      NaN        NaN      FGNA3     NaN   \n",
       "178011  30125303      NaN      NaN        NaN        NaN     NaN   \n",
       "\n",
       "              COUNTRY  TIME_ZONE   HIST_WBAN_NAME  \n",
       "0       UNITED STATES        8.0  NEWPORT MUNI AP  \n",
       "5       UNITED STATES        8.0  NEWPORT MUNI AP  \n",
       "9       UNITED STATES        9.0         GUSTAVUS  \n",
       "11      UNITED STATES        9.0      GUSTAVUS AP  \n",
       "13      UNITED STATES        9.0      GUSTAVUS AP  \n",
       "...               ...        ...              ...  \n",
       "178007   SAUDI ARABIA       -3.0          DHAHRAN  \n",
       "178008   SAUDI ARABIA       -3.0     HAFR ELBATIN  \n",
       "178009  UNITED STATES        5.0  JEFFERSON 0.1NW  \n",
       "178010  UNITED STATES        7.0    FLAGSTAFF 14N  \n",
       "178011  UNITED STATES        5.0           CAMDEN  \n",
       "\n",
       "[45604 rows x 9 columns]"
      ]
     },
     "execution_count": 16,
     "metadata": {},
     "output_type": "execute_result"
    }
   ],
   "source": [
    "# There seems to be some duplicates:\n",
    "WBAN.drop_duplicates(subset=['HOMR_ID', 'WBAN', 'WMO', 'FAA_LOC_ID', 'ICAO_ID'], keep='first', inplace=True)\n",
    "WBAN"
   ]
  },
  {
   "cell_type": "code",
   "execution_count": 17,
   "metadata": {
    "ExecuteTime": {
     "end_time": "2021-02-11T18:33:17.373863Z",
     "start_time": "2021-02-11T18:33:17.124726Z"
    },
    "scrolled": false
   },
   "outputs": [
    {
     "data": {
      "text/html": [
       "<div>\n",
       "<style scoped>\n",
       "    .dataframe tbody tr th:only-of-type {\n",
       "        vertical-align: middle;\n",
       "    }\n",
       "\n",
       "    .dataframe tbody tr th {\n",
       "        vertical-align: top;\n",
       "    }\n",
       "\n",
       "    .dataframe thead th {\n",
       "        text-align: right;\n",
       "    }\n",
       "</style>\n",
       "<table border=\"1\" class=\"dataframe\">\n",
       "  <thead>\n",
       "    <tr style=\"text-align: right;\">\n",
       "      <th></th>\n",
       "      <th>HOMR_ID</th>\n",
       "      <th>WBAN</th>\n",
       "      <th>WMO</th>\n",
       "      <th>FAA_LOC_ID</th>\n",
       "      <th>NWS_LOC_ID</th>\n",
       "      <th>ICAO_ID</th>\n",
       "      <th>COUNTRY</th>\n",
       "      <th>TIME_ZONE</th>\n",
       "      <th>HIST_WBAN_NAME</th>\n",
       "    </tr>\n",
       "  </thead>\n",
       "  <tbody>\n",
       "    <tr>\n",
       "      <th>0</th>\n",
       "      <td>10000001</td>\n",
       "      <td>24285.0</td>\n",
       "      <td>NaN</td>\n",
       "      <td>NaN</td>\n",
       "      <td>NaN</td>\n",
       "      <td>NaN</td>\n",
       "      <td>UNITED STATES</td>\n",
       "      <td>8.0</td>\n",
       "      <td>NEWPORT MUNI AP</td>\n",
       "    </tr>\n",
       "    <tr>\n",
       "      <th>5</th>\n",
       "      <td>10000001</td>\n",
       "      <td>24285.0</td>\n",
       "      <td>NaN</td>\n",
       "      <td>ONP</td>\n",
       "      <td>ONP</td>\n",
       "      <td>KONP</td>\n",
       "      <td>UNITED STATES</td>\n",
       "      <td>8.0</td>\n",
       "      <td>NEWPORT MUNI AP</td>\n",
       "    </tr>\n",
       "    <tr>\n",
       "      <th>9</th>\n",
       "      <td>10000158</td>\n",
       "      <td>NaN</td>\n",
       "      <td>NaN</td>\n",
       "      <td>NaN</td>\n",
       "      <td>NaN</td>\n",
       "      <td>NaN</td>\n",
       "      <td>UNITED STATES</td>\n",
       "      <td>9.0</td>\n",
       "      <td>GUSTAVUS</td>\n",
       "    </tr>\n",
       "    <tr>\n",
       "      <th>11</th>\n",
       "      <td>10000158</td>\n",
       "      <td>25322.0</td>\n",
       "      <td>NaN</td>\n",
       "      <td>NaN</td>\n",
       "      <td>NaN</td>\n",
       "      <td>NaN</td>\n",
       "      <td>UNITED STATES</td>\n",
       "      <td>9.0</td>\n",
       "      <td>GUSTAVUS AP</td>\n",
       "    </tr>\n",
       "    <tr>\n",
       "      <th>13</th>\n",
       "      <td>10000158</td>\n",
       "      <td>25322.0</td>\n",
       "      <td>70367.0</td>\n",
       "      <td>GST</td>\n",
       "      <td>GST</td>\n",
       "      <td>PAGS</td>\n",
       "      <td>UNITED STATES</td>\n",
       "      <td>9.0</td>\n",
       "      <td>GUSTAVUS AP</td>\n",
       "    </tr>\n",
       "    <tr>\n",
       "      <th>...</th>\n",
       "      <td>...</td>\n",
       "      <td>...</td>\n",
       "      <td>...</td>\n",
       "      <td>...</td>\n",
       "      <td>...</td>\n",
       "      <td>...</td>\n",
       "      <td>...</td>\n",
       "      <td>...</td>\n",
       "      <td>...</td>\n",
       "    </tr>\n",
       "    <tr>\n",
       "      <th>178007</th>\n",
       "      <td>30122585</td>\n",
       "      <td>48717.0</td>\n",
       "      <td>NaN</td>\n",
       "      <td>NaN</td>\n",
       "      <td>NaN</td>\n",
       "      <td>NaN</td>\n",
       "      <td>SAUDI ARABIA</td>\n",
       "      <td>-3.0</td>\n",
       "      <td>DHAHRAN</td>\n",
       "    </tr>\n",
       "    <tr>\n",
       "      <th>178008</th>\n",
       "      <td>30122586</td>\n",
       "      <td>48718.0</td>\n",
       "      <td>NaN</td>\n",
       "      <td>NaN</td>\n",
       "      <td>NaN</td>\n",
       "      <td>NaN</td>\n",
       "      <td>SAUDI ARABIA</td>\n",
       "      <td>-3.0</td>\n",
       "      <td>HAFR ELBATIN</td>\n",
       "    </tr>\n",
       "    <tr>\n",
       "      <th>178009</th>\n",
       "      <td>30125300</td>\n",
       "      <td>NaN</td>\n",
       "      <td>NaN</td>\n",
       "      <td>NaN</td>\n",
       "      <td>JEFS2</td>\n",
       "      <td>NaN</td>\n",
       "      <td>UNITED STATES</td>\n",
       "      <td>5.0</td>\n",
       "      <td>JEFFERSON 0.1NW</td>\n",
       "    </tr>\n",
       "    <tr>\n",
       "      <th>178010</th>\n",
       "      <td>30125302</td>\n",
       "      <td>NaN</td>\n",
       "      <td>NaN</td>\n",
       "      <td>NaN</td>\n",
       "      <td>FGNA3</td>\n",
       "      <td>NaN</td>\n",
       "      <td>UNITED STATES</td>\n",
       "      <td>7.0</td>\n",
       "      <td>FLAGSTAFF 14N</td>\n",
       "    </tr>\n",
       "    <tr>\n",
       "      <th>178011</th>\n",
       "      <td>30125303</td>\n",
       "      <td>NaN</td>\n",
       "      <td>NaN</td>\n",
       "      <td>NaN</td>\n",
       "      <td>NaN</td>\n",
       "      <td>NaN</td>\n",
       "      <td>UNITED STATES</td>\n",
       "      <td>5.0</td>\n",
       "      <td>CAMDEN</td>\n",
       "    </tr>\n",
       "  </tbody>\n",
       "</table>\n",
       "<p>45604 rows × 9 columns</p>\n",
       "</div>"
      ],
      "text/plain": [
       "         HOMR_ID     WBAN      WMO FAA_LOC_ID NWS_LOC_ID ICAO_ID  \\\n",
       "0       10000001  24285.0      NaN        NaN        NaN     NaN   \n",
       "5       10000001  24285.0      NaN        ONP        ONP    KONP   \n",
       "9       10000158      NaN      NaN        NaN        NaN     NaN   \n",
       "11      10000158  25322.0      NaN        NaN        NaN     NaN   \n",
       "13      10000158  25322.0  70367.0        GST        GST    PAGS   \n",
       "...          ...      ...      ...        ...        ...     ...   \n",
       "178007  30122585  48717.0      NaN        NaN        NaN     NaN   \n",
       "178008  30122586  48718.0      NaN        NaN        NaN     NaN   \n",
       "178009  30125300      NaN      NaN        NaN      JEFS2     NaN   \n",
       "178010  30125302      NaN      NaN        NaN      FGNA3     NaN   \n",
       "178011  30125303      NaN      NaN        NaN        NaN     NaN   \n",
       "\n",
       "              COUNTRY  TIME_ZONE   HIST_WBAN_NAME  \n",
       "0       UNITED STATES        8.0  NEWPORT MUNI AP  \n",
       "5       UNITED STATES        8.0  NEWPORT MUNI AP  \n",
       "9       UNITED STATES        9.0         GUSTAVUS  \n",
       "11      UNITED STATES        9.0      GUSTAVUS AP  \n",
       "13      UNITED STATES        9.0      GUSTAVUS AP  \n",
       "...               ...        ...              ...  \n",
       "178007   SAUDI ARABIA       -3.0          DHAHRAN  \n",
       "178008   SAUDI ARABIA       -3.0     HAFR ELBATIN  \n",
       "178009  UNITED STATES        5.0  JEFFERSON 0.1NW  \n",
       "178010  UNITED STATES        7.0    FLAGSTAFF 14N  \n",
       "178011  UNITED STATES        5.0           CAMDEN  \n",
       "\n",
       "[45604 rows x 9 columns]"
      ]
     },
     "execution_count": 17,
     "metadata": {},
     "output_type": "execute_result"
    }
   ],
   "source": [
    "# Some airport codes present fewer characters than expected. Let's clean them:\n",
    "WBAN.drop(WBAN[WBAN['FAA_LOC_ID'].str.len() < 3].index, axis=0, inplace=True)\n",
    "WBAN.drop(WBAN[WBAN['ICAO_ID'].str.len() < 4].index, axis=0, inplace=True)\n",
    "WBAN"
   ]
  },
  {
   "cell_type": "code",
   "execution_count": 18,
   "metadata": {
    "ExecuteTime": {
     "end_time": "2021-02-11T18:33:17.436826Z",
     "start_time": "2021-02-11T18:33:17.377862Z"
    }
   },
   "outputs": [
    {
     "data": {
      "text/html": [
       "<div>\n",
       "<style scoped>\n",
       "    .dataframe tbody tr th:only-of-type {\n",
       "        vertical-align: middle;\n",
       "    }\n",
       "\n",
       "    .dataframe tbody tr th {\n",
       "        vertical-align: top;\n",
       "    }\n",
       "\n",
       "    .dataframe thead th {\n",
       "        text-align: right;\n",
       "    }\n",
       "</style>\n",
       "<table border=\"1\" class=\"dataframe\">\n",
       "  <thead>\n",
       "    <tr style=\"text-align: right;\">\n",
       "      <th></th>\n",
       "      <th>HOMR_ID</th>\n",
       "      <th>WBAN</th>\n",
       "      <th>WMO</th>\n",
       "      <th>FAA_LOC_ID</th>\n",
       "      <th>NWS_LOC_ID</th>\n",
       "      <th>ICAO_ID</th>\n",
       "      <th>COUNTRY</th>\n",
       "      <th>TIME_ZONE</th>\n",
       "      <th>HIST_WBAN_NAME</th>\n",
       "    </tr>\n",
       "  </thead>\n",
       "  <tbody>\n",
       "    <tr>\n",
       "      <th>0</th>\n",
       "      <td>10000001</td>\n",
       "      <td>24285.0</td>\n",
       "      <td>NaN</td>\n",
       "      <td>NaN</td>\n",
       "      <td>NaN</td>\n",
       "      <td>NaN</td>\n",
       "      <td>UNITED STATES</td>\n",
       "      <td>8.0</td>\n",
       "      <td>NEWPORT MUNI AP</td>\n",
       "    </tr>\n",
       "    <tr>\n",
       "      <th>5</th>\n",
       "      <td>10000001</td>\n",
       "      <td>24285.0</td>\n",
       "      <td>NaN</td>\n",
       "      <td>ONP</td>\n",
       "      <td>ONP</td>\n",
       "      <td>KONP</td>\n",
       "      <td>UNITED STATES</td>\n",
       "      <td>8.0</td>\n",
       "      <td>NEWPORT MUNI AP</td>\n",
       "    </tr>\n",
       "    <tr>\n",
       "      <th>9</th>\n",
       "      <td>10000158</td>\n",
       "      <td>NaN</td>\n",
       "      <td>NaN</td>\n",
       "      <td>NaN</td>\n",
       "      <td>NaN</td>\n",
       "      <td>NaN</td>\n",
       "      <td>UNITED STATES</td>\n",
       "      <td>9.0</td>\n",
       "      <td>GUSTAVUS</td>\n",
       "    </tr>\n",
       "    <tr>\n",
       "      <th>11</th>\n",
       "      <td>10000158</td>\n",
       "      <td>25322.0</td>\n",
       "      <td>NaN</td>\n",
       "      <td>NaN</td>\n",
       "      <td>NaN</td>\n",
       "      <td>NaN</td>\n",
       "      <td>UNITED STATES</td>\n",
       "      <td>9.0</td>\n",
       "      <td>GUSTAVUS AP</td>\n",
       "    </tr>\n",
       "    <tr>\n",
       "      <th>13</th>\n",
       "      <td>10000158</td>\n",
       "      <td>25322.0</td>\n",
       "      <td>70367.0</td>\n",
       "      <td>GST</td>\n",
       "      <td>GST</td>\n",
       "      <td>PAGS</td>\n",
       "      <td>UNITED STATES</td>\n",
       "      <td>9.0</td>\n",
       "      <td>GUSTAVUS AP</td>\n",
       "    </tr>\n",
       "    <tr>\n",
       "      <th>...</th>\n",
       "      <td>...</td>\n",
       "      <td>...</td>\n",
       "      <td>...</td>\n",
       "      <td>...</td>\n",
       "      <td>...</td>\n",
       "      <td>...</td>\n",
       "      <td>...</td>\n",
       "      <td>...</td>\n",
       "      <td>...</td>\n",
       "    </tr>\n",
       "    <tr>\n",
       "      <th>178007</th>\n",
       "      <td>30122585</td>\n",
       "      <td>48717.0</td>\n",
       "      <td>NaN</td>\n",
       "      <td>NaN</td>\n",
       "      <td>NaN</td>\n",
       "      <td>NaN</td>\n",
       "      <td>SAUDI ARABIA</td>\n",
       "      <td>-3.0</td>\n",
       "      <td>DHAHRAN</td>\n",
       "    </tr>\n",
       "    <tr>\n",
       "      <th>178008</th>\n",
       "      <td>30122586</td>\n",
       "      <td>48718.0</td>\n",
       "      <td>NaN</td>\n",
       "      <td>NaN</td>\n",
       "      <td>NaN</td>\n",
       "      <td>NaN</td>\n",
       "      <td>SAUDI ARABIA</td>\n",
       "      <td>-3.0</td>\n",
       "      <td>HAFR ELBATIN</td>\n",
       "    </tr>\n",
       "    <tr>\n",
       "      <th>178009</th>\n",
       "      <td>30125300</td>\n",
       "      <td>NaN</td>\n",
       "      <td>NaN</td>\n",
       "      <td>NaN</td>\n",
       "      <td>JEFS2</td>\n",
       "      <td>NaN</td>\n",
       "      <td>UNITED STATES</td>\n",
       "      <td>5.0</td>\n",
       "      <td>JEFFERSON 0.1NW</td>\n",
       "    </tr>\n",
       "    <tr>\n",
       "      <th>178010</th>\n",
       "      <td>30125302</td>\n",
       "      <td>NaN</td>\n",
       "      <td>NaN</td>\n",
       "      <td>NaN</td>\n",
       "      <td>FGNA3</td>\n",
       "      <td>NaN</td>\n",
       "      <td>UNITED STATES</td>\n",
       "      <td>7.0</td>\n",
       "      <td>FLAGSTAFF 14N</td>\n",
       "    </tr>\n",
       "    <tr>\n",
       "      <th>178011</th>\n",
       "      <td>30125303</td>\n",
       "      <td>NaN</td>\n",
       "      <td>NaN</td>\n",
       "      <td>NaN</td>\n",
       "      <td>NaN</td>\n",
       "      <td>NaN</td>\n",
       "      <td>UNITED STATES</td>\n",
       "      <td>5.0</td>\n",
       "      <td>CAMDEN</td>\n",
       "    </tr>\n",
       "  </tbody>\n",
       "</table>\n",
       "<p>45604 rows × 9 columns</p>\n",
       "</div>"
      ],
      "text/plain": [
       "         HOMR_ID     WBAN      WMO FAA_LOC_ID NWS_LOC_ID ICAO_ID  \\\n",
       "0       10000001  24285.0      NaN        NaN        NaN     NaN   \n",
       "5       10000001  24285.0      NaN        ONP        ONP    KONP   \n",
       "9       10000158      NaN      NaN        NaN        NaN     NaN   \n",
       "11      10000158  25322.0      NaN        NaN        NaN     NaN   \n",
       "13      10000158  25322.0  70367.0        GST        GST    PAGS   \n",
       "...          ...      ...      ...        ...        ...     ...   \n",
       "178007  30122585  48717.0      NaN        NaN        NaN     NaN   \n",
       "178008  30122586  48718.0      NaN        NaN        NaN     NaN   \n",
       "178009  30125300      NaN      NaN        NaN      JEFS2     NaN   \n",
       "178010  30125302      NaN      NaN        NaN      FGNA3     NaN   \n",
       "178011  30125303      NaN      NaN        NaN        NaN     NaN   \n",
       "\n",
       "              COUNTRY  TIME_ZONE   HIST_WBAN_NAME  \n",
       "0       UNITED STATES        8.0  NEWPORT MUNI AP  \n",
       "5       UNITED STATES        8.0  NEWPORT MUNI AP  \n",
       "9       UNITED STATES        9.0         GUSTAVUS  \n",
       "11      UNITED STATES        9.0      GUSTAVUS AP  \n",
       "13      UNITED STATES        9.0      GUSTAVUS AP  \n",
       "...               ...        ...              ...  \n",
       "178007   SAUDI ARABIA       -3.0          DHAHRAN  \n",
       "178008   SAUDI ARABIA       -3.0     HAFR ELBATIN  \n",
       "178009  UNITED STATES        5.0  JEFFERSON 0.1NW  \n",
       "178010  UNITED STATES        7.0    FLAGSTAFF 14N  \n",
       "178011  UNITED STATES        5.0           CAMDEN  \n",
       "\n",
       "[45604 rows x 9 columns]"
      ]
     },
     "execution_count": 18,
     "metadata": {},
     "output_type": "execute_result"
    }
   ],
   "source": [
    "WBAN['ICAO_ID'] = WBAN['ICAO_ID'].str[-4:]\n",
    "WBAN"
   ]
  },
  {
   "cell_type": "code",
   "execution_count": 19,
   "metadata": {
    "ExecuteTime": {
     "end_time": "2021-02-11T18:33:17.516783Z",
     "start_time": "2021-02-11T18:33:17.441823Z"
    },
    "scrolled": true
   },
   "outputs": [
    {
     "data": {
      "text/html": [
       "<div>\n",
       "<style scoped>\n",
       "    .dataframe tbody tr th:only-of-type {\n",
       "        vertical-align: middle;\n",
       "    }\n",
       "\n",
       "    .dataframe tbody tr th {\n",
       "        vertical-align: top;\n",
       "    }\n",
       "\n",
       "    .dataframe thead th {\n",
       "        text-align: right;\n",
       "    }\n",
       "</style>\n",
       "<table border=\"1\" class=\"dataframe\">\n",
       "  <thead>\n",
       "    <tr style=\"text-align: right;\">\n",
       "      <th></th>\n",
       "      <th>HOMR_ID</th>\n",
       "      <th>WBAN</th>\n",
       "      <th>WMO</th>\n",
       "      <th>FAA_LOC_ID</th>\n",
       "      <th>NWS_LOC_ID</th>\n",
       "      <th>ICAO_ID</th>\n",
       "      <th>COUNTRY</th>\n",
       "      <th>TIME_ZONE</th>\n",
       "      <th>HIST_WBAN_NAME</th>\n",
       "    </tr>\n",
       "  </thead>\n",
       "  <tbody>\n",
       "    <tr>\n",
       "      <th>0</th>\n",
       "      <td>10000001</td>\n",
       "      <td>24285.0</td>\n",
       "      <td>999.0</td>\n",
       "      <td></td>\n",
       "      <td></td>\n",
       "      <td></td>\n",
       "      <td>UNITED STATES</td>\n",
       "      <td>8.0</td>\n",
       "      <td>NEWPORT MUNI AP</td>\n",
       "    </tr>\n",
       "    <tr>\n",
       "      <th>5</th>\n",
       "      <td>10000001</td>\n",
       "      <td>24285.0</td>\n",
       "      <td>999.0</td>\n",
       "      <td>ONP</td>\n",
       "      <td>ONP</td>\n",
       "      <td>KONP</td>\n",
       "      <td>UNITED STATES</td>\n",
       "      <td>8.0</td>\n",
       "      <td>NEWPORT MUNI AP</td>\n",
       "    </tr>\n",
       "    <tr>\n",
       "      <th>9</th>\n",
       "      <td>10000158</td>\n",
       "      <td>999.0</td>\n",
       "      <td>999.0</td>\n",
       "      <td></td>\n",
       "      <td></td>\n",
       "      <td></td>\n",
       "      <td>UNITED STATES</td>\n",
       "      <td>9.0</td>\n",
       "      <td>GUSTAVUS</td>\n",
       "    </tr>\n",
       "    <tr>\n",
       "      <th>11</th>\n",
       "      <td>10000158</td>\n",
       "      <td>25322.0</td>\n",
       "      <td>999.0</td>\n",
       "      <td></td>\n",
       "      <td></td>\n",
       "      <td></td>\n",
       "      <td>UNITED STATES</td>\n",
       "      <td>9.0</td>\n",
       "      <td>GUSTAVUS AP</td>\n",
       "    </tr>\n",
       "    <tr>\n",
       "      <th>13</th>\n",
       "      <td>10000158</td>\n",
       "      <td>25322.0</td>\n",
       "      <td>70367.0</td>\n",
       "      <td>GST</td>\n",
       "      <td>GST</td>\n",
       "      <td>PAGS</td>\n",
       "      <td>UNITED STATES</td>\n",
       "      <td>9.0</td>\n",
       "      <td>GUSTAVUS AP</td>\n",
       "    </tr>\n",
       "    <tr>\n",
       "      <th>...</th>\n",
       "      <td>...</td>\n",
       "      <td>...</td>\n",
       "      <td>...</td>\n",
       "      <td>...</td>\n",
       "      <td>...</td>\n",
       "      <td>...</td>\n",
       "      <td>...</td>\n",
       "      <td>...</td>\n",
       "      <td>...</td>\n",
       "    </tr>\n",
       "    <tr>\n",
       "      <th>178007</th>\n",
       "      <td>30122585</td>\n",
       "      <td>48717.0</td>\n",
       "      <td>999.0</td>\n",
       "      <td></td>\n",
       "      <td></td>\n",
       "      <td></td>\n",
       "      <td>SAUDI ARABIA</td>\n",
       "      <td>-3.0</td>\n",
       "      <td>DHAHRAN</td>\n",
       "    </tr>\n",
       "    <tr>\n",
       "      <th>178008</th>\n",
       "      <td>30122586</td>\n",
       "      <td>48718.0</td>\n",
       "      <td>999.0</td>\n",
       "      <td></td>\n",
       "      <td></td>\n",
       "      <td></td>\n",
       "      <td>SAUDI ARABIA</td>\n",
       "      <td>-3.0</td>\n",
       "      <td>HAFR ELBATIN</td>\n",
       "    </tr>\n",
       "    <tr>\n",
       "      <th>178009</th>\n",
       "      <td>30125300</td>\n",
       "      <td>999.0</td>\n",
       "      <td>999.0</td>\n",
       "      <td></td>\n",
       "      <td>JEFS2</td>\n",
       "      <td></td>\n",
       "      <td>UNITED STATES</td>\n",
       "      <td>5.0</td>\n",
       "      <td>JEFFERSON 0.1NW</td>\n",
       "    </tr>\n",
       "    <tr>\n",
       "      <th>178010</th>\n",
       "      <td>30125302</td>\n",
       "      <td>999.0</td>\n",
       "      <td>999.0</td>\n",
       "      <td></td>\n",
       "      <td>FGNA3</td>\n",
       "      <td></td>\n",
       "      <td>UNITED STATES</td>\n",
       "      <td>7.0</td>\n",
       "      <td>FLAGSTAFF 14N</td>\n",
       "    </tr>\n",
       "    <tr>\n",
       "      <th>178011</th>\n",
       "      <td>30125303</td>\n",
       "      <td>999.0</td>\n",
       "      <td>999.0</td>\n",
       "      <td></td>\n",
       "      <td></td>\n",
       "      <td></td>\n",
       "      <td>UNITED STATES</td>\n",
       "      <td>5.0</td>\n",
       "      <td>CAMDEN</td>\n",
       "    </tr>\n",
       "  </tbody>\n",
       "</table>\n",
       "<p>45604 rows × 9 columns</p>\n",
       "</div>"
      ],
      "text/plain": [
       "         HOMR_ID     WBAN      WMO FAA_LOC_ID NWS_LOC_ID ICAO_ID  \\\n",
       "0       10000001  24285.0    999.0                                 \n",
       "5       10000001  24285.0    999.0        ONP        ONP    KONP   \n",
       "9       10000158    999.0    999.0                                 \n",
       "11      10000158  25322.0    999.0                                 \n",
       "13      10000158  25322.0  70367.0        GST        GST    PAGS   \n",
       "...          ...      ...      ...        ...        ...     ...   \n",
       "178007  30122585  48717.0    999.0                                 \n",
       "178008  30122586  48718.0    999.0                                 \n",
       "178009  30125300    999.0    999.0                 JEFS2           \n",
       "178010  30125302    999.0    999.0                 FGNA3           \n",
       "178011  30125303    999.0    999.0                                 \n",
       "\n",
       "              COUNTRY  TIME_ZONE   HIST_WBAN_NAME  \n",
       "0       UNITED STATES        8.0  NEWPORT MUNI AP  \n",
       "5       UNITED STATES        8.0  NEWPORT MUNI AP  \n",
       "9       UNITED STATES        9.0         GUSTAVUS  \n",
       "11      UNITED STATES        9.0      GUSTAVUS AP  \n",
       "13      UNITED STATES        9.0      GUSTAVUS AP  \n",
       "...               ...        ...              ...  \n",
       "178007   SAUDI ARABIA       -3.0          DHAHRAN  \n",
       "178008   SAUDI ARABIA       -3.0     HAFR ELBATIN  \n",
       "178009  UNITED STATES        5.0  JEFFERSON 0.1NW  \n",
       "178010  UNITED STATES        7.0    FLAGSTAFF 14N  \n",
       "178011  UNITED STATES        5.0           CAMDEN  \n",
       "\n",
       "[45604 rows x 9 columns]"
      ]
     },
     "execution_count": 19,
     "metadata": {},
     "output_type": "execute_result"
    }
   ],
   "source": [
    "WBAN[['WBAN', 'WMO', 'TIME_ZONE']] = WBAN[['WBAN', 'WMO', 'TIME_ZONE']].fillna(999)\n",
    "WBAN[['FAA_LOC_ID', 'NWS_LOC_ID', 'ICAO_ID']] = WBAN[['FAA_LOC_ID', 'NWS_LOC_ID', 'ICAO_ID']].fillna('')\n",
    "WBAN"
   ]
  },
  {
   "cell_type": "code",
   "execution_count": 20,
   "metadata": {
    "ExecuteTime": {
     "end_time": "2021-02-11T18:33:17.608720Z",
     "start_time": "2021-02-11T18:33:17.522773Z"
    }
   },
   "outputs": [
    {
     "name": "stdout",
     "output_type": "stream",
     "text": [
      "<class 'pandas.core.frame.DataFrame'>\n",
      "Int64Index: 45604 entries, 0 to 178011\n",
      "Data columns (total 9 columns):\n",
      " #   Column          Non-Null Count  Dtype  \n",
      "---  ------          --------------  -----  \n",
      " 0   HOMR_ID         45604 non-null  int64  \n",
      " 1   WBAN            45604 non-null  float64\n",
      " 2   WMO             45604 non-null  float64\n",
      " 3   FAA_LOC_ID      45604 non-null  object \n",
      " 4   NWS_LOC_ID      45604 non-null  object \n",
      " 5   ICAO_ID         45604 non-null  object \n",
      " 6   COUNTRY         45604 non-null  object \n",
      " 7   TIME_ZONE       45604 non-null  float64\n",
      " 8   HIST_WBAN_NAME  45604 non-null  object \n",
      "dtypes: float64(3), int64(1), object(5)\n",
      "memory usage: 4.7+ MB\n"
     ]
    }
   ],
   "source": [
    "WBAN.info()"
   ]
  },
  {
   "cell_type": "code",
   "execution_count": 21,
   "metadata": {
    "ExecuteTime": {
     "end_time": "2021-02-11T18:33:17.754629Z",
     "start_time": "2021-02-11T18:33:17.657690Z"
    }
   },
   "outputs": [
    {
     "data": {
      "text/html": [
       "<div>\n",
       "<style scoped>\n",
       "    .dataframe tbody tr th:only-of-type {\n",
       "        vertical-align: middle;\n",
       "    }\n",
       "\n",
       "    .dataframe tbody tr th {\n",
       "        vertical-align: top;\n",
       "    }\n",
       "\n",
       "    .dataframe thead th {\n",
       "        text-align: right;\n",
       "    }\n",
       "</style>\n",
       "<table border=\"1\" class=\"dataframe\">\n",
       "  <thead>\n",
       "    <tr style=\"text-align: right;\">\n",
       "      <th></th>\n",
       "      <th>HOMR_ID</th>\n",
       "      <th>WBAN</th>\n",
       "      <th>WMO</th>\n",
       "      <th>FAA_LOC_ID</th>\n",
       "      <th>NWS_LOC_ID</th>\n",
       "      <th>ICAO_ID</th>\n",
       "      <th>COUNTRY</th>\n",
       "      <th>TIME_ZONE</th>\n",
       "      <th>HIST_WBAN_NAME</th>\n",
       "    </tr>\n",
       "  </thead>\n",
       "  <tbody>\n",
       "    <tr>\n",
       "      <th>0</th>\n",
       "      <td>10000001</td>\n",
       "      <td>24285</td>\n",
       "      <td>999</td>\n",
       "      <td></td>\n",
       "      <td></td>\n",
       "      <td></td>\n",
       "      <td>UNITED STATES</td>\n",
       "      <td>8</td>\n",
       "      <td>NEWPORT MUNI AP</td>\n",
       "    </tr>\n",
       "    <tr>\n",
       "      <th>5</th>\n",
       "      <td>10000001</td>\n",
       "      <td>24285</td>\n",
       "      <td>999</td>\n",
       "      <td>ONP</td>\n",
       "      <td>ONP</td>\n",
       "      <td>KONP</td>\n",
       "      <td>UNITED STATES</td>\n",
       "      <td>8</td>\n",
       "      <td>NEWPORT MUNI AP</td>\n",
       "    </tr>\n",
       "    <tr>\n",
       "      <th>9</th>\n",
       "      <td>10000158</td>\n",
       "      <td>999</td>\n",
       "      <td>999</td>\n",
       "      <td></td>\n",
       "      <td></td>\n",
       "      <td></td>\n",
       "      <td>UNITED STATES</td>\n",
       "      <td>9</td>\n",
       "      <td>GUSTAVUS</td>\n",
       "    </tr>\n",
       "    <tr>\n",
       "      <th>11</th>\n",
       "      <td>10000158</td>\n",
       "      <td>25322</td>\n",
       "      <td>999</td>\n",
       "      <td></td>\n",
       "      <td></td>\n",
       "      <td></td>\n",
       "      <td>UNITED STATES</td>\n",
       "      <td>9</td>\n",
       "      <td>GUSTAVUS AP</td>\n",
       "    </tr>\n",
       "    <tr>\n",
       "      <th>13</th>\n",
       "      <td>10000158</td>\n",
       "      <td>25322</td>\n",
       "      <td>70367</td>\n",
       "      <td>GST</td>\n",
       "      <td>GST</td>\n",
       "      <td>PAGS</td>\n",
       "      <td>UNITED STATES</td>\n",
       "      <td>9</td>\n",
       "      <td>GUSTAVUS AP</td>\n",
       "    </tr>\n",
       "    <tr>\n",
       "      <th>...</th>\n",
       "      <td>...</td>\n",
       "      <td>...</td>\n",
       "      <td>...</td>\n",
       "      <td>...</td>\n",
       "      <td>...</td>\n",
       "      <td>...</td>\n",
       "      <td>...</td>\n",
       "      <td>...</td>\n",
       "      <td>...</td>\n",
       "    </tr>\n",
       "    <tr>\n",
       "      <th>178007</th>\n",
       "      <td>30122585</td>\n",
       "      <td>48717</td>\n",
       "      <td>999</td>\n",
       "      <td></td>\n",
       "      <td></td>\n",
       "      <td></td>\n",
       "      <td>SAUDI ARABIA</td>\n",
       "      <td>-3</td>\n",
       "      <td>DHAHRAN</td>\n",
       "    </tr>\n",
       "    <tr>\n",
       "      <th>178008</th>\n",
       "      <td>30122586</td>\n",
       "      <td>48718</td>\n",
       "      <td>999</td>\n",
       "      <td></td>\n",
       "      <td></td>\n",
       "      <td></td>\n",
       "      <td>SAUDI ARABIA</td>\n",
       "      <td>-3</td>\n",
       "      <td>HAFR ELBATIN</td>\n",
       "    </tr>\n",
       "    <tr>\n",
       "      <th>178009</th>\n",
       "      <td>30125300</td>\n",
       "      <td>999</td>\n",
       "      <td>999</td>\n",
       "      <td></td>\n",
       "      <td>JEFS2</td>\n",
       "      <td></td>\n",
       "      <td>UNITED STATES</td>\n",
       "      <td>5</td>\n",
       "      <td>JEFFERSON 0.1NW</td>\n",
       "    </tr>\n",
       "    <tr>\n",
       "      <th>178010</th>\n",
       "      <td>30125302</td>\n",
       "      <td>999</td>\n",
       "      <td>999</td>\n",
       "      <td></td>\n",
       "      <td>FGNA3</td>\n",
       "      <td></td>\n",
       "      <td>UNITED STATES</td>\n",
       "      <td>7</td>\n",
       "      <td>FLAGSTAFF 14N</td>\n",
       "    </tr>\n",
       "    <tr>\n",
       "      <th>178011</th>\n",
       "      <td>30125303</td>\n",
       "      <td>999</td>\n",
       "      <td>999</td>\n",
       "      <td></td>\n",
       "      <td></td>\n",
       "      <td></td>\n",
       "      <td>UNITED STATES</td>\n",
       "      <td>5</td>\n",
       "      <td>CAMDEN</td>\n",
       "    </tr>\n",
       "  </tbody>\n",
       "</table>\n",
       "<p>45604 rows × 9 columns</p>\n",
       "</div>"
      ],
      "text/plain": [
       "         HOMR_ID   WBAN    WMO FAA_LOC_ID NWS_LOC_ID ICAO_ID        COUNTRY  \\\n",
       "0       10000001  24285    999                                UNITED STATES   \n",
       "5       10000001  24285    999        ONP        ONP    KONP  UNITED STATES   \n",
       "9       10000158    999    999                                UNITED STATES   \n",
       "11      10000158  25322    999                                UNITED STATES   \n",
       "13      10000158  25322  70367        GST        GST    PAGS  UNITED STATES   \n",
       "...          ...    ...    ...        ...        ...     ...            ...   \n",
       "178007  30122585  48717    999                                 SAUDI ARABIA   \n",
       "178008  30122586  48718    999                                 SAUDI ARABIA   \n",
       "178009  30125300    999    999                 JEFS2          UNITED STATES   \n",
       "178010  30125302    999    999                 FGNA3          UNITED STATES   \n",
       "178011  30125303    999    999                                UNITED STATES   \n",
       "\n",
       "        TIME_ZONE   HIST_WBAN_NAME  \n",
       "0               8  NEWPORT MUNI AP  \n",
       "5               8  NEWPORT MUNI AP  \n",
       "9               9         GUSTAVUS  \n",
       "11              9      GUSTAVUS AP  \n",
       "13              9      GUSTAVUS AP  \n",
       "...           ...              ...  \n",
       "178007         -3          DHAHRAN  \n",
       "178008         -3     HAFR ELBATIN  \n",
       "178009          5  JEFFERSON 0.1NW  \n",
       "178010          7    FLAGSTAFF 14N  \n",
       "178011          5           CAMDEN  \n",
       "\n",
       "[45604 rows x 9 columns]"
      ]
     },
     "execution_count": 21,
     "metadata": {},
     "output_type": "execute_result"
    }
   ],
   "source": [
    "num_cols = WBAN.select_dtypes('number').columns\n",
    "WBAN[num_cols] = WBAN[num_cols].astype('int64')\n",
    "WBAN"
   ]
  },
  {
   "cell_type": "code",
   "execution_count": null,
   "metadata": {},
   "outputs": [],
   "source": [
    "wban"
   ]
  },
  {
   "cell_type": "code",
   "execution_count": 22,
   "metadata": {
    "ExecuteTime": {
     "end_time": "2021-02-11T18:33:17.800600Z",
     "start_time": "2021-02-11T18:33:17.760626Z"
    }
   },
   "outputs": [
    {
     "name": "stdout",
     "output_type": "stream",
     "text": [
      "2723\n"
     ]
    },
    {
     "data": {
      "text/plain": [
       "array(['', 'KONP', 'PAGS', ..., 'KT74', 'KLNQ', 'CWCJ'], dtype=object)"
      ]
     },
     "execution_count": 22,
     "metadata": {},
     "output_type": "execute_result"
    }
   ],
   "source": [
    "WBAN_ICAOs = WBAN['ICAO_ID'].unique()\n",
    "print(WBAN['ICAO_ID'].nunique())\n",
    "WBAN_ICAOs"
   ]
  },
  {
   "cell_type": "code",
   "execution_count": 23,
   "metadata": {
    "ExecuteTime": {
     "end_time": "2021-02-11T18:33:17.848572Z",
     "start_time": "2021-02-11T18:33:17.805597Z"
    }
   },
   "outputs": [
    {
     "name": "stdout",
     "output_type": "stream",
     "text": [
      "4136\n"
     ]
    },
    {
     "data": {
      "text/plain": [
       "array(['', 'ONP', 'GST', ..., 'T74', 'LNQ', 'SXF'], dtype=object)"
      ]
     },
     "execution_count": 23,
     "metadata": {},
     "output_type": "execute_result"
    }
   ],
   "source": [
    "WBAN_IATAs = WBAN['FAA_LOC_ID'].unique()\n",
    "print(WBAN['FAA_LOC_ID'].nunique())\n",
    "WBAN_IATAs"
   ]
  },
  {
   "cell_type": "code",
   "execution_count": 24,
   "metadata": {
    "ExecuteTime": {
     "end_time": "2021-02-11T18:33:17.959503Z",
     "start_time": "2021-02-11T18:33:17.854568Z"
    }
   },
   "outputs": [
    {
     "name": "stdout",
     "output_type": "stream",
     "text": [
      "6\n"
     ]
    },
    {
     "data": {
      "text/plain": [
       "['AZA', 'USA', 'SCE', 'SPN', 'HHH', 'BKG']"
      ]
     },
     "execution_count": 24,
     "metadata": {},
     "output_type": "execute_result"
    }
   ],
   "source": [
    "disjointed_IATAs = []\n",
    "for IATA in OTP_IATAs:\n",
    "    if IATA not in WBAN_IATAs:\n",
    "        disjointed_IATAs.append(IATA)\n",
    "print(len(disjointed_IATAs))\n",
    "disjointed_IATAs"
   ]
  },
  {
   "cell_type": "code",
   "execution_count": 25,
   "metadata": {
    "ExecuteTime": {
     "end_time": "2021-02-11T18:33:18.259318Z",
     "start_time": "2021-02-11T18:33:17.976497Z"
    },
    "scrolled": true
   },
   "outputs": [
    {
     "name": "stdout",
     "output_type": "stream",
     "text": [
      "AZA : 5665 flights (0.08%)\n",
      "USA : 1352 flights (0.02%)\n",
      "SCE : 1764 flights (0.02%)\n",
      "SPN : 471 flights (0.01%)\n",
      "HHH : 2180 flights (0.03%)\n",
      "BKG : 221 flights (0.00%)\n"
     ]
    }
   ],
   "source": [
    "for IATA in disjointed_IATAs:\n",
    "    print(\"{} : {} flights ({:4.2f}%)\".format(IATA,\n",
    "                                         len(OTP[OTP['ORIGIN'] == IATA]),\n",
    "                                         len(OTP[OTP['ORIGIN'] == IATA]) / len(OTP) * 100))"
   ]
  },
  {
   "cell_type": "markdown",
   "metadata": {},
   "source": [
    "With this quick check, we have ensured that almost every airport appearing in the OTP dataset is also present in the WBAN database. In other words, we now know that each airport has its corresponding meteorological station.\n",
    "\n",
    "For those few ones that are not present (listed above), it is fair to simply drop them. This can be performed without the risk of losing model's prediction capability, considering that they account altogether for less than 0.2% of the complete dataset."
   ]
  },
  {
   "cell_type": "code",
   "execution_count": 26,
   "metadata": {
    "ExecuteTime": {
     "end_time": "2021-02-11T18:33:18.527320Z",
     "start_time": "2021-02-11T18:33:18.267311Z"
    }
   },
   "outputs": [],
   "source": [
    "output_csv_path = os.path.join(root,\n",
    "                               \"Output_Data\",\n",
    "                               \"NOAA\",\n",
    "                               \"MASTER-STN-HIST_postprocessed.csv\")\n",
    "\n",
    "WBAN.to_csv(path_or_buf=output_csv_path,\n",
    "            index=False,\n",
    "            sep='^',\n",
    "            encoding='latin1')"
   ]
  },
  {
   "cell_type": "markdown",
   "metadata": {},
   "source": [
    "___"
   ]
  },
  {
   "cell_type": "markdown",
   "metadata": {},
   "source": [
    "### OTP-WBAN merge"
   ]
  },
  {
   "cell_type": "code",
   "execution_count": 27,
   "metadata": {
    "ExecuteTime": {
     "end_time": "2021-02-11T18:33:22.746521Z",
     "start_time": "2021-02-11T18:33:18.530325Z"
    },
    "scrolled": true
   },
   "outputs": [
    {
     "data": {
      "text/html": [
       "<div>\n",
       "<style scoped>\n",
       "    .dataframe tbody tr th:only-of-type {\n",
       "        vertical-align: middle;\n",
       "    }\n",
       "\n",
       "    .dataframe tbody tr th {\n",
       "        vertical-align: top;\n",
       "    }\n",
       "\n",
       "    .dataframe thead th {\n",
       "        text-align: right;\n",
       "    }\n",
       "</style>\n",
       "<table border=\"1\" class=\"dataframe\">\n",
       "  <thead>\n",
       "    <tr style=\"text-align: right;\">\n",
       "      <th></th>\n",
       "      <th>ORIGIN</th>\n",
       "      <th>DEST</th>\n",
       "      <th>HOMR_ID</th>\n",
       "      <th>WBAN</th>\n",
       "      <th>WMO</th>\n",
       "      <th>FAA_LOC_ID</th>\n",
       "      <th>NWS_LOC_ID</th>\n",
       "      <th>ICAO_ID</th>\n",
       "      <th>COUNTRY</th>\n",
       "      <th>TIME_ZONE</th>\n",
       "      <th>HIST_WBAN_NAME</th>\n",
       "    </tr>\n",
       "  </thead>\n",
       "  <tbody>\n",
       "    <tr>\n",
       "      <th>0</th>\n",
       "      <td>TYS</td>\n",
       "      <td>ATL</td>\n",
       "      <td>20018222</td>\n",
       "      <td>999</td>\n",
       "      <td>72326</td>\n",
       "      <td>TYS</td>\n",
       "      <td>TYS</td>\n",
       "      <td>KTYS</td>\n",
       "      <td>UNITED STATES</td>\n",
       "      <td>5</td>\n",
       "      <td>KNOXVILLE MCGHEE TYSON AP</td>\n",
       "    </tr>\n",
       "    <tr>\n",
       "      <th>1</th>\n",
       "      <td>TYS</td>\n",
       "      <td>ATL</td>\n",
       "      <td>20018222</td>\n",
       "      <td>13891</td>\n",
       "      <td>72326</td>\n",
       "      <td>TYS</td>\n",
       "      <td>TYS</td>\n",
       "      <td>KTYS</td>\n",
       "      <td>UNITED STATES</td>\n",
       "      <td>5</td>\n",
       "      <td>KNOXVILLE MCGHEE TYSON AP</td>\n",
       "    </tr>\n",
       "    <tr>\n",
       "      <th>2</th>\n",
       "      <td>TYS</td>\n",
       "      <td>ATL</td>\n",
       "      <td>20018222</td>\n",
       "      <td>999</td>\n",
       "      <td>72326</td>\n",
       "      <td>TYS</td>\n",
       "      <td>TYS</td>\n",
       "      <td>KTYS</td>\n",
       "      <td>UNITED STATES</td>\n",
       "      <td>5</td>\n",
       "      <td>KNOXVILLE MCGHEE TYSON AP</td>\n",
       "    </tr>\n",
       "    <tr>\n",
       "      <th>3</th>\n",
       "      <td>TYS</td>\n",
       "      <td>ATL</td>\n",
       "      <td>20018222</td>\n",
       "      <td>13891</td>\n",
       "      <td>72326</td>\n",
       "      <td>TYS</td>\n",
       "      <td>TYS</td>\n",
       "      <td>KTYS</td>\n",
       "      <td>UNITED STATES</td>\n",
       "      <td>5</td>\n",
       "      <td>KNOXVILLE MCGHEE TYSON AP</td>\n",
       "    </tr>\n",
       "    <tr>\n",
       "      <th>4</th>\n",
       "      <td>TYS</td>\n",
       "      <td>ATL</td>\n",
       "      <td>20018222</td>\n",
       "      <td>999</td>\n",
       "      <td>72326</td>\n",
       "      <td>TYS</td>\n",
       "      <td>TYS</td>\n",
       "      <td>KTYS</td>\n",
       "      <td>UNITED STATES</td>\n",
       "      <td>5</td>\n",
       "      <td>KNOXVILLE MCGHEE TYSON AP</td>\n",
       "    </tr>\n",
       "    <tr>\n",
       "      <th>...</th>\n",
       "      <td>...</td>\n",
       "      <td>...</td>\n",
       "      <td>...</td>\n",
       "      <td>...</td>\n",
       "      <td>...</td>\n",
       "      <td>...</td>\n",
       "      <td>...</td>\n",
       "      <td>...</td>\n",
       "      <td>...</td>\n",
       "      <td>...</td>\n",
       "      <td>...</td>\n",
       "    </tr>\n",
       "    <tr>\n",
       "      <th>10172330</th>\n",
       "      <td>XWA</td>\n",
       "      <td>MSP</td>\n",
       "      <td>30121192</td>\n",
       "      <td>94099</td>\n",
       "      <td>999</td>\n",
       "      <td>XWA</td>\n",
       "      <td>XWA</td>\n",
       "      <td>KXWA</td>\n",
       "      <td>UNITED STATES</td>\n",
       "      <td>6</td>\n",
       "      <td>WILLISTON AP</td>\n",
       "    </tr>\n",
       "    <tr>\n",
       "      <th>10172331</th>\n",
       "      <td>XWA</td>\n",
       "      <td>MSP</td>\n",
       "      <td>30121192</td>\n",
       "      <td>94099</td>\n",
       "      <td>999</td>\n",
       "      <td>XWA</td>\n",
       "      <td>XWA</td>\n",
       "      <td>KXWA</td>\n",
       "      <td>UNITED STATES</td>\n",
       "      <td>6</td>\n",
       "      <td>WILLISTON AP</td>\n",
       "    </tr>\n",
       "    <tr>\n",
       "      <th>10172332</th>\n",
       "      <td>XWA</td>\n",
       "      <td>MSP</td>\n",
       "      <td>30121192</td>\n",
       "      <td>94099</td>\n",
       "      <td>999</td>\n",
       "      <td>XWA</td>\n",
       "      <td>XWA</td>\n",
       "      <td>KXWA</td>\n",
       "      <td>UNITED STATES</td>\n",
       "      <td>6</td>\n",
       "      <td>WILLISTON AP</td>\n",
       "    </tr>\n",
       "    <tr>\n",
       "      <th>10172333</th>\n",
       "      <td>XWA</td>\n",
       "      <td>DEN</td>\n",
       "      <td>30121192</td>\n",
       "      <td>94099</td>\n",
       "      <td>999</td>\n",
       "      <td>XWA</td>\n",
       "      <td>XWA</td>\n",
       "      <td>KXWA</td>\n",
       "      <td>UNITED STATES</td>\n",
       "      <td>6</td>\n",
       "      <td>WILLISTON AP</td>\n",
       "    </tr>\n",
       "    <tr>\n",
       "      <th>10172334</th>\n",
       "      <td>XWA</td>\n",
       "      <td>MSP</td>\n",
       "      <td>30121192</td>\n",
       "      <td>94099</td>\n",
       "      <td>999</td>\n",
       "      <td>XWA</td>\n",
       "      <td>XWA</td>\n",
       "      <td>KXWA</td>\n",
       "      <td>UNITED STATES</td>\n",
       "      <td>6</td>\n",
       "      <td>WILLISTON AP</td>\n",
       "    </tr>\n",
       "  </tbody>\n",
       "</table>\n",
       "<p>10172335 rows × 11 columns</p>\n",
       "</div>"
      ],
      "text/plain": [
       "         ORIGIN DEST   HOMR_ID   WBAN    WMO FAA_LOC_ID NWS_LOC_ID ICAO_ID  \\\n",
       "0           TYS  ATL  20018222    999  72326        TYS        TYS    KTYS   \n",
       "1           TYS  ATL  20018222  13891  72326        TYS        TYS    KTYS   \n",
       "2           TYS  ATL  20018222    999  72326        TYS        TYS    KTYS   \n",
       "3           TYS  ATL  20018222  13891  72326        TYS        TYS    KTYS   \n",
       "4           TYS  ATL  20018222    999  72326        TYS        TYS    KTYS   \n",
       "...         ...  ...       ...    ...    ...        ...        ...     ...   \n",
       "10172330    XWA  MSP  30121192  94099    999        XWA        XWA    KXWA   \n",
       "10172331    XWA  MSP  30121192  94099    999        XWA        XWA    KXWA   \n",
       "10172332    XWA  MSP  30121192  94099    999        XWA        XWA    KXWA   \n",
       "10172333    XWA  DEN  30121192  94099    999        XWA        XWA    KXWA   \n",
       "10172334    XWA  MSP  30121192  94099    999        XWA        XWA    KXWA   \n",
       "\n",
       "                COUNTRY  TIME_ZONE             HIST_WBAN_NAME  \n",
       "0         UNITED STATES          5  KNOXVILLE MCGHEE TYSON AP  \n",
       "1         UNITED STATES          5  KNOXVILLE MCGHEE TYSON AP  \n",
       "2         UNITED STATES          5  KNOXVILLE MCGHEE TYSON AP  \n",
       "3         UNITED STATES          5  KNOXVILLE MCGHEE TYSON AP  \n",
       "4         UNITED STATES          5  KNOXVILLE MCGHEE TYSON AP  \n",
       "...                 ...        ...                        ...  \n",
       "10172330  UNITED STATES          6               WILLISTON AP  \n",
       "10172331  UNITED STATES          6               WILLISTON AP  \n",
       "10172332  UNITED STATES          6               WILLISTON AP  \n",
       "10172333  UNITED STATES          6               WILLISTON AP  \n",
       "10172334  UNITED STATES          6               WILLISTON AP  \n",
       "\n",
       "[10172335 rows x 11 columns]"
      ]
     },
     "execution_count": 27,
     "metadata": {},
     "output_type": "execute_result"
    }
   ],
   "source": [
    "OTP.merge(WBAN, how='inner', left_on='ORIGIN', right_on='FAA_LOC_ID')"
   ]
  },
  {
   "cell_type": "markdown",
   "metadata": {},
   "source": [
    "1) Eliminar las filas sobrantes: es decir, solo debería haber una posible pareja de WBAN para cada VMO, y viceversa. Ahora mismo hay:\n",
    "\n",
    "999\t    72326  \n",
    "13891\t72326  \n",
    "etc.\n",
    "\n",
    "2) Descargar todos los archivos de la página de LCD siguiendo el formato:\n",
    "\n",
    "https://www.ncei.noaa.gov/data/local-climatological-data/access/2019/XXXXXYYYYYY.csv\n",
    "\n",
    "Donde:\n",
    "- XXXXX = WMO\n",
    "- YYYYYY = WBAN"
   ]
  },
  {
   "cell_type": "markdown",
   "metadata": {},
   "source": [
    "___"
   ]
  },
  {
   "cell_type": "markdown",
   "metadata": {},
   "source": [
    "### Local Climatological Data (LCD) > 2019 Master file\n",
    "\n",
    "Source: https://www.ncei.noaa.gov/data/local-climatological-data/access/2019/"
   ]
  },
  {
   "cell_type": "markdown",
   "metadata": {},
   "source": [
    "#### Import the generated CSV files and start exploring them"
   ]
  },
  {
   "cell_type": "code",
   "execution_count": 14,
   "metadata": {
    "ExecuteTime": {
     "end_time": "2021-02-09T21:12:13.389188Z",
     "start_time": "2021-02-09T21:12:13.377195Z"
    }
   },
   "outputs": [
    {
     "data": {
      "text/plain": [
       "'C:\\\\Users\\\\turge\\\\CompartidoVM\\\\0.TFM\\\\Output_Data\\\\NOAA\\\\MASTER-STN-HIST_preprocessed.csv'"
      ]
     },
     "execution_count": 14,
     "metadata": {},
     "output_type": "execute_result"
    }
   ],
   "source": [
    "csv_path = os.path.join(root,\n",
    "                        \"Output_Data\",\n",
    "                        \"NOAA\",\n",
    "                        \"MASTER-STN-HIST_preprocessed.csv\")\n",
    "\n",
    "csv_path"
   ]
  },
  {
   "cell_type": "code",
   "execution_count": 15,
   "metadata": {
    "ExecuteTime": {
     "end_time": "2021-02-09T21:12:13.719982Z",
     "start_time": "2021-02-09T21:12:13.392185Z"
    },
    "scrolled": true
   },
   "outputs": [
    {
     "data": {
      "text/html": [
       "<div>\n",
       "<style scoped>\n",
       "    .dataframe tbody tr th:only-of-type {\n",
       "        vertical-align: middle;\n",
       "    }\n",
       "\n",
       "    .dataframe tbody tr th {\n",
       "        vertical-align: top;\n",
       "    }\n",
       "\n",
       "    .dataframe thead th {\n",
       "        text-align: right;\n",
       "    }\n",
       "</style>\n",
       "<table border=\"1\" class=\"dataframe\">\n",
       "  <thead>\n",
       "    <tr style=\"text-align: right;\">\n",
       "      <th></th>\n",
       "      <th>HOMR_ID</th>\n",
       "      <th>WBAN</th>\n",
       "      <th>WMO</th>\n",
       "      <th>FAA_LOC_ID</th>\n",
       "      <th>NWS_LOC_ID</th>\n",
       "      <th>ICAO_ID</th>\n",
       "      <th>COUNTRY</th>\n",
       "      <th>TIME_ZONE</th>\n",
       "      <th>HIST_WBAN_NAME</th>\n",
       "    </tr>\n",
       "  </thead>\n",
       "  <tbody>\n",
       "    <tr>\n",
       "      <th>0</th>\n",
       "      <td>10000001</td>\n",
       "      <td>24285.0</td>\n",
       "      <td>NaN</td>\n",
       "      <td>NaN</td>\n",
       "      <td>NaN</td>\n",
       "      <td>NaN</td>\n",
       "      <td>UNITED STATES</td>\n",
       "      <td>8.0</td>\n",
       "      <td>NEWPORT MUNI AP</td>\n",
       "    </tr>\n",
       "    <tr>\n",
       "      <th>1</th>\n",
       "      <td>10000001</td>\n",
       "      <td>24285.0</td>\n",
       "      <td>NaN</td>\n",
       "      <td>NaN</td>\n",
       "      <td>NaN</td>\n",
       "      <td>NaN</td>\n",
       "      <td>UNITED STATES</td>\n",
       "      <td>8.0</td>\n",
       "      <td>NEWPORT MUNI AP</td>\n",
       "    </tr>\n",
       "    <tr>\n",
       "      <th>2</th>\n",
       "      <td>10000001</td>\n",
       "      <td>24285.0</td>\n",
       "      <td>NaN</td>\n",
       "      <td>NaN</td>\n",
       "      <td>NaN</td>\n",
       "      <td>NaN</td>\n",
       "      <td>UNITED STATES</td>\n",
       "      <td>8.0</td>\n",
       "      <td>NEWPORT MUNI AP</td>\n",
       "    </tr>\n",
       "    <tr>\n",
       "      <th>3</th>\n",
       "      <td>10000001</td>\n",
       "      <td>24285.0</td>\n",
       "      <td>NaN</td>\n",
       "      <td>NaN</td>\n",
       "      <td>NaN</td>\n",
       "      <td>NaN</td>\n",
       "      <td>UNITED STATES</td>\n",
       "      <td>8.0</td>\n",
       "      <td>NEWPORT MUNI AP</td>\n",
       "    </tr>\n",
       "    <tr>\n",
       "      <th>4</th>\n",
       "      <td>10000001</td>\n",
       "      <td>24285.0</td>\n",
       "      <td>NaN</td>\n",
       "      <td>NaN</td>\n",
       "      <td>NaN</td>\n",
       "      <td>NaN</td>\n",
       "      <td>UNITED STATES</td>\n",
       "      <td>8.0</td>\n",
       "      <td>NEWPORT MUNI AP</td>\n",
       "    </tr>\n",
       "    <tr>\n",
       "      <th>...</th>\n",
       "      <td>...</td>\n",
       "      <td>...</td>\n",
       "      <td>...</td>\n",
       "      <td>...</td>\n",
       "      <td>...</td>\n",
       "      <td>...</td>\n",
       "      <td>...</td>\n",
       "      <td>...</td>\n",
       "      <td>...</td>\n",
       "    </tr>\n",
       "    <tr>\n",
       "      <th>178011</th>\n",
       "      <td>30125303</td>\n",
       "      <td>NaN</td>\n",
       "      <td>NaN</td>\n",
       "      <td>NaN</td>\n",
       "      <td>NaN</td>\n",
       "      <td>NaN</td>\n",
       "      <td>UNITED STATES</td>\n",
       "      <td>5.0</td>\n",
       "      <td>CAMDEN</td>\n",
       "    </tr>\n",
       "    <tr>\n",
       "      <th>178012</th>\n",
       "      <td>30125303</td>\n",
       "      <td>NaN</td>\n",
       "      <td>NaN</td>\n",
       "      <td>NaN</td>\n",
       "      <td>NaN</td>\n",
       "      <td>NaN</td>\n",
       "      <td>UNITED STATES</td>\n",
       "      <td>5.0</td>\n",
       "      <td>CAMDEN</td>\n",
       "    </tr>\n",
       "    <tr>\n",
       "      <th>178013</th>\n",
       "      <td>30125303</td>\n",
       "      <td>NaN</td>\n",
       "      <td>NaN</td>\n",
       "      <td>NaN</td>\n",
       "      <td>NaN</td>\n",
       "      <td>NaN</td>\n",
       "      <td>UNITED STATES</td>\n",
       "      <td>5.0</td>\n",
       "      <td>CAMDEN</td>\n",
       "    </tr>\n",
       "    <tr>\n",
       "      <th>178014</th>\n",
       "      <td>30125303</td>\n",
       "      <td>NaN</td>\n",
       "      <td>NaN</td>\n",
       "      <td>NaN</td>\n",
       "      <td>NaN</td>\n",
       "      <td>NaN</td>\n",
       "      <td>UNITED STATES</td>\n",
       "      <td>5.0</td>\n",
       "      <td>CAMDEN</td>\n",
       "    </tr>\n",
       "    <tr>\n",
       "      <th>178015</th>\n",
       "      <td>30125303</td>\n",
       "      <td>NaN</td>\n",
       "      <td>NaN</td>\n",
       "      <td>NaN</td>\n",
       "      <td>NaN</td>\n",
       "      <td>NaN</td>\n",
       "      <td>UNITED STATES</td>\n",
       "      <td>5.0</td>\n",
       "      <td>CAMDEN</td>\n",
       "    </tr>\n",
       "  </tbody>\n",
       "</table>\n",
       "<p>178016 rows × 9 columns</p>\n",
       "</div>"
      ],
      "text/plain": [
       "         HOMR_ID     WBAN  WMO FAA_LOC_ID NWS_LOC_ID ICAO_ID        COUNTRY  \\\n",
       "0       10000001  24285.0  NaN        NaN        NaN     NaN  UNITED STATES   \n",
       "1       10000001  24285.0  NaN        NaN        NaN     NaN  UNITED STATES   \n",
       "2       10000001  24285.0  NaN        NaN        NaN     NaN  UNITED STATES   \n",
       "3       10000001  24285.0  NaN        NaN        NaN     NaN  UNITED STATES   \n",
       "4       10000001  24285.0  NaN        NaN        NaN     NaN  UNITED STATES   \n",
       "...          ...      ...  ...        ...        ...     ...            ...   \n",
       "178011  30125303      NaN  NaN        NaN        NaN     NaN  UNITED STATES   \n",
       "178012  30125303      NaN  NaN        NaN        NaN     NaN  UNITED STATES   \n",
       "178013  30125303      NaN  NaN        NaN        NaN     NaN  UNITED STATES   \n",
       "178014  30125303      NaN  NaN        NaN        NaN     NaN  UNITED STATES   \n",
       "178015  30125303      NaN  NaN        NaN        NaN     NaN  UNITED STATES   \n",
       "\n",
       "        TIME_ZONE   HIST_WBAN_NAME  \n",
       "0             8.0  NEWPORT MUNI AP  \n",
       "1             8.0  NEWPORT MUNI AP  \n",
       "2             8.0  NEWPORT MUNI AP  \n",
       "3             8.0  NEWPORT MUNI AP  \n",
       "4             8.0  NEWPORT MUNI AP  \n",
       "...           ...              ...  \n",
       "178011        5.0           CAMDEN  \n",
       "178012        5.0           CAMDEN  \n",
       "178013        5.0           CAMDEN  \n",
       "178014        5.0           CAMDEN  \n",
       "178015        5.0           CAMDEN  \n",
       "\n",
       "[178016 rows x 9 columns]"
      ]
     },
     "execution_count": 15,
     "metadata": {},
     "output_type": "execute_result"
    }
   ],
   "source": [
    "LCD = pd.read_csv(csv_path,\n",
    "                   sep='^',\n",
    "                   encoding='latin1',\n",
    "                   low_memory = False)\n",
    "LCD"
   ]
  },
  {
   "cell_type": "code",
   "execution_count": null,
   "metadata": {},
   "outputs": [],
   "source": []
  },
  {
   "cell_type": "markdown",
   "metadata": {},
   "source": [
    "#### Run only the first time to generate the global CLEAN file (year 2019)"
   ]
  },
  {
   "cell_type": "raw",
   "metadata": {},
   "source": [
    "%%time\n",
    "\n",
    "output_csv_path = os.path.join(root,\n",
    "                               \"Output_Data\",\n",
    "                               \"US_DoT\",\n",
    "                               \"AL_OTP_MVP_Preprocessed_19_v2_clean.csv\")\n",
    "\n",
    "df.to_csv(path_or_buf=output_csv_path,\n",
    "          index=False,\n",
    "          encoding='latin1')\n",
    "          \n",
    "# Wall time: 1min 2s"
   ]
  },
  {
   "cell_type": "code",
   "execution_count": null,
   "metadata": {
    "ExecuteTime": {
     "end_time": "2021-02-09T21:13:40.458277Z",
     "start_time": "2021-02-09T21:11:42.336Z"
    }
   },
   "outputs": [],
   "source": [
    "t1 = time.perf_counter() - t0\n",
    "print(\"Time elapsed: \", t1) # CPU seconds elapsed (floating point)"
   ]
  },
  {
   "cell_type": "raw",
   "metadata": {},
   "source": [
    "Time elapsed:  337.227193"
   ]
  },
  {
   "cell_type": "markdown",
   "metadata": {},
   "source": [
    "___"
   ]
  },
  {
   "cell_type": "markdown",
   "metadata": {},
   "source": [
    "___"
   ]
  }
 ],
 "metadata": {
  "hide_input": false,
  "kernelspec": {
   "display_name": "Python 3",
   "language": "python",
   "name": "python3"
  },
  "toc": {
   "base_numbering": 1,
   "nav_menu": {},
   "number_sections": true,
   "sideBar": true,
   "skip_h1_title": false,
   "title_cell": "Table of Contents",
   "title_sidebar": "Contents",
   "toc_cell": false,
   "toc_position": {
    "height": "calc(100% - 180px)",
    "left": "10px",
    "top": "150px",
    "width": "384px"
   },
   "toc_section_display": true,
   "toc_window_display": true
  },
  "varInspector": {
   "cols": {
    "lenName": 16,
    "lenType": 16,
    "lenVar": 40
   },
   "kernels_config": {
    "python": {
     "delete_cmd_postfix": "",
     "delete_cmd_prefix": "del ",
     "library": "var_list.py",
     "varRefreshCmd": "print(var_dic_list())"
    },
    "r": {
     "delete_cmd_postfix": ") ",
     "delete_cmd_prefix": "rm(",
     "library": "var_list.r",
     "varRefreshCmd": "cat(var_dic_list()) "
    }
   },
   "position": {
    "height": "842px",
    "left": "1550px",
    "right": "20px",
    "top": "120px",
    "width": "350px"
   },
   "types_to_exclude": [
    "module",
    "function",
    "builtin_function_or_method",
    "instance",
    "_Feature"
   ],
   "window_display": true
  }
 },
 "nbformat": 4,
 "nbformat_minor": 4
}
