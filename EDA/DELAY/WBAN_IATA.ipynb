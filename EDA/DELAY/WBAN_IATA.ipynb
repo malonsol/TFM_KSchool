{
 "cells": [
  {
   "cell_type": "code",
   "execution_count": 1,
   "metadata": {
    "ExecuteTime": {
     "end_time": "2021-02-09T21:11:45.887986Z",
     "start_time": "2021-02-09T21:11:42.155073Z"
    }
   },
   "outputs": [],
   "source": [
    "# Import libraries to be used\n",
    "\n",
    "# Warning messages display\n",
    "## import warnings\n",
    "## warnings.filterwarnings(action='ignore') # https://docs.python.org/3/library/warnings.html#the-warnings-filter\n",
    "\n",
    "# Directories/Files management\n",
    "import os.path\n",
    "## from zipfile import ZipFile # De momento no ha hecho falta \n",
    "\n",
    "# Timing\n",
    "import time\n",
    "\n",
    "# Memory monitoring\n",
    "%load_ext memory_profiler\n",
    "### Use '%memit' to check at each point\n",
    "\n",
    "# Data analysis and wrangling\n",
    "import pandas as pd\n",
    "import numpy as np\n",
    "pd.set_option('display.max_columns', None) # Show all columns in DataFrames\n",
    "## pd.set_option('display.max_rows', None) # It greatly slows down the output display and freezes the kernel\n",
    "\n",
    "# Visualization\n",
    "import matplotlib.pyplot as plt\n",
    "import seaborn as sns\n",
    "%matplotlib inline\n",
    "plt.style.use('ggplot') # choose a style: 'plt.style.available'\n",
    "sns.set_theme(context='notebook',\n",
    "              style=\"darkgrid\") # {darkgrid, whitegrid, dark, white, ticks}\n",
    "palette = sns.color_palette(\"flare\", as_cmap=True);\n",
    "import altair as alt\n",
    "\n",
    "# Machine Learning\n",
    "## from sklearn.[...] import ..."
   ]
  },
  {
   "cell_type": "code",
   "execution_count": 2,
   "metadata": {
    "ExecuteTime": {
     "end_time": "2021-02-09T21:11:45.903980Z",
     "start_time": "2021-02-09T21:11:45.892986Z"
    }
   },
   "outputs": [],
   "source": [
    "t0 = time.perf_counter() "
   ]
  },
  {
   "cell_type": "code",
   "execution_count": 3,
   "metadata": {
    "ExecuteTime": {
     "end_time": "2021-02-09T21:11:45.934961Z",
     "start_time": "2021-02-09T21:11:45.912975Z"
    },
    "scrolled": true
   },
   "outputs": [
    {
     "name": "stdout",
     "output_type": "stream",
     "text": [
      "Running on Windows.\n",
      "root path\t C:\\Users\\turge\\CompartidoVM\\0.TFM\n"
     ]
    }
   ],
   "source": [
    "# Detect Operating System running and manage paths accordingly\n",
    "\n",
    "if os.name == 'nt': # Windows\n",
    "    root = r\"C:\\Users\\turge\\CompartidoVM\\0.TFM\"\n",
    "    print(\"Running on Windows.\")\n",
    "elif os.name == 'posix': # Ubuntu\n",
    "    root = \"/home/dsc/shared/0.TFM\"\n",
    "    print(\"Running on Ubuntu.\")\n",
    "print(\"root path\\t\", root)"
   ]
  },
  {
   "cell_type": "markdown",
   "metadata": {},
   "source": [
    "Additional information on each column meaning can be found [here](https://www.transtats.bts.gov/Fields.asp?Table_ID=236&SYS_Table_Name=T_ONTIME_REPORTING&User_Table_Name=Reporting%20Carrier%20On-Time%20Performance%20(1987-present)&Year_Info=1&First_Year=1987&Last_Year=2020&Rate_Info=0&Frequency=Monthly&Data_Frequency=Annual,Quarterly,Monthly)."
   ]
  },
  {
   "cell_type": "markdown",
   "metadata": {},
   "source": [
    "___"
   ]
  },
  {
   "cell_type": "markdown",
   "metadata": {},
   "source": [
    "# 2. Get the data"
   ]
  },
  {
   "cell_type": "markdown",
   "metadata": {},
   "source": [
    "### OTP (2019)"
   ]
  },
  {
   "cell_type": "markdown",
   "metadata": {},
   "source": [
    "Let's first check which airports are present in the OTP dataset, and later compare them to those appearing in the WBAN database. Ideally, all the airports contained in the OTP dataset should appear in the WBAN database. This would mean that there presumably might be a weather station at each of those airports."
   ]
  },
  {
   "cell_type": "code",
   "execution_count": 4,
   "metadata": {
    "ExecuteTime": {
     "end_time": "2021-02-09T21:11:45.949951Z",
     "start_time": "2021-02-09T21:11:45.939959Z"
    }
   },
   "outputs": [],
   "source": [
    "cols = ['ORIGIN', 'DEST']"
   ]
  },
  {
   "cell_type": "code",
   "execution_count": 5,
   "metadata": {
    "ExecuteTime": {
     "end_time": "2021-02-09T21:11:45.980933Z",
     "start_time": "2021-02-09T21:11:45.954949Z"
    },
    "scrolled": false
   },
   "outputs": [
    {
     "data": {
      "text/plain": [
       "'C:\\\\Users\\\\turge\\\\CompartidoVM\\\\0.TFM\\\\Output_Data\\\\US_DoT\\\\AL_OTP_MVP_Preprocessed_19_v2_clean.csv'"
      ]
     },
     "execution_count": 5,
     "metadata": {},
     "output_type": "execute_result"
    }
   ],
   "source": [
    "preprocessed_input_csv_path = os.path.join(root,\n",
    "                                           \"Output_Data\",\n",
    "                                           \"US_DoT\",\n",
    "                                           \"AL_OTP_MVP_Preprocessed_19_v2_clean.csv\")\n",
    "preprocessed_input_csv_path"
   ]
  },
  {
   "cell_type": "code",
   "execution_count": 6,
   "metadata": {
    "ExecuteTime": {
     "end_time": "2021-02-09T21:11:45.995923Z",
     "start_time": "2021-02-09T21:11:45.985931Z"
    }
   },
   "outputs": [],
   "source": [
    "cols_dtypes = {'ORIGIN' : 'category', 'DEST' : 'category'}"
   ]
  },
  {
   "cell_type": "code",
   "execution_count": 7,
   "metadata": {
    "ExecuteTime": {
     "end_time": "2021-02-09T21:12:10.150439Z",
     "start_time": "2021-02-09T21:11:46.005919Z"
    },
    "scrolled": true
   },
   "outputs": [
    {
     "name": "stdout",
     "output_type": "stream",
     "text": [
      "Wall time: 24.1 s\n"
     ]
    }
   ],
   "source": [
    "%%time\n",
    "\n",
    "OTP = pd.read_csv(preprocessed_input_csv_path,\n",
    "                  encoding='latin1',\n",
    "                  usecols=cols,\n",
    "                  low_memory = False)"
   ]
  },
  {
   "cell_type": "code",
   "execution_count": 8,
   "metadata": {
    "ExecuteTime": {
     "end_time": "2021-02-09T21:12:11.492663Z",
     "start_time": "2021-02-09T21:12:10.161432Z"
    }
   },
   "outputs": [
    {
     "data": {
      "text/html": [
       "<div>\n",
       "<style scoped>\n",
       "    .dataframe tbody tr th:only-of-type {\n",
       "        vertical-align: middle;\n",
       "    }\n",
       "\n",
       "    .dataframe tbody tr th {\n",
       "        vertical-align: top;\n",
       "    }\n",
       "\n",
       "    .dataframe thead th {\n",
       "        text-align: right;\n",
       "    }\n",
       "</style>\n",
       "<table border=\"1\" class=\"dataframe\">\n",
       "  <thead>\n",
       "    <tr style=\"text-align: right;\">\n",
       "      <th></th>\n",
       "      <th>ORIGIN</th>\n",
       "      <th>DEST</th>\n",
       "    </tr>\n",
       "  </thead>\n",
       "  <tbody>\n",
       "    <tr>\n",
       "      <th>0</th>\n",
       "      <td>TYS</td>\n",
       "      <td>ATL</td>\n",
       "    </tr>\n",
       "    <tr>\n",
       "      <th>1</th>\n",
       "      <td>TYS</td>\n",
       "      <td>ATL</td>\n",
       "    </tr>\n",
       "    <tr>\n",
       "      <th>2</th>\n",
       "      <td>ATL</td>\n",
       "      <td>SGF</td>\n",
       "    </tr>\n",
       "    <tr>\n",
       "      <th>3</th>\n",
       "      <td>ATL</td>\n",
       "      <td>SGF</td>\n",
       "    </tr>\n",
       "    <tr>\n",
       "      <th>4</th>\n",
       "      <td>ATL</td>\n",
       "      <td>SGF</td>\n",
       "    </tr>\n",
       "    <tr>\n",
       "      <th>...</th>\n",
       "      <td>...</td>\n",
       "      <td>...</td>\n",
       "    </tr>\n",
       "    <tr>\n",
       "      <th>7268227</th>\n",
       "      <td>MCO</td>\n",
       "      <td>SWF</td>\n",
       "    </tr>\n",
       "    <tr>\n",
       "      <th>7268228</th>\n",
       "      <td>DCA</td>\n",
       "      <td>BOS</td>\n",
       "    </tr>\n",
       "    <tr>\n",
       "      <th>7268229</th>\n",
       "      <td>PHL</td>\n",
       "      <td>BOS</td>\n",
       "    </tr>\n",
       "    <tr>\n",
       "      <th>7268230</th>\n",
       "      <td>BOS</td>\n",
       "      <td>SJU</td>\n",
       "    </tr>\n",
       "    <tr>\n",
       "      <th>7268231</th>\n",
       "      <td>SJU</td>\n",
       "      <td>BOS</td>\n",
       "    </tr>\n",
       "  </tbody>\n",
       "</table>\n",
       "<p>7268232 rows × 2 columns</p>\n",
       "</div>"
      ],
      "text/plain": [
       "        ORIGIN DEST\n",
       "0          TYS  ATL\n",
       "1          TYS  ATL\n",
       "2          ATL  SGF\n",
       "3          ATL  SGF\n",
       "4          ATL  SGF\n",
       "...        ...  ...\n",
       "7268227    MCO  SWF\n",
       "7268228    DCA  BOS\n",
       "7268229    PHL  BOS\n",
       "7268230    BOS  SJU\n",
       "7268231    SJU  BOS\n",
       "\n",
       "[7268232 rows x 2 columns]"
      ]
     },
     "execution_count": 8,
     "metadata": {},
     "output_type": "execute_result"
    }
   ],
   "source": [
    "# Cast types in accordance to previously defined dictionary:\n",
    "OTP = OTP.astype(cols_dtypes)\n",
    "# Display DF columns according to 'cols' order:\n",
    "OTP = OTP[cols]\n",
    "OTP"
   ]
  },
  {
   "cell_type": "code",
   "execution_count": 9,
   "metadata": {
    "ExecuteTime": {
     "end_time": "2021-02-09T21:12:11.634576Z",
     "start_time": "2021-02-09T21:12:11.495659Z"
    }
   },
   "outputs": [
    {
     "data": {
      "text/plain": [
       "['TYS', 'ATL', 'SGF', 'SRQ', 'DTW', ..., 'AKN', 'DLG', 'HYA', 'PGV', 'XWA']\n",
       "Length: 360\n",
       "Categories (360, object): ['TYS', 'ATL', 'SGF', 'SRQ', ..., 'DLG', 'HYA', 'PGV', 'XWA']"
      ]
     },
     "execution_count": 9,
     "metadata": {},
     "output_type": "execute_result"
    }
   ],
   "source": [
    "OTP_IATAs = OTP['ORIGIN'].unique()\n",
    "OTP_IATAs"
   ]
  },
  {
   "cell_type": "markdown",
   "metadata": {},
   "source": [
    "### WBAN list (\"MASTER-STN-HIST.txt\")"
   ]
  },
  {
   "cell_type": "markdown",
   "metadata": {},
   "source": [
    "#### Import the source TXT file and clean it"
   ]
  },
  {
   "cell_type": "raw",
   "metadata": {
    "ExecuteTime": {
     "end_time": "2021-02-09T19:13:15.691813Z",
     "start_time": "2021-02-09T19:13:15.682820Z"
    }
   },
   "source": [
    "csv_path = os.path.join(root,\n",
    "                        \"Raw_Data\",\n",
    "                        \"NOAA\",\n",
    "                        \"WBAN\",\n",
    "                        \"MASTER-STN-HIST.csv\")\n",
    "\n",
    "csv_path"
   ]
  },
  {
   "cell_type": "code",
   "execution_count": 10,
   "metadata": {
    "ExecuteTime": {
     "end_time": "2021-02-09T21:12:11.649565Z",
     "start_time": "2021-02-09T21:12:11.638570Z"
    }
   },
   "outputs": [
    {
     "data": {
      "text/plain": [
       "'C:\\\\Users\\\\turge\\\\CompartidoVM\\\\0.TFM\\\\Raw_Data\\\\NOAA\\\\WBAN\\\\MASTER-STN-HIST.txt'"
      ]
     },
     "execution_count": 10,
     "metadata": {},
     "output_type": "execute_result"
    }
   ],
   "source": [
    "txt_path = os.path.join(root,\n",
    "                        \"Raw_Data\",\n",
    "                        \"NOAA\",\n",
    "                        \"WBAN\",\n",
    "                        \"MASTER-STN-HIST.txt\")\n",
    "\n",
    "txt_path"
   ]
  },
  {
   "cell_type": "code",
   "execution_count": 11,
   "metadata": {
    "ExecuteTime": {
     "end_time": "2021-02-09T21:12:13.184612Z",
     "start_time": "2021-02-09T21:12:11.653561Z"
    },
    "scrolled": false
   },
   "outputs": [
    {
     "data": {
      "text/plain": [
       "['10000001^24285^^^^^UNITED STATES^+8^NEWPORT MUNI AP',\n",
       " '10000001^24285^^^^^UNITED STATES^+8^NEWPORT MUNI AP',\n",
       " '10000001^24285^^^^^UNITED STATES^+8^NEWPORT MUNI AP',\n",
       " '10000001^24285^^^^^UNITED STATES^+8^NEWPORT MUNI AP',\n",
       " '10000001^24285^^^^^UNITED STATES^+8^NEWPORT MUNI AP',\n",
       " '10000001^24285^^ONP^ONP^KONP^UNITED STATES^+8^NEWPORT MUNI AP',\n",
       " '10000001^24285^^ONP^ONP^KONP^UNITED STATES^+8^NEWPORT MUNI AP',\n",
       " '10000001^24285^^ONP^ONP^KONP^UNITED STATES^+8^NEWPORT MUNI AP',\n",
       " '10000001^24285^^ONP^ONP^KONP^UNITED STATES^+8^NEWPORT MUNI AP',\n",
       " '10000158^^^^^^UNITED STATES^+9^GUSTAVUS']"
      ]
     },
     "execution_count": 11,
     "metadata": {},
     "output_type": "execute_result"
    }
   ],
   "source": [
    "new_file = []\n",
    "with open (txt_path, 'r') as f:\n",
    "    next(f) # Skip the first row, since it's a header\n",
    "    i = 0\n",
    "    for line in f.readlines():\n",
    "        HOMR_ID = line[0:8]\n",
    "        WBAN = line[22:27]\n",
    "        WMO = line[28:33]\n",
    "        FAA_LOC_ID = line[34:38]\n",
    "        NWS_LOC_ID = line[39:44]\n",
    "        ICAO_ID = line[45:49]\n",
    "        COUNTRY = line[50:70]\n",
    "        TIME_ZONE = line[105:110]\n",
    "        HIST_WBAN_NAME = line[142:172]\n",
    "        new_line = [HOMR_ID, WBAN, WMO, FAA_LOC_ID, NWS_LOC_ID, ICAO_ID, COUNTRY, TIME_ZONE, HIST_WBAN_NAME]\n",
    "#         print(HOMR_ID, WBAN, WMO, FAA_LOC_ID, NWS_LOC_ID, ICAO_ID, COUNTRY, TIME_ZONE, HIST_WBAN_NAME)\n",
    "        new_line_2 = []\n",
    "        for field in new_line:\n",
    "            field = field.strip()\n",
    "            new_line_2.append(field)\n",
    "        new_line_2 = '^'.join(new_line_2)\n",
    "#         print(new_line_2)\n",
    "        new_file.append(new_line_2)\n",
    "\n",
    "#         i += 1\n",
    "#         if i == 15:\n",
    "#             break\n",
    "            \n",
    "new_file[:10]"
   ]
  },
  {
   "cell_type": "code",
   "execution_count": 12,
   "metadata": {
    "ExecuteTime": {
     "end_time": "2021-02-09T21:12:13.215595Z",
     "start_time": "2021-02-09T21:12:13.190610Z"
    }
   },
   "outputs": [
    {
     "data": {
      "text/plain": [
       "'C:\\\\Users\\\\turge\\\\CompartidoVM\\\\0.TFM\\\\Output_Data\\\\NOAA\\\\MASTER-STN-HIST_preprocessed.csv'"
      ]
     },
     "execution_count": 12,
     "metadata": {},
     "output_type": "execute_result"
    }
   ],
   "source": [
    "csv_output_path = os.path.join(root,\n",
    "                               \"Output_Data\",\n",
    "                               \"NOAA\",\n",
    "                               \"MASTER-STN-HIST_preprocessed.csv\")\n",
    "\n",
    "csv_output_path"
   ]
  },
  {
   "cell_type": "code",
   "execution_count": 13,
   "metadata": {
    "ExecuteTime": {
     "end_time": "2021-02-09T21:12:13.374197Z",
     "start_time": "2021-02-09T21:12:13.219592Z"
    }
   },
   "outputs": [],
   "source": [
    "with open(csv_output_path, 'w') as f:\n",
    "    headers = ['HOMR_ID', 'WBAN', 'WMO', 'FAA_LOC_ID', 'NWS_LOC_ID', 'ICAO_ID', 'COUNTRY', 'TIME_ZONE', 'HIST_WBAN_NAME']\n",
    "    f.write('^'.join(headers))\n",
    "    f.write('\\n')\n",
    "    f.write('\\n'.join(new_file))    "
   ]
  },
  {
   "cell_type": "markdown",
   "metadata": {},
   "source": [
    "___"
   ]
  },
  {
   "cell_type": "markdown",
   "metadata": {},
   "source": [
    "#### Import the recently generated CSV file and start exploring it"
   ]
  },
  {
   "cell_type": "code",
   "execution_count": 14,
   "metadata": {
    "ExecuteTime": {
     "end_time": "2021-02-09T21:12:13.389188Z",
     "start_time": "2021-02-09T21:12:13.377195Z"
    }
   },
   "outputs": [
    {
     "data": {
      "text/plain": [
       "'C:\\\\Users\\\\turge\\\\CompartidoVM\\\\0.TFM\\\\Output_Data\\\\NOAA\\\\MASTER-STN-HIST_preprocessed.csv'"
      ]
     },
     "execution_count": 14,
     "metadata": {},
     "output_type": "execute_result"
    }
   ],
   "source": [
    "csv_path = os.path.join(root,\n",
    "                        \"Output_Data\",\n",
    "                        \"NOAA\",\n",
    "                        \"MASTER-STN-HIST_preprocessed.csv\")\n",
    "\n",
    "csv_path"
   ]
  },
  {
   "cell_type": "code",
   "execution_count": 15,
   "metadata": {
    "ExecuteTime": {
     "end_time": "2021-02-09T21:12:13.719982Z",
     "start_time": "2021-02-09T21:12:13.392185Z"
    },
    "scrolled": true
   },
   "outputs": [
    {
     "data": {
      "text/html": [
       "<div>\n",
       "<style scoped>\n",
       "    .dataframe tbody tr th:only-of-type {\n",
       "        vertical-align: middle;\n",
       "    }\n",
       "\n",
       "    .dataframe tbody tr th {\n",
       "        vertical-align: top;\n",
       "    }\n",
       "\n",
       "    .dataframe thead th {\n",
       "        text-align: right;\n",
       "    }\n",
       "</style>\n",
       "<table border=\"1\" class=\"dataframe\">\n",
       "  <thead>\n",
       "    <tr style=\"text-align: right;\">\n",
       "      <th></th>\n",
       "      <th>HOMR_ID</th>\n",
       "      <th>WBAN</th>\n",
       "      <th>WMO</th>\n",
       "      <th>FAA_LOC_ID</th>\n",
       "      <th>NWS_LOC_ID</th>\n",
       "      <th>ICAO_ID</th>\n",
       "      <th>COUNTRY</th>\n",
       "      <th>TIME_ZONE</th>\n",
       "      <th>HIST_WBAN_NAME</th>\n",
       "    </tr>\n",
       "  </thead>\n",
       "  <tbody>\n",
       "    <tr>\n",
       "      <th>0</th>\n",
       "      <td>10000001</td>\n",
       "      <td>24285.0</td>\n",
       "      <td>NaN</td>\n",
       "      <td>NaN</td>\n",
       "      <td>NaN</td>\n",
       "      <td>NaN</td>\n",
       "      <td>UNITED STATES</td>\n",
       "      <td>8.0</td>\n",
       "      <td>NEWPORT MUNI AP</td>\n",
       "    </tr>\n",
       "    <tr>\n",
       "      <th>1</th>\n",
       "      <td>10000001</td>\n",
       "      <td>24285.0</td>\n",
       "      <td>NaN</td>\n",
       "      <td>NaN</td>\n",
       "      <td>NaN</td>\n",
       "      <td>NaN</td>\n",
       "      <td>UNITED STATES</td>\n",
       "      <td>8.0</td>\n",
       "      <td>NEWPORT MUNI AP</td>\n",
       "    </tr>\n",
       "    <tr>\n",
       "      <th>2</th>\n",
       "      <td>10000001</td>\n",
       "      <td>24285.0</td>\n",
       "      <td>NaN</td>\n",
       "      <td>NaN</td>\n",
       "      <td>NaN</td>\n",
       "      <td>NaN</td>\n",
       "      <td>UNITED STATES</td>\n",
       "      <td>8.0</td>\n",
       "      <td>NEWPORT MUNI AP</td>\n",
       "    </tr>\n",
       "    <tr>\n",
       "      <th>3</th>\n",
       "      <td>10000001</td>\n",
       "      <td>24285.0</td>\n",
       "      <td>NaN</td>\n",
       "      <td>NaN</td>\n",
       "      <td>NaN</td>\n",
       "      <td>NaN</td>\n",
       "      <td>UNITED STATES</td>\n",
       "      <td>8.0</td>\n",
       "      <td>NEWPORT MUNI AP</td>\n",
       "    </tr>\n",
       "    <tr>\n",
       "      <th>4</th>\n",
       "      <td>10000001</td>\n",
       "      <td>24285.0</td>\n",
       "      <td>NaN</td>\n",
       "      <td>NaN</td>\n",
       "      <td>NaN</td>\n",
       "      <td>NaN</td>\n",
       "      <td>UNITED STATES</td>\n",
       "      <td>8.0</td>\n",
       "      <td>NEWPORT MUNI AP</td>\n",
       "    </tr>\n",
       "    <tr>\n",
       "      <th>...</th>\n",
       "      <td>...</td>\n",
       "      <td>...</td>\n",
       "      <td>...</td>\n",
       "      <td>...</td>\n",
       "      <td>...</td>\n",
       "      <td>...</td>\n",
       "      <td>...</td>\n",
       "      <td>...</td>\n",
       "      <td>...</td>\n",
       "    </tr>\n",
       "    <tr>\n",
       "      <th>178011</th>\n",
       "      <td>30125303</td>\n",
       "      <td>NaN</td>\n",
       "      <td>NaN</td>\n",
       "      <td>NaN</td>\n",
       "      <td>NaN</td>\n",
       "      <td>NaN</td>\n",
       "      <td>UNITED STATES</td>\n",
       "      <td>5.0</td>\n",
       "      <td>CAMDEN</td>\n",
       "    </tr>\n",
       "    <tr>\n",
       "      <th>178012</th>\n",
       "      <td>30125303</td>\n",
       "      <td>NaN</td>\n",
       "      <td>NaN</td>\n",
       "      <td>NaN</td>\n",
       "      <td>NaN</td>\n",
       "      <td>NaN</td>\n",
       "      <td>UNITED STATES</td>\n",
       "      <td>5.0</td>\n",
       "      <td>CAMDEN</td>\n",
       "    </tr>\n",
       "    <tr>\n",
       "      <th>178013</th>\n",
       "      <td>30125303</td>\n",
       "      <td>NaN</td>\n",
       "      <td>NaN</td>\n",
       "      <td>NaN</td>\n",
       "      <td>NaN</td>\n",
       "      <td>NaN</td>\n",
       "      <td>UNITED STATES</td>\n",
       "      <td>5.0</td>\n",
       "      <td>CAMDEN</td>\n",
       "    </tr>\n",
       "    <tr>\n",
       "      <th>178014</th>\n",
       "      <td>30125303</td>\n",
       "      <td>NaN</td>\n",
       "      <td>NaN</td>\n",
       "      <td>NaN</td>\n",
       "      <td>NaN</td>\n",
       "      <td>NaN</td>\n",
       "      <td>UNITED STATES</td>\n",
       "      <td>5.0</td>\n",
       "      <td>CAMDEN</td>\n",
       "    </tr>\n",
       "    <tr>\n",
       "      <th>178015</th>\n",
       "      <td>30125303</td>\n",
       "      <td>NaN</td>\n",
       "      <td>NaN</td>\n",
       "      <td>NaN</td>\n",
       "      <td>NaN</td>\n",
       "      <td>NaN</td>\n",
       "      <td>UNITED STATES</td>\n",
       "      <td>5.0</td>\n",
       "      <td>CAMDEN</td>\n",
       "    </tr>\n",
       "  </tbody>\n",
       "</table>\n",
       "<p>178016 rows × 9 columns</p>\n",
       "</div>"
      ],
      "text/plain": [
       "         HOMR_ID     WBAN  WMO FAA_LOC_ID NWS_LOC_ID ICAO_ID        COUNTRY  \\\n",
       "0       10000001  24285.0  NaN        NaN        NaN     NaN  UNITED STATES   \n",
       "1       10000001  24285.0  NaN        NaN        NaN     NaN  UNITED STATES   \n",
       "2       10000001  24285.0  NaN        NaN        NaN     NaN  UNITED STATES   \n",
       "3       10000001  24285.0  NaN        NaN        NaN     NaN  UNITED STATES   \n",
       "4       10000001  24285.0  NaN        NaN        NaN     NaN  UNITED STATES   \n",
       "...          ...      ...  ...        ...        ...     ...            ...   \n",
       "178011  30125303      NaN  NaN        NaN        NaN     NaN  UNITED STATES   \n",
       "178012  30125303      NaN  NaN        NaN        NaN     NaN  UNITED STATES   \n",
       "178013  30125303      NaN  NaN        NaN        NaN     NaN  UNITED STATES   \n",
       "178014  30125303      NaN  NaN        NaN        NaN     NaN  UNITED STATES   \n",
       "178015  30125303      NaN  NaN        NaN        NaN     NaN  UNITED STATES   \n",
       "\n",
       "        TIME_ZONE   HIST_WBAN_NAME  \n",
       "0             8.0  NEWPORT MUNI AP  \n",
       "1             8.0  NEWPORT MUNI AP  \n",
       "2             8.0  NEWPORT MUNI AP  \n",
       "3             8.0  NEWPORT MUNI AP  \n",
       "4             8.0  NEWPORT MUNI AP  \n",
       "...           ...              ...  \n",
       "178011        5.0           CAMDEN  \n",
       "178012        5.0           CAMDEN  \n",
       "178013        5.0           CAMDEN  \n",
       "178014        5.0           CAMDEN  \n",
       "178015        5.0           CAMDEN  \n",
       "\n",
       "[178016 rows x 9 columns]"
      ]
     },
     "execution_count": 15,
     "metadata": {},
     "output_type": "execute_result"
    }
   ],
   "source": [
    "WBAN = pd.read_csv(csv_path,\n",
    "                   sep='^',\n",
    "                   encoding='latin1',\n",
    "                   low_memory = False)\n",
    "WBAN"
   ]
  },
  {
   "cell_type": "code",
   "execution_count": 16,
   "metadata": {
    "ExecuteTime": {
     "end_time": "2021-02-09T21:12:14.005810Z",
     "start_time": "2021-02-09T21:12:13.723981Z"
    },
    "scrolled": false
   },
   "outputs": [
    {
     "data": {
      "text/html": [
       "<div>\n",
       "<style scoped>\n",
       "    .dataframe tbody tr th:only-of-type {\n",
       "        vertical-align: middle;\n",
       "    }\n",
       "\n",
       "    .dataframe tbody tr th {\n",
       "        vertical-align: top;\n",
       "    }\n",
       "\n",
       "    .dataframe thead th {\n",
       "        text-align: right;\n",
       "    }\n",
       "</style>\n",
       "<table border=\"1\" class=\"dataframe\">\n",
       "  <thead>\n",
       "    <tr style=\"text-align: right;\">\n",
       "      <th></th>\n",
       "      <th>HOMR_ID</th>\n",
       "      <th>WBAN</th>\n",
       "      <th>WMO</th>\n",
       "      <th>FAA_LOC_ID</th>\n",
       "      <th>NWS_LOC_ID</th>\n",
       "      <th>ICAO_ID</th>\n",
       "      <th>COUNTRY</th>\n",
       "      <th>TIME_ZONE</th>\n",
       "      <th>HIST_WBAN_NAME</th>\n",
       "    </tr>\n",
       "  </thead>\n",
       "  <tbody>\n",
       "    <tr>\n",
       "      <th>0</th>\n",
       "      <td>10000001</td>\n",
       "      <td>24285.0</td>\n",
       "      <td>NaN</td>\n",
       "      <td>NaN</td>\n",
       "      <td>NaN</td>\n",
       "      <td>NaN</td>\n",
       "      <td>UNITED STATES</td>\n",
       "      <td>8.0</td>\n",
       "      <td>NEWPORT MUNI AP</td>\n",
       "    </tr>\n",
       "    <tr>\n",
       "      <th>1</th>\n",
       "      <td>10000001</td>\n",
       "      <td>24285.0</td>\n",
       "      <td>NaN</td>\n",
       "      <td>NaN</td>\n",
       "      <td>NaN</td>\n",
       "      <td>NaN</td>\n",
       "      <td>UNITED STATES</td>\n",
       "      <td>8.0</td>\n",
       "      <td>NEWPORT MUNI AP</td>\n",
       "    </tr>\n",
       "    <tr>\n",
       "      <th>2</th>\n",
       "      <td>10000001</td>\n",
       "      <td>24285.0</td>\n",
       "      <td>NaN</td>\n",
       "      <td>NaN</td>\n",
       "      <td>NaN</td>\n",
       "      <td>NaN</td>\n",
       "      <td>UNITED STATES</td>\n",
       "      <td>8.0</td>\n",
       "      <td>NEWPORT MUNI AP</td>\n",
       "    </tr>\n",
       "    <tr>\n",
       "      <th>3</th>\n",
       "      <td>10000001</td>\n",
       "      <td>24285.0</td>\n",
       "      <td>NaN</td>\n",
       "      <td>NaN</td>\n",
       "      <td>NaN</td>\n",
       "      <td>NaN</td>\n",
       "      <td>UNITED STATES</td>\n",
       "      <td>8.0</td>\n",
       "      <td>NEWPORT MUNI AP</td>\n",
       "    </tr>\n",
       "    <tr>\n",
       "      <th>4</th>\n",
       "      <td>10000001</td>\n",
       "      <td>24285.0</td>\n",
       "      <td>NaN</td>\n",
       "      <td>NaN</td>\n",
       "      <td>NaN</td>\n",
       "      <td>NaN</td>\n",
       "      <td>UNITED STATES</td>\n",
       "      <td>8.0</td>\n",
       "      <td>NEWPORT MUNI AP</td>\n",
       "    </tr>\n",
       "    <tr>\n",
       "      <th>...</th>\n",
       "      <td>...</td>\n",
       "      <td>...</td>\n",
       "      <td>...</td>\n",
       "      <td>...</td>\n",
       "      <td>...</td>\n",
       "      <td>...</td>\n",
       "      <td>...</td>\n",
       "      <td>...</td>\n",
       "      <td>...</td>\n",
       "    </tr>\n",
       "    <tr>\n",
       "      <th>178011</th>\n",
       "      <td>30125303</td>\n",
       "      <td>NaN</td>\n",
       "      <td>NaN</td>\n",
       "      <td>NaN</td>\n",
       "      <td>NaN</td>\n",
       "      <td>NaN</td>\n",
       "      <td>UNITED STATES</td>\n",
       "      <td>5.0</td>\n",
       "      <td>CAMDEN</td>\n",
       "    </tr>\n",
       "    <tr>\n",
       "      <th>178012</th>\n",
       "      <td>30125303</td>\n",
       "      <td>NaN</td>\n",
       "      <td>NaN</td>\n",
       "      <td>NaN</td>\n",
       "      <td>NaN</td>\n",
       "      <td>NaN</td>\n",
       "      <td>UNITED STATES</td>\n",
       "      <td>5.0</td>\n",
       "      <td>CAMDEN</td>\n",
       "    </tr>\n",
       "    <tr>\n",
       "      <th>178013</th>\n",
       "      <td>30125303</td>\n",
       "      <td>NaN</td>\n",
       "      <td>NaN</td>\n",
       "      <td>NaN</td>\n",
       "      <td>NaN</td>\n",
       "      <td>NaN</td>\n",
       "      <td>UNITED STATES</td>\n",
       "      <td>5.0</td>\n",
       "      <td>CAMDEN</td>\n",
       "    </tr>\n",
       "    <tr>\n",
       "      <th>178014</th>\n",
       "      <td>30125303</td>\n",
       "      <td>NaN</td>\n",
       "      <td>NaN</td>\n",
       "      <td>NaN</td>\n",
       "      <td>NaN</td>\n",
       "      <td>NaN</td>\n",
       "      <td>UNITED STATES</td>\n",
       "      <td>5.0</td>\n",
       "      <td>CAMDEN</td>\n",
       "    </tr>\n",
       "    <tr>\n",
       "      <th>178015</th>\n",
       "      <td>30125303</td>\n",
       "      <td>NaN</td>\n",
       "      <td>NaN</td>\n",
       "      <td>NaN</td>\n",
       "      <td>NaN</td>\n",
       "      <td>NaN</td>\n",
       "      <td>UNITED STATES</td>\n",
       "      <td>5.0</td>\n",
       "      <td>CAMDEN</td>\n",
       "    </tr>\n",
       "  </tbody>\n",
       "</table>\n",
       "<p>178016 rows × 9 columns</p>\n",
       "</div>"
      ],
      "text/plain": [
       "         HOMR_ID     WBAN  WMO FAA_LOC_ID NWS_LOC_ID ICAO_ID        COUNTRY  \\\n",
       "0       10000001  24285.0  NaN        NaN        NaN     NaN  UNITED STATES   \n",
       "1       10000001  24285.0  NaN        NaN        NaN     NaN  UNITED STATES   \n",
       "2       10000001  24285.0  NaN        NaN        NaN     NaN  UNITED STATES   \n",
       "3       10000001  24285.0  NaN        NaN        NaN     NaN  UNITED STATES   \n",
       "4       10000001  24285.0  NaN        NaN        NaN     NaN  UNITED STATES   \n",
       "...          ...      ...  ...        ...        ...     ...            ...   \n",
       "178011  30125303      NaN  NaN        NaN        NaN     NaN  UNITED STATES   \n",
       "178012  30125303      NaN  NaN        NaN        NaN     NaN  UNITED STATES   \n",
       "178013  30125303      NaN  NaN        NaN        NaN     NaN  UNITED STATES   \n",
       "178014  30125303      NaN  NaN        NaN        NaN     NaN  UNITED STATES   \n",
       "178015  30125303      NaN  NaN        NaN        NaN     NaN  UNITED STATES   \n",
       "\n",
       "        TIME_ZONE   HIST_WBAN_NAME  \n",
       "0             8.0  NEWPORT MUNI AP  \n",
       "1             8.0  NEWPORT MUNI AP  \n",
       "2             8.0  NEWPORT MUNI AP  \n",
       "3             8.0  NEWPORT MUNI AP  \n",
       "4             8.0  NEWPORT MUNI AP  \n",
       "...           ...              ...  \n",
       "178011        5.0           CAMDEN  \n",
       "178012        5.0           CAMDEN  \n",
       "178013        5.0           CAMDEN  \n",
       "178014        5.0           CAMDEN  \n",
       "178015        5.0           CAMDEN  \n",
       "\n",
       "[178016 rows x 9 columns]"
      ]
     },
     "execution_count": 16,
     "metadata": {},
     "output_type": "execute_result"
    }
   ],
   "source": [
    "# Some airport codes present fewer characters than expected. Let's clean them:\n",
    "WBAN.drop(WBAN[WBAN['FAA_LOC_ID'].str.len() < 3].index, axis=0, inplace=True)\n",
    "WBAN.drop(WBAN[WBAN['ICAO_ID'].str.len() < 4].index, axis=0, inplace=True)\n",
    "WBAN"
   ]
  },
  {
   "cell_type": "code",
   "execution_count": 17,
   "metadata": {
    "ExecuteTime": {
     "end_time": "2021-02-09T21:12:14.145724Z",
     "start_time": "2021-02-09T21:12:14.009809Z"
    }
   },
   "outputs": [
    {
     "data": {
      "text/html": [
       "<div>\n",
       "<style scoped>\n",
       "    .dataframe tbody tr th:only-of-type {\n",
       "        vertical-align: middle;\n",
       "    }\n",
       "\n",
       "    .dataframe tbody tr th {\n",
       "        vertical-align: top;\n",
       "    }\n",
       "\n",
       "    .dataframe thead th {\n",
       "        text-align: right;\n",
       "    }\n",
       "</style>\n",
       "<table border=\"1\" class=\"dataframe\">\n",
       "  <thead>\n",
       "    <tr style=\"text-align: right;\">\n",
       "      <th></th>\n",
       "      <th>HOMR_ID</th>\n",
       "      <th>WBAN</th>\n",
       "      <th>WMO</th>\n",
       "      <th>FAA_LOC_ID</th>\n",
       "      <th>NWS_LOC_ID</th>\n",
       "      <th>ICAO_ID</th>\n",
       "      <th>COUNTRY</th>\n",
       "      <th>TIME_ZONE</th>\n",
       "      <th>HIST_WBAN_NAME</th>\n",
       "    </tr>\n",
       "  </thead>\n",
       "  <tbody>\n",
       "    <tr>\n",
       "      <th>13</th>\n",
       "      <td>10000158</td>\n",
       "      <td>25322.0</td>\n",
       "      <td>70367.0</td>\n",
       "      <td>GST</td>\n",
       "      <td>GST</td>\n",
       "      <td>PAGS</td>\n",
       "      <td>UNITED STATES</td>\n",
       "      <td>9.0</td>\n",
       "      <td>GUSTAVUS AP</td>\n",
       "    </tr>\n",
       "    <tr>\n",
       "      <th>14</th>\n",
       "      <td>10000158</td>\n",
       "      <td>25322.0</td>\n",
       "      <td>70367.0</td>\n",
       "      <td>GST</td>\n",
       "      <td>GST</td>\n",
       "      <td>PAGS</td>\n",
       "      <td>UNITED STATES</td>\n",
       "      <td>9.0</td>\n",
       "      <td>GUSTAVUS AP</td>\n",
       "    </tr>\n",
       "    <tr>\n",
       "      <th>15</th>\n",
       "      <td>10000158</td>\n",
       "      <td>25322.0</td>\n",
       "      <td>70367.0</td>\n",
       "      <td>GST</td>\n",
       "      <td>GST</td>\n",
       "      <td>PAGS</td>\n",
       "      <td>UNITED STATES</td>\n",
       "      <td>9.0</td>\n",
       "      <td>GUSTAVUS AP</td>\n",
       "    </tr>\n",
       "    <tr>\n",
       "      <th>16</th>\n",
       "      <td>10000158</td>\n",
       "      <td>25322.0</td>\n",
       "      <td>70367.0</td>\n",
       "      <td>GST</td>\n",
       "      <td>GST</td>\n",
       "      <td>PAGS</td>\n",
       "      <td>UNITED STATES</td>\n",
       "      <td>9.0</td>\n",
       "      <td>GUSTAVUS AP</td>\n",
       "    </tr>\n",
       "    <tr>\n",
       "      <th>19</th>\n",
       "      <td>10000202</td>\n",
       "      <td>25325.0</td>\n",
       "      <td>70395.0</td>\n",
       "      <td>KTN</td>\n",
       "      <td>KTN</td>\n",
       "      <td>PAKT</td>\n",
       "      <td>UNITED STATES</td>\n",
       "      <td>9.0</td>\n",
       "      <td>KETCHIKAN INTL AP</td>\n",
       "    </tr>\n",
       "    <tr>\n",
       "      <th>...</th>\n",
       "      <td>...</td>\n",
       "      <td>...</td>\n",
       "      <td>...</td>\n",
       "      <td>...</td>\n",
       "      <td>...</td>\n",
       "      <td>...</td>\n",
       "      <td>...</td>\n",
       "      <td>...</td>\n",
       "      <td>...</td>\n",
       "    </tr>\n",
       "    <tr>\n",
       "      <th>168723</th>\n",
       "      <td>30000752</td>\n",
       "      <td>53868.0</td>\n",
       "      <td>72427.0</td>\n",
       "      <td>OQT</td>\n",
       "      <td>OQT</td>\n",
       "      <td>KOQT</td>\n",
       "      <td>UNITED STATES</td>\n",
       "      <td>5.0</td>\n",
       "      <td>OAK RIDGE ASOS</td>\n",
       "    </tr>\n",
       "    <tr>\n",
       "      <th>171069</th>\n",
       "      <td>30001692</td>\n",
       "      <td>93874.0</td>\n",
       "      <td>74757.0</td>\n",
       "      <td>GPT</td>\n",
       "      <td>GPT</td>\n",
       "      <td>KGPT</td>\n",
       "      <td>UNITED STATES</td>\n",
       "      <td>6.0</td>\n",
       "      <td>GULFPORT - BILOXI AP</td>\n",
       "    </tr>\n",
       "    <tr>\n",
       "      <th>171070</th>\n",
       "      <td>30001692</td>\n",
       "      <td>93874.0</td>\n",
       "      <td>74757.0</td>\n",
       "      <td>GPT</td>\n",
       "      <td>GPT</td>\n",
       "      <td>KGPT</td>\n",
       "      <td>UNITED STATES</td>\n",
       "      <td>6.0</td>\n",
       "      <td>GULFPORT - BILOXI AP</td>\n",
       "    </tr>\n",
       "    <tr>\n",
       "      <th>175241</th>\n",
       "      <td>30015538</td>\n",
       "      <td>26512.0</td>\n",
       "      <td>70246.0</td>\n",
       "      <td>MHM</td>\n",
       "      <td>MHM</td>\n",
       "      <td>PAMH</td>\n",
       "      <td>UNITED STATES</td>\n",
       "      <td>9.0</td>\n",
       "      <td>MINCHUMINA AP</td>\n",
       "    </tr>\n",
       "    <tr>\n",
       "      <th>175242</th>\n",
       "      <td>30015538</td>\n",
       "      <td>26512.0</td>\n",
       "      <td>70246.0</td>\n",
       "      <td>MHM</td>\n",
       "      <td>MHM</td>\n",
       "      <td>PAMH</td>\n",
       "      <td>UNITED STATES</td>\n",
       "      <td>9.0</td>\n",
       "      <td>MINCHUMINA AP</td>\n",
       "    </tr>\n",
       "  </tbody>\n",
       "</table>\n",
       "<p>3174 rows × 9 columns</p>\n",
       "</div>"
      ],
      "text/plain": [
       "         HOMR_ID     WBAN      WMO FAA_LOC_ID NWS_LOC_ID ICAO_ID  \\\n",
       "13      10000158  25322.0  70367.0        GST        GST    PAGS   \n",
       "14      10000158  25322.0  70367.0        GST        GST    PAGS   \n",
       "15      10000158  25322.0  70367.0        GST        GST    PAGS   \n",
       "16      10000158  25322.0  70367.0        GST        GST    PAGS   \n",
       "19      10000202  25325.0  70395.0        KTN        KTN    PAKT   \n",
       "...          ...      ...      ...        ...        ...     ...   \n",
       "168723  30000752  53868.0  72427.0        OQT        OQT    KOQT   \n",
       "171069  30001692  93874.0  74757.0        GPT        GPT    KGPT   \n",
       "171070  30001692  93874.0  74757.0        GPT        GPT    KGPT   \n",
       "175241  30015538  26512.0  70246.0        MHM        MHM    PAMH   \n",
       "175242  30015538  26512.0  70246.0        MHM        MHM    PAMH   \n",
       "\n",
       "              COUNTRY  TIME_ZONE        HIST_WBAN_NAME  \n",
       "13      UNITED STATES        9.0           GUSTAVUS AP  \n",
       "14      UNITED STATES        9.0           GUSTAVUS AP  \n",
       "15      UNITED STATES        9.0           GUSTAVUS AP  \n",
       "16      UNITED STATES        9.0           GUSTAVUS AP  \n",
       "19      UNITED STATES        9.0     KETCHIKAN INTL AP  \n",
       "...               ...        ...                   ...  \n",
       "168723  UNITED STATES        5.0        OAK RIDGE ASOS  \n",
       "171069  UNITED STATES        6.0  GULFPORT - BILOXI AP  \n",
       "171070  UNITED STATES        6.0  GULFPORT - BILOXI AP  \n",
       "175241  UNITED STATES        9.0         MINCHUMINA AP  \n",
       "175242  UNITED STATES        9.0         MINCHUMINA AP  \n",
       "\n",
       "[3174 rows x 9 columns]"
      ]
     },
     "execution_count": 17,
     "metadata": {},
     "output_type": "execute_result"
    }
   ],
   "source": [
    "WBAN.dropna(how='any', inplace=True)\n",
    "WBAN"
   ]
  },
  {
   "cell_type": "code",
   "execution_count": 18,
   "metadata": {
    "ExecuteTime": {
     "end_time": "2021-02-09T21:12:14.207687Z",
     "start_time": "2021-02-09T21:12:14.148724Z"
    },
    "scrolled": true
   },
   "outputs": [
    {
     "data": {
      "text/html": [
       "<div>\n",
       "<style scoped>\n",
       "    .dataframe tbody tr th:only-of-type {\n",
       "        vertical-align: middle;\n",
       "    }\n",
       "\n",
       "    .dataframe tbody tr th {\n",
       "        vertical-align: top;\n",
       "    }\n",
       "\n",
       "    .dataframe thead th {\n",
       "        text-align: right;\n",
       "    }\n",
       "</style>\n",
       "<table border=\"1\" class=\"dataframe\">\n",
       "  <thead>\n",
       "    <tr style=\"text-align: right;\">\n",
       "      <th></th>\n",
       "      <th>HOMR_ID</th>\n",
       "      <th>WBAN</th>\n",
       "      <th>WMO</th>\n",
       "      <th>FAA_LOC_ID</th>\n",
       "      <th>NWS_LOC_ID</th>\n",
       "      <th>ICAO_ID</th>\n",
       "      <th>COUNTRY</th>\n",
       "      <th>TIME_ZONE</th>\n",
       "      <th>HIST_WBAN_NAME</th>\n",
       "    </tr>\n",
       "  </thead>\n",
       "  <tbody>\n",
       "    <tr>\n",
       "      <th>13</th>\n",
       "      <td>10000158</td>\n",
       "      <td>25322</td>\n",
       "      <td>70367</td>\n",
       "      <td>GST</td>\n",
       "      <td>GST</td>\n",
       "      <td>PAGS</td>\n",
       "      <td>UNITED STATES</td>\n",
       "      <td>9</td>\n",
       "      <td>GUSTAVUS AP</td>\n",
       "    </tr>\n",
       "    <tr>\n",
       "      <th>14</th>\n",
       "      <td>10000158</td>\n",
       "      <td>25322</td>\n",
       "      <td>70367</td>\n",
       "      <td>GST</td>\n",
       "      <td>GST</td>\n",
       "      <td>PAGS</td>\n",
       "      <td>UNITED STATES</td>\n",
       "      <td>9</td>\n",
       "      <td>GUSTAVUS AP</td>\n",
       "    </tr>\n",
       "    <tr>\n",
       "      <th>15</th>\n",
       "      <td>10000158</td>\n",
       "      <td>25322</td>\n",
       "      <td>70367</td>\n",
       "      <td>GST</td>\n",
       "      <td>GST</td>\n",
       "      <td>PAGS</td>\n",
       "      <td>UNITED STATES</td>\n",
       "      <td>9</td>\n",
       "      <td>GUSTAVUS AP</td>\n",
       "    </tr>\n",
       "    <tr>\n",
       "      <th>16</th>\n",
       "      <td>10000158</td>\n",
       "      <td>25322</td>\n",
       "      <td>70367</td>\n",
       "      <td>GST</td>\n",
       "      <td>GST</td>\n",
       "      <td>PAGS</td>\n",
       "      <td>UNITED STATES</td>\n",
       "      <td>9</td>\n",
       "      <td>GUSTAVUS AP</td>\n",
       "    </tr>\n",
       "    <tr>\n",
       "      <th>19</th>\n",
       "      <td>10000202</td>\n",
       "      <td>25325</td>\n",
       "      <td>70395</td>\n",
       "      <td>KTN</td>\n",
       "      <td>KTN</td>\n",
       "      <td>PAKT</td>\n",
       "      <td>UNITED STATES</td>\n",
       "      <td>9</td>\n",
       "      <td>KETCHIKAN INTL AP</td>\n",
       "    </tr>\n",
       "    <tr>\n",
       "      <th>...</th>\n",
       "      <td>...</td>\n",
       "      <td>...</td>\n",
       "      <td>...</td>\n",
       "      <td>...</td>\n",
       "      <td>...</td>\n",
       "      <td>...</td>\n",
       "      <td>...</td>\n",
       "      <td>...</td>\n",
       "      <td>...</td>\n",
       "    </tr>\n",
       "    <tr>\n",
       "      <th>168723</th>\n",
       "      <td>30000752</td>\n",
       "      <td>53868</td>\n",
       "      <td>72427</td>\n",
       "      <td>OQT</td>\n",
       "      <td>OQT</td>\n",
       "      <td>KOQT</td>\n",
       "      <td>UNITED STATES</td>\n",
       "      <td>5</td>\n",
       "      <td>OAK RIDGE ASOS</td>\n",
       "    </tr>\n",
       "    <tr>\n",
       "      <th>171069</th>\n",
       "      <td>30001692</td>\n",
       "      <td>93874</td>\n",
       "      <td>74757</td>\n",
       "      <td>GPT</td>\n",
       "      <td>GPT</td>\n",
       "      <td>KGPT</td>\n",
       "      <td>UNITED STATES</td>\n",
       "      <td>6</td>\n",
       "      <td>GULFPORT - BILOXI AP</td>\n",
       "    </tr>\n",
       "    <tr>\n",
       "      <th>171070</th>\n",
       "      <td>30001692</td>\n",
       "      <td>93874</td>\n",
       "      <td>74757</td>\n",
       "      <td>GPT</td>\n",
       "      <td>GPT</td>\n",
       "      <td>KGPT</td>\n",
       "      <td>UNITED STATES</td>\n",
       "      <td>6</td>\n",
       "      <td>GULFPORT - BILOXI AP</td>\n",
       "    </tr>\n",
       "    <tr>\n",
       "      <th>175241</th>\n",
       "      <td>30015538</td>\n",
       "      <td>26512</td>\n",
       "      <td>70246</td>\n",
       "      <td>MHM</td>\n",
       "      <td>MHM</td>\n",
       "      <td>PAMH</td>\n",
       "      <td>UNITED STATES</td>\n",
       "      <td>9</td>\n",
       "      <td>MINCHUMINA AP</td>\n",
       "    </tr>\n",
       "    <tr>\n",
       "      <th>175242</th>\n",
       "      <td>30015538</td>\n",
       "      <td>26512</td>\n",
       "      <td>70246</td>\n",
       "      <td>MHM</td>\n",
       "      <td>MHM</td>\n",
       "      <td>PAMH</td>\n",
       "      <td>UNITED STATES</td>\n",
       "      <td>9</td>\n",
       "      <td>MINCHUMINA AP</td>\n",
       "    </tr>\n",
       "  </tbody>\n",
       "</table>\n",
       "<p>3174 rows × 9 columns</p>\n",
       "</div>"
      ],
      "text/plain": [
       "         HOMR_ID   WBAN    WMO FAA_LOC_ID NWS_LOC_ID ICAO_ID        COUNTRY  \\\n",
       "13      10000158  25322  70367        GST        GST    PAGS  UNITED STATES   \n",
       "14      10000158  25322  70367        GST        GST    PAGS  UNITED STATES   \n",
       "15      10000158  25322  70367        GST        GST    PAGS  UNITED STATES   \n",
       "16      10000158  25322  70367        GST        GST    PAGS  UNITED STATES   \n",
       "19      10000202  25325  70395        KTN        KTN    PAKT  UNITED STATES   \n",
       "...          ...    ...    ...        ...        ...     ...            ...   \n",
       "168723  30000752  53868  72427        OQT        OQT    KOQT  UNITED STATES   \n",
       "171069  30001692  93874  74757        GPT        GPT    KGPT  UNITED STATES   \n",
       "171070  30001692  93874  74757        GPT        GPT    KGPT  UNITED STATES   \n",
       "175241  30015538  26512  70246        MHM        MHM    PAMH  UNITED STATES   \n",
       "175242  30015538  26512  70246        MHM        MHM    PAMH  UNITED STATES   \n",
       "\n",
       "        TIME_ZONE        HIST_WBAN_NAME  \n",
       "13              9           GUSTAVUS AP  \n",
       "14              9           GUSTAVUS AP  \n",
       "15              9           GUSTAVUS AP  \n",
       "16              9           GUSTAVUS AP  \n",
       "19              9     KETCHIKAN INTL AP  \n",
       "...           ...                   ...  \n",
       "168723          5        OAK RIDGE ASOS  \n",
       "171069          6  GULFPORT - BILOXI AP  \n",
       "171070          6  GULFPORT - BILOXI AP  \n",
       "175241          9         MINCHUMINA AP  \n",
       "175242          9         MINCHUMINA AP  \n",
       "\n",
       "[3174 rows x 9 columns]"
      ]
     },
     "execution_count": 18,
     "metadata": {},
     "output_type": "execute_result"
    }
   ],
   "source": [
    "WBAN[WBAN.select_dtypes('number').columns] = WBAN.select_dtypes('number').astype('int64')\n",
    "WBAN"
   ]
  },
  {
   "cell_type": "code",
   "execution_count": 19,
   "metadata": {
    "ExecuteTime": {
     "end_time": "2021-02-09T21:12:14.269651Z",
     "start_time": "2021-02-09T21:12:14.211686Z"
    }
   },
   "outputs": [
    {
     "data": {
      "text/html": [
       "<div>\n",
       "<style scoped>\n",
       "    .dataframe tbody tr th:only-of-type {\n",
       "        vertical-align: middle;\n",
       "    }\n",
       "\n",
       "    .dataframe tbody tr th {\n",
       "        vertical-align: top;\n",
       "    }\n",
       "\n",
       "    .dataframe thead th {\n",
       "        text-align: right;\n",
       "    }\n",
       "</style>\n",
       "<table border=\"1\" class=\"dataframe\">\n",
       "  <thead>\n",
       "    <tr style=\"text-align: right;\">\n",
       "      <th></th>\n",
       "      <th>HOMR_ID</th>\n",
       "      <th>WBAN</th>\n",
       "      <th>WMO</th>\n",
       "      <th>FAA_LOC_ID</th>\n",
       "      <th>NWS_LOC_ID</th>\n",
       "      <th>ICAO_ID</th>\n",
       "      <th>COUNTRY</th>\n",
       "      <th>TIME_ZONE</th>\n",
       "      <th>HIST_WBAN_NAME</th>\n",
       "    </tr>\n",
       "  </thead>\n",
       "  <tbody>\n",
       "    <tr>\n",
       "      <th>13</th>\n",
       "      <td>10000158</td>\n",
       "      <td>25322</td>\n",
       "      <td>70367</td>\n",
       "      <td>GST</td>\n",
       "      <td>GST</td>\n",
       "      <td>PAGS</td>\n",
       "      <td>UNITED STATES</td>\n",
       "      <td>9</td>\n",
       "      <td>GUSTAVUS AP</td>\n",
       "    </tr>\n",
       "    <tr>\n",
       "      <th>14</th>\n",
       "      <td>10000158</td>\n",
       "      <td>25322</td>\n",
       "      <td>70367</td>\n",
       "      <td>GST</td>\n",
       "      <td>GST</td>\n",
       "      <td>PAGS</td>\n",
       "      <td>UNITED STATES</td>\n",
       "      <td>9</td>\n",
       "      <td>GUSTAVUS AP</td>\n",
       "    </tr>\n",
       "    <tr>\n",
       "      <th>15</th>\n",
       "      <td>10000158</td>\n",
       "      <td>25322</td>\n",
       "      <td>70367</td>\n",
       "      <td>GST</td>\n",
       "      <td>GST</td>\n",
       "      <td>PAGS</td>\n",
       "      <td>UNITED STATES</td>\n",
       "      <td>9</td>\n",
       "      <td>GUSTAVUS AP</td>\n",
       "    </tr>\n",
       "    <tr>\n",
       "      <th>16</th>\n",
       "      <td>10000158</td>\n",
       "      <td>25322</td>\n",
       "      <td>70367</td>\n",
       "      <td>GST</td>\n",
       "      <td>GST</td>\n",
       "      <td>PAGS</td>\n",
       "      <td>UNITED STATES</td>\n",
       "      <td>9</td>\n",
       "      <td>GUSTAVUS AP</td>\n",
       "    </tr>\n",
       "    <tr>\n",
       "      <th>19</th>\n",
       "      <td>10000202</td>\n",
       "      <td>25325</td>\n",
       "      <td>70395</td>\n",
       "      <td>KTN</td>\n",
       "      <td>KTN</td>\n",
       "      <td>PAKT</td>\n",
       "      <td>UNITED STATES</td>\n",
       "      <td>9</td>\n",
       "      <td>KETCHIKAN INTL AP</td>\n",
       "    </tr>\n",
       "    <tr>\n",
       "      <th>...</th>\n",
       "      <td>...</td>\n",
       "      <td>...</td>\n",
       "      <td>...</td>\n",
       "      <td>...</td>\n",
       "      <td>...</td>\n",
       "      <td>...</td>\n",
       "      <td>...</td>\n",
       "      <td>...</td>\n",
       "      <td>...</td>\n",
       "    </tr>\n",
       "    <tr>\n",
       "      <th>168723</th>\n",
       "      <td>30000752</td>\n",
       "      <td>53868</td>\n",
       "      <td>72427</td>\n",
       "      <td>OQT</td>\n",
       "      <td>OQT</td>\n",
       "      <td>KOQT</td>\n",
       "      <td>UNITED STATES</td>\n",
       "      <td>5</td>\n",
       "      <td>OAK RIDGE ASOS</td>\n",
       "    </tr>\n",
       "    <tr>\n",
       "      <th>171069</th>\n",
       "      <td>30001692</td>\n",
       "      <td>93874</td>\n",
       "      <td>74757</td>\n",
       "      <td>GPT</td>\n",
       "      <td>GPT</td>\n",
       "      <td>KGPT</td>\n",
       "      <td>UNITED STATES</td>\n",
       "      <td>6</td>\n",
       "      <td>GULFPORT - BILOXI AP</td>\n",
       "    </tr>\n",
       "    <tr>\n",
       "      <th>171070</th>\n",
       "      <td>30001692</td>\n",
       "      <td>93874</td>\n",
       "      <td>74757</td>\n",
       "      <td>GPT</td>\n",
       "      <td>GPT</td>\n",
       "      <td>KGPT</td>\n",
       "      <td>UNITED STATES</td>\n",
       "      <td>6</td>\n",
       "      <td>GULFPORT - BILOXI AP</td>\n",
       "    </tr>\n",
       "    <tr>\n",
       "      <th>175241</th>\n",
       "      <td>30015538</td>\n",
       "      <td>26512</td>\n",
       "      <td>70246</td>\n",
       "      <td>MHM</td>\n",
       "      <td>MHM</td>\n",
       "      <td>PAMH</td>\n",
       "      <td>UNITED STATES</td>\n",
       "      <td>9</td>\n",
       "      <td>MINCHUMINA AP</td>\n",
       "    </tr>\n",
       "    <tr>\n",
       "      <th>175242</th>\n",
       "      <td>30015538</td>\n",
       "      <td>26512</td>\n",
       "      <td>70246</td>\n",
       "      <td>MHM</td>\n",
       "      <td>MHM</td>\n",
       "      <td>PAMH</td>\n",
       "      <td>UNITED STATES</td>\n",
       "      <td>9</td>\n",
       "      <td>MINCHUMINA AP</td>\n",
       "    </tr>\n",
       "  </tbody>\n",
       "</table>\n",
       "<p>3174 rows × 9 columns</p>\n",
       "</div>"
      ],
      "text/plain": [
       "         HOMR_ID   WBAN    WMO FAA_LOC_ID NWS_LOC_ID ICAO_ID        COUNTRY  \\\n",
       "13      10000158  25322  70367        GST        GST    PAGS  UNITED STATES   \n",
       "14      10000158  25322  70367        GST        GST    PAGS  UNITED STATES   \n",
       "15      10000158  25322  70367        GST        GST    PAGS  UNITED STATES   \n",
       "16      10000158  25322  70367        GST        GST    PAGS  UNITED STATES   \n",
       "19      10000202  25325  70395        KTN        KTN    PAKT  UNITED STATES   \n",
       "...          ...    ...    ...        ...        ...     ...            ...   \n",
       "168723  30000752  53868  72427        OQT        OQT    KOQT  UNITED STATES   \n",
       "171069  30001692  93874  74757        GPT        GPT    KGPT  UNITED STATES   \n",
       "171070  30001692  93874  74757        GPT        GPT    KGPT  UNITED STATES   \n",
       "175241  30015538  26512  70246        MHM        MHM    PAMH  UNITED STATES   \n",
       "175242  30015538  26512  70246        MHM        MHM    PAMH  UNITED STATES   \n",
       "\n",
       "        TIME_ZONE        HIST_WBAN_NAME  \n",
       "13              9           GUSTAVUS AP  \n",
       "14              9           GUSTAVUS AP  \n",
       "15              9           GUSTAVUS AP  \n",
       "16              9           GUSTAVUS AP  \n",
       "19              9     KETCHIKAN INTL AP  \n",
       "...           ...                   ...  \n",
       "168723          5        OAK RIDGE ASOS  \n",
       "171069          6  GULFPORT - BILOXI AP  \n",
       "171070          6  GULFPORT - BILOXI AP  \n",
       "175241          9         MINCHUMINA AP  \n",
       "175242          9         MINCHUMINA AP  \n",
       "\n",
       "[3174 rows x 9 columns]"
      ]
     },
     "execution_count": 19,
     "metadata": {},
     "output_type": "execute_result"
    }
   ],
   "source": [
    "WBAN['ICAO_ID'] = WBAN['ICAO_ID'].str[-4:]\n",
    "WBAN"
   ]
  },
  {
   "cell_type": "code",
   "execution_count": 20,
   "metadata": {
    "ExecuteTime": {
     "end_time": "2021-02-09T21:12:14.315619Z",
     "start_time": "2021-02-09T21:12:14.274646Z"
    }
   },
   "outputs": [
    {
     "name": "stdout",
     "output_type": "stream",
     "text": [
      "405\n"
     ]
    },
    {
     "data": {
      "text/plain": [
       "array(['PAGS', 'PAKT', 'PAGY', 'PAWG', 'KEET', 'KIGM', 'KAVX', 'KFAT',\n",
       "       'KRBL', 'KRDD', 'KSAN', 'KSFO', 'KGJT', 'KLIC', 'KILG', 'KAAF',\n",
       "       'KEYW', 'KPNS', 'KTLH', 'KVRB', 'KFFC', 'KSAV', 'KAYS', 'KLWS',\n",
       "       'KORD', 'KICT', 'KSDF', 'KNHZ', 'KLAN', 'KMQT', 'KMKG', 'KSTJ',\n",
       "       'KSGF', 'KJAN', 'KHKY', 'KFAR', 'KISN', 'KELY', 'KDSV', 'KSYR',\n",
       "       'KILN', 'KOKC', 'KPHL', 'KDAL', 'TISX', 'KBTV', 'KEPH', 'KHTS',\n",
       "       'KLND', 'KDEN', 'KPKF', 'KEKA', 'KMOB', 'KMGM', 'KBHM', 'KHSV',\n",
       "       'KLZK', 'KFSM', 'KHRO', 'KDUG', 'KFHU', 'KTUS', 'KYUM', 'KPHX',\n",
       "       'KINW', 'KNJK', 'KNSI', 'KLGB', 'KLAX', 'KNTD', 'KMWS', 'KSBA',\n",
       "       'KSDB', 'KSMX', 'KBFL', 'KNID', 'KNLC', 'KSNS', 'KBIH', 'KNUQ',\n",
       "       'KHWD', 'KOAK', 'KSCK', 'KCCR', 'KSUU', 'KSAC', 'KTRK', 'KALS',\n",
       "       'KPUB', 'KFCS', 'KCOS', 'KCAG', 'KBDR', 'KBDL', 'KMIA', 'KFLL',\n",
       "       'KPBI', 'KTPA', 'KMCO', 'KDAB', 'KGNV', 'KCRG', 'KVPS', 'KJAX',\n",
       "       'KAMG', 'KMCN', 'KAGS', 'KATL', 'KAHN', 'KPIH', 'KBOI', 'KSLO',\n",
       "       'KSPI', 'KUIN', 'KPIA', 'KMLI', 'KMDW', 'KRFD', 'KEVV', 'KIND',\n",
       "       'KFWA', 'KSBN', 'KBRL', 'KDSM', 'KCID', 'KDBQ', 'KSUX', 'KALO',\n",
       "       'KP28', 'KDDC', 'KTOP', 'KGLD', 'KCNK', 'KPAH', 'KJKL', 'KFTK',\n",
       "       'KLEX', 'KCVG', 'KMSY', 'KLCH', 'KBTR', 'KSHV', 'KCEF', 'KORH',\n",
       "       'KBOS', 'KNHK', 'KSBY', 'KBWI', 'KPWM', 'KBGR', 'KEPO', 'KPQI',\n",
       "       'KCAR', 'KDTW', 'KGRR', 'KFNT', 'KHTL', 'KAPN', 'KESC', 'KANJ',\n",
       "       'KCMX', 'KRST', 'KMSP', 'KSTC', 'KDLH', 'KBJI', 'KINL', 'KHBG',\n",
       "       'KMEI', 'KGLH', 'KGWO', 'KTUP', 'KUMN', 'KCGI', 'KVIH', 'KSTL',\n",
       "       'KCOU', 'KMCI', 'KDLN', 'KBIL', 'KBTM', 'KMLS', 'KHLN', 'KMSO',\n",
       "       'KGTF', 'KGGW', 'KFCA', 'KGPI', 'KHVR', 'KCTB', 'KLNK', 'KGRI',\n",
       "       'KLBF', 'KSNY', 'KOMA', 'KBFF', 'KOFK', 'KVTN', 'KILM', 'KNKT',\n",
       "       'KPOB', 'KCLT', 'KHSE', 'KAVL', 'KRDU', 'KGSO', 'KECG', 'KBIS',\n",
       "       'KDIK', 'KGFK', 'KTUL', 'KGAG', 'KPNC', 'KFFO', 'KDAY', 'KCMH',\n",
       "       'KMFD', 'KCAK', 'KYNG', 'KCLE', 'KTOL', 'KMFR', 'KBNO', 'KEUG',\n",
       "       'KRDM', 'KSLE', 'KPDX', 'KPDT', 'KAST', 'KMDT', 'KPIT', 'KABE',\n",
       "       'KIPT', 'KAVP', 'KERI', 'KPVD', 'KCHS', 'KCAE', 'KAND', 'KGSP',\n",
       "       'KFSD', 'KRAP', 'KHON', 'KPIR', 'KABR', 'KCHA', 'KMEM', 'KTYS',\n",
       "       'KCSV', 'KBNA', 'KTRI', 'KCKV', 'KCON', 'KMWN', 'KACY', 'KEWR',\n",
       "       'KLAS', 'KINS', 'KP68', 'KRNO', 'KWMC', 'KDRA', 'KJFK', 'KISP',\n",
       "       'KLGA', 'KNYC', 'KBGM', 'KALB', 'KBUF', 'KROC', 'KGFL', 'KROW',\n",
       "       'KABQ', 'KCAO', 'KMKE', 'KMSN', 'KLSE', 'KGRB', 'KBKW', 'KCRW',\n",
       "       'KEKN', 'PADK', 'PASY', 'PANT', 'PACD', 'PAPG', 'PAPH', 'PASI',\n",
       "       'PASN', 'PAGN', 'PADQ', 'PAJN', 'PAKN', 'PADL', 'PAMD', 'PAYA',\n",
       "       'PAHO', 'PAIL', 'PACY', 'PAWD', 'PAMY', 'PACV', 'PAEN', 'PABE',\n",
       "       'PAVD', 'PANC', 'PAED', 'PANI', 'PAAQ', 'PAPT', 'PAGK', 'PATK',\n",
       "       'PAFW', 'PAOR', 'PAMC', 'PAST', 'PAMH', 'PAUN', 'PABI', 'PAOM',\n",
       "       'PAGA', 'PAFA', 'PAML', 'PATA', 'PAPC', 'PATC', 'KWAA', 'PAOT',\n",
       "       'PABT', 'PAUM', 'PABA', 'PABR', 'PAVW', 'KCYS', 'KRWL', 'KCPR',\n",
       "       'KSHR', 'PHTO', 'PHOG', 'PHMK', 'PHNL', 'PHNG', 'PHHI', 'PHLI',\n",
       "       'PHBK', 'TJSJ', 'KBRO', 'KCRP', 'KVCT', 'KGLS', 'KDRT', 'KSAT',\n",
       "       'KHOU', 'KBPT', 'KIAH', 'KBSM', 'KAUS', 'KATT', 'KMRF', 'KCLL',\n",
       "       'KSJT', 'KACT', 'KELP', 'KMAF', 'KSEP', 'KABI', 'KFTW', 'KLBB',\n",
       "       'KSPS', 'KCDS', 'KAMA', 'KDHT', 'KDFW', 'KENV', 'KSLC', 'KDDH',\n",
       "       'KORF', 'KLFI', 'KLYH', 'KROA', 'KRIC', 'KWAL', 'KDCA', 'KIAD',\n",
       "       'KYKM', 'KOLM', 'KSEA', 'KGEG', 'KDEW', 'KUIL', 'KNOW', 'RJTX',\n",
       "       'PTSA', 'PKMJ', 'PTKK', 'PKWA', 'PTYA', 'PGUM', 'NSTU', 'PGSN',\n",
       "       'PGRO', 'KASD', 'KAPX', 'KOQT', 'KGPT'], dtype=object)"
      ]
     },
     "execution_count": 20,
     "metadata": {},
     "output_type": "execute_result"
    }
   ],
   "source": [
    "WBAN_ICAOs = WBAN['ICAO_ID'].unique()\n",
    "print(WBAN['ICAO_ID'].nunique())\n",
    "WBAN_ICAOs"
   ]
  },
  {
   "cell_type": "code",
   "execution_count": 21,
   "metadata": {
    "ExecuteTime": {
     "end_time": "2021-02-09T21:12:14.346601Z",
     "start_time": "2021-02-09T21:12:14.318617Z"
    }
   },
   "outputs": [
    {
     "name": "stdout",
     "output_type": "stream",
     "text": [
      "405\n"
     ]
    },
    {
     "data": {
      "text/plain": [
       "array(['GST', 'KTN', 'SGY', 'WRG', 'EET', 'IGM', 'AVX', 'FAT', 'RBL',\n",
       "       'RDD', 'SAN', 'SFO', 'GJT', 'LIC', 'ILG', 'AAF', 'EYW', 'PNS',\n",
       "       'TLH', 'VRB', 'FFC', 'SAV', 'AYS', 'LWS', 'ORD', 'ICT', 'SDF',\n",
       "       'NHZ', 'LAN', 'MQT', 'MKG', 'STJ', 'SGF', 'JAN', 'HKY', 'FAR',\n",
       "       'ISN', 'ELY', 'DSV', 'SYR', 'ILN', 'OKC', 'PHL', 'DAL', 'STX',\n",
       "       'BTV', 'EPH', 'HTS', 'LND', 'DEN', 'PKF', 'EKA', 'MOB', 'MGM',\n",
       "       'BHM', 'HSV', 'LZK', 'FSM', 'HRO', 'DUG', 'FHU', 'TUS', 'YUM',\n",
       "       'PHX', 'INW', 'NJK', 'NSI', 'LGB', 'LAX', 'NTD', 'MWS', 'SBA',\n",
       "       'SDB', 'SMX', 'BFL', 'NID', 'NLC', 'SNS', 'BIH', 'NUQ', 'HWD',\n",
       "       'OAK', 'SCK', 'CCR', 'SUU', 'SAC', 'TRK', 'ALS', 'PUB', 'FCS',\n",
       "       'COS', 'CAG', 'BDR', 'BDL', 'MIA', 'FLL', 'PBI', 'TPA', 'MCO',\n",
       "       'DAB', 'GNV', 'CRG', 'VPS', 'JAX', 'AMG', 'MCN', 'AGS', 'ATL',\n",
       "       'AHN', 'PIH', 'BOI', 'SLO', 'SPI', 'UIN', 'PIA', 'MLI', 'MDW',\n",
       "       'RFD', 'EVV', 'IND', 'FWA', 'SBN', 'BRL', 'DSM', 'CID', 'DBQ',\n",
       "       'SUX', 'ALO', 'P28', 'DDC', 'TOP', 'GLD', 'CNK', 'PAH', 'JKL',\n",
       "       'FTK', 'LEX', 'CVG', 'MSY', 'LCH', 'BTR', 'SHV', 'CEF', 'ORH',\n",
       "       'BOS', 'NHK', 'SBY', 'BWI', 'PWM', 'BGR', 'EPO', 'PQI', 'CAR',\n",
       "       'DTW', 'GRR', 'FNT', 'HTL', 'APN', 'ESC', 'ANJ', 'CMX', 'RST',\n",
       "       'MSP', 'STC', 'DLH', 'BJI', 'INL', 'HBG', 'MEI', 'GLH', 'GWO',\n",
       "       'TUP', 'UMN', 'CGI', 'VIH', 'STL', 'COU', 'MCI', 'DLN', 'BIL',\n",
       "       'BTM', 'MLS', 'HLN', 'MSO', 'GTF', 'GGW', 'FCA', 'GPI', 'HVR',\n",
       "       'CTB', 'LNK', 'GRI', 'LBF', 'SNY', 'OMA', 'BFF', 'OFK', 'VTN',\n",
       "       'ILM', 'NKT', 'POB', 'CLT', 'HSE', 'AVL', 'RDU', 'GSO', 'ECG',\n",
       "       'BIS', 'DIK', 'GFK', 'TUL', 'GAG', 'PNC', 'FFO', 'DAY', 'CMH',\n",
       "       'MFD', 'CAK', 'YNG', 'CLE', 'TOL', 'MFR', 'BNO', 'EUG', 'RDM',\n",
       "       'SLE', 'PDX', 'PDT', 'AST', 'MDT', 'PIT', 'ABE', 'IPT', 'AVP',\n",
       "       'ERI', 'PVD', 'CHS', 'CAE', 'AND', 'GSP', 'FSD', 'RAP', 'HON',\n",
       "       'PIR', 'ABR', 'CHA', 'MEM', 'TYS', 'CSV', 'BNA', 'TRI', 'CKV',\n",
       "       'CON', 'MWN', 'ACY', 'EWR', 'LAS', 'INS', 'P68', 'RNO', 'WMC',\n",
       "       'DRA', 'JFK', 'ISP', 'LGA', 'NYC', 'BGM', 'ALB', 'BUF', 'ROC',\n",
       "       'GFL', 'ROW', 'ABQ', 'CAO', 'MKE', 'MSN', 'LSE', 'GRB', 'BKW',\n",
       "       'CRW', 'EKN', 'ADK', 'SYA', 'ANN', 'CDB', 'PSG', 'PTH', 'SIT',\n",
       "       'SNP', 'AGN', 'ADQ', 'JNU', 'AKN', 'DLG', 'MDO', 'YAK', 'HOM',\n",
       "       'ILI', 'CYT', 'SWD', 'MYU', 'CDV', 'ENA', 'BET', 'VDZ', 'ANC',\n",
       "       'EDF', 'ANI', 'PAQ', 'PTI', 'GKN', 'TKA', 'FWL', 'ORT', 'MCG',\n",
       "       'UMM', 'MHM', 'UNK', 'BIG', 'OME', 'GAL', 'FAI', 'MLY', 'TAL',\n",
       "       'KPC', 'TNC', 'WAA', 'OTZ', 'BTT', 'UMT', 'BTI', 'BRW', 'VWS',\n",
       "       'CYS', 'RWL', 'CPR', 'SHR', 'ITO', 'OGG', 'MKK', 'HNL', 'NGF',\n",
       "       'HHI', 'LIH', 'BKH', 'SJU', 'BRO', 'CRP', 'VCT', 'GLS', 'DRT',\n",
       "       'SAT', 'HOU', 'BPT', 'IAH', 'BSM', 'AUS', 'ATT', 'MRF', 'CLL',\n",
       "       'SJT', 'ACT', 'ELP', 'MAF', 'SEP', 'ABI', 'FTW', 'LBB', 'SPS',\n",
       "       'CDS', 'AMA', 'DHT', 'DFW', 'ENV', 'SLC', 'DDH', 'ORF', 'LFI',\n",
       "       'LYH', 'ROA', 'RIC', 'WAL', 'DCA', 'IAD', 'YKM', 'OLM', 'SEA',\n",
       "       'GEG', 'DEW', 'UIL', 'NOW', 'RJTX', 'TTK', 'MAJ', 'TKK', 'KWA',\n",
       "       'T11', 'GUM', 'PPG', 'GSN', 'GRO', 'ASD', 'APX', 'OQT', 'GPT'],\n",
       "      dtype=object)"
      ]
     },
     "execution_count": 21,
     "metadata": {},
     "output_type": "execute_result"
    }
   ],
   "source": [
    "WBAN_IATAs = WBAN['FAA_LOC_ID'].unique()\n",
    "print(WBAN['FAA_LOC_ID'].nunique())\n",
    "WBAN_IATAs"
   ]
  },
  {
   "cell_type": "code",
   "execution_count": 22,
   "metadata": {
    "ExecuteTime": {
     "end_time": "2021-02-09T21:12:14.378585Z",
     "start_time": "2021-02-09T21:12:14.363593Z"
    }
   },
   "outputs": [
    {
     "name": "stdout",
     "output_type": "stream",
     "text": [
      "0\n"
     ]
    },
    {
     "data": {
      "text/plain": [
       "[]"
      ]
     },
     "execution_count": 22,
     "metadata": {},
     "output_type": "execute_result"
    }
   ],
   "source": [
    "disjointed_IATAs = []\n",
    "for IATA in disjointed_IATAs:\n",
    "    if IATA not in OTP_IATAs:\n",
    "        disjointed_IATAs.append(IATA)\n",
    "print(len(disjointed_IATAs))\n",
    "disjointed_IATAs"
   ]
  },
  {
   "cell_type": "markdown",
   "metadata": {},
   "source": [
    "**With this quick check, we have ensured that every airport appearing in the OTP dataset is also present in the WBAN database. In other words, we now know that each airport has its corresponding meteorological station.**"
   ]
  },
  {
   "cell_type": "code",
   "execution_count": 23,
   "metadata": {
    "ExecuteTime": {
     "end_time": "2021-02-09T21:12:14.441541Z",
     "start_time": "2021-02-09T21:12:14.387576Z"
    }
   },
   "outputs": [],
   "source": [
    "output_csv_path = os.path.join(root,\n",
    "                               \"Output_Data\",\n",
    "                               \"NOAA\",\n",
    "                               \"MASTER-STN-HIST_postprocessed.csv\")\n",
    "\n",
    "WBAN.to_csv(path_or_buf=output_csv_path,\n",
    "            index=False,\n",
    "            sep='^',\n",
    "            encoding='latin1')"
   ]
  },
  {
   "cell_type": "markdown",
   "metadata": {},
   "source": [
    "___"
   ]
  },
  {
   "cell_type": "markdown",
   "metadata": {},
   "source": [
    "### Local Climatological Data (LCD) > 2019 Master file\n",
    "\n",
    "Source: https://www.ncei.noaa.gov/data/local-climatological-data/access/2019/"
   ]
  },
  {
   "cell_type": "code",
   "execution_count": 24,
   "metadata": {
    "ExecuteTime": {
     "end_time": "2021-02-09T21:13:40.448286Z",
     "start_time": "2021-02-09T21:12:14.446539Z"
    }
   },
   "outputs": [
    {
     "ename": "URLError",
     "evalue": "<urlopen error [WinError 10060] Se produjo un error durante el intento de conexión ya que la parte conectada no respondió adecuadamente tras un periodo de tiempo, o bien se produjo un error en la conexión establecida ya que el host conectado no ha podido responder>",
     "output_type": "error",
     "traceback": [
      "\u001b[1;31m---------------------------------------------------------------------------\u001b[0m",
      "\u001b[1;31mTimeoutError\u001b[0m                              Traceback (most recent call last)",
      "\u001b[1;32mC:\\ProgramData\\Anaconda3\\lib\\urllib\\request.py\u001b[0m in \u001b[0;36mdo_open\u001b[1;34m(self, http_class, req, **http_conn_args)\u001b[0m\n\u001b[0;32m   1349\u001b[0m             \u001b[1;32mtry\u001b[0m\u001b[1;33m:\u001b[0m\u001b[1;33m\u001b[0m\u001b[1;33m\u001b[0m\u001b[0m\n\u001b[1;32m-> 1350\u001b[1;33m                 h.request(req.get_method(), req.selector, req.data, headers,\n\u001b[0m\u001b[0;32m   1351\u001b[0m                           encode_chunked=req.has_header('Transfer-encoding'))\n",
      "\u001b[1;32mC:\\ProgramData\\Anaconda3\\lib\\http\\client.py\u001b[0m in \u001b[0;36mrequest\u001b[1;34m(self, method, url, body, headers, encode_chunked)\u001b[0m\n\u001b[0;32m   1254\u001b[0m         \u001b[1;34m\"\"\"Send a complete request to the server.\"\"\"\u001b[0m\u001b[1;33m\u001b[0m\u001b[1;33m\u001b[0m\u001b[0m\n\u001b[1;32m-> 1255\u001b[1;33m         \u001b[0mself\u001b[0m\u001b[1;33m.\u001b[0m\u001b[0m_send_request\u001b[0m\u001b[1;33m(\u001b[0m\u001b[0mmethod\u001b[0m\u001b[1;33m,\u001b[0m \u001b[0murl\u001b[0m\u001b[1;33m,\u001b[0m \u001b[0mbody\u001b[0m\u001b[1;33m,\u001b[0m \u001b[0mheaders\u001b[0m\u001b[1;33m,\u001b[0m \u001b[0mencode_chunked\u001b[0m\u001b[1;33m)\u001b[0m\u001b[1;33m\u001b[0m\u001b[1;33m\u001b[0m\u001b[0m\n\u001b[0m\u001b[0;32m   1256\u001b[0m \u001b[1;33m\u001b[0m\u001b[0m\n",
      "\u001b[1;32mC:\\ProgramData\\Anaconda3\\lib\\http\\client.py\u001b[0m in \u001b[0;36m_send_request\u001b[1;34m(self, method, url, body, headers, encode_chunked)\u001b[0m\n\u001b[0;32m   1300\u001b[0m             \u001b[0mbody\u001b[0m \u001b[1;33m=\u001b[0m \u001b[0m_encode\u001b[0m\u001b[1;33m(\u001b[0m\u001b[0mbody\u001b[0m\u001b[1;33m,\u001b[0m \u001b[1;34m'body'\u001b[0m\u001b[1;33m)\u001b[0m\u001b[1;33m\u001b[0m\u001b[1;33m\u001b[0m\u001b[0m\n\u001b[1;32m-> 1301\u001b[1;33m         \u001b[0mself\u001b[0m\u001b[1;33m.\u001b[0m\u001b[0mendheaders\u001b[0m\u001b[1;33m(\u001b[0m\u001b[0mbody\u001b[0m\u001b[1;33m,\u001b[0m \u001b[0mencode_chunked\u001b[0m\u001b[1;33m=\u001b[0m\u001b[0mencode_chunked\u001b[0m\u001b[1;33m)\u001b[0m\u001b[1;33m\u001b[0m\u001b[1;33m\u001b[0m\u001b[0m\n\u001b[0m\u001b[0;32m   1302\u001b[0m \u001b[1;33m\u001b[0m\u001b[0m\n",
      "\u001b[1;32mC:\\ProgramData\\Anaconda3\\lib\\http\\client.py\u001b[0m in \u001b[0;36mendheaders\u001b[1;34m(self, message_body, encode_chunked)\u001b[0m\n\u001b[0;32m   1249\u001b[0m             \u001b[1;32mraise\u001b[0m \u001b[0mCannotSendHeader\u001b[0m\u001b[1;33m(\u001b[0m\u001b[1;33m)\u001b[0m\u001b[1;33m\u001b[0m\u001b[1;33m\u001b[0m\u001b[0m\n\u001b[1;32m-> 1250\u001b[1;33m         \u001b[0mself\u001b[0m\u001b[1;33m.\u001b[0m\u001b[0m_send_output\u001b[0m\u001b[1;33m(\u001b[0m\u001b[0mmessage_body\u001b[0m\u001b[1;33m,\u001b[0m \u001b[0mencode_chunked\u001b[0m\u001b[1;33m=\u001b[0m\u001b[0mencode_chunked\u001b[0m\u001b[1;33m)\u001b[0m\u001b[1;33m\u001b[0m\u001b[1;33m\u001b[0m\u001b[0m\n\u001b[0m\u001b[0;32m   1251\u001b[0m \u001b[1;33m\u001b[0m\u001b[0m\n",
      "\u001b[1;32mC:\\ProgramData\\Anaconda3\\lib\\http\\client.py\u001b[0m in \u001b[0;36m_send_output\u001b[1;34m(self, message_body, encode_chunked)\u001b[0m\n\u001b[0;32m   1009\u001b[0m         \u001b[1;32mdel\u001b[0m \u001b[0mself\u001b[0m\u001b[1;33m.\u001b[0m\u001b[0m_buffer\u001b[0m\u001b[1;33m[\u001b[0m\u001b[1;33m:\u001b[0m\u001b[1;33m]\u001b[0m\u001b[1;33m\u001b[0m\u001b[1;33m\u001b[0m\u001b[0m\n\u001b[1;32m-> 1010\u001b[1;33m         \u001b[0mself\u001b[0m\u001b[1;33m.\u001b[0m\u001b[0msend\u001b[0m\u001b[1;33m(\u001b[0m\u001b[0mmsg\u001b[0m\u001b[1;33m)\u001b[0m\u001b[1;33m\u001b[0m\u001b[1;33m\u001b[0m\u001b[0m\n\u001b[0m\u001b[0;32m   1011\u001b[0m \u001b[1;33m\u001b[0m\u001b[0m\n",
      "\u001b[1;32mC:\\ProgramData\\Anaconda3\\lib\\http\\client.py\u001b[0m in \u001b[0;36msend\u001b[1;34m(self, data)\u001b[0m\n\u001b[0;32m    949\u001b[0m             \u001b[1;32mif\u001b[0m \u001b[0mself\u001b[0m\u001b[1;33m.\u001b[0m\u001b[0mauto_open\u001b[0m\u001b[1;33m:\u001b[0m\u001b[1;33m\u001b[0m\u001b[1;33m\u001b[0m\u001b[0m\n\u001b[1;32m--> 950\u001b[1;33m                 \u001b[0mself\u001b[0m\u001b[1;33m.\u001b[0m\u001b[0mconnect\u001b[0m\u001b[1;33m(\u001b[0m\u001b[1;33m)\u001b[0m\u001b[1;33m\u001b[0m\u001b[1;33m\u001b[0m\u001b[0m\n\u001b[0m\u001b[0;32m    951\u001b[0m             \u001b[1;32melse\u001b[0m\u001b[1;33m:\u001b[0m\u001b[1;33m\u001b[0m\u001b[1;33m\u001b[0m\u001b[0m\n",
      "\u001b[1;32mC:\\ProgramData\\Anaconda3\\lib\\http\\client.py\u001b[0m in \u001b[0;36mconnect\u001b[1;34m(self)\u001b[0m\n\u001b[0;32m   1416\u001b[0m \u001b[1;33m\u001b[0m\u001b[0m\n\u001b[1;32m-> 1417\u001b[1;33m             \u001b[0msuper\u001b[0m\u001b[1;33m(\u001b[0m\u001b[1;33m)\u001b[0m\u001b[1;33m.\u001b[0m\u001b[0mconnect\u001b[0m\u001b[1;33m(\u001b[0m\u001b[1;33m)\u001b[0m\u001b[1;33m\u001b[0m\u001b[1;33m\u001b[0m\u001b[0m\n\u001b[0m\u001b[0;32m   1418\u001b[0m \u001b[1;33m\u001b[0m\u001b[0m\n",
      "\u001b[1;32mC:\\ProgramData\\Anaconda3\\lib\\http\\client.py\u001b[0m in \u001b[0;36mconnect\u001b[1;34m(self)\u001b[0m\n\u001b[0;32m    920\u001b[0m         \u001b[1;34m\"\"\"Connect to the host and port specified in __init__.\"\"\"\u001b[0m\u001b[1;33m\u001b[0m\u001b[1;33m\u001b[0m\u001b[0m\n\u001b[1;32m--> 921\u001b[1;33m         self.sock = self._create_connection(\n\u001b[0m\u001b[0;32m    922\u001b[0m             (self.host,self.port), self.timeout, self.source_address)\n",
      "\u001b[1;32mC:\\ProgramData\\Anaconda3\\lib\\socket.py\u001b[0m in \u001b[0;36mcreate_connection\u001b[1;34m(address, timeout, source_address)\u001b[0m\n\u001b[0;32m    807\u001b[0m         \u001b[1;32mtry\u001b[0m\u001b[1;33m:\u001b[0m\u001b[1;33m\u001b[0m\u001b[1;33m\u001b[0m\u001b[0m\n\u001b[1;32m--> 808\u001b[1;33m             \u001b[1;32mraise\u001b[0m \u001b[0merr\u001b[0m\u001b[1;33m\u001b[0m\u001b[1;33m\u001b[0m\u001b[0m\n\u001b[0m\u001b[0;32m    809\u001b[0m         \u001b[1;32mfinally\u001b[0m\u001b[1;33m:\u001b[0m\u001b[1;33m\u001b[0m\u001b[1;33m\u001b[0m\u001b[0m\n",
      "\u001b[1;32mC:\\ProgramData\\Anaconda3\\lib\\socket.py\u001b[0m in \u001b[0;36mcreate_connection\u001b[1;34m(address, timeout, source_address)\u001b[0m\n\u001b[0;32m    795\u001b[0m                 \u001b[0msock\u001b[0m\u001b[1;33m.\u001b[0m\u001b[0mbind\u001b[0m\u001b[1;33m(\u001b[0m\u001b[0msource_address\u001b[0m\u001b[1;33m)\u001b[0m\u001b[1;33m\u001b[0m\u001b[1;33m\u001b[0m\u001b[0m\n\u001b[1;32m--> 796\u001b[1;33m             \u001b[0msock\u001b[0m\u001b[1;33m.\u001b[0m\u001b[0mconnect\u001b[0m\u001b[1;33m(\u001b[0m\u001b[0msa\u001b[0m\u001b[1;33m)\u001b[0m\u001b[1;33m\u001b[0m\u001b[1;33m\u001b[0m\u001b[0m\n\u001b[0m\u001b[0;32m    797\u001b[0m             \u001b[1;31m# Break explicitly a reference cycle\u001b[0m\u001b[1;33m\u001b[0m\u001b[1;33m\u001b[0m\u001b[1;33m\u001b[0m\u001b[0m\n",
      "\u001b[1;31mTimeoutError\u001b[0m: [WinError 10060] Se produjo un error durante el intento de conexión ya que la parte conectada no respondió adecuadamente tras un periodo de tiempo, o bien se produjo un error en la conexión establecida ya que el host conectado no ha podido responder",
      "\nDuring handling of the above exception, another exception occurred:\n",
      "\u001b[1;31mURLError\u001b[0m                                  Traceback (most recent call last)",
      "\u001b[1;32m<ipython-input-24-078ec40fd29f>\u001b[0m in \u001b[0;36m<module>\u001b[1;34m\u001b[0m\n\u001b[1;32m----> 1\u001b[1;33m \u001b[0mLCD_tables\u001b[0m \u001b[1;33m=\u001b[0m \u001b[0mpd\u001b[0m\u001b[1;33m.\u001b[0m\u001b[0mread_html\u001b[0m\u001b[1;33m(\u001b[0m\u001b[1;34m'https://www.ncei.noaa.gov/data/local-climatological-data/access/2019/'\u001b[0m\u001b[1;33m)\u001b[0m\u001b[1;33m\u001b[0m\u001b[1;33m\u001b[0m\u001b[0m\n\u001b[0m",
      "\u001b[1;32mC:\\ProgramData\\Anaconda3\\lib\\site-packages\\pandas\\util\\_decorators.py\u001b[0m in \u001b[0;36mwrapper\u001b[1;34m(*args, **kwargs)\u001b[0m\n\u001b[0;32m    294\u001b[0m                 )\n\u001b[0;32m    295\u001b[0m                 \u001b[0mwarnings\u001b[0m\u001b[1;33m.\u001b[0m\u001b[0mwarn\u001b[0m\u001b[1;33m(\u001b[0m\u001b[0mmsg\u001b[0m\u001b[1;33m,\u001b[0m \u001b[0mFutureWarning\u001b[0m\u001b[1;33m,\u001b[0m \u001b[0mstacklevel\u001b[0m\u001b[1;33m=\u001b[0m\u001b[0mstacklevel\u001b[0m\u001b[1;33m)\u001b[0m\u001b[1;33m\u001b[0m\u001b[1;33m\u001b[0m\u001b[0m\n\u001b[1;32m--> 296\u001b[1;33m             \u001b[1;32mreturn\u001b[0m \u001b[0mfunc\u001b[0m\u001b[1;33m(\u001b[0m\u001b[1;33m*\u001b[0m\u001b[0margs\u001b[0m\u001b[1;33m,\u001b[0m \u001b[1;33m**\u001b[0m\u001b[0mkwargs\u001b[0m\u001b[1;33m)\u001b[0m\u001b[1;33m\u001b[0m\u001b[1;33m\u001b[0m\u001b[0m\n\u001b[0m\u001b[0;32m    297\u001b[0m \u001b[1;33m\u001b[0m\u001b[0m\n\u001b[0;32m    298\u001b[0m         \u001b[1;32mreturn\u001b[0m \u001b[0mwrapper\u001b[0m\u001b[1;33m\u001b[0m\u001b[1;33m\u001b[0m\u001b[0m\n",
      "\u001b[1;32mC:\\ProgramData\\Anaconda3\\lib\\site-packages\\pandas\\io\\html.py\u001b[0m in \u001b[0;36mread_html\u001b[1;34m(io, match, flavor, header, index_col, skiprows, attrs, parse_dates, thousands, encoding, decimal, converters, na_values, keep_default_na, displayed_only)\u001b[0m\n\u001b[0;32m   1084\u001b[0m         )\n\u001b[0;32m   1085\u001b[0m     \u001b[0mvalidate_header_arg\u001b[0m\u001b[1;33m(\u001b[0m\u001b[0mheader\u001b[0m\u001b[1;33m)\u001b[0m\u001b[1;33m\u001b[0m\u001b[1;33m\u001b[0m\u001b[0m\n\u001b[1;32m-> 1086\u001b[1;33m     return _parse(\n\u001b[0m\u001b[0;32m   1087\u001b[0m         \u001b[0mflavor\u001b[0m\u001b[1;33m=\u001b[0m\u001b[0mflavor\u001b[0m\u001b[1;33m,\u001b[0m\u001b[1;33m\u001b[0m\u001b[1;33m\u001b[0m\u001b[0m\n\u001b[0;32m   1088\u001b[0m         \u001b[0mio\u001b[0m\u001b[1;33m=\u001b[0m\u001b[0mio\u001b[0m\u001b[1;33m,\u001b[0m\u001b[1;33m\u001b[0m\u001b[1;33m\u001b[0m\u001b[0m\n",
      "\u001b[1;32mC:\\ProgramData\\Anaconda3\\lib\\site-packages\\pandas\\io\\html.py\u001b[0m in \u001b[0;36m_parse\u001b[1;34m(flavor, io, match, attrs, encoding, displayed_only, **kwargs)\u001b[0m\n\u001b[0;32m    896\u001b[0m \u001b[1;33m\u001b[0m\u001b[0m\n\u001b[0;32m    897\u001b[0m         \u001b[1;32mtry\u001b[0m\u001b[1;33m:\u001b[0m\u001b[1;33m\u001b[0m\u001b[1;33m\u001b[0m\u001b[0m\n\u001b[1;32m--> 898\u001b[1;33m             \u001b[0mtables\u001b[0m \u001b[1;33m=\u001b[0m \u001b[0mp\u001b[0m\u001b[1;33m.\u001b[0m\u001b[0mparse_tables\u001b[0m\u001b[1;33m(\u001b[0m\u001b[1;33m)\u001b[0m\u001b[1;33m\u001b[0m\u001b[1;33m\u001b[0m\u001b[0m\n\u001b[0m\u001b[0;32m    899\u001b[0m         \u001b[1;32mexcept\u001b[0m \u001b[0mValueError\u001b[0m \u001b[1;32mas\u001b[0m \u001b[0mcaught\u001b[0m\u001b[1;33m:\u001b[0m\u001b[1;33m\u001b[0m\u001b[1;33m\u001b[0m\u001b[0m\n\u001b[0;32m    900\u001b[0m             \u001b[1;31m# if `io` is an io-like object, check if it's seekable\u001b[0m\u001b[1;33m\u001b[0m\u001b[1;33m\u001b[0m\u001b[1;33m\u001b[0m\u001b[0m\n",
      "\u001b[1;32mC:\\ProgramData\\Anaconda3\\lib\\site-packages\\pandas\\io\\html.py\u001b[0m in \u001b[0;36mparse_tables\u001b[1;34m(self)\u001b[0m\n\u001b[0;32m    215\u001b[0m         \u001b[0mlist\u001b[0m \u001b[0mof\u001b[0m \u001b[0mparsed\u001b[0m \u001b[1;33m(\u001b[0m\u001b[0mheader\u001b[0m\u001b[1;33m,\u001b[0m \u001b[0mbody\u001b[0m\u001b[1;33m,\u001b[0m \u001b[0mfooter\u001b[0m\u001b[1;33m)\u001b[0m \u001b[0mtuples\u001b[0m \u001b[1;32mfrom\u001b[0m \u001b[0mtables\u001b[0m\u001b[1;33m.\u001b[0m\u001b[1;33m\u001b[0m\u001b[1;33m\u001b[0m\u001b[0m\n\u001b[0;32m    216\u001b[0m         \"\"\"\n\u001b[1;32m--> 217\u001b[1;33m         \u001b[0mtables\u001b[0m \u001b[1;33m=\u001b[0m \u001b[0mself\u001b[0m\u001b[1;33m.\u001b[0m\u001b[0m_parse_tables\u001b[0m\u001b[1;33m(\u001b[0m\u001b[0mself\u001b[0m\u001b[1;33m.\u001b[0m\u001b[0m_build_doc\u001b[0m\u001b[1;33m(\u001b[0m\u001b[1;33m)\u001b[0m\u001b[1;33m,\u001b[0m \u001b[0mself\u001b[0m\u001b[1;33m.\u001b[0m\u001b[0mmatch\u001b[0m\u001b[1;33m,\u001b[0m \u001b[0mself\u001b[0m\u001b[1;33m.\u001b[0m\u001b[0mattrs\u001b[0m\u001b[1;33m)\u001b[0m\u001b[1;33m\u001b[0m\u001b[1;33m\u001b[0m\u001b[0m\n\u001b[0m\u001b[0;32m    218\u001b[0m         \u001b[1;32mreturn\u001b[0m \u001b[1;33m(\u001b[0m\u001b[0mself\u001b[0m\u001b[1;33m.\u001b[0m\u001b[0m_parse_thead_tbody_tfoot\u001b[0m\u001b[1;33m(\u001b[0m\u001b[0mtable\u001b[0m\u001b[1;33m)\u001b[0m \u001b[1;32mfor\u001b[0m \u001b[0mtable\u001b[0m \u001b[1;32min\u001b[0m \u001b[0mtables\u001b[0m\u001b[1;33m)\u001b[0m\u001b[1;33m\u001b[0m\u001b[1;33m\u001b[0m\u001b[0m\n\u001b[0;32m    219\u001b[0m \u001b[1;33m\u001b[0m\u001b[0m\n",
      "\u001b[1;32mC:\\ProgramData\\Anaconda3\\lib\\site-packages\\pandas\\io\\html.py\u001b[0m in \u001b[0;36m_build_doc\u001b[1;34m(self)\u001b[0m\n\u001b[0;32m    734\u001b[0m                     \u001b[1;32mpass\u001b[0m\u001b[1;33m\u001b[0m\u001b[1;33m\u001b[0m\u001b[0m\n\u001b[0;32m    735\u001b[0m             \u001b[1;32melse\u001b[0m\u001b[1;33m:\u001b[0m\u001b[1;33m\u001b[0m\u001b[1;33m\u001b[0m\u001b[0m\n\u001b[1;32m--> 736\u001b[1;33m                 \u001b[1;32mraise\u001b[0m \u001b[0me\u001b[0m\u001b[1;33m\u001b[0m\u001b[1;33m\u001b[0m\u001b[0m\n\u001b[0m\u001b[0;32m    737\u001b[0m         \u001b[1;32melse\u001b[0m\u001b[1;33m:\u001b[0m\u001b[1;33m\u001b[0m\u001b[1;33m\u001b[0m\u001b[0m\n\u001b[0;32m    738\u001b[0m             \u001b[1;32mif\u001b[0m \u001b[1;32mnot\u001b[0m \u001b[0mhasattr\u001b[0m\u001b[1;33m(\u001b[0m\u001b[0mr\u001b[0m\u001b[1;33m,\u001b[0m \u001b[1;34m\"text_content\"\u001b[0m\u001b[1;33m)\u001b[0m\u001b[1;33m:\u001b[0m\u001b[1;33m\u001b[0m\u001b[1;33m\u001b[0m\u001b[0m\n",
      "\u001b[1;32mC:\\ProgramData\\Anaconda3\\lib\\site-packages\\pandas\\io\\html.py\u001b[0m in \u001b[0;36m_build_doc\u001b[1;34m(self)\u001b[0m\n\u001b[0;32m    715\u001b[0m         \u001b[1;32mtry\u001b[0m\u001b[1;33m:\u001b[0m\u001b[1;33m\u001b[0m\u001b[1;33m\u001b[0m\u001b[0m\n\u001b[0;32m    716\u001b[0m             \u001b[1;32mif\u001b[0m \u001b[0mis_url\u001b[0m\u001b[1;33m(\u001b[0m\u001b[0mself\u001b[0m\u001b[1;33m.\u001b[0m\u001b[0mio\u001b[0m\u001b[1;33m)\u001b[0m\u001b[1;33m:\u001b[0m\u001b[1;33m\u001b[0m\u001b[1;33m\u001b[0m\u001b[0m\n\u001b[1;32m--> 717\u001b[1;33m                 \u001b[1;32mwith\u001b[0m \u001b[0murlopen\u001b[0m\u001b[1;33m(\u001b[0m\u001b[0mself\u001b[0m\u001b[1;33m.\u001b[0m\u001b[0mio\u001b[0m\u001b[1;33m)\u001b[0m \u001b[1;32mas\u001b[0m \u001b[0mf\u001b[0m\u001b[1;33m:\u001b[0m\u001b[1;33m\u001b[0m\u001b[1;33m\u001b[0m\u001b[0m\n\u001b[0m\u001b[0;32m    718\u001b[0m                     \u001b[0mr\u001b[0m \u001b[1;33m=\u001b[0m \u001b[0mparse\u001b[0m\u001b[1;33m(\u001b[0m\u001b[0mf\u001b[0m\u001b[1;33m,\u001b[0m \u001b[0mparser\u001b[0m\u001b[1;33m=\u001b[0m\u001b[0mparser\u001b[0m\u001b[1;33m)\u001b[0m\u001b[1;33m\u001b[0m\u001b[1;33m\u001b[0m\u001b[0m\n\u001b[0;32m    719\u001b[0m             \u001b[1;32melse\u001b[0m\u001b[1;33m:\u001b[0m\u001b[1;33m\u001b[0m\u001b[1;33m\u001b[0m\u001b[0m\n",
      "\u001b[1;32mC:\\ProgramData\\Anaconda3\\lib\\site-packages\\pandas\\io\\common.py\u001b[0m in \u001b[0;36murlopen\u001b[1;34m(*args, **kwargs)\u001b[0m\n\u001b[0;32m    135\u001b[0m     \u001b[1;32mimport\u001b[0m \u001b[0murllib\u001b[0m\u001b[1;33m.\u001b[0m\u001b[0mrequest\u001b[0m\u001b[1;33m\u001b[0m\u001b[1;33m\u001b[0m\u001b[0m\n\u001b[0;32m    136\u001b[0m \u001b[1;33m\u001b[0m\u001b[0m\n\u001b[1;32m--> 137\u001b[1;33m     \u001b[1;32mreturn\u001b[0m \u001b[0murllib\u001b[0m\u001b[1;33m.\u001b[0m\u001b[0mrequest\u001b[0m\u001b[1;33m.\u001b[0m\u001b[0murlopen\u001b[0m\u001b[1;33m(\u001b[0m\u001b[1;33m*\u001b[0m\u001b[0margs\u001b[0m\u001b[1;33m,\u001b[0m \u001b[1;33m**\u001b[0m\u001b[0mkwargs\u001b[0m\u001b[1;33m)\u001b[0m\u001b[1;33m\u001b[0m\u001b[1;33m\u001b[0m\u001b[0m\n\u001b[0m\u001b[0;32m    138\u001b[0m \u001b[1;33m\u001b[0m\u001b[0m\n\u001b[0;32m    139\u001b[0m \u001b[1;33m\u001b[0m\u001b[0m\n",
      "\u001b[1;32mC:\\ProgramData\\Anaconda3\\lib\\urllib\\request.py\u001b[0m in \u001b[0;36murlopen\u001b[1;34m(url, data, timeout, cafile, capath, cadefault, context)\u001b[0m\n\u001b[0;32m    220\u001b[0m     \u001b[1;32melse\u001b[0m\u001b[1;33m:\u001b[0m\u001b[1;33m\u001b[0m\u001b[1;33m\u001b[0m\u001b[0m\n\u001b[0;32m    221\u001b[0m         \u001b[0mopener\u001b[0m \u001b[1;33m=\u001b[0m \u001b[0m_opener\u001b[0m\u001b[1;33m\u001b[0m\u001b[1;33m\u001b[0m\u001b[0m\n\u001b[1;32m--> 222\u001b[1;33m     \u001b[1;32mreturn\u001b[0m \u001b[0mopener\u001b[0m\u001b[1;33m.\u001b[0m\u001b[0mopen\u001b[0m\u001b[1;33m(\u001b[0m\u001b[0murl\u001b[0m\u001b[1;33m,\u001b[0m \u001b[0mdata\u001b[0m\u001b[1;33m,\u001b[0m \u001b[0mtimeout\u001b[0m\u001b[1;33m)\u001b[0m\u001b[1;33m\u001b[0m\u001b[1;33m\u001b[0m\u001b[0m\n\u001b[0m\u001b[0;32m    223\u001b[0m \u001b[1;33m\u001b[0m\u001b[0m\n\u001b[0;32m    224\u001b[0m \u001b[1;32mdef\u001b[0m \u001b[0minstall_opener\u001b[0m\u001b[1;33m(\u001b[0m\u001b[0mopener\u001b[0m\u001b[1;33m)\u001b[0m\u001b[1;33m:\u001b[0m\u001b[1;33m\u001b[0m\u001b[1;33m\u001b[0m\u001b[0m\n",
      "\u001b[1;32mC:\\ProgramData\\Anaconda3\\lib\\urllib\\request.py\u001b[0m in \u001b[0;36mopen\u001b[1;34m(self, fullurl, data, timeout)\u001b[0m\n\u001b[0;32m    523\u001b[0m \u001b[1;33m\u001b[0m\u001b[0m\n\u001b[0;32m    524\u001b[0m         \u001b[0msys\u001b[0m\u001b[1;33m.\u001b[0m\u001b[0maudit\u001b[0m\u001b[1;33m(\u001b[0m\u001b[1;34m'urllib.Request'\u001b[0m\u001b[1;33m,\u001b[0m \u001b[0mreq\u001b[0m\u001b[1;33m.\u001b[0m\u001b[0mfull_url\u001b[0m\u001b[1;33m,\u001b[0m \u001b[0mreq\u001b[0m\u001b[1;33m.\u001b[0m\u001b[0mdata\u001b[0m\u001b[1;33m,\u001b[0m \u001b[0mreq\u001b[0m\u001b[1;33m.\u001b[0m\u001b[0mheaders\u001b[0m\u001b[1;33m,\u001b[0m \u001b[0mreq\u001b[0m\u001b[1;33m.\u001b[0m\u001b[0mget_method\u001b[0m\u001b[1;33m(\u001b[0m\u001b[1;33m)\u001b[0m\u001b[1;33m)\u001b[0m\u001b[1;33m\u001b[0m\u001b[1;33m\u001b[0m\u001b[0m\n\u001b[1;32m--> 525\u001b[1;33m         \u001b[0mresponse\u001b[0m \u001b[1;33m=\u001b[0m \u001b[0mself\u001b[0m\u001b[1;33m.\u001b[0m\u001b[0m_open\u001b[0m\u001b[1;33m(\u001b[0m\u001b[0mreq\u001b[0m\u001b[1;33m,\u001b[0m \u001b[0mdata\u001b[0m\u001b[1;33m)\u001b[0m\u001b[1;33m\u001b[0m\u001b[1;33m\u001b[0m\u001b[0m\n\u001b[0m\u001b[0;32m    526\u001b[0m \u001b[1;33m\u001b[0m\u001b[0m\n\u001b[0;32m    527\u001b[0m         \u001b[1;31m# post-process response\u001b[0m\u001b[1;33m\u001b[0m\u001b[1;33m\u001b[0m\u001b[1;33m\u001b[0m\u001b[0m\n",
      "\u001b[1;32mC:\\ProgramData\\Anaconda3\\lib\\urllib\\request.py\u001b[0m in \u001b[0;36m_open\u001b[1;34m(self, req, data)\u001b[0m\n\u001b[0;32m    540\u001b[0m \u001b[1;33m\u001b[0m\u001b[0m\n\u001b[0;32m    541\u001b[0m         \u001b[0mprotocol\u001b[0m \u001b[1;33m=\u001b[0m \u001b[0mreq\u001b[0m\u001b[1;33m.\u001b[0m\u001b[0mtype\u001b[0m\u001b[1;33m\u001b[0m\u001b[1;33m\u001b[0m\u001b[0m\n\u001b[1;32m--> 542\u001b[1;33m         result = self._call_chain(self.handle_open, protocol, protocol +\n\u001b[0m\u001b[0;32m    543\u001b[0m                                   '_open', req)\n\u001b[0;32m    544\u001b[0m         \u001b[1;32mif\u001b[0m \u001b[0mresult\u001b[0m\u001b[1;33m:\u001b[0m\u001b[1;33m\u001b[0m\u001b[1;33m\u001b[0m\u001b[0m\n",
      "\u001b[1;32mC:\\ProgramData\\Anaconda3\\lib\\urllib\\request.py\u001b[0m in \u001b[0;36m_call_chain\u001b[1;34m(self, chain, kind, meth_name, *args)\u001b[0m\n\u001b[0;32m    500\u001b[0m         \u001b[1;32mfor\u001b[0m \u001b[0mhandler\u001b[0m \u001b[1;32min\u001b[0m \u001b[0mhandlers\u001b[0m\u001b[1;33m:\u001b[0m\u001b[1;33m\u001b[0m\u001b[1;33m\u001b[0m\u001b[0m\n\u001b[0;32m    501\u001b[0m             \u001b[0mfunc\u001b[0m \u001b[1;33m=\u001b[0m \u001b[0mgetattr\u001b[0m\u001b[1;33m(\u001b[0m\u001b[0mhandler\u001b[0m\u001b[1;33m,\u001b[0m \u001b[0mmeth_name\u001b[0m\u001b[1;33m)\u001b[0m\u001b[1;33m\u001b[0m\u001b[1;33m\u001b[0m\u001b[0m\n\u001b[1;32m--> 502\u001b[1;33m             \u001b[0mresult\u001b[0m \u001b[1;33m=\u001b[0m \u001b[0mfunc\u001b[0m\u001b[1;33m(\u001b[0m\u001b[1;33m*\u001b[0m\u001b[0margs\u001b[0m\u001b[1;33m)\u001b[0m\u001b[1;33m\u001b[0m\u001b[1;33m\u001b[0m\u001b[0m\n\u001b[0m\u001b[0;32m    503\u001b[0m             \u001b[1;32mif\u001b[0m \u001b[0mresult\u001b[0m \u001b[1;32mis\u001b[0m \u001b[1;32mnot\u001b[0m \u001b[1;32mNone\u001b[0m\u001b[1;33m:\u001b[0m\u001b[1;33m\u001b[0m\u001b[1;33m\u001b[0m\u001b[0m\n\u001b[0;32m    504\u001b[0m                 \u001b[1;32mreturn\u001b[0m \u001b[0mresult\u001b[0m\u001b[1;33m\u001b[0m\u001b[1;33m\u001b[0m\u001b[0m\n",
      "\u001b[1;32mC:\\ProgramData\\Anaconda3\\lib\\urllib\\request.py\u001b[0m in \u001b[0;36mhttps_open\u001b[1;34m(self, req)\u001b[0m\n\u001b[0;32m   1391\u001b[0m \u001b[1;33m\u001b[0m\u001b[0m\n\u001b[0;32m   1392\u001b[0m         \u001b[1;32mdef\u001b[0m \u001b[0mhttps_open\u001b[0m\u001b[1;33m(\u001b[0m\u001b[0mself\u001b[0m\u001b[1;33m,\u001b[0m \u001b[0mreq\u001b[0m\u001b[1;33m)\u001b[0m\u001b[1;33m:\u001b[0m\u001b[1;33m\u001b[0m\u001b[1;33m\u001b[0m\u001b[0m\n\u001b[1;32m-> 1393\u001b[1;33m             return self.do_open(http.client.HTTPSConnection, req,\n\u001b[0m\u001b[0;32m   1394\u001b[0m                 context=self._context, check_hostname=self._check_hostname)\n\u001b[0;32m   1395\u001b[0m \u001b[1;33m\u001b[0m\u001b[0m\n",
      "\u001b[1;32mC:\\ProgramData\\Anaconda3\\lib\\urllib\\request.py\u001b[0m in \u001b[0;36mdo_open\u001b[1;34m(self, http_class, req, **http_conn_args)\u001b[0m\n\u001b[0;32m   1351\u001b[0m                           encode_chunked=req.has_header('Transfer-encoding'))\n\u001b[0;32m   1352\u001b[0m             \u001b[1;32mexcept\u001b[0m \u001b[0mOSError\u001b[0m \u001b[1;32mas\u001b[0m \u001b[0merr\u001b[0m\u001b[1;33m:\u001b[0m \u001b[1;31m# timeout error\u001b[0m\u001b[1;33m\u001b[0m\u001b[1;33m\u001b[0m\u001b[0m\n\u001b[1;32m-> 1353\u001b[1;33m                 \u001b[1;32mraise\u001b[0m \u001b[0mURLError\u001b[0m\u001b[1;33m(\u001b[0m\u001b[0merr\u001b[0m\u001b[1;33m)\u001b[0m\u001b[1;33m\u001b[0m\u001b[1;33m\u001b[0m\u001b[0m\n\u001b[0m\u001b[0;32m   1354\u001b[0m             \u001b[0mr\u001b[0m \u001b[1;33m=\u001b[0m \u001b[0mh\u001b[0m\u001b[1;33m.\u001b[0m\u001b[0mgetresponse\u001b[0m\u001b[1;33m(\u001b[0m\u001b[1;33m)\u001b[0m\u001b[1;33m\u001b[0m\u001b[1;33m\u001b[0m\u001b[0m\n\u001b[0;32m   1355\u001b[0m         \u001b[1;32mexcept\u001b[0m\u001b[1;33m:\u001b[0m\u001b[1;33m\u001b[0m\u001b[1;33m\u001b[0m\u001b[0m\n",
      "\u001b[1;31mURLError\u001b[0m: <urlopen error [WinError 10060] Se produjo un error durante el intento de conexión ya que la parte conectada no respondió adecuadamente tras un periodo de tiempo, o bien se produjo un error en la conexión establecida ya que el host conectado no ha podido responder>"
     ]
    }
   ],
   "source": [
    "LCD_tables = pd.read_html('https://www.ncei.noaa.gov/data/local-climatological-data/access/2019/')"
   ]
  },
  {
   "cell_type": "code",
   "execution_count": null,
   "metadata": {
    "ExecuteTime": {
     "end_time": "2021-02-09T21:13:40.455279Z",
     "start_time": "2021-02-09T21:11:42.284Z"
    }
   },
   "outputs": [],
   "source": [
    "LCD = LCD_tables[0].loc[2:len(LCD_tables[0])-2,:]\n",
    "LCD"
   ]
  },
  {
   "cell_type": "markdown",
   "metadata": {},
   "source": [
    "#### Run only the first time to generate the global CLEAN file (year 2019)"
   ]
  },
  {
   "cell_type": "raw",
   "metadata": {},
   "source": [
    "%%time\n",
    "\n",
    "output_csv_path = os.path.join(root,\n",
    "                               \"Output_Data\",\n",
    "                               \"US_DoT\",\n",
    "                               \"AL_OTP_MVP_Preprocessed_19_v2_clean.csv\")\n",
    "\n",
    "df.to_csv(path_or_buf=output_csv_path,\n",
    "          index=False,\n",
    "          encoding='latin1')\n",
    "          \n",
    "# Wall time: 1min 2s"
   ]
  },
  {
   "cell_type": "code",
   "execution_count": null,
   "metadata": {
    "ExecuteTime": {
     "end_time": "2021-02-09T21:13:40.458277Z",
     "start_time": "2021-02-09T21:11:42.336Z"
    }
   },
   "outputs": [],
   "source": [
    "t1 = time.perf_counter() - t0\n",
    "print(\"Time elapsed: \", t1) # CPU seconds elapsed (floating point)"
   ]
  },
  {
   "cell_type": "raw",
   "metadata": {},
   "source": [
    "Time elapsed:  337.227193"
   ]
  },
  {
   "cell_type": "markdown",
   "metadata": {},
   "source": [
    "___"
   ]
  },
  {
   "cell_type": "markdown",
   "metadata": {},
   "source": [
    "___"
   ]
  }
 ],
 "metadata": {
  "hide_input": false,
  "kernelspec": {
   "display_name": "Python 3",
   "language": "python",
   "name": "python3"
  },
  "language_info": {
   "codemirror_mode": {
    "name": "ipython",
    "version": 3
   },
   "file_extension": ".py",
   "mimetype": "text/x-python",
   "name": "python",
   "nbconvert_exporter": "python",
   "pygments_lexer": "ipython3",
   "version": "3.8.5"
  },
  "toc": {
   "base_numbering": 1,
   "nav_menu": {},
   "number_sections": true,
   "sideBar": true,
   "skip_h1_title": false,
   "title_cell": "Table of Contents",
   "title_sidebar": "Contents",
   "toc_cell": false,
   "toc_position": {
    "height": "calc(100% - 180px)",
    "left": "10px",
    "top": "150px",
    "width": "384px"
   },
   "toc_section_display": true,
   "toc_window_display": true
  },
  "varInspector": {
   "cols": {
    "lenName": 16,
    "lenType": 16,
    "lenVar": 40
   },
   "kernels_config": {
    "python": {
     "delete_cmd_postfix": "",
     "delete_cmd_prefix": "del ",
     "library": "var_list.py",
     "varRefreshCmd": "print(var_dic_list())"
    },
    "r": {
     "delete_cmd_postfix": ") ",
     "delete_cmd_prefix": "rm(",
     "library": "var_list.r",
     "varRefreshCmd": "cat(var_dic_list()) "
    }
   },
   "position": {
    "height": "842px",
    "left": "1550px",
    "right": "20px",
    "top": "120px",
    "width": "350px"
   },
   "types_to_exclude": [
    "module",
    "function",
    "builtin_function_or_method",
    "instance",
    "_Feature"
   ],
   "window_display": true
  }
 },
 "nbformat": 4,
 "nbformat_minor": 4
}
