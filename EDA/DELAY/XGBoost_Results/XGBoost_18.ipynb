{
 "cells": [
  {
   "cell_type": "markdown",
   "metadata": {},
   "source": [
    "___"
   ]
  },
  {
   "cell_type": "code",
   "execution_count": 1,
   "metadata": {
    "ExecuteTime": {
     "end_time": "2021-03-03T18:30:19.732920Z",
     "start_time": "2021-03-03T18:30:16.857358Z"
    }
   },
   "outputs": [],
   "source": [
    "# Import libraries to be used\n",
    "\n",
    "# Warning messages display\n",
    "# import warnings\n",
    "# warnings.filterwarnings(action='once') # https://docs.python.org/3/library/warnings.html#the-warnings-filter\n",
    "\n",
    "# Directories/Files management\n",
    "import os.path\n",
    "## from zipfile import ZipFile # De momento no ha hecho falta \n",
    "\n",
    "# Timing\n",
    "import time\n",
    "\n",
    "# Data analysis and wrangling\n",
    "import pandas as pd\n",
    "import numpy as np\n",
    "pd.set_option('display.max_columns', None) # Show all columns in DataFrames\n",
    "pd.set_option('display.max_rows', 100) # If too high, it greatly slows down the output display and freezes the kernel\n",
    "\n",
    "\n",
    "# Visualization\n",
    "import matplotlib.pyplot as plt\n",
    "import seaborn as sns\n",
    "%matplotlib inline\n",
    "plt.style.use('ggplot') # choose a style: 'plt.style.available'\n",
    "sns.set_theme(context='notebook',\n",
    "              style=\"darkgrid\") # {darkgrid, whitegrid, dark, white, ticks}\n",
    "palette = sns.color_palette(\"flare\", as_cmap=True);\n",
    "import altair as alt\n",
    "\n",
    "# Machine Learning\n",
    "## from sklearn.[...] import ..."
   ]
  },
  {
   "cell_type": "code",
   "execution_count": 2,
   "metadata": {
    "ExecuteTime": {
     "end_time": "2021-03-03T18:30:19.780354Z",
     "start_time": "2021-03-03T18:30:19.736914Z"
    }
   },
   "outputs": [],
   "source": [
    "%load_ext memory_profiler"
   ]
  },
  {
   "cell_type": "code",
   "execution_count": 3,
   "metadata": {
    "ExecuteTime": {
     "end_time": "2021-03-03T18:30:19.791429Z",
     "start_time": "2021-03-03T18:30:19.783357Z"
    }
   },
   "outputs": [],
   "source": [
    "t0 = time.perf_counter() "
   ]
  },
  {
   "cell_type": "code",
   "execution_count": 4,
   "metadata": {
    "ExecuteTime": {
     "end_time": "2021-03-03T18:30:19.807054Z",
     "start_time": "2021-03-03T18:30:19.791429Z"
    }
   },
   "outputs": [
    {
     "name": "stdout",
     "output_type": "stream",
     "text": [
      "Running on Windows.\n",
      "root path\t C:\\Users\\turge\\CompartidoVM\\0.TFM\n"
     ]
    }
   ],
   "source": [
    "# Detect Operating System running and manage paths accordingly\n",
    "\n",
    "if os.name == 'nt': # Windows\n",
    "    root = r\"C:\\Users\\turge\\CompartidoVM\\0.TFM\"\n",
    "    print(\"Running on Windows.\")\n",
    "elif os.name == 'posix': # Ubuntu\n",
    "    root = \"/home/dsc/shared/0.TFM\"\n",
    "    print(\"Running on Ubuntu.\")\n",
    "print(\"root path\\t\", root)"
   ]
  },
  {
   "cell_type": "markdown",
   "metadata": {},
   "source": [
    "## 1. Load the dataset"
   ]
  },
  {
   "cell_type": "code",
   "execution_count": 5,
   "metadata": {
    "ExecuteTime": {
     "end_time": "2021-03-03T18:30:19.822680Z",
     "start_time": "2021-03-03T18:30:19.807054Z"
    }
   },
   "outputs": [],
   "source": [
    "cols = [\n",
    " 'MONTH',\n",
    " 'DAY_OF_MONTH',\n",
    " 'DAY_OF_WEEK',\n",
    " 'OP_UNIQUE_CARRIER',\n",
    " 'ORIGIN',\n",
    "#  'WBAN_Origin_OTP', # Redundant having the 'ORIGIN' feature\n",
    " 'DEST',\n",
    "#  'WBAN_Dest_OTP', # Redundant having the 'DEST' feature\n",
    " 'DEP_TIME_hour',\n",
    " 'TAXI_OUT_median',\n",
    " 'TAXI_IN_median',\n",
    " 'ARR_TIME_hour',\n",
    " 'CRS_ELAPSED_TIME',\n",
    " 'DISTANCE',\n",
    "#  'DISTANCE_GROUP', # Redundant having the 'DISTANCE' feature\n",
    "#  'STATION_Origin', # Redundant having the 'ORIGIN' feature\n",
    "#  'WMO_Origin', # Redundant having the 'ORIGIN' feature\n",
    "#  'WBAN_Origin_LCD', # Redundant having the 'ORIGIN' feature\n",
    " 'HourlyAltimeterSetting_Origin',\n",
    " 'HourlyDryBulbTemperature_Origin',\n",
    " 'HourlyPrecipitation_Origin',\n",
    " 'HourlyRelativeHumidity_Origin',\n",
    " 'HourlySkyConditions_Origin',\n",
    " 'HourlyVisibility_Origin',\n",
    "#  'REM_Origin', # Not relevant for the model\n",
    "#  'STATION_Dest', # Redundant having the 'DEST' feature\n",
    "#  'WMO_Dest', # Redundant having the 'DEST' feature\n",
    "#  'WBAN_Dest_LCD', # Redundant having the 'DEST' feature\n",
    " 'HourlyAltimeterSetting_Dest',\n",
    " 'HourlyDryBulbTemperature_Dest',\n",
    " 'HourlyPrecipitation_Dest',\n",
    " 'HourlyRelativeHumidity_Dest',\n",
    " 'HourlySkyConditions_Dest',\n",
    " 'HourlyVisibility_Dest',\n",
    "#  'REM_Dest', # Redundant having the 'ORIGIN' feature\n",
    " 'ARR_DEL15' # → Target !!\n",
    "]"
   ]
  },
  {
   "cell_type": "code",
   "execution_count": 6,
   "metadata": {
    "ExecuteTime": {
     "end_time": "2021-03-03T18:30:19.869549Z",
     "start_time": "2021-03-03T18:30:19.827575Z"
    },
    "scrolled": false
   },
   "outputs": [
    {
     "data": {
      "text/plain": [
       "'C:\\\\Users\\\\turge\\\\CompartidoVM\\\\0.TFM\\\\Output_Data\\\\US_DoT-NOAA\\\\OTP_LCD_allColumns.csv'"
      ]
     },
     "execution_count": 6,
     "metadata": {},
     "output_type": "execute_result"
    }
   ],
   "source": [
    "preprocessed_input_csv_path = os.path.join(root,\n",
    "                                           \"Output_Data\",\n",
    "                                           \"US_DoT-NOAA\",\n",
    "                                           \"OTP_LCD_allColumns.csv\")\n",
    "preprocessed_input_csv_path"
   ]
  },
  {
   "cell_type": "code",
   "execution_count": 7,
   "metadata": {
    "ExecuteTime": {
     "end_time": "2021-03-03T18:31:07.213312Z",
     "start_time": "2021-03-03T18:30:19.947504Z"
    },
    "scrolled": true
   },
   "outputs": [
    {
     "name": "stdout",
     "output_type": "stream",
     "text": [
      "Wall time: 47.2 s\n"
     ]
    },
    {
     "data": {
      "text/html": [
       "<div>\n",
       "<style scoped>\n",
       "    .dataframe tbody tr th:only-of-type {\n",
       "        vertical-align: middle;\n",
       "    }\n",
       "\n",
       "    .dataframe tbody tr th {\n",
       "        vertical-align: top;\n",
       "    }\n",
       "\n",
       "    .dataframe thead th {\n",
       "        text-align: right;\n",
       "    }\n",
       "</style>\n",
       "<table border=\"1\" class=\"dataframe\">\n",
       "  <thead>\n",
       "    <tr style=\"text-align: right;\">\n",
       "      <th></th>\n",
       "      <th>MONTH</th>\n",
       "      <th>DAY_OF_MONTH</th>\n",
       "      <th>DAY_OF_WEEK</th>\n",
       "      <th>OP_UNIQUE_CARRIER</th>\n",
       "      <th>ORIGIN</th>\n",
       "      <th>DEST</th>\n",
       "      <th>DEP_TIME_hour</th>\n",
       "      <th>TAXI_OUT_median</th>\n",
       "      <th>TAXI_IN_median</th>\n",
       "      <th>ARR_DEL15</th>\n",
       "      <th>ARR_TIME_hour</th>\n",
       "      <th>CRS_ELAPSED_TIME</th>\n",
       "      <th>DISTANCE</th>\n",
       "      <th>HourlyAltimeterSetting_Origin</th>\n",
       "      <th>HourlyDryBulbTemperature_Origin</th>\n",
       "      <th>HourlyPrecipitation_Origin</th>\n",
       "      <th>HourlyRelativeHumidity_Origin</th>\n",
       "      <th>HourlySkyConditions_Origin</th>\n",
       "      <th>HourlyVisibility_Origin</th>\n",
       "      <th>HourlyAltimeterSetting_Dest</th>\n",
       "      <th>HourlyDryBulbTemperature_Dest</th>\n",
       "      <th>HourlyPrecipitation_Dest</th>\n",
       "      <th>HourlyRelativeHumidity_Dest</th>\n",
       "      <th>HourlySkyConditions_Dest</th>\n",
       "      <th>HourlyVisibility_Dest</th>\n",
       "    </tr>\n",
       "  </thead>\n",
       "  <tbody>\n",
       "    <tr>\n",
       "      <th>4332790</th>\n",
       "      <td>12</td>\n",
       "      <td>18</td>\n",
       "      <td>3</td>\n",
       "      <td>WN</td>\n",
       "      <td>BNA</td>\n",
       "      <td>TPA</td>\n",
       "      <td>13</td>\n",
       "      <td>10</td>\n",
       "      <td>4</td>\n",
       "      <td>0</td>\n",
       "      <td>16</td>\n",
       "      <td>100</td>\n",
       "      <td>612</td>\n",
       "      <td>30.340000</td>\n",
       "      <td>35.0</td>\n",
       "      <td>0.0</td>\n",
       "      <td>67.0</td>\n",
       "      <td>BKN</td>\n",
       "      <td>10.00</td>\n",
       "      <td>30.059999</td>\n",
       "      <td>61.0</td>\n",
       "      <td>0.0</td>\n",
       "      <td>52.0</td>\n",
       "      <td>(missing)</td>\n",
       "      <td>9.94</td>\n",
       "    </tr>\n",
       "    <tr>\n",
       "      <th>1446910</th>\n",
       "      <td>06</td>\n",
       "      <td>19</td>\n",
       "      <td>3</td>\n",
       "      <td>NK</td>\n",
       "      <td>SAN</td>\n",
       "      <td>LAS</td>\n",
       "      <td>6</td>\n",
       "      <td>14</td>\n",
       "      <td>7</td>\n",
       "      <td>0</td>\n",
       "      <td>7</td>\n",
       "      <td>87</td>\n",
       "      <td>258</td>\n",
       "      <td>29.990000</td>\n",
       "      <td>63.0</td>\n",
       "      <td>0.0</td>\n",
       "      <td>75.0</td>\n",
       "      <td>OVC</td>\n",
       "      <td>10.00</td>\n",
       "      <td>29.920000</td>\n",
       "      <td>90.0</td>\n",
       "      <td>0.0</td>\n",
       "      <td>13.0</td>\n",
       "      <td>CLR</td>\n",
       "      <td>10.00</td>\n",
       "    </tr>\n",
       "    <tr>\n",
       "      <th>2012756</th>\n",
       "      <td>09</td>\n",
       "      <td>02</td>\n",
       "      <td>1</td>\n",
       "      <td>DL</td>\n",
       "      <td>MCO</td>\n",
       "      <td>SLC</td>\n",
       "      <td>19</td>\n",
       "      <td>16</td>\n",
       "      <td>6</td>\n",
       "      <td>0</td>\n",
       "      <td>21</td>\n",
       "      <td>277</td>\n",
       "      <td>1931</td>\n",
       "      <td>29.790001</td>\n",
       "      <td>82.0</td>\n",
       "      <td>0.0</td>\n",
       "      <td>77.0</td>\n",
       "      <td>(missing)</td>\n",
       "      <td>9.94</td>\n",
       "      <td>30.080000</td>\n",
       "      <td>85.0</td>\n",
       "      <td>0.0</td>\n",
       "      <td>15.0</td>\n",
       "      <td>BKN</td>\n",
       "      <td>10.00</td>\n",
       "    </tr>\n",
       "    <tr>\n",
       "      <th>2980102</th>\n",
       "      <td>11</td>\n",
       "      <td>29</td>\n",
       "      <td>5</td>\n",
       "      <td>NK</td>\n",
       "      <td>EWR</td>\n",
       "      <td>TPA</td>\n",
       "      <td>12</td>\n",
       "      <td>16</td>\n",
       "      <td>6</td>\n",
       "      <td>0</td>\n",
       "      <td>14</td>\n",
       "      <td>169</td>\n",
       "      <td>997</td>\n",
       "      <td>30.180000</td>\n",
       "      <td>41.0</td>\n",
       "      <td>0.0</td>\n",
       "      <td>43.0</td>\n",
       "      <td>BKN</td>\n",
       "      <td>10.00</td>\n",
       "      <td>30.090000</td>\n",
       "      <td>82.0</td>\n",
       "      <td>0.0</td>\n",
       "      <td>27.0</td>\n",
       "      <td>SCT</td>\n",
       "      <td>10.00</td>\n",
       "    </tr>\n",
       "    <tr>\n",
       "      <th>1800723</th>\n",
       "      <td>08</td>\n",
       "      <td>26</td>\n",
       "      <td>1</td>\n",
       "      <td>AA</td>\n",
       "      <td>TUS</td>\n",
       "      <td>DFW</td>\n",
       "      <td>9</td>\n",
       "      <td>12</td>\n",
       "      <td>12</td>\n",
       "      <td>0</td>\n",
       "      <td>14</td>\n",
       "      <td>140</td>\n",
       "      <td>813</td>\n",
       "      <td>30.010000</td>\n",
       "      <td>90.0</td>\n",
       "      <td>0.0</td>\n",
       "      <td>44.0</td>\n",
       "      <td>CLR</td>\n",
       "      <td>10.00</td>\n",
       "      <td>29.670000</td>\n",
       "      <td>101.0</td>\n",
       "      <td>0.0</td>\n",
       "      <td>37.0</td>\n",
       "      <td>CLR</td>\n",
       "      <td>10.00</td>\n",
       "    </tr>\n",
       "  </tbody>\n",
       "</table>\n",
       "</div>"
      ],
      "text/plain": [
       "        MONTH DAY_OF_MONTH DAY_OF_WEEK OP_UNIQUE_CARRIER ORIGIN DEST  \\\n",
       "4332790    12           18           3                WN    BNA  TPA   \n",
       "1446910    06           19           3                NK    SAN  LAS   \n",
       "2012756    09           02           1                DL    MCO  SLC   \n",
       "2980102    11           29           5                NK    EWR  TPA   \n",
       "1800723    08           26           1                AA    TUS  DFW   \n",
       "\n",
       "        DEP_TIME_hour  TAXI_OUT_median  TAXI_IN_median  ARR_DEL15  \\\n",
       "4332790            13               10               4          0   \n",
       "1446910             6               14               7          0   \n",
       "2012756            19               16               6          0   \n",
       "2980102            12               16               6          0   \n",
       "1800723             9               12              12          0   \n",
       "\n",
       "        ARR_TIME_hour  CRS_ELAPSED_TIME  DISTANCE  \\\n",
       "4332790            16               100       612   \n",
       "1446910             7                87       258   \n",
       "2012756            21               277      1931   \n",
       "2980102            14               169       997   \n",
       "1800723            14               140       813   \n",
       "\n",
       "         HourlyAltimeterSetting_Origin  HourlyDryBulbTemperature_Origin  \\\n",
       "4332790                      30.340000                             35.0   \n",
       "1446910                      29.990000                             63.0   \n",
       "2012756                      29.790001                             82.0   \n",
       "2980102                      30.180000                             41.0   \n",
       "1800723                      30.010000                             90.0   \n",
       "\n",
       "         HourlyPrecipitation_Origin  HourlyRelativeHumidity_Origin  \\\n",
       "4332790                         0.0                           67.0   \n",
       "1446910                         0.0                           75.0   \n",
       "2012756                         0.0                           77.0   \n",
       "2980102                         0.0                           43.0   \n",
       "1800723                         0.0                           44.0   \n",
       "\n",
       "        HourlySkyConditions_Origin  HourlyVisibility_Origin  \\\n",
       "4332790                        BKN                    10.00   \n",
       "1446910                        OVC                    10.00   \n",
       "2012756                  (missing)                     9.94   \n",
       "2980102                        BKN                    10.00   \n",
       "1800723                        CLR                    10.00   \n",
       "\n",
       "         HourlyAltimeterSetting_Dest  HourlyDryBulbTemperature_Dest  \\\n",
       "4332790                    30.059999                           61.0   \n",
       "1446910                    29.920000                           90.0   \n",
       "2012756                    30.080000                           85.0   \n",
       "2980102                    30.090000                           82.0   \n",
       "1800723                    29.670000                          101.0   \n",
       "\n",
       "         HourlyPrecipitation_Dest  HourlyRelativeHumidity_Dest  \\\n",
       "4332790                       0.0                         52.0   \n",
       "1446910                       0.0                         13.0   \n",
       "2012756                       0.0                         15.0   \n",
       "2980102                       0.0                         27.0   \n",
       "1800723                       0.0                         37.0   \n",
       "\n",
       "        HourlySkyConditions_Dest  HourlyVisibility_Dest  \n",
       "4332790                (missing)                   9.94  \n",
       "1446910                      CLR                  10.00  \n",
       "2012756                      BKN                  10.00  \n",
       "2980102                      SCT                  10.00  \n",
       "1800723                      CLR                  10.00  "
      ]
     },
     "execution_count": 7,
     "metadata": {},
     "output_type": "execute_result"
    }
   ],
   "source": [
    "%%time\n",
    "\n",
    "df_all = pd.read_csv(preprocessed_input_csv_path,\n",
    "                     encoding='latin1',\n",
    "                     usecols=cols,\n",
    "                     dtype={\n",
    "                            'MONTH' : 'category',\n",
    "                            'DAY_OF_MONTH' : 'category',\n",
    "                            'DAY_OF_WEEK' : 'category',\n",
    "                            'OP_UNIQUE_CARRIER' : 'category',\n",
    "                            'ORIGIN' : 'string',\n",
    "                            'DEST' : 'string',\n",
    "                            'DEP_TIME_hour' : 'category',\n",
    "                            'TAXI_OUT_median' : 'int32',\n",
    "                            'TAXI_IN_median' : 'int32',\n",
    "                            'ARR_TIME_hour' : 'category',\n",
    "                            'CRS_ELAPSED_TIME' : 'int32',\n",
    "                            'DISTANCE' : 'int32',\n",
    "                            'HourlyAltimeterSetting_Origin' : 'float32',\n",
    "                            'HourlyDryBulbTemperature_Origin' : 'float32',\n",
    "                            'HourlyPrecipitation_Origin' : 'float32',\n",
    "                            'HourlyRelativeHumidity_Origin' : 'float32',\n",
    "                            'HourlySkyConditions_Origin' : 'category',\n",
    "                            'HourlyVisibility_Origin' : 'float32',\n",
    "                            'HourlyAltimeterSetting_Dest' : 'float32',\n",
    "                            'HourlyDryBulbTemperature_Dest' : 'float32',\n",
    "                            'HourlyPrecipitation_Dest' : 'float32',\n",
    "                            'HourlyRelativeHumidity_Dest' : 'float32',\n",
    "                            'HourlySkyConditions_Dest' : 'category',\n",
    "                            'HourlyVisibility_Dest' : 'float32',\n",
    "                            'ARR_DEL15' : 'int32'\n",
    "                           }\n",
    "                    )\n",
    "df_all.sample(5)"
   ]
  },
  {
   "cell_type": "markdown",
   "metadata": {},
   "source": [
    "___"
   ]
  },
  {
   "cell_type": "code",
   "execution_count": 8,
   "metadata": {
    "ExecuteTime": {
     "end_time": "2021-03-03T18:31:07.245292Z",
     "start_time": "2021-03-03T18:31:07.218308Z"
    },
    "scrolled": false
   },
   "outputs": [
    {
     "name": "stdout",
     "output_type": "stream",
     "text": [
      "<class 'pandas.core.frame.DataFrame'>\n",
      "RangeIndex: 7200051 entries, 0 to 7200050\n",
      "Data columns (total 25 columns):\n",
      " #   Column                           Dtype   \n",
      "---  ------                           -----   \n",
      " 0   MONTH                            category\n",
      " 1   DAY_OF_MONTH                     category\n",
      " 2   DAY_OF_WEEK                      category\n",
      " 3   OP_UNIQUE_CARRIER                category\n",
      " 4   ORIGIN                           string  \n",
      " 5   DEST                             string  \n",
      " 6   DEP_TIME_hour                    category\n",
      " 7   TAXI_OUT_median                  int32   \n",
      " 8   TAXI_IN_median                   int32   \n",
      " 9   ARR_DEL15                        int32   \n",
      " 10  ARR_TIME_hour                    category\n",
      " 11  CRS_ELAPSED_TIME                 int32   \n",
      " 12  DISTANCE                         int32   \n",
      " 13  HourlyAltimeterSetting_Origin    float32 \n",
      " 14  HourlyDryBulbTemperature_Origin  float32 \n",
      " 15  HourlyPrecipitation_Origin       float32 \n",
      " 16  HourlyRelativeHumidity_Origin    float32 \n",
      " 17  HourlySkyConditions_Origin       category\n",
      " 18  HourlyVisibility_Origin          float32 \n",
      " 19  HourlyAltimeterSetting_Dest      float32 \n",
      " 20  HourlyDryBulbTemperature_Dest    float32 \n",
      " 21  HourlyPrecipitation_Dest         float32 \n",
      " 22  HourlyRelativeHumidity_Dest      float32 \n",
      " 23  HourlySkyConditions_Dest         category\n",
      " 24  HourlyVisibility_Dest            float32 \n",
      "dtypes: category(8), float32(10), int32(5), string(2)\n",
      "memory usage: 576.8 MB\n"
     ]
    }
   ],
   "source": [
    "df_all.info()"
   ]
  },
  {
   "cell_type": "code",
   "execution_count": 9,
   "metadata": {
    "ExecuteTime": {
     "end_time": "2021-03-03T18:31:07.261045Z",
     "start_time": "2021-03-03T18:31:07.249289Z"
    }
   },
   "outputs": [],
   "source": [
    "# from pandas_profiling import ProfileReport\n",
    "\n",
    "# # # Complete report:\n",
    "# # prof = ProfileReport(df_all)\n",
    "# # prof.to_file('informe.html')\n",
    "\n",
    "# # Sample report (more computationally efficient)\n",
    "# prof = ProfileReport(df_all.sample(10000)) \n",
    "# prof.to_file('sample_report.html')"
   ]
  },
  {
   "cell_type": "code",
   "execution_count": 10,
   "metadata": {
    "ExecuteTime": {
     "end_time": "2021-03-03T18:31:07.277038Z",
     "start_time": "2021-03-03T18:31:07.264048Z"
    }
   },
   "outputs": [],
   "source": [
    "# from pandas_profiling import ProfileReport\n",
    "\n",
    "# # Complete report:\n",
    "# prof = ProfileReport(df_all, minimal=True)\n",
    "# prof.to_file('complete_report.html')\n",
    "\n",
    "# # # Sample report (more computationally efficient)\n",
    "# # prof = ProfileReport(df_all.sample(10000)) \n",
    "# # prof.to_file('sample_report.html')"
   ]
  },
  {
   "cell_type": "markdown",
   "metadata": {},
   "source": [
    "## 2. Dataset overview"
   ]
  },
  {
   "cell_type": "code",
   "execution_count": 11,
   "metadata": {
    "ExecuteTime": {
     "end_time": "2021-03-03T18:31:08.941009Z",
     "start_time": "2021-03-03T18:31:07.280039Z"
    }
   },
   "outputs": [
    {
     "name": "stdout",
     "output_type": "stream",
     "text": [
      "On-time flights:    5000 (50.00%)\n",
      "Delayed flights:    5000 (50.00%)\n"
     ]
    }
   ],
   "source": [
    "# For the initial runs, define a reasonably-sized sample:\n",
    "sample_length = int(1e4)\n",
    "\n",
    "# The dataset is somehow imbalanced (80% on-time / 20% delayed), so let's perform some quick undersampling:\n",
    "delayed = df_all[df_all['ARR_DEL15'] == 1].sample(sample_length // 2)\n",
    "ontime = df_all[df_all['ARR_DEL15'] == 0].sample(sample_length // 2)\n",
    "df = delayed.append(ontime)\n",
    "\n",
    "# Get dummies for the categorical features:\n",
    "df = pd.get_dummies(data=df, columns=df.select_dtypes('category').columns)\n",
    "\n",
    "print(\"On-time flights: {:7d} ({:5.2f}%)\".format(len(ontime), 100*len(ontime)/len(df)))\n",
    "print(\"Delayed flights: {:7d} ({:5.2f}%)\".format(len(delayed), 100*len(delayed)/len(df)))"
   ]
  },
  {
   "cell_type": "markdown",
   "metadata": {},
   "source": [
    "### Train / Test / Validation split\n",
    "Break the dataset into three blocks:\n",
    "1. Training (70%)\n",
    "2. Test (15%)\n",
    "3. Validation (15%)"
   ]
  },
  {
   "cell_type": "code",
   "execution_count": 12,
   "metadata": {
    "ExecuteTime": {
     "end_time": "2021-03-03T18:31:08.955999Z",
     "start_time": "2021-03-03T18:31:08.944008Z"
    }
   },
   "outputs": [],
   "source": [
    "def target_encoder(df, column, target, index=None, method='mean'):\n",
    "    \"\"\"\n",
    "    Target-based encoding is numerization of a categorical variables via the target variable. Main purpose is to deal\n",
    "    with high cardinality categorical features without exploding dimensionality. This replaces the categorical variable\n",
    "    with just one new numerical variable. Each category or level of the categorical variable is represented by a\n",
    "    summary statistic of the target for that level.\n",
    "    Args:\n",
    "        df (pandas df): Pandas DataFrame containing the categorical column and target.\n",
    "        column (str): Categorical variable column to be encoded.\n",
    "        target (str): Target on which to encode.\n",
    "        index (arr): Can be supplied to use targets only from the train index. Avoids data leakage from the test fold\n",
    "        method (str): Summary statistic of the target. Mean, median or std. deviation.\n",
    "    Returns:\n",
    "        arr: Encoded categorical column.\n",
    "    \"\"\"\n",
    "\n",
    "    index = df.index if index is None else index # Encode the entire input df if no specific indices is supplied\n",
    "\n",
    "    if method == 'mean':\n",
    "        encoded_column = df[column].map(df.iloc[index].groupby(column)[target].mean())\n",
    "    elif method == 'median':\n",
    "        encoded_column = df[column].map(df.iloc[index].groupby(column)[target].median())\n",
    "    elif method == 'std':\n",
    "        encoded_column = df[column].map(df.iloc[index].groupby(column)[target].std())\n",
    "    else:\n",
    "        raise ValueError(\"Incorrect method supplied: '{}'. Must be one of 'mean', 'median', 'std'\".format(method))\n",
    "\n",
    "    return encoded_column"
   ]
  },
  {
   "cell_type": "code",
   "execution_count": 13,
   "metadata": {
    "ExecuteTime": {
     "end_time": "2021-03-03T18:31:10.681447Z",
     "start_time": "2021-03-03T18:31:08.958996Z"
    },
    "scrolled": true
   },
   "outputs": [
    {
     "name": "stdout",
     "output_type": "stream",
     "text": [
      "Total dataset:        10000 (100.00%)\n",
      "Training dataset:      7000 ( 70.00%)\n",
      "Test dataset:          1500 ( 15.00%)\n",
      "Validation dataset:    1500 ( 15.00%)\n"
     ]
    }
   ],
   "source": [
    "# Divide the data:\n",
    "train_idx = df.sample(frac=0.7).index\n",
    "df['ORIGIN_Encoded'] = target_encoder(df_all, column='ORIGIN', target='ARR_DEL15', index=train_idx, method='mean')\n",
    "df['DEST_Encoded'] = target_encoder(df_all, column='DEST', target='ARR_DEL15', index=train_idx, method='mean')\n",
    "df.drop(['ORIGIN', 'DEST'], axis=1, inplace=True)\n",
    "# df['ORIGIN_Encoded'] = target_encoder(df_all, column='ORIGIN', target='ARR_DEL15', method='mean')\n",
    "# df['DEST_Encoded'] = target_encoder(df_all, column='DEST', target='ARR_DEL15', method='mean')\n",
    "train = df.loc[train_idx, :]\n",
    "test_valid = df.drop(train.index)\n",
    "test = test_valid.sample(frac=0.5)\n",
    "valid = test_valid.drop(test.index)\n",
    "\n",
    "print(\"Total dataset:      {:7d} ({:6.2f}%)\".format(len(df), 100*len(df)/len(df)))\n",
    "print(\"Training dataset:   {:7d} ( {:5.2f}%)\".format(len(train), 100*len(train)/len(df)))\n",
    "print(\"Test dataset:       {:7d} ( {:5.2f}%)\".format(len(test), 100*len(test)/len(df)))\n",
    "print(\"Validation dataset: {:7d} ( {:5.2f}%)\".format(len(valid), 100*len(valid)/len(df)))"
   ]
  },
  {
   "cell_type": "markdown",
   "metadata": {},
   "source": [
    "# XGBoost"
   ]
  },
  {
   "cell_type": "code",
   "execution_count": 14,
   "metadata": {
    "ExecuteTime": {
     "end_time": "2021-03-03T18:31:12.227295Z",
     "start_time": "2021-03-03T18:31:10.684450Z"
    }
   },
   "outputs": [],
   "source": [
    "from xgboost import XGBClassifier"
   ]
  },
  {
   "cell_type": "code",
   "execution_count": 15,
   "metadata": {
    "ExecuteTime": {
     "end_time": "2021-03-03T18:31:12.259165Z",
     "start_time": "2021-03-03T18:31:12.229298Z"
    }
   },
   "outputs": [],
   "source": [
    "# Train / Test partition:\n",
    "X_train, y_train = train.drop(\"ARR_DEL15\", axis=1), train[\"ARR_DEL15\"]\n",
    "X_test, y_test = test.drop(\"ARR_DEL15\", axis=1), test[\"ARR_DEL15\"]\n",
    "\n",
    "# Validation:\n",
    "X_valid, y_valid = valid.drop(\"ARR_DEL15\", axis=1), valid[\"ARR_DEL15\"]"
   ]
  },
  {
   "cell_type": "code",
   "execution_count": 16,
   "metadata": {
    "ExecuteTime": {
     "end_time": "2021-03-03T18:31:12.274831Z",
     "start_time": "2021-03-03T18:31:12.262170Z"
    }
   },
   "outputs": [],
   "source": [
    "# Basic model definition:\n",
    "xgb_model = XGBClassifier(use_label_encoder=False,\n",
    "                          verbosity=1,\n",
    "                          random_state=0,\n",
    "                          num_boost_round=500,\n",
    "                          as_pandas=True,\n",
    "                          early_stopping_rounds=10)"
   ]
  },
  {
   "cell_type": "markdown",
   "metadata": {},
   "source": [
    "## GridSearchCV"
   ]
  },
  {
   "cell_type": "raw",
   "metadata": {
    "ExecuteTime": {
     "end_time": "2021-03-03T17:14:15.580320Z",
     "start_time": "2021-03-03T17:14:15.556336Z"
    }
   },
   "source": [
    "# Parameter grid:\n",
    "parameters = {\n",
    "            \"n_estimators\":[100, 200, 300, 400, 500],\n",
    "            \"max_depth\": [4, 5, 6],\n",
    "            \"learning_rate\":[0.0001, 0.001, 0.01, 0.1],\n",
    "            \"objective\": [\"binary:logistic\"],\n",
    "            \"booster\":[\"gbtree\"],\n",
    "            \"tree_method\":['auto']\n",
    "             }"
   ]
  },
  {
   "cell_type": "code",
   "execution_count": 17,
   "metadata": {
    "ExecuteTime": {
     "end_time": "2021-03-03T18:31:12.290788Z",
     "start_time": "2021-03-03T18:31:12.277835Z"
    }
   },
   "outputs": [],
   "source": [
    "# Parameter grid:\n",
    "parameters = {\n",
    "            'min_child_weight': [1, 5, 10],\n",
    "            'gamma': [0.5, 1, 1.5, 2, 5],\n",
    "            'subsample': [0.6, 0.8, 1.0],\n",
    "            'colsample_bytree': [0.6, 0.8, 1.0],   \n",
    "            \"learning_rate\":[0.0001, 0.001, 0.01, 0.1],    \n",
    "            'max_depth': [3, 4, 5, 6],\n",
    "            \"objective\": [\"binary:logistic\"],\n",
    "            \"booster\":[\"gbtree\"],\n",
    "            \"tree_method\":['auto']\n",
    "             }"
   ]
  },
  {
   "cell_type": "code",
   "execution_count": 18,
   "metadata": {
    "ExecuteTime": {
     "end_time": "2021-03-03T18:32:31.560802Z",
     "start_time": "2021-03-03T18:31:12.294783Z"
    },
    "scrolled": false
   },
   "outputs": [
    {
     "name": "stdout",
     "output_type": "stream",
     "text": [
      "[19:32:29] WARNING: C:/Users/Administrator/workspace/xgboost-win64_release_1.3.0/src/learner.cc:541: \n",
      "Parameters: { as_pandas, early_stopping_rounds, num_boost_round } might not be used.\n",
      "\n",
      "  This may not be accurate due to some parameters are only used in language bindings but\n",
      "  passed down to XGBoost core.  Or some parameters are not used but slip through this\n",
      "  verification. Please open an issue if you find above cases.\n",
      "\n",
      "\n",
      "Scorer: make_scorer(f1_score, average=binary)\n",
      "Best score: 0.6440814891514266\n",
      "Best parameters: {'tree_method': 'auto', 'subsample': 1.0, 'objective': 'binary:logistic', 'min_child_weight': 10, 'max_depth': 4, 'learning_rate': 0.1, 'gamma': 2, 'colsample_bytree': 1.0, 'booster': 'gbtree'}\n",
      "Best estimator: XGBClassifier(as_pandas=True, base_score=0.5, booster='gbtree',\n",
      "              colsample_bylevel=1, colsample_bynode=1, colsample_bytree=1.0,\n",
      "              early_stopping_rounds=10, gamma=2, gpu_id=-1,\n",
      "              importance_type='gain', interaction_constraints='',\n",
      "              learning_rate=0.1, max_delta_step=0, max_depth=4,\n",
      "              min_child_weight=10, missing=nan, monotone_constraints='()',\n",
      "              n_estimators=100, n_jobs=4, num_boost_round=500,\n",
      "              num_parallel_tree=1, random_state=0, reg_alpha=0, reg_lambda=1,\n",
      "              scale_pos_weight=1, subsample=1.0, tree_method='auto',\n",
      "              use_label_encoder=False, validate_parameters=1, verbosity=1)\n"
     ]
    }
   ],
   "source": [
    "from sklearn.model_selection import StratifiedKFold, GridSearchCV, RandomizedSearchCV\n",
    "\n",
    "# clf = GridSearchCV(xgb_model, parameters, n_jobs=5, \n",
    "#                    cv=StratifiedKFold(n_splits=5, shuffle=True), \n",
    "#                    scoring='f1', refit=True)\n",
    "\n",
    "clf = RandomizedSearchCV(xgb_model, parameters, n_jobs=5, \n",
    "                         cv=StratifiedKFold(n_splits=5, shuffle=True), \n",
    "                         scoring='f1', refit=True, n_iter=10)\n",
    "\n",
    "clf.fit(X_train, y_train, eval_metric='logloss')\n",
    "\n",
    "print(\"Scorer:\", clf.scorer_)\n",
    "print(\"Best score:\", clf.best_score_)\n",
    "print(\"Best parameters:\", clf.best_params_)\n",
    "print(\"Best estimator:\", clf.best_estimator_)\n",
    "# print(\"CV results:\", clf.cv_results_)"
   ]
  },
  {
   "cell_type": "markdown",
   "metadata": {},
   "source": [
    "## Evaluation"
   ]
  },
  {
   "cell_type": "code",
   "execution_count": 19,
   "metadata": {
    "ExecuteTime": {
     "end_time": "2021-03-03T18:32:31.592782Z",
     "start_time": "2021-03-03T18:32:31.567799Z"
    }
   },
   "outputs": [],
   "source": [
    "# Evaluate the model's metrics:\n",
    "\n",
    "from sklearn.metrics import fbeta_score, f1_score, recall_score, precision_score, accuracy_score, \\\n",
    "                            confusion_matrix, classification_report, roc_curve, roc_auc_score, plot_roc_curve\n",
    "\n",
    "def clf_metrics(classifier, y_test, y_pred):\n",
    "    print(\"Confusion matrix:\\n\", confusion_matrix(y_test, y_pred))\n",
    "    print(\"Normalized confusion matrix:\\n\", confusion_matrix(y_test, y_pred, normalize='true'), '\\n')\n",
    "    print(classification_report(y_test, y_pred, target_names=['on-time', 'delayed']))\n",
    "    print(\"F-beta (ß=2) = {:6.3f}\".format(fbeta_score(y_test, y_pred, beta=2)))   \n",
    "    print(\"F1 =           {:6.3f}\".format(f1_score(y_test, y_pred)))   \n",
    "    print(\"Recall =       {:6.3f}\".format(recall_score(y_test, y_pred)))   \n",
    "    print(\"Precision =    {:6.3f}\".format(precision_score(y_test, y_pred)))   \n",
    "    print(\"Accuracy =     {:6.3f}\".format(accuracy_score(y_test, y_pred)))"
   ]
  },
  {
   "cell_type": "markdown",
   "metadata": {},
   "source": [
    "### Test"
   ]
  },
  {
   "cell_type": "code",
   "execution_count": 20,
   "metadata": {
    "ExecuteTime": {
     "end_time": "2021-03-03T18:32:31.846625Z",
     "start_time": "2021-03-03T18:32:31.596781Z"
    }
   },
   "outputs": [
    {
     "data": {
      "text/plain": [
       "array([0.40912527, 0.7497668 , 0.51237416, ..., 0.52884066, 0.33549032,\n",
       "       0.69858724], dtype=float32)"
      ]
     },
     "execution_count": 20,
     "metadata": {},
     "output_type": "execute_result"
    }
   ],
   "source": [
    "probabilities = clf.predict_proba(X_test)[:,1]\n",
    "probabilities"
   ]
  },
  {
   "cell_type": "code",
   "execution_count": 21,
   "metadata": {
    "ExecuteTime": {
     "end_time": "2021-03-03T18:32:31.922579Z",
     "start_time": "2021-03-03T18:32:31.861616Z"
    },
    "scrolled": true
   },
   "outputs": [
    {
     "data": {
      "text/plain": [
       "[0, 1, 1, 0, 1, 0, 0, 0, 1, 0]"
      ]
     },
     "execution_count": 21,
     "metadata": {},
     "output_type": "execute_result"
    }
   ],
   "source": [
    "y_pred = [1 if i > .5 else 0 for i in probabilities] # '.5' representa el threshold\n",
    "y_pred[:10]"
   ]
  },
  {
   "cell_type": "code",
   "execution_count": 22,
   "metadata": {
    "ExecuteTime": {
     "end_time": "2021-03-03T18:32:32.032511Z",
     "start_time": "2021-03-03T18:32:31.953560Z"
    },
    "scrolled": true
   },
   "outputs": [
    {
     "name": "stdout",
     "output_type": "stream",
     "text": [
      "Confusion matrix:\n",
      " [[444 281]\n",
      " [324 451]]\n",
      "Normalized confusion matrix:\n",
      " [[0.61241379 0.38758621]\n",
      " [0.41806452 0.58193548]] \n",
      "\n",
      "              precision    recall  f1-score   support\n",
      "\n",
      "     on-time       0.58      0.61      0.59       725\n",
      "     delayed       0.62      0.58      0.60       775\n",
      "\n",
      "    accuracy                           0.60      1500\n",
      "   macro avg       0.60      0.60      0.60      1500\n",
      "weighted avg       0.60      0.60      0.60      1500\n",
      "\n",
      "F-beta (ß=2) =  0.588\n",
      "F1 =            0.599\n",
      "Recall =        0.582\n",
      "Precision =     0.616\n",
      "Accuracy =      0.597\n"
     ]
    }
   ],
   "source": [
    "clf_metrics(clf, y_test, y_pred)"
   ]
  },
  {
   "cell_type": "code",
   "execution_count": 23,
   "metadata": {
    "ExecuteTime": {
     "end_time": "2021-03-03T18:32:32.078482Z",
     "start_time": "2021-03-03T18:32:32.045503Z"
    }
   },
   "outputs": [],
   "source": [
    "fpr, tpr, _ = roc_curve(y_test,  probabilities)\n",
    "auc = roc_auc_score(y_test, probabilities)"
   ]
  },
  {
   "cell_type": "code",
   "execution_count": 24,
   "metadata": {
    "ExecuteTime": {
     "end_time": "2021-03-03T18:32:33.323709Z",
     "start_time": "2021-03-03T18:32:32.084479Z"
    },
    "scrolled": false
   },
   "outputs": [
    {
     "data": {
      "text/plain": [
       "<matplotlib.legend.Legend at 0x208d5ecc820>"
      ]
     },
     "execution_count": 24,
     "metadata": {},
     "output_type": "execute_result"
    },
    {
     "data": {
      "image/png": "[encoded data removed]",
      "text/plain": [
       "<Figure size 432x432 with 1 Axes>"
      ]
     },
     "metadata": {},
     "output_type": "display_data"
    }
   ],
   "source": [
    "# Plot the figure:\n",
    "fig, ax = plt.subplots(figsize=(6,6))\n",
    "\n",
    "plot_roc_curve(clf, X_test, y_test, color='blue', ax=ax, name='XGBoost_test')\n",
    "plt.plot([0,1], [0,1], color='orange', linestyle='--')\n",
    "\n",
    "plt.xticks(np.arange(0.0, 1.1, step=0.1))\n",
    "plt.xlabel(\"fpr\", fontsize=15)\n",
    "\n",
    "plt.yticks(np.arange(0.0, 1.1, step=0.1))\n",
    "plt.ylabel(\"tpr\", fontsize=15)\n",
    "\n",
    "plt.title('ROC Curve Analysis', fontweight='bold', fontsize=15)\n",
    "plt.legend(prop={'size':13}, loc='lower right')"
   ]
  },
  {
   "cell_type": "markdown",
   "metadata": {},
   "source": [
    "### Validation"
   ]
  },
  {
   "cell_type": "code",
   "execution_count": 25,
   "metadata": {
    "ExecuteTime": {
     "end_time": "2021-03-03T18:32:33.371679Z",
     "start_time": "2021-03-03T18:32:33.327708Z"
    }
   },
   "outputs": [
    {
     "data": {
      "text/plain": [
       "array([0.19354649, 0.53022325, 0.5825815 , ..., 0.53383446, 0.26813018,\n",
       "       0.5453111 ], dtype=float32)"
      ]
     },
     "execution_count": 25,
     "metadata": {},
     "output_type": "execute_result"
    }
   ],
   "source": [
    "probabilities_val = clf.predict_proba(X_valid)[:,1]\n",
    "probabilities_val"
   ]
  },
  {
   "cell_type": "code",
   "execution_count": 26,
   "metadata": {
    "ExecuteTime": {
     "end_time": "2021-03-03T18:32:33.403659Z",
     "start_time": "2021-03-03T18:32:33.375676Z"
    },
    "scrolled": true
   },
   "outputs": [
    {
     "data": {
      "text/plain": [
       "[0, 1, 1, 1, 1, 0, 1, 1, 1, 1]"
      ]
     },
     "execution_count": 26,
     "metadata": {},
     "output_type": "execute_result"
    }
   ],
   "source": [
    "y_val_pred = [1 if i > .5 else 0 for i in probabilities_val] # '.5' representa el threshold\n",
    "y_val_pred[:10]"
   ]
  },
  {
   "cell_type": "code",
   "execution_count": 27,
   "metadata": {
    "ExecuteTime": {
     "end_time": "2021-03-03T18:32:33.483611Z",
     "start_time": "2021-03-03T18:32:33.408656Z"
    },
    "scrolled": true
   },
   "outputs": [
    {
     "name": "stdout",
     "output_type": "stream",
     "text": [
      "Confusion matrix:\n",
      " [[445 311]\n",
      " [314 430]]\n",
      "Normalized confusion matrix:\n",
      " [[0.58862434 0.41137566]\n",
      " [0.42204301 0.57795699]] \n",
      "\n",
      "              precision    recall  f1-score   support\n",
      "\n",
      "     on-time       0.59      0.59      0.59       756\n",
      "     delayed       0.58      0.58      0.58       744\n",
      "\n",
      "    accuracy                           0.58      1500\n",
      "   macro avg       0.58      0.58      0.58      1500\n",
      "weighted avg       0.58      0.58      0.58      1500\n",
      "\n",
      "F-beta (ß=2) =  0.578\n",
      "F1 =            0.579\n",
      "Recall =        0.578\n",
      "Precision =     0.580\n",
      "Accuracy =      0.583\n"
     ]
    }
   ],
   "source": [
    "clf_metrics(clf, y_valid, y_val_pred)"
   ]
  },
  {
   "cell_type": "code",
   "execution_count": 28,
   "metadata": {
    "ExecuteTime": {
     "end_time": "2021-03-03T18:32:33.515590Z",
     "start_time": "2021-03-03T18:32:33.487609Z"
    }
   },
   "outputs": [],
   "source": [
    "fpr, tpr, _ = roc_curve(y_valid,  probabilities_val)\n",
    "auc = roc_auc_score(y_valid, probabilities_val)"
   ]
  },
  {
   "cell_type": "code",
   "execution_count": 29,
   "metadata": {
    "ExecuteTime": {
     "end_time": "2021-03-03T18:32:34.143200Z",
     "start_time": "2021-03-03T18:32:33.519588Z"
    },
    "scrolled": false
   },
   "outputs": [
    {
     "data": {
      "text/plain": [
       "<matplotlib.legend.Legend at 0x208d5fa4c70>"
      ]
     },
     "execution_count": 29,
     "metadata": {},
     "output_type": "execute_result"
    },
    {
     "data": {
      "image/png": "[encoded data removed]",
      "text/plain": [
       "<Figure size 432x432 with 1 Axes>"
      ]
     },
     "metadata": {},
     "output_type": "display_data"
    }
   ],
   "source": [
    "# Plot the figure:\n",
    "fig, ax = plt.subplots(figsize=(6,6))\n",
    "\n",
    "plot_roc_curve(clf, X_valid, y_valid, color='red', ax=ax, name='XGBoost_valid')\n",
    "plt.plot([0,1], [0,1], color='orange', linestyle='--')\n",
    "\n",
    "plt.xticks(np.arange(0.0, 1.1, step=0.1))\n",
    "plt.xlabel(\"fpr\", fontsize=15)\n",
    "\n",
    "plt.yticks(np.arange(0.0, 1.1, step=0.1))\n",
    "plt.ylabel(\"tpr\", fontsize=15)\n",
    "\n",
    "plt.title('ROC Curve Analysis', fontweight='bold', fontsize=15)\n",
    "plt.legend(prop={'size':13}, loc='lower right')"
   ]
  },
  {
   "cell_type": "markdown",
   "metadata": {},
   "source": [
    "### Comparison"
   ]
  },
  {
   "cell_type": "code",
   "execution_count": 30,
   "metadata": {
    "ExecuteTime": {
     "end_time": "2021-03-03T18:32:34.270123Z",
     "start_time": "2021-03-03T18:32:34.148198Z"
    }
   },
   "outputs": [
    {
     "name": "stdout",
     "output_type": "stream",
     "text": [
      "TEST dataset results\n",
      "Confusion matrix:\n",
      " [[444 281]\n",
      " [324 451]]\n",
      "Normalized confusion matrix:\n",
      " [[0.61241379 0.38758621]\n",
      " [0.41806452 0.58193548]] \n",
      "\n",
      "              precision    recall  f1-score   support\n",
      "\n",
      "     on-time       0.58      0.61      0.59       725\n",
      "     delayed       0.62      0.58      0.60       775\n",
      "\n",
      "    accuracy                           0.60      1500\n",
      "   macro avg       0.60      0.60      0.60      1500\n",
      "weighted avg       0.60      0.60      0.60      1500\n",
      "\n",
      "F-beta (ß=2) =  0.588\n",
      "F1 =            0.599\n",
      "Recall =        0.582\n",
      "Precision =     0.616\n",
      "Accuracy =      0.597\n",
      "--------------------------------------------------\n",
      "VALIDATION dataset results\n",
      "Confusion matrix:\n",
      " [[445 311]\n",
      " [314 430]]\n",
      "Normalized confusion matrix:\n",
      " [[0.58862434 0.41137566]\n",
      " [0.42204301 0.57795699]] \n",
      "\n",
      "              precision    recall  f1-score   support\n",
      "\n",
      "     on-time       0.59      0.59      0.59       756\n",
      "     delayed       0.58      0.58      0.58       744\n",
      "\n",
      "    accuracy                           0.58      1500\n",
      "   macro avg       0.58      0.58      0.58      1500\n",
      "weighted avg       0.58      0.58      0.58      1500\n",
      "\n",
      "F-beta (ß=2) =  0.578\n",
      "F1 =            0.579\n",
      "Recall =        0.578\n",
      "Precision =     0.580\n",
      "Accuracy =      0.583\n"
     ]
    }
   ],
   "source": [
    "print(\"TEST dataset results\")\n",
    "clf_metrics(clf, y_test, y_pred)\n",
    "print(\"-\"*50)\n",
    "print(\"VALIDATION dataset results\")\n",
    "clf_metrics(clf, y_valid, y_val_pred)"
   ]
  },
  {
   "cell_type": "code",
   "execution_count": 31,
   "metadata": {
    "ExecuteTime": {
     "end_time": "2021-03-03T18:32:35.224199Z",
     "start_time": "2021-03-03T18:32:34.275120Z"
    }
   },
   "outputs": [
    {
     "data": {
      "text/plain": [
       "<matplotlib.legend.Legend at 0x208d6059190>"
      ]
     },
     "execution_count": 31,
     "metadata": {},
     "output_type": "execute_result"
    },
    {
     "data": {
      "image/png": "[encoded data removed]",
      "text/plain": [
       "<Figure size 432x432 with 1 Axes>"
      ]
     },
     "metadata": {},
     "output_type": "display_data"
    }
   ],
   "source": [
    "# Plot the figure:\n",
    "fig, ax = plt.subplots(figsize=(6,6))\n",
    "\n",
    "plot_roc_curve(clf, X_valid, y_valid, color='red', ax=ax, name='XGBoost_valid')\n",
    "plot_roc_curve(clf, X_test, y_test, color='blue', ax=ax, name='XGBoost_test')\n",
    "plt.plot([0,1], [0,1], color='orange', linestyle='--')\n",
    "\n",
    "plt.xticks(np.arange(0.0, 1.1, step=0.1))\n",
    "plt.xlabel(\"fpr\", fontsize=15)\n",
    "\n",
    "plt.yticks(np.arange(0.0, 1.1, step=0.1))\n",
    "plt.ylabel(\"tpr\", fontsize=15)\n",
    "\n",
    "plt.title('ROC Curve Analysis', fontweight='bold', fontsize=15)\n",
    "plt.legend(prop={'size':13}, loc='lower right')"
   ]
  },
  {
   "cell_type": "markdown",
   "metadata": {},
   "source": [
    "___"
   ]
  },
  {
   "cell_type": "code",
   "execution_count": 32,
   "metadata": {
    "ExecuteTime": {
     "end_time": "2021-03-03T18:32:35.286163Z",
     "start_time": "2021-03-03T18:32:35.229196Z"
    }
   },
   "outputs": [
    {
     "name": "stdout",
     "output_type": "stream",
     "text": [
      "Time elapsed:  0h  2min 15s\n"
     ]
    }
   ],
   "source": [
    "t1 = time.perf_counter() - t0\n",
    "print(\"Time elapsed: {:2.0f}h {:2.0f}min {:2.0f}s\".format(t1//3600, (t1%3600)//60, (t1%3600)%60))"
   ]
  },
  {
   "cell_type": "raw",
   "metadata": {},
   "source": [
    "Time elapsed:  0h  2min 15s"
   ]
  },
  {
   "cell_type": "markdown",
   "metadata": {},
   "source": [
    "___"
   ]
  }
 ],
 "metadata": {
  "hide_input": false,
  "kernelspec": {
   "display_name": "Python 3",
   "language": "python",
   "name": "python3"
  },
  "language_info": {
   "codemirror_mode": {
    "name": "ipython",
    "version": 3
   },
   "file_extension": ".py",
   "mimetype": "text/x-python",
   "name": "python",
   "nbconvert_exporter": "python",
   "pygments_lexer": "ipython3",
   "version": "3.8.5"
  },
  "toc": {
   "base_numbering": 1,
   "nav_menu": {},
   "number_sections": true,
   "sideBar": true,
   "skip_h1_title": false,
   "title_cell": "Table of Contents",
   "title_sidebar": "Contents",
   "toc_cell": false,
   "toc_position": {
    "height": "calc(100% - 180px)",
    "left": "10px",
    "top": "150px",
    "width": "384px"
   },
   "toc_section_display": true,
   "toc_window_display": true
  },
  "varInspector": {
   "cols": {
    "lenName": 16,
    "lenType": 16,
    "lenVar": 40
   },
   "kernels_config": {
    "python": {
     "delete_cmd_postfix": "",
     "delete_cmd_prefix": "del ",
     "library": "var_list.py",
     "varRefreshCmd": "print(var_dic_list())"
    },
    "r": {
     "delete_cmd_postfix": ") ",
     "delete_cmd_prefix": "rm(",
     "library": "var_list.r",
     "varRefreshCmd": "cat(var_dic_list()) "
    }
   },
   "position": {
    "height": "829px",
    "left": "1550px",
    "right": "20px",
    "top": "113px",
    "width": "347px"
   },
   "types_to_exclude": [
    "module",
    "function",
    "builtin_function_or_method",
    "instance",
    "_Feature"
   ],
   "window_display": true
  }
 },
 "nbformat": 4,
 "nbformat_minor": 4
}
