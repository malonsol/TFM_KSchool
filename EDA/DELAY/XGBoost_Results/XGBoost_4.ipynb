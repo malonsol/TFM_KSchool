{
 "cells": [
  {
   "cell_type": "markdown",
   "metadata": {},
   "source": [
    "___"
   ]
  },
  {
   "cell_type": "code",
   "execution_count": 1,
   "metadata": {
    "ExecuteTime": {
     "end_time": "2021-01-31T21:40:31.006481Z",
     "start_time": "2021-01-31T21:40:27.592051Z"
    }
   },
   "outputs": [],
   "source": [
    "# Import libraries to be used\n",
    "\n",
    "# Warning messages display\n",
    "# import warnings\n",
    "# warnings.filterwarnings(action='once') # https://docs.python.org/3/library/warnings.html#the-warnings-filter\n",
    "\n",
    "# Directories/Files management\n",
    "import os.path\n",
    "## from zipfile import ZipFile # De momento no ha hecho falta \n",
    "\n",
    "# Timing\n",
    "import time\n",
    "\n",
    "# Data analysis and wrangling\n",
    "import pandas as pd\n",
    "import numpy as np\n",
    "pd.set_option('display.max_columns', None) # Show all columns in DataFrames\n",
    "pd.set_option('display.max_rows', 100) # If too high, it greatly slows down the output display and freezes the kernel\n",
    "\n",
    "\n",
    "# Visualization\n",
    "import matplotlib.pyplot as plt\n",
    "import seaborn as sns\n",
    "%matplotlib inline\n",
    "plt.style.use('ggplot') # choose a style: 'plt.style.available'\n",
    "sns.set_theme(context='notebook',\n",
    "              style=\"darkgrid\") # {darkgrid, whitegrid, dark, white, ticks}\n",
    "palette = sns.color_palette(\"flare\", as_cmap=True);\n",
    "import altair as alt\n",
    "\n",
    "# Machine Learning\n",
    "## from sklearn.[...] import ..."
   ]
  },
  {
   "cell_type": "code",
   "execution_count": 2,
   "metadata": {
    "ExecuteTime": {
     "end_time": "2021-01-31T21:40:31.068445Z",
     "start_time": "2021-01-31T21:40:31.010479Z"
    }
   },
   "outputs": [],
   "source": [
    "%load_ext memory_profiler"
   ]
  },
  {
   "cell_type": "code",
   "execution_count": 3,
   "metadata": {
    "ExecuteTime": {
     "end_time": "2021-01-31T21:40:31.083436Z",
     "start_time": "2021-01-31T21:40:31.074439Z"
    }
   },
   "outputs": [],
   "source": [
    "t0 = time.perf_counter() "
   ]
  },
  {
   "cell_type": "code",
   "execution_count": 4,
   "metadata": {
    "ExecuteTime": {
     "end_time": "2021-01-31T21:40:31.114414Z",
     "start_time": "2021-01-31T21:40:31.087433Z"
    }
   },
   "outputs": [
    {
     "name": "stdout",
     "output_type": "stream",
     "text": [
      "Running on Windows.\n",
      "root path\t C:\\Users\\turge\\CompartidoVM\\0.TFM\n"
     ]
    }
   ],
   "source": [
    "# Detect Operating System running and manage paths accordingly\n",
    "\n",
    "if os.name == 'nt': # Windows\n",
    "    root = r\"C:\\Users\\turge\\CompartidoVM\\0.TFM\"\n",
    "    print(\"Running on Windows.\")\n",
    "elif os.name == 'posix': # Ubuntu\n",
    "    root = \"/home/dsc/shared/0.TFM\"\n",
    "    print(\"Running on Ubuntu.\")\n",
    "print(\"root path\\t\", root)"
   ]
  },
  {
   "cell_type": "markdown",
   "metadata": {},
   "source": [
    "___"
   ]
  },
  {
   "cell_type": "markdown",
   "metadata": {},
   "source": [
    "## 1. Load the dataset"
   ]
  },
  {
   "cell_type": "code",
   "execution_count": 5,
   "metadata": {
    "ExecuteTime": {
     "end_time": "2021-01-31T21:40:31.144317Z",
     "start_time": "2021-01-31T21:40:31.120412Z"
    }
   },
   "outputs": [],
   "source": [
    "cols = [\n",
    "     'MONTH',\n",
    "     'DAY_OF_MONTH',\n",
    "     'DAY_OF_WEEK',\n",
    "     'OP_UNIQUE_CARRIER',\n",
    "# For the time being, 'TAIL_NUM' will be disregarded due to its high cardinality  (~ 4500) and low expected added value    \n",
    "#      'TAIL_NUM',\n",
    "     'ORIGIN',\n",
    "     'DEST',\n",
    "#      'CRS_DEP_TIME', # Redundant having the 'DEP_ARR_hour' feature\n",
    "     'DEP_TIME_hour',\n",
    "#      'DEP_TIME',\n",
    "#      'DEP_DELAY',\n",
    "#      'DEP_DEL15',\n",
    "#      'TAXI_OUT',\n",
    "     'TAXI_OUT_median',\n",
    "#      'TAXI_IN',\n",
    "     'TAXI_IN_median',\n",
    "#      'CRS_ARR_TIME', # Redundant having the 'ARR_ARR_hour' feature\n",
    "     'ARR_TIME_hour', \n",
    "#      'ARR_TIME',   \n",
    "#      'ARR_DELAY',\n",
    "     'ARR_DEL15', # → Target !!\n",
    "#      'CANCELLED',\n",
    "     'CRS_ELAPSED_TIME',\n",
    "     'DISTANCE',\n",
    "     'DISTANCE_GROUP',\n",
    "#      'CARRIER_DELAY',\n",
    "#      'WEATHER_DELAY',\n",
    "#      'NAS_DELAY',\n",
    "#      'SECURITY_DELAY',\n",
    "#      'LATE_AIRCRAFT_DELAY',\n",
    "]"
   ]
  },
  {
   "cell_type": "code",
   "execution_count": 6,
   "metadata": {
    "ExecuteTime": {
     "end_time": "2021-01-31T21:40:31.176299Z",
     "start_time": "2021-01-31T21:40:31.147317Z"
    },
    "scrolled": false
   },
   "outputs": [
    {
     "data": {
      "text/plain": [
       "'C:\\\\Users\\\\turge\\\\CompartidoVM\\\\0.TFM\\\\Output_Data\\\\US_DoT\\\\AL_OTP_MVP_Preprocessed_19_v2_clean.csv'"
      ]
     },
     "execution_count": 6,
     "metadata": {},
     "output_type": "execute_result"
    }
   ],
   "source": [
    "preprocessed_input_csv_path = os.path.join(root,\n",
    "                                           \"Output_Data\",\n",
    "                                           \"US_DoT\",\n",
    "                                           \"AL_OTP_MVP_Preprocessed_19_v2_clean.csv\")\n",
    "preprocessed_input_csv_path"
   ]
  },
  {
   "cell_type": "code",
   "execution_count": 7,
   "metadata": {
    "ExecuteTime": {
     "end_time": "2021-01-31T21:40:31.208284Z",
     "start_time": "2021-01-31T21:40:31.185294Z"
    }
   },
   "outputs": [],
   "source": [
    "cols_dtypes = {\n",
    "               'MONTH' : 'category',\n",
    "               'DAY_OF_MONTH' : 'category',\n",
    "               'DAY_OF_WEEK' : 'category',\n",
    "               'OP_UNIQUE_CARRIER' : 'category',\n",
    "               'ORIGIN' : 'category',\n",
    "               'DEST' : 'category',\n",
    "               'DEP_TIME_hour' : 'category',\n",
    "               'TAXI_OUT_median' : 'int64',\n",
    "               'TAXI_IN_median' : 'int64',\n",
    "               'ARR_TIME_hour' : 'category', \n",
    "               'ARR_DEL15' : 'int32', # → Target !!\n",
    "               'CRS_ELAPSED_TIME' : 'int64',\n",
    "               'DISTANCE' : 'int64',\n",
    "               'DISTANCE_GROUP' : 'category'\n",
    "               }"
   ]
  },
  {
   "cell_type": "code",
   "execution_count": 8,
   "metadata": {
    "ExecuteTime": {
     "end_time": "2021-01-31T21:41:20.695947Z",
     "start_time": "2021-01-31T21:40:31.214276Z"
    },
    "scrolled": true
   },
   "outputs": [
    {
     "name": "stdout",
     "output_type": "stream",
     "text": [
      "Wall time: 49.5 s\n"
     ]
    }
   ],
   "source": [
    "%%time\n",
    "\n",
    "df_all = pd.read_csv(preprocessed_input_csv_path,\n",
    "                     encoding='latin1',\n",
    "                     usecols=cols,\n",
    "                     low_memory = False)"
   ]
  },
  {
   "cell_type": "code",
   "execution_count": 9,
   "metadata": {
    "ExecuteTime": {
     "end_time": "2021-01-31T21:41:28.771898Z",
     "start_time": "2021-01-31T21:41:20.711938Z"
    }
   },
   "outputs": [
    {
     "data": {
      "text/html": [
       "<div>\n",
       "<style scoped>\n",
       "    .dataframe tbody tr th:only-of-type {\n",
       "        vertical-align: middle;\n",
       "    }\n",
       "\n",
       "    .dataframe tbody tr th {\n",
       "        vertical-align: top;\n",
       "    }\n",
       "\n",
       "    .dataframe thead th {\n",
       "        text-align: right;\n",
       "    }\n",
       "</style>\n",
       "<table border=\"1\" class=\"dataframe\">\n",
       "  <thead>\n",
       "    <tr style=\"text-align: right;\">\n",
       "      <th></th>\n",
       "      <th>MONTH</th>\n",
       "      <th>DAY_OF_MONTH</th>\n",
       "      <th>DAY_OF_WEEK</th>\n",
       "      <th>OP_UNIQUE_CARRIER</th>\n",
       "      <th>ORIGIN</th>\n",
       "      <th>DEST</th>\n",
       "      <th>DEP_TIME_hour</th>\n",
       "      <th>TAXI_OUT_median</th>\n",
       "      <th>TAXI_IN_median</th>\n",
       "      <th>ARR_TIME_hour</th>\n",
       "      <th>ARR_DEL15</th>\n",
       "      <th>CRS_ELAPSED_TIME</th>\n",
       "      <th>DISTANCE</th>\n",
       "      <th>DISTANCE_GROUP</th>\n",
       "    </tr>\n",
       "  </thead>\n",
       "  <tbody>\n",
       "    <tr>\n",
       "      <th>0</th>\n",
       "      <td>1</td>\n",
       "      <td>3</td>\n",
       "      <td>4</td>\n",
       "      <td>9E</td>\n",
       "      <td>TYS</td>\n",
       "      <td>ATL</td>\n",
       "      <td>11</td>\n",
       "      <td>15</td>\n",
       "      <td>8</td>\n",
       "      <td>12</td>\n",
       "      <td>1</td>\n",
       "      <td>70</td>\n",
       "      <td>152</td>\n",
       "      <td>1</td>\n",
       "    </tr>\n",
       "    <tr>\n",
       "      <th>1</th>\n",
       "      <td>1</td>\n",
       "      <td>4</td>\n",
       "      <td>5</td>\n",
       "      <td>9E</td>\n",
       "      <td>TYS</td>\n",
       "      <td>ATL</td>\n",
       "      <td>11</td>\n",
       "      <td>15</td>\n",
       "      <td>8</td>\n",
       "      <td>12</td>\n",
       "      <td>1</td>\n",
       "      <td>70</td>\n",
       "      <td>152</td>\n",
       "      <td>1</td>\n",
       "    </tr>\n",
       "    <tr>\n",
       "      <th>2</th>\n",
       "      <td>1</td>\n",
       "      <td>5</td>\n",
       "      <td>6</td>\n",
       "      <td>9E</td>\n",
       "      <td>ATL</td>\n",
       "      <td>SGF</td>\n",
       "      <td>9</td>\n",
       "      <td>17</td>\n",
       "      <td>5</td>\n",
       "      <td>10</td>\n",
       "      <td>0</td>\n",
       "      <td>121</td>\n",
       "      <td>563</td>\n",
       "      <td>3</td>\n",
       "    </tr>\n",
       "    <tr>\n",
       "      <th>3</th>\n",
       "      <td>1</td>\n",
       "      <td>6</td>\n",
       "      <td>7</td>\n",
       "      <td>9E</td>\n",
       "      <td>ATL</td>\n",
       "      <td>SGF</td>\n",
       "      <td>9</td>\n",
       "      <td>17</td>\n",
       "      <td>5</td>\n",
       "      <td>10</td>\n",
       "      <td>0</td>\n",
       "      <td>123</td>\n",
       "      <td>563</td>\n",
       "      <td>3</td>\n",
       "    </tr>\n",
       "    <tr>\n",
       "      <th>4</th>\n",
       "      <td>1</td>\n",
       "      <td>7</td>\n",
       "      <td>1</td>\n",
       "      <td>9E</td>\n",
       "      <td>ATL</td>\n",
       "      <td>SGF</td>\n",
       "      <td>9</td>\n",
       "      <td>17</td>\n",
       "      <td>5</td>\n",
       "      <td>10</td>\n",
       "      <td>0</td>\n",
       "      <td>123</td>\n",
       "      <td>563</td>\n",
       "      <td>3</td>\n",
       "    </tr>\n",
       "    <tr>\n",
       "      <th>...</th>\n",
       "      <td>...</td>\n",
       "      <td>...</td>\n",
       "      <td>...</td>\n",
       "      <td>...</td>\n",
       "      <td>...</td>\n",
       "      <td>...</td>\n",
       "      <td>...</td>\n",
       "      <td>...</td>\n",
       "      <td>...</td>\n",
       "      <td>...</td>\n",
       "      <td>...</td>\n",
       "      <td>...</td>\n",
       "      <td>...</td>\n",
       "      <td>...</td>\n",
       "    </tr>\n",
       "    <tr>\n",
       "      <th>7268227</th>\n",
       "      <td>12</td>\n",
       "      <td>31</td>\n",
       "      <td>2</td>\n",
       "      <td>B6</td>\n",
       "      <td>MCO</td>\n",
       "      <td>SWF</td>\n",
       "      <td>13</td>\n",
       "      <td>15</td>\n",
       "      <td>6</td>\n",
       "      <td>16</td>\n",
       "      <td>1</td>\n",
       "      <td>163</td>\n",
       "      <td>989</td>\n",
       "      <td>4</td>\n",
       "    </tr>\n",
       "    <tr>\n",
       "      <th>7268228</th>\n",
       "      <td>12</td>\n",
       "      <td>31</td>\n",
       "      <td>2</td>\n",
       "      <td>B6</td>\n",
       "      <td>DCA</td>\n",
       "      <td>BOS</td>\n",
       "      <td>14</td>\n",
       "      <td>15</td>\n",
       "      <td>6</td>\n",
       "      <td>15</td>\n",
       "      <td>0</td>\n",
       "      <td>90</td>\n",
       "      <td>399</td>\n",
       "      <td>2</td>\n",
       "    </tr>\n",
       "    <tr>\n",
       "      <th>7268229</th>\n",
       "      <td>12</td>\n",
       "      <td>31</td>\n",
       "      <td>2</td>\n",
       "      <td>B6</td>\n",
       "      <td>PHL</td>\n",
       "      <td>BOS</td>\n",
       "      <td>7</td>\n",
       "      <td>17</td>\n",
       "      <td>6</td>\n",
       "      <td>8</td>\n",
       "      <td>0</td>\n",
       "      <td>85</td>\n",
       "      <td>280</td>\n",
       "      <td>2</td>\n",
       "    </tr>\n",
       "    <tr>\n",
       "      <th>7268230</th>\n",
       "      <td>12</td>\n",
       "      <td>31</td>\n",
       "      <td>2</td>\n",
       "      <td>B6</td>\n",
       "      <td>BOS</td>\n",
       "      <td>SJU</td>\n",
       "      <td>8</td>\n",
       "      <td>16</td>\n",
       "      <td>5</td>\n",
       "      <td>13</td>\n",
       "      <td>0</td>\n",
       "      <td>242</td>\n",
       "      <td>1674</td>\n",
       "      <td>7</td>\n",
       "    </tr>\n",
       "    <tr>\n",
       "      <th>7268231</th>\n",
       "      <td>12</td>\n",
       "      <td>31</td>\n",
       "      <td>2</td>\n",
       "      <td>B6</td>\n",
       "      <td>SJU</td>\n",
       "      <td>BOS</td>\n",
       "      <td>0</td>\n",
       "      <td>11</td>\n",
       "      <td>6</td>\n",
       "      <td>7</td>\n",
       "      <td>0</td>\n",
       "      <td>249</td>\n",
       "      <td>1674</td>\n",
       "      <td>7</td>\n",
       "    </tr>\n",
       "  </tbody>\n",
       "</table>\n",
       "<p>7268232 rows × 14 columns</p>\n",
       "</div>"
      ],
      "text/plain": [
       "        MONTH DAY_OF_MONTH DAY_OF_WEEK OP_UNIQUE_CARRIER ORIGIN DEST  \\\n",
       "0           1            3           4                9E    TYS  ATL   \n",
       "1           1            4           5                9E    TYS  ATL   \n",
       "2           1            5           6                9E    ATL  SGF   \n",
       "3           1            6           7                9E    ATL  SGF   \n",
       "4           1            7           1                9E    ATL  SGF   \n",
       "...       ...          ...         ...               ...    ...  ...   \n",
       "7268227    12           31           2                B6    MCO  SWF   \n",
       "7268228    12           31           2                B6    DCA  BOS   \n",
       "7268229    12           31           2                B6    PHL  BOS   \n",
       "7268230    12           31           2                B6    BOS  SJU   \n",
       "7268231    12           31           2                B6    SJU  BOS   \n",
       "\n",
       "        DEP_TIME_hour  TAXI_OUT_median  TAXI_IN_median ARR_TIME_hour  \\\n",
       "0                  11               15               8            12   \n",
       "1                  11               15               8            12   \n",
       "2                   9               17               5            10   \n",
       "3                   9               17               5            10   \n",
       "4                   9               17               5            10   \n",
       "...               ...              ...             ...           ...   \n",
       "7268227            13               15               6            16   \n",
       "7268228            14               15               6            15   \n",
       "7268229             7               17               6             8   \n",
       "7268230             8               16               5            13   \n",
       "7268231             0               11               6             7   \n",
       "\n",
       "         ARR_DEL15  CRS_ELAPSED_TIME  DISTANCE DISTANCE_GROUP  \n",
       "0                1                70       152              1  \n",
       "1                1                70       152              1  \n",
       "2                0               121       563              3  \n",
       "3                0               123       563              3  \n",
       "4                0               123       563              3  \n",
       "...            ...               ...       ...            ...  \n",
       "7268227          1               163       989              4  \n",
       "7268228          0                90       399              2  \n",
       "7268229          0                85       280              2  \n",
       "7268230          0               242      1674              7  \n",
       "7268231          0               249      1674              7  \n",
       "\n",
       "[7268232 rows x 14 columns]"
      ]
     },
     "execution_count": 9,
     "metadata": {},
     "output_type": "execute_result"
    }
   ],
   "source": [
    "# Cast types in accordance to previously defined dictionary:\n",
    "df_all = df_all.astype(cols_dtypes)\n",
    "# Display DF columns according to 'cols' order:\n",
    "df_all = df_all[cols]\n",
    "df_all"
   ]
  },
  {
   "cell_type": "code",
   "execution_count": 10,
   "metadata": {
    "ExecuteTime": {
     "end_time": "2021-01-31T21:41:28.849399Z",
     "start_time": "2021-01-31T21:41:28.779894Z"
    },
    "scrolled": false
   },
   "outputs": [
    {
     "name": "stdout",
     "output_type": "stream",
     "text": [
      "<class 'pandas.core.frame.DataFrame'>\n",
      "RangeIndex: 7268232 entries, 0 to 7268231\n",
      "Data columns (total 14 columns):\n",
      " #   Column             Dtype   \n",
      "---  ------             -----   \n",
      " 0   MONTH              category\n",
      " 1   DAY_OF_MONTH       category\n",
      " 2   DAY_OF_WEEK        category\n",
      " 3   OP_UNIQUE_CARRIER  category\n",
      " 4   ORIGIN             category\n",
      " 5   DEST               category\n",
      " 6   DEP_TIME_hour      category\n",
      " 7   TAXI_OUT_median    int64   \n",
      " 8   TAXI_IN_median     int64   \n",
      " 9   ARR_TIME_hour      category\n",
      " 10  ARR_DEL15          int32   \n",
      " 11  CRS_ELAPSED_TIME   int64   \n",
      " 12  DISTANCE           int64   \n",
      " 13  DISTANCE_GROUP     category\n",
      "dtypes: category(9), int32(1), int64(4)\n",
      "memory usage: 325.8 MB\n"
     ]
    }
   ],
   "source": [
    "df_all.info()"
   ]
  },
  {
   "cell_type": "code",
   "execution_count": 11,
   "metadata": {
    "ExecuteTime": {
     "end_time": "2021-01-31T21:41:28.879909Z",
     "start_time": "2021-01-31T21:41:28.859922Z"
    }
   },
   "outputs": [],
   "source": [
    "# from pandas_profiling import ProfileReport\n",
    "\n",
    "# # # Complete report:\n",
    "# # prof = ProfileReport(df_all)\n",
    "# # prof.to_file('informe.html')\n",
    "\n",
    "# # Sample report (more computationally efficient)\n",
    "# prof = ProfileReport(df_all.sample(10000)) \n",
    "# prof.to_file('sample_report.html')"
   ]
  },
  {
   "cell_type": "code",
   "execution_count": 12,
   "metadata": {
    "ExecuteTime": {
     "end_time": "2021-01-31T21:41:28.895415Z",
     "start_time": "2021-01-31T21:41:28.887427Z"
    }
   },
   "outputs": [],
   "source": [
    "# from pandas_profiling import ProfileReport\n",
    "\n",
    "# # Complete report:\n",
    "# prof = ProfileReport(df_all, minimal=True)\n",
    "# prof.to_file('complete_report.html')\n",
    "\n",
    "# # # Sample report (more computationally efficient)\n",
    "# # prof = ProfileReport(df_all.sample(10000)) \n",
    "# # prof.to_file('sample_report.html')"
   ]
  },
  {
   "cell_type": "markdown",
   "metadata": {},
   "source": [
    "## 2. Dataset overview"
   ]
  },
  {
   "cell_type": "code",
   "execution_count": 13,
   "metadata": {
    "ExecuteTime": {
     "end_time": "2021-01-31T21:41:30.977960Z",
     "start_time": "2021-01-31T21:41:28.908405Z"
    }
   },
   "outputs": [
    {
     "name": "stdout",
     "output_type": "stream",
     "text": [
      "On-time flights:    8071 (80.71%)\n",
      "Delayed flights:    1929 (19.29%)\n"
     ]
    }
   ],
   "source": [
    "# For the initial runs, define a reasonably-sized sample:\n",
    "sample_length = int(1e4)\n",
    "\n",
    "# # The dataset is somehow imbalanced (80% on-time / 20% delayed), so let's perform some quick undersampling:\n",
    "# delayed = df_all[df_all['ARR_DEL15'] == 1].sample(sample_length // 2)\n",
    "# ontime = df_all[df_all['ARR_DEL15'] == 0].sample(sample_length // 2)\n",
    "# df = delayed.append(ontime)\n",
    "\n",
    "# Although the dataset is somehow imbalanced (80% on-time / 20% delayed), let's try to keep it as is for this test:\n",
    "df = df_all.sample(sample_length)\n",
    "\n",
    "# Get dummies for the categorical features:\n",
    "df = pd.get_dummies(df)\n",
    "\n",
    "print(\"On-time flights: {:7d} ({:5.2f}%)\".format(len(df[df['ARR_DEL15'] == 0]), 100*len(df[df['ARR_DEL15'] == 0])/len(df)))\n",
    "print(\"Delayed flights: {:7d} ({:5.2f}%)\".format(len(df[df['ARR_DEL15'] == 1]), 100*len(df[df['ARR_DEL15'] == 1])/len(df)))"
   ]
  },
  {
   "cell_type": "markdown",
   "metadata": {},
   "source": [
    "### Train / Test / Validation split\n",
    "Break the dataset into three blocks:\n",
    "1. Training (70%)\n",
    "2. Test (15%)\n",
    "3. Validation (15%)"
   ]
  },
  {
   "cell_type": "code",
   "execution_count": 14,
   "metadata": {
    "ExecuteTime": {
     "end_time": "2021-01-31T21:41:31.211817Z",
     "start_time": "2021-01-31T21:41:30.987954Z"
    },
    "scrolled": true
   },
   "outputs": [
    {
     "name": "stdout",
     "output_type": "stream",
     "text": [
      "Total dataset:        10000 (100.00%)\n",
      "Training dataset:      7000 ( 70.00%)\n",
      "Test dataset:          1500 ( 15.00%)\n",
      "Validation dataset:    1500 ( 15.00%)\n"
     ]
    }
   ],
   "source": [
    "# Divide the data:\n",
    "train = df.sample(frac=0.7)\n",
    "test_valid = df.drop(train.index)\n",
    "test = test_valid.sample(frac=0.5)\n",
    "valid = test_valid.drop(test.index)\n",
    "\n",
    "print(\"Total dataset:      {:7d} ({:6.2f}%)\".format(len(df), 100*len(df)/len(df)))\n",
    "print(\"Training dataset:   {:7d} ( {:5.2f}%)\".format(len(train), 100*len(train)/len(df)))\n",
    "print(\"Test dataset:       {:7d} ( {:5.2f}%)\".format(len(test), 100*len(test)/len(df)))\n",
    "print(\"Validation dataset: {:7d} ( {:5.2f}%)\".format(len(valid), 100*len(valid)/len(df)))"
   ]
  },
  {
   "cell_type": "markdown",
   "metadata": {},
   "source": [
    "# XGBoost"
   ]
  },
  {
   "cell_type": "code",
   "execution_count": 15,
   "metadata": {
    "ExecuteTime": {
     "end_time": "2021-01-31T21:41:35.124540Z",
     "start_time": "2021-01-31T21:41:31.214814Z"
    }
   },
   "outputs": [],
   "source": [
    "from xgboost import XGBClassifier"
   ]
  },
  {
   "cell_type": "code",
   "execution_count": 16,
   "metadata": {
    "ExecuteTime": {
     "end_time": "2021-01-31T21:41:35.173885Z",
     "start_time": "2021-01-31T21:41:35.128537Z"
    }
   },
   "outputs": [],
   "source": [
    "# Train / Test partition:\n",
    "X_train, y_train = train.drop(\"ARR_DEL15\", axis=1), train[\"ARR_DEL15\"]\n",
    "X_test, y_test = test.drop(\"ARR_DEL15\", axis=1), test[\"ARR_DEL15\"]\n",
    "\n",
    "# Validation:\n",
    "X_valid, y_valid = valid.drop(\"ARR_DEL15\", axis=1), valid[\"ARR_DEL15\"]"
   ]
  },
  {
   "cell_type": "code",
   "execution_count": 17,
   "metadata": {
    "ExecuteTime": {
     "end_time": "2021-01-31T21:41:35.222857Z",
     "start_time": "2021-01-31T21:41:35.189879Z"
    }
   },
   "outputs": [],
   "source": [
    "# Basic model definition:\n",
    "xgb_model = XGBClassifier(use_label_encoder=False, verbosity=1, random_state=0)"
   ]
  },
  {
   "cell_type": "markdown",
   "metadata": {},
   "source": [
    "## GridSearchCV"
   ]
  },
  {
   "cell_type": "code",
   "execution_count": 18,
   "metadata": {
    "ExecuteTime": {
     "end_time": "2021-01-31T21:41:35.249843Z",
     "start_time": "2021-01-31T21:41:35.232854Z"
    }
   },
   "outputs": [],
   "source": [
    "# Parameter grid:\n",
    "parameters = {\n",
    "            \"n_estimators\":[100, 200, 300, 400, 500],\n",
    "            \"max_depth\": [4, 5, 6],\n",
    "            \"learning_rate\":[0.0001, 0.001, 0.01, 0.1],\n",
    "            \"objective\": [\"binary:logistic\"],\n",
    "            \"booster\":[\"gbtree\"],\n",
    "            \"tree_method\":['auto']\n",
    "             }"
   ]
  },
  {
   "cell_type": "code",
   "execution_count": 19,
   "metadata": {
    "ExecuteTime": {
     "end_time": "2021-01-31T22:06:43.058878Z",
     "start_time": "2021-01-31T21:41:35.264831Z"
    },
    "scrolled": false
   },
   "outputs": [
    {
     "name": "stdout",
     "output_type": "stream",
     "text": [
      "Scorer: make_scorer(f1_score, average=binary)\n",
      "Best score: 0.10920108487654409\n",
      "Best parameters: {'tree_method': 'auto', 'objective': 'binary:logistic', 'n_estimators': 400, 'max_depth': 6, 'learning_rate': 0.1, 'booster': 'gbtree'}\n",
      "Best estimator: XGBClassifier(base_score=0.5, booster='gbtree', colsample_bylevel=1,\n",
      "              colsample_bynode=1, colsample_bytree=1, gamma=0, gpu_id=-1,\n",
      "              importance_type='gain', interaction_constraints='',\n",
      "              learning_rate=0.1, max_delta_step=0, max_depth=6,\n",
      "              min_child_weight=1, missing=nan, monotone_constraints='()',\n",
      "              n_estimators=400, n_jobs=4, num_parallel_tree=1, random_state=0,\n",
      "              reg_alpha=0, reg_lambda=1, scale_pos_weight=1, subsample=1,\n",
      "              tree_method='auto', use_label_encoder=False,\n",
      "              validate_parameters=1, verbosity=1)\n"
     ]
    }
   ],
   "source": [
    "from sklearn.model_selection import StratifiedKFold, GridSearchCV, RandomizedSearchCV\n",
    "\n",
    "# clf = GridSearchCV(xgb_model, parameters, n_jobs=5, \n",
    "#                    cv=StratifiedKFold(n_splits=5, shuffle=True), \n",
    "#                    scoring='f1', refit=True)\n",
    "\n",
    "clf = RandomizedSearchCV(xgb_model, parameters, n_jobs=5, \n",
    "                         cv=StratifiedKFold(n_splits=5, shuffle=True), \n",
    "                         scoring='f1', refit=True, n_iter=10)\n",
    "\n",
    "clf.fit(X_train, y_train, eval_metric='logloss')\n",
    "\n",
    "print(\"Scorer:\", clf.scorer_)\n",
    "print(\"Best score:\", clf.best_score_)\n",
    "print(\"Best parameters:\", clf.best_params_)\n",
    "print(\"Best estimator:\", clf.best_estimator_)\n",
    "# print(\"CV results:\", clf.cv_results_)"
   ]
  },
  {
   "cell_type": "markdown",
   "metadata": {},
   "source": [
    "## Evaluation"
   ]
  },
  {
   "cell_type": "code",
   "execution_count": 20,
   "metadata": {
    "ExecuteTime": {
     "end_time": "2021-01-31T22:06:43.074870Z",
     "start_time": "2021-01-31T22:06:43.062877Z"
    }
   },
   "outputs": [],
   "source": [
    "# Evaluate the model's metrics:\n",
    "\n",
    "from sklearn.metrics import fbeta_score, f1_score, recall_score, precision_score, accuracy_score, \\\n",
    "                            confusion_matrix, roc_curve, roc_auc_score, plot_roc_curve\n",
    "\n",
    "def clf_metrics(classifier, y_test, y_pred):\n",
    "    print(type(classifier.best_estimator_))\n",
    "    print(confusion_matrix(y_test, y_pred))\n",
    "    print(\"F-beta (ß=2) = {:6.3f}\".format(fbeta_score(y_test, y_pred, beta=2)))   \n",
    "    print(\"F1 =           {:6.3f}\".format(f1_score(y_test, y_pred)))   \n",
    "    print(\"Recall =       {:6.3f}\".format(recall_score(y_test, y_pred)))   \n",
    "    print(\"Precision =    {:6.3f}\".format(precision_score(y_test, y_pred)))   \n",
    "    print(\"Accuracy =     {:6.3f}\".format(accuracy_score(y_test, y_pred)))"
   ]
  },
  {
   "cell_type": "markdown",
   "metadata": {},
   "source": [
    "### Test"
   ]
  },
  {
   "cell_type": "code",
   "execution_count": 21,
   "metadata": {
    "ExecuteTime": {
     "end_time": "2021-01-31T22:06:43.218782Z",
     "start_time": "2021-01-31T22:06:43.079866Z"
    }
   },
   "outputs": [
    {
     "data": {
      "text/plain": [
       "array([0.08632483, 0.20534879, 0.18468735, ..., 0.20218253, 0.38793012,\n",
       "       0.21480022], dtype=float32)"
      ]
     },
     "execution_count": 21,
     "metadata": {},
     "output_type": "execute_result"
    }
   ],
   "source": [
    "probabilities = clf.predict_proba(X_test)[:,1]\n",
    "probabilities"
   ]
  },
  {
   "cell_type": "code",
   "execution_count": 22,
   "metadata": {
    "ExecuteTime": {
     "end_time": "2021-01-31T22:06:43.264751Z",
     "start_time": "2021-01-31T22:06:43.233772Z"
    },
    "scrolled": true
   },
   "outputs": [
    {
     "data": {
      "text/plain": [
       "[0, 0, 0, 0, 0, 0, 0, 0, 0, 0]"
      ]
     },
     "execution_count": 22,
     "metadata": {},
     "output_type": "execute_result"
    }
   ],
   "source": [
    "y_pred = [1 if i > .5 else 0 for i in probabilities] # '.5' representa el threshold\n",
    "y_pred[:10]"
   ]
  },
  {
   "cell_type": "code",
   "execution_count": 23,
   "metadata": {
    "ExecuteTime": {
     "end_time": "2021-01-31T22:06:43.325713Z",
     "start_time": "2021-01-31T22:06:43.272748Z"
    },
    "scrolled": true
   },
   "outputs": [
    {
     "name": "stdout",
     "output_type": "stream",
     "text": [
      "<class 'xgboost.sklearn.XGBClassifier'>\n",
      "[[1181   27]\n",
      " [ 280   12]]\n",
      "F-beta (ß=2) =  0.050\n",
      "F1 =            0.073\n",
      "Recall =        0.041\n",
      "Precision =     0.308\n",
      "Accuracy =      0.795\n"
     ]
    }
   ],
   "source": [
    "clf_metrics(clf, y_test, y_pred)"
   ]
  },
  {
   "cell_type": "code",
   "execution_count": 24,
   "metadata": {
    "ExecuteTime": {
     "end_time": "2021-01-31T22:06:43.356697Z",
     "start_time": "2021-01-31T22:06:43.329714Z"
    }
   },
   "outputs": [],
   "source": [
    "fpr, tpr, _ = roc_curve(y_test,  probabilities)\n",
    "auc = roc_auc_score(y_test, probabilities)"
   ]
  },
  {
   "cell_type": "code",
   "execution_count": 25,
   "metadata": {
    "ExecuteTime": {
     "end_time": "2021-01-31T22:06:44.434027Z",
     "start_time": "2021-01-31T22:06:43.362691Z"
    },
    "scrolled": false
   },
   "outputs": [
    {
     "data": {
      "text/plain": [
       "<matplotlib.legend.Legend at 0x2c085c8a0a0>"
      ]
     },
     "execution_count": 25,
     "metadata": {},
     "output_type": "execute_result"
    },
    {
     "data": {
      "image/png": "[encoded data removed]",
      "text/plain": [
       "<Figure size 432x432 with 1 Axes>"
      ]
     },
     "metadata": {},
     "output_type": "display_data"
    }
   ],
   "source": [
    "# Plot the figure:\n",
    "fig, ax = plt.subplots(figsize=(6,6))\n",
    "\n",
    "plot_roc_curve(clf, X_test, y_test, color='blue', ax=ax, name='XGBoost_test')\n",
    "plt.plot([0,1], [0,1], color='orange', linestyle='--')\n",
    "\n",
    "plt.xticks(np.arange(0.0, 1.1, step=0.1))\n",
    "plt.xlabel(\"fpr\", fontsize=15)\n",
    "\n",
    "plt.yticks(np.arange(0.0, 1.1, step=0.1))\n",
    "plt.ylabel(\"tpr\", fontsize=15)\n",
    "\n",
    "plt.title('ROC Curve Analysis', fontweight='bold', fontsize=15)\n",
    "plt.legend(prop={'size':13}, loc='lower right')"
   ]
  },
  {
   "cell_type": "markdown",
   "metadata": {},
   "source": [
    "### Validation"
   ]
  },
  {
   "cell_type": "code",
   "execution_count": 26,
   "metadata": {
    "ExecuteTime": {
     "end_time": "2021-01-31T22:06:44.587933Z",
     "start_time": "2021-01-31T22:06:44.441024Z"
    }
   },
   "outputs": [
    {
     "data": {
      "text/plain": [
       "array([0.23547055, 0.23502181, 0.13491367, ..., 0.05382896, 0.1045683 ,\n",
       "       0.11727525], dtype=float32)"
      ]
     },
     "execution_count": 26,
     "metadata": {},
     "output_type": "execute_result"
    }
   ],
   "source": [
    "probabilities_val = clf.predict_proba(X_valid)[:,1]\n",
    "probabilities_val"
   ]
  },
  {
   "cell_type": "code",
   "execution_count": 27,
   "metadata": {
    "ExecuteTime": {
     "end_time": "2021-01-31T22:06:44.619915Z",
     "start_time": "2021-01-31T22:06:44.592930Z"
    },
    "scrolled": true
   },
   "outputs": [
    {
     "data": {
      "text/plain": [
       "[0, 0, 0, 0, 0, 0, 0, 0, 0, 0]"
      ]
     },
     "execution_count": 27,
     "metadata": {},
     "output_type": "execute_result"
    }
   ],
   "source": [
    "y_val_pred = [1 if i > .5 else 0 for i in probabilities_val] # '.5' representa el threshold\n",
    "y_val_pred[:10]"
   ]
  },
  {
   "cell_type": "code",
   "execution_count": 28,
   "metadata": {
    "ExecuteTime": {
     "end_time": "2021-01-31T22:06:44.682877Z",
     "start_time": "2021-01-31T22:06:44.623912Z"
    },
    "scrolled": true
   },
   "outputs": [
    {
     "name": "stdout",
     "output_type": "stream",
     "text": [
      "<class 'xgboost.sklearn.XGBClassifier'>\n",
      "[[1157   34]\n",
      " [ 284   25]]\n",
      "F-beta (ß=2) =  0.097\n",
      "F1 =            0.136\n",
      "Recall =        0.081\n",
      "Precision =     0.424\n",
      "Accuracy =      0.788\n"
     ]
    }
   ],
   "source": [
    "clf_metrics(clf, y_valid, y_val_pred)"
   ]
  },
  {
   "cell_type": "code",
   "execution_count": 29,
   "metadata": {
    "ExecuteTime": {
     "end_time": "2021-01-31T22:06:44.712856Z",
     "start_time": "2021-01-31T22:06:44.687875Z"
    }
   },
   "outputs": [],
   "source": [
    "fpr, tpr, _ = roc_curve(y_valid,  probabilities_val)\n",
    "auc = roc_auc_score(y_valid, probabilities_val)"
   ]
  },
  {
   "cell_type": "code",
   "execution_count": 30,
   "metadata": {
    "ExecuteTime": {
     "end_time": "2021-01-31T22:06:45.424416Z",
     "start_time": "2021-01-31T22:06:44.719853Z"
    },
    "scrolled": false
   },
   "outputs": [
    {
     "data": {
      "text/plain": [
       "<matplotlib.legend.Legend at 0x2c096dd7e20>"
      ]
     },
     "execution_count": 30,
     "metadata": {},
     "output_type": "execute_result"
    },
    {
     "data": {
      "image/png": "[encoded data removed]",
      "text/plain": [
       "<Figure size 432x432 with 1 Axes>"
      ]
     },
     "metadata": {},
     "output_type": "display_data"
    }
   ],
   "source": [
    "# Plot the figure:\n",
    "fig, ax = plt.subplots(figsize=(6,6))\n",
    "\n",
    "plot_roc_curve(clf, X_valid, y_valid, color='red', ax=ax, name='XGBoost_valid')\n",
    "plt.plot([0,1], [0,1], color='orange', linestyle='--')\n",
    "\n",
    "plt.xticks(np.arange(0.0, 1.1, step=0.1))\n",
    "plt.xlabel(\"fpr\", fontsize=15)\n",
    "\n",
    "plt.yticks(np.arange(0.0, 1.1, step=0.1))\n",
    "plt.ylabel(\"tpr\", fontsize=15)\n",
    "\n",
    "plt.title('ROC Curve Analysis', fontweight='bold', fontsize=15)\n",
    "plt.legend(prop={'size':13}, loc='lower right')"
   ]
  },
  {
   "cell_type": "markdown",
   "metadata": {},
   "source": [
    "### Comparison"
   ]
  },
  {
   "cell_type": "code",
   "execution_count": 31,
   "metadata": {
    "ExecuteTime": {
     "end_time": "2021-01-31T22:06:45.503367Z",
     "start_time": "2021-01-31T22:06:45.428414Z"
    }
   },
   "outputs": [
    {
     "name": "stdout",
     "output_type": "stream",
     "text": [
      "TEST dataset results\n",
      "<class 'xgboost.sklearn.XGBClassifier'>\n",
      "[[1181   27]\n",
      " [ 280   12]]\n",
      "F-beta (ß=2) =  0.050\n",
      "F1 =            0.073\n",
      "Recall =        0.041\n",
      "Precision =     0.308\n",
      "Accuracy =      0.795\n",
      "--------------------------------------------------\n",
      "VALIDATION dataset results\n",
      "<class 'xgboost.sklearn.XGBClassifier'>\n",
      "[[1157   34]\n",
      " [ 284   25]]\n",
      "F-beta (ß=2) =  0.097\n",
      "F1 =            0.136\n",
      "Recall =        0.081\n",
      "Precision =     0.424\n",
      "Accuracy =      0.788\n"
     ]
    }
   ],
   "source": [
    "print(\"TEST dataset results\")\n",
    "clf_metrics(clf, y_test, y_pred)\n",
    "print(\"-\"*50)\n",
    "print(\"VALIDATION dataset results\")\n",
    "clf_metrics(clf, y_valid, y_val_pred)"
   ]
  },
  {
   "cell_type": "code",
   "execution_count": 32,
   "metadata": {
    "ExecuteTime": {
     "end_time": "2021-01-31T22:06:46.280885Z",
     "start_time": "2021-01-31T22:06:45.506366Z"
    }
   },
   "outputs": [
    {
     "data": {
      "text/plain": [
       "<matplotlib.legend.Legend at 0x2c096db26a0>"
      ]
     },
     "execution_count": 32,
     "metadata": {},
     "output_type": "execute_result"
    },
    {
     "data": {
      "image/png": "[encoded data removed]",
      "text/plain": [
       "<Figure size 432x432 with 1 Axes>"
      ]
     },
     "metadata": {},
     "output_type": "display_data"
    }
   ],
   "source": [
    "# Plot the figure:\n",
    "fig, ax = plt.subplots(figsize=(6,6))\n",
    "\n",
    "plot_roc_curve(clf, X_valid, y_valid, color='red', ax=ax, name='XGBoost_valid')\n",
    "plot_roc_curve(clf, X_test, y_test, color='blue', ax=ax, name='XGBoost_test')\n",
    "plt.plot([0,1], [0,1], color='orange', linestyle='--')\n",
    "\n",
    "plt.xticks(np.arange(0.0, 1.1, step=0.1))\n",
    "plt.xlabel(\"fpr\", fontsize=15)\n",
    "\n",
    "plt.yticks(np.arange(0.0, 1.1, step=0.1))\n",
    "plt.ylabel(\"tpr\", fontsize=15)\n",
    "\n",
    "plt.title('ROC Curve Analysis', fontweight='bold', fontsize=15)\n",
    "plt.legend(prop={'size':13}, loc='lower right')"
   ]
  },
  {
   "cell_type": "markdown",
   "metadata": {},
   "source": [
    "___"
   ]
  },
  {
   "cell_type": "code",
   "execution_count": 33,
   "metadata": {
    "ExecuteTime": {
     "end_time": "2021-01-31T22:06:46.295878Z",
     "start_time": "2021-01-31T22:06:46.284885Z"
    }
   },
   "outputs": [
    {
     "name": "stdout",
     "output_type": "stream",
     "text": [
      "Time elapsed:  0h 26min 15s\n"
     ]
    }
   ],
   "source": [
    "t1 = time.perf_counter() - t0\n",
    "print(\"Time elapsed: {:2.0f}h {:2.0f}min {:2.0f}s\".format(t1//3600, (t1%3600)//60, (t1%3600)%60))"
   ]
  },
  {
   "cell_type": "raw",
   "metadata": {},
   "source": [
    "Time elapsed:  0h 17min 32s"
   ]
  },
  {
   "cell_type": "markdown",
   "metadata": {},
   "source": [
    "___"
   ]
  }
 ],
 "metadata": {
  "hide_input": false,
  "kernelspec": {
   "display_name": "Python 3",
   "language": "python",
   "name": "python3"
  },
  "language_info": {
   "codemirror_mode": {
    "name": "ipython",
    "version": 3
   },
   "file_extension": ".py",
   "mimetype": "text/x-python",
   "name": "python",
   "nbconvert_exporter": "python",
   "pygments_lexer": "ipython3",
   "version": "3.8.5"
  },
  "toc": {
   "base_numbering": 1,
   "nav_menu": {},
   "number_sections": true,
   "sideBar": true,
   "skip_h1_title": false,
   "title_cell": "Table of Contents",
   "title_sidebar": "Contents",
   "toc_cell": false,
   "toc_position": {},
   "toc_section_display": true,
   "toc_window_display": true
  },
  "varInspector": {
   "cols": {
    "lenName": 16,
    "lenType": 16,
    "lenVar": 40
   },
   "kernels_config": {
    "python": {
     "delete_cmd_postfix": "",
     "delete_cmd_prefix": "del ",
     "library": "var_list.py",
     "varRefreshCmd": "print(var_dic_list())"
    },
    "r": {
     "delete_cmd_postfix": ") ",
     "delete_cmd_prefix": "rm(",
     "library": "var_list.r",
     "varRefreshCmd": "cat(var_dic_list()) "
    }
   },
   "position": {
    "height": "829px",
    "left": "1550px",
    "right": "20px",
    "top": "113px",
    "width": "347px"
   },
   "types_to_exclude": [
    "module",
    "function",
    "builtin_function_or_method",
    "instance",
    "_Feature"
   ],
   "window_display": true
  }
 },
 "nbformat": 4,
 "nbformat_minor": 4
}
