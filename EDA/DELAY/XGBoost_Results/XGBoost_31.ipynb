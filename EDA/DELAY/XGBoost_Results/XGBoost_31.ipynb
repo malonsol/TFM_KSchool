{
 "cells": [
  {
   "cell_type": "markdown",
   "metadata": {},
   "source": [
    "___"
   ]
  },
  {
   "cell_type": "code",
   "execution_count": 1,
   "metadata": {
    "ExecuteTime": {
     "end_time": "2021-03-22T19:07:09.318472Z",
     "start_time": "2021-03-22T19:07:06.618909Z"
    }
   },
   "outputs": [],
   "source": [
    "# Import libraries to be used\n",
    "\n",
    "# Warning messages display\n",
    "# import warnings\n",
    "# warnings.filterwarnings(action='once') # https://docs.python.org/3/library/warnings.html#the-warnings-filter\n",
    "\n",
    "# Directories/Files management\n",
    "import os.path\n",
    "## from zipfile import ZipFile # De momento no ha hecho falta \n",
    "\n",
    "# Timing\n",
    "import time\n",
    "\n",
    "# Data analysis and wrangling\n",
    "import pandas as pd\n",
    "import numpy as np\n",
    "pd.set_option('display.max_columns', None) # Show all columns in DataFrames\n",
    "pd.set_option('display.max_rows', 100) # If too high, it greatly slows down the output display and freezes the kernel\n",
    "\n",
    "\n",
    "# Visualization\n",
    "import matplotlib.pyplot as plt\n",
    "import seaborn as sns\n",
    "%matplotlib inline\n",
    "plt.style.use('ggplot') # choose a style: 'plt.style.available'\n",
    "sns.set_theme(context='notebook',\n",
    "              style=\"darkgrid\") # {darkgrid, whitegrid, dark, white, ticks}\n",
    "palette = sns.color_palette(\"flare\", as_cmap=True);\n",
    "import altair as alt\n",
    "\n",
    "# Machine Learning\n",
    "## from sklearn.[...] import ..."
   ]
  },
  {
   "cell_type": "code",
   "execution_count": 2,
   "metadata": {
    "ExecuteTime": {
     "end_time": "2021-03-22T19:07:09.364797Z",
     "start_time": "2021-03-22T19:07:09.322474Z"
    }
   },
   "outputs": [],
   "source": [
    "%load_ext memory_profiler"
   ]
  },
  {
   "cell_type": "code",
   "execution_count": 3,
   "metadata": {
    "ExecuteTime": {
     "end_time": "2021-03-22T19:07:09.380793Z",
     "start_time": "2021-03-22T19:07:09.371798Z"
    }
   },
   "outputs": [],
   "source": [
    "t0 = time.perf_counter() "
   ]
  },
  {
   "cell_type": "code",
   "execution_count": 4,
   "metadata": {
    "ExecuteTime": {
     "end_time": "2021-03-22T19:07:09.396782Z",
     "start_time": "2021-03-22T19:07:09.384791Z"
    }
   },
   "outputs": [
    {
     "name": "stdout",
     "output_type": "stream",
     "text": [
      "Running on Windows.\n",
      "root path\t C:\\Users\\turge\\CompartidoVM\\0.TFM\n"
     ]
    }
   ],
   "source": [
    "# Detect Operating System running and manage paths accordingly\n",
    "\n",
    "if os.name == 'nt': # Windows\n",
    "    root = r\"C:\\Users\\turge\\CompartidoVM\\0.TFM\"\n",
    "    print(\"Running on Windows.\")\n",
    "elif os.name == 'posix': # Ubuntu\n",
    "    root = \"/home/dsc/shared/0.TFM\"\n",
    "    print(\"Running on Ubuntu.\")\n",
    "print(\"root path\\t\", root)"
   ]
  },
  {
   "cell_type": "markdown",
   "metadata": {},
   "source": [
    "# Load the dataset"
   ]
  },
  {
   "cell_type": "code",
   "execution_count": 5,
   "metadata": {
    "ExecuteTime": {
     "end_time": "2021-03-22T19:07:09.411773Z",
     "start_time": "2021-03-22T19:07:09.400782Z"
    }
   },
   "outputs": [],
   "source": [
    "cols = [\n",
    "    'MONTH',\n",
    "#     'DAY_OF_MONTH',\n",
    "    'DAY_OF_WEEK',\n",
    "    'OP_UNIQUE_CARRIER',\n",
    "#     'TAIL_NUM',\n",
    "    'ORIGIN',\n",
    "#     'ORIGIN_CITY_NAME',\n",
    "#     'ORIGIN_STATE_ABR',\n",
    "#     'ORIGIN_STATE_NM',\n",
    "#     'WBAN_Origin_OTP',\n",
    "    'DEST',\n",
    "#     'DEST_CITY_NAME',\n",
    "#     'DEST_STATE_ABR',\n",
    "#     'DEST_STATE_NM',\n",
    "#     'WBAN_Dest_OTP',\n",
    "#     'CRS_DEP_TIME',\n",
    "#     'DEP_TIME',\n",
    "#     'DEP_DELAY',\n",
    "#     'DEP_DEL15',\n",
    "    'DEP_TIME_hour',\n",
    "#     'TAXI_OUT',\n",
    "#     'TAXI_IN',\n",
    "    'TAXI_OUT_median',\n",
    "    'TAXI_IN_median',\n",
    "#     'CRS_ARR_TIME',\n",
    "#     'ARR_TIME',\n",
    "#     'ARR_DELAY',\n",
    "    'ARR_DEL15', # → Target !!\n",
    "    'ARR_TIME_hour',\n",
    "#     'CANCELLED',\n",
    "#     'CRS_ELAPSED_TIME',\n",
    "#     'DISTANCE',\n",
    "    'DISTANCE_GROUP',\n",
    "#     'CARRIER_DELAY',\n",
    "#     'WEATHER_DELAY',\n",
    "#     'NAS_DELAY',\n",
    "#     'SECURITY_DELAY',\n",
    "#     'LATE_AIRCRAFT_DELAY',\n",
    "    \n",
    "#     'STATION_Origin',\n",
    "#     'WMO_Origin',\n",
    "#     'WBAN_Origin_LCD',\n",
    "#     'LATITUDE_Origin',\n",
    "#     'LONGITUDE_Origin',\n",
    "    'HourlyAltimeterSetting_Origin',\n",
    "    'HourlyDryBulbTemperature_Origin',\n",
    "    'HourlyPrecipitation_Origin',\n",
    "    'HourlyRelativeHumidity_Origin',\n",
    "    'HourlySkyConditions_Origin',\n",
    "    'HourlyVisibility_Origin',\n",
    "#     'HourlyWindDirection_Origin',\n",
    "    'HourlyWindGustSpeed_Origin',\n",
    "    'HourlyWindSpeed_Origin',\n",
    "#     'REM_Origin',\n",
    "#     'STATION_Dest',\n",
    "#     'WMO_Dest',\n",
    "#     'WBAN_Dest_LCD',\n",
    "#     'LATITUDE_Dest',\n",
    "#     'LONGITUDE_Dest',\n",
    "    'HourlyAltimeterSetting_Dest',\n",
    "    'HourlyDryBulbTemperature_Dest',\n",
    "    'HourlyPrecipitation_Dest',\n",
    "    'HourlyRelativeHumidity_Dest',\n",
    "    'HourlySkyConditions_Dest',\n",
    "    'HourlyVisibility_Dest',\n",
    "#     'HourlyWindDirection_Dest',\n",
    "    'HourlyWindGustSpeed_Dest',\n",
    "    'HourlyWindSpeed_Dest',\n",
    "#     'REM_Dest'\n",
    "]"
   ]
  },
  {
   "cell_type": "code",
   "execution_count": 6,
   "metadata": {
    "ExecuteTime": {
     "end_time": "2021-03-22T19:07:09.442359Z",
     "start_time": "2021-03-22T19:07:09.418770Z"
    }
   },
   "outputs": [],
   "source": [
    "cols_dtypes = {\n",
    "    'MONTH' : 'string',\n",
    "#     'DAY_OF_MONTH' : 'string',\n",
    "    'DAY_OF_WEEK' : 'string',\n",
    "    'OP_UNIQUE_CARRIER' : 'string',\n",
    "#     'TAIL_NUM' : 'string',\n",
    "    'ORIGIN' : 'string',\n",
    "#     'ORIGIN_CITY_NAME' : 'string',\n",
    "#     'ORIGIN_STATE_ABR' : 'string',\n",
    "#     'ORIGIN_STATE_NM' : 'string',\n",
    "#     'WBAN_Origin_OTP' : 'string',\n",
    "    'DEST' : 'string',\n",
    "#     'DEST_CITY_NAME' : 'string',\n",
    "#     'DEST_STATE_ABR' : 'string',\n",
    "#     'DEST_STATE_NM' : 'string',\n",
    "#     'WBAN_Dest_OTP' : 'string',\n",
    "#     'CRS_DEP_TIME' : 'string',\n",
    "#     'DEP_TIME' : 'string',\n",
    "#     'DEP_DELAY' : 'int32',\n",
    "#     'DEP_DEL15' : 'int32',\n",
    "    'DEP_TIME_hour' : 'string',\n",
    "#     'TAXI_OUT' : 'int32',\n",
    "#     'TAXI_IN' : 'int32',\n",
    "    'TAXI_OUT_median' : 'int32',\n",
    "    'TAXI_IN_median' : 'int32',\n",
    "#     'CRS_ARR_TIME' : 'string',\n",
    "#     'ARR_TIME' : 'string',\n",
    "#     'ARR_DELAY' : 'int32',\n",
    "    'ARR_DEL15' : 'int32', # → Target !!\n",
    "    'ARR_TIME_hour' : 'string',\n",
    "#     'CANCELLED' : 'string',\n",
    "#     'CRS_ELAPSED_TIME' : 'int32',\n",
    "#     'DISTANCE' : 'int32',\n",
    "    'DISTANCE_GROUP' : 'string',\n",
    "#     'CARRIER_DELAY' : 'int32',\n",
    "#     'WEATHER_DELAY' : 'int32',\n",
    "#     'NAS_DELAY' : 'int32',\n",
    "#     'SECURITY_DELAY' : 'int32',\n",
    "#     'LATE_AIRCRAFT_DELAY' : 'int32',\n",
    "\n",
    "#     'STATION_Origin' : 'string',\n",
    "#     'WMO_Origin' : 'string',\n",
    "#     'WBAN_Origin_LCD' : 'string',\n",
    "#     'LATITUDE_Origin' : 'float64',\n",
    "#     'LONGITUDE_Origin' : 'float64',\n",
    "    'HourlyAltimeterSetting_Origin' : 'float64',\n",
    "    'HourlyDryBulbTemperature_Origin' : 'float64',\n",
    "    'HourlyPrecipitation_Origin' : 'float64',\n",
    "    'HourlyRelativeHumidity_Origin' : 'float64',\n",
    "    'HourlySkyConditions_Origin' : 'string',\n",
    "    'HourlyVisibility_Origin' : 'float64',\n",
    "#     'HourlyWindDirection_Origin' : 'string',\n",
    "    'HourlyWindGustSpeed_Origin' : 'float64',\n",
    "    'HourlyWindSpeed_Origin' : 'float64',\n",
    "#     'REM_Origin' : 'string',\n",
    "#     'STATION_Dest' : 'string',\n",
    "#     'WMO_Dest' : 'string',\n",
    "#     'WBAN_Dest_LCD' : 'string',\n",
    "#     'LATITUDE_Dest' : 'float64',\n",
    "#     'LONGITUDE_Dest' : 'float64',\n",
    "    'HourlyAltimeterSetting_Dest' : 'float64',\n",
    "    'HourlyDryBulbTemperature_Dest' : 'float64',\n",
    "    'HourlyPrecipitation_Dest' : 'float64',\n",
    "    'HourlyRelativeHumidity_Dest' : 'float64',\n",
    "    'HourlySkyConditions_Dest' : 'string',\n",
    "    'HourlyVisibility_Dest' : 'float64',\n",
    "#     'HourlyWindDirection_Dest' : 'string',\n",
    "    'HourlyWindGustSpeed_Dest' : 'float64',\n",
    "    'HourlyWindSpeed_Dest' : 'float64',\n",
    "#     'REM_Dest' : 'string',\n",
    "}"
   ]
  },
  {
   "cell_type": "code",
   "execution_count": 7,
   "metadata": {
    "ExecuteTime": {
     "end_time": "2021-03-22T19:07:09.458355Z",
     "start_time": "2021-03-22T19:07:09.446359Z"
    }
   },
   "outputs": [
    {
     "data": {
      "text/plain": [
       "'C:\\\\Users\\\\turge\\\\CompartidoVM\\\\0.TFM\\\\Output_Data\\\\US_DoT-NOAA\\\\OTP_LCD_allColumns_v2.csv'"
      ]
     },
     "execution_count": 7,
     "metadata": {},
     "output_type": "execute_result"
    }
   ],
   "source": [
    "preprocessed_input_csv_path = os.path.join(root,\n",
    "                                           \"Output_Data\",\n",
    "                                           \"US_DoT-NOAA\",\n",
    "                                           \"OTP_LCD_allColumns_v2.csv\")\n",
    "preprocessed_input_csv_path"
   ]
  },
  {
   "cell_type": "code",
   "execution_count": 8,
   "metadata": {
    "ExecuteTime": {
     "end_time": "2021-03-22T19:08:24.755877Z",
     "start_time": "2021-03-22T19:07:09.463350Z"
    },
    "scrolled": true
   },
   "outputs": [
    {
     "name": "stdout",
     "output_type": "stream",
     "text": [
      "Wall time: 1min 15s\n"
     ]
    },
    {
     "data": {
      "text/html": [
       "<div>\n",
       "<style scoped>\n",
       "    .dataframe tbody tr th:only-of-type {\n",
       "        vertical-align: middle;\n",
       "    }\n",
       "\n",
       "    .dataframe tbody tr th {\n",
       "        vertical-align: top;\n",
       "    }\n",
       "\n",
       "    .dataframe thead th {\n",
       "        text-align: right;\n",
       "    }\n",
       "</style>\n",
       "<table border=\"1\" class=\"dataframe\">\n",
       "  <thead>\n",
       "    <tr style=\"text-align: right;\">\n",
       "      <th></th>\n",
       "      <th>MONTH</th>\n",
       "      <th>DAY_OF_WEEK</th>\n",
       "      <th>OP_UNIQUE_CARRIER</th>\n",
       "      <th>ORIGIN</th>\n",
       "      <th>DEST</th>\n",
       "      <th>DEP_TIME_hour</th>\n",
       "      <th>TAXI_OUT_median</th>\n",
       "      <th>TAXI_IN_median</th>\n",
       "      <th>ARR_DEL15</th>\n",
       "      <th>ARR_TIME_hour</th>\n",
       "      <th>DISTANCE_GROUP</th>\n",
       "      <th>HourlyAltimeterSetting_Origin</th>\n",
       "      <th>HourlyDryBulbTemperature_Origin</th>\n",
       "      <th>HourlyPrecipitation_Origin</th>\n",
       "      <th>HourlyRelativeHumidity_Origin</th>\n",
       "      <th>HourlySkyConditions_Origin</th>\n",
       "      <th>HourlyVisibility_Origin</th>\n",
       "      <th>HourlyWindGustSpeed_Origin</th>\n",
       "      <th>HourlyWindSpeed_Origin</th>\n",
       "      <th>HourlyAltimeterSetting_Dest</th>\n",
       "      <th>HourlyDryBulbTemperature_Dest</th>\n",
       "      <th>HourlyPrecipitation_Dest</th>\n",
       "      <th>HourlyRelativeHumidity_Dest</th>\n",
       "      <th>HourlySkyConditions_Dest</th>\n",
       "      <th>HourlyVisibility_Dest</th>\n",
       "      <th>HourlyWindGustSpeed_Dest</th>\n",
       "      <th>HourlyWindSpeed_Dest</th>\n",
       "    </tr>\n",
       "  </thead>\n",
       "  <tbody>\n",
       "    <tr>\n",
       "      <th>728680</th>\n",
       "      <td>01</td>\n",
       "      <td>7</td>\n",
       "      <td>UA</td>\n",
       "      <td>AUS</td>\n",
       "      <td>ORD</td>\n",
       "      <td>17</td>\n",
       "      <td>14</td>\n",
       "      <td>11</td>\n",
       "      <td>0</td>\n",
       "      <td>20</td>\n",
       "      <td>4</td>\n",
       "      <td>30.26</td>\n",
       "      <td>49.0</td>\n",
       "      <td>0.0</td>\n",
       "      <td>43.0</td>\n",
       "      <td>CLR</td>\n",
       "      <td>10.00</td>\n",
       "      <td>0.0</td>\n",
       "      <td>0.0</td>\n",
       "      <td>30.420</td>\n",
       "      <td>6.0</td>\n",
       "      <td>0.0</td>\n",
       "      <td>60.0</td>\n",
       "      <td>SCT</td>\n",
       "      <td>10.00</td>\n",
       "      <td>0.0</td>\n",
       "      <td>11.0</td>\n",
       "    </tr>\n",
       "    <tr>\n",
       "      <th>6690617</th>\n",
       "      <td>01</td>\n",
       "      <td>3</td>\n",
       "      <td>OH</td>\n",
       "      <td>CLT</td>\n",
       "      <td>PIA</td>\n",
       "      <td>20</td>\n",
       "      <td>21</td>\n",
       "      <td>4</td>\n",
       "      <td>0</td>\n",
       "      <td>21</td>\n",
       "      <td>3</td>\n",
       "      <td>30.22</td>\n",
       "      <td>47.0</td>\n",
       "      <td>0.0</td>\n",
       "      <td>56.0</td>\n",
       "      <td>SCT</td>\n",
       "      <td>10.00</td>\n",
       "      <td>0.0</td>\n",
       "      <td>7.0</td>\n",
       "      <td>30.205</td>\n",
       "      <td>32.0</td>\n",
       "      <td>0.0</td>\n",
       "      <td>88.0</td>\n",
       "      <td>(missing)</td>\n",
       "      <td>3.73</td>\n",
       "      <td>0.0</td>\n",
       "      <td>7.0</td>\n",
       "    </tr>\n",
       "    <tr>\n",
       "      <th>1571914</th>\n",
       "      <td>07</td>\n",
       "      <td>4</td>\n",
       "      <td>WN</td>\n",
       "      <td>OAK</td>\n",
       "      <td>LAX</td>\n",
       "      <td>19</td>\n",
       "      <td>11</td>\n",
       "      <td>7</td>\n",
       "      <td>0</td>\n",
       "      <td>20</td>\n",
       "      <td>2</td>\n",
       "      <td>29.95</td>\n",
       "      <td>61.0</td>\n",
       "      <td>0.0</td>\n",
       "      <td>78.0</td>\n",
       "      <td>SCT</td>\n",
       "      <td>10.00</td>\n",
       "      <td>0.0</td>\n",
       "      <td>11.0</td>\n",
       "      <td>29.930</td>\n",
       "      <td>72.0</td>\n",
       "      <td>0.0</td>\n",
       "      <td>64.0</td>\n",
       "      <td>CLR</td>\n",
       "      <td>10.00</td>\n",
       "      <td>0.0</td>\n",
       "      <td>7.0</td>\n",
       "    </tr>\n",
       "    <tr>\n",
       "      <th>6519909</th>\n",
       "      <td>08</td>\n",
       "      <td>5</td>\n",
       "      <td>F9</td>\n",
       "      <td>PHX</td>\n",
       "      <td>DEN</td>\n",
       "      <td>19</td>\n",
       "      <td>13</td>\n",
       "      <td>10</td>\n",
       "      <td>0</td>\n",
       "      <td>22</td>\n",
       "      <td>3</td>\n",
       "      <td>29.74</td>\n",
       "      <td>103.0</td>\n",
       "      <td>0.0</td>\n",
       "      <td>19.0</td>\n",
       "      <td>SCT</td>\n",
       "      <td>10.00</td>\n",
       "      <td>0.0</td>\n",
       "      <td>9.0</td>\n",
       "      <td>30.180</td>\n",
       "      <td>65.0</td>\n",
       "      <td>0.0</td>\n",
       "      <td>68.0</td>\n",
       "      <td>CLR</td>\n",
       "      <td>10.00</td>\n",
       "      <td>0.0</td>\n",
       "      <td>11.0</td>\n",
       "    </tr>\n",
       "    <tr>\n",
       "      <th>505216</th>\n",
       "      <td>05</td>\n",
       "      <td>4</td>\n",
       "      <td>AA</td>\n",
       "      <td>GEG</td>\n",
       "      <td>DFW</td>\n",
       "      <td>13</td>\n",
       "      <td>13</td>\n",
       "      <td>12</td>\n",
       "      <td>1</td>\n",
       "      <td>19</td>\n",
       "      <td>6</td>\n",
       "      <td>29.87</td>\n",
       "      <td>74.0</td>\n",
       "      <td>0.0</td>\n",
       "      <td>21.0</td>\n",
       "      <td>(missing)</td>\n",
       "      <td>9.94</td>\n",
       "      <td>0.0</td>\n",
       "      <td>16.0</td>\n",
       "      <td>29.900</td>\n",
       "      <td>83.0</td>\n",
       "      <td>0.0</td>\n",
       "      <td>65.0</td>\n",
       "      <td>FEW</td>\n",
       "      <td>10.00</td>\n",
       "      <td>24.0</td>\n",
       "      <td>13.0</td>\n",
       "    </tr>\n",
       "  </tbody>\n",
       "</table>\n",
       "</div>"
      ],
      "text/plain": [
       "        MONTH DAY_OF_WEEK OP_UNIQUE_CARRIER ORIGIN DEST DEP_TIME_hour  \\\n",
       "728680     01           7                UA    AUS  ORD            17   \n",
       "6690617    01           3                OH    CLT  PIA            20   \n",
       "1571914    07           4                WN    OAK  LAX            19   \n",
       "6519909    08           5                F9    PHX  DEN            19   \n",
       "505216     05           4                AA    GEG  DFW            13   \n",
       "\n",
       "         TAXI_OUT_median  TAXI_IN_median  ARR_DEL15 ARR_TIME_hour  \\\n",
       "728680                14              11          0            20   \n",
       "6690617               21               4          0            21   \n",
       "1571914               11               7          0            20   \n",
       "6519909               13              10          0            22   \n",
       "505216                13              12          1            19   \n",
       "\n",
       "        DISTANCE_GROUP  HourlyAltimeterSetting_Origin  \\\n",
       "728680               4                          30.26   \n",
       "6690617              3                          30.22   \n",
       "1571914              2                          29.95   \n",
       "6519909              3                          29.74   \n",
       "505216               6                          29.87   \n",
       "\n",
       "         HourlyDryBulbTemperature_Origin  HourlyPrecipitation_Origin  \\\n",
       "728680                              49.0                         0.0   \n",
       "6690617                             47.0                         0.0   \n",
       "1571914                             61.0                         0.0   \n",
       "6519909                            103.0                         0.0   \n",
       "505216                              74.0                         0.0   \n",
       "\n",
       "         HourlyRelativeHumidity_Origin HourlySkyConditions_Origin  \\\n",
       "728680                            43.0                        CLR   \n",
       "6690617                           56.0                        SCT   \n",
       "1571914                           78.0                        SCT   \n",
       "6519909                           19.0                        SCT   \n",
       "505216                            21.0                  (missing)   \n",
       "\n",
       "         HourlyVisibility_Origin  HourlyWindGustSpeed_Origin  \\\n",
       "728680                     10.00                         0.0   \n",
       "6690617                    10.00                         0.0   \n",
       "1571914                    10.00                         0.0   \n",
       "6519909                    10.00                         0.0   \n",
       "505216                      9.94                         0.0   \n",
       "\n",
       "         HourlyWindSpeed_Origin  HourlyAltimeterSetting_Dest  \\\n",
       "728680                      0.0                       30.420   \n",
       "6690617                     7.0                       30.205   \n",
       "1571914                    11.0                       29.930   \n",
       "6519909                     9.0                       30.180   \n",
       "505216                     16.0                       29.900   \n",
       "\n",
       "         HourlyDryBulbTemperature_Dest  HourlyPrecipitation_Dest  \\\n",
       "728680                             6.0                       0.0   \n",
       "6690617                           32.0                       0.0   \n",
       "1571914                           72.0                       0.0   \n",
       "6519909                           65.0                       0.0   \n",
       "505216                            83.0                       0.0   \n",
       "\n",
       "         HourlyRelativeHumidity_Dest HourlySkyConditions_Dest  \\\n",
       "728680                          60.0                      SCT   \n",
       "6690617                         88.0                (missing)   \n",
       "1571914                         64.0                      CLR   \n",
       "6519909                         68.0                      CLR   \n",
       "505216                          65.0                      FEW   \n",
       "\n",
       "         HourlyVisibility_Dest  HourlyWindGustSpeed_Dest  HourlyWindSpeed_Dest  \n",
       "728680                   10.00                       0.0                  11.0  \n",
       "6690617                   3.73                       0.0                   7.0  \n",
       "1571914                  10.00                       0.0                   7.0  \n",
       "6519909                  10.00                       0.0                  11.0  \n",
       "505216                   10.00                      24.0                  13.0  "
      ]
     },
     "execution_count": 8,
     "metadata": {},
     "output_type": "execute_result"
    }
   ],
   "source": [
    "%%time\n",
    "\n",
    "df_all = pd.read_csv(preprocessed_input_csv_path,\n",
    "                     encoding='latin1',\n",
    "#                      nrows=1e5,\n",
    "                     usecols=cols,\n",
    "                     dtype=cols_dtypes\n",
    "                    )\n",
    "df_all.sample(5)"
   ]
  },
  {
   "cell_type": "markdown",
   "metadata": {},
   "source": [
    "___"
   ]
  },
  {
   "cell_type": "code",
   "execution_count": 9,
   "metadata": {
    "ExecuteTime": {
     "end_time": "2021-03-22T19:08:24.786857Z",
     "start_time": "2021-03-22T19:08:24.760871Z"
    },
    "scrolled": false
   },
   "outputs": [
    {
     "name": "stdout",
     "output_type": "stream",
     "text": [
      "<class 'pandas.core.frame.DataFrame'>\n",
      "RangeIndex: 7200053 entries, 0 to 7200052\n",
      "Data columns (total 27 columns):\n",
      " #   Column                           Dtype  \n",
      "---  ------                           -----  \n",
      " 0   MONTH                            string \n",
      " 1   DAY_OF_WEEK                      string \n",
      " 2   OP_UNIQUE_CARRIER                string \n",
      " 3   ORIGIN                           string \n",
      " 4   DEST                             string \n",
      " 5   DEP_TIME_hour                    string \n",
      " 6   TAXI_OUT_median                  int32  \n",
      " 7   TAXI_IN_median                   int32  \n",
      " 8   ARR_DEL15                        int32  \n",
      " 9   ARR_TIME_hour                    string \n",
      " 10  DISTANCE_GROUP                   string \n",
      " 11  HourlyAltimeterSetting_Origin    float64\n",
      " 12  HourlyDryBulbTemperature_Origin  float64\n",
      " 13  HourlyPrecipitation_Origin       float64\n",
      " 14  HourlyRelativeHumidity_Origin    float64\n",
      " 15  HourlySkyConditions_Origin       string \n",
      " 16  HourlyVisibility_Origin          float64\n",
      " 17  HourlyWindGustSpeed_Origin       float64\n",
      " 18  HourlyWindSpeed_Origin           float64\n",
      " 19  HourlyAltimeterSetting_Dest      float64\n",
      " 20  HourlyDryBulbTemperature_Dest    float64\n",
      " 21  HourlyPrecipitation_Dest         float64\n",
      " 22  HourlyRelativeHumidity_Dest      float64\n",
      " 23  HourlySkyConditions_Dest         string \n",
      " 24  HourlyVisibility_Dest            float64\n",
      " 25  HourlyWindGustSpeed_Dest         float64\n",
      " 26  HourlyWindSpeed_Dest             float64\n",
      "dtypes: float64(14), int32(3), string(10)\n",
      "memory usage: 1.4 GB\n"
     ]
    }
   ],
   "source": [
    "df_all.info()"
   ]
  },
  {
   "cell_type": "markdown",
   "metadata": {},
   "source": [
    "## Correlation Heatmap"
   ]
  },
  {
   "cell_type": "code",
   "execution_count": 10,
   "metadata": {
    "ExecuteTime": {
     "end_time": "2021-03-22T19:08:33.569985Z",
     "start_time": "2021-03-22T19:08:24.789854Z"
    }
   },
   "outputs": [
    {
     "data": {
      "image/png": "[encoded data removed]",
      "text/plain": [
       "<Figure size 648x432 with 2 Axes>"
      ]
     },
     "metadata": {},
     "output_type": "display_data"
    }
   ],
   "source": [
    "# Heatmap showing global correlations\n",
    "fig, ax = plt.subplots(figsize=(9, 6))\n",
    "ax = sns.heatmap(df_all.corr(), vmin=-1, vmax=1, annot=False, cbar=True, cmap=sns.cm.rocket);"
   ]
  },
  {
   "cell_type": "code",
   "execution_count": 11,
   "metadata": {
    "ExecuteTime": {
     "end_time": "2021-03-22T19:08:50.404042Z",
     "start_time": "2021-03-22T19:08:33.572983Z"
    },
    "scrolled": false
   },
   "outputs": [
    {
     "data": {
      "image/png": "[encoded data removed]",
      "text/plain": [
       "<Figure size 648x432 with 2 Axes>"
      ]
     },
     "metadata": {},
     "output_type": "display_data"
    }
   ],
   "source": [
    "# Heatmap showing remarkable correlations\n",
    "fig, ax = plt.subplots(figsize=(9, 6))\n",
    "ax = sns.heatmap(df_all.corr(), vmin=-1, vmax=1, annot=True, cbar=True, cmap=sns.cm.rocket, mask=abs(df_all.corr()) < 0.25);"
   ]
  },
  {
   "cell_type": "markdown",
   "metadata": {},
   "source": [
    "## 2. Dataset overview"
   ]
  },
  {
   "cell_type": "code",
   "execution_count": 12,
   "metadata": {
    "ExecuteTime": {
     "end_time": "2021-03-22T19:08:50.419034Z",
     "start_time": "2021-03-22T19:08:50.407040Z"
    }
   },
   "outputs": [],
   "source": [
    "# For deterministic purposes, let's define a seed:\n",
    "np.random.seed(0)"
   ]
  },
  {
   "cell_type": "code",
   "execution_count": 13,
   "metadata": {
    "ExecuteTime": {
     "end_time": "2021-03-22T19:08:50.434022Z",
     "start_time": "2021-03-22T19:08:50.422031Z"
    }
   },
   "outputs": [
    {
     "name": "stdout",
     "output_type": "stream",
     "text": [
      "<class 'pandas.core.frame.DataFrame'>\n",
      "RangeIndex: 7200053 entries, 0 to 7200052\n",
      "Data columns (total 27 columns):\n",
      " #   Column                           Dtype  \n",
      "---  ------                           -----  \n",
      " 0   MONTH                            string \n",
      " 1   DAY_OF_WEEK                      string \n",
      " 2   OP_UNIQUE_CARRIER                string \n",
      " 3   ORIGIN                           string \n",
      " 4   DEST                             string \n",
      " 5   DEP_TIME_hour                    string \n",
      " 6   TAXI_OUT_median                  int32  \n",
      " 7   TAXI_IN_median                   int32  \n",
      " 8   ARR_DEL15                        int32  \n",
      " 9   ARR_TIME_hour                    string \n",
      " 10  DISTANCE_GROUP                   string \n",
      " 11  HourlyAltimeterSetting_Origin    float64\n",
      " 12  HourlyDryBulbTemperature_Origin  float64\n",
      " 13  HourlyPrecipitation_Origin       float64\n",
      " 14  HourlyRelativeHumidity_Origin    float64\n",
      " 15  HourlySkyConditions_Origin       string \n",
      " 16  HourlyVisibility_Origin          float64\n",
      " 17  HourlyWindGustSpeed_Origin       float64\n",
      " 18  HourlyWindSpeed_Origin           float64\n",
      " 19  HourlyAltimeterSetting_Dest      float64\n",
      " 20  HourlyDryBulbTemperature_Dest    float64\n",
      " 21  HourlyPrecipitation_Dest         float64\n",
      " 22  HourlyRelativeHumidity_Dest      float64\n",
      " 23  HourlySkyConditions_Dest         string \n",
      " 24  HourlyVisibility_Dest            float64\n",
      " 25  HourlyWindGustSpeed_Dest         float64\n",
      " 26  HourlyWindSpeed_Dest             float64\n",
      "dtypes: float64(14), int32(3), string(10)\n",
      "memory usage: 1.4 GB\n"
     ]
    }
   ],
   "source": [
    "df_all.info()"
   ]
  },
  {
   "cell_type": "code",
   "execution_count": 14,
   "metadata": {
    "ExecuteTime": {
     "end_time": "2021-03-22T19:09:13.080267Z",
     "start_time": "2021-03-22T19:08:50.438023Z"
    }
   },
   "outputs": [
    {
     "name": "stdout",
     "output_type": "stream",
     "text": [
      "On-time flights: 5824288 (80.89%)\n",
      "Delayed flights: 1375765 (19.11%)\n"
     ]
    }
   ],
   "source": [
    "# For the initial runs, define a reasonably-sized sample:\n",
    "sample_length = len(df_all) # int(1e5)\n",
    "\n",
    "# # The dataset is somehow imbalanced (80% on-time / 20% delayed), so let's perform some quick undersampling:\n",
    "# delayed = df[df['ARR_DEL15'] == 1].sample(sample_length // 2)\n",
    "# ontime = df[df['ARR_DEL15'] == 0].sample(sample_length // 2)\n",
    "# df = delayed.append(ontime)\n",
    "\n",
    "# Although the dataset is somehow imbalanced (80% on-time / 20% delayed), let's try to keep it as is for this test:\n",
    "df = df_all.sample(sample_length)\n",
    "\n",
    "# # Get dummies for the categorical features:\n",
    "# df = pd.get_dummies(df)\n",
    "\n",
    "print(\"On-time flights: {:7d} ({:5.2f}%)\".format(len(df[df['ARR_DEL15'] == 0]), 100*len(df[df['ARR_DEL15'] == 0])/len(df)))\n",
    "print(\"Delayed flights: {:7d} ({:5.2f}%)\".format(len(df[df['ARR_DEL15'] == 1]), 100*len(df[df['ARR_DEL15'] == 1])/len(df)))"
   ]
  },
  {
   "cell_type": "code",
   "execution_count": 15,
   "metadata": {
    "ExecuteTime": {
     "end_time": "2021-03-22T19:09:13.111249Z",
     "start_time": "2021-03-22T19:09:13.083266Z"
    },
    "scrolled": false
   },
   "outputs": [
    {
     "name": "stdout",
     "output_type": "stream",
     "text": [
      "<class 'pandas.core.frame.DataFrame'>\n",
      "Int64Index: 7200053 entries, 3046636 to 4500015\n",
      "Data columns (total 27 columns):\n",
      " #   Column                           Dtype  \n",
      "---  ------                           -----  \n",
      " 0   MONTH                            string \n",
      " 1   DAY_OF_WEEK                      string \n",
      " 2   OP_UNIQUE_CARRIER                string \n",
      " 3   ORIGIN                           string \n",
      " 4   DEST                             string \n",
      " 5   DEP_TIME_hour                    string \n",
      " 6   TAXI_OUT_median                  int32  \n",
      " 7   TAXI_IN_median                   int32  \n",
      " 8   ARR_DEL15                        int32  \n",
      " 9   ARR_TIME_hour                    string \n",
      " 10  DISTANCE_GROUP                   string \n",
      " 11  HourlyAltimeterSetting_Origin    float64\n",
      " 12  HourlyDryBulbTemperature_Origin  float64\n",
      " 13  HourlyPrecipitation_Origin       float64\n",
      " 14  HourlyRelativeHumidity_Origin    float64\n",
      " 15  HourlySkyConditions_Origin       string \n",
      " 16  HourlyVisibility_Origin          float64\n",
      " 17  HourlyWindGustSpeed_Origin       float64\n",
      " 18  HourlyWindSpeed_Origin           float64\n",
      " 19  HourlyAltimeterSetting_Dest      float64\n",
      " 20  HourlyDryBulbTemperature_Dest    float64\n",
      " 21  HourlyPrecipitation_Dest         float64\n",
      " 22  HourlyRelativeHumidity_Dest      float64\n",
      " 23  HourlySkyConditions_Dest         string \n",
      " 24  HourlyVisibility_Dest            float64\n",
      " 25  HourlyWindGustSpeed_Dest         float64\n",
      " 26  HourlyWindSpeed_Dest             float64\n",
      "dtypes: float64(14), int32(3), string(10)\n",
      "memory usage: 1.4 GB\n"
     ]
    }
   ],
   "source": [
    "df.info()"
   ]
  },
  {
   "cell_type": "markdown",
   "metadata": {},
   "source": [
    "### Train / Test split\n",
    "Break the dataset into three blocks:\n",
    "1. Training (80%) → cross-validation\n",
    "2. Test (20%) → final evaluation"
   ]
  },
  {
   "cell_type": "code",
   "execution_count": 16,
   "metadata": {
    "ExecuteTime": {
     "end_time": "2021-03-22T19:09:35.644356Z",
     "start_time": "2021-03-22T19:09:13.117245Z"
    },
    "scrolled": false
   },
   "outputs": [
    {
     "data": {
      "text/plain": [
       "((5760042, 26), (1440011, 26), (5760042,), (1440011,))"
      ]
     },
     "execution_count": 16,
     "metadata": {},
     "output_type": "execute_result"
    }
   ],
   "source": [
    "# Separate input features from the target:\n",
    "X = df.drop('ARR_DEL15', axis=1)\n",
    "y = df['ARR_DEL15']\n",
    "\n",
    "# Train-test split the data:\n",
    "from sklearn.model_selection import train_test_split\n",
    "\n",
    "X_train, X_test, y_train, y_test = train_test_split(X, y, test_size=0.2, random_state=0)\n",
    "X_train.shape, X_test.shape, y_train.shape, y_test.shape"
   ]
  },
  {
   "cell_type": "code",
   "execution_count": 17,
   "metadata": {
    "ExecuteTime": {
     "end_time": "2021-03-22T19:09:35.720658Z",
     "start_time": "2021-03-22T19:09:35.670341Z"
    }
   },
   "outputs": [],
   "source": [
    "def otp_describe(y):\n",
    "    print(\"On-time flights: {:7d} ({:5.2f}%)\".format(len(y[y == 0]), 100*len(y[y == 0])/len(y)))\n",
    "    print(\"Delayed flights: {:7d} ({:5.2f}%)\".format(len(y[y == 1]), 100*len(y[y == 1])/len(y)))"
   ]
  },
  {
   "cell_type": "code",
   "execution_count": 18,
   "metadata": {
    "ExecuteTime": {
     "end_time": "2021-03-22T19:09:38.282474Z",
     "start_time": "2021-03-22T19:09:35.726656Z"
    },
    "scrolled": true
   },
   "outputs": [
    {
     "name": "stdout",
     "output_type": "stream",
     "text": [
      "TRAIN:\n",
      "On-time flights: 4659528 (80.89%)\n",
      "Delayed flights: 1100514 (19.11%)\n",
      "TEST:\n",
      "On-time flights: 1164760 (80.89%)\n",
      "Delayed flights:  275251 (19.11%)\n"
     ]
    }
   ],
   "source": [
    "print(\"TRAIN:\")\n",
    "otp_describe(y_train)\n",
    "print(\"TEST:\")\n",
    "otp_describe(y_test)"
   ]
  },
  {
   "cell_type": "markdown",
   "metadata": {},
   "source": [
    "# Preprocessing"
   ]
  },
  {
   "cell_type": "markdown",
   "metadata": {},
   "source": [
    "## Target Encoding\n",
    "- Fit-transform on Training dataset\n",
    "- Transform on Test dataset"
   ]
  },
  {
   "cell_type": "code",
   "execution_count": 19,
   "metadata": {
    "ExecuteTime": {
     "end_time": "2021-03-22T19:09:38.312453Z",
     "start_time": "2021-03-22T19:09:38.290467Z"
    }
   },
   "outputs": [],
   "source": [
    "def calc_smooth_mean(df, by, on, m):\n",
    "    # Compute the global mean\n",
    "    mean = df[on].mean()\n",
    "\n",
    "    # Compute the number of values and the mean of each group\n",
    "    agg = df.groupby(by)[on].agg(['count', 'mean'])\n",
    "    counts = agg['count']\n",
    "    means = agg['mean']\n",
    "\n",
    "    # Compute the \"smoothed\" means\n",
    "    smooth = (counts * means + m * mean) / (counts + m)\n",
    "\n",
    "    # Replace each value by the according smoothed mean\n",
    "    return df[by].map(smooth)"
   ]
  },
  {
   "cell_type": "code",
   "execution_count": 20,
   "metadata": {
    "ExecuteTime": {
     "end_time": "2021-03-22T19:10:40.389560Z",
     "start_time": "2021-03-22T19:09:38.318450Z"
    }
   },
   "outputs": [],
   "source": [
    "pd.set_option('mode.chained_assignment', None)\n",
    "\n",
    "# Declare which features are going to be target-encoded:\n",
    "te_features = X_train.select_dtypes(['string', 'category']).columns.to_list()\n",
    "te_map = pd.DataFrame().append(X_train[te_features])\n",
    "\n",
    "# Reformat so that the above 'calc_smooth_mean' function can work:\n",
    "df_train = pd.concat([X_train, y_train], axis=1)\n",
    "for cat_feature in te_features:\n",
    "    df_train[cat_feature + '_te'] = calc_smooth_mean(df_train, cat_feature, 'ARR_DEL15', 500) # Generally default to 300\n",
    "    te_map[cat_feature + '_te'] = df_train[cat_feature + '_te']\n",
    "    \n",
    "# Drop the target from the recently modified DF:\n",
    "X_train = df_train.drop(te_features + ['ARR_DEL15'], axis=1)\n",
    "\n",
    "# Define a dictionary comprised of dictionaries: keys are categorical features; values are dictionaries, original-coded pairs\n",
    "te_map_dict = {}\n",
    "for cat_col in te_features:\n",
    "    te_map_cat_col = te_map[[cat_col, cat_col + '_te']].drop_duplicates([cat_col])\n",
    "    te_map_cat_col = dict(zip(te_map_cat_col[cat_col], te_map_cat_col[cat_col + '_te']))\n",
    "    te_map_dict[cat_col] = te_map_cat_col\n",
    "    \n",
    "# Define a mapper function to apply on Test dataset based on Training target-encoded values:\n",
    "def te_mapper(te_dict, x):\n",
    "    try:\n",
    "        te_mapper = te_dict[x] # If airport appeared in Training dataset, apply the corresponding value\n",
    "    except KeyError:\n",
    "        te_mapper = np.median(list(te_dict.values())) # Otherwise, apply the median from the entire Training dataset\n",
    "    return te_mapper\n",
    "\n",
    "# Map the values using the 'te_mapper' function:\n",
    "for cat_col in te_features:\n",
    "    X_test[cat_col + '_te'] = X_test[cat_col].apply(lambda x: te_mapper(te_map_dict[cat_col], x))\n",
    "# Drop the original features to harmonize format:\n",
    "X_test.drop(te_features, axis=1, inplace=True)\n",
    "\n",
    "\n",
    "# # On-hot encode the rest of the categorical variables:\n",
    "# oh_features = X_train.select_dtypes(['string', 'category']).columns\n",
    "# X_train = pd.get_dummies(X_train, columns=oh_features)\n",
    "# X_test = pd.get_dummies(X_test, columns=oh_features)\n",
    "\n",
    "pd.set_option('mode.chained_assignment', 'warn')"
   ]
  },
  {
   "cell_type": "code",
   "execution_count": 21,
   "metadata": {
    "ExecuteTime": {
     "end_time": "2021-03-22T19:10:40.619571Z",
     "start_time": "2021-03-22T19:10:40.472542Z"
    }
   },
   "outputs": [
    {
     "data": {
      "text/html": [
       "<div>\n",
       "<style scoped>\n",
       "    .dataframe tbody tr th:only-of-type {\n",
       "        vertical-align: middle;\n",
       "    }\n",
       "\n",
       "    .dataframe tbody tr th {\n",
       "        vertical-align: top;\n",
       "    }\n",
       "\n",
       "    .dataframe thead th {\n",
       "        text-align: right;\n",
       "    }\n",
       "</style>\n",
       "<table border=\"1\" class=\"dataframe\">\n",
       "  <thead>\n",
       "    <tr style=\"text-align: right;\">\n",
       "      <th></th>\n",
       "      <th>TAXI_OUT_median</th>\n",
       "      <th>TAXI_IN_median</th>\n",
       "      <th>HourlyAltimeterSetting_Origin</th>\n",
       "      <th>HourlyDryBulbTemperature_Origin</th>\n",
       "      <th>HourlyPrecipitation_Origin</th>\n",
       "      <th>HourlyRelativeHumidity_Origin</th>\n",
       "      <th>HourlyVisibility_Origin</th>\n",
       "      <th>HourlyWindGustSpeed_Origin</th>\n",
       "      <th>HourlyWindSpeed_Origin</th>\n",
       "      <th>HourlyAltimeterSetting_Dest</th>\n",
       "      <th>HourlyDryBulbTemperature_Dest</th>\n",
       "      <th>HourlyPrecipitation_Dest</th>\n",
       "      <th>HourlyRelativeHumidity_Dest</th>\n",
       "      <th>HourlyVisibility_Dest</th>\n",
       "      <th>HourlyWindGustSpeed_Dest</th>\n",
       "      <th>HourlyWindSpeed_Dest</th>\n",
       "      <th>MONTH_te</th>\n",
       "      <th>DAY_OF_WEEK_te</th>\n",
       "      <th>OP_UNIQUE_CARRIER_te</th>\n",
       "      <th>ORIGIN_te</th>\n",
       "      <th>DEST_te</th>\n",
       "      <th>DEP_TIME_hour_te</th>\n",
       "      <th>ARR_TIME_hour_te</th>\n",
       "      <th>DISTANCE_GROUP_te</th>\n",
       "      <th>HourlySkyConditions_Origin_te</th>\n",
       "      <th>HourlySkyConditions_Dest_te</th>\n",
       "    </tr>\n",
       "  </thead>\n",
       "  <tbody>\n",
       "    <tr>\n",
       "      <th>4761494</th>\n",
       "      <td>16</td>\n",
       "      <td>6</td>\n",
       "      <td>29.86</td>\n",
       "      <td>85.0</td>\n",
       "      <td>0.0</td>\n",
       "      <td>17.0</td>\n",
       "      <td>9.94</td>\n",
       "      <td>0.0</td>\n",
       "      <td>11.0</td>\n",
       "      <td>29.98</td>\n",
       "      <td>66.0</td>\n",
       "      <td>0.0</td>\n",
       "      <td>75.0</td>\n",
       "      <td>10.00</td>\n",
       "      <td>0.0</td>\n",
       "      <td>3.0</td>\n",
       "      <td>0.247138</td>\n",
       "      <td>0.187216</td>\n",
       "      <td>0.144860</td>\n",
       "      <td>0.136903</td>\n",
       "      <td>0.161420</td>\n",
       "      <td>0.262006</td>\n",
       "      <td>0.256479</td>\n",
       "      <td>0.191851</td>\n",
       "      <td>0.194667</td>\n",
       "      <td>0.231885</td>\n",
       "    </tr>\n",
       "    <tr>\n",
       "      <th>2075742</th>\n",
       "      <td>9</td>\n",
       "      <td>4</td>\n",
       "      <td>29.99</td>\n",
       "      <td>52.0</td>\n",
       "      <td>0.0</td>\n",
       "      <td>83.0</td>\n",
       "      <td>10.00</td>\n",
       "      <td>0.0</td>\n",
       "      <td>10.0</td>\n",
       "      <td>30.01</td>\n",
       "      <td>50.0</td>\n",
       "      <td>0.0</td>\n",
       "      <td>86.0</td>\n",
       "      <td>9.94</td>\n",
       "      <td>0.0</td>\n",
       "      <td>3.0</td>\n",
       "      <td>0.166729</td>\n",
       "      <td>0.167093</td>\n",
       "      <td>0.175567</td>\n",
       "      <td>0.146369</td>\n",
       "      <td>0.155744</td>\n",
       "      <td>0.097276</td>\n",
       "      <td>0.093624</td>\n",
       "      <td>0.180930</td>\n",
       "      <td>0.231457</td>\n",
       "      <td>0.192195</td>\n",
       "    </tr>\n",
       "    <tr>\n",
       "      <th>6108871</th>\n",
       "      <td>13</td>\n",
       "      <td>6</td>\n",
       "      <td>30.16</td>\n",
       "      <td>61.0</td>\n",
       "      <td>0.0</td>\n",
       "      <td>16.0</td>\n",
       "      <td>10.00</td>\n",
       "      <td>0.0</td>\n",
       "      <td>9.0</td>\n",
       "      <td>30.32</td>\n",
       "      <td>55.0</td>\n",
       "      <td>0.0</td>\n",
       "      <td>49.0</td>\n",
       "      <td>10.00</td>\n",
       "      <td>0.0</td>\n",
       "      <td>7.0</td>\n",
       "      <td>0.185967</td>\n",
       "      <td>0.187216</td>\n",
       "      <td>0.213721</td>\n",
       "      <td>0.175673</td>\n",
       "      <td>0.259954</td>\n",
       "      <td>0.241851</td>\n",
       "      <td>0.230058</td>\n",
       "      <td>0.191851</td>\n",
       "      <td>0.162000</td>\n",
       "      <td>0.173846</td>\n",
       "    </tr>\n",
       "    <tr>\n",
       "      <th>6558338</th>\n",
       "      <td>17</td>\n",
       "      <td>5</td>\n",
       "      <td>30.18</td>\n",
       "      <td>58.0</td>\n",
       "      <td>0.0</td>\n",
       "      <td>75.0</td>\n",
       "      <td>10.00</td>\n",
       "      <td>0.0</td>\n",
       "      <td>6.0</td>\n",
       "      <td>30.32</td>\n",
       "      <td>23.0</td>\n",
       "      <td>0.0</td>\n",
       "      <td>78.0</td>\n",
       "      <td>10.00</td>\n",
       "      <td>0.0</td>\n",
       "      <td>7.0</td>\n",
       "      <td>0.185967</td>\n",
       "      <td>0.178967</td>\n",
       "      <td>0.211252</td>\n",
       "      <td>0.214391</td>\n",
       "      <td>0.223121</td>\n",
       "      <td>0.258355</td>\n",
       "      <td>0.256734</td>\n",
       "      <td>0.180930</td>\n",
       "      <td>0.231457</td>\n",
       "      <td>0.231885</td>\n",
       "    </tr>\n",
       "    <tr>\n",
       "      <th>4217632</th>\n",
       "      <td>17</td>\n",
       "      <td>8</td>\n",
       "      <td>29.89</td>\n",
       "      <td>33.0</td>\n",
       "      <td>0.0</td>\n",
       "      <td>96.0</td>\n",
       "      <td>4.00</td>\n",
       "      <td>0.0</td>\n",
       "      <td>7.0</td>\n",
       "      <td>30.22</td>\n",
       "      <td>42.0</td>\n",
       "      <td>0.0</td>\n",
       "      <td>53.0</td>\n",
       "      <td>10.00</td>\n",
       "      <td>0.0</td>\n",
       "      <td>10.0</td>\n",
       "      <td>0.231470</td>\n",
       "      <td>0.187216</td>\n",
       "      <td>0.144860</td>\n",
       "      <td>0.257002</td>\n",
       "      <td>0.269755</td>\n",
       "      <td>0.132944</td>\n",
       "      <td>0.137542</td>\n",
       "      <td>0.191851</td>\n",
       "      <td>0.231457</td>\n",
       "      <td>0.231885</td>\n",
       "    </tr>\n",
       "    <tr>\n",
       "      <th>...</th>\n",
       "      <td>...</td>\n",
       "      <td>...</td>\n",
       "      <td>...</td>\n",
       "      <td>...</td>\n",
       "      <td>...</td>\n",
       "      <td>...</td>\n",
       "      <td>...</td>\n",
       "      <td>...</td>\n",
       "      <td>...</td>\n",
       "      <td>...</td>\n",
       "      <td>...</td>\n",
       "      <td>...</td>\n",
       "      <td>...</td>\n",
       "      <td>...</td>\n",
       "      <td>...</td>\n",
       "      <td>...</td>\n",
       "      <td>...</td>\n",
       "      <td>...</td>\n",
       "      <td>...</td>\n",
       "      <td>...</td>\n",
       "      <td>...</td>\n",
       "      <td>...</td>\n",
       "      <td>...</td>\n",
       "      <td>...</td>\n",
       "      <td>...</td>\n",
       "      <td>...</td>\n",
       "    </tr>\n",
       "    <tr>\n",
       "      <th>4771363</th>\n",
       "      <td>21</td>\n",
       "      <td>10</td>\n",
       "      <td>29.98</td>\n",
       "      <td>67.0</td>\n",
       "      <td>0.0</td>\n",
       "      <td>73.0</td>\n",
       "      <td>10.00</td>\n",
       "      <td>0.0</td>\n",
       "      <td>9.0</td>\n",
       "      <td>30.08</td>\n",
       "      <td>73.0</td>\n",
       "      <td>0.0</td>\n",
       "      <td>96.0</td>\n",
       "      <td>9.00</td>\n",
       "      <td>0.0</td>\n",
       "      <td>6.0</td>\n",
       "      <td>0.247138</td>\n",
       "      <td>0.167093</td>\n",
       "      <td>0.185157</td>\n",
       "      <td>0.173355</td>\n",
       "      <td>0.201614</td>\n",
       "      <td>0.258355</td>\n",
       "      <td>0.237436</td>\n",
       "      <td>0.199427</td>\n",
       "      <td>0.195088</td>\n",
       "      <td>0.163771</td>\n",
       "    </tr>\n",
       "    <tr>\n",
       "      <th>408432</th>\n",
       "      <td>8</td>\n",
       "      <td>8</td>\n",
       "      <td>30.08</td>\n",
       "      <td>82.0</td>\n",
       "      <td>0.0</td>\n",
       "      <td>72.0</td>\n",
       "      <td>10.00</td>\n",
       "      <td>0.0</td>\n",
       "      <td>14.0</td>\n",
       "      <td>29.99</td>\n",
       "      <td>53.0</td>\n",
       "      <td>0.0</td>\n",
       "      <td>77.0</td>\n",
       "      <td>8.70</td>\n",
       "      <td>0.0</td>\n",
       "      <td>5.0</td>\n",
       "      <td>0.205002</td>\n",
       "      <td>0.197726</td>\n",
       "      <td>0.144860</td>\n",
       "      <td>0.177135</td>\n",
       "      <td>0.141915</td>\n",
       "      <td>0.163670</td>\n",
       "      <td>0.159178</td>\n",
       "      <td>0.191851</td>\n",
       "      <td>0.179240</td>\n",
       "      <td>0.192195</td>\n",
       "    </tr>\n",
       "    <tr>\n",
       "      <th>3464872</th>\n",
       "      <td>9</td>\n",
       "      <td>6</td>\n",
       "      <td>29.92</td>\n",
       "      <td>89.0</td>\n",
       "      <td>0.0</td>\n",
       "      <td>59.0</td>\n",
       "      <td>10.00</td>\n",
       "      <td>0.0</td>\n",
       "      <td>10.0</td>\n",
       "      <td>30.28</td>\n",
       "      <td>77.0</td>\n",
       "      <td>0.0</td>\n",
       "      <td>50.0</td>\n",
       "      <td>10.00</td>\n",
       "      <td>26.0</td>\n",
       "      <td>21.0</td>\n",
       "      <td>0.210272</td>\n",
       "      <td>0.193615</td>\n",
       "      <td>0.175567</td>\n",
       "      <td>0.193867</td>\n",
       "      <td>0.197628</td>\n",
       "      <td>0.241851</td>\n",
       "      <td>0.238524</td>\n",
       "      <td>0.196832</td>\n",
       "      <td>0.195088</td>\n",
       "      <td>0.191375</td>\n",
       "    </tr>\n",
       "    <tr>\n",
       "      <th>5905834</th>\n",
       "      <td>16</td>\n",
       "      <td>5</td>\n",
       "      <td>30.45</td>\n",
       "      <td>35.0</td>\n",
       "      <td>0.0</td>\n",
       "      <td>37.0</td>\n",
       "      <td>10.00</td>\n",
       "      <td>0.0</td>\n",
       "      <td>6.0</td>\n",
       "      <td>30.33</td>\n",
       "      <td>41.0</td>\n",
       "      <td>0.0</td>\n",
       "      <td>49.0</td>\n",
       "      <td>10.00</td>\n",
       "      <td>23.0</td>\n",
       "      <td>14.0</td>\n",
       "      <td>0.142961</td>\n",
       "      <td>0.178967</td>\n",
       "      <td>0.210704</td>\n",
       "      <td>0.235812</td>\n",
       "      <td>0.192450</td>\n",
       "      <td>0.251195</td>\n",
       "      <td>0.251261</td>\n",
       "      <td>0.180930</td>\n",
       "      <td>0.195088</td>\n",
       "      <td>0.191375</td>\n",
       "    </tr>\n",
       "    <tr>\n",
       "      <th>5479626</th>\n",
       "      <td>16</td>\n",
       "      <td>9</td>\n",
       "      <td>30.41</td>\n",
       "      <td>40.0</td>\n",
       "      <td>0.0</td>\n",
       "      <td>83.0</td>\n",
       "      <td>10.00</td>\n",
       "      <td>0.0</td>\n",
       "      <td>5.0</td>\n",
       "      <td>30.12</td>\n",
       "      <td>63.0</td>\n",
       "      <td>0.0</td>\n",
       "      <td>78.0</td>\n",
       "      <td>4.00</td>\n",
       "      <td>0.0</td>\n",
       "      <td>3.0</td>\n",
       "      <td>0.142961</td>\n",
       "      <td>0.199876</td>\n",
       "      <td>0.210704</td>\n",
       "      <td>0.235812</td>\n",
       "      <td>0.187407</td>\n",
       "      <td>0.121120</td>\n",
       "      <td>0.112069</td>\n",
       "      <td>0.207522</td>\n",
       "      <td>0.152069</td>\n",
       "      <td>0.191375</td>\n",
       "    </tr>\n",
       "  </tbody>\n",
       "</table>\n",
       "<p>5760042 rows × 26 columns</p>\n",
       "</div>"
      ],
      "text/plain": [
       "         TAXI_OUT_median  TAXI_IN_median  HourlyAltimeterSetting_Origin  \\\n",
       "4761494               16               6                          29.86   \n",
       "2075742                9               4                          29.99   \n",
       "6108871               13               6                          30.16   \n",
       "6558338               17               5                          30.18   \n",
       "4217632               17               8                          29.89   \n",
       "...                  ...             ...                            ...   \n",
       "4771363               21              10                          29.98   \n",
       "408432                 8               8                          30.08   \n",
       "3464872                9               6                          29.92   \n",
       "5905834               16               5                          30.45   \n",
       "5479626               16               9                          30.41   \n",
       "\n",
       "         HourlyDryBulbTemperature_Origin  HourlyPrecipitation_Origin  \\\n",
       "4761494                             85.0                         0.0   \n",
       "2075742                             52.0                         0.0   \n",
       "6108871                             61.0                         0.0   \n",
       "6558338                             58.0                         0.0   \n",
       "4217632                             33.0                         0.0   \n",
       "...                                  ...                         ...   \n",
       "4771363                             67.0                         0.0   \n",
       "408432                              82.0                         0.0   \n",
       "3464872                             89.0                         0.0   \n",
       "5905834                             35.0                         0.0   \n",
       "5479626                             40.0                         0.0   \n",
       "\n",
       "         HourlyRelativeHumidity_Origin  HourlyVisibility_Origin  \\\n",
       "4761494                           17.0                     9.94   \n",
       "2075742                           83.0                    10.00   \n",
       "6108871                           16.0                    10.00   \n",
       "6558338                           75.0                    10.00   \n",
       "4217632                           96.0                     4.00   \n",
       "...                                ...                      ...   \n",
       "4771363                           73.0                    10.00   \n",
       "408432                            72.0                    10.00   \n",
       "3464872                           59.0                    10.00   \n",
       "5905834                           37.0                    10.00   \n",
       "5479626                           83.0                    10.00   \n",
       "\n",
       "         HourlyWindGustSpeed_Origin  HourlyWindSpeed_Origin  \\\n",
       "4761494                         0.0                    11.0   \n",
       "2075742                         0.0                    10.0   \n",
       "6108871                         0.0                     9.0   \n",
       "6558338                         0.0                     6.0   \n",
       "4217632                         0.0                     7.0   \n",
       "...                             ...                     ...   \n",
       "4771363                         0.0                     9.0   \n",
       "408432                          0.0                    14.0   \n",
       "3464872                         0.0                    10.0   \n",
       "5905834                         0.0                     6.0   \n",
       "5479626                         0.0                     5.0   \n",
       "\n",
       "         HourlyAltimeterSetting_Dest  HourlyDryBulbTemperature_Dest  \\\n",
       "4761494                        29.98                           66.0   \n",
       "2075742                        30.01                           50.0   \n",
       "6108871                        30.32                           55.0   \n",
       "6558338                        30.32                           23.0   \n",
       "4217632                        30.22                           42.0   \n",
       "...                              ...                            ...   \n",
       "4771363                        30.08                           73.0   \n",
       "408432                         29.99                           53.0   \n",
       "3464872                        30.28                           77.0   \n",
       "5905834                        30.33                           41.0   \n",
       "5479626                        30.12                           63.0   \n",
       "\n",
       "         HourlyPrecipitation_Dest  HourlyRelativeHumidity_Dest  \\\n",
       "4761494                       0.0                         75.0   \n",
       "2075742                       0.0                         86.0   \n",
       "6108871                       0.0                         49.0   \n",
       "6558338                       0.0                         78.0   \n",
       "4217632                       0.0                         53.0   \n",
       "...                           ...                          ...   \n",
       "4771363                       0.0                         96.0   \n",
       "408432                        0.0                         77.0   \n",
       "3464872                       0.0                         50.0   \n",
       "5905834                       0.0                         49.0   \n",
       "5479626                       0.0                         78.0   \n",
       "\n",
       "         HourlyVisibility_Dest  HourlyWindGustSpeed_Dest  \\\n",
       "4761494                  10.00                       0.0   \n",
       "2075742                   9.94                       0.0   \n",
       "6108871                  10.00                       0.0   \n",
       "6558338                  10.00                       0.0   \n",
       "4217632                  10.00                       0.0   \n",
       "...                        ...                       ...   \n",
       "4771363                   9.00                       0.0   \n",
       "408432                    8.70                       0.0   \n",
       "3464872                  10.00                      26.0   \n",
       "5905834                  10.00                      23.0   \n",
       "5479626                   4.00                       0.0   \n",
       "\n",
       "         HourlyWindSpeed_Dest  MONTH_te  DAY_OF_WEEK_te  OP_UNIQUE_CARRIER_te  \\\n",
       "4761494                   3.0  0.247138        0.187216              0.144860   \n",
       "2075742                   3.0  0.166729        0.167093              0.175567   \n",
       "6108871                   7.0  0.185967        0.187216              0.213721   \n",
       "6558338                   7.0  0.185967        0.178967              0.211252   \n",
       "4217632                  10.0  0.231470        0.187216              0.144860   \n",
       "...                       ...       ...             ...                   ...   \n",
       "4771363                   6.0  0.247138        0.167093              0.185157   \n",
       "408432                    5.0  0.205002        0.197726              0.144860   \n",
       "3464872                  21.0  0.210272        0.193615              0.175567   \n",
       "5905834                  14.0  0.142961        0.178967              0.210704   \n",
       "5479626                   3.0  0.142961        0.199876              0.210704   \n",
       "\n",
       "         ORIGIN_te   DEST_te  DEP_TIME_hour_te  ARR_TIME_hour_te  \\\n",
       "4761494   0.136903  0.161420          0.262006          0.256479   \n",
       "2075742   0.146369  0.155744          0.097276          0.093624   \n",
       "6108871   0.175673  0.259954          0.241851          0.230058   \n",
       "6558338   0.214391  0.223121          0.258355          0.256734   \n",
       "4217632   0.257002  0.269755          0.132944          0.137542   \n",
       "...            ...       ...               ...               ...   \n",
       "4771363   0.173355  0.201614          0.258355          0.237436   \n",
       "408432    0.177135  0.141915          0.163670          0.159178   \n",
       "3464872   0.193867  0.197628          0.241851          0.238524   \n",
       "5905834   0.235812  0.192450          0.251195          0.251261   \n",
       "5479626   0.235812  0.187407          0.121120          0.112069   \n",
       "\n",
       "         DISTANCE_GROUP_te  HourlySkyConditions_Origin_te  \\\n",
       "4761494           0.191851                       0.194667   \n",
       "2075742           0.180930                       0.231457   \n",
       "6108871           0.191851                       0.162000   \n",
       "6558338           0.180930                       0.231457   \n",
       "4217632           0.191851                       0.231457   \n",
       "...                    ...                            ...   \n",
       "4771363           0.199427                       0.195088   \n",
       "408432            0.191851                       0.179240   \n",
       "3464872           0.196832                       0.195088   \n",
       "5905834           0.180930                       0.195088   \n",
       "5479626           0.207522                       0.152069   \n",
       "\n",
       "         HourlySkyConditions_Dest_te  \n",
       "4761494                     0.231885  \n",
       "2075742                     0.192195  \n",
       "6108871                     0.173846  \n",
       "6558338                     0.231885  \n",
       "4217632                     0.231885  \n",
       "...                              ...  \n",
       "4771363                     0.163771  \n",
       "408432                      0.192195  \n",
       "3464872                     0.191375  \n",
       "5905834                     0.191375  \n",
       "5479626                     0.191375  \n",
       "\n",
       "[5760042 rows x 26 columns]"
      ]
     },
     "execution_count": 21,
     "metadata": {},
     "output_type": "execute_result"
    }
   ],
   "source": [
    "X_train"
   ]
  },
  {
   "cell_type": "code",
   "execution_count": 22,
   "metadata": {
    "ExecuteTime": {
     "end_time": "2021-03-22T19:10:40.695523Z",
     "start_time": "2021-03-22T19:10:40.628565Z"
    }
   },
   "outputs": [
    {
     "data": {
      "text/html": [
       "<div>\n",
       "<style scoped>\n",
       "    .dataframe tbody tr th:only-of-type {\n",
       "        vertical-align: middle;\n",
       "    }\n",
       "\n",
       "    .dataframe tbody tr th {\n",
       "        vertical-align: top;\n",
       "    }\n",
       "\n",
       "    .dataframe thead th {\n",
       "        text-align: right;\n",
       "    }\n",
       "</style>\n",
       "<table border=\"1\" class=\"dataframe\">\n",
       "  <thead>\n",
       "    <tr style=\"text-align: right;\">\n",
       "      <th></th>\n",
       "      <th>TAXI_OUT_median</th>\n",
       "      <th>TAXI_IN_median</th>\n",
       "      <th>HourlyAltimeterSetting_Origin</th>\n",
       "      <th>HourlyDryBulbTemperature_Origin</th>\n",
       "      <th>HourlyPrecipitation_Origin</th>\n",
       "      <th>HourlyRelativeHumidity_Origin</th>\n",
       "      <th>HourlyVisibility_Origin</th>\n",
       "      <th>HourlyWindGustSpeed_Origin</th>\n",
       "      <th>HourlyWindSpeed_Origin</th>\n",
       "      <th>HourlyAltimeterSetting_Dest</th>\n",
       "      <th>HourlyDryBulbTemperature_Dest</th>\n",
       "      <th>HourlyPrecipitation_Dest</th>\n",
       "      <th>HourlyRelativeHumidity_Dest</th>\n",
       "      <th>HourlyVisibility_Dest</th>\n",
       "      <th>HourlyWindGustSpeed_Dest</th>\n",
       "      <th>HourlyWindSpeed_Dest</th>\n",
       "      <th>MONTH_te</th>\n",
       "      <th>DAY_OF_WEEK_te</th>\n",
       "      <th>OP_UNIQUE_CARRIER_te</th>\n",
       "      <th>ORIGIN_te</th>\n",
       "      <th>DEST_te</th>\n",
       "      <th>DEP_TIME_hour_te</th>\n",
       "      <th>ARR_TIME_hour_te</th>\n",
       "      <th>DISTANCE_GROUP_te</th>\n",
       "      <th>HourlySkyConditions_Origin_te</th>\n",
       "      <th>HourlySkyConditions_Dest_te</th>\n",
       "    </tr>\n",
       "  </thead>\n",
       "  <tbody>\n",
       "    <tr>\n",
       "      <th>6735670</th>\n",
       "      <td>17</td>\n",
       "      <td>5</td>\n",
       "      <td>29.970</td>\n",
       "      <td>90.0</td>\n",
       "      <td>0.0</td>\n",
       "      <td>52.0</td>\n",
       "      <td>10.00</td>\n",
       "      <td>0.0</td>\n",
       "      <td>11.0</td>\n",
       "      <td>29.940</td>\n",
       "      <td>94.0</td>\n",
       "      <td>0.0</td>\n",
       "      <td>49.0</td>\n",
       "      <td>10.00</td>\n",
       "      <td>0.0</td>\n",
       "      <td>6.0</td>\n",
       "      <td>0.210272</td>\n",
       "      <td>0.187216</td>\n",
       "      <td>0.175434</td>\n",
       "      <td>0.157192</td>\n",
       "      <td>0.186670</td>\n",
       "      <td>0.241851</td>\n",
       "      <td>0.230058</td>\n",
       "      <td>0.177485</td>\n",
       "      <td>0.162000</td>\n",
       "      <td>0.173846</td>\n",
       "    </tr>\n",
       "    <tr>\n",
       "      <th>5676006</th>\n",
       "      <td>15</td>\n",
       "      <td>4</td>\n",
       "      <td>30.160</td>\n",
       "      <td>58.0</td>\n",
       "      <td>0.0</td>\n",
       "      <td>84.0</td>\n",
       "      <td>10.00</td>\n",
       "      <td>0.0</td>\n",
       "      <td>7.0</td>\n",
       "      <td>30.000</td>\n",
       "      <td>57.0</td>\n",
       "      <td>0.0</td>\n",
       "      <td>51.0</td>\n",
       "      <td>10.00</td>\n",
       "      <td>0.0</td>\n",
       "      <td>3.0</td>\n",
       "      <td>0.172232</td>\n",
       "      <td>0.193615</td>\n",
       "      <td>0.144860</td>\n",
       "      <td>0.157192</td>\n",
       "      <td>0.183618</td>\n",
       "      <td>0.132944</td>\n",
       "      <td>0.117425</td>\n",
       "      <td>0.197773</td>\n",
       "      <td>0.231457</td>\n",
       "      <td>0.191375</td>\n",
       "    </tr>\n",
       "    <tr>\n",
       "      <th>2431921</th>\n",
       "      <td>15</td>\n",
       "      <td>4</td>\n",
       "      <td>29.870</td>\n",
       "      <td>66.0</td>\n",
       "      <td>0.0</td>\n",
       "      <td>22.0</td>\n",
       "      <td>10.00</td>\n",
       "      <td>21.0</td>\n",
       "      <td>15.0</td>\n",
       "      <td>30.100</td>\n",
       "      <td>25.0</td>\n",
       "      <td>0.0</td>\n",
       "      <td>55.0</td>\n",
       "      <td>9.94</td>\n",
       "      <td>0.0</td>\n",
       "      <td>3.0</td>\n",
       "      <td>0.205002</td>\n",
       "      <td>0.193615</td>\n",
       "      <td>0.210704</td>\n",
       "      <td>0.175673</td>\n",
       "      <td>0.191115</td>\n",
       "      <td>0.192355</td>\n",
       "      <td>0.238524</td>\n",
       "      <td>0.197223</td>\n",
       "      <td>0.162000</td>\n",
       "      <td>0.192195</td>\n",
       "    </tr>\n",
       "    <tr>\n",
       "      <th>3326373</th>\n",
       "      <td>16</td>\n",
       "      <td>7</td>\n",
       "      <td>29.810</td>\n",
       "      <td>70.0</td>\n",
       "      <td>0.0</td>\n",
       "      <td>16.0</td>\n",
       "      <td>9.94</td>\n",
       "      <td>0.0</td>\n",
       "      <td>0.0</td>\n",
       "      <td>29.910</td>\n",
       "      <td>56.0</td>\n",
       "      <td>0.0</td>\n",
       "      <td>65.0</td>\n",
       "      <td>9.94</td>\n",
       "      <td>0.0</td>\n",
       "      <td>7.0</td>\n",
       "      <td>0.202809</td>\n",
       "      <td>0.193615</td>\n",
       "      <td>0.213721</td>\n",
       "      <td>0.228791</td>\n",
       "      <td>0.151806</td>\n",
       "      <td>0.251195</td>\n",
       "      <td>0.270233</td>\n",
       "      <td>0.207522</td>\n",
       "      <td>0.194667</td>\n",
       "      <td>0.192195</td>\n",
       "    </tr>\n",
       "    <tr>\n",
       "      <th>5414426</th>\n",
       "      <td>15</td>\n",
       "      <td>9</td>\n",
       "      <td>29.930</td>\n",
       "      <td>53.0</td>\n",
       "      <td>0.0</td>\n",
       "      <td>45.0</td>\n",
       "      <td>10.00</td>\n",
       "      <td>0.0</td>\n",
       "      <td>14.0</td>\n",
       "      <td>29.750</td>\n",
       "      <td>50.0</td>\n",
       "      <td>0.0</td>\n",
       "      <td>93.0</td>\n",
       "      <td>2.98</td>\n",
       "      <td>0.0</td>\n",
       "      <td>9.0</td>\n",
       "      <td>0.205002</td>\n",
       "      <td>0.199876</td>\n",
       "      <td>0.188211</td>\n",
       "      <td>0.198294</td>\n",
       "      <td>0.193562</td>\n",
       "      <td>0.225974</td>\n",
       "      <td>0.205323</td>\n",
       "      <td>0.177485</td>\n",
       "      <td>0.152069</td>\n",
       "      <td>0.192195</td>\n",
       "    </tr>\n",
       "    <tr>\n",
       "      <th>...</th>\n",
       "      <td>...</td>\n",
       "      <td>...</td>\n",
       "      <td>...</td>\n",
       "      <td>...</td>\n",
       "      <td>...</td>\n",
       "      <td>...</td>\n",
       "      <td>...</td>\n",
       "      <td>...</td>\n",
       "      <td>...</td>\n",
       "      <td>...</td>\n",
       "      <td>...</td>\n",
       "      <td>...</td>\n",
       "      <td>...</td>\n",
       "      <td>...</td>\n",
       "      <td>...</td>\n",
       "      <td>...</td>\n",
       "      <td>...</td>\n",
       "      <td>...</td>\n",
       "      <td>...</td>\n",
       "      <td>...</td>\n",
       "      <td>...</td>\n",
       "      <td>...</td>\n",
       "      <td>...</td>\n",
       "      <td>...</td>\n",
       "      <td>...</td>\n",
       "      <td>...</td>\n",
       "    </tr>\n",
       "    <tr>\n",
       "      <th>3325436</th>\n",
       "      <td>15</td>\n",
       "      <td>12</td>\n",
       "      <td>29.850</td>\n",
       "      <td>95.0</td>\n",
       "      <td>0.0</td>\n",
       "      <td>15.0</td>\n",
       "      <td>10.00</td>\n",
       "      <td>0.0</td>\n",
       "      <td>9.0</td>\n",
       "      <td>29.940</td>\n",
       "      <td>80.0</td>\n",
       "      <td>0.0</td>\n",
       "      <td>47.0</td>\n",
       "      <td>9.94</td>\n",
       "      <td>0.0</td>\n",
       "      <td>10.0</td>\n",
       "      <td>0.202809</td>\n",
       "      <td>0.178967</td>\n",
       "      <td>0.210704</td>\n",
       "      <td>0.175673</td>\n",
       "      <td>0.204575</td>\n",
       "      <td>0.192355</td>\n",
       "      <td>0.238524</td>\n",
       "      <td>0.196832</td>\n",
       "      <td>0.162000</td>\n",
       "      <td>0.192195</td>\n",
       "    </tr>\n",
       "    <tr>\n",
       "      <th>5889406</th>\n",
       "      <td>12</td>\n",
       "      <td>4</td>\n",
       "      <td>30.160</td>\n",
       "      <td>51.0</td>\n",
       "      <td>0.0</td>\n",
       "      <td>54.0</td>\n",
       "      <td>9.94</td>\n",
       "      <td>0.0</td>\n",
       "      <td>9.0</td>\n",
       "      <td>29.980</td>\n",
       "      <td>64.0</td>\n",
       "      <td>0.0</td>\n",
       "      <td>90.0</td>\n",
       "      <td>10.00</td>\n",
       "      <td>0.0</td>\n",
       "      <td>8.0</td>\n",
       "      <td>0.166729</td>\n",
       "      <td>0.208553</td>\n",
       "      <td>0.175567</td>\n",
       "      <td>0.228791</td>\n",
       "      <td>0.193027</td>\n",
       "      <td>0.262006</td>\n",
       "      <td>0.237436</td>\n",
       "      <td>0.207522</td>\n",
       "      <td>0.194667</td>\n",
       "      <td>0.231885</td>\n",
       "    </tr>\n",
       "    <tr>\n",
       "      <th>1417147</th>\n",
       "      <td>19</td>\n",
       "      <td>11</td>\n",
       "      <td>29.480</td>\n",
       "      <td>68.0</td>\n",
       "      <td>0.0</td>\n",
       "      <td>90.0</td>\n",
       "      <td>6.84</td>\n",
       "      <td>0.0</td>\n",
       "      <td>7.0</td>\n",
       "      <td>30.010</td>\n",
       "      <td>70.0</td>\n",
       "      <td>0.0</td>\n",
       "      <td>46.0</td>\n",
       "      <td>10.00</td>\n",
       "      <td>0.0</td>\n",
       "      <td>8.0</td>\n",
       "      <td>0.247138</td>\n",
       "      <td>0.199876</td>\n",
       "      <td>0.213721</td>\n",
       "      <td>0.251379</td>\n",
       "      <td>0.225786</td>\n",
       "      <td>0.121120</td>\n",
       "      <td>0.112069</td>\n",
       "      <td>0.191851</td>\n",
       "      <td>0.194667</td>\n",
       "      <td>0.191375</td>\n",
       "    </tr>\n",
       "    <tr>\n",
       "      <th>5052114</th>\n",
       "      <td>16</td>\n",
       "      <td>6</td>\n",
       "      <td>30.300</td>\n",
       "      <td>50.0</td>\n",
       "      <td>0.0</td>\n",
       "      <td>74.0</td>\n",
       "      <td>10.00</td>\n",
       "      <td>0.0</td>\n",
       "      <td>5.0</td>\n",
       "      <td>30.385</td>\n",
       "      <td>38.0</td>\n",
       "      <td>0.0</td>\n",
       "      <td>70.0</td>\n",
       "      <td>9.94</td>\n",
       "      <td>0.0</td>\n",
       "      <td>0.0</td>\n",
       "      <td>0.172232</td>\n",
       "      <td>0.197726</td>\n",
       "      <td>0.210704</td>\n",
       "      <td>0.235812</td>\n",
       "      <td>0.190808</td>\n",
       "      <td>0.121120</td>\n",
       "      <td>0.128908</td>\n",
       "      <td>0.196832</td>\n",
       "      <td>0.162000</td>\n",
       "      <td>0.192195</td>\n",
       "    </tr>\n",
       "    <tr>\n",
       "      <th>3947965</th>\n",
       "      <td>10</td>\n",
       "      <td>4</td>\n",
       "      <td>29.825</td>\n",
       "      <td>46.0</td>\n",
       "      <td>0.0</td>\n",
       "      <td>96.0</td>\n",
       "      <td>0.50</td>\n",
       "      <td>0.0</td>\n",
       "      <td>5.0</td>\n",
       "      <td>30.090</td>\n",
       "      <td>45.0</td>\n",
       "      <td>0.0</td>\n",
       "      <td>90.0</td>\n",
       "      <td>6.00</td>\n",
       "      <td>0.0</td>\n",
       "      <td>3.0</td>\n",
       "      <td>0.231470</td>\n",
       "      <td>0.208553</td>\n",
       "      <td>0.175567</td>\n",
       "      <td>0.171011</td>\n",
       "      <td>0.155744</td>\n",
       "      <td>0.121120</td>\n",
       "      <td>0.112069</td>\n",
       "      <td>0.191851</td>\n",
       "      <td>0.194667</td>\n",
       "      <td>0.191375</td>\n",
       "    </tr>\n",
       "  </tbody>\n",
       "</table>\n",
       "<p>1440011 rows × 26 columns</p>\n",
       "</div>"
      ],
      "text/plain": [
       "         TAXI_OUT_median  TAXI_IN_median  HourlyAltimeterSetting_Origin  \\\n",
       "6735670               17               5                         29.970   \n",
       "5676006               15               4                         30.160   \n",
       "2431921               15               4                         29.870   \n",
       "3326373               16               7                         29.810   \n",
       "5414426               15               9                         29.930   \n",
       "...                  ...             ...                            ...   \n",
       "3325436               15              12                         29.850   \n",
       "5889406               12               4                         30.160   \n",
       "1417147               19              11                         29.480   \n",
       "5052114               16               6                         30.300   \n",
       "3947965               10               4                         29.825   \n",
       "\n",
       "         HourlyDryBulbTemperature_Origin  HourlyPrecipitation_Origin  \\\n",
       "6735670                             90.0                         0.0   \n",
       "5676006                             58.0                         0.0   \n",
       "2431921                             66.0                         0.0   \n",
       "3326373                             70.0                         0.0   \n",
       "5414426                             53.0                         0.0   \n",
       "...                                  ...                         ...   \n",
       "3325436                             95.0                         0.0   \n",
       "5889406                             51.0                         0.0   \n",
       "1417147                             68.0                         0.0   \n",
       "5052114                             50.0                         0.0   \n",
       "3947965                             46.0                         0.0   \n",
       "\n",
       "         HourlyRelativeHumidity_Origin  HourlyVisibility_Origin  \\\n",
       "6735670                           52.0                    10.00   \n",
       "5676006                           84.0                    10.00   \n",
       "2431921                           22.0                    10.00   \n",
       "3326373                           16.0                     9.94   \n",
       "5414426                           45.0                    10.00   \n",
       "...                                ...                      ...   \n",
       "3325436                           15.0                    10.00   \n",
       "5889406                           54.0                     9.94   \n",
       "1417147                           90.0                     6.84   \n",
       "5052114                           74.0                    10.00   \n",
       "3947965                           96.0                     0.50   \n",
       "\n",
       "         HourlyWindGustSpeed_Origin  HourlyWindSpeed_Origin  \\\n",
       "6735670                         0.0                    11.0   \n",
       "5676006                         0.0                     7.0   \n",
       "2431921                        21.0                    15.0   \n",
       "3326373                         0.0                     0.0   \n",
       "5414426                         0.0                    14.0   \n",
       "...                             ...                     ...   \n",
       "3325436                         0.0                     9.0   \n",
       "5889406                         0.0                     9.0   \n",
       "1417147                         0.0                     7.0   \n",
       "5052114                         0.0                     5.0   \n",
       "3947965                         0.0                     5.0   \n",
       "\n",
       "         HourlyAltimeterSetting_Dest  HourlyDryBulbTemperature_Dest  \\\n",
       "6735670                       29.940                           94.0   \n",
       "5676006                       30.000                           57.0   \n",
       "2431921                       30.100                           25.0   \n",
       "3326373                       29.910                           56.0   \n",
       "5414426                       29.750                           50.0   \n",
       "...                              ...                            ...   \n",
       "3325436                       29.940                           80.0   \n",
       "5889406                       29.980                           64.0   \n",
       "1417147                       30.010                           70.0   \n",
       "5052114                       30.385                           38.0   \n",
       "3947965                       30.090                           45.0   \n",
       "\n",
       "         HourlyPrecipitation_Dest  HourlyRelativeHumidity_Dest  \\\n",
       "6735670                       0.0                         49.0   \n",
       "5676006                       0.0                         51.0   \n",
       "2431921                       0.0                         55.0   \n",
       "3326373                       0.0                         65.0   \n",
       "5414426                       0.0                         93.0   \n",
       "...                           ...                          ...   \n",
       "3325436                       0.0                         47.0   \n",
       "5889406                       0.0                         90.0   \n",
       "1417147                       0.0                         46.0   \n",
       "5052114                       0.0                         70.0   \n",
       "3947965                       0.0                         90.0   \n",
       "\n",
       "         HourlyVisibility_Dest  HourlyWindGustSpeed_Dest  \\\n",
       "6735670                  10.00                       0.0   \n",
       "5676006                  10.00                       0.0   \n",
       "2431921                   9.94                       0.0   \n",
       "3326373                   9.94                       0.0   \n",
       "5414426                   2.98                       0.0   \n",
       "...                        ...                       ...   \n",
       "3325436                   9.94                       0.0   \n",
       "5889406                  10.00                       0.0   \n",
       "1417147                  10.00                       0.0   \n",
       "5052114                   9.94                       0.0   \n",
       "3947965                   6.00                       0.0   \n",
       "\n",
       "         HourlyWindSpeed_Dest  MONTH_te  DAY_OF_WEEK_te  OP_UNIQUE_CARRIER_te  \\\n",
       "6735670                   6.0  0.210272        0.187216              0.175434   \n",
       "5676006                   3.0  0.172232        0.193615              0.144860   \n",
       "2431921                   3.0  0.205002        0.193615              0.210704   \n",
       "3326373                   7.0  0.202809        0.193615              0.213721   \n",
       "5414426                   9.0  0.205002        0.199876              0.188211   \n",
       "...                       ...       ...             ...                   ...   \n",
       "3325436                  10.0  0.202809        0.178967              0.210704   \n",
       "5889406                   8.0  0.166729        0.208553              0.175567   \n",
       "1417147                   8.0  0.247138        0.199876              0.213721   \n",
       "5052114                   0.0  0.172232        0.197726              0.210704   \n",
       "3947965                   3.0  0.231470        0.208553              0.175567   \n",
       "\n",
       "         ORIGIN_te   DEST_te  DEP_TIME_hour_te  ARR_TIME_hour_te  \\\n",
       "6735670   0.157192  0.186670          0.241851          0.230058   \n",
       "5676006   0.157192  0.183618          0.132944          0.117425   \n",
       "2431921   0.175673  0.191115          0.192355          0.238524   \n",
       "3326373   0.228791  0.151806          0.251195          0.270233   \n",
       "5414426   0.198294  0.193562          0.225974          0.205323   \n",
       "...            ...       ...               ...               ...   \n",
       "3325436   0.175673  0.204575          0.192355          0.238524   \n",
       "5889406   0.228791  0.193027          0.262006          0.237436   \n",
       "1417147   0.251379  0.225786          0.121120          0.112069   \n",
       "5052114   0.235812  0.190808          0.121120          0.128908   \n",
       "3947965   0.171011  0.155744          0.121120          0.112069   \n",
       "\n",
       "         DISTANCE_GROUP_te  HourlySkyConditions_Origin_te  \\\n",
       "6735670           0.177485                       0.162000   \n",
       "5676006           0.197773                       0.231457   \n",
       "2431921           0.197223                       0.162000   \n",
       "3326373           0.207522                       0.194667   \n",
       "5414426           0.177485                       0.152069   \n",
       "...                    ...                            ...   \n",
       "3325436           0.196832                       0.162000   \n",
       "5889406           0.207522                       0.194667   \n",
       "1417147           0.191851                       0.194667   \n",
       "5052114           0.196832                       0.162000   \n",
       "3947965           0.191851                       0.194667   \n",
       "\n",
       "         HourlySkyConditions_Dest_te  \n",
       "6735670                     0.173846  \n",
       "5676006                     0.191375  \n",
       "2431921                     0.192195  \n",
       "3326373                     0.192195  \n",
       "5414426                     0.192195  \n",
       "...                              ...  \n",
       "3325436                     0.192195  \n",
       "5889406                     0.231885  \n",
       "1417147                     0.191375  \n",
       "5052114                     0.192195  \n",
       "3947965                     0.191375  \n",
       "\n",
       "[1440011 rows x 26 columns]"
      ]
     },
     "execution_count": 22,
     "metadata": {},
     "output_type": "execute_result"
    }
   ],
   "source": [
    "X_test"
   ]
  },
  {
   "cell_type": "raw",
   "metadata": {
    "ExecuteTime": {
     "end_time": "2021-03-22T06:18:03.870165Z",
     "start_time": "2021-03-22T06:18:03.569351Z"
    },
    "scrolled": true
   },
   "source": [
    "df_test = pd.concat([X_test, y_test], axis=1)\n",
    "for cat_feature in categorical_features:\n",
    "    df_test[cat_feature] = calc_smooth_mean(df_test, cat_feature, 'ARR_DEL15', 500) # Generally default to 300 \n",
    "X_test = df_test.drop('ARR_DEL15', axis=1)\n",
    "X_test"
   ]
  },
  {
   "cell_type": "markdown",
   "metadata": {},
   "source": [
    "## Preprocessing Pipeline"
   ]
  },
  {
   "cell_type": "raw",
   "metadata": {
    "ExecuteTime": {
     "end_time": "2021-03-22T17:20:10.713035Z",
     "start_time": "2021-03-22T17:20:10.366215Z"
    }
   },
   "source": [
    "# Import all the necessary libraries and functions:\n",
    "from sklearn.pipeline import Pipeline\n",
    "from sklearn.impute import SimpleImputer\n",
    "from sklearn.preprocessing import StandardScaler\n",
    "from sklearn.preprocessing import OneHotEncoder\n",
    "from sklearn.compose import ColumnTransformer\n",
    "\n",
    "# Indicate numerical and categorical features:\n",
    "num_attribs = X_train.select_dtypes('number').columns\n",
    "cat_attribs = X_train.select_dtypes(['string', 'category']).columns\n",
    "\n",
    "# Define what transformations shall apply to NUMERICAL columns:\n",
    "num_pipeline = Pipeline([\n",
    "        ('imputer', SimpleImputer(strategy=\"median\")),\n",
    "        ('std_scaler', StandardScaler()),\n",
    "    ])\n",
    "\n",
    "# Define what transformations shall apply to CATEGORICAL columns:\n",
    "cat_pipeline = Pipeline([\n",
    "        ('onehot', OneHotEncoder()),\n",
    "    ])\n",
    "\n",
    "# Declare the combined pipeline:\n",
    "full_pipeline = ColumnTransformer([\n",
    "#         (\"num\", num_pipeline, num_attribs),\n",
    "        (\"cat\", cat_pipeline, cat_attribs),\n",
    "    ])\n",
    "\n",
    "# Fit-transform the TRAINING dataset:\n",
    "X_train = full_pipeline.fit_transform(X_train)"
   ]
  },
  {
   "cell_type": "raw",
   "metadata": {
    "ExecuteTime": {
     "end_time": "2021-03-22T17:20:16.158129Z",
     "start_time": "2021-03-22T17:20:16.149136Z"
    }
   },
   "source": [
    "X_train.shape"
   ]
  },
  {
   "cell_type": "raw",
   "metadata": {
    "ExecuteTime": {
     "end_time": "2021-03-22T17:21:59.791787Z",
     "start_time": "2021-03-22T17:21:59.779802Z"
    }
   },
   "source": [
    "X_train"
   ]
  },
  {
   "cell_type": "markdown",
   "metadata": {},
   "source": [
    "## PCA"
   ]
  },
  {
   "cell_type": "raw",
   "metadata": {
    "ExecuteTime": {
     "end_time": "2021-03-21T12:16:02.115800Z",
     "start_time": "2021-03-21T12:16:01.940906Z"
    }
   },
   "source": [
    "from sklearn.decomposition import PCA\n",
    "\n",
    "pca = PCA(n_components=0.95, random_state=0)\n",
    "X_reduced = pca.fit_transform(X_train_prepared)\n",
    "\n",
    "# # You can access the principal components using the 'components_ variable' (representing the directions of maximum variance):\n",
    "# first_PCA = pca.components_.T[:,0]\n",
    "# first_PCA\n",
    "\n",
    "print(pca.explained_variance_ratio_)\n",
    "print(pca.n_components_)"
   ]
  },
  {
   "cell_type": "raw",
   "metadata": {
    "ExecuteTime": {
     "end_time": "2021-03-21T12:16:02.130787Z",
     "start_time": "2021-03-21T12:16:02.123791Z"
    }
   },
   "source": [
    "X_train_prepared.shape, X_reduced.shape"
   ]
  },
  {
   "cell_type": "raw",
   "metadata": {
    "ExecuteTime": {
     "end_time": "2021-03-21T12:16:05.711889Z",
     "start_time": "2021-03-21T12:16:02.134785Z"
    }
   },
   "source": [
    "from sklearn.decomposition import PCA\n",
    "\n",
    "exp_var = []\n",
    "for d in range(X_train_prepared.shape[1] + 1):\n",
    "    pca = PCA(n_components=d, random_state=0)\n",
    "    X_reduced = pca.fit_transform(X_train_prepared)\n",
    "    exp_var.append((d, pca.explained_variance_ratio_.sum()))\n",
    "exp_var"
   ]
  },
  {
   "cell_type": "raw",
   "metadata": {
    "ExecuteTime": {
     "end_time": "2021-03-21T12:16:06.146621Z",
     "start_time": "2021-03-21T12:16:05.714888Z"
    }
   },
   "source": [
    "sns.lineplot(x=[i[0] for i in exp_var], y=[i[1] for i in exp_var]);"
   ]
  },
  {
   "cell_type": "markdown",
   "metadata": {},
   "source": [
    "### Habría que estudiar más el tema del PCA, pero ahora mismo, con un TargetEncoding, no parece ser muy útil reducir dimensionalidad, ya que el beneficio principalmente suele ser el tiempo, y en este caso no parece que redujéramos muchas dimensiones \"poco útiles\""
   ]
  },
  {
   "cell_type": "markdown",
   "metadata": {},
   "source": [
    "# Baseline model: `LogisticRegression`"
   ]
  },
  {
   "cell_type": "markdown",
   "metadata": {},
   "source": [
    "### Cross-Fold Target Encoding\n",
    "- To clamp down on the data leakage, we need to ensure that we’re not using the using the target value from a given sample to compute its target-encoded values\n",
    "- Let’s create a transformer class to perform the cross-fold target encoding `TargetEncoderCV`\n",
    "    - we may end up with NaNs (empty values) even when there were categories in the original dataframe\n",
    "    - we can’t perform cross-fold encoding on our test data, because we don’t have any target values for which to compute the category means! → So, we have to use the category means from the training data in that case.\n",
    "    ```python\n",
    "    # Cross-fold Target encode the categorical data\n",
    "    te = TargetEncoderCV()\n",
    "    X_target_encoded_cv = te.fit_transform(X_train, y_train)\n",
    "    X_target_encoded_cv.sample(10)\n",
    "    \n",
    "    # Compare category counts\n",
    "    print('Original:')\n",
    "    print(X_train.nunique())\n",
    "    print('\\nTarget encoded:')\n",
    "    print(X_target_encoded_cv.nunique())\n",
    "    ```\n",
    "- We can fit the same model as before, but now using cross-fold target encoding:\n",
    "    ```python\n",
    "    # Regression model\n",
    "    model_te_cv = Pipeline([\n",
    "        ('encoder', TargetEncoderCV()),\n",
    "        ('scaler', StandardScaler()),\n",
    "        ('imputer', SimpleImputer(strategy='mean')),\n",
    "        ('regressor', BayesianRidge())\n",
    "    ])\n",
    "\n",
    "    # Cross-validated MAE\n",
    "    scores = cross_val_score(model_te_cv, X_train, y_train, \n",
    "                             cv=3, scoring=mae_scorer)\n",
    "    print('Cross-validated MAE: %0.3f +/- %0.3f'\n",
    "          % (scores.mean(), scores.std()))\n",
    "    ```"
   ]
  },
  {
   "cell_type": "raw",
   "metadata": {
    "ExecuteTime": {
     "end_time": "2021-03-21T13:04:40.762473Z",
     "start_time": "2021-03-21T13:04:40.427676Z"
    }
   },
   "source": [
    "import numpy as np\n",
    "import pandas as pd\n",
    "import matplotlib.pyplot as plt\n",
    "\n",
    "from sklearn.metrics import make_scorer, f1_score, average_precision_score\n",
    "from sklearn.pipeline import Pipeline\n",
    "from sklearn.preprocessing import StandardScaler\n",
    "from sklearn.impute import SimpleImputer\n",
    "from sklearn.model_selection import KFold \n",
    "from sklearn.model_selection import train_test_split\n",
    "from sklearn.model_selection import cross_val_score\n",
    "from sklearn.base import BaseEstimator, TransformerMixin\n",
    "from sklearn.linear_model import LogisticRegression\n",
    "from xgboost import XGBClassifier\n",
    "\n",
    "class TargetEncoder(BaseEstimator, TransformerMixin):\n",
    "    \"\"\"Target encoder.\n",
    "    \n",
    "    Replaces categorical column(s) with the mean target value for\n",
    "    each category.\n",
    "\n",
    "    \"\"\"\n",
    "    \n",
    "    def __init__(self, cols=None):\n",
    "        \"\"\"Target encoder\n",
    "        \n",
    "        Parameters\n",
    "        ----------\n",
    "        cols : list of str\n",
    "            Columns to target encode.  Default is to target \n",
    "            encode all categorical columns in the DataFrame.\n",
    "        \"\"\"\n",
    "        if isinstance(cols, str):\n",
    "            self.cols = [cols]\n",
    "        else:\n",
    "            self.cols = cols\n",
    "        \n",
    "        \n",
    "    def fit(self, X, y):\n",
    "        \"\"\"Fit target encoder to X and y\n",
    "        \n",
    "        Parameters\n",
    "        ----------\n",
    "        X : pandas DataFrame, shape [n_samples, n_columns]\n",
    "            DataFrame containing columns to encode\n",
    "        y : pandas Series, shape = [n_samples]\n",
    "            Target values.\n",
    "            \n",
    "        Returns\n",
    "        -------\n",
    "        self : encoder\n",
    "            Returns self.\n",
    "        \"\"\"\n",
    "        \n",
    "        # Encode all categorical cols by default\n",
    "        if self.cols is None:\n",
    "            self.cols = [col for col in X \n",
    "                         if str(X[col].dtype)=='object']\n",
    "\n",
    "        # Check columns are in X\n",
    "        for col in self.cols:\n",
    "            if col not in X:\n",
    "                raise ValueError('Column \\''+col+'\\' not in X')\n",
    "\n",
    "        # Encode each element of each column\n",
    "        self.maps = dict() #dict to store map for each column\n",
    "        for col in self.cols:\n",
    "            tmap = dict()\n",
    "            uniques = X[col].unique()\n",
    "            for unique in uniques:\n",
    "                tmap[unique] = y[X[col]==unique].mean()\n",
    "            self.maps[col] = tmap\n",
    "            \n",
    "        return self\n",
    "\n",
    "        \n",
    "    def transform(self, X, y=None):\n",
    "        \"\"\"Perform the target encoding transformation.\n",
    "        \n",
    "        Parameters\n",
    "        ----------\n",
    "        X : pandas DataFrame, shape [n_samples, n_columns]\n",
    "            DataFrame containing columns to encode\n",
    "            \n",
    "        Returns\n",
    "        -------\n",
    "        pandas DataFrame\n",
    "            Input DataFrame with transformed columns\n",
    "        \"\"\"\n",
    "        Xo = X.copy()\n",
    "        for col, tmap in self.maps.items():\n",
    "            vals = np.full(X.shape[0], np.nan)\n",
    "            for val, mean_target in tmap.items():\n",
    "                vals[X[col]==val] = mean_target\n",
    "            Xo[col] = vals\n",
    "        return Xo\n",
    "            \n",
    "            \n",
    "    def fit_transform(self, X, y=None):\n",
    "        \"\"\"Fit and transform the data via target encoding.\n",
    "        \n",
    "        Parameters\n",
    "        ----------\n",
    "        X : pandas DataFrame, shape [n_samples, n_columns]\n",
    "            DataFrame containing columns to encode\n",
    "        y : pandas Series, shape = [n_samples]\n",
    "            Target values (required!).\n",
    "\n",
    "        Returns\n",
    "        -------\n",
    "        pandas DataFrame\n",
    "            Input DataFrame with transformed columns\n",
    "        \"\"\"\n",
    "        return self.fit(X, y).transform(X, y)\n",
    "    \n",
    "\n",
    "class TargetEncoderCV(TargetEncoder):\n",
    "    \"\"\"Cross-fold target encoder.\n",
    "    \"\"\"\n",
    "    \n",
    "    def __init__(self, n_splits=3, shuffle=True, cols=None):\n",
    "        \"\"\"Cross-fold target encoding for categorical features.\n",
    "        \n",
    "        Parameters\n",
    "        ----------\n",
    "        n_splits : int\n",
    "            Number of cross-fold splits. Default = 3.\n",
    "        shuffle : bool\n",
    "            Whether to shuffle the data when splitting into folds.\n",
    "        cols : list of str\n",
    "            Columns to target encode.\n",
    "        \"\"\"\n",
    "        self.n_splits = n_splits\n",
    "        self.shuffle = shuffle\n",
    "        self.cols = cols\n",
    "        \n",
    "\n",
    "    def fit(self, X, y):\n",
    "        \"\"\"Fit cross-fold target encoder to X and y\n",
    "        \n",
    "        Parameters\n",
    "        ----------\n",
    "        X : pandas DataFrame, shape [n_samples, n_columns]\n",
    "            DataFrame containing columns to encode\n",
    "        y : pandas Series, shape = [n_samples]\n",
    "            Target values.\n",
    "            \n",
    "        Returns\n",
    "        -------\n",
    "        self : encoder\n",
    "            Returns self.\n",
    "        \"\"\"\n",
    "        self._target_encoder = TargetEncoder(cols=self.cols)\n",
    "        self._target_encoder.fit(X, y)\n",
    "        return self\n",
    "\n",
    "    \n",
    "    def transform(self, X, y=None):\n",
    "        \"\"\"Perform the target encoding transformation.\n",
    "\n",
    "        Uses cross-fold target encoding for the training fold,\n",
    "        and uses normal target encoding for the test fold.\n",
    "\n",
    "        Parameters\n",
    "        ----------\n",
    "        X : pandas DataFrame, shape [n_samples, n_columns]\n",
    "            DataFrame containing columns to encode\n",
    "\n",
    "        Returns\n",
    "        -------\n",
    "        pandas DataFrame\n",
    "            Input DataFrame with transformed columns\n",
    "        \"\"\"\n",
    "\n",
    "        # Use target encoding from fit() if this is test data\n",
    "        if y is None:\n",
    "            return self._target_encoder.transform(X)\n",
    "\n",
    "        # Compute means for each fold\n",
    "        self._train_ix = []\n",
    "        self._test_ix = []\n",
    "        self._fit_tes = []\n",
    "        kf = KFold(n_splits=self.n_splits, shuffle=self.shuffle)\n",
    "        for train_ix, test_ix in kf.split(X):\n",
    "            self._train_ix.append(train_ix)\n",
    "            self._test_ix.append(test_ix)\n",
    "            te = TargetEncoder(cols=self.cols)\n",
    "            if isinstance(X, pd.DataFrame):\n",
    "                self._fit_tes.append(te.fit(X.iloc[train_ix,:],\n",
    "                                            y.iloc[train_ix]))\n",
    "            elif isinstance(X, np.ndarray):\n",
    "                self._fit_tes.append(te.fit(X[train_ix,:],\n",
    "                                            y[train_ix]))\n",
    "            else:\n",
    "                raise TypeError('X must be DataFrame or ndarray')\n",
    "\n",
    "        # Apply means across folds\n",
    "        Xo = X.copy()\n",
    "        for ix in range(len(self._test_ix)):\n",
    "            test_ix = self._test_ix[ix]\n",
    "            if isinstance(X, pd.DataFrame):\n",
    "                Xo.iloc[test_ix,:] = \\\n",
    "                    self._fit_tes[ix].transform(X.iloc[test_ix,:])\n",
    "            elif isinstance(X, np.ndarray):\n",
    "                Xo[test_ix,:] = \\\n",
    "                    self._fit_tes[ix].transform(X[test_ix,:])\n",
    "            else:\n",
    "                raise TypeError('X must be DataFrame or ndarray')\n",
    "        return Xo\n",
    "\n",
    "            \n",
    "    def fit_transform(self, X, y=None):\n",
    "        \"\"\"Fit and transform the data via target encoding.\n",
    "        \n",
    "        Parameters\n",
    "        ----------\n",
    "        X : pandas DataFrame, shape [n_samples, n_columns]\n",
    "            DataFrame containing columns to encode\n",
    "        y : pandas Series, shape = [n_samples]\n",
    "            Target values (required!).\n",
    "\n",
    "        Returns\n",
    "        -------\n",
    "        pandas DataFrame\n",
    "            Input DataFrame with transformed columns\n",
    "        \"\"\"\n",
    "        return self.fit(X, y).transform(X, y)"
   ]
  },
  {
   "cell_type": "raw",
   "metadata": {
    "ExecuteTime": {
     "end_time": "2021-03-21T13:01:21.147416Z",
     "start_time": "2021-03-21T13:01:09.686908Z"
    }
   },
   "source": [
    "# Define the cross-validation folding strategy:\n",
    "from sklearn.model_selection import StratifiedKFold\n",
    "\n",
    "skf = StratifiedKFold(n_splits=3)\n",
    "\n",
    "# Define a basic classifier:\n",
    "from sklearn.linear_model import LogisticRegression\n",
    "clf = LogisticRegression()\n",
    "\n",
    "# Instantiate the basic target encoder:\n",
    "from category_encoders.target_encoder import TargetEncoder\n",
    "te = TargetEncoder()\n",
    "\n",
    "# Define the model pipeline:\n",
    "pipe = Pipeline([\n",
    "             (\"te\", te),\n",
    "             (\"clf\", clf),\n",
    "        ])\n",
    "\n",
    "#Grid to serch for the hyperparameters:\n",
    "pipe_grid = {\n",
    "    \"clf__C\": [0.1, 1, 10],\n",
    "    }\n",
    "\n",
    "\n",
    "# Instantiate the grid search:\n",
    "from sklearn.model_selection import GridSearchCV\n",
    "pipe_cv = GridSearchCV(\n",
    "        pipe,\n",
    "        param_grid=pipe_grid,\n",
    "        n_jobs=-2,\n",
    "        cv=skf,\n",
    "    )\n",
    "\n",
    "pipe_cv.fit(X_train, y_train)\n",
    "\n",
    "pipe_cv.predict(X_test)"
   ]
  },
  {
   "cell_type": "raw",
   "metadata": {
    "ExecuteTime": {
     "end_time": "2021-03-21T13:05:49.881548Z",
     "start_time": "2021-03-21T13:05:48.671302Z"
    }
   },
   "source": [
    "# LogisticRegression model\n",
    "model_te_cv = Pipeline([\n",
    "    ('encoder', TargetEncoderCV()),\n",
    "    ('regressor', LogisticRegression())\n",
    "])\n",
    "\n",
    "# Cross-validated 'f1'\n",
    "from sklearn.model_selection import cross_val_score\n",
    "scores = cross_val_score(model_te_cv, X_train, y_train, \n",
    "                         cv=3, scoring='f1')\n",
    "print('Cross-validated PR-AUC: %0.3f +/- %0.3f'\n",
    "      % (scores.mean(), scores.std()))"
   ]
  },
  {
   "cell_type": "code",
   "execution_count": 23,
   "metadata": {
    "ExecuteTime": {
     "end_time": "2021-03-22T19:44:26.687351Z",
     "start_time": "2021-03-22T19:10:40.700520Z"
    }
   },
   "outputs": [
    {
     "name": "stdout",
     "output_type": "stream",
     "text": [
      "Cross-validated PR-AUC: 0.034 +/- 0.001\n"
     ]
    }
   ],
   "source": [
    "# LogisticRegression model\n",
    "from sklearn.linear_model import LogisticRegression\n",
    "from sklearn.pipeline import Pipeline\n",
    "\n",
    "model_te_cv = Pipeline([\n",
    "#     ('encoder', TargetEncoderCV()),\n",
    "    ('regressor', LogisticRegression(C=0.1, max_iter=10000))\n",
    "])\n",
    "\n",
    "# Cross-validated 'f1'\n",
    "from sklearn.model_selection import cross_val_score\n",
    "scores = cross_val_score(model_te_cv, X_train, y_train, \n",
    "                         cv=3, scoring='recall')\n",
    "print('Cross-validated PR-AUC: %0.3f +/- %0.3f'\n",
    "      % (scores.mean(), scores.std()))"
   ]
  },
  {
   "cell_type": "markdown",
   "metadata": {},
   "source": [
    "# XGBoost"
   ]
  },
  {
   "cell_type": "code",
   "execution_count": 24,
   "metadata": {
    "ExecuteTime": {
     "end_time": "2021-03-22T19:44:27.774644Z",
     "start_time": "2021-03-22T19:44:26.697345Z"
    }
   },
   "outputs": [],
   "source": [
    "from xgboost import XGBClassifier"
   ]
  },
  {
   "cell_type": "markdown",
   "metadata": {},
   "source": [
    "`num_boost_round`: corresponds to the number of boosting rounds or trees to build\n",
    "- Its optimal value highly depends on the other parameters, and thus it should be re-tuned each time you update a parameter.\n",
    "- You could do this by tuning it together with all parameters in a grid-search, but it requires a lot of computational effort.\n",
    "- Fortunately XGBoost provides a nice way to find the best number of rounds whilst training.\n",
    "- We can test our model at each step and see if adding a new tree/round improves performance.\n",
    "- If performance haven’t improved for N rounds (N is defined by the variable `early_stopping_round`), we stop the training and keep the best number of boosting rounds."
   ]
  },
  {
   "cell_type": "code",
   "execution_count": 25,
   "metadata": {
    "ExecuteTime": {
     "end_time": "2021-03-22T19:44:28.720061Z",
     "start_time": "2021-03-22T19:44:27.778649Z"
    }
   },
   "outputs": [
    {
     "name": "stdout",
     "output_type": "stream",
     "text": [
      "TRAINING DATASET\n",
      "Total dataset:      5760042 (100.00%)\n",
      "On-time:            4659528 ( 80.89%)\n",
      "Delayed:            1100514 ( 19.11%)\n",
      "'scale_pos_weight' value:  4.23\n"
     ]
    }
   ],
   "source": [
    "# Summarize class distribution:\n",
    "from collections import Counter\n",
    "\n",
    "counter = Counter(y_train)\n",
    "total_negative_examples = counter[0]\n",
    "total_positive_examples = counter[1]\n",
    "\n",
    "# A sensible default value to set for the scale_pos_weight hyperparameter is the inverse of the class distribution:\n",
    "scale_pos_weight = total_negative_examples / total_positive_examples\n",
    "\n",
    "print(\"TRAINING DATASET\")\n",
    "print(\"Total dataset:      {:7d} ({:6.2f}%)\".format(len(X_train), 100*len(X_train)/len(X_train)))\n",
    "print(\"On-time:            {:7d} ( {:5.2f}%)\".format(total_negative_examples, 100*total_negative_examples/len(X_train)))\n",
    "print(\"Delayed:            {:7d} ( {:5.2f}%)\".format(total_positive_examples, 100*total_positive_examples/len(X_train)))\n",
    "print(\"'scale_pos_weight' value: {:5.2f}\".format(scale_pos_weight))"
   ]
  },
  {
   "cell_type": "markdown",
   "metadata": {},
   "source": [
    "[Soruce](https://www.analyticsvidhya.com/blog/2016/03/complete-guide-parameter-tuning-xgboost-with-codes-python/)  \n",
    "Fine-tuning steps:\n",
    "1. Choose a relatively **high learning rate**. Generally a learning rate of 0.1 works but somewhere between 0.05 to 0.3 should work for different problems. Determine the optimum number of trees for this learning rate. XGBoost has a very useful function called as “cv” which performs cross-validation at each boosting iteration and thus returns the optimum number of trees required.\n",
    "    - max_depth = 5 : This should be between 3-10. I’ve started with 5 but you can choose a different number as well. 4-6 can be good starting points.\n",
    "    - min_child_weight = 1 : A smaller value is chosen because it is a highly imbalanced class problem and leaf nodes can have smaller size groups.\n",
    "    - gamma = 0 : A smaller value like 0.1-0.2 can also be chosen for starting. This will anyways be tuned later.\n",
    "    - subsample, colsample_bytree = 0.8 : This is a commonly used used start value. Typical values range between 0.5-0.9.\n",
    "    - scale_pos_weight = 1: Because of high class imbalance.\n",
    "2. Tune tree-specific parameters ( max_depth, min_child_weight, gamma, subsample, colsample_bytree) for decided learning rate and number of trees. Note that we can choose different parameters to define a tree and I’ll take up an example here.\n",
    "3. Tune regularization parameters (lambda, alpha) for xgboost which can help reduce model complexity and enhance performance.\n",
    "4. Lower the learning rate and decide the optimal parameters ."
   ]
  },
  {
   "cell_type": "code",
   "execution_count": 26,
   "metadata": {
    "ExecuteTime": {
     "end_time": "2021-03-22T19:44:28.736052Z",
     "start_time": "2021-03-22T19:44:28.724060Z"
    }
   },
   "outputs": [],
   "source": [
    "# Basic model definition:\n",
    "xgb_model = XGBClassifier(use_label_encoder=False, verbosity=1, random_state=0, objective= 'binary:logistic',\n",
    "                          booster='gbtree', tree_method='auto', num_boost_round = 10000, early_stopping_round=10,\n",
    "                          scale_pos_weight=scale_pos_weight)\n",
    "\n",
    "params = {\n",
    "            'min_child_weight': [100, 150, 200],\n",
    "            'gamma': [0.5],\n",
    "            'subsample': [0.9],\n",
    "            'colsample_bytree': [0.7],\n",
    "            'max_depth': [6, 7, 8, 9],\n",
    "            'learning_rate': [0.05, 0.1, 0.15],\n",
    "            'n_estimators': [200, 350, 500],\n",
    "            'reg_alpha': [1e-4],\n",
    "            'reg_lambda': [1]\n",
    "        }\n",
    "# params = {\n",
    "#             'min_child_weight': [1, 10, 25, 50, 100, 150, 200],\n",
    "#             'gamma': [0.1, 0.5, 1, 1.5, 2, 5],\n",
    "#             'subsample': [0.6, 0.8, 1.0],\n",
    "#             'colsample_bytree': [0.6, 0.8, 1.0],\n",
    "#             'max_depth': [3, 4, 5, 6, 7, 8, 9],\n",
    "#             'learning_rate': [0.05, 0.1, 0.15],\n",
    "#             'n_estimators': [50, 100, 250, 300, 350, 400, 450, 500],\n",
    "#             'reg_alpha': [1e-6, 1e-5, 1e-4],\n",
    "#             'reg_lambda': [0.5, 1, 1.5]\n",
    "#         }\n",
    "# params = {\n",
    "#              'subsample': [0.9],\n",
    "#              'reg_lambda': [1],\n",
    "#              'reg_alpha': [0.0001],\n",
    "#              'n_estimators': [350],\n",
    "#              'min_child_weight': [100],\n",
    "#              'max_depth': [8],\n",
    "#              'learning_rate': [0.05],\n",
    "#              'gamma': [0.5],\n",
    "#              'colsample_bytree': [0.7]\n",
    "#         }"
   ]
  },
  {
   "cell_type": "markdown",
   "metadata": {},
   "source": [
    "# Step 6: Reducing Learning Rate !!!!! Probar"
   ]
  },
  {
   "cell_type": "code",
   "execution_count": 27,
   "metadata": {
    "ExecuteTime": {
     "end_time": "2021-03-22T19:44:28.752045Z",
     "start_time": "2021-03-22T19:44:28.740050Z"
    }
   },
   "outputs": [
    {
     "name": "stdout",
     "output_type": "stream",
     "text": [
      "Number of parameter combinations: 108\n",
      "Considering a 5-fold cross-validation, total fittings: 540\n",
      "All combination estimated time:  2h 33min  0s\n",
      "Actual fittings estimated time:  2h 33min  0s\n"
     ]
    }
   ],
   "source": [
    "folds = 5\n",
    "avg_fitting_time = 85 / folds # seconds on average\n",
    "actual_combinations = 108\n",
    "\n",
    "combinations = 1\n",
    "for k, v in params.items():\n",
    "    combinations *= len(v)\n",
    "\n",
    "fittings = folds * combinations\n",
    "total_time = fittings * avg_fitting_time\n",
    "print(\"Number of parameter combinations:\", combinations)\n",
    "print(\"Considering a 5-fold cross-validation, total fittings:\", fittings)\n",
    "print(\"All combination estimated time: {:2.0f}h {:2.0f}min {:2.0f}s\".format(total_time//3600,\n",
    "                                                                           (total_time%3600)//60,\n",
    "                                                                           (total_time%3600)%60))\n",
    "\n",
    "\n",
    "actual_total_time = actual_combinations * folds * avg_fitting_time\n",
    "print(\"Actual fittings estimated time: {:2.0f}h {:2.0f}min {:2.0f}s\".format(actual_total_time//3600,\n",
    "                                                                           (actual_total_time%3600)//60,\n",
    "                                                                           (actual_total_time%3600)%60))"
   ]
  },
  {
   "cell_type": "markdown",
   "metadata": {},
   "source": [
    "## Training"
   ]
  },
  {
   "cell_type": "markdown",
   "metadata": {},
   "source": [
    "Info: https://stackoverflow.com/questions/51587535/custom-evaluation-function-based-on-f1-for-use-in-xgboost-python-api"
   ]
  },
  {
   "cell_type": "code",
   "execution_count": 28,
   "metadata": {
    "ExecuteTime": {
     "end_time": "2021-03-24T15:46:27.795752Z",
     "start_time": "2021-03-22T19:44:28.756040Z"
    }
   },
   "outputs": [
    {
     "name": "stdout",
     "output_type": "stream",
     "text": [
      "[######                                  ] | 16% Completed | 44hr  1min 48.6s\n"
     ]
    },
    {
     "ename": "KeyboardInterrupt",
     "evalue": "",
     "output_type": "error",
     "traceback": [
      "\u001b[1;31m---------------------------------------------------------------------------\u001b[0m",
      "\u001b[1;31mKeyboardInterrupt\u001b[0m                         Traceback (most recent call last)",
      "\u001b[1;32m<ipython-input-28-25222b6b2274>\u001b[0m in \u001b[0;36m<module>\u001b[1;34m\u001b[0m\n\u001b[0;32m     14\u001b[0m \u001b[1;33m\u001b[0m\u001b[0m\n\u001b[0;32m     15\u001b[0m \u001b[1;32mwith\u001b[0m \u001b[0mProgressBar\u001b[0m\u001b[1;33m(\u001b[0m\u001b[1;33m)\u001b[0m\u001b[1;33m:\u001b[0m\u001b[1;33m\u001b[0m\u001b[1;33m\u001b[0m\u001b[0m\n\u001b[1;32m---> 16\u001b[1;33m     \u001b[0mdask_rscv\u001b[0m\u001b[1;33m.\u001b[0m\u001b[0mfit\u001b[0m\u001b[1;33m(\u001b[0m\u001b[0mX\u001b[0m\u001b[1;33m=\u001b[0m\u001b[0mX_train\u001b[0m\u001b[1;33m,\u001b[0m \u001b[0my\u001b[0m\u001b[1;33m=\u001b[0m\u001b[0my_train\u001b[0m\u001b[1;33m)\u001b[0m\u001b[1;33m\u001b[0m\u001b[1;33m\u001b[0m\u001b[0m\n\u001b[0m",
      "\u001b[1;32mC:\\ProgramData\\Anaconda3\\lib\\site-packages\\dask_ml\\model_selection\\_search.py\u001b[0m in \u001b[0;36mfit\u001b[1;34m(self, X, y, groups, **fit_params)\u001b[0m\n\u001b[0;32m   1275\u001b[0m             \u001b[0mout\u001b[0m \u001b[1;33m=\u001b[0m \u001b[1;33m[\u001b[0m\u001b[0mresult_map\u001b[0m\u001b[1;33m[\u001b[0m\u001b[0mk\u001b[0m\u001b[1;33m]\u001b[0m \u001b[1;32mfor\u001b[0m \u001b[0mk\u001b[0m \u001b[1;32min\u001b[0m \u001b[0mkeys\u001b[0m\u001b[1;33m]\u001b[0m\u001b[1;33m\u001b[0m\u001b[1;33m\u001b[0m\u001b[0m\n\u001b[0;32m   1276\u001b[0m         \u001b[1;32melse\u001b[0m\u001b[1;33m:\u001b[0m\u001b[1;33m\u001b[0m\u001b[1;33m\u001b[0m\u001b[0m\n\u001b[1;32m-> 1277\u001b[1;33m             \u001b[0mout\u001b[0m \u001b[1;33m=\u001b[0m \u001b[0mscheduler\u001b[0m\u001b[1;33m(\u001b[0m\u001b[0mdsk\u001b[0m\u001b[1;33m,\u001b[0m \u001b[0mkeys\u001b[0m\u001b[1;33m,\u001b[0m \u001b[0mnum_workers\u001b[0m\u001b[1;33m=\u001b[0m\u001b[0mn_jobs\u001b[0m\u001b[1;33m)\u001b[0m\u001b[1;33m\u001b[0m\u001b[1;33m\u001b[0m\u001b[0m\n\u001b[0m\u001b[0;32m   1278\u001b[0m \u001b[1;33m\u001b[0m\u001b[0m\n\u001b[0;32m   1279\u001b[0m         \u001b[1;32mif\u001b[0m \u001b[0mself\u001b[0m\u001b[1;33m.\u001b[0m\u001b[0miid\u001b[0m\u001b[1;33m:\u001b[0m\u001b[1;33m\u001b[0m\u001b[1;33m\u001b[0m\u001b[0m\n",
      "\u001b[1;32mC:\\ProgramData\\Anaconda3\\lib\\site-packages\\dask\\threaded.py\u001b[0m in \u001b[0;36mget\u001b[1;34m(dsk, result, cache, num_workers, pool, **kwargs)\u001b[0m\n\u001b[0;32m     74\u001b[0m                 \u001b[0mpools\u001b[0m\u001b[1;33m[\u001b[0m\u001b[0mthread\u001b[0m\u001b[1;33m]\u001b[0m\u001b[1;33m[\u001b[0m\u001b[0mnum_workers\u001b[0m\u001b[1;33m]\u001b[0m \u001b[1;33m=\u001b[0m \u001b[0mpool\u001b[0m\u001b[1;33m\u001b[0m\u001b[1;33m\u001b[0m\u001b[0m\n\u001b[0;32m     75\u001b[0m \u001b[1;33m\u001b[0m\u001b[0m\n\u001b[1;32m---> 76\u001b[1;33m     results = get_async(\n\u001b[0m\u001b[0;32m     77\u001b[0m         \u001b[0mpool\u001b[0m\u001b[1;33m.\u001b[0m\u001b[0mapply_async\u001b[0m\u001b[1;33m,\u001b[0m\u001b[1;33m\u001b[0m\u001b[1;33m\u001b[0m\u001b[0m\n\u001b[0;32m     78\u001b[0m         \u001b[0mlen\u001b[0m\u001b[1;33m(\u001b[0m\u001b[0mpool\u001b[0m\u001b[1;33m.\u001b[0m\u001b[0m_pool\u001b[0m\u001b[1;33m)\u001b[0m\u001b[1;33m,\u001b[0m\u001b[1;33m\u001b[0m\u001b[1;33m\u001b[0m\u001b[0m\n",
      "\u001b[1;32mC:\\ProgramData\\Anaconda3\\lib\\site-packages\\dask\\local.py\u001b[0m in \u001b[0;36mget_async\u001b[1;34m(apply_async, num_workers, dsk, result, cache, get_id, rerun_exceptions_locally, pack_exception, raise_exception, callbacks, dumps, loads, **kwargs)\u001b[0m\n\u001b[0;32m    473\u001b[0m             \u001b[1;31m# Main loop, wait on tasks to finish, insert new ones\u001b[0m\u001b[1;33m\u001b[0m\u001b[1;33m\u001b[0m\u001b[1;33m\u001b[0m\u001b[0m\n\u001b[0;32m    474\u001b[0m             \u001b[1;32mwhile\u001b[0m \u001b[0mstate\u001b[0m\u001b[1;33m[\u001b[0m\u001b[1;34m\"waiting\"\u001b[0m\u001b[1;33m]\u001b[0m \u001b[1;32mor\u001b[0m \u001b[0mstate\u001b[0m\u001b[1;33m[\u001b[0m\u001b[1;34m\"ready\"\u001b[0m\u001b[1;33m]\u001b[0m \u001b[1;32mor\u001b[0m \u001b[0mstate\u001b[0m\u001b[1;33m[\u001b[0m\u001b[1;34m\"running\"\u001b[0m\u001b[1;33m]\u001b[0m\u001b[1;33m:\u001b[0m\u001b[1;33m\u001b[0m\u001b[1;33m\u001b[0m\u001b[0m\n\u001b[1;32m--> 475\u001b[1;33m                 \u001b[0mkey\u001b[0m\u001b[1;33m,\u001b[0m \u001b[0mres_info\u001b[0m\u001b[1;33m,\u001b[0m \u001b[0mfailed\u001b[0m \u001b[1;33m=\u001b[0m \u001b[0mqueue_get\u001b[0m\u001b[1;33m(\u001b[0m\u001b[0mqueue\u001b[0m\u001b[1;33m)\u001b[0m\u001b[1;33m\u001b[0m\u001b[1;33m\u001b[0m\u001b[0m\n\u001b[0m\u001b[0;32m    476\u001b[0m                 \u001b[1;32mif\u001b[0m \u001b[0mfailed\u001b[0m\u001b[1;33m:\u001b[0m\u001b[1;33m\u001b[0m\u001b[1;33m\u001b[0m\u001b[0m\n\u001b[0;32m    477\u001b[0m                     \u001b[0mexc\u001b[0m\u001b[1;33m,\u001b[0m \u001b[0mtb\u001b[0m \u001b[1;33m=\u001b[0m \u001b[0mloads\u001b[0m\u001b[1;33m(\u001b[0m\u001b[0mres_info\u001b[0m\u001b[1;33m)\u001b[0m\u001b[1;33m\u001b[0m\u001b[1;33m\u001b[0m\u001b[0m\n",
      "\u001b[1;32mC:\\ProgramData\\Anaconda3\\lib\\site-packages\\dask\\local.py\u001b[0m in \u001b[0;36mqueue_get\u001b[1;34m(q)\u001b[0m\n\u001b[0;32m    123\u001b[0m         \u001b[1;32mwhile\u001b[0m \u001b[1;32mTrue\u001b[0m\u001b[1;33m:\u001b[0m\u001b[1;33m\u001b[0m\u001b[1;33m\u001b[0m\u001b[0m\n\u001b[0;32m    124\u001b[0m             \u001b[1;32mtry\u001b[0m\u001b[1;33m:\u001b[0m\u001b[1;33m\u001b[0m\u001b[1;33m\u001b[0m\u001b[0m\n\u001b[1;32m--> 125\u001b[1;33m                 \u001b[1;32mreturn\u001b[0m \u001b[0mq\u001b[0m\u001b[1;33m.\u001b[0m\u001b[0mget\u001b[0m\u001b[1;33m(\u001b[0m\u001b[0mblock\u001b[0m\u001b[1;33m=\u001b[0m\u001b[1;32mTrue\u001b[0m\u001b[1;33m,\u001b[0m \u001b[0mtimeout\u001b[0m\u001b[1;33m=\u001b[0m\u001b[1;36m0.1\u001b[0m\u001b[1;33m)\u001b[0m\u001b[1;33m\u001b[0m\u001b[1;33m\u001b[0m\u001b[0m\n\u001b[0m\u001b[0;32m    126\u001b[0m             \u001b[1;32mexcept\u001b[0m \u001b[0mEmpty\u001b[0m\u001b[1;33m:\u001b[0m\u001b[1;33m\u001b[0m\u001b[1;33m\u001b[0m\u001b[0m\n\u001b[0;32m    127\u001b[0m                 \u001b[1;32mpass\u001b[0m\u001b[1;33m\u001b[0m\u001b[1;33m\u001b[0m\u001b[0m\n",
      "\u001b[1;32mC:\\ProgramData\\Anaconda3\\lib\\queue.py\u001b[0m in \u001b[0;36mget\u001b[1;34m(self, block, timeout)\u001b[0m\n\u001b[0;32m    177\u001b[0m                     \u001b[1;32mif\u001b[0m \u001b[0mremaining\u001b[0m \u001b[1;33m<=\u001b[0m \u001b[1;36m0.0\u001b[0m\u001b[1;33m:\u001b[0m\u001b[1;33m\u001b[0m\u001b[1;33m\u001b[0m\u001b[0m\n\u001b[0;32m    178\u001b[0m                         \u001b[1;32mraise\u001b[0m \u001b[0mEmpty\u001b[0m\u001b[1;33m\u001b[0m\u001b[1;33m\u001b[0m\u001b[0m\n\u001b[1;32m--> 179\u001b[1;33m                     \u001b[0mself\u001b[0m\u001b[1;33m.\u001b[0m\u001b[0mnot_empty\u001b[0m\u001b[1;33m.\u001b[0m\u001b[0mwait\u001b[0m\u001b[1;33m(\u001b[0m\u001b[0mremaining\u001b[0m\u001b[1;33m)\u001b[0m\u001b[1;33m\u001b[0m\u001b[1;33m\u001b[0m\u001b[0m\n\u001b[0m\u001b[0;32m    180\u001b[0m             \u001b[0mitem\u001b[0m \u001b[1;33m=\u001b[0m \u001b[0mself\u001b[0m\u001b[1;33m.\u001b[0m\u001b[0m_get\u001b[0m\u001b[1;33m(\u001b[0m\u001b[1;33m)\u001b[0m\u001b[1;33m\u001b[0m\u001b[1;33m\u001b[0m\u001b[0m\n\u001b[0;32m    181\u001b[0m             \u001b[0mself\u001b[0m\u001b[1;33m.\u001b[0m\u001b[0mnot_full\u001b[0m\u001b[1;33m.\u001b[0m\u001b[0mnotify\u001b[0m\u001b[1;33m(\u001b[0m\u001b[1;33m)\u001b[0m\u001b[1;33m\u001b[0m\u001b[1;33m\u001b[0m\u001b[0m\n",
      "\u001b[1;32mC:\\ProgramData\\Anaconda3\\lib\\threading.py\u001b[0m in \u001b[0;36mwait\u001b[1;34m(self, timeout)\u001b[0m\n\u001b[0;32m    304\u001b[0m             \u001b[1;32melse\u001b[0m\u001b[1;33m:\u001b[0m\u001b[1;33m\u001b[0m\u001b[1;33m\u001b[0m\u001b[0m\n\u001b[0;32m    305\u001b[0m                 \u001b[1;32mif\u001b[0m \u001b[0mtimeout\u001b[0m \u001b[1;33m>\u001b[0m \u001b[1;36m0\u001b[0m\u001b[1;33m:\u001b[0m\u001b[1;33m\u001b[0m\u001b[1;33m\u001b[0m\u001b[0m\n\u001b[1;32m--> 306\u001b[1;33m                     \u001b[0mgotit\u001b[0m \u001b[1;33m=\u001b[0m \u001b[0mwaiter\u001b[0m\u001b[1;33m.\u001b[0m\u001b[0macquire\u001b[0m\u001b[1;33m(\u001b[0m\u001b[1;32mTrue\u001b[0m\u001b[1;33m,\u001b[0m \u001b[0mtimeout\u001b[0m\u001b[1;33m)\u001b[0m\u001b[1;33m\u001b[0m\u001b[1;33m\u001b[0m\u001b[0m\n\u001b[0m\u001b[0;32m    307\u001b[0m                 \u001b[1;32melse\u001b[0m\u001b[1;33m:\u001b[0m\u001b[1;33m\u001b[0m\u001b[1;33m\u001b[0m\u001b[0m\n\u001b[0;32m    308\u001b[0m                     \u001b[0mgotit\u001b[0m \u001b[1;33m=\u001b[0m \u001b[0mwaiter\u001b[0m\u001b[1;33m.\u001b[0m\u001b[0macquire\u001b[0m\u001b[1;33m(\u001b[0m\u001b[1;32mFalse\u001b[0m\u001b[1;33m)\u001b[0m\u001b[1;33m\u001b[0m\u001b[1;33m\u001b[0m\u001b[0m\n",
      "\u001b[1;31mKeyboardInterrupt\u001b[0m: "
     ]
    }
   ],
   "source": [
    "# Source: https://github.com/dask/dask-searchcv/issues/51\n",
    "# Info: https://ml.dask.org/modules/generated/dask_ml.model_selection.RandomizedSearchCV.html\n",
    "\n",
    "from dask_ml.model_selection import RandomizedSearchCV\n",
    "from dask.diagnostics import ProgressBar\n",
    "\n",
    "dask_rscv = RandomizedSearchCV(xgb_model, \n",
    "                               cv=5,\n",
    "                               param_distributions=params, \n",
    "                               n_iter=50, # Number of parameter settings that are sampled → trades off runtime vs quality\n",
    "                               scoring='recall', # AP summarizes a precision-recall curve\n",
    "                               n_jobs=-2, # all CPUs but one are used\n",
    "                               random_state=0)\n",
    "\n",
    "with ProgressBar():\n",
    "    dask_rscv.fit(X=X_train, y=y_train)"
   ]
  },
  {
   "cell_type": "code",
   "execution_count": null,
   "metadata": {
    "ExecuteTime": {
     "end_time": "2021-03-24T15:46:27.987255Z",
     "start_time": "2021-03-22T19:07:07.635Z"
    },
    "scrolled": true
   },
   "outputs": [],
   "source": [
    "cv_res = pd.DataFrame(dask_rscv.cv_results_)\n",
    "cv_res.sort_values(by='rank_test_score', ascending=True)"
   ]
  },
  {
   "cell_type": "code",
   "execution_count": null,
   "metadata": {
    "ExecuteTime": {
     "end_time": "2021-03-24T15:46:27.990254Z",
     "start_time": "2021-03-22T19:07:07.643Z"
    }
   },
   "outputs": [],
   "source": [
    "dask_rscv.best_estimator_"
   ]
  },
  {
   "cell_type": "code",
   "execution_count": null,
   "metadata": {
    "ExecuteTime": {
     "end_time": "2021-03-24T15:46:27.994252Z",
     "start_time": "2021-03-22T19:07:07.650Z"
    }
   },
   "outputs": [],
   "source": [
    "dask_rscv.best_score_"
   ]
  },
  {
   "cell_type": "code",
   "execution_count": null,
   "metadata": {
    "ExecuteTime": {
     "end_time": "2021-03-24T15:46:27.998249Z",
     "start_time": "2021-03-22T19:07:07.658Z"
    }
   },
   "outputs": [],
   "source": [
    "dask_rscv.best_params_"
   ]
  },
  {
   "cell_type": "code",
   "execution_count": null,
   "metadata": {
    "ExecuteTime": {
     "end_time": "2021-03-24T15:46:28.003245Z",
     "start_time": "2021-03-22T19:07:07.664Z"
    }
   },
   "outputs": [],
   "source": [
    "dask_rscv.best_index_"
   ]
  },
  {
   "cell_type": "code",
   "execution_count": null,
   "metadata": {
    "ExecuteTime": {
     "end_time": "2021-03-24T15:46:28.006244Z",
     "start_time": "2021-03-22T19:07:07.671Z"
    }
   },
   "outputs": [],
   "source": [
    "dask_rscv.scorer_"
   ]
  },
  {
   "cell_type": "code",
   "execution_count": null,
   "metadata": {
    "ExecuteTime": {
     "end_time": "2021-03-24T15:46:28.011240Z",
     "start_time": "2021-03-22T19:07:07.679Z"
    }
   },
   "outputs": [],
   "source": [
    "dask_rscv.get_params"
   ]
  },
  {
   "cell_type": "code",
   "execution_count": null,
   "metadata": {
    "ExecuteTime": {
     "end_time": "2021-03-24T15:46:28.014240Z",
     "start_time": "2021-03-22T19:07:07.686Z"
    }
   },
   "outputs": [],
   "source": [
    "dask_rscv.predict(X_test)"
   ]
  },
  {
   "cell_type": "code",
   "execution_count": null,
   "metadata": {
    "ExecuteTime": {
     "end_time": "2021-03-24T15:46:28.018236Z",
     "start_time": "2021-03-22T19:07:07.697Z"
    }
   },
   "outputs": [],
   "source": [
    "dask_rscv.predict_proba(X_test)"
   ]
  },
  {
   "cell_type": "code",
   "execution_count": null,
   "metadata": {
    "ExecuteTime": {
     "end_time": "2021-03-24T15:46:28.096187Z",
     "start_time": "2021-03-22T19:07:07.704Z"
    }
   },
   "outputs": [],
   "source": [
    "dask_rscv.visualize(filename='dask_rscv_31', format='png')"
   ]
  },
  {
   "cell_type": "code",
   "execution_count": null,
   "metadata": {
    "ExecuteTime": {
     "end_time": "2021-03-24T15:46:28.100188Z",
     "start_time": "2021-03-22T19:07:07.738Z"
    }
   },
   "outputs": [],
   "source": [
    "best_dask_rscv = dask_rscv.best_estimator_\n",
    "best_dask_rscv"
   ]
  },
  {
   "cell_type": "markdown",
   "metadata": {},
   "source": [
    "## Evaluation"
   ]
  },
  {
   "cell_type": "markdown",
   "metadata": {},
   "source": [
    "### Additional metrics results"
   ]
  },
  {
   "cell_type": "code",
   "execution_count": null,
   "metadata": {
    "ExecuteTime": {
     "end_time": "2021-03-24T15:46:28.104186Z",
     "start_time": "2021-03-22T19:07:07.770Z"
    }
   },
   "outputs": [],
   "source": [
    "# Evaluate the model's metrics:\n",
    "\n",
    "from sklearn.metrics import fbeta_score, f1_score, recall_score, precision_score, accuracy_score, \\\n",
    "                            confusion_matrix, classification_report, roc_curve, precision_recall_curve, \\\n",
    "                            roc_auc_score, average_precision_score, plot_roc_curve, plot_precision_recall_curve\n",
    "\n",
    "def clf_metrics(classifier, X_test, y_test, y_pred):\n",
    "    print(\"Confusion matrix:\\n\", confusion_matrix(y_test, y_pred))\n",
    "    print(\"Normalized confusion matrix:\\n\", confusion_matrix(y_test, y_pred, normalize='true'), '\\n')\n",
    "    print(classification_report(y_test, y_pred, target_names=['on-time', 'delayed']))\n",
    "    print(\"F-beta (ß=2) = {:6.3f}\".format(fbeta_score(y_test, y_pred, beta=2)))   \n",
    "    print(\"F1 =           {:6.3f}\".format(f1_score(y_test, y_pred)))   \n",
    "    print(\"Recall =       {:6.3f}\".format(recall_score(y_test, y_pred)))   \n",
    "    print(\"Precision =    {:6.3f}\".format(precision_score(y_test, y_pred)))   \n",
    "    print(\"Accuracy =     {:6.3f}\".format(accuracy_score(y_test, y_pred)))"
   ]
  },
  {
   "cell_type": "markdown",
   "metadata": {},
   "source": [
    "### Test"
   ]
  },
  {
   "cell_type": "code",
   "execution_count": null,
   "metadata": {
    "ExecuteTime": {
     "end_time": "2021-03-24T15:46:28.108181Z",
     "start_time": "2021-03-22T19:07:07.783Z"
    }
   },
   "outputs": [],
   "source": [
    "y_train_pred = best_dask_rscv.predict(X_train)\n",
    "y_test_pred = best_dask_rscv.predict(X_test)\n",
    "y_test_pred"
   ]
  },
  {
   "cell_type": "code",
   "execution_count": null,
   "metadata": {
    "ExecuteTime": {
     "end_time": "2021-03-24T15:46:28.111179Z",
     "start_time": "2021-03-22T19:07:07.795Z"
    },
    "scrolled": false
   },
   "outputs": [],
   "source": [
    "print(\"-+-+-+ TRAINING dataset +-+-+-\\n\")\n",
    "clf_metrics(best_dask_rscv, X_train, y_train, y_train_pred)\n",
    "print(\"-------------------------------------------------------\\n\")\n",
    "print(\"-+-+-+ TEST dataset: +-+-+-\\n\")\n",
    "clf_metrics(best_dask_rscv, X_test, y_test, y_test_pred)"
   ]
  },
  {
   "cell_type": "markdown",
   "metadata": {},
   "source": [
    "### ROC curve"
   ]
  },
  {
   "cell_type": "code",
   "execution_count": null,
   "metadata": {
    "ExecuteTime": {
     "end_time": "2021-03-24T15:46:28.115177Z",
     "start_time": "2021-03-22T19:07:07.802Z"
    }
   },
   "outputs": [],
   "source": [
    "y_train_probabilities = best_dask_rscv.predict_proba(X_train)[:,1]\n",
    "y_test_probabilities = best_dask_rscv.predict_proba(X_test)[:,1]\n",
    "y_test_probabilities[:10]"
   ]
  },
  {
   "cell_type": "raw",
   "metadata": {
    "ExecuteTime": {
     "end_time": "2021-03-04T22:51:07.959116Z",
     "start_time": "2021-03-04T22:51:07.851161Z"
    }
   },
   "source": [
    "fpr_train, tpr_train, _ = roc_curve(y_train,  y_train_probabilities)\n",
    "fpr_test, tpr_test, _ = roc_curve(y_test,  y_test_probabilities)\n",
    "\n",
    "auc_train = roc_auc_score(y_train, y_train_probabilities)\n",
    "auc_test = roc_auc_score(y_test, y_test_probabilities)"
   ]
  },
  {
   "cell_type": "code",
   "execution_count": null,
   "metadata": {
    "ExecuteTime": {
     "end_time": "2021-03-24T15:46:28.119175Z",
     "start_time": "2021-03-22T19:07:07.864Z"
    },
    "scrolled": false
   },
   "outputs": [],
   "source": [
    "# Plot the figure:\n",
    "fig, ax = plt.subplots(1, 2, figsize=(15,6))\n",
    "       \n",
    "plot_roc_curve(best_dask_rscv, X_train, y_train, color='red', name='XGBoost_train', ax=ax[0])\n",
    "plot_roc_curve(best_dask_rscv, X_test, y_test, color='blue', name='XGBoost_test', ax=ax[0])\n",
    "ax[0].plot([0,1], [0,1], color='orange', linestyle='--')\n",
    "\n",
    "ax[0].set_xticks(np.arange(0.0, 1.1, step=0.1))\n",
    "ax[0].set_xlabel(\"fpr\", fontsize=15)\n",
    "\n",
    "ax[0].set_yticks(np.arange(0.0, 1.1, step=0.1))\n",
    "ax[0].set_ylabel(\"tpr\", fontsize=15)\n",
    "\n",
    "ax[0].set_title('ROC Curve Analysis', fontweight='bold', fontsize=15)\n",
    "ax[0].legend(prop={'size':13}, loc='lower right')\n",
    "\n",
    "\n",
    "plot_precision_recall_curve(best_dask_rscv, X_train, y_train, color='red', name='XGBoost_train', ax=ax[1])\n",
    "plot_precision_recall_curve(best_dask_rscv, X_test, y_test, color='blue', name='XGBoost_test', ax=ax[1])\n",
    "ax[1].plot([0,1], [1,0], color='orange', linestyle='--')\n",
    "\n",
    "ax[1].set_xticks(np.arange(0.0, 1.1, step=0.1))\n",
    "ax[1].set_xlabel(\"Recall\", fontsize=15)\n",
    "\n",
    "ax[1].set_yticks(np.arange(0.0, 1.1, step=0.1))\n",
    "ax[1].set_ylabel(\"Precision\", fontsize=15)\n",
    "\n",
    "ax[1].set_title('Precision-Recall Curve Analysis', fontweight='bold', fontsize=15)\n",
    "ax[1].legend(prop={'size':13}, loc='lower left')"
   ]
  },
  {
   "cell_type": "markdown",
   "metadata": {},
   "source": [
    "## Plotting"
   ]
  },
  {
   "cell_type": "markdown",
   "metadata": {},
   "source": [
    "### Feature importance (data)"
   ]
  },
  {
   "cell_type": "code",
   "execution_count": null,
   "metadata": {
    "ExecuteTime": {
     "end_time": "2021-03-24T15:46:28.124171Z",
     "start_time": "2021-03-22T19:07:07.877Z"
    },
    "scrolled": false
   },
   "outputs": [],
   "source": [
    "# Let's build a dictionary to better see each INFORMATIVE feature with its corresponding importance:\n",
    "feature_importance_dict = dict(zip(X_train.columns, best_dask_rscv.feature_importances_))\n",
    "feature_importance_df = pd.DataFrame(feature_importance_dict.items(), columns=['Feature', 'Importance']) \\\n",
    "                          .sort_values(by='Importance', ascending=False)\n",
    "feature_importance_df = feature_importance_df[feature_importance_df['Importance'] != 0]\n",
    "feature_importance_df"
   ]
  },
  {
   "cell_type": "code",
   "execution_count": null,
   "metadata": {
    "ExecuteTime": {
     "end_time": "2021-03-24T15:46:28.127170Z",
     "start_time": "2021-03-22T19:07:07.883Z"
    },
    "scrolled": false
   },
   "outputs": [],
   "source": [
    "fig, ax = plt.subplots(figsize=(9, 6))\n",
    "ax = sns.barplot(y='Feature', x='Importance', data=feature_importance_df, orient='h');"
   ]
  },
  {
   "cell_type": "markdown",
   "metadata": {},
   "source": [
    "### Permutation Feature Importance"
   ]
  },
  {
   "cell_type": "code",
   "execution_count": null,
   "metadata": {
    "ExecuteTime": {
     "end_time": "2021-03-24T15:46:28.131166Z",
     "start_time": "2021-03-22T19:07:07.892Z"
    }
   },
   "outputs": [],
   "source": [
    "# Source: https://machinelearningmastery.com/calculate-feature-importance-with-python/\n",
    "\n",
    "from sklearn.inspection import permutation_importance\n",
    "\n",
    "# perform permutation importance\n",
    "results = permutation_importance(best_dask_rscv, X_train, y_train, scoring='average_precision')\n",
    "# get importance\n",
    "importance = dict(zip(X_train.columns, results.importances_mean))\n",
    "permutation_importance_df = pd.DataFrame(importance.items(), columns=['Feature', 'Permutation_Importance']) \\\n",
    "                          .sort_values(by='Permutation_Importance', ascending=False)\n",
    "permutation_importance_df = permutation_importance_df[permutation_importance_df['Permutation_Importance'] != 0]\n",
    "permutation_importance_df"
   ]
  },
  {
   "cell_type": "code",
   "execution_count": null,
   "metadata": {
    "ExecuteTime": {
     "end_time": "2021-03-24T15:46:28.136164Z",
     "start_time": "2021-03-22T19:07:07.899Z"
    }
   },
   "outputs": [],
   "source": [
    "fig, ax = plt.subplots(figsize=(9, 6))\n",
    "ax = sns.barplot(y='Feature', x='Permutation_Importance', data=permutation_importance_df, orient='h');"
   ]
  },
  {
   "cell_type": "markdown",
   "metadata": {},
   "source": [
    "### Feature importance (plot)"
   ]
  },
  {
   "cell_type": "markdown",
   "metadata": {},
   "source": [
    "#### Weight-based"
   ]
  },
  {
   "cell_type": "code",
   "execution_count": null,
   "metadata": {
    "ExecuteTime": {
     "end_time": "2021-03-24T15:46:28.216115Z",
     "start_time": "2021-03-22T19:07:07.908Z"
    },
    "scrolled": false
   },
   "outputs": [],
   "source": [
    "from xgboost import plot_importance\n",
    "\n",
    "fig,ax = plt.subplots(figsize=(9,6))\n",
    "\n",
    "plot_importance(booster=best_dask_rscv,\n",
    "                ax=ax,\n",
    "                grid=True,\n",
    "                importance_type='weight', # ”weight” is the number of times a feature appears in a tree\n",
    "                max_num_features=None, \n",
    "                height=0.5,\n",
    "                xlim=None,\n",
    "                ylim=None, \n",
    "                title='Feature importance (WEIGHT-based)',\n",
    "                xlabel='F score',\n",
    "                ylabel='Features',\n",
    "                show_values=True);"
   ]
  },
  {
   "cell_type": "markdown",
   "metadata": {},
   "source": [
    "#### Gain-based"
   ]
  },
  {
   "cell_type": "code",
   "execution_count": null,
   "metadata": {
    "ExecuteTime": {
     "end_time": "2021-03-24T15:46:28.220111Z",
     "start_time": "2021-03-22T19:07:07.916Z"
    }
   },
   "outputs": [],
   "source": [
    "from xgboost import plot_importance\n",
    "\n",
    "fig,ax = plt.subplots(figsize=(9,6))\n",
    "\n",
    "plot_importance(booster=best_dask_rscv,\n",
    "                ax=ax,\n",
    "                grid=True,\n",
    "                importance_type='gain',\n",
    "                max_num_features=None, \n",
    "                height=0.5,\n",
    "                xlim=None,\n",
    "                ylim=None, \n",
    "                title='Feature importance (GAIN-based)',\n",
    "                xlabel='F score',\n",
    "                ylabel='Features',\n",
    "                show_values=True);"
   ]
  },
  {
   "cell_type": "markdown",
   "metadata": {},
   "source": [
    "### Tree"
   ]
  },
  {
   "cell_type": "code",
   "execution_count": null,
   "metadata": {
    "ExecuteTime": {
     "end_time": "2021-03-24T15:46:28.224111Z",
     "start_time": "2021-03-22T19:07:07.924Z"
    }
   },
   "outputs": [],
   "source": [
    "from xgboost import plot_tree\n",
    "\n",
    "fig,ax = plt.subplots(figsize=(80,50))\n",
    "\n",
    "plot_tree(booster=best_dask_rscv,\n",
    "          num_trees=0,\n",
    "          ax=ax)\n",
    "\n",
    "plt.savefig('plot_tree_31_best_dask_rscv.png')"
   ]
  },
  {
   "cell_type": "markdown",
   "metadata": {},
   "source": [
    "### Graphviz (tree)"
   ]
  },
  {
   "cell_type": "markdown",
   "metadata": {},
   "source": [
    "*Convert specified tree to graphviz instance. IPython can automatically plot the returned graphiz instance. Otherwise, you should call `.render()` method of the returned graphiz instance.*"
   ]
  },
  {
   "cell_type": "code",
   "execution_count": null,
   "metadata": {
    "ExecuteTime": {
     "end_time": "2021-03-24T15:46:28.229107Z",
     "start_time": "2021-03-22T19:07:07.934Z"
    }
   },
   "outputs": [],
   "source": [
    "from xgboost import to_graphviz\n",
    "\n",
    "tree_graphviz = to_graphviz(booster=best_dask_rscv,\n",
    "                            yes_color='#0000FF',\n",
    "                            no_color='#FF0000',\n",
    "                            condition_node_params={'shape': 'box',\n",
    "                                                   'style': 'filled,rounded',\n",
    "                                                   'fillcolor': '#78bceb'},\n",
    "                            leaf_node_params={'shape': 'box',\n",
    "                                              'style': 'filled',\n",
    "                                              'fillcolor': '#e48038'})\n",
    "\n",
    "format = 'png'\n",
    "tree_graphviz = to_graphviz(best_dask_rscv)\n",
    "tree_graphviz.graph_attr = {'dpi':'400'}\n",
    "tree_graphviz.render('tree_graphviz_31_best_dask_rscv', format = format)"
   ]
  },
  {
   "cell_type": "markdown",
   "metadata": {},
   "source": [
    "___"
   ]
  },
  {
   "cell_type": "code",
   "execution_count": null,
   "metadata": {
    "ExecuteTime": {
     "end_time": "2021-03-24T15:46:28.232104Z",
     "start_time": "2021-03-22T19:07:07.943Z"
    }
   },
   "outputs": [],
   "source": [
    "t1 = time.perf_counter() - t0\n",
    "print(\"Time elapsed: {:2.0f}h {:2.0f}min {:2.0f}s\".format(t1//3600, (t1%3600)//60, (t1%3600)%60))"
   ]
  },
  {
   "cell_type": "markdown",
   "metadata": {},
   "source": [
    "## Save the model"
   ]
  },
  {
   "cell_type": "code",
   "execution_count": null,
   "metadata": {
    "ExecuteTime": {
     "end_time": "2021-03-24T15:46:28.237103Z",
     "start_time": "2021-03-22T19:07:07.976Z"
    }
   },
   "outputs": [],
   "source": [
    "from joblib import dump, load\n",
    "\n",
    "# Save model to file:\n",
    "dump(best_dask_rscv, \"XGBoost_31_best_dask_rscv.joblib.dat\")\n",
    "print(\"Saved model to: XGBoost_31_best_dask_rscv.joblib.dat\")"
   ]
  },
  {
   "cell_type": "code",
   "execution_count": null,
   "metadata": {
    "ExecuteTime": {
     "end_time": "2021-03-24T15:46:28.240098Z",
     "start_time": "2021-03-22T19:07:07.987Z"
    }
   },
   "outputs": [],
   "source": [
    "# Load model from file:\n",
    "loaded_model = load(\"XGBoost_31_best_dask_rscv.joblib.dat\")\n",
    "print(\"Loaded model from: XGBoost_31_best_dask_rscv.joblib.dat\")"
   ]
  },
  {
   "cell_type": "code",
   "execution_count": null,
   "metadata": {
    "ExecuteTime": {
     "end_time": "2021-03-24T15:46:28.243097Z",
     "start_time": "2021-03-22T19:07:07.996Z"
    }
   },
   "outputs": [],
   "source": [
    "# Make predictions for test data\n",
    "predictions = loaded_model.predict(X_test)\n",
    "\n",
    "# Evaluate predictions:\n",
    "recall = recall_score(y_test, predictions)\n",
    "print(\"Loaded model recall: {:6.3f}\".format(recall))"
   ]
  },
  {
   "cell_type": "markdown",
   "metadata": {},
   "source": [
    "___"
   ]
  }
 ],
 "metadata": {
  "hide_input": false,
  "kernelspec": {
   "display_name": "Python 3",
   "language": "python",
   "name": "python3"
  },
  "language_info": {
   "codemirror_mode": {
    "name": "ipython",
    "version": 3
   },
   "file_extension": ".py",
   "mimetype": "text/x-python",
   "name": "python",
   "nbconvert_exporter": "python",
   "pygments_lexer": "ipython3",
   "version": "3.8.5"
  },
  "toc": {
   "base_numbering": 1,
   "nav_menu": {},
   "number_sections": true,
   "sideBar": true,
   "skip_h1_title": false,
   "title_cell": "Table of Contents",
   "title_sidebar": "Contents",
   "toc_cell": false,
   "toc_position": {
    "height": "calc(100% - 180px)",
    "left": "10px",
    "top": "150px",
    "width": "384px"
   },
   "toc_section_display": true,
   "toc_window_display": true
  },
  "varInspector": {
   "cols": {
    "lenName": 16,
    "lenType": 16,
    "lenVar": 40
   },
   "kernels_config": {
    "python": {
     "delete_cmd_postfix": "",
     "delete_cmd_prefix": "del ",
     "library": "var_list.py",
     "varRefreshCmd": "print(var_dic_list())"
    },
    "r": {
     "delete_cmd_postfix": ") ",
     "delete_cmd_prefix": "rm(",
     "library": "var_list.r",
     "varRefreshCmd": "cat(var_dic_list()) "
    }
   },
   "position": {
    "height": "829px",
    "left": "1550px",
    "right": "20px",
    "top": "113px",
    "width": "347px"
   },
   "types_to_exclude": [
    "module",
    "function",
    "builtin_function_or_method",
    "instance",
    "_Feature"
   ],
   "window_display": true
  }
 },
 "nbformat": 4,
 "nbformat_minor": 4
}
