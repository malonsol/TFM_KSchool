{
 "cells": [
  {
   "cell_type": "markdown",
   "metadata": {},
   "source": [
    "___"
   ]
  },
  {
   "cell_type": "code",
   "execution_count": 1,
   "metadata": {
    "ExecuteTime": {
     "end_time": "2021-05-07T17:49:38.504705Z",
     "start_time": "2021-05-07T17:49:34.488429Z"
    }
   },
   "outputs": [],
   "source": [
    "# Import libraries to be used\n",
    "\n",
    "# Directories/Files management\n",
    "import os.path\n",
    "\n",
    "# Timing\n",
    "import time\n",
    "\n",
    "# Data analysis and wrangling\n",
    "import pandas as pd\n",
    "import numpy as np\n",
    "pd.set_option('display.max_columns', None) # Show all columns in DataFrames\n",
    "## pd.set_option('display.max_rows', None) # It greatly slows down the output display and may freeze the kernel\n",
    "import missingno as msno\n",
    "from collections import Counter\n",
    "\n",
    "# Visualization\n",
    "import matplotlib.pyplot as plt\n",
    "import seaborn as sns\n",
    "%matplotlib inline\n",
    "plt.style.use('ggplot') # choose a style: 'plt.style.available'\n",
    "sns.set_theme(context='notebook',\n",
    "              style=\"darkgrid\") # {darkgrid, whitegrid, dark, white, ticks}\n",
    "palette = sns.color_palette(\"flare\", as_cmap=True);\n",
    "import altair as alt\n",
    "\n",
    "# Machine Learning:\n",
    "# - Model selection:\n",
    "from sklearn.model_selection import train_test_split, StratifiedShuffleSplit, KFold, cross_val_score, StratifiedKFold, \\\n",
    "                                    GridSearchCV, RandomizedSearchCV\n",
    "from sklearn.inspection import permutation_importance\n",
    "\n",
    "# - Basic classes for custom-made transformers:\n",
    "from sklearn.base import BaseEstimator, TransformerMixin\n",
    "\n",
    "# - Transformers:\n",
    "from sklearn.preprocessing import StandardScaler, OneHotEncoder\n",
    "from category_encoders.target_encoder import TargetEncoder\n",
    "from sklearn.impute import SimpleImputer\n",
    "from sklearn.decomposition import PCA\n",
    "\n",
    "# - Pipeline:\n",
    "from sklearn.compose import ColumnTransformer\n",
    "from sklearn.pipeline import Pipeline\n",
    "\n",
    "# - Models:\n",
    "from sklearn.linear_model import LogisticRegression\n",
    "from xgboost import XGBClassifier, plot_importance, plot_tree\n",
    "\n",
    "# - Metrics:\n",
    "from sklearn.metrics import fbeta_score, f1_score, recall_score, precision_score, accuracy_score, \\\n",
    "                            confusion_matrix, classification_report, roc_curve, precision_recall_curve, \\\n",
    "                            roc_auc_score, average_precision_score, plot_roc_curve, plot_precision_recall_curve\n",
    "\n",
    "# Objects storage:\n",
    "from joblib import dump, load\n",
    "import pickle"
   ]
  },
  {
   "cell_type": "code",
   "execution_count": 2,
   "metadata": {
    "ExecuteTime": {
     "end_time": "2021-05-07T17:49:38.520000Z",
     "start_time": "2021-05-07T17:49:38.508046Z"
    }
   },
   "outputs": [],
   "source": [
    "t0 = time.perf_counter() "
   ]
  },
  {
   "cell_type": "code",
   "execution_count": 3,
   "metadata": {
    "ExecuteTime": {
     "end_time": "2021-05-07T17:49:38.535802Z",
     "start_time": "2021-05-07T17:49:38.523809Z"
    }
   },
   "outputs": [
    {
     "name": "stdout",
     "output_type": "stream",
     "text": [
      "Running on Windows.\n",
      "root path\t C:\\Users\\turge\\Desktop\\TFM\\notebooks\\model\n"
     ]
    }
   ],
   "source": [
    "# Detect Operating System running and manage paths accordingly\n",
    "\n",
    "root = os.getcwd()\n",
    "if os.name == 'nt': # Windows\n",
    "    print(\"Running on Windows.\")\n",
    "elif os.name == 'posix': # Ubuntu\n",
    "    print(\"Running on Ubuntu.\")\n",
    "print(\"root path\\t\", root)"
   ]
  },
  {
   "cell_type": "markdown",
   "metadata": {},
   "source": [
    "# Load the dataset"
   ]
  },
  {
   "cell_type": "raw",
   "metadata": {
    "ExecuteTime": {
     "end_time": "2021-04-05T17:59:16.042693Z",
     "start_time": "2021-04-05T17:59:16.030703Z"
    }
   },
   "source": [
    "cols = [\n",
    "    'MONTH',\n",
    "#     'DAY_OF_MONTH',\n",
    "    'DAY_OF_WEEK',\n",
    "    'OP_UNIQUE_CARRIER',\n",
    "#     'TAIL_NUM',\n",
    "    'ORIGIN',\n",
    "#     'ORIGIN_CITY_NAME',\n",
    "#     'ORIGIN_STATE_ABR',\n",
    "#     'ORIGIN_STATE_NM',\n",
    "#     'WBAN_Origin_OTP',\n",
    "    'DEST',\n",
    "#     'DEST_CITY_NAME',\n",
    "#     'DEST_STATE_ABR',\n",
    "#     'DEST_STATE_NM',\n",
    "#     'WBAN_Dest_OTP',\n",
    "#     'CRS_DEP_TIME',\n",
    "#     'DEP_TIME',\n",
    "#     'DEP_DELAY',\n",
    "#     'DEP_DEL15',\n",
    "    'DEP_TIME_hour',\n",
    "#     'TAXI_OUT',\n",
    "#     'TAXI_IN',\n",
    "    'TAXI_OUT_median',\n",
    "    'TAXI_IN_median',\n",
    "#     'CRS_ARR_TIME',\n",
    "#     'ARR_TIME',\n",
    "#     'ARR_DELAY',\n",
    "    'ARR_DEL15', # → Target !!\n",
    "    'ARR_TIME_hour',\n",
    "#     'CANCELLED',\n",
    "#     'CRS_ELAPSED_TIME',\n",
    "    'DISTANCE',\n",
    "#     'DISTANCE_GROUP',\n",
    "#     'CARRIER_DELAY',\n",
    "#     'WEATHER_DELAY',\n",
    "#     'NAS_DELAY',\n",
    "#     'SECURITY_DELAY',\n",
    "#     'LATE_AIRCRAFT_DELAY',\n",
    "    \n",
    "#     'STATION_Origin',\n",
    "#     'WMO_Origin',\n",
    "#     'WBAN_Origin_LCD',\n",
    "    'LATITUDE_Origin',\n",
    "    'LONGITUDE_Origin',\n",
    "    'HourlyAltimeterSetting_Origin',\n",
    "    'HourlyDryBulbTemperature_Origin',\n",
    "    'HourlyPrecipitation_Origin',\n",
    "    'HourlyRelativeHumidity_Origin',\n",
    "    'HourlySkyConditions_Origin',\n",
    "    'HourlyVisibility_Origin',\n",
    "#     'HourlyWindDirection_Origin',\n",
    "    'HourlyWindGustSpeed_Origin',\n",
    "    'HourlyWindSpeed_Origin',\n",
    "#     'REM_Origin',\n",
    "#     'STATION_Dest',\n",
    "#     'WMO_Dest',\n",
    "#     'WBAN_Dest_LCD',\n",
    "    'LATITUDE_Dest',\n",
    "    'LONGITUDE_Dest',\n",
    "    'HourlyAltimeterSetting_Dest',\n",
    "    'HourlyDryBulbTemperature_Dest',\n",
    "    'HourlyPrecipitation_Dest',\n",
    "    'HourlyRelativeHumidity_Dest',\n",
    "    'HourlySkyConditions_Dest',\n",
    "    'HourlyVisibility_Dest',\n",
    "#     'HourlyWindDirection_Dest',\n",
    "    'HourlyWindGustSpeed_Dest',\n",
    "    'HourlyWindSpeed_Dest',\n",
    "#     'REM_Dest'\n",
    "]"
   ]
  },
  {
   "cell_type": "raw",
   "metadata": {
    "ExecuteTime": {
     "end_time": "2021-04-05T17:59:16.073623Z",
     "start_time": "2021-04-05T17:59:16.047690Z"
    }
   },
   "source": [
    "cols_dtypes = {\n",
    "    'MONTH' : 'string',\n",
    "#     'DAY_OF_MONTH' : 'string',\n",
    "    'DAY_OF_WEEK' : 'string',\n",
    "    'OP_UNIQUE_CARRIER' : 'string',\n",
    "#     'TAIL_NUM' : 'string',\n",
    "    'ORIGIN' : 'string',\n",
    "#     'ORIGIN_CITY_NAME' : 'string',\n",
    "#     'ORIGIN_STATE_ABR' : 'string',\n",
    "#     'ORIGIN_STATE_NM' : 'string',\n",
    "#     'WBAN_Origin_OTP' : 'string',\n",
    "    'DEST' : 'string',\n",
    "#     'DEST_CITY_NAME' : 'string',\n",
    "#     'DEST_STATE_ABR' : 'string',\n",
    "#     'DEST_STATE_NM' : 'string',\n",
    "#     'WBAN_Dest_OTP' : 'string',\n",
    "#     'CRS_DEP_TIME' : 'string',\n",
    "#     'DEP_TIME' : 'string',\n",
    "#     'DEP_DELAY' : 'int32',\n",
    "#     'DEP_DEL15' : 'int32',\n",
    "    'DEP_TIME_hour' : 'string',\n",
    "#     'TAXI_OUT' : 'int32',\n",
    "#     'TAXI_IN' : 'int32',\n",
    "    'TAXI_OUT_median' : 'int32',\n",
    "    'TAXI_IN_median' : 'int32',\n",
    "#     'CRS_ARR_TIME' : 'string',\n",
    "#     'ARR_TIME' : 'string',\n",
    "#     'ARR_DELAY' : 'int32',\n",
    "    'ARR_DEL15' : 'int32', # → Target !!\n",
    "    'ARR_TIME_hour' : 'string',\n",
    "#     'CANCELLED' : 'string',\n",
    "#     'CRS_ELAPSED_TIME' : 'int32',\n",
    "    'DISTANCE' : 'int32',\n",
    "#     'DISTANCE_GROUP' : 'string',\n",
    "#     'CARRIER_DELAY' : 'int32',\n",
    "#     'WEATHER_DELAY' : 'int32',\n",
    "#     'NAS_DELAY' : 'int32',\n",
    "#     'SECURITY_DELAY' : 'int32',\n",
    "#     'LATE_AIRCRAFT_DELAY' : 'int32',\n",
    "\n",
    "#     'STATION_Origin' : 'string',\n",
    "#     'WMO_Origin' : 'string',\n",
    "#     'WBAN_Origin_LCD' : 'string',\n",
    "    'LATITUDE_Origin' : 'float64',\n",
    "    'LONGITUDE_Origin' : 'float64',\n",
    "    'HourlyAltimeterSetting_Origin' : 'float64',\n",
    "    'HourlyDryBulbTemperature_Origin' : 'int32',\n",
    "    'HourlyPrecipitation_Origin' : 'float64',\n",
    "    'HourlyRelativeHumidity_Origin' : 'int32',\n",
    "    'HourlySkyConditions_Origin' : 'string',\n",
    "    'HourlyVisibility_Origin' : 'int32',\n",
    "#     'HourlyWindDirection_Origin' : 'string',\n",
    "    'HourlyWindGustSpeed_Origin' : 'int32',\n",
    "    'HourlyWindSpeed_Origin' : 'int32',\n",
    "#     'REM_Origin' : 'string',\n",
    "#     'STATION_Dest' : 'string',\n",
    "#     'WMO_Dest' : 'string',\n",
    "#     'WBAN_Dest_LCD' : 'string',\n",
    "    'LATITUDE_Dest' : 'float64',\n",
    "    'LONGITUDE_Dest' : 'float64',\n",
    "    'HourlyAltimeterSetting_Dest' : 'float64',\n",
    "    'HourlyDryBulbTemperature_Dest' : 'int32',\n",
    "    'HourlyPrecipitation_Dest' : 'float64',\n",
    "    'HourlyRelativeHumidity_Dest' : 'int32',\n",
    "    'HourlySkyConditions_Dest' : 'string',\n",
    "    'HourlyVisibility_Dest' : 'int32',\n",
    "#     'HourlyWindDirection_Dest' : 'string',\n",
    "    'HourlyWindGustSpeed_Dest' : 'int32',\n",
    "    'HourlyWindSpeed_Dest' : 'int32',\n",
    "#     'REM_Dest' : 'string',\n",
    "}"
   ]
  },
  {
   "cell_type": "code",
   "execution_count": 4,
   "metadata": {
    "ExecuteTime": {
     "end_time": "2021-05-07T17:49:38.551792Z",
     "start_time": "2021-05-07T17:49:38.539800Z"
    }
   },
   "outputs": [],
   "source": [
    "cols = [\n",
    "    'MONTH',\n",
    "#     'DAY_OF_MONTH',\n",
    "    'DAY_OF_WEEK',\n",
    "    'OP_UNIQUE_CARRIER',\n",
    "#     'TAIL_NUM',\n",
    "    'ORIGIN',\n",
    "#     'ORIGIN_CITY_NAME',\n",
    "#     'ORIGIN_STATE_ABR',\n",
    "#     'ORIGIN_STATE_NM',\n",
    "#     'WBAN_Origin_OTP',\n",
    "    'DEST',\n",
    "#     'DEST_CITY_NAME',\n",
    "#     'DEST_STATE_ABR',\n",
    "#     'DEST_STATE_NM',\n",
    "#     'WBAN_Dest_OTP',\n",
    "#     'CRS_DEP_TIME',\n",
    "#     'DEP_TIME',\n",
    "#     'DEP_DELAY',\n",
    "#     'DEP_DEL15',\n",
    "    'DEP_TIME_hour',\n",
    "#     'TAXI_OUT',\n",
    "#     'TAXI_IN',\n",
    "    'TAXI_OUT_median',\n",
    "    'TAXI_IN_median',\n",
    "#     'CRS_ARR_TIME',\n",
    "#     'ARR_TIME',\n",
    "#     'ARR_DELAY',\n",
    "    'ARR_DEL15', # → Target !!\n",
    "    'ARR_TIME_hour',\n",
    "#     'CANCELLED',\n",
    "#     'CRS_ELAPSED_TIME',\n",
    "    'DISTANCE',\n",
    "#     'DISTANCE_GROUP',\n",
    "#     'CARRIER_DELAY',\n",
    "#     'WEATHER_DELAY',\n",
    "#     'NAS_DELAY',\n",
    "#     'SECURITY_DELAY',\n",
    "#     'LATE_AIRCRAFT_DELAY',\n",
    "    \n",
    "#     'STATION_Origin',\n",
    "#     'WMO_Origin',\n",
    "#     'WBAN_Origin_LCD',\n",
    "#     'LATITUDE_Origin',\n",
    "#     'LONGITUDE_Origin',\n",
    "    'HourlyAltimeterSetting_Origin',\n",
    "    'HourlyDryBulbTemperature_Origin',\n",
    "    'HourlyPrecipitation_Origin',\n",
    "    'HourlyRelativeHumidity_Origin',\n",
    "    'HourlySkyConditions_Origin',\n",
    "    'HourlyVisibility_Origin',\n",
    "#     'HourlyWindDirection_Origin',\n",
    "    'HourlyWindGustSpeed_Origin',\n",
    "    'HourlyWindSpeed_Origin',\n",
    "#     'REM_Origin',\n",
    "#     'STATION_Dest',\n",
    "#     'WMO_Dest',\n",
    "#     'WBAN_Dest_LCD',\n",
    "#     'LATITUDE_Dest',\n",
    "#     'LONGITUDE_Dest',\n",
    "    'HourlyAltimeterSetting_Dest',\n",
    "    'HourlyDryBulbTemperature_Dest',\n",
    "    'HourlyPrecipitation_Dest',\n",
    "    'HourlyRelativeHumidity_Dest',\n",
    "    'HourlySkyConditions_Dest',\n",
    "    'HourlyVisibility_Dest',\n",
    "#     'HourlyWindDirection_Dest',\n",
    "    'HourlyWindGustSpeed_Dest',\n",
    "    'HourlyWindSpeed_Dest',\n",
    "#     'REM_Dest'\n",
    "]"
   ]
  },
  {
   "cell_type": "code",
   "execution_count": 5,
   "metadata": {
    "ExecuteTime": {
     "end_time": "2021-05-07T17:49:38.567782Z",
     "start_time": "2021-05-07T17:49:38.554790Z"
    }
   },
   "outputs": [],
   "source": [
    "cols_dtypes = {\n",
    "    'MONTH' : 'string',\n",
    "#     'DAY_OF_MONTH' : 'string',\n",
    "    'DAY_OF_WEEK' : 'string',\n",
    "    'OP_UNIQUE_CARRIER' : 'string',\n",
    "#     'TAIL_NUM' : 'string',\n",
    "    'ORIGIN' : 'string',\n",
    "#     'ORIGIN_CITY_NAME' : 'string',\n",
    "#     'ORIGIN_STATE_ABR' : 'string',\n",
    "#     'ORIGIN_STATE_NM' : 'string',\n",
    "#     'WBAN_Origin_OTP' : 'string',\n",
    "    'DEST' : 'string',\n",
    "#     'DEST_CITY_NAME' : 'string',\n",
    "#     'DEST_STATE_ABR' : 'string',\n",
    "#     'DEST_STATE_NM' : 'string',\n",
    "#     'WBAN_Dest_OTP' : 'string',\n",
    "#     'CRS_DEP_TIME' : 'string',\n",
    "#     'DEP_TIME' : 'string',\n",
    "#     'DEP_DELAY' : 'int32',\n",
    "#     'DEP_DEL15' : 'int32',\n",
    "    'DEP_TIME_hour' : 'string',\n",
    "#     'TAXI_OUT' : 'int32',\n",
    "#     'TAXI_IN' : 'int32',\n",
    "    'TAXI_OUT_median' : 'int32',\n",
    "    'TAXI_IN_median' : 'int32',\n",
    "#     'CRS_ARR_TIME' : 'string',\n",
    "#     'ARR_TIME' : 'string',\n",
    "#     'ARR_DELAY' : 'int32',\n",
    "    'ARR_DEL15' : 'int32', # → Target !!\n",
    "    'ARR_TIME_hour' : 'string',\n",
    "#     'CANCELLED' : 'string',\n",
    "#     'CRS_ELAPSED_TIME' : 'int32',\n",
    "    'DISTANCE' : 'int32',\n",
    "#     'DISTANCE_GROUP' : 'string',\n",
    "#     'CARRIER_DELAY' : 'int32',\n",
    "#     'WEATHER_DELAY' : 'int32',\n",
    "#     'NAS_DELAY' : 'int32',\n",
    "#     'SECURITY_DELAY' : 'int32',\n",
    "#     'LATE_AIRCRAFT_DELAY' : 'int32',\n",
    "\n",
    "#     'STATION_Origin' : 'string',\n",
    "#     'WMO_Origin' : 'string',\n",
    "#     'WBAN_Origin_LCD' : 'string',\n",
    "#     'LATITUDE_Origin' : 'float64',\n",
    "#     'LONGITUDE_Origin' : 'float64',\n",
    "    'HourlyAltimeterSetting_Origin' : 'float64',\n",
    "    'HourlyDryBulbTemperature_Origin' : 'int32',\n",
    "    'HourlyPrecipitation_Origin' : 'float64',\n",
    "    'HourlyRelativeHumidity_Origin' : 'int32',\n",
    "    'HourlySkyConditions_Origin' : 'string',\n",
    "    'HourlyVisibility_Origin' : 'int32',\n",
    "#     'HourlyWindDirection_Origin' : 'string',\n",
    "    'HourlyWindGustSpeed_Origin' : 'int32',\n",
    "    'HourlyWindSpeed_Origin' : 'int32',\n",
    "#     'REM_Origin' : 'string',\n",
    "#     'STATION_Dest' : 'string',\n",
    "#     'WMO_Dest' : 'string',\n",
    "#     'WBAN_Dest_LCD' : 'string',\n",
    "#     'LATITUDE_Dest' : 'float64',\n",
    "#     'LONGITUDE_Dest' : 'float64',\n",
    "    'HourlyAltimeterSetting_Dest' : 'float64',\n",
    "    'HourlyDryBulbTemperature_Dest' : 'int32',\n",
    "    'HourlyPrecipitation_Dest' : 'float64',\n",
    "    'HourlyRelativeHumidity_Dest' : 'int32',\n",
    "    'HourlySkyConditions_Dest' : 'string',\n",
    "    'HourlyVisibility_Dest' : 'int32',\n",
    "#     'HourlyWindDirection_Dest' : 'string',\n",
    "    'HourlyWindGustSpeed_Dest' : 'int32',\n",
    "    'HourlyWindSpeed_Dest' : 'int32',\n",
    "#     'REM_Dest' : 'string',\n",
    "}"
   ]
  },
  {
   "cell_type": "code",
   "execution_count": 6,
   "metadata": {
    "ExecuteTime": {
     "end_time": "2021-05-07T17:50:49.884845Z",
     "start_time": "2021-05-07T17:49:38.570779Z"
    },
    "scrolled": true
   },
   "outputs": [
    {
     "name": "stdout",
     "output_type": "stream",
     "text": [
      "Wall time: 1min 11s\n"
     ]
    },
    {
     "data": {
      "text/html": [
       "<div>\n",
       "<style scoped>\n",
       "    .dataframe tbody tr th:only-of-type {\n",
       "        vertical-align: middle;\n",
       "    }\n",
       "\n",
       "    .dataframe tbody tr th {\n",
       "        vertical-align: top;\n",
       "    }\n",
       "\n",
       "    .dataframe thead th {\n",
       "        text-align: right;\n",
       "    }\n",
       "</style>\n",
       "<table border=\"1\" class=\"dataframe\">\n",
       "  <thead>\n",
       "    <tr style=\"text-align: right;\">\n",
       "      <th></th>\n",
       "      <th>MONTH</th>\n",
       "      <th>DAY_OF_WEEK</th>\n",
       "      <th>OP_UNIQUE_CARRIER</th>\n",
       "      <th>ORIGIN</th>\n",
       "      <th>DEST</th>\n",
       "      <th>DEP_TIME_hour</th>\n",
       "      <th>TAXI_OUT_median</th>\n",
       "      <th>TAXI_IN_median</th>\n",
       "      <th>ARR_DEL15</th>\n",
       "      <th>ARR_TIME_hour</th>\n",
       "      <th>DISTANCE</th>\n",
       "      <th>HourlyAltimeterSetting_Origin</th>\n",
       "      <th>HourlyDryBulbTemperature_Origin</th>\n",
       "      <th>HourlyPrecipitation_Origin</th>\n",
       "      <th>HourlyRelativeHumidity_Origin</th>\n",
       "      <th>HourlySkyConditions_Origin</th>\n",
       "      <th>HourlyVisibility_Origin</th>\n",
       "      <th>HourlyWindGustSpeed_Origin</th>\n",
       "      <th>HourlyWindSpeed_Origin</th>\n",
       "      <th>HourlyAltimeterSetting_Dest</th>\n",
       "      <th>HourlyDryBulbTemperature_Dest</th>\n",
       "      <th>HourlyPrecipitation_Dest</th>\n",
       "      <th>HourlyRelativeHumidity_Dest</th>\n",
       "      <th>HourlySkyConditions_Dest</th>\n",
       "      <th>HourlyVisibility_Dest</th>\n",
       "      <th>HourlyWindGustSpeed_Dest</th>\n",
       "      <th>HourlyWindSpeed_Dest</th>\n",
       "    </tr>\n",
       "  </thead>\n",
       "  <tbody>\n",
       "    <tr>\n",
       "      <th>1800695</th>\n",
       "      <td>08</td>\n",
       "      <td>1</td>\n",
       "      <td>WN</td>\n",
       "      <td>DEN</td>\n",
       "      <td>LAS</td>\n",
       "      <td>12</td>\n",
       "      <td>12</td>\n",
       "      <td>5</td>\n",
       "      <td>0</td>\n",
       "      <td>13</td>\n",
       "      <td>628</td>\n",
       "      <td>30.09</td>\n",
       "      <td>74</td>\n",
       "      <td>0.0</td>\n",
       "      <td>38</td>\n",
       "      <td>FEW</td>\n",
       "      <td>10</td>\n",
       "      <td>20</td>\n",
       "      <td>11</td>\n",
       "      <td>29.820</td>\n",
       "      <td>106</td>\n",
       "      <td>0.00</td>\n",
       "      <td>10</td>\n",
       "      <td>FEW</td>\n",
       "      <td>10</td>\n",
       "      <td>0</td>\n",
       "      <td>5</td>\n",
       "    </tr>\n",
       "    <tr>\n",
       "      <th>3052601</th>\n",
       "      <td>01</td>\n",
       "      <td>2</td>\n",
       "      <td>AA</td>\n",
       "      <td>BOS</td>\n",
       "      <td>DCA</td>\n",
       "      <td>6</td>\n",
       "      <td>19</td>\n",
       "      <td>5</td>\n",
       "      <td>0</td>\n",
       "      <td>7</td>\n",
       "      <td>399</td>\n",
       "      <td>30.13</td>\n",
       "      <td>22</td>\n",
       "      <td>0.0</td>\n",
       "      <td>71</td>\n",
       "      <td>OVC</td>\n",
       "      <td>10</td>\n",
       "      <td>0</td>\n",
       "      <td>10</td>\n",
       "      <td>29.925</td>\n",
       "      <td>35</td>\n",
       "      <td>0.00</td>\n",
       "      <td>72</td>\n",
       "      <td>OVC</td>\n",
       "      <td>9</td>\n",
       "      <td>0</td>\n",
       "      <td>10</td>\n",
       "    </tr>\n",
       "    <tr>\n",
       "      <th>1134419</th>\n",
       "      <td>04</td>\n",
       "      <td>7</td>\n",
       "      <td>YX</td>\n",
       "      <td>PIT</td>\n",
       "      <td>MIA</td>\n",
       "      <td>6</td>\n",
       "      <td>14</td>\n",
       "      <td>7</td>\n",
       "      <td>0</td>\n",
       "      <td>9</td>\n",
       "      <td>1013</td>\n",
       "      <td>30.15</td>\n",
       "      <td>47</td>\n",
       "      <td>0.0</td>\n",
       "      <td>86</td>\n",
       "      <td>BKN</td>\n",
       "      <td>9</td>\n",
       "      <td>0</td>\n",
       "      <td>3</td>\n",
       "      <td>30.190</td>\n",
       "      <td>82</td>\n",
       "      <td>0.00</td>\n",
       "      <td>67</td>\n",
       "      <td>BKN</td>\n",
       "      <td>10</td>\n",
       "      <td>0</td>\n",
       "      <td>14</td>\n",
       "    </tr>\n",
       "    <tr>\n",
       "      <th>2136452</th>\n",
       "      <td>10</td>\n",
       "      <td>2</td>\n",
       "      <td>B6</td>\n",
       "      <td>BOS</td>\n",
       "      <td>DCA</td>\n",
       "      <td>14</td>\n",
       "      <td>16</td>\n",
       "      <td>4</td>\n",
       "      <td>1</td>\n",
       "      <td>15</td>\n",
       "      <td>399</td>\n",
       "      <td>30.07</td>\n",
       "      <td>58</td>\n",
       "      <td>0.0</td>\n",
       "      <td>72</td>\n",
       "      <td>OVC</td>\n",
       "      <td>10</td>\n",
       "      <td>0</td>\n",
       "      <td>15</td>\n",
       "      <td>29.810</td>\n",
       "      <td>62</td>\n",
       "      <td>0.02</td>\n",
       "      <td>96</td>\n",
       "      <td>OVC</td>\n",
       "      <td>2</td>\n",
       "      <td>0</td>\n",
       "      <td>0</td>\n",
       "    </tr>\n",
       "    <tr>\n",
       "      <th>6246407</th>\n",
       "      <td>12</td>\n",
       "      <td>2</td>\n",
       "      <td>UA</td>\n",
       "      <td>DEN</td>\n",
       "      <td>EUG</td>\n",
       "      <td>19</td>\n",
       "      <td>16</td>\n",
       "      <td>5</td>\n",
       "      <td>0</td>\n",
       "      <td>21</td>\n",
       "      <td>996</td>\n",
       "      <td>29.81</td>\n",
       "      <td>31</td>\n",
       "      <td>0.0</td>\n",
       "      <td>43</td>\n",
       "      <td>FEW</td>\n",
       "      <td>10</td>\n",
       "      <td>0</td>\n",
       "      <td>8</td>\n",
       "      <td>30.020</td>\n",
       "      <td>49</td>\n",
       "      <td>0.08</td>\n",
       "      <td>90</td>\n",
       "      <td>OVC</td>\n",
       "      <td>5</td>\n",
       "      <td>0</td>\n",
       "      <td>15</td>\n",
       "    </tr>\n",
       "  </tbody>\n",
       "</table>\n",
       "</div>"
      ],
      "text/plain": [
       "        MONTH DAY_OF_WEEK OP_UNIQUE_CARRIER ORIGIN DEST DEP_TIME_hour  \\\n",
       "1800695    08           1                WN    DEN  LAS            12   \n",
       "3052601    01           2                AA    BOS  DCA             6   \n",
       "1134419    04           7                YX    PIT  MIA             6   \n",
       "2136452    10           2                B6    BOS  DCA            14   \n",
       "6246407    12           2                UA    DEN  EUG            19   \n",
       "\n",
       "         TAXI_OUT_median  TAXI_IN_median  ARR_DEL15 ARR_TIME_hour  DISTANCE  \\\n",
       "1800695               12               5          0            13       628   \n",
       "3052601               19               5          0             7       399   \n",
       "1134419               14               7          0             9      1013   \n",
       "2136452               16               4          1            15       399   \n",
       "6246407               16               5          0            21       996   \n",
       "\n",
       "         HourlyAltimeterSetting_Origin  HourlyDryBulbTemperature_Origin  \\\n",
       "1800695                          30.09                               74   \n",
       "3052601                          30.13                               22   \n",
       "1134419                          30.15                               47   \n",
       "2136452                          30.07                               58   \n",
       "6246407                          29.81                               31   \n",
       "\n",
       "         HourlyPrecipitation_Origin  HourlyRelativeHumidity_Origin  \\\n",
       "1800695                         0.0                             38   \n",
       "3052601                         0.0                             71   \n",
       "1134419                         0.0                             86   \n",
       "2136452                         0.0                             72   \n",
       "6246407                         0.0                             43   \n",
       "\n",
       "        HourlySkyConditions_Origin  HourlyVisibility_Origin  \\\n",
       "1800695                        FEW                       10   \n",
       "3052601                        OVC                       10   \n",
       "1134419                        BKN                        9   \n",
       "2136452                        OVC                       10   \n",
       "6246407                        FEW                       10   \n",
       "\n",
       "         HourlyWindGustSpeed_Origin  HourlyWindSpeed_Origin  \\\n",
       "1800695                          20                      11   \n",
       "3052601                           0                      10   \n",
       "1134419                           0                       3   \n",
       "2136452                           0                      15   \n",
       "6246407                           0                       8   \n",
       "\n",
       "         HourlyAltimeterSetting_Dest  HourlyDryBulbTemperature_Dest  \\\n",
       "1800695                       29.820                            106   \n",
       "3052601                       29.925                             35   \n",
       "1134419                       30.190                             82   \n",
       "2136452                       29.810                             62   \n",
       "6246407                       30.020                             49   \n",
       "\n",
       "         HourlyPrecipitation_Dest  HourlyRelativeHumidity_Dest  \\\n",
       "1800695                      0.00                           10   \n",
       "3052601                      0.00                           72   \n",
       "1134419                      0.00                           67   \n",
       "2136452                      0.02                           96   \n",
       "6246407                      0.08                           90   \n",
       "\n",
       "        HourlySkyConditions_Dest  HourlyVisibility_Dest  \\\n",
       "1800695                      FEW                     10   \n",
       "3052601                      OVC                      9   \n",
       "1134419                      BKN                     10   \n",
       "2136452                      OVC                      2   \n",
       "6246407                      OVC                      5   \n",
       "\n",
       "         HourlyWindGustSpeed_Dest  HourlyWindSpeed_Dest  \n",
       "1800695                         0                     5  \n",
       "3052601                         0                    10  \n",
       "1134419                         0                    14  \n",
       "2136452                         0                     0  \n",
       "6246407                         0                    15  "
      ]
     },
     "execution_count": 6,
     "metadata": {},
     "output_type": "execute_result"
    }
   ],
   "source": [
    "%%time\n",
    "\n",
    "input_folder = '../../data/output/us_dot-noaa/'\n",
    "file_name = \"3_otp_lcd_2019.csv\"\n",
    "\n",
    "df_all = pd.read_csv(input_folder + file_name,\n",
    "                     encoding='latin1',\n",
    "#                      nrows=1e5,\n",
    "                     usecols=cols,\n",
    "                     dtype=cols_dtypes\n",
    "                    )\n",
    "df_all.sample(5)"
   ]
  },
  {
   "cell_type": "markdown",
   "metadata": {},
   "source": [
    "___"
   ]
  },
  {
   "cell_type": "code",
   "execution_count": 7,
   "metadata": {
    "ExecuteTime": {
     "end_time": "2021-05-07T17:50:49.915828Z",
     "start_time": "2021-05-07T17:50:49.891844Z"
    },
    "scrolled": false
   },
   "outputs": [
    {
     "name": "stdout",
     "output_type": "stream",
     "text": [
      "<class 'pandas.core.frame.DataFrame'>\n",
      "RangeIndex: 7200053 entries, 0 to 7200052\n",
      "Data columns (total 27 columns):\n",
      " #   Column                           Dtype  \n",
      "---  ------                           -----  \n",
      " 0   MONTH                            string \n",
      " 1   DAY_OF_WEEK                      string \n",
      " 2   OP_UNIQUE_CARRIER                string \n",
      " 3   ORIGIN                           string \n",
      " 4   DEST                             string \n",
      " 5   DEP_TIME_hour                    string \n",
      " 6   TAXI_OUT_median                  int32  \n",
      " 7   TAXI_IN_median                   int32  \n",
      " 8   ARR_DEL15                        int32  \n",
      " 9   ARR_TIME_hour                    string \n",
      " 10  DISTANCE                         int32  \n",
      " 11  HourlyAltimeterSetting_Origin    float64\n",
      " 12  HourlyDryBulbTemperature_Origin  int32  \n",
      " 13  HourlyPrecipitation_Origin       float64\n",
      " 14  HourlyRelativeHumidity_Origin    int32  \n",
      " 15  HourlySkyConditions_Origin       string \n",
      " 16  HourlyVisibility_Origin          int32  \n",
      " 17  HourlyWindGustSpeed_Origin       int32  \n",
      " 18  HourlyWindSpeed_Origin           int32  \n",
      " 19  HourlyAltimeterSetting_Dest      float64\n",
      " 20  HourlyDryBulbTemperature_Dest    int32  \n",
      " 21  HourlyPrecipitation_Dest         float64\n",
      " 22  HourlyRelativeHumidity_Dest      int32  \n",
      " 23  HourlySkyConditions_Dest         string \n",
      " 24  HourlyVisibility_Dest            int32  \n",
      " 25  HourlyWindGustSpeed_Dest         int32  \n",
      " 26  HourlyWindSpeed_Dest             int32  \n",
      "dtypes: float64(4), int32(14), string(9)\n",
      "memory usage: 1.1 GB\n"
     ]
    }
   ],
   "source": [
    "df_all.info()"
   ]
  },
  {
   "cell_type": "markdown",
   "metadata": {},
   "source": [
    "## Correlation Heatmap"
   ]
  },
  {
   "cell_type": "code",
   "execution_count": 8,
   "metadata": {
    "ExecuteTime": {
     "end_time": "2021-05-07T17:51:00.209688Z",
     "start_time": "2021-05-07T17:50:49.919824Z"
    }
   },
   "outputs": [
    {
     "data": {
      "image/png": "[encoded data removed]",
      "text/plain": [
       "<Figure size 648x432 with 2 Axes>"
      ]
     },
     "metadata": {},
     "output_type": "display_data"
    }
   ],
   "source": [
    "# Heatmap showing global correlations\n",
    "fig, ax = plt.subplots(figsize=(9, 6))\n",
    "ax = sns.heatmap(df_all.corr(), vmin=-1, vmax=1, annot=False, cbar=True, cmap=sns.cm.rocket);"
   ]
  },
  {
   "cell_type": "code",
   "execution_count": 9,
   "metadata": {
    "ExecuteTime": {
     "end_time": "2021-05-07T17:51:20.346961Z",
     "start_time": "2021-05-07T17:51:00.213686Z"
    },
    "scrolled": false
   },
   "outputs": [
    {
     "data": {
      "image/png": "[encoded data removed]",
      "text/plain": [
       "<Figure size 648x432 with 2 Axes>"
      ]
     },
     "metadata": {},
     "output_type": "display_data"
    }
   ],
   "source": [
    "# Heatmap showing remarkable correlations\n",
    "fig, ax = plt.subplots(figsize=(9, 6))\n",
    "ax = sns.heatmap(df_all.corr(), vmin=-1, vmax=1, annot=True, cbar=True, cmap=sns.cm.rocket, mask=abs(df_all.corr()) < 0.25);"
   ]
  },
  {
   "cell_type": "markdown",
   "metadata": {},
   "source": [
    "## Dataset overview"
   ]
  },
  {
   "cell_type": "code",
   "execution_count": 10,
   "metadata": {
    "ExecuteTime": {
     "end_time": "2021-05-07T17:51:20.362957Z",
     "start_time": "2021-05-07T17:51:20.349965Z"
    }
   },
   "outputs": [],
   "source": [
    "# For deterministic purposes, let's define a seed:\n",
    "np.random.seed(0)"
   ]
  },
  {
   "cell_type": "code",
   "execution_count": 11,
   "metadata": {
    "ExecuteTime": {
     "end_time": "2021-05-07T17:51:41.418342Z",
     "start_time": "2021-05-07T17:51:20.366955Z"
    }
   },
   "outputs": [
    {
     "name": "stdout",
     "output_type": "stream",
     "text": [
      "On-time flights: 5824288 (80.89%)\n",
      "Delayed flights: 1375765 (19.11%)\n"
     ]
    }
   ],
   "source": [
    "# For the initial runs, define a reasonably-sized sample:\n",
    "# sample_length =  int(1e4)\n",
    "# # Once everything is set up, use the entire dataset:\n",
    "sample_length = len(df_all)\n",
    "\n",
    "# Although the dataset is somehow imbalanced (80% on-time / 20% delayed), let's try to keep it as is for this test:\n",
    "df = df_all.sample(sample_length)\n",
    "\n",
    "# # Get dummies for the categorical features:\n",
    "# df = pd.get_dummies(df)\n",
    "\n",
    "print(\"On-time flights: {:7d} ({:5.2f}%)\".format(len(df[df['ARR_DEL15'] == 0]), 100*len(df[df['ARR_DEL15'] == 0])/len(df)))\n",
    "print(\"Delayed flights: {:7d} ({:5.2f}%)\".format(len(df[df['ARR_DEL15'] == 1]), 100*len(df[df['ARR_DEL15'] == 1])/len(df)))"
   ]
  },
  {
   "cell_type": "code",
   "execution_count": 12,
   "metadata": {
    "ExecuteTime": {
     "end_time": "2021-05-07T17:51:41.510909Z",
     "start_time": "2021-05-07T17:51:41.421341Z"
    },
    "scrolled": false
   },
   "outputs": [
    {
     "name": "stdout",
     "output_type": "stream",
     "text": [
      "<class 'pandas.core.frame.DataFrame'>\n",
      "Int64Index: 7200053 entries, 3046636 to 4500015\n",
      "Data columns (total 27 columns):\n",
      " #   Column                           Dtype  \n",
      "---  ------                           -----  \n",
      " 0   MONTH                            string \n",
      " 1   DAY_OF_WEEK                      string \n",
      " 2   OP_UNIQUE_CARRIER                string \n",
      " 3   ORIGIN                           string \n",
      " 4   DEST                             string \n",
      " 5   DEP_TIME_hour                    string \n",
      " 6   TAXI_OUT_median                  int32  \n",
      " 7   TAXI_IN_median                   int32  \n",
      " 8   ARR_DEL15                        int32  \n",
      " 9   ARR_TIME_hour                    string \n",
      " 10  DISTANCE                         int32  \n",
      " 11  HourlyAltimeterSetting_Origin    float64\n",
      " 12  HourlyDryBulbTemperature_Origin  int32  \n",
      " 13  HourlyPrecipitation_Origin       float64\n",
      " 14  HourlyRelativeHumidity_Origin    int32  \n",
      " 15  HourlySkyConditions_Origin       string \n",
      " 16  HourlyVisibility_Origin          int32  \n",
      " 17  HourlyWindGustSpeed_Origin       int32  \n",
      " 18  HourlyWindSpeed_Origin           int32  \n",
      " 19  HourlyAltimeterSetting_Dest      float64\n",
      " 20  HourlyDryBulbTemperature_Dest    int32  \n",
      " 21  HourlyPrecipitation_Dest         float64\n",
      " 22  HourlyRelativeHumidity_Dest      int32  \n",
      " 23  HourlySkyConditions_Dest         string \n",
      " 24  HourlyVisibility_Dest            int32  \n",
      " 25  HourlyWindGustSpeed_Dest         int32  \n",
      " 26  HourlyWindSpeed_Dest             int32  \n",
      "dtypes: float64(4), int32(14), string(9)\n",
      "memory usage: 1.1 GB\n"
     ]
    }
   ],
   "source": [
    "df.info()"
   ]
  },
  {
   "cell_type": "markdown",
   "metadata": {},
   "source": [
    "# Preprocessing"
   ]
  },
  {
   "cell_type": "markdown",
   "metadata": {},
   "source": [
    "### Train / Test split\n",
    "Break the dataset into three blocks:\n",
    "1. Training (80%) → cross-validation\n",
    "2. Test (20%) → final evaluation"
   ]
  },
  {
   "cell_type": "code",
   "execution_count": 13,
   "metadata": {
    "ExecuteTime": {
     "end_time": "2021-05-07T17:51:58.555243Z",
     "start_time": "2021-05-07T17:51:41.514910Z"
    },
    "scrolled": false
   },
   "outputs": [
    {
     "data": {
      "text/plain": [
       "((5760042, 26), (1440011, 26), (5760042,), (1440011,))"
      ]
     },
     "execution_count": 13,
     "metadata": {},
     "output_type": "execute_result"
    }
   ],
   "source": [
    "# Separate input features from the target:\n",
    "X = df.drop('ARR_DEL15', axis=1)\n",
    "y = df['ARR_DEL15']\n",
    "\n",
    "# Train-test split the data in a stratified way in accordance with target distribution:\n",
    "from sklearn.model_selection import train_test_split\n",
    "\n",
    "X_train, X_test, y_train, y_test = train_test_split(X, y, test_size=0.2, random_state=0, stratify=y)\n",
    "X_train.shape, X_test.shape, y_train.shape, y_test.shape"
   ]
  },
  {
   "cell_type": "code",
   "execution_count": 14,
   "metadata": {
    "ExecuteTime": {
     "end_time": "2021-05-07T17:51:58.944334Z",
     "start_time": "2021-05-07T17:51:58.559241Z"
    },
    "scrolled": true
   },
   "outputs": [
    {
     "name": "stdout",
     "output_type": "stream",
     "text": [
      "TRAIN:\n",
      "On-time flights: 4659430 (80.89%)\n",
      "Delayed flights: 1100612 (19.11%)\n",
      "TEST:\n",
      "On-time flights: 1164858 (80.89%)\n",
      "Delayed flights:  275153 (19.11%)\n"
     ]
    }
   ],
   "source": [
    "def otp_describe(y_train, y_test):\n",
    "    print(\"TRAIN:\")\n",
    "    print(\"On-time flights: {:7d} ({:5.2f}%)\".format(len(y_train[y_train == 0]), 100*len(y_train[y_train == 0])/len(y_train)))\n",
    "    print(\"Delayed flights: {:7d} ({:5.2f}%)\".format(len(y_train[y_train == 1]), 100*len(y_train[y_train == 1])/len(y_train)))\n",
    "    print(\"TEST:\")\n",
    "    print(\"On-time flights: {:7d} ({:5.2f}%)\".format(len(y_test[y_test == 0]), 100*len(y_test[y_test == 0])/len(y_test)))\n",
    "    print(\"Delayed flights: {:7d} ({:5.2f}%)\".format(len(y_test[y_test == 1]), 100*len(y_test[y_test == 1])/len(y_test)))\n",
    "\n",
    "otp_describe(y_train, y_test)"
   ]
  },
  {
   "cell_type": "markdown",
   "metadata": {},
   "source": [
    "# Production model: `XGBoost`"
   ]
  },
  {
   "cell_type": "code",
   "execution_count": 15,
   "metadata": {
    "ExecuteTime": {
     "end_time": "2021-05-07T17:51:58.959046Z",
     "start_time": "2021-05-07T17:51:58.947042Z"
    }
   },
   "outputs": [],
   "source": [
    "from xgboost import XGBClassifier"
   ]
  },
  {
   "cell_type": "code",
   "execution_count": 16,
   "metadata": {
    "ExecuteTime": {
     "end_time": "2021-05-07T17:51:59.916465Z",
     "start_time": "2021-05-07T17:51:58.963052Z"
    }
   },
   "outputs": [
    {
     "name": "stdout",
     "output_type": "stream",
     "text": [
      "TRAINING DATASET\n",
      "Total dataset:      5760042 (100.00%)\n",
      "On-time:            4659430 ( 80.89%)\n",
      "Delayed:            1100612 ( 19.11%)\n",
      "'scale_pos_weight' value:  4.23\n"
     ]
    }
   ],
   "source": [
    "# Summarize classes distribution:\n",
    "from collections import Counter\n",
    "\n",
    "counter = Counter(y_train)\n",
    "total_negative_examples = counter[0]\n",
    "total_positive_examples = counter[1]\n",
    "\n",
    "# A sensible default value to set for the scale_pos_weight hyperparameter is the inverse of the class distribution:\n",
    "scale_pos_weight = total_negative_examples / total_positive_examples\n",
    "\n",
    "print(\"TRAINING DATASET\")\n",
    "print(\"Total dataset:      {:7d} ({:6.2f}%)\".format(len(X_train), 100*len(X_train)/len(X_train)))\n",
    "print(\"On-time:            {:7d} ( {:5.2f}%)\".format(total_negative_examples, 100*total_negative_examples/len(X_train)))\n",
    "print(\"Delayed:            {:7d} ( {:5.2f}%)\".format(total_positive_examples, 100*total_positive_examples/len(X_train)))\n",
    "print(\"'scale_pos_weight' value: {:5.2f}\".format(scale_pos_weight))"
   ]
  },
  {
   "cell_type": "markdown",
   "metadata": {},
   "source": [
    "## Training"
   ]
  },
  {
   "cell_type": "code",
   "execution_count": 17,
   "metadata": {
    "ExecuteTime": {
     "end_time": "2021-05-07T22:03:31.892743Z",
     "start_time": "2021-05-07T17:51:59.919457Z"
    }
   },
   "outputs": [
    {
     "name": "stderr",
     "output_type": "stream",
     "text": [
      "C:\\ProgramData\\Anaconda3\\lib\\site-packages\\pandas\\core\\frame.py:3065: SettingWithCopyWarning: \n",
      "A value is trying to be set on a copy of a slice from a DataFrame.\n",
      "Try using .loc[row_indexer,col_indexer] = value instead\n",
      "\n",
      "See the caveats in the documentation: https://pandas.pydata.org/pandas-docs/stable/user_guide/indexing.html#returning-a-view-versus-a-copy\n",
      "  self[k1] = value[k2]\n",
      "C:\\ProgramData\\Anaconda3\\lib\\site-packages\\sklearn\\model_selection\\_search.py:278: UserWarning: The total space of parameters 1 is smaller than n_iter=50. Running 1 iterations. For exhaustive searches, use GridSearchCV.\n",
      "  warnings.warn(\n"
     ]
    },
    {
     "name": "stdout",
     "output_type": "stream",
     "text": [
      "Fitting 5 folds for each of 1 candidates, totalling 5 fits\n"
     ]
    },
    {
     "name": "stderr",
     "output_type": "stream",
     "text": [
      "[Parallel(n_jobs=-1)]: Using backend LokyBackend with 4 concurrent workers.\n",
      "[Parallel(n_jobs=-1)]: Done   2 out of   5 | elapsed:  4.2min remaining:  6.4min\n",
      "[Parallel(n_jobs=-1)]: Done   3 out of   5 | elapsed:  4.3min remaining:  2.9min\n",
      "[Parallel(n_jobs=-1)]: Done   5 out of   5 | elapsed: 151.8min remaining:    0.0s\n",
      "[Parallel(n_jobs=-1)]: Done   5 out of   5 | elapsed: 151.8min finished\n",
      "C:\\ProgramData\\Anaconda3\\lib\\site-packages\\category_encoders\\utils.py:21: FutureWarning: is_categorical is deprecated and will be removed in a future version.  Use is_categorical_dtype instead\n",
      "  elif pd.api.types.is_categorical(cols):\n"
     ]
    },
    {
     "name": "stdout",
     "output_type": "stream",
     "text": [
      "[22:24:57] WARNING: C:/Users/Administrator/workspace/xgboost-win64_release_1.3.0/src/learner.cc:541: \n",
      "Parameters: { early_stopping_round, num_boost_round } might not be used.\n",
      "\n",
      "  This may not be accurate due to some parameters are only used in language bindings but\n",
      "  passed down to XGBoost core.  Or some parameters are not used but slip through this\n",
      "  verification. Please open an issue if you find above cases.\n",
      "\n",
      "\n",
      "[22:25:16] WARNING: C:/Users/Administrator/workspace/xgboost-win64_release_1.3.0/src/learner.cc:1061: Starting in XGBoost 1.3.0, the default evaluation metric used with the objective 'binary:logistic' was changed from 'error' to 'logloss'. Explicitly set eval_metric if you'd like to restore the old behavior.\n"
     ]
    },
    {
     "data": {
      "text/plain": [
       "array([0, 0, 0, ..., 0, 0, 1])"
      ]
     },
     "execution_count": 17,
     "metadata": {},
     "output_type": "execute_result"
    }
   ],
   "source": [
    "# Define the cross-validation folding strategy:\n",
    "from sklearn.model_selection import StratifiedKFold\n",
    "skf = StratifiedKFold(n_splits=5)\n",
    "\n",
    "# Define a basic classifier:\n",
    "clf = XGBClassifier(use_label_encoder=False, verbosity=1, random_state=0, objective= 'binary:logistic',\n",
    "                    booster='gbtree', tree_method='auto', num_boost_round = 10000, early_stopping_round=10,\n",
    "                    scale_pos_weight=scale_pos_weight)\n",
    "\n",
    "# Instantiate the basic target encoder:\n",
    "from category_encoders.target_encoder import TargetEncoder\n",
    "# te = TargetEncoder()\n",
    "targetEncoder = TargetEncoder(verbose=0,\n",
    "                              cols=X_train.select_dtypes(['string', 'category', 'object']).columns,\n",
    "                              drop_invariant=False, return_df=True,\n",
    "                              handle_missing='value', handle_unknown='value',\n",
    "                              min_samples_leaf=1, smoothing=1.0) # Higher 'smoothing' value means stronger regularization\n",
    "\n",
    "# CAUTION !! Issue experienced when columns had \"String\" dtypes: google \"StringArray' object has no attribute 'tolist' #270\"\n",
    "X_train[X_train.select_dtypes('string').columns] = X_train[X_train.select_dtypes('string').columns].astype('object')\n",
    "# X_train[X_train.select_dtypes('object').columns] = X_train[X_train.select_dtypes('object').columns].astype('string')\n",
    "\n",
    "# Indicate numerical and categorical features:\n",
    "num_attribs = X_train.select_dtypes('number').columns\n",
    "cat_attribs = X_train.select_dtypes(['string', 'category', 'object']).columns\n",
    "\n",
    "# Define what transformations shall apply to NUMERICAL columns:\n",
    "# num_pipeline = Pipeline([\n",
    "#                          ('imputer', SimpleImputer(strategy=\"median\")),\n",
    "#                          ('std_scaler', StandardScaler()),\n",
    "#                         ])\n",
    "\n",
    "# Define what transformations shall apply to CATEGORICAL columns:\n",
    "cat_pipeline = Pipeline([\n",
    "                         ('te', targetEncoder), # ('onehot', OneHotEncoder()),\n",
    "                        ])\n",
    "\n",
    "# Declare the combined pipeline:\n",
    "full_pipeline = ColumnTransformer([\n",
    "#                                    (\"num\", num_pipeline, num_attribs),\n",
    "                                   (\"cat\", cat_pipeline, cat_attribs),\n",
    "                                  ], remainder='passthrough')\n",
    "\n",
    "# Define the model pipeline:\n",
    "pipe = Pipeline([\n",
    "                 (\"preprocessing_pipe\", full_pipeline),\n",
    "                 (\"clf\", clf),\n",
    "                ])\n",
    "\n",
    "# Grid to serch for the hyperparameters:\n",
    "xgb_pipe_grid = {\n",
    "                 'clf__subsample' : [0.9],\n",
    "                 'clf__reg_lambda' : [1],\n",
    "                 'clf__reg_alpha' : [0.0001],\n",
    "                 'clf__n_estimators' : [350],\n",
    "                 'clf__min_child_weight' : [100],\n",
    "                 'clf__max_depth' : [8],\n",
    "                 'clf__learning_rate' : [0.05],\n",
    "                 'clf__gamma' : [0.5],\n",
    "                 'clf__colsample_bytree' : [0.7]\n",
    "                }\n",
    "# xgb_pipe_grid = {\n",
    "#                  'clf__min_child_weight' : [100, 150, 200],\n",
    "#                  'clf__gamma' : [0.5],\n",
    "#                  'clf__subsample' : [0.9],\n",
    "#                  'clf__colsample_bytree' : [0.7],\n",
    "#                  'clf__max_depth' : [6, 7, 8, 9],\n",
    "#                  'clf__learning_rate' : [0.05, 0.1, 0.15],\n",
    "#                  'clf__n_estimators' : [200, 350, 500],\n",
    "#                  'clf__reg_alpha' : [1e-4],\n",
    "#                  'clf__reg_lambda' : [1]\n",
    "#                 }\n",
    "# xgb_pipe_grid = {\n",
    "#                  'clf__min_child_weight' : [1, 10, 25, 50, 100, 150, 200],\n",
    "#                  'clf__gamma' : [0.1, 0.5, 1, 1.5, 2, 5],\n",
    "#                  'clf__subsample' : [0.6, 0.8, 1.0],\n",
    "#                  'clf__colsample_bytree' : [0.6, 0.8, 1.0],\n",
    "#                  'clf__max_depth' : [3, 4, 5, 6, 7, 8, 9],\n",
    "#                  'clf__learning_rate' : [0.05, 0.1, 0.15],\n",
    "#                  'clf__n_estimators' : [50, 100, 250, 300, 350, 400, 450, 500],\n",
    "#                  'clf__reg_alpha' : [1e-6, 1e-5, 1e-4],\n",
    "#                  'clf__reg_lambda' : [0.5, 1, 1.5]\n",
    "#                 }\n",
    "\n",
    "\n",
    "\n",
    "# Instantiate the grid search:\n",
    "# from sklearn.model_selection import GridSearchCV\n",
    "# xgb_pipe_cv = GridSearchCV(\n",
    "#                            pipe,\n",
    "#                            param_grid=xgb_pipe_grid,\n",
    "#                            scoring='recall',\n",
    "#                            n_jobs=-1,\n",
    "#                            cv=skf,\n",
    "#                            verbose=10\n",
    "#                           )\n",
    "from sklearn.model_selection import RandomizedSearchCV\n",
    "xgb_pipe_cv = RandomizedSearchCV(\n",
    "                                pipe,\n",
    "                                param_distributions=xgb_pipe_grid,\n",
    "                                n_iter=50,\n",
    "                                scoring='recall',\n",
    "                                n_jobs=-1,\n",
    "                                cv=skf,\n",
    "                                verbose=10\n",
    "                               )\n",
    "\n",
    "xgb_pipe_cv.fit(X_train, y_train)\n",
    "\n",
    "xgb_pipe_cv.predict(X_test)"
   ]
  },
  {
   "cell_type": "code",
   "execution_count": 18,
   "metadata": {
    "ExecuteTime": {
     "end_time": "2021-05-07T22:03:34.530783Z",
     "start_time": "2021-05-07T22:03:31.898739Z"
    }
   },
   "outputs": [
    {
     "data": {
      "text/html": [
       "<style>div.sk-top-container {color: black;background-color: white;}div.sk-toggleable {background-color: white;}label.sk-toggleable__label {cursor: pointer;display: block;width: 100%;margin-bottom: 0;padding: 0.2em 0.3em;box-sizing: border-box;text-align: center;}div.sk-toggleable__content {max-height: 0;max-width: 0;overflow: hidden;text-align: left;background-color: #f0f8ff;}div.sk-toggleable__content pre {margin: 0.2em;color: black;border-radius: 0.25em;background-color: #f0f8ff;}input.sk-toggleable__control:checked~div.sk-toggleable__content {max-height: 200px;max-width: 100%;overflow: auto;}div.sk-estimator input.sk-toggleable__control:checked~label.sk-toggleable__label {background-color: #d4ebff;}div.sk-label input.sk-toggleable__control:checked~label.sk-toggleable__label {background-color: #d4ebff;}input.sk-hidden--visually {border: 0;clip: rect(1px 1px 1px 1px);clip: rect(1px, 1px, 1px, 1px);height: 1px;margin: -1px;overflow: hidden;padding: 0;position: absolute;width: 1px;}div.sk-estimator {font-family: monospace;background-color: #f0f8ff;margin: 0.25em 0.25em;border: 1px dotted black;border-radius: 0.25em;box-sizing: border-box;}div.sk-estimator:hover {background-color: #d4ebff;}div.sk-parallel-item::after {content: \"\";width: 100%;border-bottom: 1px solid gray;flex-grow: 1;}div.sk-label:hover label.sk-toggleable__label {background-color: #d4ebff;}div.sk-serial::before {content: \"\";position: absolute;border-left: 1px solid gray;box-sizing: border-box;top: 2em;bottom: 0;left: 50%;}div.sk-serial {display: flex;flex-direction: column;align-items: center;background-color: white;}div.sk-item {z-index: 1;}div.sk-parallel {display: flex;align-items: stretch;justify-content: center;background-color: white;}div.sk-parallel-item {display: flex;flex-direction: column;position: relative;background-color: white;}div.sk-parallel-item:first-child::after {align-self: flex-end;width: 50%;}div.sk-parallel-item:last-child::after {align-self: flex-start;width: 50%;}div.sk-parallel-item:only-child::after {width: 0;}div.sk-dashed-wrapped {border: 1px dashed gray;margin: 0.2em;box-sizing: border-box;padding-bottom: 0.1em;background-color: white;position: relative;}div.sk-label label {font-family: monospace;font-weight: bold;background-color: white;display: inline-block;line-height: 1.2em;}div.sk-label-container {position: relative;z-index: 2;text-align: center;}div.sk-container {display: inline-block;position: relative;}</style><div class=\"sk-top-container\"><div class=\"sk-container\"><div class=\"sk-item sk-dashed-wrapped\"><div class=\"sk-label-container\"><div class=\"sk-label sk-toggleable\"><input class=\"sk-toggleable__control sk-hidden--visually\" id=\"f136a8e3-40f8-490f-9232-27370ce68660\" type=\"checkbox\" ><label class=\"sk-toggleable__label\" for=\"f136a8e3-40f8-490f-9232-27370ce68660\">RandomizedSearchCV</label><div class=\"sk-toggleable__content\"><pre>RandomizedSearchCV(cv=StratifiedKFold(n_splits=5, random_state=None, shuffle=False),\n",
       "                   estimator=Pipeline(steps=[('preprocessing_pipe',\n",
       "                                              ColumnTransformer(remainder='passthrough',\n",
       "                                                                transformers=[('cat',\n",
       "                                                                               Pipeline(steps=[('te',\n",
       "                                                                                                TargetEncoder(cols=Index(['MONTH', 'DAY_OF_WEEK', 'OP_UNIQUE_CARRIER', 'ORIGIN', 'DEST',\n",
       "       'DEP_TIME_hour', 'ARR_TIME_hour', 'HourlySkyCondition...\n",
       "                                                            use_label_encoder=False,\n",
       "                                                            validate_parameters=None,\n",
       "                                                            verbosity=1))]),\n",
       "                   n_iter=50, n_jobs=-1,\n",
       "                   param_distributions={'clf__colsample_bytree': [0.7],\n",
       "                                        'clf__gamma': [0.5],\n",
       "                                        'clf__learning_rate': [0.05],\n",
       "                                        'clf__max_depth': [8],\n",
       "                                        'clf__min_child_weight': [100],\n",
       "                                        'clf__n_estimators': [350],\n",
       "                                        'clf__reg_alpha': [0.0001],\n",
       "                                        'clf__reg_lambda': [1],\n",
       "                                        'clf__subsample': [0.9]},\n",
       "                   scoring='recall', verbose=10)</pre></div></div></div><div class=\"sk-parallel\"><div class=\"sk-parallel-item\"><div class=\"sk-item\"><div class=\"sk-serial\"><div class=\"sk-item\"><div class=\"sk-serial\"><div class=\"sk-item sk-dashed-wrapped\"><div class=\"sk-label-container\"><div class=\"sk-label sk-toggleable\"><input class=\"sk-toggleable__control sk-hidden--visually\" id=\"5ad7d673-2d6d-4508-95e5-5cbfb1cc6a7d\" type=\"checkbox\" ><label class=\"sk-toggleable__label\" for=\"5ad7d673-2d6d-4508-95e5-5cbfb1cc6a7d\">preprocessing_pipe: ColumnTransformer</label><div class=\"sk-toggleable__content\"><pre>ColumnTransformer(remainder='passthrough',\n",
       "                  transformers=[('cat',\n",
       "                                 Pipeline(steps=[('te',\n",
       "                                                  TargetEncoder(cols=Index(['MONTH', 'DAY_OF_WEEK', 'OP_UNIQUE_CARRIER', 'ORIGIN', 'DEST',\n",
       "       'DEP_TIME_hour', 'ARR_TIME_hour', 'HourlySkyConditions_Origin',\n",
       "       'HourlySkyConditions_Dest'],\n",
       "      dtype='object')))]),\n",
       "                                 Index(['MONTH', 'DAY_OF_WEEK', 'OP_UNIQUE_CARRIER', 'ORIGIN', 'DEST',\n",
       "       'DEP_TIME_hour', 'ARR_TIME_hour', 'HourlySkyConditions_Origin',\n",
       "       'HourlySkyConditions_Dest'],\n",
       "      dtype='object'))])</pre></div></div></div><div class=\"sk-parallel\"><div class=\"sk-parallel-item\"><div class=\"sk-item\"><div class=\"sk-label-container\"><div class=\"sk-label sk-toggleable\"><input class=\"sk-toggleable__control sk-hidden--visually\" id=\"eafec247-eb9b-4ab4-a7da-a88ecf472282\" type=\"checkbox\" ><label class=\"sk-toggleable__label\" for=\"eafec247-eb9b-4ab4-a7da-a88ecf472282\">cat</label><div class=\"sk-toggleable__content\"><pre>Index(['MONTH', 'DAY_OF_WEEK', 'OP_UNIQUE_CARRIER', 'ORIGIN', 'DEST',\n",
       "       'DEP_TIME_hour', 'ARR_TIME_hour', 'HourlySkyConditions_Origin',\n",
       "       'HourlySkyConditions_Dest'],\n",
       "      dtype='object')</pre></div></div></div><div class=\"sk-serial\"><div class=\"sk-item\"><div class=\"sk-serial\"><div class=\"sk-item\"><div class=\"sk-estimator sk-toggleable\"><input class=\"sk-toggleable__control sk-hidden--visually\" id=\"7b63a2cf-fb3d-4ef5-9d58-2c00a3066aad\" type=\"checkbox\" ><label class=\"sk-toggleable__label\" for=\"7b63a2cf-fb3d-4ef5-9d58-2c00a3066aad\">TargetEncoder</label><div class=\"sk-toggleable__content\"><pre>TargetEncoder(cols=Index(['MONTH', 'DAY_OF_WEEK', 'OP_UNIQUE_CARRIER', 'ORIGIN', 'DEST',\n",
       "       'DEP_TIME_hour', 'ARR_TIME_hour', 'HourlySkyConditions_Origin',\n",
       "       'HourlySkyConditions_Dest'],\n",
       "      dtype='object'))</pre></div></div></div></div></div></div></div></div></div></div><div class=\"sk-item\"><div class=\"sk-estimator sk-toggleable\"><input class=\"sk-toggleable__control sk-hidden--visually\" id=\"5faefdac-7f40-46a1-878f-4ec0ce09ef4c\" type=\"checkbox\" ><label class=\"sk-toggleable__label\" for=\"5faefdac-7f40-46a1-878f-4ec0ce09ef4c\">XGBClassifier</label><div class=\"sk-toggleable__content\"><pre>XGBClassifier(base_score=None, booster='gbtree', colsample_bylevel=None,\n",
       "              colsample_bynode=None, colsample_bytree=None,\n",
       "              early_stopping_round=10, gamma=None, gpu_id=None,\n",
       "              importance_type='gain', interaction_constraints=None,\n",
       "              learning_rate=None, max_delta_step=None, max_depth=None,\n",
       "              min_child_weight=None, missing=nan, monotone_constraints=None,\n",
       "              n_estimators=100, n_jobs=None, num_boost_round=10000,\n",
       "              num_parallel_tree=None, random_state=0, reg_alpha=None,\n",
       "              reg_lambda=None, scale_pos_weight=4.233490094601913,\n",
       "              subsample=None, tree_method='auto', use_label_encoder=False,\n",
       "              validate_parameters=None, verbosity=1)</pre></div></div></div></div></div></div></div></div></div></div></div></div>"
      ],
      "text/plain": [
       "RandomizedSearchCV(cv=StratifiedKFold(n_splits=5, random_state=None, shuffle=False),\n",
       "                   estimator=Pipeline(steps=[('preprocessing_pipe',\n",
       "                                              ColumnTransformer(remainder='passthrough',\n",
       "                                                                transformers=[('cat',\n",
       "                                                                               Pipeline(steps=[('te',\n",
       "                                                                                                TargetEncoder(cols=Index(['MONTH', 'DAY_OF_WEEK', 'OP_UNIQUE_CARRIER', 'ORIGIN', 'DEST',\n",
       "       'DEP_TIME_hour', 'ARR_TIME_hour', 'HourlySkyCondition...\n",
       "                                                            use_label_encoder=False,\n",
       "                                                            validate_parameters=None,\n",
       "                                                            verbosity=1))]),\n",
       "                   n_iter=50, n_jobs=-1,\n",
       "                   param_distributions={'clf__colsample_bytree': [0.7],\n",
       "                                        'clf__gamma': [0.5],\n",
       "                                        'clf__learning_rate': [0.05],\n",
       "                                        'clf__max_depth': [8],\n",
       "                                        'clf__min_child_weight': [100],\n",
       "                                        'clf__n_estimators': [350],\n",
       "                                        'clf__reg_alpha': [0.0001],\n",
       "                                        'clf__reg_lambda': [1],\n",
       "                                        'clf__subsample': [0.9]},\n",
       "                   scoring='recall', verbose=10)"
      ]
     },
     "execution_count": 18,
     "metadata": {},
     "output_type": "execute_result"
    }
   ],
   "source": [
    "from sklearn import set_config\n",
    "\n",
    "set_config(display='diagram')\n",
    "xgb_pipe_cv"
   ]
  },
  {
   "cell_type": "code",
   "execution_count": null,
   "metadata": {},
   "outputs": [],
   "source": []
  },
  {
   "cell_type": "code",
   "execution_count": 19,
   "metadata": {
    "ExecuteTime": {
     "end_time": "2021-05-07T22:03:34.546792Z",
     "start_time": "2021-05-07T22:03:34.533781Z"
    }
   },
   "outputs": [
    {
     "name": "stdout",
     "output_type": "stream",
     "text": [
      "CPU: 98.1\n",
      "RAM: 42.5\n"
     ]
    }
   ],
   "source": [
    "import psutil\n",
    "\n",
    "# gives a single float value\n",
    "print(\"CPU:\", psutil.cpu_percent())\n",
    "print(\"RAM:\", psutil.virtual_memory().percent)"
   ]
  },
  {
   "cell_type": "code",
   "execution_count": 20,
   "metadata": {
    "ExecuteTime": {
     "end_time": "2021-05-07T22:03:34.593200Z",
     "start_time": "2021-05-07T22:03:34.549771Z"
    },
    "scrolled": true
   },
   "outputs": [
    {
     "data": {
      "text/html": [
       "<div>\n",
       "<style scoped>\n",
       "    .dataframe tbody tr th:only-of-type {\n",
       "        vertical-align: middle;\n",
       "    }\n",
       "\n",
       "    .dataframe tbody tr th {\n",
       "        vertical-align: top;\n",
       "    }\n",
       "\n",
       "    .dataframe thead th {\n",
       "        text-align: right;\n",
       "    }\n",
       "</style>\n",
       "<table border=\"1\" class=\"dataframe\">\n",
       "  <thead>\n",
       "    <tr style=\"text-align: right;\">\n",
       "      <th></th>\n",
       "      <th>mean_fit_time</th>\n",
       "      <th>std_fit_time</th>\n",
       "      <th>mean_score_time</th>\n",
       "      <th>std_score_time</th>\n",
       "      <th>param_clf__subsample</th>\n",
       "      <th>param_clf__reg_lambda</th>\n",
       "      <th>param_clf__reg_alpha</th>\n",
       "      <th>param_clf__n_estimators</th>\n",
       "      <th>param_clf__min_child_weight</th>\n",
       "      <th>param_clf__max_depth</th>\n",
       "      <th>param_clf__learning_rate</th>\n",
       "      <th>param_clf__gamma</th>\n",
       "      <th>param_clf__colsample_bytree</th>\n",
       "      <th>params</th>\n",
       "      <th>split0_test_score</th>\n",
       "      <th>split1_test_score</th>\n",
       "      <th>split2_test_score</th>\n",
       "      <th>split3_test_score</th>\n",
       "      <th>split4_test_score</th>\n",
       "      <th>mean_test_score</th>\n",
       "      <th>std_test_score</th>\n",
       "      <th>rank_test_score</th>\n",
       "    </tr>\n",
       "  </thead>\n",
       "  <tbody>\n",
       "    <tr>\n",
       "      <th>0</th>\n",
       "      <td>3679.786994</td>\n",
       "      <td>4372.062253</td>\n",
       "      <td>9.976018</td>\n",
       "      <td>12.218196</td>\n",
       "      <td>0.9</td>\n",
       "      <td>1</td>\n",
       "      <td>0.0001</td>\n",
       "      <td>350</td>\n",
       "      <td>100</td>\n",
       "      <td>8</td>\n",
       "      <td>0.05</td>\n",
       "      <td>0.5</td>\n",
       "      <td>0.7</td>\n",
       "      <td>{'clf__subsample': 0.9, 'clf__reg_lambda': 1, ...</td>\n",
       "      <td>0.644208</td>\n",
       "      <td>NaN</td>\n",
       "      <td>0.646678</td>\n",
       "      <td>NaN</td>\n",
       "      <td>NaN</td>\n",
       "      <td>NaN</td>\n",
       "      <td>NaN</td>\n",
       "      <td>1</td>\n",
       "    </tr>\n",
       "  </tbody>\n",
       "</table>\n",
       "</div>"
      ],
      "text/plain": [
       "   mean_fit_time  std_fit_time  mean_score_time  std_score_time  \\\n",
       "0    3679.786994   4372.062253         9.976018       12.218196   \n",
       "\n",
       "  param_clf__subsample param_clf__reg_lambda param_clf__reg_alpha  \\\n",
       "0                  0.9                     1               0.0001   \n",
       "\n",
       "  param_clf__n_estimators param_clf__min_child_weight param_clf__max_depth  \\\n",
       "0                     350                         100                    8   \n",
       "\n",
       "  param_clf__learning_rate param_clf__gamma param_clf__colsample_bytree  \\\n",
       "0                     0.05              0.5                         0.7   \n",
       "\n",
       "                                              params  split0_test_score  \\\n",
       "0  {'clf__subsample': 0.9, 'clf__reg_lambda': 1, ...           0.644208   \n",
       "\n",
       "   split1_test_score  split2_test_score  split3_test_score  split4_test_score  \\\n",
       "0                NaN           0.646678                NaN                NaN   \n",
       "\n",
       "   mean_test_score  std_test_score  rank_test_score  \n",
       "0              NaN             NaN                1  "
      ]
     },
     "execution_count": 20,
     "metadata": {},
     "output_type": "execute_result"
    }
   ],
   "source": [
    "cv_res = pd.DataFrame(xgb_pipe_cv.cv_results_)\n",
    "cv_res.sort_values(by='rank_test_score', ascending=True)"
   ]
  },
  {
   "cell_type": "code",
   "execution_count": 21,
   "metadata": {
    "ExecuteTime": {
     "end_time": "2021-05-07T22:03:35.241153Z",
     "start_time": "2021-05-07T22:03:34.596198Z"
    }
   },
   "outputs": [
    {
     "data": {
      "text/html": [
       "<style>div.sk-top-container {color: black;background-color: white;}div.sk-toggleable {background-color: white;}label.sk-toggleable__label {cursor: pointer;display: block;width: 100%;margin-bottom: 0;padding: 0.2em 0.3em;box-sizing: border-box;text-align: center;}div.sk-toggleable__content {max-height: 0;max-width: 0;overflow: hidden;text-align: left;background-color: #f0f8ff;}div.sk-toggleable__content pre {margin: 0.2em;color: black;border-radius: 0.25em;background-color: #f0f8ff;}input.sk-toggleable__control:checked~div.sk-toggleable__content {max-height: 200px;max-width: 100%;overflow: auto;}div.sk-estimator input.sk-toggleable__control:checked~label.sk-toggleable__label {background-color: #d4ebff;}div.sk-label input.sk-toggleable__control:checked~label.sk-toggleable__label {background-color: #d4ebff;}input.sk-hidden--visually {border: 0;clip: rect(1px 1px 1px 1px);clip: rect(1px, 1px, 1px, 1px);height: 1px;margin: -1px;overflow: hidden;padding: 0;position: absolute;width: 1px;}div.sk-estimator {font-family: monospace;background-color: #f0f8ff;margin: 0.25em 0.25em;border: 1px dotted black;border-radius: 0.25em;box-sizing: border-box;}div.sk-estimator:hover {background-color: #d4ebff;}div.sk-parallel-item::after {content: \"\";width: 100%;border-bottom: 1px solid gray;flex-grow: 1;}div.sk-label:hover label.sk-toggleable__label {background-color: #d4ebff;}div.sk-serial::before {content: \"\";position: absolute;border-left: 1px solid gray;box-sizing: border-box;top: 2em;bottom: 0;left: 50%;}div.sk-serial {display: flex;flex-direction: column;align-items: center;background-color: white;}div.sk-item {z-index: 1;}div.sk-parallel {display: flex;align-items: stretch;justify-content: center;background-color: white;}div.sk-parallel-item {display: flex;flex-direction: column;position: relative;background-color: white;}div.sk-parallel-item:first-child::after {align-self: flex-end;width: 50%;}div.sk-parallel-item:last-child::after {align-self: flex-start;width: 50%;}div.sk-parallel-item:only-child::after {width: 0;}div.sk-dashed-wrapped {border: 1px dashed gray;margin: 0.2em;box-sizing: border-box;padding-bottom: 0.1em;background-color: white;position: relative;}div.sk-label label {font-family: monospace;font-weight: bold;background-color: white;display: inline-block;line-height: 1.2em;}div.sk-label-container {position: relative;z-index: 2;text-align: center;}div.sk-container {display: inline-block;position: relative;}</style><div class=\"sk-top-container\"><div class=\"sk-container\"><div class=\"sk-item sk-dashed-wrapped\"><div class=\"sk-label-container\"><div class=\"sk-label sk-toggleable\"><input class=\"sk-toggleable__control sk-hidden--visually\" id=\"9956a9d1-4ede-4b8f-a3e5-71ef106d3dcb\" type=\"checkbox\" ><label class=\"sk-toggleable__label\" for=\"9956a9d1-4ede-4b8f-a3e5-71ef106d3dcb\">Pipeline</label><div class=\"sk-toggleable__content\"><pre>Pipeline(steps=[('preprocessing_pipe',\n",
       "                 ColumnTransformer(remainder='passthrough',\n",
       "                                   transformers=[('cat',\n",
       "                                                  Pipeline(steps=[('te',\n",
       "                                                                   TargetEncoder(cols=Index(['MONTH', 'DAY_OF_WEEK', 'OP_UNIQUE_CARRIER', 'ORIGIN', 'DEST',\n",
       "       'DEP_TIME_hour', 'ARR_TIME_hour', 'HourlySkyConditions_Origin',\n",
       "       'HourlySkyConditions_Dest'],\n",
       "      dtype='object')))]),\n",
       "                                                  Index(['MONTH', 'DAY_OF_WEEK', 'OP_U...\n",
       "                               interaction_constraints='', learning_rate=0.05,\n",
       "                               max_delta_step=0, max_depth=8,\n",
       "                               min_child_weight=100, missing=nan,\n",
       "                               monotone_constraints='()', n_estimators=350,\n",
       "                               n_jobs=4, num_boost_round=10000,\n",
       "                               num_parallel_tree=1, random_state=0,\n",
       "                               reg_alpha=0.0001, reg_lambda=1,\n",
       "                               scale_pos_weight=4.233490094601913,\n",
       "                               subsample=0.9, tree_method='auto',\n",
       "                               use_label_encoder=False, validate_parameters=1,\n",
       "                               verbosity=1))])</pre></div></div></div><div class=\"sk-serial\"><div class=\"sk-item sk-dashed-wrapped\"><div class=\"sk-label-container\"><div class=\"sk-label sk-toggleable\"><input class=\"sk-toggleable__control sk-hidden--visually\" id=\"dc368c1c-3306-4531-8bb9-f232e587ce38\" type=\"checkbox\" ><label class=\"sk-toggleable__label\" for=\"dc368c1c-3306-4531-8bb9-f232e587ce38\">preprocessing_pipe: ColumnTransformer</label><div class=\"sk-toggleable__content\"><pre>ColumnTransformer(remainder='passthrough',\n",
       "                  transformers=[('cat',\n",
       "                                 Pipeline(steps=[('te',\n",
       "                                                  TargetEncoder(cols=Index(['MONTH', 'DAY_OF_WEEK', 'OP_UNIQUE_CARRIER', 'ORIGIN', 'DEST',\n",
       "       'DEP_TIME_hour', 'ARR_TIME_hour', 'HourlySkyConditions_Origin',\n",
       "       'HourlySkyConditions_Dest'],\n",
       "      dtype='object')))]),\n",
       "                                 Index(['MONTH', 'DAY_OF_WEEK', 'OP_UNIQUE_CARRIER', 'ORIGIN', 'DEST',\n",
       "       'DEP_TIME_hour', 'ARR_TIME_hour', 'HourlySkyConditions_Origin',\n",
       "       'HourlySkyConditions_Dest'],\n",
       "      dtype='object'))])</pre></div></div></div><div class=\"sk-parallel\"><div class=\"sk-parallel-item\"><div class=\"sk-item\"><div class=\"sk-label-container\"><div class=\"sk-label sk-toggleable\"><input class=\"sk-toggleable__control sk-hidden--visually\" id=\"f27f7ef9-e5ec-4588-9d48-d9ce06738b48\" type=\"checkbox\" ><label class=\"sk-toggleable__label\" for=\"f27f7ef9-e5ec-4588-9d48-d9ce06738b48\">cat</label><div class=\"sk-toggleable__content\"><pre>Index(['MONTH', 'DAY_OF_WEEK', 'OP_UNIQUE_CARRIER', 'ORIGIN', 'DEST',\n",
       "       'DEP_TIME_hour', 'ARR_TIME_hour', 'HourlySkyConditions_Origin',\n",
       "       'HourlySkyConditions_Dest'],\n",
       "      dtype='object')</pre></div></div></div><div class=\"sk-serial\"><div class=\"sk-item\"><div class=\"sk-serial\"><div class=\"sk-item\"><div class=\"sk-estimator sk-toggleable\"><input class=\"sk-toggleable__control sk-hidden--visually\" id=\"9df9d511-abd4-4dc4-a85a-00fb652209ba\" type=\"checkbox\" ><label class=\"sk-toggleable__label\" for=\"9df9d511-abd4-4dc4-a85a-00fb652209ba\">TargetEncoder</label><div class=\"sk-toggleable__content\"><pre>TargetEncoder(cols=Index(['MONTH', 'DAY_OF_WEEK', 'OP_UNIQUE_CARRIER', 'ORIGIN', 'DEST',\n",
       "       'DEP_TIME_hour', 'ARR_TIME_hour', 'HourlySkyConditions_Origin',\n",
       "       'HourlySkyConditions_Dest'],\n",
       "      dtype='object'))</pre></div></div></div></div></div></div></div></div></div></div><div class=\"sk-item\"><div class=\"sk-estimator sk-toggleable\"><input class=\"sk-toggleable__control sk-hidden--visually\" id=\"65879d12-419e-4a7b-b3c6-2254fefa5e23\" type=\"checkbox\" ><label class=\"sk-toggleable__label\" for=\"65879d12-419e-4a7b-b3c6-2254fefa5e23\">XGBClassifier</label><div class=\"sk-toggleable__content\"><pre>XGBClassifier(base_score=0.5, booster='gbtree', colsample_bylevel=1,\n",
       "              colsample_bynode=1, colsample_bytree=0.7, early_stopping_round=10,\n",
       "              gamma=0.5, gpu_id=-1, importance_type='gain',\n",
       "              interaction_constraints='', learning_rate=0.05, max_delta_step=0,\n",
       "              max_depth=8, min_child_weight=100, missing=nan,\n",
       "              monotone_constraints='()', n_estimators=350, n_jobs=4,\n",
       "              num_boost_round=10000, num_parallel_tree=1, random_state=0,\n",
       "              reg_alpha=0.0001, reg_lambda=1,\n",
       "              scale_pos_weight=4.233490094601913, subsample=0.9,\n",
       "              tree_method='auto', use_label_encoder=False,\n",
       "              validate_parameters=1, verbosity=1)</pre></div></div></div></div></div></div></div>"
      ],
      "text/plain": [
       "Pipeline(steps=[('preprocessing_pipe',\n",
       "                 ColumnTransformer(remainder='passthrough',\n",
       "                                   transformers=[('cat',\n",
       "                                                  Pipeline(steps=[('te',\n",
       "                                                                   TargetEncoder(cols=Index(['MONTH', 'DAY_OF_WEEK', 'OP_UNIQUE_CARRIER', 'ORIGIN', 'DEST',\n",
       "       'DEP_TIME_hour', 'ARR_TIME_hour', 'HourlySkyConditions_Origin',\n",
       "       'HourlySkyConditions_Dest'],\n",
       "      dtype='object')))]),\n",
       "                                                  Index(['MONTH', 'DAY_OF_WEEK', 'OP_U...\n",
       "                               interaction_constraints='', learning_rate=0.05,\n",
       "                               max_delta_step=0, max_depth=8,\n",
       "                               min_child_weight=100, missing=nan,\n",
       "                               monotone_constraints='()', n_estimators=350,\n",
       "                               n_jobs=4, num_boost_round=10000,\n",
       "                               num_parallel_tree=1, random_state=0,\n",
       "                               reg_alpha=0.0001, reg_lambda=1,\n",
       "                               scale_pos_weight=4.233490094601913,\n",
       "                               subsample=0.9, tree_method='auto',\n",
       "                               use_label_encoder=False, validate_parameters=1,\n",
       "                               verbosity=1))])"
      ]
     },
     "execution_count": 21,
     "metadata": {},
     "output_type": "execute_result"
    }
   ],
   "source": [
    "xgb_pipe_cv.best_estimator_"
   ]
  },
  {
   "cell_type": "code",
   "execution_count": 22,
   "metadata": {
    "ExecuteTime": {
     "end_time": "2021-05-07T22:03:35.303764Z",
     "start_time": "2021-05-07T22:03:35.294767Z"
    }
   },
   "outputs": [
    {
     "data": {
      "text/plain": [
       "nan"
      ]
     },
     "execution_count": 22,
     "metadata": {},
     "output_type": "execute_result"
    }
   ],
   "source": [
    "xgb_pipe_cv.best_score_"
   ]
  },
  {
   "cell_type": "code",
   "execution_count": 23,
   "metadata": {
    "ExecuteTime": {
     "end_time": "2021-05-07T22:03:35.334746Z",
     "start_time": "2021-05-07T22:03:35.311762Z"
    }
   },
   "outputs": [
    {
     "data": {
      "text/plain": [
       "{'clf__subsample': 0.9,\n",
       " 'clf__reg_lambda': 1,\n",
       " 'clf__reg_alpha': 0.0001,\n",
       " 'clf__n_estimators': 350,\n",
       " 'clf__min_child_weight': 100,\n",
       " 'clf__max_depth': 8,\n",
       " 'clf__learning_rate': 0.05,\n",
       " 'clf__gamma': 0.5,\n",
       " 'clf__colsample_bytree': 0.7}"
      ]
     },
     "execution_count": 23,
     "metadata": {},
     "output_type": "execute_result"
    }
   ],
   "source": [
    "xgb_pipe_cv.best_params_"
   ]
  },
  {
   "cell_type": "code",
   "execution_count": 24,
   "metadata": {
    "ExecuteTime": {
     "end_time": "2021-05-07T22:03:35.349737Z",
     "start_time": "2021-05-07T22:03:35.337743Z"
    }
   },
   "outputs": [
    {
     "data": {
      "text/plain": [
       "0"
      ]
     },
     "execution_count": 24,
     "metadata": {},
     "output_type": "execute_result"
    }
   ],
   "source": [
    "xgb_pipe_cv.best_index_"
   ]
  },
  {
   "cell_type": "code",
   "execution_count": 25,
   "metadata": {
    "ExecuteTime": {
     "end_time": "2021-05-07T22:03:35.365727Z",
     "start_time": "2021-05-07T22:03:35.353733Z"
    }
   },
   "outputs": [
    {
     "data": {
      "text/plain": [
       "make_scorer(recall_score, average=binary)"
      ]
     },
     "execution_count": 25,
     "metadata": {},
     "output_type": "execute_result"
    }
   ],
   "source": [
    "xgb_pipe_cv.scorer_"
   ]
  },
  {
   "cell_type": "code",
   "execution_count": 26,
   "metadata": {
    "ExecuteTime": {
     "end_time": "2021-05-07T22:03:36.640890Z",
     "start_time": "2021-05-07T22:03:35.368722Z"
    }
   },
   "outputs": [
    {
     "data": {
      "text/plain": [
       "<bound method BaseEstimator.get_params of RandomizedSearchCV(cv=StratifiedKFold(n_splits=5, random_state=None, shuffle=False),\n",
       "                   estimator=Pipeline(steps=[('preprocessing_pipe',\n",
       "                                              ColumnTransformer(remainder='passthrough',\n",
       "                                                                transformers=[('cat',\n",
       "                                                                               Pipeline(steps=[('te',\n",
       "                                                                                                TargetEncoder(cols=Index(['MONTH', 'DAY_OF_WEEK', 'OP_UNIQUE_CARRIER', 'ORIGIN', 'DEST',\n",
       "       'DEP_TIME_hour', 'ARR_TIME_hour', 'HourlySkyCondition...\n",
       "                                                            use_label_encoder=False,\n",
       "                                                            validate_parameters=None,\n",
       "                                                            verbosity=1))]),\n",
       "                   n_iter=50, n_jobs=-1,\n",
       "                   param_distributions={'clf__colsample_bytree': [0.7],\n",
       "                                        'clf__gamma': [0.5],\n",
       "                                        'clf__learning_rate': [0.05],\n",
       "                                        'clf__max_depth': [8],\n",
       "                                        'clf__min_child_weight': [100],\n",
       "                                        'clf__n_estimators': [350],\n",
       "                                        'clf__reg_alpha': [0.0001],\n",
       "                                        'clf__reg_lambda': [1],\n",
       "                                        'clf__subsample': [0.9]},\n",
       "                   scoring='recall', verbose=10)>"
      ]
     },
     "execution_count": 26,
     "metadata": {},
     "output_type": "execute_result"
    }
   ],
   "source": [
    "xgb_pipe_cv.get_params"
   ]
  },
  {
   "cell_type": "code",
   "execution_count": 27,
   "metadata": {
    "ExecuteTime": {
     "end_time": "2021-05-07T22:03:49.328630Z",
     "start_time": "2021-05-07T22:03:36.644889Z"
    }
   },
   "outputs": [
    {
     "data": {
      "text/plain": [
       "array([0, 0, 0, ..., 0, 0, 1])"
      ]
     },
     "execution_count": 27,
     "metadata": {},
     "output_type": "execute_result"
    }
   ],
   "source": [
    "xgb_pipe_cv.predict(X_test)"
   ]
  },
  {
   "cell_type": "code",
   "execution_count": 28,
   "metadata": {
    "ExecuteTime": {
     "end_time": "2021-05-07T22:04:01.916830Z",
     "start_time": "2021-05-07T22:03:49.332629Z"
    }
   },
   "outputs": [
    {
     "data": {
      "text/plain": [
       "array([[0.5904248 , 0.4095752 ],\n",
       "       [0.86863893, 0.13136105],\n",
       "       [0.72614706, 0.2738529 ],\n",
       "       ...,\n",
       "       [0.50648314, 0.49351686],\n",
       "       [0.6395689 , 0.36043105],\n",
       "       [0.39451045, 0.60548955]], dtype=float32)"
      ]
     },
     "execution_count": 28,
     "metadata": {},
     "output_type": "execute_result"
    }
   ],
   "source": [
    "xgb_pipe_cv.predict_proba(X_test)"
   ]
  },
  {
   "cell_type": "code",
   "execution_count": 29,
   "metadata": {
    "ExecuteTime": {
     "end_time": "2021-05-07T22:04:02.729983Z",
     "start_time": "2021-05-07T22:04:01.920829Z"
    },
    "scrolled": true
   },
   "outputs": [
    {
     "data": {
      "text/html": [
       "<style>div.sk-top-container {color: black;background-color: white;}div.sk-toggleable {background-color: white;}label.sk-toggleable__label {cursor: pointer;display: block;width: 100%;margin-bottom: 0;padding: 0.2em 0.3em;box-sizing: border-box;text-align: center;}div.sk-toggleable__content {max-height: 0;max-width: 0;overflow: hidden;text-align: left;background-color: #f0f8ff;}div.sk-toggleable__content pre {margin: 0.2em;color: black;border-radius: 0.25em;background-color: #f0f8ff;}input.sk-toggleable__control:checked~div.sk-toggleable__content {max-height: 200px;max-width: 100%;overflow: auto;}div.sk-estimator input.sk-toggleable__control:checked~label.sk-toggleable__label {background-color: #d4ebff;}div.sk-label input.sk-toggleable__control:checked~label.sk-toggleable__label {background-color: #d4ebff;}input.sk-hidden--visually {border: 0;clip: rect(1px 1px 1px 1px);clip: rect(1px, 1px, 1px, 1px);height: 1px;margin: -1px;overflow: hidden;padding: 0;position: absolute;width: 1px;}div.sk-estimator {font-family: monospace;background-color: #f0f8ff;margin: 0.25em 0.25em;border: 1px dotted black;border-radius: 0.25em;box-sizing: border-box;}div.sk-estimator:hover {background-color: #d4ebff;}div.sk-parallel-item::after {content: \"\";width: 100%;border-bottom: 1px solid gray;flex-grow: 1;}div.sk-label:hover label.sk-toggleable__label {background-color: #d4ebff;}div.sk-serial::before {content: \"\";position: absolute;border-left: 1px solid gray;box-sizing: border-box;top: 2em;bottom: 0;left: 50%;}div.sk-serial {display: flex;flex-direction: column;align-items: center;background-color: white;}div.sk-item {z-index: 1;}div.sk-parallel {display: flex;align-items: stretch;justify-content: center;background-color: white;}div.sk-parallel-item {display: flex;flex-direction: column;position: relative;background-color: white;}div.sk-parallel-item:first-child::after {align-self: flex-end;width: 50%;}div.sk-parallel-item:last-child::after {align-self: flex-start;width: 50%;}div.sk-parallel-item:only-child::after {width: 0;}div.sk-dashed-wrapped {border: 1px dashed gray;margin: 0.2em;box-sizing: border-box;padding-bottom: 0.1em;background-color: white;position: relative;}div.sk-label label {font-family: monospace;font-weight: bold;background-color: white;display: inline-block;line-height: 1.2em;}div.sk-label-container {position: relative;z-index: 2;text-align: center;}div.sk-container {display: inline-block;position: relative;}</style><div class=\"sk-top-container\"><div class=\"sk-container\"><div class=\"sk-item sk-dashed-wrapped\"><div class=\"sk-label-container\"><div class=\"sk-label sk-toggleable\"><input class=\"sk-toggleable__control sk-hidden--visually\" id=\"1844b30e-7ae1-40de-a0c9-ecff6f045155\" type=\"checkbox\" ><label class=\"sk-toggleable__label\" for=\"1844b30e-7ae1-40de-a0c9-ecff6f045155\">Pipeline</label><div class=\"sk-toggleable__content\"><pre>Pipeline(steps=[('preprocessing_pipe',\n",
       "                 ColumnTransformer(remainder='passthrough',\n",
       "                                   transformers=[('cat',\n",
       "                                                  Pipeline(steps=[('te',\n",
       "                                                                   TargetEncoder(cols=Index(['MONTH', 'DAY_OF_WEEK', 'OP_UNIQUE_CARRIER', 'ORIGIN', 'DEST',\n",
       "       'DEP_TIME_hour', 'ARR_TIME_hour', 'HourlySkyConditions_Origin',\n",
       "       'HourlySkyConditions_Dest'],\n",
       "      dtype='object')))]),\n",
       "                                                  Index(['MONTH', 'DAY_OF_WEEK', 'OP_U...\n",
       "                               interaction_constraints='', learning_rate=0.05,\n",
       "                               max_delta_step=0, max_depth=8,\n",
       "                               min_child_weight=100, missing=nan,\n",
       "                               monotone_constraints='()', n_estimators=350,\n",
       "                               n_jobs=4, num_boost_round=10000,\n",
       "                               num_parallel_tree=1, random_state=0,\n",
       "                               reg_alpha=0.0001, reg_lambda=1,\n",
       "                               scale_pos_weight=4.233490094601913,\n",
       "                               subsample=0.9, tree_method='auto',\n",
       "                               use_label_encoder=False, validate_parameters=1,\n",
       "                               verbosity=1))])</pre></div></div></div><div class=\"sk-serial\"><div class=\"sk-item sk-dashed-wrapped\"><div class=\"sk-label-container\"><div class=\"sk-label sk-toggleable\"><input class=\"sk-toggleable__control sk-hidden--visually\" id=\"539f6551-d04a-433b-9198-415e239ee245\" type=\"checkbox\" ><label class=\"sk-toggleable__label\" for=\"539f6551-d04a-433b-9198-415e239ee245\">preprocessing_pipe: ColumnTransformer</label><div class=\"sk-toggleable__content\"><pre>ColumnTransformer(remainder='passthrough',\n",
       "                  transformers=[('cat',\n",
       "                                 Pipeline(steps=[('te',\n",
       "                                                  TargetEncoder(cols=Index(['MONTH', 'DAY_OF_WEEK', 'OP_UNIQUE_CARRIER', 'ORIGIN', 'DEST',\n",
       "       'DEP_TIME_hour', 'ARR_TIME_hour', 'HourlySkyConditions_Origin',\n",
       "       'HourlySkyConditions_Dest'],\n",
       "      dtype='object')))]),\n",
       "                                 Index(['MONTH', 'DAY_OF_WEEK', 'OP_UNIQUE_CARRIER', 'ORIGIN', 'DEST',\n",
       "       'DEP_TIME_hour', 'ARR_TIME_hour', 'HourlySkyConditions_Origin',\n",
       "       'HourlySkyConditions_Dest'],\n",
       "      dtype='object'))])</pre></div></div></div><div class=\"sk-parallel\"><div class=\"sk-parallel-item\"><div class=\"sk-item\"><div class=\"sk-label-container\"><div class=\"sk-label sk-toggleable\"><input class=\"sk-toggleable__control sk-hidden--visually\" id=\"80524643-ab45-49d3-abd8-c24cdcf2be61\" type=\"checkbox\" ><label class=\"sk-toggleable__label\" for=\"80524643-ab45-49d3-abd8-c24cdcf2be61\">cat</label><div class=\"sk-toggleable__content\"><pre>Index(['MONTH', 'DAY_OF_WEEK', 'OP_UNIQUE_CARRIER', 'ORIGIN', 'DEST',\n",
       "       'DEP_TIME_hour', 'ARR_TIME_hour', 'HourlySkyConditions_Origin',\n",
       "       'HourlySkyConditions_Dest'],\n",
       "      dtype='object')</pre></div></div></div><div class=\"sk-serial\"><div class=\"sk-item\"><div class=\"sk-serial\"><div class=\"sk-item\"><div class=\"sk-estimator sk-toggleable\"><input class=\"sk-toggleable__control sk-hidden--visually\" id=\"f8291d3b-d737-4619-bb16-3268d9a21610\" type=\"checkbox\" ><label class=\"sk-toggleable__label\" for=\"f8291d3b-d737-4619-bb16-3268d9a21610\">TargetEncoder</label><div class=\"sk-toggleable__content\"><pre>TargetEncoder(cols=Index(['MONTH', 'DAY_OF_WEEK', 'OP_UNIQUE_CARRIER', 'ORIGIN', 'DEST',\n",
       "       'DEP_TIME_hour', 'ARR_TIME_hour', 'HourlySkyConditions_Origin',\n",
       "       'HourlySkyConditions_Dest'],\n",
       "      dtype='object'))</pre></div></div></div></div></div></div></div></div></div></div><div class=\"sk-item\"><div class=\"sk-estimator sk-toggleable\"><input class=\"sk-toggleable__control sk-hidden--visually\" id=\"e1bdfd2a-8b78-4ef8-852f-2303c44050fd\" type=\"checkbox\" ><label class=\"sk-toggleable__label\" for=\"e1bdfd2a-8b78-4ef8-852f-2303c44050fd\">XGBClassifier</label><div class=\"sk-toggleable__content\"><pre>XGBClassifier(base_score=0.5, booster='gbtree', colsample_bylevel=1,\n",
       "              colsample_bynode=1, colsample_bytree=0.7, early_stopping_round=10,\n",
       "              gamma=0.5, gpu_id=-1, importance_type='gain',\n",
       "              interaction_constraints='', learning_rate=0.05, max_delta_step=0,\n",
       "              max_depth=8, min_child_weight=100, missing=nan,\n",
       "              monotone_constraints='()', n_estimators=350, n_jobs=4,\n",
       "              num_boost_round=10000, num_parallel_tree=1, random_state=0,\n",
       "              reg_alpha=0.0001, reg_lambda=1,\n",
       "              scale_pos_weight=4.233490094601913, subsample=0.9,\n",
       "              tree_method='auto', use_label_encoder=False,\n",
       "              validate_parameters=1, verbosity=1)</pre></div></div></div></div></div></div></div>"
      ],
      "text/plain": [
       "Pipeline(steps=[('preprocessing_pipe',\n",
       "                 ColumnTransformer(remainder='passthrough',\n",
       "                                   transformers=[('cat',\n",
       "                                                  Pipeline(steps=[('te',\n",
       "                                                                   TargetEncoder(cols=Index(['MONTH', 'DAY_OF_WEEK', 'OP_UNIQUE_CARRIER', 'ORIGIN', 'DEST',\n",
       "       'DEP_TIME_hour', 'ARR_TIME_hour', 'HourlySkyConditions_Origin',\n",
       "       'HourlySkyConditions_Dest'],\n",
       "      dtype='object')))]),\n",
       "                                                  Index(['MONTH', 'DAY_OF_WEEK', 'OP_U...\n",
       "                               interaction_constraints='', learning_rate=0.05,\n",
       "                               max_delta_step=0, max_depth=8,\n",
       "                               min_child_weight=100, missing=nan,\n",
       "                               monotone_constraints='()', n_estimators=350,\n",
       "                               n_jobs=4, num_boost_round=10000,\n",
       "                               num_parallel_tree=1, random_state=0,\n",
       "                               reg_alpha=0.0001, reg_lambda=1,\n",
       "                               scale_pos_weight=4.233490094601913,\n",
       "                               subsample=0.9, tree_method='auto',\n",
       "                               use_label_encoder=False, validate_parameters=1,\n",
       "                               verbosity=1))])"
      ]
     },
     "execution_count": 29,
     "metadata": {},
     "output_type": "execute_result"
    }
   ],
   "source": [
    "model = xgb_pipe_cv.best_estimator_\n",
    "model"
   ]
  },
  {
   "cell_type": "markdown",
   "metadata": {},
   "source": [
    "## Evaluation"
   ]
  },
  {
   "cell_type": "markdown",
   "metadata": {},
   "source": [
    "### Additional metrics results"
   ]
  },
  {
   "cell_type": "code",
   "execution_count": 30,
   "metadata": {
    "ExecuteTime": {
     "end_time": "2021-05-07T22:04:02.745972Z",
     "start_time": "2021-05-07T22:04:02.732982Z"
    }
   },
   "outputs": [],
   "source": [
    "# Evaluate the model's metrics:\n",
    "\n",
    "from sklearn.metrics import fbeta_score, f1_score, recall_score, precision_score, accuracy_score, \\\n",
    "                            confusion_matrix, classification_report, roc_curve, precision_recall_curve, \\\n",
    "                            roc_auc_score, average_precision_score, plot_roc_curve, plot_precision_recall_curve\n",
    "\n",
    "def clf_metrics(classifier, X_test, y_test, y_pred):\n",
    "    print(\"Confusion matrix:\\n\", confusion_matrix(y_test, y_pred))\n",
    "    print(\"Normalized confusion matrix:\\n\", confusion_matrix(y_test, y_pred, normalize='true'), '\\n')\n",
    "    print(classification_report(y_test, y_pred, target_names=['on-time', 'delayed']))\n",
    "    print(\"F-beta (ß=2) = {:6.3f}\".format(fbeta_score(y_test, y_pred, beta=2)))   \n",
    "    print(\"F1 =           {:6.3f}\".format(f1_score(y_test, y_pred)))   \n",
    "    print(\"Recall =       {:6.3f}\".format(recall_score(y_test, y_pred)))   \n",
    "    print(\"Precision =    {:6.3f}\".format(precision_score(y_test, y_pred)))   \n",
    "    print(\"Accuracy =     {:6.3f}\".format(accuracy_score(y_test, y_pred)))"
   ]
  },
  {
   "cell_type": "markdown",
   "metadata": {},
   "source": [
    "### Test"
   ]
  },
  {
   "cell_type": "code",
   "execution_count": 31,
   "metadata": {
    "ExecuteTime": {
     "end_time": "2021-05-07T22:05:07.044060Z",
     "start_time": "2021-05-07T22:04:02.750026Z"
    }
   },
   "outputs": [
    {
     "data": {
      "text/plain": [
       "array([0, 0, 0, ..., 0, 0, 1])"
      ]
     },
     "execution_count": 31,
     "metadata": {},
     "output_type": "execute_result"
    }
   ],
   "source": [
    "y_train_pred = model.predict(X_train)\n",
    "y_test_pred = model.predict(X_test)\n",
    "y_test_pred"
   ]
  },
  {
   "cell_type": "code",
   "execution_count": 32,
   "metadata": {
    "ExecuteTime": {
     "end_time": "2021-05-07T22:05:50.228863Z",
     "start_time": "2021-05-07T22:05:07.048059Z"
    },
    "scrolled": false
   },
   "outputs": [
    {
     "name": "stdout",
     "output_type": "stream",
     "text": [
      "-+-+-+ TRAINING dataset +-+-+-\n",
      "\n",
      "Confusion matrix:\n",
      " [[3261598 1397832]\n",
      " [ 379962  720650]]\n",
      "Normalized confusion matrix:\n",
      " [[0.69999936 0.30000064]\n",
      " [0.34522793 0.65477207]] \n",
      "\n",
      "              precision    recall  f1-score   support\n",
      "\n",
      "     on-time       0.90      0.70      0.79   4659430\n",
      "     delayed       0.34      0.65      0.45   1100612\n",
      "\n",
      "    accuracy                           0.69   5760042\n",
      "   macro avg       0.62      0.68      0.62   5760042\n",
      "weighted avg       0.79      0.69      0.72   5760042\n",
      "\n",
      "F-beta (ß=2) =  0.553\n",
      "F1 =            0.448\n",
      "Recall =        0.655\n",
      "Precision =     0.340\n",
      "Accuracy =      0.691\n",
      "-------------------------------------------------------\n",
      "\n",
      "-+-+-+ TEST dataset: +-+-+-\n",
      "\n",
      "Confusion matrix:\n",
      " [[812681 352177]\n",
      " [ 97053 178100]]\n",
      "Normalized confusion matrix:\n",
      " [[0.69766529 0.30233471]\n",
      " [0.35272376 0.64727624]] \n",
      "\n",
      "              precision    recall  f1-score   support\n",
      "\n",
      "     on-time       0.89      0.70      0.78   1164858\n",
      "     delayed       0.34      0.65      0.44    275153\n",
      "\n",
      "    accuracy                           0.69   1440011\n",
      "   macro avg       0.61      0.67      0.61   1440011\n",
      "weighted avg       0.79      0.69      0.72   1440011\n",
      "\n",
      "F-beta (ß=2) =  0.546\n",
      "F1 =            0.442\n",
      "Recall =        0.647\n",
      "Precision =     0.336\n",
      "Accuracy =      0.688\n"
     ]
    }
   ],
   "source": [
    "print(\"-+-+-+ TRAINING dataset +-+-+-\\n\")\n",
    "clf_metrics(model, X_train, y_train, y_train_pred)\n",
    "print(\"-------------------------------------------------------\\n\")\n",
    "print(\"-+-+-+ TEST dataset: +-+-+-\\n\")\n",
    "clf_metrics(model, X_test, y_test, y_test_pred)"
   ]
  },
  {
   "cell_type": "markdown",
   "metadata": {},
   "source": [
    "### ROC curve"
   ]
  },
  {
   "cell_type": "code",
   "execution_count": 33,
   "metadata": {
    "ExecuteTime": {
     "end_time": "2021-05-07T22:06:53.182750Z",
     "start_time": "2021-05-07T22:05:50.230860Z"
    }
   },
   "outputs": [
    {
     "data": {
      "text/plain": [
       "array([0.4095752 , 0.13136105, 0.2738529 , 0.36642787, 0.21218653,\n",
       "       0.5500075 , 0.3392435 , 0.41032758, 0.5410757 , 0.69336814],\n",
       "      dtype=float32)"
      ]
     },
     "execution_count": 33,
     "metadata": {},
     "output_type": "execute_result"
    }
   ],
   "source": [
    "y_train_probabilities = model.predict_proba(X_train)[:,1]\n",
    "y_test_probabilities = model.predict_proba(X_test)[:,1]\n",
    "y_test_probabilities[:10]"
   ]
  },
  {
   "cell_type": "code",
   "execution_count": 34,
   "metadata": {
    "ExecuteTime": {
     "end_time": "2021-05-07T22:09:10.676734Z",
     "start_time": "2021-05-07T22:06:53.186747Z"
    },
    "scrolled": false
   },
   "outputs": [
    {
     "data": {
      "text/plain": [
       "<matplotlib.legend.Legend at 0x17b06548cd0>"
      ]
     },
     "execution_count": 34,
     "metadata": {},
     "output_type": "execute_result"
    },
    {
     "data": {
      "image/png": "[encoded data removed]",
      "text/plain": [
       "<Figure size 1080x432 with 2 Axes>"
      ]
     },
     "metadata": {},
     "output_type": "display_data"
    }
   ],
   "source": [
    "# Plot the figure:\n",
    "fig, ax = plt.subplots(1, 2, figsize=(15,6))\n",
    "       \n",
    "plot_roc_curve(model, X_train, y_train, color='red', name='XGBoost_train', ax=ax[0])\n",
    "plot_roc_curve(model, X_test, y_test, color='blue', name='XGBoost_test', ax=ax[0])\n",
    "ax[0].plot([0,1], [0,1], color='orange', linestyle='--')\n",
    "\n",
    "ax[0].set_xticks(np.arange(0.0, 1.1, step=0.1))\n",
    "ax[0].set_xlabel(\"fpr\", fontsize=15)\n",
    "\n",
    "ax[0].set_yticks(np.arange(0.0, 1.1, step=0.1))\n",
    "ax[0].set_ylabel(\"tpr\", fontsize=15)\n",
    "\n",
    "ax[0].set_title('ROC Curve Analysis', fontweight='bold', fontsize=15)\n",
    "ax[0].legend(prop={'size':13}, loc='lower right')\n",
    "\n",
    "\n",
    "plot_precision_recall_curve(model, X_train, y_train, color='red', name='XGBoost_train', ax=ax[1])\n",
    "plot_precision_recall_curve(model, X_test, y_test, color='blue', name='XGBoost_test', ax=ax[1])\n",
    "ax[1].plot([0,1], [1,0], color='orange', linestyle='--')\n",
    "\n",
    "ax[1].set_xticks(np.arange(0.0, 1.1, step=0.1))\n",
    "ax[1].set_xlabel(\"Recall\", fontsize=15)\n",
    "\n",
    "ax[1].set_yticks(np.arange(0.0, 1.1, step=0.1))\n",
    "ax[1].set_ylabel(\"Precision\", fontsize=15)\n",
    "\n",
    "ax[1].set_title('Precision-Recall Curve Analysis', fontweight='bold', fontsize=15)\n",
    "ax[1].legend(prop={'size':13}, loc='lower left')"
   ]
  },
  {
   "cell_type": "code",
   "execution_count": 35,
   "metadata": {
    "ExecuteTime": {
     "end_time": "2021-05-07T22:09:10.692727Z",
     "start_time": "2021-05-07T22:09:10.679737Z"
    }
   },
   "outputs": [
    {
     "name": "stdout",
     "output_type": "stream",
     "text": [
      "Time elapsed:  4h 19min 32s\n"
     ]
    }
   ],
   "source": [
    "t1 = time.perf_counter() - t0\n",
    "print(\"Time elapsed: {:2.0f}h {:2.0f}min {:2.0f}s\".format(t1//3600, (t1%3600)//60, (t1%3600)%60))"
   ]
  },
  {
   "cell_type": "code",
   "execution_count": 36,
   "metadata": {
    "ExecuteTime": {
     "end_time": "2021-05-07T22:09:10.708721Z",
     "start_time": "2021-05-07T22:09:10.696729Z"
    }
   },
   "outputs": [
    {
     "name": "stdout",
     "output_type": "stream",
     "text": [
      "CPU: 73.0\n",
      "RAM: 48.4\n"
     ]
    }
   ],
   "source": [
    "import psutil\n",
    "\n",
    "# gives a single float value\n",
    "print(\"CPU:\", psutil.cpu_percent())\n",
    "print(\"RAM:\", psutil.virtual_memory().percent)"
   ]
  },
  {
   "cell_type": "markdown",
   "metadata": {},
   "source": [
    "## Feature importance analysis"
   ]
  },
  {
   "cell_type": "code",
   "execution_count": 37,
   "metadata": {
    "ExecuteTime": {
     "end_time": "2021-05-07T22:09:13.680699Z",
     "start_time": "2021-05-07T22:09:10.711720Z"
    }
   },
   "outputs": [
    {
     "data": {
      "text/html": [
       "<div>\n",
       "<style scoped>\n",
       "    .dataframe tbody tr th:only-of-type {\n",
       "        vertical-align: middle;\n",
       "    }\n",
       "\n",
       "    .dataframe tbody tr th {\n",
       "        vertical-align: top;\n",
       "    }\n",
       "\n",
       "    .dataframe thead th {\n",
       "        text-align: right;\n",
       "    }\n",
       "</style>\n",
       "<table border=\"1\" class=\"dataframe\">\n",
       "  <thead>\n",
       "    <tr style=\"text-align: right;\">\n",
       "      <th></th>\n",
       "      <th>MONTH</th>\n",
       "      <th>DAY_OF_WEEK</th>\n",
       "      <th>OP_UNIQUE_CARRIER</th>\n",
       "      <th>ORIGIN</th>\n",
       "      <th>DEST</th>\n",
       "      <th>DEP_TIME_hour</th>\n",
       "      <th>TAXI_OUT_median</th>\n",
       "      <th>TAXI_IN_median</th>\n",
       "      <th>ARR_TIME_hour</th>\n",
       "      <th>DISTANCE</th>\n",
       "      <th>HourlyAltimeterSetting_Origin</th>\n",
       "      <th>HourlyDryBulbTemperature_Origin</th>\n",
       "      <th>HourlyPrecipitation_Origin</th>\n",
       "      <th>HourlyRelativeHumidity_Origin</th>\n",
       "      <th>HourlySkyConditions_Origin</th>\n",
       "      <th>HourlyVisibility_Origin</th>\n",
       "      <th>HourlyWindGustSpeed_Origin</th>\n",
       "      <th>HourlyWindSpeed_Origin</th>\n",
       "      <th>HourlyAltimeterSetting_Dest</th>\n",
       "      <th>HourlyDryBulbTemperature_Dest</th>\n",
       "      <th>HourlyPrecipitation_Dest</th>\n",
       "      <th>HourlyRelativeHumidity_Dest</th>\n",
       "      <th>HourlySkyConditions_Dest</th>\n",
       "      <th>HourlyVisibility_Dest</th>\n",
       "      <th>HourlyWindGustSpeed_Dest</th>\n",
       "      <th>HourlyWindSpeed_Dest</th>\n",
       "    </tr>\n",
       "  </thead>\n",
       "  <tbody>\n",
       "    <tr>\n",
       "      <th>4025560</th>\n",
       "      <td>0.203230</td>\n",
       "      <td>0.187341</td>\n",
       "      <td>0.175138</td>\n",
       "      <td>0.215538</td>\n",
       "      <td>0.202783</td>\n",
       "      <td>0.216778</td>\n",
       "      <td>18</td>\n",
       "      <td>9</td>\n",
       "      <td>0.205905</td>\n",
       "      <td>266</td>\n",
       "      <td>30.36</td>\n",
       "      <td>42</td>\n",
       "      <td>0.0</td>\n",
       "      <td>65</td>\n",
       "      <td>0.210787</td>\n",
       "      <td>10</td>\n",
       "      <td>0</td>\n",
       "      <td>0</td>\n",
       "      <td>30.330</td>\n",
       "      <td>51</td>\n",
       "      <td>0.0</td>\n",
       "      <td>83</td>\n",
       "      <td>0.210328</td>\n",
       "      <td>9</td>\n",
       "      <td>0</td>\n",
       "      <td>14</td>\n",
       "    </tr>\n",
       "    <tr>\n",
       "      <th>4092176</th>\n",
       "      <td>0.206686</td>\n",
       "      <td>0.199943</td>\n",
       "      <td>0.175690</td>\n",
       "      <td>0.194632</td>\n",
       "      <td>0.191495</td>\n",
       "      <td>0.097364</td>\n",
       "      <td>9</td>\n",
       "      <td>4</td>\n",
       "      <td>0.093702</td>\n",
       "      <td>302</td>\n",
       "      <td>29.92</td>\n",
       "      <td>82</td>\n",
       "      <td>0.0</td>\n",
       "      <td>82</td>\n",
       "      <td>0.162082</td>\n",
       "      <td>10</td>\n",
       "      <td>0</td>\n",
       "      <td>3</td>\n",
       "      <td>30.020</td>\n",
       "      <td>83</td>\n",
       "      <td>0.0</td>\n",
       "      <td>82</td>\n",
       "      <td>0.191470</td>\n",
       "      <td>10</td>\n",
       "      <td>0</td>\n",
       "      <td>8</td>\n",
       "    </tr>\n",
       "    <tr>\n",
       "      <th>4144741</th>\n",
       "      <td>0.166527</td>\n",
       "      <td>0.193357</td>\n",
       "      <td>0.211218</td>\n",
       "      <td>0.201224</td>\n",
       "      <td>0.239949</td>\n",
       "      <td>0.132920</td>\n",
       "      <td>18</td>\n",
       "      <td>7</td>\n",
       "      <td>0.128292</td>\n",
       "      <td>399</td>\n",
       "      <td>30.29</td>\n",
       "      <td>67</td>\n",
       "      <td>0.0</td>\n",
       "      <td>73</td>\n",
       "      <td>0.210787</td>\n",
       "      <td>10</td>\n",
       "      <td>0</td>\n",
       "      <td>5</td>\n",
       "      <td>30.355</td>\n",
       "      <td>65</td>\n",
       "      <td>0.0</td>\n",
       "      <td>52</td>\n",
       "      <td>0.210328</td>\n",
       "      <td>9</td>\n",
       "      <td>0</td>\n",
       "      <td>13</td>\n",
       "    </tr>\n",
       "    <tr>\n",
       "      <th>2101069</th>\n",
       "      <td>0.166527</td>\n",
       "      <td>0.199943</td>\n",
       "      <td>0.188297</td>\n",
       "      <td>0.185936</td>\n",
       "      <td>0.154942</td>\n",
       "      <td>0.121289</td>\n",
       "      <td>13</td>\n",
       "      <td>6</td>\n",
       "      <td>0.112237</td>\n",
       "      <td>119</td>\n",
       "      <td>29.84</td>\n",
       "      <td>43</td>\n",
       "      <td>0.0</td>\n",
       "      <td>80</td>\n",
       "      <td>0.210787</td>\n",
       "      <td>10</td>\n",
       "      <td>22</td>\n",
       "      <td>10</td>\n",
       "      <td>29.790</td>\n",
       "      <td>37</td>\n",
       "      <td>0.0</td>\n",
       "      <td>79</td>\n",
       "      <td>0.210328</td>\n",
       "      <td>10</td>\n",
       "      <td>33</td>\n",
       "      <td>16</td>\n",
       "    </tr>\n",
       "    <tr>\n",
       "      <th>366778</th>\n",
       "      <td>0.166527</td>\n",
       "      <td>0.197904</td>\n",
       "      <td>0.144877</td>\n",
       "      <td>0.203359</td>\n",
       "      <td>0.141877</td>\n",
       "      <td>0.182829</td>\n",
       "      <td>14</td>\n",
       "      <td>8</td>\n",
       "      <td>0.171102</td>\n",
       "      <td>545</td>\n",
       "      <td>30.04</td>\n",
       "      <td>85</td>\n",
       "      <td>0.0</td>\n",
       "      <td>63</td>\n",
       "      <td>0.195033</td>\n",
       "      <td>10</td>\n",
       "      <td>0</td>\n",
       "      <td>15</td>\n",
       "      <td>30.090</td>\n",
       "      <td>78</td>\n",
       "      <td>0.0</td>\n",
       "      <td>37</td>\n",
       "      <td>0.191470</td>\n",
       "      <td>10</td>\n",
       "      <td>0</td>\n",
       "      <td>5</td>\n",
       "    </tr>\n",
       "    <tr>\n",
       "      <th>...</th>\n",
       "      <td>...</td>\n",
       "      <td>...</td>\n",
       "      <td>...</td>\n",
       "      <td>...</td>\n",
       "      <td>...</td>\n",
       "      <td>...</td>\n",
       "      <td>...</td>\n",
       "      <td>...</td>\n",
       "      <td>...</td>\n",
       "      <td>...</td>\n",
       "      <td>...</td>\n",
       "      <td>...</td>\n",
       "      <td>...</td>\n",
       "      <td>...</td>\n",
       "      <td>...</td>\n",
       "      <td>...</td>\n",
       "      <td>...</td>\n",
       "      <td>...</td>\n",
       "      <td>...</td>\n",
       "      <td>...</td>\n",
       "      <td>...</td>\n",
       "      <td>...</td>\n",
       "      <td>...</td>\n",
       "      <td>...</td>\n",
       "      <td>...</td>\n",
       "      <td>...</td>\n",
       "    </tr>\n",
       "    <tr>\n",
       "      <th>3860275</th>\n",
       "      <td>0.182505</td>\n",
       "      <td>0.187341</td>\n",
       "      <td>0.197953</td>\n",
       "      <td>0.164617</td>\n",
       "      <td>0.187192</td>\n",
       "      <td>0.191989</td>\n",
       "      <td>13</td>\n",
       "      <td>6</td>\n",
       "      <td>0.205905</td>\n",
       "      <td>935</td>\n",
       "      <td>30.06</td>\n",
       "      <td>77</td>\n",
       "      <td>0.0</td>\n",
       "      <td>66</td>\n",
       "      <td>0.153981</td>\n",
       "      <td>10</td>\n",
       "      <td>0</td>\n",
       "      <td>10</td>\n",
       "      <td>30.140</td>\n",
       "      <td>61</td>\n",
       "      <td>0.0</td>\n",
       "      <td>38</td>\n",
       "      <td>0.191470</td>\n",
       "      <td>10</td>\n",
       "      <td>0</td>\n",
       "      <td>10</td>\n",
       "    </tr>\n",
       "    <tr>\n",
       "      <th>6326813</th>\n",
       "      <td>0.182505</td>\n",
       "      <td>0.179067</td>\n",
       "      <td>0.144877</td>\n",
       "      <td>0.183860</td>\n",
       "      <td>0.152793</td>\n",
       "      <td>0.187207</td>\n",
       "      <td>14</td>\n",
       "      <td>7</td>\n",
       "      <td>0.111150</td>\n",
       "      <td>1749</td>\n",
       "      <td>30.00</td>\n",
       "      <td>52</td>\n",
       "      <td>0.0</td>\n",
       "      <td>72</td>\n",
       "      <td>0.162082</td>\n",
       "      <td>10</td>\n",
       "      <td>0</td>\n",
       "      <td>5</td>\n",
       "      <td>30.070</td>\n",
       "      <td>46</td>\n",
       "      <td>0.0</td>\n",
       "      <td>63</td>\n",
       "      <td>0.210328</td>\n",
       "      <td>10</td>\n",
       "      <td>0</td>\n",
       "      <td>6</td>\n",
       "    </tr>\n",
       "    <tr>\n",
       "      <th>3343931</th>\n",
       "      <td>0.203230</td>\n",
       "      <td>0.199943</td>\n",
       "      <td>0.188297</td>\n",
       "      <td>0.190369</td>\n",
       "      <td>0.152793</td>\n",
       "      <td>0.251337</td>\n",
       "      <td>14</td>\n",
       "      <td>9</td>\n",
       "      <td>0.250842</td>\n",
       "      <td>425</td>\n",
       "      <td>29.75</td>\n",
       "      <td>73</td>\n",
       "      <td>0.0</td>\n",
       "      <td>66</td>\n",
       "      <td>0.162082</td>\n",
       "      <td>10</td>\n",
       "      <td>0</td>\n",
       "      <td>13</td>\n",
       "      <td>29.930</td>\n",
       "      <td>58</td>\n",
       "      <td>0.0</td>\n",
       "      <td>65</td>\n",
       "      <td>0.210328</td>\n",
       "      <td>8</td>\n",
       "      <td>0</td>\n",
       "      <td>5</td>\n",
       "    </tr>\n",
       "    <tr>\n",
       "      <th>2801043</th>\n",
       "      <td>0.206686</td>\n",
       "      <td>0.197904</td>\n",
       "      <td>0.144877</td>\n",
       "      <td>0.156661</td>\n",
       "      <td>0.187981</td>\n",
       "      <td>0.143077</td>\n",
       "      <td>15</td>\n",
       "      <td>9</td>\n",
       "      <td>0.137651</td>\n",
       "      <td>1947</td>\n",
       "      <td>30.10</td>\n",
       "      <td>83</td>\n",
       "      <td>0.0</td>\n",
       "      <td>72</td>\n",
       "      <td>0.195033</td>\n",
       "      <td>10</td>\n",
       "      <td>0</td>\n",
       "      <td>7</td>\n",
       "      <td>29.960</td>\n",
       "      <td>76</td>\n",
       "      <td>0.0</td>\n",
       "      <td>60</td>\n",
       "      <td>0.163726</td>\n",
       "      <td>8</td>\n",
       "      <td>0</td>\n",
       "      <td>10</td>\n",
       "    </tr>\n",
       "    <tr>\n",
       "      <th>929777</th>\n",
       "      <td>0.230920</td>\n",
       "      <td>0.187341</td>\n",
       "      <td>0.253082</td>\n",
       "      <td>0.256715</td>\n",
       "      <td>0.239949</td>\n",
       "      <td>0.143077</td>\n",
       "      <td>21</td>\n",
       "      <td>6</td>\n",
       "      <td>0.145792</td>\n",
       "      <td>867</td>\n",
       "      <td>29.91</td>\n",
       "      <td>34</td>\n",
       "      <td>0.0</td>\n",
       "      <td>97</td>\n",
       "      <td>0.210787</td>\n",
       "      <td>5</td>\n",
       "      <td>0</td>\n",
       "      <td>8</td>\n",
       "      <td>30.260</td>\n",
       "      <td>38</td>\n",
       "      <td>0.0</td>\n",
       "      <td>62</td>\n",
       "      <td>0.191470</td>\n",
       "      <td>10</td>\n",
       "      <td>0</td>\n",
       "      <td>13</td>\n",
       "    </tr>\n",
       "  </tbody>\n",
       "</table>\n",
       "<p>1440011 rows × 26 columns</p>\n",
       "</div>"
      ],
      "text/plain": [
       "            MONTH  DAY_OF_WEEK  OP_UNIQUE_CARRIER    ORIGIN      DEST  \\\n",
       "4025560  0.203230     0.187341           0.175138  0.215538  0.202783   \n",
       "4092176  0.206686     0.199943           0.175690  0.194632  0.191495   \n",
       "4144741  0.166527     0.193357           0.211218  0.201224  0.239949   \n",
       "2101069  0.166527     0.199943           0.188297  0.185936  0.154942   \n",
       "366778   0.166527     0.197904           0.144877  0.203359  0.141877   \n",
       "...           ...          ...                ...       ...       ...   \n",
       "3860275  0.182505     0.187341           0.197953  0.164617  0.187192   \n",
       "6326813  0.182505     0.179067           0.144877  0.183860  0.152793   \n",
       "3343931  0.203230     0.199943           0.188297  0.190369  0.152793   \n",
       "2801043  0.206686     0.197904           0.144877  0.156661  0.187981   \n",
       "929777   0.230920     0.187341           0.253082  0.256715  0.239949   \n",
       "\n",
       "         DEP_TIME_hour  TAXI_OUT_median  TAXI_IN_median  ARR_TIME_hour  \\\n",
       "4025560       0.216778               18               9       0.205905   \n",
       "4092176       0.097364                9               4       0.093702   \n",
       "4144741       0.132920               18               7       0.128292   \n",
       "2101069       0.121289               13               6       0.112237   \n",
       "366778        0.182829               14               8       0.171102   \n",
       "...                ...              ...             ...            ...   \n",
       "3860275       0.191989               13               6       0.205905   \n",
       "6326813       0.187207               14               7       0.111150   \n",
       "3343931       0.251337               14               9       0.250842   \n",
       "2801043       0.143077               15               9       0.137651   \n",
       "929777        0.143077               21               6       0.145792   \n",
       "\n",
       "         DISTANCE  HourlyAltimeterSetting_Origin  \\\n",
       "4025560       266                          30.36   \n",
       "4092176       302                          29.92   \n",
       "4144741       399                          30.29   \n",
       "2101069       119                          29.84   \n",
       "366778        545                          30.04   \n",
       "...           ...                            ...   \n",
       "3860275       935                          30.06   \n",
       "6326813      1749                          30.00   \n",
       "3343931       425                          29.75   \n",
       "2801043      1947                          30.10   \n",
       "929777        867                          29.91   \n",
       "\n",
       "         HourlyDryBulbTemperature_Origin  HourlyPrecipitation_Origin  \\\n",
       "4025560                               42                         0.0   \n",
       "4092176                               82                         0.0   \n",
       "4144741                               67                         0.0   \n",
       "2101069                               43                         0.0   \n",
       "366778                                85                         0.0   \n",
       "...                                  ...                         ...   \n",
       "3860275                               77                         0.0   \n",
       "6326813                               52                         0.0   \n",
       "3343931                               73                         0.0   \n",
       "2801043                               83                         0.0   \n",
       "929777                                34                         0.0   \n",
       "\n",
       "         HourlyRelativeHumidity_Origin  HourlySkyConditions_Origin  \\\n",
       "4025560                             65                    0.210787   \n",
       "4092176                             82                    0.162082   \n",
       "4144741                             73                    0.210787   \n",
       "2101069                             80                    0.210787   \n",
       "366778                              63                    0.195033   \n",
       "...                                ...                         ...   \n",
       "3860275                             66                    0.153981   \n",
       "6326813                             72                    0.162082   \n",
       "3343931                             66                    0.162082   \n",
       "2801043                             72                    0.195033   \n",
       "929777                              97                    0.210787   \n",
       "\n",
       "         HourlyVisibility_Origin  HourlyWindGustSpeed_Origin  \\\n",
       "4025560                       10                           0   \n",
       "4092176                       10                           0   \n",
       "4144741                       10                           0   \n",
       "2101069                       10                          22   \n",
       "366778                        10                           0   \n",
       "...                          ...                         ...   \n",
       "3860275                       10                           0   \n",
       "6326813                       10                           0   \n",
       "3343931                       10                           0   \n",
       "2801043                       10                           0   \n",
       "929777                         5                           0   \n",
       "\n",
       "         HourlyWindSpeed_Origin  HourlyAltimeterSetting_Dest  \\\n",
       "4025560                       0                       30.330   \n",
       "4092176                       3                       30.020   \n",
       "4144741                       5                       30.355   \n",
       "2101069                      10                       29.790   \n",
       "366778                       15                       30.090   \n",
       "...                         ...                          ...   \n",
       "3860275                      10                       30.140   \n",
       "6326813                       5                       30.070   \n",
       "3343931                      13                       29.930   \n",
       "2801043                       7                       29.960   \n",
       "929777                        8                       30.260   \n",
       "\n",
       "         HourlyDryBulbTemperature_Dest  HourlyPrecipitation_Dest  \\\n",
       "4025560                             51                       0.0   \n",
       "4092176                             83                       0.0   \n",
       "4144741                             65                       0.0   \n",
       "2101069                             37                       0.0   \n",
       "366778                              78                       0.0   \n",
       "...                                ...                       ...   \n",
       "3860275                             61                       0.0   \n",
       "6326813                             46                       0.0   \n",
       "3343931                             58                       0.0   \n",
       "2801043                             76                       0.0   \n",
       "929777                              38                       0.0   \n",
       "\n",
       "         HourlyRelativeHumidity_Dest  HourlySkyConditions_Dest  \\\n",
       "4025560                           83                  0.210328   \n",
       "4092176                           82                  0.191470   \n",
       "4144741                           52                  0.210328   \n",
       "2101069                           79                  0.210328   \n",
       "366778                            37                  0.191470   \n",
       "...                              ...                       ...   \n",
       "3860275                           38                  0.191470   \n",
       "6326813                           63                  0.210328   \n",
       "3343931                           65                  0.210328   \n",
       "2801043                           60                  0.163726   \n",
       "929777                            62                  0.191470   \n",
       "\n",
       "         HourlyVisibility_Dest  HourlyWindGustSpeed_Dest  HourlyWindSpeed_Dest  \n",
       "4025560                      9                         0                    14  \n",
       "4092176                     10                         0                     8  \n",
       "4144741                      9                         0                    13  \n",
       "2101069                     10                        33                    16  \n",
       "366778                      10                         0                     5  \n",
       "...                        ...                       ...                   ...  \n",
       "3860275                     10                         0                    10  \n",
       "6326813                     10                         0                     6  \n",
       "3343931                      8                         0                     5  \n",
       "2801043                      8                         0                    10  \n",
       "929777                      10                         0                    13  \n",
       "\n",
       "[1440011 rows x 26 columns]"
      ]
     },
     "execution_count": 37,
     "metadata": {},
     "output_type": "execute_result"
    }
   ],
   "source": [
    "transformer = model[:-1]\n",
    "clf = model.named_steps['clf']\n",
    "\n",
    "X_test_categTransformed_df = pd.DataFrame(transformer.transform(X_test)[:, 0:9],\n",
    "                                          columns=cat_attribs, index=X_test.index)\n",
    "X_test_transformed = pd.concat([X_test_categTransformed_df, X_test[num_attribs]], axis=1)\n",
    "X_test_transformed = X_test_transformed[X.columns]\n",
    "X_test_transformed"
   ]
  },
  {
   "cell_type": "code",
   "execution_count": 38,
   "metadata": {
    "ExecuteTime": {
     "end_time": "2021-05-07T22:09:15.872432Z",
     "start_time": "2021-05-07T22:09:13.683697Z"
    }
   },
   "outputs": [
    {
     "data": {
      "image/png": "[encoded data removed]",
      "text/plain": [
       "<Figure size 720x720 with 1 Axes>"
      ]
     },
     "metadata": {},
     "output_type": "display_data"
    }
   ],
   "source": [
    "feat_importances = pd.Series(clf.feature_importances_, index=X.columns)\n",
    "feat_importances.nsmallest(X.shape[1]).plot(kind='barh', figsize=(10,10));"
   ]
  },
  {
   "cell_type": "markdown",
   "metadata": {},
   "source": [
    "___"
   ]
  },
  {
   "cell_type": "markdown",
   "metadata": {},
   "source": [
    "## Save the model"
   ]
  },
  {
   "cell_type": "code",
   "execution_count": 39,
   "metadata": {
    "ExecuteTime": {
     "end_time": "2021-05-07T22:09:16.389609Z",
     "start_time": "2021-05-07T22:09:15.875429Z"
    }
   },
   "outputs": [
    {
     "name": "stdout",
     "output_type": "stream",
     "text": [
      "Saved model to: XGBoost_pipeline_model.joblib.dat\n"
     ]
    }
   ],
   "source": [
    "from joblib import dump, load\n",
    "\n",
    "# Save model to file:\n",
    "dump(model, \"XGBoost_pipeline_model.joblib.dat\")\n",
    "print(\"Saved model to: XGBoost_pipeline_model.joblib.dat\")"
   ]
  },
  {
   "cell_type": "code",
   "execution_count": 40,
   "metadata": {
    "ExecuteTime": {
     "end_time": "2021-05-07T22:09:16.852922Z",
     "start_time": "2021-05-07T22:09:16.392614Z"
    }
   },
   "outputs": [
    {
     "name": "stdout",
     "output_type": "stream",
     "text": [
      "Loaded model from: XGBoost_pipeline_model.joblib.dat\n"
     ]
    }
   ],
   "source": [
    "# Load model from file:\n",
    "loaded_model = load(\"XGBoost_pipeline_model.joblib.dat\")\n",
    "print(\"Loaded model from: XGBoost_pipeline_model.joblib.dat\")"
   ]
  },
  {
   "cell_type": "code",
   "execution_count": 41,
   "metadata": {
    "ExecuteTime": {
     "end_time": "2021-05-07T22:09:29.655672Z",
     "start_time": "2021-05-07T22:09:16.855914Z"
    }
   },
   "outputs": [
    {
     "name": "stdout",
     "output_type": "stream",
     "text": [
      "Loaded model recall:  0.647\n"
     ]
    }
   ],
   "source": [
    "# Make predictions for test data\n",
    "predictions = loaded_model.predict(X_test)\n",
    "\n",
    "# Evaluate predictions:\n",
    "recall = recall_score(y_test, predictions)\n",
    "print(\"Loaded model recall: {:6.3f}\".format(recall))"
   ]
  },
  {
   "cell_type": "markdown",
   "metadata": {},
   "source": [
    "___"
   ]
  }
 ],
 "metadata": {
  "hide_input": false,
  "kernelspec": {
   "display_name": "Python 3",
   "language": "python",
   "name": "python3"
  },
  "language_info": {
   "codemirror_mode": {
    "name": "ipython",
    "version": 3
   },
   "file_extension": ".py",
   "mimetype": "text/x-python",
   "name": "python",
   "nbconvert_exporter": "python",
   "pygments_lexer": "ipython3",
   "version": "3.8.5"
  },
  "toc": {
   "base_numbering": 1,
   "nav_menu": {},
   "number_sections": true,
   "sideBar": true,
   "skip_h1_title": false,
   "title_cell": "Table of Contents",
   "title_sidebar": "Contents",
   "toc_cell": false,
   "toc_position": {
    "height": "calc(100% - 180px)",
    "left": "10px",
    "top": "150px",
    "width": "384px"
   },
   "toc_section_display": true,
   "toc_window_display": true
  },
  "varInspector": {
   "cols": {
    "lenName": 16,
    "lenType": 16,
    "lenVar": 40
   },
   "kernels_config": {
    "python": {
     "delete_cmd_postfix": "",
     "delete_cmd_prefix": "del ",
     "library": "var_list.py",
     "varRefreshCmd": "print(var_dic_list())"
    },
    "r": {
     "delete_cmd_postfix": ") ",
     "delete_cmd_prefix": "rm(",
     "library": "var_list.r",
     "varRefreshCmd": "cat(var_dic_list()) "
    }
   },
   "position": {
    "height": "829px",
    "left": "1550px",
    "right": "20px",
    "top": "113px",
    "width": "347px"
   },
   "types_to_exclude": [
    "module",
    "function",
    "builtin_function_or_method",
    "instance",
    "_Feature"
   ],
   "window_display": true
  }
 },
 "nbformat": 4,
 "nbformat_minor": 4
}
